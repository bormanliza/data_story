{
 "cells": [
  {
   "cell_type": "markdown",
   "metadata": {},
   "source": [
    "# Visuele componenten\n",
    "\n",
    "(Last updated: May 22, 2023)\n",
    "\n",
    "You can also create content with Jupyter Notebooks.\n",
    "This means that you can include code blocks and their outputs in your book.\n",
    "In this notebook, we show some examples of loading and plotting data.\n",
    "Check [this documentation](https://jupyterbook.org/en/stable/content/executable/index.html) about how to write executable content."
   ]
  },
  {
   "cell_type": "code",
   "execution_count": 1,
   "metadata": {},
   "outputs": [],
   "source": [
    "# Import packages\n",
    "import pandas as pd\n",
    "import matplotlib.pyplot as plt\n",
    "import plotly.express as px"
   ]
  },
  {
   "cell_type": "markdown",
   "metadata": {},
   "source": [
    "## Load data\n",
    "\n",
    "You can put your data at the same directory as the notebook file and then use `pandas` to load the data."
   ]
  },
  {
   "cell_type": "code",
   "execution_count": 2,
   "metadata": {},
   "outputs": [
    {
     "ename": "FileNotFoundError",
     "evalue": "[Errno 2] No such file or directory: 'GreenCities-Data.csv'",
     "output_type": "error",
     "traceback": [
      "\u001b[0;31m---------------------------------------------------------------------------\u001b[0m",
      "\u001b[0;31mFileNotFoundError\u001b[0m                         Traceback (most recent call last)",
      "Cell \u001b[0;32mIn[2], line 1\u001b[0m\n\u001b[0;32m----> 1\u001b[0m green_cities_df \u001b[38;5;241m=\u001b[39m \u001b[43mpd\u001b[49m\u001b[38;5;241;43m.\u001b[39;49m\u001b[43mread_csv\u001b[49m\u001b[43m(\u001b[49m\u001b[38;5;124;43m\"\u001b[39;49m\u001b[38;5;124;43mGreenCities-Data.csv\u001b[39;49m\u001b[38;5;124;43m\"\u001b[39;49m\u001b[43m)\u001b[49m\n\u001b[1;32m      2\u001b[0m green_cities_df\u001b[38;5;241m.\u001b[39mhead()\n",
      "File \u001b[0;32m~/miniconda3/envs/jupyterbook/lib/python3.10/site-packages/pandas/io/parsers/readers.py:1026\u001b[0m, in \u001b[0;36mread_csv\u001b[0;34m(filepath_or_buffer, sep, delimiter, header, names, index_col, usecols, dtype, engine, converters, true_values, false_values, skipinitialspace, skiprows, skipfooter, nrows, na_values, keep_default_na, na_filter, verbose, skip_blank_lines, parse_dates, infer_datetime_format, keep_date_col, date_parser, date_format, dayfirst, cache_dates, iterator, chunksize, compression, thousands, decimal, lineterminator, quotechar, quoting, doublequote, escapechar, comment, encoding, encoding_errors, dialect, on_bad_lines, delim_whitespace, low_memory, memory_map, float_precision, storage_options, dtype_backend)\u001b[0m\n\u001b[1;32m   1013\u001b[0m kwds_defaults \u001b[38;5;241m=\u001b[39m _refine_defaults_read(\n\u001b[1;32m   1014\u001b[0m     dialect,\n\u001b[1;32m   1015\u001b[0m     delimiter,\n\u001b[0;32m   (...)\u001b[0m\n\u001b[1;32m   1022\u001b[0m     dtype_backend\u001b[38;5;241m=\u001b[39mdtype_backend,\n\u001b[1;32m   1023\u001b[0m )\n\u001b[1;32m   1024\u001b[0m kwds\u001b[38;5;241m.\u001b[39mupdate(kwds_defaults)\n\u001b[0;32m-> 1026\u001b[0m \u001b[38;5;28;01mreturn\u001b[39;00m \u001b[43m_read\u001b[49m\u001b[43m(\u001b[49m\u001b[43mfilepath_or_buffer\u001b[49m\u001b[43m,\u001b[49m\u001b[43m \u001b[49m\u001b[43mkwds\u001b[49m\u001b[43m)\u001b[49m\n",
      "File \u001b[0;32m~/miniconda3/envs/jupyterbook/lib/python3.10/site-packages/pandas/io/parsers/readers.py:620\u001b[0m, in \u001b[0;36m_read\u001b[0;34m(filepath_or_buffer, kwds)\u001b[0m\n\u001b[1;32m    617\u001b[0m _validate_names(kwds\u001b[38;5;241m.\u001b[39mget(\u001b[38;5;124m\"\u001b[39m\u001b[38;5;124mnames\u001b[39m\u001b[38;5;124m\"\u001b[39m, \u001b[38;5;28;01mNone\u001b[39;00m))\n\u001b[1;32m    619\u001b[0m \u001b[38;5;66;03m# Create the parser.\u001b[39;00m\n\u001b[0;32m--> 620\u001b[0m parser \u001b[38;5;241m=\u001b[39m \u001b[43mTextFileReader\u001b[49m\u001b[43m(\u001b[49m\u001b[43mfilepath_or_buffer\u001b[49m\u001b[43m,\u001b[49m\u001b[43m \u001b[49m\u001b[38;5;241;43m*\u001b[39;49m\u001b[38;5;241;43m*\u001b[39;49m\u001b[43mkwds\u001b[49m\u001b[43m)\u001b[49m\n\u001b[1;32m    622\u001b[0m \u001b[38;5;28;01mif\u001b[39;00m chunksize \u001b[38;5;129;01mor\u001b[39;00m iterator:\n\u001b[1;32m    623\u001b[0m     \u001b[38;5;28;01mreturn\u001b[39;00m parser\n",
      "File \u001b[0;32m~/miniconda3/envs/jupyterbook/lib/python3.10/site-packages/pandas/io/parsers/readers.py:1620\u001b[0m, in \u001b[0;36mTextFileReader.__init__\u001b[0;34m(self, f, engine, **kwds)\u001b[0m\n\u001b[1;32m   1617\u001b[0m     \u001b[38;5;28mself\u001b[39m\u001b[38;5;241m.\u001b[39moptions[\u001b[38;5;124m\"\u001b[39m\u001b[38;5;124mhas_index_names\u001b[39m\u001b[38;5;124m\"\u001b[39m] \u001b[38;5;241m=\u001b[39m kwds[\u001b[38;5;124m\"\u001b[39m\u001b[38;5;124mhas_index_names\u001b[39m\u001b[38;5;124m\"\u001b[39m]\n\u001b[1;32m   1619\u001b[0m \u001b[38;5;28mself\u001b[39m\u001b[38;5;241m.\u001b[39mhandles: IOHandles \u001b[38;5;241m|\u001b[39m \u001b[38;5;28;01mNone\u001b[39;00m \u001b[38;5;241m=\u001b[39m \u001b[38;5;28;01mNone\u001b[39;00m\n\u001b[0;32m-> 1620\u001b[0m \u001b[38;5;28mself\u001b[39m\u001b[38;5;241m.\u001b[39m_engine \u001b[38;5;241m=\u001b[39m \u001b[38;5;28;43mself\u001b[39;49m\u001b[38;5;241;43m.\u001b[39;49m\u001b[43m_make_engine\u001b[49m\u001b[43m(\u001b[49m\u001b[43mf\u001b[49m\u001b[43m,\u001b[49m\u001b[43m \u001b[49m\u001b[38;5;28;43mself\u001b[39;49m\u001b[38;5;241;43m.\u001b[39;49m\u001b[43mengine\u001b[49m\u001b[43m)\u001b[49m\n",
      "File \u001b[0;32m~/miniconda3/envs/jupyterbook/lib/python3.10/site-packages/pandas/io/parsers/readers.py:1880\u001b[0m, in \u001b[0;36mTextFileReader._make_engine\u001b[0;34m(self, f, engine)\u001b[0m\n\u001b[1;32m   1878\u001b[0m     \u001b[38;5;28;01mif\u001b[39;00m \u001b[38;5;124m\"\u001b[39m\u001b[38;5;124mb\u001b[39m\u001b[38;5;124m\"\u001b[39m \u001b[38;5;129;01mnot\u001b[39;00m \u001b[38;5;129;01min\u001b[39;00m mode:\n\u001b[1;32m   1879\u001b[0m         mode \u001b[38;5;241m+\u001b[39m\u001b[38;5;241m=\u001b[39m \u001b[38;5;124m\"\u001b[39m\u001b[38;5;124mb\u001b[39m\u001b[38;5;124m\"\u001b[39m\n\u001b[0;32m-> 1880\u001b[0m \u001b[38;5;28mself\u001b[39m\u001b[38;5;241m.\u001b[39mhandles \u001b[38;5;241m=\u001b[39m \u001b[43mget_handle\u001b[49m\u001b[43m(\u001b[49m\n\u001b[1;32m   1881\u001b[0m \u001b[43m    \u001b[49m\u001b[43mf\u001b[49m\u001b[43m,\u001b[49m\n\u001b[1;32m   1882\u001b[0m \u001b[43m    \u001b[49m\u001b[43mmode\u001b[49m\u001b[43m,\u001b[49m\n\u001b[1;32m   1883\u001b[0m \u001b[43m    \u001b[49m\u001b[43mencoding\u001b[49m\u001b[38;5;241;43m=\u001b[39;49m\u001b[38;5;28;43mself\u001b[39;49m\u001b[38;5;241;43m.\u001b[39;49m\u001b[43moptions\u001b[49m\u001b[38;5;241;43m.\u001b[39;49m\u001b[43mget\u001b[49m\u001b[43m(\u001b[49m\u001b[38;5;124;43m\"\u001b[39;49m\u001b[38;5;124;43mencoding\u001b[39;49m\u001b[38;5;124;43m\"\u001b[39;49m\u001b[43m,\u001b[49m\u001b[43m \u001b[49m\u001b[38;5;28;43;01mNone\u001b[39;49;00m\u001b[43m)\u001b[49m\u001b[43m,\u001b[49m\n\u001b[1;32m   1884\u001b[0m \u001b[43m    \u001b[49m\u001b[43mcompression\u001b[49m\u001b[38;5;241;43m=\u001b[39;49m\u001b[38;5;28;43mself\u001b[39;49m\u001b[38;5;241;43m.\u001b[39;49m\u001b[43moptions\u001b[49m\u001b[38;5;241;43m.\u001b[39;49m\u001b[43mget\u001b[49m\u001b[43m(\u001b[49m\u001b[38;5;124;43m\"\u001b[39;49m\u001b[38;5;124;43mcompression\u001b[39;49m\u001b[38;5;124;43m\"\u001b[39;49m\u001b[43m,\u001b[49m\u001b[43m \u001b[49m\u001b[38;5;28;43;01mNone\u001b[39;49;00m\u001b[43m)\u001b[49m\u001b[43m,\u001b[49m\n\u001b[1;32m   1885\u001b[0m \u001b[43m    \u001b[49m\u001b[43mmemory_map\u001b[49m\u001b[38;5;241;43m=\u001b[39;49m\u001b[38;5;28;43mself\u001b[39;49m\u001b[38;5;241;43m.\u001b[39;49m\u001b[43moptions\u001b[49m\u001b[38;5;241;43m.\u001b[39;49m\u001b[43mget\u001b[49m\u001b[43m(\u001b[49m\u001b[38;5;124;43m\"\u001b[39;49m\u001b[38;5;124;43mmemory_map\u001b[39;49m\u001b[38;5;124;43m\"\u001b[39;49m\u001b[43m,\u001b[49m\u001b[43m \u001b[49m\u001b[38;5;28;43;01mFalse\u001b[39;49;00m\u001b[43m)\u001b[49m\u001b[43m,\u001b[49m\n\u001b[1;32m   1886\u001b[0m \u001b[43m    \u001b[49m\u001b[43mis_text\u001b[49m\u001b[38;5;241;43m=\u001b[39;49m\u001b[43mis_text\u001b[49m\u001b[43m,\u001b[49m\n\u001b[1;32m   1887\u001b[0m \u001b[43m    \u001b[49m\u001b[43merrors\u001b[49m\u001b[38;5;241;43m=\u001b[39;49m\u001b[38;5;28;43mself\u001b[39;49m\u001b[38;5;241;43m.\u001b[39;49m\u001b[43moptions\u001b[49m\u001b[38;5;241;43m.\u001b[39;49m\u001b[43mget\u001b[49m\u001b[43m(\u001b[49m\u001b[38;5;124;43m\"\u001b[39;49m\u001b[38;5;124;43mencoding_errors\u001b[39;49m\u001b[38;5;124;43m\"\u001b[39;49m\u001b[43m,\u001b[49m\u001b[43m \u001b[49m\u001b[38;5;124;43m\"\u001b[39;49m\u001b[38;5;124;43mstrict\u001b[39;49m\u001b[38;5;124;43m\"\u001b[39;49m\u001b[43m)\u001b[49m\u001b[43m,\u001b[49m\n\u001b[1;32m   1888\u001b[0m \u001b[43m    \u001b[49m\u001b[43mstorage_options\u001b[49m\u001b[38;5;241;43m=\u001b[39;49m\u001b[38;5;28;43mself\u001b[39;49m\u001b[38;5;241;43m.\u001b[39;49m\u001b[43moptions\u001b[49m\u001b[38;5;241;43m.\u001b[39;49m\u001b[43mget\u001b[49m\u001b[43m(\u001b[49m\u001b[38;5;124;43m\"\u001b[39;49m\u001b[38;5;124;43mstorage_options\u001b[39;49m\u001b[38;5;124;43m\"\u001b[39;49m\u001b[43m,\u001b[49m\u001b[43m \u001b[49m\u001b[38;5;28;43;01mNone\u001b[39;49;00m\u001b[43m)\u001b[49m\u001b[43m,\u001b[49m\n\u001b[1;32m   1889\u001b[0m \u001b[43m\u001b[49m\u001b[43m)\u001b[49m\n\u001b[1;32m   1890\u001b[0m \u001b[38;5;28;01massert\u001b[39;00m \u001b[38;5;28mself\u001b[39m\u001b[38;5;241m.\u001b[39mhandles \u001b[38;5;129;01mis\u001b[39;00m \u001b[38;5;129;01mnot\u001b[39;00m \u001b[38;5;28;01mNone\u001b[39;00m\n\u001b[1;32m   1891\u001b[0m f \u001b[38;5;241m=\u001b[39m \u001b[38;5;28mself\u001b[39m\u001b[38;5;241m.\u001b[39mhandles\u001b[38;5;241m.\u001b[39mhandle\n",
      "File \u001b[0;32m~/miniconda3/envs/jupyterbook/lib/python3.10/site-packages/pandas/io/common.py:873\u001b[0m, in \u001b[0;36mget_handle\u001b[0;34m(path_or_buf, mode, encoding, compression, memory_map, is_text, errors, storage_options)\u001b[0m\n\u001b[1;32m    868\u001b[0m \u001b[38;5;28;01melif\u001b[39;00m \u001b[38;5;28misinstance\u001b[39m(handle, \u001b[38;5;28mstr\u001b[39m):\n\u001b[1;32m    869\u001b[0m     \u001b[38;5;66;03m# Check whether the filename is to be opened in binary mode.\u001b[39;00m\n\u001b[1;32m    870\u001b[0m     \u001b[38;5;66;03m# Binary mode does not support 'encoding' and 'newline'.\u001b[39;00m\n\u001b[1;32m    871\u001b[0m     \u001b[38;5;28;01mif\u001b[39;00m ioargs\u001b[38;5;241m.\u001b[39mencoding \u001b[38;5;129;01mand\u001b[39;00m \u001b[38;5;124m\"\u001b[39m\u001b[38;5;124mb\u001b[39m\u001b[38;5;124m\"\u001b[39m \u001b[38;5;129;01mnot\u001b[39;00m \u001b[38;5;129;01min\u001b[39;00m ioargs\u001b[38;5;241m.\u001b[39mmode:\n\u001b[1;32m    872\u001b[0m         \u001b[38;5;66;03m# Encoding\u001b[39;00m\n\u001b[0;32m--> 873\u001b[0m         handle \u001b[38;5;241m=\u001b[39m \u001b[38;5;28;43mopen\u001b[39;49m\u001b[43m(\u001b[49m\n\u001b[1;32m    874\u001b[0m \u001b[43m            \u001b[49m\u001b[43mhandle\u001b[49m\u001b[43m,\u001b[49m\n\u001b[1;32m    875\u001b[0m \u001b[43m            \u001b[49m\u001b[43mioargs\u001b[49m\u001b[38;5;241;43m.\u001b[39;49m\u001b[43mmode\u001b[49m\u001b[43m,\u001b[49m\n\u001b[1;32m    876\u001b[0m \u001b[43m            \u001b[49m\u001b[43mencoding\u001b[49m\u001b[38;5;241;43m=\u001b[39;49m\u001b[43mioargs\u001b[49m\u001b[38;5;241;43m.\u001b[39;49m\u001b[43mencoding\u001b[49m\u001b[43m,\u001b[49m\n\u001b[1;32m    877\u001b[0m \u001b[43m            \u001b[49m\u001b[43merrors\u001b[49m\u001b[38;5;241;43m=\u001b[39;49m\u001b[43merrors\u001b[49m\u001b[43m,\u001b[49m\n\u001b[1;32m    878\u001b[0m \u001b[43m            \u001b[49m\u001b[43mnewline\u001b[49m\u001b[38;5;241;43m=\u001b[39;49m\u001b[38;5;124;43m\"\u001b[39;49m\u001b[38;5;124;43m\"\u001b[39;49m\u001b[43m,\u001b[49m\n\u001b[1;32m    879\u001b[0m \u001b[43m        \u001b[49m\u001b[43m)\u001b[49m\n\u001b[1;32m    880\u001b[0m     \u001b[38;5;28;01melse\u001b[39;00m:\n\u001b[1;32m    881\u001b[0m         \u001b[38;5;66;03m# Binary mode\u001b[39;00m\n\u001b[1;32m    882\u001b[0m         handle \u001b[38;5;241m=\u001b[39m \u001b[38;5;28mopen\u001b[39m(handle, ioargs\u001b[38;5;241m.\u001b[39mmode)\n",
      "\u001b[0;31mFileNotFoundError\u001b[0m: [Errno 2] No such file or directory: 'GreenCities-Data.csv'"
     ]
    }
   ],
   "source": [
    "green_cities_df = pd.read_csv(\"GreenCities-Data.csv\")\n",
    "green_cities_df.head()"
   ]
  },
  {
   "cell_type": "code",
   "execution_count": 44,
   "metadata": {},
   "outputs": [
    {
     "data": {
      "text/html": [
       "<div>\n",
       "<style scoped>\n",
       "    .dataframe tbody tr th:only-of-type {\n",
       "        vertical-align: middle;\n",
       "    }\n",
       "\n",
       "    .dataframe tbody tr th {\n",
       "        vertical-align: top;\n",
       "    }\n",
       "\n",
       "    .dataframe thead th {\n",
       "        text-align: right;\n",
       "    }\n",
       "</style>\n",
       "<table border=\"1\" class=\"dataframe\">\n",
       "  <thead>\n",
       "    <tr style=\"text-align: right;\">\n",
       "      <th></th>\n",
       "      <th>City</th>\n",
       "      <th>Month</th>\n",
       "      <th>Year</th>\n",
       "      <th>Decibel_Level</th>\n",
       "      <th>Traffic_Density</th>\n",
       "      <th>Green_Space_Area</th>\n",
       "      <th>Air_Quality_Index</th>\n",
       "      <th>Happiness_Score</th>\n",
       "      <th>Cost_of_Living_Index</th>\n",
       "      <th>Healthcare_Index</th>\n",
       "    </tr>\n",
       "  </thead>\n",
       "  <tbody>\n",
       "    <tr>\n",
       "      <th>0</th>\n",
       "      <td>New York</td>\n",
       "      <td>January</td>\n",
       "      <td>2024</td>\n",
       "      <td>70</td>\n",
       "      <td>High</td>\n",
       "      <td>35</td>\n",
       "      <td>40</td>\n",
       "      <td>6.5</td>\n",
       "      <td>100</td>\n",
       "      <td>80</td>\n",
       "    </tr>\n",
       "    <tr>\n",
       "      <th>1</th>\n",
       "      <td>Los Angeles</td>\n",
       "      <td>January</td>\n",
       "      <td>2024</td>\n",
       "      <td>65</td>\n",
       "      <td>Medium</td>\n",
       "      <td>40</td>\n",
       "      <td>50</td>\n",
       "      <td>6.8</td>\n",
       "      <td>90</td>\n",
       "      <td>75</td>\n",
       "    </tr>\n",
       "    <tr>\n",
       "      <th>2</th>\n",
       "      <td>Chicago</td>\n",
       "      <td>January</td>\n",
       "      <td>2024</td>\n",
       "      <td>60</td>\n",
       "      <td>Medium</td>\n",
       "      <td>30</td>\n",
       "      <td>55</td>\n",
       "      <td>7.0</td>\n",
       "      <td>85</td>\n",
       "      <td>70</td>\n",
       "    </tr>\n",
       "    <tr>\n",
       "      <th>3</th>\n",
       "      <td>London</td>\n",
       "      <td>January</td>\n",
       "      <td>2024</td>\n",
       "      <td>55</td>\n",
       "      <td>High</td>\n",
       "      <td>50</td>\n",
       "      <td>60</td>\n",
       "      <td>7.2</td>\n",
       "      <td>110</td>\n",
       "      <td>85</td>\n",
       "    </tr>\n",
       "    <tr>\n",
       "      <th>4</th>\n",
       "      <td>Paris</td>\n",
       "      <td>January</td>\n",
       "      <td>2024</td>\n",
       "      <td>60</td>\n",
       "      <td>High</td>\n",
       "      <td>45</td>\n",
       "      <td>65</td>\n",
       "      <td>6.9</td>\n",
       "      <td>95</td>\n",
       "      <td>80</td>\n",
       "    </tr>\n",
       "  </tbody>\n",
       "</table>\n",
       "</div>"
      ],
      "text/plain": [
       "          City    Month  Year  Decibel_Level Traffic_Density  \\\n",
       "0     New York  January  2024             70            High   \n",
       "1  Los Angeles  January  2024             65          Medium   \n",
       "2      Chicago  January  2024             60          Medium   \n",
       "3       London  January  2024             55            High   \n",
       "4        Paris  January  2024             60            High   \n",
       "\n",
       "   Green_Space_Area  Air_Quality_Index  Happiness_Score  Cost_of_Living_Index  \\\n",
       "0                35                 40              6.5                   100   \n",
       "1                40                 50              6.8                    90   \n",
       "2                30                 55              7.0                    85   \n",
       "3                50                 60              7.2                   110   \n",
       "4                45                 65              6.9                    95   \n",
       "\n",
       "   Healthcare_Index  \n",
       "0                80  \n",
       "1                75  \n",
       "2                70  \n",
       "3                85  \n",
       "4                80  "
      ]
     },
     "execution_count": 44,
     "metadata": {},
     "output_type": "execute_result"
    }
   ],
   "source": [
    "train_df = pd.read_csv('train.csv')\n",
    "train_df.head()"
   ]
  },
  {
   "cell_type": "markdown",
   "metadata": {},
   "source": [
    "## Plot data\n",
    "\n",
    "We set the repository in a way that you can use [Plotly](https://plotly.com/python/) for interactive visualizations.\n",
    "For more information, check [this documentation](https://jupyterbook.org/en/stable/interactive/interactive.html)."
   ]
  },
  {
   "cell_type": "code",
   "execution_count": 28,
   "metadata": {},
   "outputs": [
    {
     "data": {
      "application/vnd.plotly.v1+json": {
       "config": {
        "plotlyServerURL": "https://plot.ly"
       },
       "data": [
        {
         "alignmentgroup": "True",
         "hovertemplate": "Continent=%{x}<br>Overall Ranking=%{y}<extra></extra>",
         "legendgroup": "Europe",
         "marker": {
          "color": "#636efa",
          "pattern": {
           "shape": ""
          }
         },
         "name": "Europe",
         "offsetgroup": "Europe",
         "orientation": "v",
         "showlegend": true,
         "textposition": "auto",
         "type": "bar",
         "x": [
          "Europe",
          "Europe",
          "Europe",
          "Europe",
          "Europe",
          "Europe",
          "Europe",
          "Europe",
          "Europe",
          "Europe",
          "Europe",
          "Europe",
          "Europe",
          "Europe",
          "Europe",
          "Europe",
          "Europe",
          "Europe",
          "Europe",
          "Europe",
          "Europe",
          "Europe",
          "Europe",
          "Europe",
          "Europe",
          "Europe",
          "Europe",
          "Europe",
          "Europe",
          "Europe",
          "Europe",
          "Europe"
         ],
         "xaxis": "x",
         "y": [
          1,
          3,
          4,
          5,
          6,
          8,
          9,
          10,
          11,
          12,
          13,
          14,
          15,
          17,
          19,
          20,
          22,
          24,
          25,
          29,
          31,
          35,
          36,
          37,
          38,
          40,
          42,
          46,
          47,
          57,
          66,
          77
         ],
         "yaxis": "y"
        },
        {
         "alignmentgroup": "True",
         "hovertemplate": "Continent=%{x}<br>Overall Ranking=%{y}<extra></extra>",
         "legendgroup": "Asia",
         "marker": {
          "color": "#EF553B",
          "pattern": {
           "shape": ""
          }
         },
         "name": "Asia",
         "offsetgroup": "Asia",
         "orientation": "v",
         "showlegend": true,
         "textposition": "auto",
         "type": "bar",
         "x": [
          "Asia",
          "Asia",
          "Asia",
          "Asia",
          "Asia",
          "Asia",
          "Asia",
          "Asia",
          "Asia",
          "Asia",
          "Asia",
          "Asia",
          "Asia",
          "Asia",
          "Asia",
          "Asia",
          "Asia",
          "Asia",
          "Asia",
          "Asia",
          "Asia",
          "Asia",
          "Asia"
         ],
         "xaxis": "x",
         "y": [
          2,
          7,
          16,
          41,
          45,
          48,
          55,
          64,
          67,
          73,
          74,
          78,
          85,
          87,
          88,
          89,
          91,
          92,
          93,
          94,
          96,
          97,
          100
         ],
         "yaxis": "y"
        },
        {
         "alignmentgroup": "True",
         "hovertemplate": "Continent=%{x}<br>Overall Ranking=%{y}<extra></extra>",
         "legendgroup": "Oceania",
         "marker": {
          "color": "#00cc96",
          "pattern": {
           "shape": ""
          }
         },
         "name": "Oceania",
         "offsetgroup": "Oceania",
         "orientation": "v",
         "showlegend": true,
         "textposition": "auto",
         "type": "bar",
         "x": [
          "Oceania",
          "Oceania",
          "Oceania",
          "Oceania",
          "Oceania"
         ],
         "xaxis": "x",
         "y": [
          18,
          21,
          27,
          30,
          32
         ],
         "yaxis": "y"
        },
        {
         "alignmentgroup": "True",
         "hovertemplate": "Continent=%{x}<br>Overall Ranking=%{y}<extra></extra>",
         "legendgroup": "North America",
         "marker": {
          "color": "#ab63fa",
          "pattern": {
           "shape": ""
          }
         },
         "name": "North America",
         "offsetgroup": "North America",
         "orientation": "v",
         "showlegend": true,
         "textposition": "auto",
         "type": "bar",
         "x": [
          "North America",
          "North America",
          "North America",
          "North America",
          "North America",
          "North America",
          "North America",
          "North America",
          "North America",
          "North America",
          "North America",
          "North America",
          "North America",
          "North America",
          "North America",
          "North America",
          "North America",
          "North America",
          "North America",
          "North America",
          "North America",
          "North America",
          "North America"
         ],
         "xaxis": "x",
         "y": [
          23,
          26,
          28,
          33,
          34,
          39,
          43,
          44,
          49,
          50,
          51,
          53,
          54,
          56,
          59,
          60,
          61,
          62,
          63,
          65,
          68,
          69,
          84
         ],
         "yaxis": "y"
        },
        {
         "alignmentgroup": "True",
         "hovertemplate": "Continent=%{x}<br>Overall Ranking=%{y}<extra></extra>",
         "legendgroup": "Middle East",
         "marker": {
          "color": "#FFA15A",
          "pattern": {
           "shape": ""
          }
         },
         "name": "Middle East",
         "offsetgroup": "Middle East",
         "orientation": "v",
         "showlegend": true,
         "textposition": "auto",
         "type": "bar",
         "x": [
          "Middle East",
          "Middle East",
          "Middle East",
          "Middle East",
          "Middle East",
          "Middle East",
          "Middle East",
          "Middle East"
         ],
         "xaxis": "x",
         "y": [
          52,
          58,
          70,
          72,
          75,
          76,
          81,
          86
         ],
         "yaxis": "y"
        },
        {
         "alignmentgroup": "True",
         "hovertemplate": "Continent=%{x}<br>Overall Ranking=%{y}<extra></extra>",
         "legendgroup": "South America",
         "marker": {
          "color": "#19d3f3",
          "pattern": {
           "shape": ""
          }
         },
         "name": "South America",
         "offsetgroup": "South America",
         "orientation": "v",
         "showlegend": true,
         "textposition": "auto",
         "type": "bar",
         "x": [
          "South America",
          "South America",
          "South America",
          "South America",
          "South America"
         ],
         "xaxis": "x",
         "y": [
          71,
          79,
          80,
          82,
          83
         ],
         "yaxis": "y"
        },
        {
         "alignmentgroup": "True",
         "hovertemplate": "Continent=%{x}<br>Overall Ranking=%{y}<extra></extra>",
         "legendgroup": "Africa",
         "marker": {
          "color": "#FF6692",
          "pattern": {
           "shape": ""
          }
         },
         "name": "Africa",
         "offsetgroup": "Africa",
         "orientation": "v",
         "showlegend": true,
         "textposition": "auto",
         "type": "bar",
         "x": [
          "Africa",
          "Africa",
          "Africa",
          "Africa"
         ],
         "xaxis": "x",
         "y": [
          90,
          95,
          98,
          99
         ],
         "yaxis": "y"
        }
       ],
       "layout": {
        "barmode": "relative",
        "height": 400,
        "legend": {
         "title": {
          "text": "Continent"
         },
         "tracegroupgap": 0
        },
        "template": {
         "data": {
          "bar": [
           {
            "error_x": {
             "color": "#2a3f5f"
            },
            "error_y": {
             "color": "#2a3f5f"
            },
            "marker": {
             "line": {
              "color": "#E5ECF6",
              "width": 0.5
             },
             "pattern": {
              "fillmode": "overlay",
              "size": 10,
              "solidity": 0.2
             }
            },
            "type": "bar"
           }
          ],
          "barpolar": [
           {
            "marker": {
             "line": {
              "color": "#E5ECF6",
              "width": 0.5
             },
             "pattern": {
              "fillmode": "overlay",
              "size": 10,
              "solidity": 0.2
             }
            },
            "type": "barpolar"
           }
          ],
          "carpet": [
           {
            "aaxis": {
             "endlinecolor": "#2a3f5f",
             "gridcolor": "white",
             "linecolor": "white",
             "minorgridcolor": "white",
             "startlinecolor": "#2a3f5f"
            },
            "baxis": {
             "endlinecolor": "#2a3f5f",
             "gridcolor": "white",
             "linecolor": "white",
             "minorgridcolor": "white",
             "startlinecolor": "#2a3f5f"
            },
            "type": "carpet"
           }
          ],
          "choropleth": [
           {
            "colorbar": {
             "outlinewidth": 0,
             "ticks": ""
            },
            "type": "choropleth"
           }
          ],
          "contour": [
           {
            "colorbar": {
             "outlinewidth": 0,
             "ticks": ""
            },
            "colorscale": [
             [
              0,
              "#0d0887"
             ],
             [
              0.1111111111111111,
              "#46039f"
             ],
             [
              0.2222222222222222,
              "#7201a8"
             ],
             [
              0.3333333333333333,
              "#9c179e"
             ],
             [
              0.4444444444444444,
              "#bd3786"
             ],
             [
              0.5555555555555556,
              "#d8576b"
             ],
             [
              0.6666666666666666,
              "#ed7953"
             ],
             [
              0.7777777777777778,
              "#fb9f3a"
             ],
             [
              0.8888888888888888,
              "#fdca26"
             ],
             [
              1,
              "#f0f921"
             ]
            ],
            "type": "contour"
           }
          ],
          "contourcarpet": [
           {
            "colorbar": {
             "outlinewidth": 0,
             "ticks": ""
            },
            "type": "contourcarpet"
           }
          ],
          "heatmap": [
           {
            "colorbar": {
             "outlinewidth": 0,
             "ticks": ""
            },
            "colorscale": [
             [
              0,
              "#0d0887"
             ],
             [
              0.1111111111111111,
              "#46039f"
             ],
             [
              0.2222222222222222,
              "#7201a8"
             ],
             [
              0.3333333333333333,
              "#9c179e"
             ],
             [
              0.4444444444444444,
              "#bd3786"
             ],
             [
              0.5555555555555556,
              "#d8576b"
             ],
             [
              0.6666666666666666,
              "#ed7953"
             ],
             [
              0.7777777777777778,
              "#fb9f3a"
             ],
             [
              0.8888888888888888,
              "#fdca26"
             ],
             [
              1,
              "#f0f921"
             ]
            ],
            "type": "heatmap"
           }
          ],
          "heatmapgl": [
           {
            "colorbar": {
             "outlinewidth": 0,
             "ticks": ""
            },
            "colorscale": [
             [
              0,
              "#0d0887"
             ],
             [
              0.1111111111111111,
              "#46039f"
             ],
             [
              0.2222222222222222,
              "#7201a8"
             ],
             [
              0.3333333333333333,
              "#9c179e"
             ],
             [
              0.4444444444444444,
              "#bd3786"
             ],
             [
              0.5555555555555556,
              "#d8576b"
             ],
             [
              0.6666666666666666,
              "#ed7953"
             ],
             [
              0.7777777777777778,
              "#fb9f3a"
             ],
             [
              0.8888888888888888,
              "#fdca26"
             ],
             [
              1,
              "#f0f921"
             ]
            ],
            "type": "heatmapgl"
           }
          ],
          "histogram": [
           {
            "marker": {
             "pattern": {
              "fillmode": "overlay",
              "size": 10,
              "solidity": 0.2
             }
            },
            "type": "histogram"
           }
          ],
          "histogram2d": [
           {
            "colorbar": {
             "outlinewidth": 0,
             "ticks": ""
            },
            "colorscale": [
             [
              0,
              "#0d0887"
             ],
             [
              0.1111111111111111,
              "#46039f"
             ],
             [
              0.2222222222222222,
              "#7201a8"
             ],
             [
              0.3333333333333333,
              "#9c179e"
             ],
             [
              0.4444444444444444,
              "#bd3786"
             ],
             [
              0.5555555555555556,
              "#d8576b"
             ],
             [
              0.6666666666666666,
              "#ed7953"
             ],
             [
              0.7777777777777778,
              "#fb9f3a"
             ],
             [
              0.8888888888888888,
              "#fdca26"
             ],
             [
              1,
              "#f0f921"
             ]
            ],
            "type": "histogram2d"
           }
          ],
          "histogram2dcontour": [
           {
            "colorbar": {
             "outlinewidth": 0,
             "ticks": ""
            },
            "colorscale": [
             [
              0,
              "#0d0887"
             ],
             [
              0.1111111111111111,
              "#46039f"
             ],
             [
              0.2222222222222222,
              "#7201a8"
             ],
             [
              0.3333333333333333,
              "#9c179e"
             ],
             [
              0.4444444444444444,
              "#bd3786"
             ],
             [
              0.5555555555555556,
              "#d8576b"
             ],
             [
              0.6666666666666666,
              "#ed7953"
             ],
             [
              0.7777777777777778,
              "#fb9f3a"
             ],
             [
              0.8888888888888888,
              "#fdca26"
             ],
             [
              1,
              "#f0f921"
             ]
            ],
            "type": "histogram2dcontour"
           }
          ],
          "mesh3d": [
           {
            "colorbar": {
             "outlinewidth": 0,
             "ticks": ""
            },
            "type": "mesh3d"
           }
          ],
          "parcoords": [
           {
            "line": {
             "colorbar": {
              "outlinewidth": 0,
              "ticks": ""
             }
            },
            "type": "parcoords"
           }
          ],
          "pie": [
           {
            "automargin": true,
            "type": "pie"
           }
          ],
          "scatter": [
           {
            "fillpattern": {
             "fillmode": "overlay",
             "size": 10,
             "solidity": 0.2
            },
            "type": "scatter"
           }
          ],
          "scatter3d": [
           {
            "line": {
             "colorbar": {
              "outlinewidth": 0,
              "ticks": ""
             }
            },
            "marker": {
             "colorbar": {
              "outlinewidth": 0,
              "ticks": ""
             }
            },
            "type": "scatter3d"
           }
          ],
          "scattercarpet": [
           {
            "marker": {
             "colorbar": {
              "outlinewidth": 0,
              "ticks": ""
             }
            },
            "type": "scattercarpet"
           }
          ],
          "scattergeo": [
           {
            "marker": {
             "colorbar": {
              "outlinewidth": 0,
              "ticks": ""
             }
            },
            "type": "scattergeo"
           }
          ],
          "scattergl": [
           {
            "marker": {
             "colorbar": {
              "outlinewidth": 0,
              "ticks": ""
             }
            },
            "type": "scattergl"
           }
          ],
          "scattermapbox": [
           {
            "marker": {
             "colorbar": {
              "outlinewidth": 0,
              "ticks": ""
             }
            },
            "type": "scattermapbox"
           }
          ],
          "scatterpolar": [
           {
            "marker": {
             "colorbar": {
              "outlinewidth": 0,
              "ticks": ""
             }
            },
            "type": "scatterpolar"
           }
          ],
          "scatterpolargl": [
           {
            "marker": {
             "colorbar": {
              "outlinewidth": 0,
              "ticks": ""
             }
            },
            "type": "scatterpolargl"
           }
          ],
          "scatterternary": [
           {
            "marker": {
             "colorbar": {
              "outlinewidth": 0,
              "ticks": ""
             }
            },
            "type": "scatterternary"
           }
          ],
          "surface": [
           {
            "colorbar": {
             "outlinewidth": 0,
             "ticks": ""
            },
            "colorscale": [
             [
              0,
              "#0d0887"
             ],
             [
              0.1111111111111111,
              "#46039f"
             ],
             [
              0.2222222222222222,
              "#7201a8"
             ],
             [
              0.3333333333333333,
              "#9c179e"
             ],
             [
              0.4444444444444444,
              "#bd3786"
             ],
             [
              0.5555555555555556,
              "#d8576b"
             ],
             [
              0.6666666666666666,
              "#ed7953"
             ],
             [
              0.7777777777777778,
              "#fb9f3a"
             ],
             [
              0.8888888888888888,
              "#fdca26"
             ],
             [
              1,
              "#f0f921"
             ]
            ],
            "type": "surface"
           }
          ],
          "table": [
           {
            "cells": {
             "fill": {
              "color": "#EBF0F8"
             },
             "line": {
              "color": "white"
             }
            },
            "header": {
             "fill": {
              "color": "#C8D4E3"
             },
             "line": {
              "color": "white"
             }
            },
            "type": "table"
           }
          ]
         },
         "layout": {
          "annotationdefaults": {
           "arrowcolor": "#2a3f5f",
           "arrowhead": 0,
           "arrowwidth": 1
          },
          "autotypenumbers": "strict",
          "coloraxis": {
           "colorbar": {
            "outlinewidth": 0,
            "ticks": ""
           }
          },
          "colorscale": {
           "diverging": [
            [
             0,
             "#8e0152"
            ],
            [
             0.1,
             "#c51b7d"
            ],
            [
             0.2,
             "#de77ae"
            ],
            [
             0.3,
             "#f1b6da"
            ],
            [
             0.4,
             "#fde0ef"
            ],
            [
             0.5,
             "#f7f7f7"
            ],
            [
             0.6,
             "#e6f5d0"
            ],
            [
             0.7,
             "#b8e186"
            ],
            [
             0.8,
             "#7fbc41"
            ],
            [
             0.9,
             "#4d9221"
            ],
            [
             1,
             "#276419"
            ]
           ],
           "sequential": [
            [
             0,
             "#0d0887"
            ],
            [
             0.1111111111111111,
             "#46039f"
            ],
            [
             0.2222222222222222,
             "#7201a8"
            ],
            [
             0.3333333333333333,
             "#9c179e"
            ],
            [
             0.4444444444444444,
             "#bd3786"
            ],
            [
             0.5555555555555556,
             "#d8576b"
            ],
            [
             0.6666666666666666,
             "#ed7953"
            ],
            [
             0.7777777777777778,
             "#fb9f3a"
            ],
            [
             0.8888888888888888,
             "#fdca26"
            ],
            [
             1,
             "#f0f921"
            ]
           ],
           "sequentialminus": [
            [
             0,
             "#0d0887"
            ],
            [
             0.1111111111111111,
             "#46039f"
            ],
            [
             0.2222222222222222,
             "#7201a8"
            ],
            [
             0.3333333333333333,
             "#9c179e"
            ],
            [
             0.4444444444444444,
             "#bd3786"
            ],
            [
             0.5555555555555556,
             "#d8576b"
            ],
            [
             0.6666666666666666,
             "#ed7953"
            ],
            [
             0.7777777777777778,
             "#fb9f3a"
            ],
            [
             0.8888888888888888,
             "#fdca26"
            ],
            [
             1,
             "#f0f921"
            ]
           ]
          },
          "colorway": [
           "#636efa",
           "#EF553B",
           "#00cc96",
           "#ab63fa",
           "#FFA15A",
           "#19d3f3",
           "#FF6692",
           "#B6E880",
           "#FF97FF",
           "#FECB52"
          ],
          "font": {
           "color": "#2a3f5f"
          },
          "geo": {
           "bgcolor": "white",
           "lakecolor": "white",
           "landcolor": "#E5ECF6",
           "showlakes": true,
           "showland": true,
           "subunitcolor": "white"
          },
          "hoverlabel": {
           "align": "left"
          },
          "hovermode": "closest",
          "mapbox": {
           "style": "light"
          },
          "paper_bgcolor": "white",
          "plot_bgcolor": "#E5ECF6",
          "polar": {
           "angularaxis": {
            "gridcolor": "white",
            "linecolor": "white",
            "ticks": ""
           },
           "bgcolor": "#E5ECF6",
           "radialaxis": {
            "gridcolor": "white",
            "linecolor": "white",
            "ticks": ""
           }
          },
          "scene": {
           "xaxis": {
            "backgroundcolor": "#E5ECF6",
            "gridcolor": "white",
            "gridwidth": 2,
            "linecolor": "white",
            "showbackground": true,
            "ticks": "",
            "zerolinecolor": "white"
           },
           "yaxis": {
            "backgroundcolor": "#E5ECF6",
            "gridcolor": "white",
            "gridwidth": 2,
            "linecolor": "white",
            "showbackground": true,
            "ticks": "",
            "zerolinecolor": "white"
           },
           "zaxis": {
            "backgroundcolor": "#E5ECF6",
            "gridcolor": "white",
            "gridwidth": 2,
            "linecolor": "white",
            "showbackground": true,
            "ticks": "",
            "zerolinecolor": "white"
           }
          },
          "shapedefaults": {
           "line": {
            "color": "#2a3f5f"
           }
          },
          "ternary": {
           "aaxis": {
            "gridcolor": "white",
            "linecolor": "white",
            "ticks": ""
           },
           "baxis": {
            "gridcolor": "white",
            "linecolor": "white",
            "ticks": ""
           },
           "bgcolor": "#E5ECF6",
           "caxis": {
            "gridcolor": "white",
            "linecolor": "white",
            "ticks": ""
           }
          },
          "title": {
           "x": 0.05
          },
          "xaxis": {
           "automargin": true,
           "gridcolor": "white",
           "linecolor": "white",
           "ticks": "",
           "title": {
            "standoff": 15
           },
           "zerolinecolor": "white",
           "zerolinewidth": 2
          },
          "yaxis": {
           "automargin": true,
           "gridcolor": "white",
           "linecolor": "white",
           "ticks": "",
           "title": {
            "standoff": 15
           },
           "zerolinecolor": "white",
           "zerolinewidth": 2
          }
         }
        },
        "title": {
         "text": "Overall Green City Rankings by Continent"
        },
        "xaxis": {
         "anchor": "y",
         "categoryarray": [
          "Europe",
          "Asia",
          "Oceania",
          "North America",
          "Middle East",
          "South America",
          "Africa"
         ],
         "categoryorder": "array",
         "domain": [
          0,
          1
         ],
         "title": {
          "text": "Continent"
         }
        },
        "yaxis": {
         "anchor": "x",
         "domain": [
          0,
          1
         ],
         "title": {
          "text": "Overall Ranking"
         }
        }
       }
      }
     },
     "metadata": {},
     "output_type": "display_data"
    }
   ],
   "source": [
    "bar = px.bar(green_cities_df, x='Continent', y='Overall', color='Continent', \n",
    "              title='Overall Green City Rankings by Continent', \n",
    "              labels={'Overall':'Overall Ranking', 'Continent':'Continent'},\n",
    "              height=400)\n",
    "\n",
    "bar.show()"
   ]
  },
  {
   "cell_type": "code",
   "execution_count": 30,
   "metadata": {},
   "outputs": [
    {
     "data": {
      "image/png": "[encoded data removed]",
      "text/plain": [
       "<Figure size 1000x600 with 1 Axes>"
      ]
     },
     "metadata": {},
     "output_type": "display_data"
    }
   ],
   "source": [
    "plt.figure(figsize=(10, 6))\n",
    "plt.scatter(green_cities_df['People'], green_cities_df['Planet'], alpha=0.6, edgecolors='w', linewidth=0.5)\n",
    "\n",
    "# Adding labels and title\n",
    "plt.title('Scatter Plot of People vs. Planet Scores')\n",
    "plt.xlabel('People Score')\n",
    "plt.ylabel('Planet Score')\n",
    "\n",
    "# Show the plot\n",
    "plt.grid(True)\n",
    "plt.show()"
   ]
  },
  {
   "cell_type": "code",
   "execution_count": 39,
   "metadata": {},
   "outputs": [
    {
     "data": {
      "application/vnd.plotly.v1+json": {
       "config": {
        "plotlyServerURL": "https://plot.ly"
       },
       "data": [
        {
         "alignmentgroup": "True",
         "hovertemplate": "City=%{x}<br>Decibel Level=%{y}<extra></extra>",
         "legendgroup": "",
         "marker": {
          "color": "#636efa"
         },
         "name": "",
         "notched": false,
         "offsetgroup": "",
         "orientation": "v",
         "showlegend": false,
         "type": "box",
         "x": [
          "New York",
          "Los Angeles",
          "Chicago",
          "London",
          "Paris",
          "Berlin",
          "Tokyo",
          "Seoul",
          "Mumbai",
          "Sydney",
          "Istanbul",
          "Rio de Janeiro",
          "Toronto",
          "Mexico City",
          "Cape Town",
          "Bangkok",
          "Buenos Aires",
          "Amsterdam",
          "Cairo",
          "Moscow",
          "Singapore",
          "Dubai",
          "Hong Kong",
          "Barcelona",
          "Lisbon",
          "Melbourne",
          "Auckland",
          "Rome",
          "Athens",
          "Vienna",
          "Dublin",
          "Copenhagen",
          "Stockholm",
          "Oslo",
          "Helsinki",
          "Prague",
          "Budapest",
          "Warsaw",
          "Sofia",
          "Belgrade",
          "São Paulo",
          "Lima",
          "Santiago",
          "Bogota",
          "Caracas",
          "Quito",
          "Panama City",
          "Kingston",
          "Havana",
          "Santo Domingo",
          "San Juan",
          "Manila",
          "Jakarta",
          "Kuala Lumpur",
          "Taipei",
          "Shanghai",
          "Beijing",
          "New Delhi",
          "Tehran",
          "Karachi",
          "Dhaka",
          "Colombo",
          "Islamabad",
          "Kathmandu",
          "Yangon",
          "Hanoi",
          "Phnom Penh",
          "Vientiane",
          "Bangalore",
          "Ho Chi Minh City",
          "Jakarta",
          "Perth",
          "Adelaide",
          "Brisbane",
          "Canberra",
          "Wellington",
          "Christchurch",
          "Dunedin",
          "Queenstown",
          "Nelson",
          "Napier",
          "Hamilton",
          "Tauranga",
          "Rotorua",
          "Palmerston North",
          "New Plymouth",
          "Lower Hutt",
          "Napier",
          "Gisborne",
          "Kawerau",
          "Putaruru",
          "Taupo",
          "Tokoroa",
          "Te Kuiti",
          "Otorohanga",
          "Te Awamutu",
          "Cambridge",
          "Matamata",
          "Te Aroha",
          "Paeroa",
          "Waihi",
          "Whangamata",
          "Tairua",
          "Whitianga",
          "Coromandel",
          "Whangaparaoa",
          "Orewa",
          "Warkworth",
          "Matakana",
          "Leigh",
          "Wellsford",
          "Mangawhai",
          "Te Hana",
          "Waipu",
          "Ruakaka",
          "Whangarei",
          "Dargaville",
          "Kaitaia",
          "Kaikohe",
          "Kerikeri",
          "Paihia",
          "Russell",
          "Opua",
          "Kohukohu",
          "Horeke",
          "Rawene",
          "Omapere",
          "Opononi",
          "Waimamaku",
          "Waipoua",
          "Aranga",
          "Matapouri",
          "Tutukaka",
          "Whananaki",
          "Whangaruru",
          "Taipa",
          "Mangonui",
          "Coopers Beach",
          "Cable Bay",
          "Rarawa",
          "Pukenui",
          "Awanui",
          "Herekino",
          "Punguru",
          "Okaihau",
          "Ohaeawai",
          "Waimate North",
          "Kawakawa",
          "Moerewa",
          "Matawaia",
          "Maromaku",
          "Puhipuhi",
          "Hikurangi",
          "Glenbervie",
          "Ruatangata",
          "Maungatapere",
          "Taurikura",
          "Parua Bay",
          "Pataua",
          "Whangarei Heads",
          "Marsden Point",
          "One Tree Point",
          "Ruakaka",
          "Waipu",
          "Langs Beach",
          "Mangawhai",
          "Wellsford",
          "Warkworth",
          "Orewa",
          "Auckland",
          "Hamilton",
          "Tauranga",
          "Rotorua",
          "Whakatane",
          "Gisborne",
          "Napier",
          "Hastings",
          "Palmerston North",
          "Wellington",
          "Nelson",
          "Blenheim",
          "Kaikoura",
          "Christchurch",
          "Timaru",
          "Dunedin",
          "Queenstown",
          "Invercargill",
          "Greymouth",
          "Hokitika",
          "Westport",
          "Motueka",
          "Takaka",
          "Murchison",
          "Hanmer Springs",
          "Reefton",
          "Kumara",
          "Arthur's Pass",
          "Twizel",
          "Tekapo",
          "Cromwell",
          "Wanaka",
          "Arrowtown",
          "Glenorchy",
          "Te Anau",
          "Milford Sound",
          "Haast",
          "Fox Glacier",
          "Franz Josef",
          "Whataroa",
          "Harihari",
          "Ross",
          "Hokitika",
          "Greymouth",
          "Punakaiki",
          "Westport",
          "Karamea",
          "Collingwood",
          "Takaka",
          "Motueka",
          "Nelson",
          "Blenheim",
          "Picton",
          "Havelock",
          "Wairau Valley",
          "St Arnaud",
          "Murchison",
          "Lyell",
          "Reefton",
          "Greymouth",
          "Hokitika",
          "Jackson Bay",
          "Haast",
          "Mount Aspiring National Park",
          "Wanaka",
          "Queenstown",
          "Glenorchy",
          "Kingston",
          "Te Anau",
          "Milford Sound",
          "Manapouri",
          "Tuatapere",
          "Otautau",
          "Riverton",
          "Invercargill",
          "Bluff",
          "Stewart Island",
          "Oban",
          "Mossburn",
          "Lumsden",
          "Gore",
          "Clinton",
          "Balclutha",
          "Milton",
          "Dunedin",
          "Moeraki",
          "Oamaru",
          "Timaru",
          "Geraldine",
          "Ashburton",
          "Christchurch",
          "Kaiapoi",
          "Rangiora",
          "Amberley",
          "Hanmer Springs",
          "Waiau",
          "Murchison",
          "Reefton",
          "Greymouth",
          "Hokitika",
          "Fox Glacier",
          "Franz Josef",
          "Haast",
          "Jackson Bay",
          "Manapouri",
          "Milford Sound",
          "Te Anau",
          "Glenorchy",
          "Queenstown",
          "Cromwell",
          "Wanaka",
          "Mount Aspiring National Park",
          "Westport",
          "Karamea",
          "Westport",
          "Greymouth",
          "Reefton",
          "Murchison",
          "Nelson",
          "Motueka",
          "Takaka",
          "Golden Bay",
          "Collingwood",
          "Karamea",
          "Westport",
          "Greymouth",
          "Hokitika",
          "Fox Glacier",
          "Franz Josef",
          "Haast",
          "Jackson Bay",
          "Wanaka",
          "Cromwell",
          "Queenstown",
          "Arrowtown",
          "Glenorchy",
          "Kingston",
          "Te Anau",
          "Milford Sound",
          "Manapouri",
          "Invercargill",
          "Bluff",
          "Stewart Island",
          "Oban",
          "Southland",
          "The Catlins",
          "Otago Peninsula",
          "Dunedin",
          "Moeraki",
          "Oamaru",
          "Timaru",
          "Canterbury",
          "Arthur's Pass",
          "Greymouth",
          "Hokitika",
          "Franz Josef",
          "Westport",
          "Karamea",
          "Nelson",
          "Takaka",
          "Golden Bay",
          "Collingwood",
          "Kaiapoi",
          "Rangiora",
          "Amberley",
          "Hanmer Springs",
          "Kaikoura",
          "Blenheim",
          "Picton",
          "Havelock",
          "Wairau Valley",
          "St Arnaud",
          "Murchison",
          "Reefton",
          "Greymouth",
          "Hokitika",
          "Fox Glacier",
          "Franz Josef",
          "Haast",
          "Jackson Bay",
          "Wanaka",
          "Cromwell",
          "Queenstown",
          "Glenorchy",
          "Kingston",
          "Te Anau",
          "Milford Sound",
          "Manapouri",
          "Invercargill",
          "Bluff",
          "Stewart Island",
          "Oban",
          "Southland",
          "The Catlins",
          "Otago Peninsula",
          "Dunedin",
          "Moeraki",
          "Oamaru",
          "Timaru",
          "Geraldine",
          "Ashburton",
          "Christchurch",
          "Kaiapoi",
          "Rangiora",
          "Amberley",
          "Hanmer Springs",
          "Kaikoura",
          "Blenheim",
          "Picton",
          "Havelock",
          "Wairau Valley",
          "St Arnaud",
          "Murchison",
          "Reefton",
          "Greymouth",
          "Hokitika",
          "Fox Glacier",
          "Franz Josef",
          "Haast",
          "Jackson Bay",
          "Wanaka",
          "Cromwell",
          "Queenstown",
          "Glenorchy",
          "Kingston",
          "Te Anau",
          "Milford Sound",
          "Manapouri",
          "Invercargill",
          "Bluff",
          "Stewart Island",
          "Oban",
          "Southland",
          "The Catlins",
          "Otago Peninsula",
          "Dunedin",
          "Moeraki",
          "Oamaru",
          "Timaru",
          "Geraldine",
          "Ashburton",
          "Christchurch",
          "Kaiapoi",
          "Rangiora",
          "Amberley",
          "Hanmer Springs",
          "Kaikoura",
          "Blenheim",
          "Picton",
          "Havelock",
          "Wairau Valley",
          "St Arnaud",
          "Murchison",
          "Reefton",
          "Greymouth",
          "Hokitika",
          "Fox Glacier",
          "Franz Josef",
          "Haast",
          "Jackson Bay",
          "Wanaka",
          "Cromwell",
          "Queenstown",
          "Glenorchy",
          "Kingston",
          "Te Anau",
          "Milford Sound",
          "Manapouri",
          "Invercargill",
          "Bluff",
          "Stewart Island",
          "Oban",
          "Southland",
          "The Catlins",
          "Otago Peninsula",
          "Dunedin",
          "Moeraki",
          "Oamaru",
          "Timaru",
          "Geraldine",
          "Ashburton",
          "Christchurch",
          "Kaiapoi",
          "Rangiora",
          "Amberley",
          "Hanmer Springs",
          "Kaikoura",
          "Blenheim",
          "Picton",
          "Havelock",
          "Wairau Valley",
          "St Arnaud",
          "Murchison",
          "Reefton",
          "Greymouth",
          "Hokitika",
          "Fox Glacier",
          "Franz Josef",
          "Haast",
          "Jackson Bay",
          "Wanaka",
          "Cromwell",
          "Queenstown",
          "Glenorchy",
          "Kingston",
          "Te Anau",
          "Milford Sound",
          "Manapouri",
          "Invercargill",
          "Bluff",
          "Stewart Island",
          "Oban",
          "Southland",
          "The Catlins",
          "Otago Peninsula",
          "Dunedin",
          "Moeraki",
          "Oamaru",
          "Timaru",
          "Geraldine",
          "Ashburton",
          "Christchurch",
          "Kaiapoi",
          "Rangiora",
          "Amberley",
          "Hanmer Springs",
          "Kaikoura",
          "Blenheim",
          "Picton",
          "Havelock",
          "Wairau Valley",
          "St Arnaud",
          "Murchison",
          "Reefton",
          "Greymouth",
          "Hokitika",
          "Fox Glacier",
          "Franz Josef",
          "Haast",
          "Jackson Bay",
          "Wanaka",
          "Cromwell",
          "Queenstown",
          "Glenorchy",
          "Kingston",
          "Te Anau",
          "Milford Sound",
          "Manapouri",
          "Invercargill",
          "Bluff",
          "Stewart Island",
          "Oban",
          "Southland",
          "The Catlins",
          "Otago Peninsula",
          "Dunedin",
          "Moeraki",
          "Oamaru",
          "Timaru",
          "Geraldine",
          "Ashburton",
          "Christchurch",
          "Kaiapoi",
          "Rangiora",
          "Amberley",
          "Hanmer Springs",
          "Kaikoura",
          "Blenheim",
          "Picton",
          "Havelock",
          "Wairau Valley",
          "St Arnaud",
          "Murchison",
          "Reefton",
          "Greymouth",
          "Hokitika"
         ],
         "x0": " ",
         "xaxis": "x",
         "y": [
          70,
          65,
          60,
          55,
          60,
          50,
          65,
          70,
          80,
          55,
          75,
          65,
          60,
          70,
          55,
          80,
          65,
          50,
          75,
          60,
          65,
          70,
          75,
          60,
          55,
          55,
          50,
          60,
          65,
          55,
          60,
          50,
          55,
          50,
          55,
          60,
          65,
          60,
          70,
          75,
          70,
          75,
          65,
          70,
          75,
          65,
          70,
          75,
          65,
          70,
          75,
          80,
          80,
          75,
          70,
          75,
          80,
          85,
          80,
          85,
          90,
          75,
          80,
          75,
          80,
          85,
          80,
          75,
          85,
          90,
          85,
          60,
          55,
          60,
          55,
          50,
          55,
          50,
          55,
          50,
          55,
          60,
          55,
          50,
          55,
          60,
          55,
          50,
          55,
          60,
          55,
          50,
          55,
          60,
          55,
          50,
          55,
          60,
          55,
          50,
          55,
          60,
          55,
          50,
          55,
          60,
          55,
          50,
          55,
          60,
          55,
          50,
          55,
          60,
          55,
          50,
          55,
          60,
          55,
          50,
          55,
          60,
          55,
          50,
          55,
          60,
          55,
          50,
          55,
          60,
          55,
          50,
          55,
          60,
          55,
          50,
          55,
          60,
          55,
          50,
          55,
          60,
          55,
          50,
          55,
          60,
          55,
          50,
          55,
          60,
          55,
          50,
          55,
          60,
          55,
          50,
          55,
          60,
          55,
          50,
          55,
          60,
          55,
          50,
          55,
          60,
          55,
          50,
          55,
          60,
          55,
          50,
          55,
          60,
          55,
          50,
          55,
          60,
          55,
          50,
          55,
          60,
          55,
          50,
          55,
          60,
          55,
          50,
          55,
          60,
          55,
          50,
          55,
          60,
          55,
          50,
          55,
          60,
          55,
          50,
          55,
          60,
          55,
          50,
          55,
          60,
          55,
          50,
          55,
          60,
          55,
          50,
          55,
          60,
          55,
          50,
          55,
          60,
          55,
          50,
          55,
          60,
          55,
          50,
          55,
          60,
          55,
          50,
          55,
          60,
          55,
          50,
          55,
          60,
          55,
          50,
          55,
          60,
          55,
          50,
          55,
          60,
          55,
          50,
          55,
          60,
          55,
          50,
          55,
          60,
          55,
          50,
          55,
          60,
          55,
          50,
          55,
          60,
          55,
          50,
          55,
          60,
          55,
          50,
          55,
          60,
          55,
          50,
          55,
          60,
          55,
          50,
          55,
          60,
          55,
          50,
          55,
          60,
          55,
          50,
          55,
          60,
          55,
          50,
          55,
          60,
          55,
          50,
          55,
          60,
          55,
          50,
          55,
          60,
          55,
          50,
          55,
          60,
          55,
          50,
          55,
          60,
          55,
          50,
          55,
          60,
          55,
          50,
          55,
          60,
          55,
          50,
          55,
          60,
          55,
          50,
          55,
          60,
          55,
          50,
          55,
          60,
          55,
          50,
          55,
          60,
          55,
          50,
          55,
          60,
          55,
          50,
          55,
          60,
          55,
          50,
          55,
          60,
          55,
          50,
          55,
          60,
          55,
          50,
          55,
          60,
          55,
          50,
          55,
          60,
          55,
          50,
          55,
          60,
          55,
          50,
          55,
          60,
          55,
          50,
          55,
          60,
          55,
          50,
          55,
          60,
          55,
          50,
          55,
          60,
          55,
          50,
          55,
          60,
          55,
          50,
          55,
          60,
          55,
          50,
          55,
          60,
          55,
          50,
          55,
          60,
          55,
          50,
          55,
          60,
          55,
          50,
          55,
          60,
          55,
          50,
          55,
          60,
          55,
          50,
          55,
          60,
          55,
          50,
          55,
          60,
          55,
          50,
          55,
          60,
          55,
          50,
          55,
          60,
          55,
          50,
          55,
          60,
          55,
          50,
          55,
          60,
          55,
          50,
          55,
          60,
          55,
          50,
          55,
          60,
          55,
          50,
          55,
          60,
          55,
          50,
          55,
          60,
          55,
          50,
          55,
          60,
          55,
          50,
          55,
          60,
          55,
          50,
          55,
          60,
          55,
          50,
          55,
          60,
          55,
          50,
          55,
          60,
          55,
          50,
          55,
          60,
          55,
          50,
          55,
          60,
          55,
          50,
          55,
          60,
          55,
          50,
          55,
          60,
          55,
          50,
          55,
          60,
          55,
          50,
          55,
          60,
          55,
          50,
          55,
          60,
          55,
          50,
          55,
          60,
          55,
          50,
          55,
          60,
          55,
          50,
          55,
          60,
          55,
          50,
          55,
          60,
          55,
          50,
          55,
          60,
          55,
          50,
          55,
          60,
          55,
          50,
          55,
          60,
          55,
          50,
          55,
          60,
          55,
          50,
          55,
          60,
          55,
          50,
          55,
          60,
          55,
          50,
          55,
          60,
          55,
          50,
          55,
          60,
          55,
          50,
          55,
          60,
          55,
          50,
          55,
          60,
          55,
          50,
          55
         ],
         "y0": " ",
         "yaxis": "y"
        }
       ],
       "layout": {
        "boxmode": "group",
        "height": 400,
        "legend": {
         "tracegroupgap": 0
        },
        "template": {
         "data": {
          "bar": [
           {
            "error_x": {
             "color": "#2a3f5f"
            },
            "error_y": {
             "color": "#2a3f5f"
            },
            "marker": {
             "line": {
              "color": "#E5ECF6",
              "width": 0.5
             },
             "pattern": {
              "fillmode": "overlay",
              "size": 10,
              "solidity": 0.2
             }
            },
            "type": "bar"
           }
          ],
          "barpolar": [
           {
            "marker": {
             "line": {
              "color": "#E5ECF6",
              "width": 0.5
             },
             "pattern": {
              "fillmode": "overlay",
              "size": 10,
              "solidity": 0.2
             }
            },
            "type": "barpolar"
           }
          ],
          "carpet": [
           {
            "aaxis": {
             "endlinecolor": "#2a3f5f",
             "gridcolor": "white",
             "linecolor": "white",
             "minorgridcolor": "white",
             "startlinecolor": "#2a3f5f"
            },
            "baxis": {
             "endlinecolor": "#2a3f5f",
             "gridcolor": "white",
             "linecolor": "white",
             "minorgridcolor": "white",
             "startlinecolor": "#2a3f5f"
            },
            "type": "carpet"
           }
          ],
          "choropleth": [
           {
            "colorbar": {
             "outlinewidth": 0,
             "ticks": ""
            },
            "type": "choropleth"
           }
          ],
          "contour": [
           {
            "colorbar": {
             "outlinewidth": 0,
             "ticks": ""
            },
            "colorscale": [
             [
              0,
              "#0d0887"
             ],
             [
              0.1111111111111111,
              "#46039f"
             ],
             [
              0.2222222222222222,
              "#7201a8"
             ],
             [
              0.3333333333333333,
              "#9c179e"
             ],
             [
              0.4444444444444444,
              "#bd3786"
             ],
             [
              0.5555555555555556,
              "#d8576b"
             ],
             [
              0.6666666666666666,
              "#ed7953"
             ],
             [
              0.7777777777777778,
              "#fb9f3a"
             ],
             [
              0.8888888888888888,
              "#fdca26"
             ],
             [
              1,
              "#f0f921"
             ]
            ],
            "type": "contour"
           }
          ],
          "contourcarpet": [
           {
            "colorbar": {
             "outlinewidth": 0,
             "ticks": ""
            },
            "type": "contourcarpet"
           }
          ],
          "heatmap": [
           {
            "colorbar": {
             "outlinewidth": 0,
             "ticks": ""
            },
            "colorscale": [
             [
              0,
              "#0d0887"
             ],
             [
              0.1111111111111111,
              "#46039f"
             ],
             [
              0.2222222222222222,
              "#7201a8"
             ],
             [
              0.3333333333333333,
              "#9c179e"
             ],
             [
              0.4444444444444444,
              "#bd3786"
             ],
             [
              0.5555555555555556,
              "#d8576b"
             ],
             [
              0.6666666666666666,
              "#ed7953"
             ],
             [
              0.7777777777777778,
              "#fb9f3a"
             ],
             [
              0.8888888888888888,
              "#fdca26"
             ],
             [
              1,
              "#f0f921"
             ]
            ],
            "type": "heatmap"
           }
          ],
          "heatmapgl": [
           {
            "colorbar": {
             "outlinewidth": 0,
             "ticks": ""
            },
            "colorscale": [
             [
              0,
              "#0d0887"
             ],
             [
              0.1111111111111111,
              "#46039f"
             ],
             [
              0.2222222222222222,
              "#7201a8"
             ],
             [
              0.3333333333333333,
              "#9c179e"
             ],
             [
              0.4444444444444444,
              "#bd3786"
             ],
             [
              0.5555555555555556,
              "#d8576b"
             ],
             [
              0.6666666666666666,
              "#ed7953"
             ],
             [
              0.7777777777777778,
              "#fb9f3a"
             ],
             [
              0.8888888888888888,
              "#fdca26"
             ],
             [
              1,
              "#f0f921"
             ]
            ],
            "type": "heatmapgl"
           }
          ],
          "histogram": [
           {
            "marker": {
             "pattern": {
              "fillmode": "overlay",
              "size": 10,
              "solidity": 0.2
             }
            },
            "type": "histogram"
           }
          ],
          "histogram2d": [
           {
            "colorbar": {
             "outlinewidth": 0,
             "ticks": ""
            },
            "colorscale": [
             [
              0,
              "#0d0887"
             ],
             [
              0.1111111111111111,
              "#46039f"
             ],
             [
              0.2222222222222222,
              "#7201a8"
             ],
             [
              0.3333333333333333,
              "#9c179e"
             ],
             [
              0.4444444444444444,
              "#bd3786"
             ],
             [
              0.5555555555555556,
              "#d8576b"
             ],
             [
              0.6666666666666666,
              "#ed7953"
             ],
             [
              0.7777777777777778,
              "#fb9f3a"
             ],
             [
              0.8888888888888888,
              "#fdca26"
             ],
             [
              1,
              "#f0f921"
             ]
            ],
            "type": "histogram2d"
           }
          ],
          "histogram2dcontour": [
           {
            "colorbar": {
             "outlinewidth": 0,
             "ticks": ""
            },
            "colorscale": [
             [
              0,
              "#0d0887"
             ],
             [
              0.1111111111111111,
              "#46039f"
             ],
             [
              0.2222222222222222,
              "#7201a8"
             ],
             [
              0.3333333333333333,
              "#9c179e"
             ],
             [
              0.4444444444444444,
              "#bd3786"
             ],
             [
              0.5555555555555556,
              "#d8576b"
             ],
             [
              0.6666666666666666,
              "#ed7953"
             ],
             [
              0.7777777777777778,
              "#fb9f3a"
             ],
             [
              0.8888888888888888,
              "#fdca26"
             ],
             [
              1,
              "#f0f921"
             ]
            ],
            "type": "histogram2dcontour"
           }
          ],
          "mesh3d": [
           {
            "colorbar": {
             "outlinewidth": 0,
             "ticks": ""
            },
            "type": "mesh3d"
           }
          ],
          "parcoords": [
           {
            "line": {
             "colorbar": {
              "outlinewidth": 0,
              "ticks": ""
             }
            },
            "type": "parcoords"
           }
          ],
          "pie": [
           {
            "automargin": true,
            "type": "pie"
           }
          ],
          "scatter": [
           {
            "fillpattern": {
             "fillmode": "overlay",
             "size": 10,
             "solidity": 0.2
            },
            "type": "scatter"
           }
          ],
          "scatter3d": [
           {
            "line": {
             "colorbar": {
              "outlinewidth": 0,
              "ticks": ""
             }
            },
            "marker": {
             "colorbar": {
              "outlinewidth": 0,
              "ticks": ""
             }
            },
            "type": "scatter3d"
           }
          ],
          "scattercarpet": [
           {
            "marker": {
             "colorbar": {
              "outlinewidth": 0,
              "ticks": ""
             }
            },
            "type": "scattercarpet"
           }
          ],
          "scattergeo": [
           {
            "marker": {
             "colorbar": {
              "outlinewidth": 0,
              "ticks": ""
             }
            },
            "type": "scattergeo"
           }
          ],
          "scattergl": [
           {
            "marker": {
             "colorbar": {
              "outlinewidth": 0,
              "ticks": ""
             }
            },
            "type": "scattergl"
           }
          ],
          "scattermapbox": [
           {
            "marker": {
             "colorbar": {
              "outlinewidth": 0,
              "ticks": ""
             }
            },
            "type": "scattermapbox"
           }
          ],
          "scatterpolar": [
           {
            "marker": {
             "colorbar": {
              "outlinewidth": 0,
              "ticks": ""
             }
            },
            "type": "scatterpolar"
           }
          ],
          "scatterpolargl": [
           {
            "marker": {
             "colorbar": {
              "outlinewidth": 0,
              "ticks": ""
             }
            },
            "type": "scatterpolargl"
           }
          ],
          "scatterternary": [
           {
            "marker": {
             "colorbar": {
              "outlinewidth": 0,
              "ticks": ""
             }
            },
            "type": "scatterternary"
           }
          ],
          "surface": [
           {
            "colorbar": {
             "outlinewidth": 0,
             "ticks": ""
            },
            "colorscale": [
             [
              0,
              "#0d0887"
             ],
             [
              0.1111111111111111,
              "#46039f"
             ],
             [
              0.2222222222222222,
              "#7201a8"
             ],
             [
              0.3333333333333333,
              "#9c179e"
             ],
             [
              0.4444444444444444,
              "#bd3786"
             ],
             [
              0.5555555555555556,
              "#d8576b"
             ],
             [
              0.6666666666666666,
              "#ed7953"
             ],
             [
              0.7777777777777778,
              "#fb9f3a"
             ],
             [
              0.8888888888888888,
              "#fdca26"
             ],
             [
              1,
              "#f0f921"
             ]
            ],
            "type": "surface"
           }
          ],
          "table": [
           {
            "cells": {
             "fill": {
              "color": "#EBF0F8"
             },
             "line": {
              "color": "white"
             }
            },
            "header": {
             "fill": {
              "color": "#C8D4E3"
             },
             "line": {
              "color": "white"
             }
            },
            "type": "table"
           }
          ]
         },
         "layout": {
          "annotationdefaults": {
           "arrowcolor": "#2a3f5f",
           "arrowhead": 0,
           "arrowwidth": 1
          },
          "autotypenumbers": "strict",
          "coloraxis": {
           "colorbar": {
            "outlinewidth": 0,
            "ticks": ""
           }
          },
          "colorscale": {
           "diverging": [
            [
             0,
             "#8e0152"
            ],
            [
             0.1,
             "#c51b7d"
            ],
            [
             0.2,
             "#de77ae"
            ],
            [
             0.3,
             "#f1b6da"
            ],
            [
             0.4,
             "#fde0ef"
            ],
            [
             0.5,
             "#f7f7f7"
            ],
            [
             0.6,
             "#e6f5d0"
            ],
            [
             0.7,
             "#b8e186"
            ],
            [
             0.8,
             "#7fbc41"
            ],
            [
             0.9,
             "#4d9221"
            ],
            [
             1,
             "#276419"
            ]
           ],
           "sequential": [
            [
             0,
             "#0d0887"
            ],
            [
             0.1111111111111111,
             "#46039f"
            ],
            [
             0.2222222222222222,
             "#7201a8"
            ],
            [
             0.3333333333333333,
             "#9c179e"
            ],
            [
             0.4444444444444444,
             "#bd3786"
            ],
            [
             0.5555555555555556,
             "#d8576b"
            ],
            [
             0.6666666666666666,
             "#ed7953"
            ],
            [
             0.7777777777777778,
             "#fb9f3a"
            ],
            [
             0.8888888888888888,
             "#fdca26"
            ],
            [
             1,
             "#f0f921"
            ]
           ],
           "sequentialminus": [
            [
             0,
             "#0d0887"
            ],
            [
             0.1111111111111111,
             "#46039f"
            ],
            [
             0.2222222222222222,
             "#7201a8"
            ],
            [
             0.3333333333333333,
             "#9c179e"
            ],
            [
             0.4444444444444444,
             "#bd3786"
            ],
            [
             0.5555555555555556,
             "#d8576b"
            ],
            [
             0.6666666666666666,
             "#ed7953"
            ],
            [
             0.7777777777777778,
             "#fb9f3a"
            ],
            [
             0.8888888888888888,
             "#fdca26"
            ],
            [
             1,
             "#f0f921"
            ]
           ]
          },
          "colorway": [
           "#636efa",
           "#EF553B",
           "#00cc96",
           "#ab63fa",
           "#FFA15A",
           "#19d3f3",
           "#FF6692",
           "#B6E880",
           "#FF97FF",
           "#FECB52"
          ],
          "font": {
           "color": "#2a3f5f"
          },
          "geo": {
           "bgcolor": "white",
           "lakecolor": "white",
           "landcolor": "#E5ECF6",
           "showlakes": true,
           "showland": true,
           "subunitcolor": "white"
          },
          "hoverlabel": {
           "align": "left"
          },
          "hovermode": "closest",
          "mapbox": {
           "style": "light"
          },
          "paper_bgcolor": "white",
          "plot_bgcolor": "#E5ECF6",
          "polar": {
           "angularaxis": {
            "gridcolor": "white",
            "linecolor": "white",
            "ticks": ""
           },
           "bgcolor": "#E5ECF6",
           "radialaxis": {
            "gridcolor": "white",
            "linecolor": "white",
            "ticks": ""
           }
          },
          "scene": {
           "xaxis": {
            "backgroundcolor": "#E5ECF6",
            "gridcolor": "white",
            "gridwidth": 2,
            "linecolor": "white",
            "showbackground": true,
            "ticks": "",
            "zerolinecolor": "white"
           },
           "yaxis": {
            "backgroundcolor": "#E5ECF6",
            "gridcolor": "white",
            "gridwidth": 2,
            "linecolor": "white",
            "showbackground": true,
            "ticks": "",
            "zerolinecolor": "white"
           },
           "zaxis": {
            "backgroundcolor": "#E5ECF6",
            "gridcolor": "white",
            "gridwidth": 2,
            "linecolor": "white",
            "showbackground": true,
            "ticks": "",
            "zerolinecolor": "white"
           }
          },
          "shapedefaults": {
           "line": {
            "color": "#2a3f5f"
           }
          },
          "ternary": {
           "aaxis": {
            "gridcolor": "white",
            "linecolor": "white",
            "ticks": ""
           },
           "baxis": {
            "gridcolor": "white",
            "linecolor": "white",
            "ticks": ""
           },
           "bgcolor": "#E5ECF6",
           "caxis": {
            "gridcolor": "white",
            "linecolor": "white",
            "ticks": ""
           }
          },
          "title": {
           "x": 0.05
          },
          "xaxis": {
           "automargin": true,
           "gridcolor": "white",
           "linecolor": "white",
           "ticks": "",
           "title": {
            "standoff": 15
           },
           "zerolinecolor": "white",
           "zerolinewidth": 2
          },
          "yaxis": {
           "automargin": true,
           "gridcolor": "white",
           "linecolor": "white",
           "ticks": "",
           "title": {
            "standoff": 15
           },
           "zerolinecolor": "white",
           "zerolinewidth": 2
          }
         }
        },
        "title": {
         "text": "Decibel Levels by City"
        },
        "xaxis": {
         "anchor": "y",
         "domain": [
          0,
          1
         ],
         "title": {
          "text": "City"
         }
        },
        "yaxis": {
         "anchor": "x",
         "domain": [
          0,
          1
         ],
         "title": {
          "text": "Decibel Level"
         }
        }
       }
      }
     },
     "metadata": {},
     "output_type": "display_data"
    }
   ],
   "source": [
    "box = px.box(train_df, x='City', y='Decibel_Level', \n",
    "              title='Decibel Levels by City', \n",
    "              labels={'Decibel_Level':'Decibel Level', 'City':'City'},\n",
    "              height=400)\n",
    "box.write_html('Decibel_Levels_by_City.html')\n",
    "box.show()"
   ]
  },
  {
   "cell_type": "code",
   "execution_count": 43,
   "metadata": {},
   "outputs": [
    {
     "data": {
      "application/vnd.plotly.v1+json": {
       "config": {
        "plotlyServerURL": "https://plot.ly"
       },
       "data": [
        {
         "hovertemplate": "City=New York<br>Traffic Density=%{x}<br>Happiness Score=%{y}<br>Cost_of_Living_Index=%{marker.size}<extra></extra>",
         "legendgroup": "New York",
         "marker": {
          "color": "#636efa",
          "size": [
           100
          ],
          "sizemode": "area",
          "sizeref": 0.325,
          "symbol": "circle"
         },
         "mode": "markers",
         "name": "New York",
         "orientation": "v",
         "showlegend": true,
         "type": "scatter",
         "x": [
          "High"
         ],
         "xaxis": "x",
         "y": [
          6.5
         ],
         "yaxis": "y"
        },
        {
         "hovertemplate": "City=Los Angeles<br>Traffic Density=%{x}<br>Happiness Score=%{y}<br>Cost_of_Living_Index=%{marker.size}<extra></extra>",
         "legendgroup": "Los Angeles",
         "marker": {
          "color": "#EF553B",
          "size": [
           90
          ],
          "sizemode": "area",
          "sizeref": 0.325,
          "symbol": "circle"
         },
         "mode": "markers",
         "name": "Los Angeles",
         "orientation": "v",
         "showlegend": true,
         "type": "scatter",
         "x": [
          "Medium"
         ],
         "xaxis": "x",
         "y": [
          6.8
         ],
         "yaxis": "y"
        },
        {
         "hovertemplate": "City=Chicago<br>Traffic Density=%{x}<br>Happiness Score=%{y}<br>Cost_of_Living_Index=%{marker.size}<extra></extra>",
         "legendgroup": "Chicago",
         "marker": {
          "color": "#00cc96",
          "size": [
           85
          ],
          "sizemode": "area",
          "sizeref": 0.325,
          "symbol": "circle"
         },
         "mode": "markers",
         "name": "Chicago",
         "orientation": "v",
         "showlegend": true,
         "type": "scatter",
         "x": [
          "Medium"
         ],
         "xaxis": "x",
         "y": [
          7
         ],
         "yaxis": "y"
        },
        {
         "hovertemplate": "City=London<br>Traffic Density=%{x}<br>Happiness Score=%{y}<br>Cost_of_Living_Index=%{marker.size}<extra></extra>",
         "legendgroup": "London",
         "marker": {
          "color": "#ab63fa",
          "size": [
           110
          ],
          "sizemode": "area",
          "sizeref": 0.325,
          "symbol": "circle"
         },
         "mode": "markers",
         "name": "London",
         "orientation": "v",
         "showlegend": true,
         "type": "scatter",
         "x": [
          "High"
         ],
         "xaxis": "x",
         "y": [
          7.2
         ],
         "yaxis": "y"
        },
        {
         "hovertemplate": "City=Paris<br>Traffic Density=%{x}<br>Happiness Score=%{y}<br>Cost_of_Living_Index=%{marker.size}<extra></extra>",
         "legendgroup": "Paris",
         "marker": {
          "color": "#FFA15A",
          "size": [
           95
          ],
          "sizemode": "area",
          "sizeref": 0.325,
          "symbol": "circle"
         },
         "mode": "markers",
         "name": "Paris",
         "orientation": "v",
         "showlegend": true,
         "type": "scatter",
         "x": [
          "High"
         ],
         "xaxis": "x",
         "y": [
          6.9
         ],
         "yaxis": "y"
        },
        {
         "hovertemplate": "City=Berlin<br>Traffic Density=%{x}<br>Happiness Score=%{y}<br>Cost_of_Living_Index=%{marker.size}<extra></extra>",
         "legendgroup": "Berlin",
         "marker": {
          "color": "#19d3f3",
          "size": [
           80
          ],
          "sizemode": "area",
          "sizeref": 0.325,
          "symbol": "circle"
         },
         "mode": "markers",
         "name": "Berlin",
         "orientation": "v",
         "showlegend": true,
         "type": "scatter",
         "x": [
          "Low"
         ],
         "xaxis": "x",
         "y": [
          7.5
         ],
         "yaxis": "y"
        },
        {
         "hovertemplate": "City=Tokyo<br>Traffic Density=%{x}<br>Happiness Score=%{y}<br>Cost_of_Living_Index=%{marker.size}<extra></extra>",
         "legendgroup": "Tokyo",
         "marker": {
          "color": "#FF6692",
          "size": [
           120
          ],
          "sizemode": "area",
          "sizeref": 0.325,
          "symbol": "circle"
         },
         "mode": "markers",
         "name": "Tokyo",
         "orientation": "v",
         "showlegend": true,
         "type": "scatter",
         "x": [
          "High"
         ],
         "xaxis": "x",
         "y": [
          6
         ],
         "yaxis": "y"
        },
        {
         "hovertemplate": "City=Seoul<br>Traffic Density=%{x}<br>Happiness Score=%{y}<br>Cost_of_Living_Index=%{marker.size}<extra></extra>",
         "legendgroup": "Seoul",
         "marker": {
          "color": "#B6E880",
          "size": [
           105
          ],
          "sizemode": "area",
          "sizeref": 0.325,
          "symbol": "circle"
         },
         "mode": "markers",
         "name": "Seoul",
         "orientation": "v",
         "showlegend": true,
         "type": "scatter",
         "x": [
          "High"
         ],
         "xaxis": "x",
         "y": [
          5.8
         ],
         "yaxis": "y"
        },
        {
         "hovertemplate": "City=Mumbai<br>Traffic Density=%{x}<br>Happiness Score=%{y}<br>Cost_of_Living_Index=%{marker.size}<extra></extra>",
         "legendgroup": "Mumbai",
         "marker": {
          "color": "#FF97FF",
          "size": [
           70
          ],
          "sizemode": "area",
          "sizeref": 0.325,
          "symbol": "circle"
         },
         "mode": "markers",
         "name": "Mumbai",
         "orientation": "v",
         "showlegend": true,
         "type": "scatter",
         "x": [
          "Very High"
         ],
         "xaxis": "x",
         "y": [
          4.5
         ],
         "yaxis": "y"
        },
        {
         "hovertemplate": "City=Sydney<br>Traffic Density=%{x}<br>Happiness Score=%{y}<br>Cost_of_Living_Index=%{marker.size}<extra></extra>",
         "legendgroup": "Sydney",
         "marker": {
          "color": "#FECB52",
          "size": [
           115
          ],
          "sizemode": "area",
          "sizeref": 0.325,
          "symbol": "circle"
         },
         "mode": "markers",
         "name": "Sydney",
         "orientation": "v",
         "showlegend": true,
         "type": "scatter",
         "x": [
          "Low"
         ],
         "xaxis": "x",
         "y": [
          7.8
         ],
         "yaxis": "y"
        },
        {
         "hovertemplate": "City=Istanbul<br>Traffic Density=%{x}<br>Happiness Score=%{y}<br>Cost_of_Living_Index=%{marker.size}<extra></extra>",
         "legendgroup": "Istanbul",
         "marker": {
          "color": "#636efa",
          "size": [
           75
          ],
          "sizemode": "area",
          "sizeref": 0.325,
          "symbol": "circle"
         },
         "mode": "markers",
         "name": "Istanbul",
         "orientation": "v",
         "showlegend": true,
         "type": "scatter",
         "x": [
          "High"
         ],
         "xaxis": "x",
         "y": [
          6.8
         ],
         "yaxis": "y"
        },
        {
         "hovertemplate": "City=Rio de Janeiro<br>Traffic Density=%{x}<br>Happiness Score=%{y}<br>Cost_of_Living_Index=%{marker.size}<extra></extra>",
         "legendgroup": "Rio de Janeiro",
         "marker": {
          "color": "#EF553B",
          "size": [
           80
          ],
          "sizemode": "area",
          "sizeref": 0.325,
          "symbol": "circle"
         },
         "mode": "markers",
         "name": "Rio de Janeiro",
         "orientation": "v",
         "showlegend": true,
         "type": "scatter",
         "x": [
          "Medium"
         ],
         "xaxis": "x",
         "y": [
          6.5
         ],
         "yaxis": "y"
        },
        {
         "hovertemplate": "City=Toronto<br>Traffic Density=%{x}<br>Happiness Score=%{y}<br>Cost_of_Living_Index=%{marker.size}<extra></extra>",
         "legendgroup": "Toronto",
         "marker": {
          "color": "#00cc96",
          "size": [
           95
          ],
          "sizemode": "area",
          "sizeref": 0.325,
          "symbol": "circle"
         },
         "mode": "markers",
         "name": "Toronto",
         "orientation": "v",
         "showlegend": true,
         "type": "scatter",
         "x": [
          "Medium"
         ],
         "xaxis": "x",
         "y": [
          7.1
         ],
         "yaxis": "y"
        },
        {
         "hovertemplate": "City=Mexico City<br>Traffic Density=%{x}<br>Happiness Score=%{y}<br>Cost_of_Living_Index=%{marker.size}<extra></extra>",
         "legendgroup": "Mexico City",
         "marker": {
          "color": "#ab63fa",
          "size": [
           65
          ],
          "sizemode": "area",
          "sizeref": 0.325,
          "symbol": "circle"
         },
         "mode": "markers",
         "name": "Mexico City",
         "orientation": "v",
         "showlegend": true,
         "type": "scatter",
         "x": [
          "Very High"
         ],
         "xaxis": "x",
         "y": [
          5.2
         ],
         "yaxis": "y"
        },
        {
         "hovertemplate": "City=Cape Town<br>Traffic Density=%{x}<br>Happiness Score=%{y}<br>Cost_of_Living_Index=%{marker.size}<extra></extra>",
         "legendgroup": "Cape Town",
         "marker": {
          "color": "#FFA15A",
          "size": [
           70
          ],
          "sizemode": "area",
          "sizeref": 0.325,
          "symbol": "circle"
         },
         "mode": "markers",
         "name": "Cape Town",
         "orientation": "v",
         "showlegend": true,
         "type": "scatter",
         "x": [
          "Low"
         ],
         "xaxis": "x",
         "y": [
          7.6
         ],
         "yaxis": "y"
        },
        {
         "hovertemplate": "City=Bangkok<br>Traffic Density=%{x}<br>Happiness Score=%{y}<br>Cost_of_Living_Index=%{marker.size}<extra></extra>",
         "legendgroup": "Bangkok",
         "marker": {
          "color": "#19d3f3",
          "size": [
           50
          ],
          "sizemode": "area",
          "sizeref": 0.325,
          "symbol": "circle"
         },
         "mode": "markers",
         "name": "Bangkok",
         "orientation": "v",
         "showlegend": true,
         "type": "scatter",
         "x": [
          "High"
         ],
         "xaxis": "x",
         "y": [
          4
         ],
         "yaxis": "y"
        },
        {
         "hovertemplate": "City=Buenos Aires<br>Traffic Density=%{x}<br>Happiness Score=%{y}<br>Cost_of_Living_Index=%{marker.size}<extra></extra>",
         "legendgroup": "Buenos Aires",
         "marker": {
          "color": "#FF6692",
          "size": [
           60
          ],
          "sizemode": "area",
          "sizeref": 0.325,
          "symbol": "circle"
         },
         "mode": "markers",
         "name": "Buenos Aires",
         "orientation": "v",
         "showlegend": true,
         "type": "scatter",
         "x": [
          "High"
         ],
         "xaxis": "x",
         "y": [
          6.1
         ],
         "yaxis": "y"
        },
        {
         "hovertemplate": "City=Amsterdam<br>Traffic Density=%{x}<br>Happiness Score=%{y}<br>Cost_of_Living_Index=%{marker.size}<extra></extra>",
         "legendgroup": "Amsterdam",
         "marker": {
          "color": "#B6E880",
          "size": [
           105
          ],
          "sizemode": "area",
          "sizeref": 0.325,
          "symbol": "circle"
         },
         "mode": "markers",
         "name": "Amsterdam",
         "orientation": "v",
         "showlegend": true,
         "type": "scatter",
         "x": [
          "Low"
         ],
         "xaxis": "x",
         "y": [
          7.9
         ],
         "yaxis": "y"
        },
        {
         "hovertemplate": "City=Cairo<br>Traffic Density=%{x}<br>Happiness Score=%{y}<br>Cost_of_Living_Index=%{marker.size}<extra></extra>",
         "legendgroup": "Cairo",
         "marker": {
          "color": "#FF97FF",
          "size": [
           55
          ],
          "sizemode": "area",
          "sizeref": 0.325,
          "symbol": "circle"
         },
         "mode": "markers",
         "name": "Cairo",
         "orientation": "v",
         "showlegend": true,
         "type": "scatter",
         "x": [
          "Very High"
         ],
         "xaxis": "x",
         "y": [
          3.5
         ],
         "yaxis": "y"
        },
        {
         "hovertemplate": "City=Moscow<br>Traffic Density=%{x}<br>Happiness Score=%{y}<br>Cost_of_Living_Index=%{marker.size}<extra></extra>",
         "legendgroup": "Moscow",
         "marker": {
          "color": "#FECB52",
          "size": [
           70
          ],
          "sizemode": "area",
          "sizeref": 0.325,
          "symbol": "circle"
         },
         "mode": "markers",
         "name": "Moscow",
         "orientation": "v",
         "showlegend": true,
         "type": "scatter",
         "x": [
          "High"
         ],
         "xaxis": "x",
         "y": [
          5.8
         ],
         "yaxis": "y"
        },
        {
         "hovertemplate": "City=Singapore<br>Traffic Density=%{x}<br>Happiness Score=%{y}<br>Cost_of_Living_Index=%{marker.size}<extra></extra>",
         "legendgroup": "Singapore",
         "marker": {
          "color": "#636efa",
          "size": [
           125
          ],
          "sizemode": "area",
          "sizeref": 0.325,
          "symbol": "circle"
         },
         "mode": "markers",
         "name": "Singapore",
         "orientation": "v",
         "showlegend": true,
         "type": "scatter",
         "x": [
          "High"
         ],
         "xaxis": "x",
         "y": [
          7
         ],
         "yaxis": "y"
        },
        {
         "hovertemplate": "City=Dubai<br>Traffic Density=%{x}<br>Happiness Score=%{y}<br>Cost_of_Living_Index=%{marker.size}<extra></extra>",
         "legendgroup": "Dubai",
         "marker": {
          "color": "#EF553B",
          "size": [
           110
          ],
          "sizemode": "area",
          "sizeref": 0.325,
          "symbol": "circle"
         },
         "mode": "markers",
         "name": "Dubai",
         "orientation": "v",
         "showlegend": true,
         "type": "scatter",
         "x": [
          "Medium"
         ],
         "xaxis": "x",
         "y": [
          6
         ],
         "yaxis": "y"
        },
        {
         "hovertemplate": "City=Hong Kong<br>Traffic Density=%{x}<br>Happiness Score=%{y}<br>Cost_of_Living_Index=%{marker.size}<extra></extra>",
         "legendgroup": "Hong Kong",
         "marker": {
          "color": "#00cc96",
          "size": [
           130
          ],
          "sizemode": "area",
          "sizeref": 0.325,
          "symbol": "circle"
         },
         "mode": "markers",
         "name": "Hong Kong",
         "orientation": "v",
         "showlegend": true,
         "type": "scatter",
         "x": [
          "High"
         ],
         "xaxis": "x",
         "y": [
          5.5
         ],
         "yaxis": "y"
        },
        {
         "hovertemplate": "City=Barcelona<br>Traffic Density=%{x}<br>Happiness Score=%{y}<br>Cost_of_Living_Index=%{marker.size}<extra></extra>",
         "legendgroup": "Barcelona",
         "marker": {
          "color": "#ab63fa",
          "size": [
           90
          ],
          "sizemode": "area",
          "sizeref": 0.325,
          "symbol": "circle"
         },
         "mode": "markers",
         "name": "Barcelona",
         "orientation": "v",
         "showlegend": true,
         "type": "scatter",
         "x": [
          "Medium"
         ],
         "xaxis": "x",
         "y": [
          7.7
         ],
         "yaxis": "y"
        },
        {
         "hovertemplate": "City=Lisbon<br>Traffic Density=%{x}<br>Happiness Score=%{y}<br>Cost_of_Living_Index=%{marker.size}<extra></extra>",
         "legendgroup": "Lisbon",
         "marker": {
          "color": "#FFA15A",
          "size": [
           75
          ],
          "sizemode": "area",
          "sizeref": 0.325,
          "symbol": "circle"
         },
         "mode": "markers",
         "name": "Lisbon",
         "orientation": "v",
         "showlegend": true,
         "type": "scatter",
         "x": [
          "Low"
         ],
         "xaxis": "x",
         "y": [
          7.8
         ],
         "yaxis": "y"
        },
        {
         "hovertemplate": "City=Melbourne<br>Traffic Density=%{x}<br>Happiness Score=%{y}<br>Cost_of_Living_Index=%{marker.size}<extra></extra>",
         "legendgroup": "Melbourne",
         "marker": {
          "color": "#19d3f3",
          "size": [
           115
          ],
          "sizemode": "area",
          "sizeref": 0.325,
          "symbol": "circle"
         },
         "mode": "markers",
         "name": "Melbourne",
         "orientation": "v",
         "showlegend": true,
         "type": "scatter",
         "x": [
          "Low"
         ],
         "xaxis": "x",
         "y": [
          7.9
         ],
         "yaxis": "y"
        },
        {
         "hovertemplate": "City=Auckland<br>Traffic Density=%{x}<br>Happiness Score=%{y}<br>Cost_of_Living_Index=%{marker.size}<extra></extra>",
         "legendgroup": "Auckland",
         "marker": {
          "color": "#FF6692",
          "size": [
           100,
           20
          ],
          "sizemode": "area",
          "sizeref": 0.325,
          "symbol": "circle"
         },
         "mode": "markers",
         "name": "Auckland",
         "orientation": "v",
         "showlegend": true,
         "type": "scatter",
         "x": [
          "Low",
          "Medium"
         ],
         "xaxis": "x",
         "y": [
          8.1,
          -10.4
         ],
         "yaxis": "y"
        },
        {
         "hovertemplate": "City=Rome<br>Traffic Density=%{x}<br>Happiness Score=%{y}<br>Cost_of_Living_Index=%{marker.size}<extra></extra>",
         "legendgroup": "Rome",
         "marker": {
          "color": "#B6E880",
          "size": [
           85
          ],
          "sizemode": "area",
          "sizeref": 0.325,
          "symbol": "circle"
         },
         "mode": "markers",
         "name": "Rome",
         "orientation": "v",
         "showlegend": true,
         "type": "scatter",
         "x": [
          "High"
         ],
         "xaxis": "x",
         "y": [
          6.7
         ],
         "yaxis": "y"
        },
        {
         "hovertemplate": "City=Athens<br>Traffic Density=%{x}<br>Happiness Score=%{y}<br>Cost_of_Living_Index=%{marker.size}<extra></extra>",
         "legendgroup": "Athens",
         "marker": {
          "color": "#FF97FF",
          "size": [
           70
          ],
          "sizemode": "area",
          "sizeref": 0.325,
          "symbol": "circle"
         },
         "mode": "markers",
         "name": "Athens",
         "orientation": "v",
         "showlegend": true,
         "type": "scatter",
         "x": [
          "Medium"
         ],
         "xaxis": "x",
         "y": [
          6.2
         ],
         "yaxis": "y"
        },
        {
         "hovertemplate": "City=Vienna<br>Traffic Density=%{x}<br>Happiness Score=%{y}<br>Cost_of_Living_Index=%{marker.size}<extra></extra>",
         "legendgroup": "Vienna",
         "marker": {
          "color": "#FECB52",
          "size": [
           95
          ],
          "sizemode": "area",
          "sizeref": 0.325,
          "symbol": "circle"
         },
         "mode": "markers",
         "name": "Vienna",
         "orientation": "v",
         "showlegend": true,
         "type": "scatter",
         "x": [
          "Low"
         ],
         "xaxis": "x",
         "y": [
          8.2
         ],
         "yaxis": "y"
        },
        {
         "hovertemplate": "City=Dublin<br>Traffic Density=%{x}<br>Happiness Score=%{y}<br>Cost_of_Living_Index=%{marker.size}<extra></extra>",
         "legendgroup": "Dublin",
         "marker": {
          "color": "#636efa",
          "size": [
           105
          ],
          "sizemode": "area",
          "sizeref": 0.325,
          "symbol": "circle"
         },
         "mode": "markers",
         "name": "Dublin",
         "orientation": "v",
         "showlegend": true,
         "type": "scatter",
         "x": [
          "Medium"
         ],
         "xaxis": "x",
         "y": [
          7
         ],
         "yaxis": "y"
        },
        {
         "hovertemplate": "City=Copenhagen<br>Traffic Density=%{x}<br>Happiness Score=%{y}<br>Cost_of_Living_Index=%{marker.size}<extra></extra>",
         "legendgroup": "Copenhagen",
         "marker": {
          "color": "#EF553B",
          "size": [
           110
          ],
          "sizemode": "area",
          "sizeref": 0.325,
          "symbol": "circle"
         },
         "mode": "markers",
         "name": "Copenhagen",
         "orientation": "v",
         "showlegend": true,
         "type": "scatter",
         "x": [
          "Low"
         ],
         "xaxis": "x",
         "y": [
          8.3
         ],
         "yaxis": "y"
        },
        {
         "hovertemplate": "City=Stockholm<br>Traffic Density=%{x}<br>Happiness Score=%{y}<br>Cost_of_Living_Index=%{marker.size}<extra></extra>",
         "legendgroup": "Stockholm",
         "marker": {
          "color": "#00cc96",
          "size": [
           100
          ],
          "sizemode": "area",
          "sizeref": 0.325,
          "symbol": "circle"
         },
         "mode": "markers",
         "name": "Stockholm",
         "orientation": "v",
         "showlegend": true,
         "type": "scatter",
         "x": [
          "Low"
         ],
         "xaxis": "x",
         "y": [
          8
         ],
         "yaxis": "y"
        },
        {
         "hovertemplate": "City=Oslo<br>Traffic Density=%{x}<br>Happiness Score=%{y}<br>Cost_of_Living_Index=%{marker.size}<extra></extra>",
         "legendgroup": "Oslo",
         "marker": {
          "color": "#ab63fa",
          "size": [
           115
          ],
          "sizemode": "area",
          "sizeref": 0.325,
          "symbol": "circle"
         },
         "mode": "markers",
         "name": "Oslo",
         "orientation": "v",
         "showlegend": true,
         "type": "scatter",
         "x": [
          "Low"
         ],
         "xaxis": "x",
         "y": [
          8.5
         ],
         "yaxis": "y"
        },
        {
         "hovertemplate": "City=Helsinki<br>Traffic Density=%{x}<br>Happiness Score=%{y}<br>Cost_of_Living_Index=%{marker.size}<extra></extra>",
         "legendgroup": "Helsinki",
         "marker": {
          "color": "#FFA15A",
          "size": [
           90
          ],
          "sizemode": "area",
          "sizeref": 0.325,
          "symbol": "circle"
         },
         "mode": "markers",
         "name": "Helsinki",
         "orientation": "v",
         "showlegend": true,
         "type": "scatter",
         "x": [
          "Low"
         ],
         "xaxis": "x",
         "y": [
          8.4
         ],
         "yaxis": "y"
        },
        {
         "hovertemplate": "City=Prague<br>Traffic Density=%{x}<br>Happiness Score=%{y}<br>Cost_of_Living_Index=%{marker.size}<extra></extra>",
         "legendgroup": "Prague",
         "marker": {
          "color": "#19d3f3",
          "size": [
           80
          ],
          "sizemode": "area",
          "sizeref": 0.325,
          "symbol": "circle"
         },
         "mode": "markers",
         "name": "Prague",
         "orientation": "v",
         "showlegend": true,
         "type": "scatter",
         "x": [
          "Medium"
         ],
         "xaxis": "x",
         "y": [
          7.3
         ],
         "yaxis": "y"
        },
        {
         "hovertemplate": "City=Budapest<br>Traffic Density=%{x}<br>Happiness Score=%{y}<br>Cost_of_Living_Index=%{marker.size}<extra></extra>",
         "legendgroup": "Budapest",
         "marker": {
          "color": "#FF6692",
          "size": [
           75
          ],
          "sizemode": "area",
          "sizeref": 0.325,
          "symbol": "circle"
         },
         "mode": "markers",
         "name": "Budapest",
         "orientation": "v",
         "showlegend": true,
         "type": "scatter",
         "x": [
          "Medium"
         ],
         "xaxis": "x",
         "y": [
          6.8
         ],
         "yaxis": "y"
        },
        {
         "hovertemplate": "City=Warsaw<br>Traffic Density=%{x}<br>Happiness Score=%{y}<br>Cost_of_Living_Index=%{marker.size}<extra></extra>",
         "legendgroup": "Warsaw",
         "marker": {
          "color": "#B6E880",
          "size": [
           70
          ],
          "sizemode": "area",
          "sizeref": 0.325,
          "symbol": "circle"
         },
         "mode": "markers",
         "name": "Warsaw",
         "orientation": "v",
         "showlegend": true,
         "type": "scatter",
         "x": [
          "Medium"
         ],
         "xaxis": "x",
         "y": [
          6.7
         ],
         "yaxis": "y"
        },
        {
         "hovertemplate": "City=Sofia<br>Traffic Density=%{x}<br>Happiness Score=%{y}<br>Cost_of_Living_Index=%{marker.size}<extra></extra>",
         "legendgroup": "Sofia",
         "marker": {
          "color": "#FF97FF",
          "size": [
           60
          ],
          "sizemode": "area",
          "sizeref": 0.325,
          "symbol": "circle"
         },
         "mode": "markers",
         "name": "Sofia",
         "orientation": "v",
         "showlegend": true,
         "type": "scatter",
         "x": [
          "High"
         ],
         "xaxis": "x",
         "y": [
          6
         ],
         "yaxis": "y"
        },
        {
         "hovertemplate": "City=Belgrade<br>Traffic Density=%{x}<br>Happiness Score=%{y}<br>Cost_of_Living_Index=%{marker.size}<extra></extra>",
         "legendgroup": "Belgrade",
         "marker": {
          "color": "#FECB52",
          "size": [
           55
          ],
          "sizemode": "area",
          "sizeref": 0.325,
          "symbol": "circle"
         },
         "mode": "markers",
         "name": "Belgrade",
         "orientation": "v",
         "showlegend": true,
         "type": "scatter",
         "x": [
          "High"
         ],
         "xaxis": "x",
         "y": [
          5.5
         ],
         "yaxis": "y"
        },
        {
         "hovertemplate": "City=São Paulo<br>Traffic Density=%{x}<br>Happiness Score=%{y}<br>Cost_of_Living_Index=%{marker.size}<extra></extra>",
         "legendgroup": "São Paulo",
         "marker": {
          "color": "#636efa",
          "size": [
           65
          ],
          "sizemode": "area",
          "sizeref": 0.325,
          "symbol": "circle"
         },
         "mode": "markers",
         "name": "São Paulo",
         "orientation": "v",
         "showlegend": true,
         "type": "scatter",
         "x": [
          "High"
         ],
         "xaxis": "x",
         "y": [
          5
         ],
         "yaxis": "y"
        },
        {
         "hovertemplate": "City=Lima<br>Traffic Density=%{x}<br>Happiness Score=%{y}<br>Cost_of_Living_Index=%{marker.size}<extra></extra>",
         "legendgroup": "Lima",
         "marker": {
          "color": "#EF553B",
          "size": [
           55
          ],
          "sizemode": "area",
          "sizeref": 0.325,
          "symbol": "circle"
         },
         "mode": "markers",
         "name": "Lima",
         "orientation": "v",
         "showlegend": true,
         "type": "scatter",
         "x": [
          "Very High"
         ],
         "xaxis": "x",
         "y": [
          4.2
         ],
         "yaxis": "y"
        },
        {
         "hovertemplate": "City=Santiago<br>Traffic Density=%{x}<br>Happiness Score=%{y}<br>Cost_of_Living_Index=%{marker.size}<extra></extra>",
         "legendgroup": "Santiago",
         "marker": {
          "color": "#00cc96",
          "size": [
           70
          ],
          "sizemode": "area",
          "sizeref": 0.325,
          "symbol": "circle"
         },
         "mode": "markers",
         "name": "Santiago",
         "orientation": "v",
         "showlegend": true,
         "type": "scatter",
         "x": [
          "High"
         ],
         "xaxis": "x",
         "y": [
          5.5
         ],
         "yaxis": "y"
        },
        {
         "hovertemplate": "City=Bogota<br>Traffic Density=%{x}<br>Happiness Score=%{y}<br>Cost_of_Living_Index=%{marker.size}<extra></extra>",
         "legendgroup": "Bogota",
         "marker": {
          "color": "#ab63fa",
          "size": [
           60
          ],
          "sizemode": "area",
          "sizeref": 0.325,
          "symbol": "circle"
         },
         "mode": "markers",
         "name": "Bogota",
         "orientation": "v",
         "showlegend": true,
         "type": "scatter",
         "x": [
          "High"
         ],
         "xaxis": "x",
         "y": [
          5
         ],
         "yaxis": "y"
        },
        {
         "hovertemplate": "City=Caracas<br>Traffic Density=%{x}<br>Happiness Score=%{y}<br>Cost_of_Living_Index=%{marker.size}<extra></extra>",
         "legendgroup": "Caracas",
         "marker": {
          "color": "#FFA15A",
          "size": [
           50
          ],
          "sizemode": "area",
          "sizeref": 0.325,
          "symbol": "circle"
         },
         "mode": "markers",
         "name": "Caracas",
         "orientation": "v",
         "showlegend": true,
         "type": "scatter",
         "x": [
          "Very High"
         ],
         "xaxis": "x",
         "y": [
          3
         ],
         "yaxis": "y"
        },
        {
         "hovertemplate": "City=Quito<br>Traffic Density=%{x}<br>Happiness Score=%{y}<br>Cost_of_Living_Index=%{marker.size}<extra></extra>",
         "legendgroup": "Quito",
         "marker": {
          "color": "#19d3f3",
          "size": [
           55
          ],
          "sizemode": "area",
          "sizeref": 0.325,
          "symbol": "circle"
         },
         "mode": "markers",
         "name": "Quito",
         "orientation": "v",
         "showlegend": true,
         "type": "scatter",
         "x": [
          "High"
         ],
         "xaxis": "x",
         "y": [
          4.5
         ],
         "yaxis": "y"
        },
        {
         "hovertemplate": "City=Panama City<br>Traffic Density=%{x}<br>Happiness Score=%{y}<br>Cost_of_Living_Index=%{marker.size}<extra></extra>",
         "legendgroup": "Panama City",
         "marker": {
          "color": "#FF6692",
          "size": [
           60
          ],
          "sizemode": "area",
          "sizeref": 0.325,
          "symbol": "circle"
         },
         "mode": "markers",
         "name": "Panama City",
         "orientation": "v",
         "showlegend": true,
         "type": "scatter",
         "x": [
          "Medium"
         ],
         "xaxis": "x",
         "y": [
          5.8
         ],
         "yaxis": "y"
        },
        {
         "hovertemplate": "City=Kingston<br>Traffic Density=%{x}<br>Happiness Score=%{y}<br>Cost_of_Living_Index=%{marker.size}<extra></extra>",
         "legendgroup": "Kingston",
         "marker": {
          "color": "#B6E880",
          "size": [
           65,
           25,
           20,
           20,
           20,
           20,
           20,
           20
          ],
          "sizemode": "area",
          "sizeref": 0.325,
          "symbol": "circle"
         },
         "mode": "markers",
         "name": "Kingston",
         "orientation": "v",
         "showlegend": true,
         "type": "scatter",
         "x": [
          "High",
          "Low",
          "Medium",
          "Medium",
          "Medium",
          "Medium",
          "Medium",
          "Medium"
         ],
         "xaxis": "x",
         "y": [
          5.5,
          -30.5,
          -51.2,
          -65.6,
          -77.6,
          -89.6,
          -101.6,
          -113.6
         ],
         "yaxis": "y"
        },
        {
         "hovertemplate": "City=Havana<br>Traffic Density=%{x}<br>Happiness Score=%{y}<br>Cost_of_Living_Index=%{marker.size}<extra></extra>",
         "legendgroup": "Havana",
         "marker": {
          "color": "#FF97FF",
          "size": [
           50
          ],
          "sizemode": "area",
          "sizeref": 0.325,
          "symbol": "circle"
         },
         "mode": "markers",
         "name": "Havana",
         "orientation": "v",
         "showlegend": true,
         "type": "scatter",
         "x": [
          "Medium"
         ],
         "xaxis": "x",
         "y": [
          6
         ],
         "yaxis": "y"
        },
        {
         "hovertemplate": "City=Santo Domingo<br>Traffic Density=%{x}<br>Happiness Score=%{y}<br>Cost_of_Living_Index=%{marker.size}<extra></extra>",
         "legendgroup": "Santo Domingo",
         "marker": {
          "color": "#FECB52",
          "size": [
           55
          ],
          "sizemode": "area",
          "sizeref": 0.325,
          "symbol": "circle"
         },
         "mode": "markers",
         "name": "Santo Domingo",
         "orientation": "v",
         "showlegend": true,
         "type": "scatter",
         "x": [
          "High"
         ],
         "xaxis": "x",
         "y": [
          5.5
         ],
         "yaxis": "y"
        },
        {
         "hovertemplate": "City=San Juan<br>Traffic Density=%{x}<br>Happiness Score=%{y}<br>Cost_of_Living_Index=%{marker.size}<extra></extra>",
         "legendgroup": "San Juan",
         "marker": {
          "color": "#636efa",
          "size": [
           70
          ],
          "sizemode": "area",
          "sizeref": 0.325,
          "symbol": "circle"
         },
         "mode": "markers",
         "name": "San Juan",
         "orientation": "v",
         "showlegend": true,
         "type": "scatter",
         "x": [
          "High"
         ],
         "xaxis": "x",
         "y": [
          6
         ],
         "yaxis": "y"
        },
        {
         "hovertemplate": "City=Manila<br>Traffic Density=%{x}<br>Happiness Score=%{y}<br>Cost_of_Living_Index=%{marker.size}<extra></extra>",
         "legendgroup": "Manila",
         "marker": {
          "color": "#EF553B",
          "size": [
           45
          ],
          "sizemode": "area",
          "sizeref": 0.325,
          "symbol": "circle"
         },
         "mode": "markers",
         "name": "Manila",
         "orientation": "v",
         "showlegend": true,
         "type": "scatter",
         "x": [
          "Very High"
         ],
         "xaxis": "x",
         "y": [
          4.5
         ],
         "yaxis": "y"
        },
        {
         "hovertemplate": "City=Jakarta<br>Traffic Density=%{x}<br>Happiness Score=%{y}<br>Cost_of_Living_Index=%{marker.size}<extra></extra>",
         "legendgroup": "Jakarta",
         "marker": {
          "color": "#00cc96",
          "size": [
           40,
           35
          ],
          "sizemode": "area",
          "sizeref": 0.325,
          "symbol": "circle"
         },
         "mode": "markers",
         "name": "Jakarta",
         "orientation": "v",
         "showlegend": true,
         "type": "scatter",
         "x": [
          "Very High",
          "Very High"
         ],
         "xaxis": "x",
         "y": [
          4,
          3
         ],
         "yaxis": "y"
        },
        {
         "hovertemplate": "City=Kuala Lumpur<br>Traffic Density=%{x}<br>Happiness Score=%{y}<br>Cost_of_Living_Index=%{marker.size}<extra></extra>",
         "legendgroup": "Kuala Lumpur",
         "marker": {
          "color": "#ab63fa",
          "size": [
           55
          ],
          "sizemode": "area",
          "sizeref": 0.325,
          "symbol": "circle"
         },
         "mode": "markers",
         "name": "Kuala Lumpur",
         "orientation": "v",
         "showlegend": true,
         "type": "scatter",
         "x": [
          "High"
         ],
         "xaxis": "x",
         "y": [
          5.2
         ],
         "yaxis": "y"
        },
        {
         "hovertemplate": "City=Taipei<br>Traffic Density=%{x}<br>Happiness Score=%{y}<br>Cost_of_Living_Index=%{marker.size}<extra></extra>",
         "legendgroup": "Taipei",
         "marker": {
          "color": "#FFA15A",
          "size": [
           75
          ],
          "sizemode": "area",
          "sizeref": 0.325,
          "symbol": "circle"
         },
         "mode": "markers",
         "name": "Taipei",
         "orientation": "v",
         "showlegend": true,
         "type": "scatter",
         "x": [
          "High"
         ],
         "xaxis": "x",
         "y": [
          5.8
         ],
         "yaxis": "y"
        },
        {
         "hovertemplate": "City=Shanghai<br>Traffic Density=%{x}<br>Happiness Score=%{y}<br>Cost_of_Living_Index=%{marker.size}<extra></extra>",
         "legendgroup": "Shanghai",
         "marker": {
          "color": "#19d3f3",
          "size": [
           80
          ],
          "sizemode": "area",
          "sizeref": 0.325,
          "symbol": "circle"
         },
         "mode": "markers",
         "name": "Shanghai",
         "orientation": "v",
         "showlegend": true,
         "type": "scatter",
         "x": [
          "Very High"
         ],
         "xaxis": "x",
         "y": [
          5
         ],
         "yaxis": "y"
        },
        {
         "hovertemplate": "City=Beijing<br>Traffic Density=%{x}<br>Happiness Score=%{y}<br>Cost_of_Living_Index=%{marker.size}<extra></extra>",
         "legendgroup": "Beijing",
         "marker": {
          "color": "#FF6692",
          "size": [
           85
          ],
          "sizemode": "area",
          "sizeref": 0.325,
          "symbol": "circle"
         },
         "mode": "markers",
         "name": "Beijing",
         "orientation": "v",
         "showlegend": true,
         "type": "scatter",
         "x": [
          "Very High"
         ],
         "xaxis": "x",
         "y": [
          4.5
         ],
         "yaxis": "y"
        },
        {
         "hovertemplate": "City=New Delhi<br>Traffic Density=%{x}<br>Happiness Score=%{y}<br>Cost_of_Living_Index=%{marker.size}<extra></extra>",
         "legendgroup": "New Delhi",
         "marker": {
          "color": "#B6E880",
          "size": [
           60
          ],
          "sizemode": "area",
          "sizeref": 0.325,
          "symbol": "circle"
         },
         "mode": "markers",
         "name": "New Delhi",
         "orientation": "v",
         "showlegend": true,
         "type": "scatter",
         "x": [
          "Very High"
         ],
         "xaxis": "x",
         "y": [
          3.5
         ],
         "yaxis": "y"
        },
        {
         "hovertemplate": "City=Tehran<br>Traffic Density=%{x}<br>Happiness Score=%{y}<br>Cost_of_Living_Index=%{marker.size}<extra></extra>",
         "legendgroup": "Tehran",
         "marker": {
          "color": "#FF97FF",
          "size": [
           45
          ],
          "sizemode": "area",
          "sizeref": 0.325,
          "symbol": "circle"
         },
         "mode": "markers",
         "name": "Tehran",
         "orientation": "v",
         "showlegend": true,
         "type": "scatter",
         "x": [
          "Very High"
         ],
         "xaxis": "x",
         "y": [
          3
         ],
         "yaxis": "y"
        },
        {
         "hovertemplate": "City=Karachi<br>Traffic Density=%{x}<br>Happiness Score=%{y}<br>Cost_of_Living_Index=%{marker.size}<extra></extra>",
         "legendgroup": "Karachi",
         "marker": {
          "color": "#FECB52",
          "size": [
           40
          ],
          "sizemode": "area",
          "sizeref": 0.325,
          "symbol": "circle"
         },
         "mode": "markers",
         "name": "Karachi",
         "orientation": "v",
         "showlegend": true,
         "type": "scatter",
         "x": [
          "Very High"
         ],
         "xaxis": "x",
         "y": [
          3
         ],
         "yaxis": "y"
        },
        {
         "hovertemplate": "City=Dhaka<br>Traffic Density=%{x}<br>Happiness Score=%{y}<br>Cost_of_Living_Index=%{marker.size}<extra></extra>",
         "legendgroup": "Dhaka",
         "marker": {
          "color": "#636efa",
          "size": [
           35
          ],
          "sizemode": "area",
          "sizeref": 0.325,
          "symbol": "circle"
         },
         "mode": "markers",
         "name": "Dhaka",
         "orientation": "v",
         "showlegend": true,
         "type": "scatter",
         "x": [
          "Very High"
         ],
         "xaxis": "x",
         "y": [
          2.5
         ],
         "yaxis": "y"
        },
        {
         "hovertemplate": "City=Colombo<br>Traffic Density=%{x}<br>Happiness Score=%{y}<br>Cost_of_Living_Index=%{marker.size}<extra></extra>",
         "legendgroup": "Colombo",
         "marker": {
          "color": "#EF553B",
          "size": [
           45
          ],
          "sizemode": "area",
          "sizeref": 0.325,
          "symbol": "circle"
         },
         "mode": "markers",
         "name": "Colombo",
         "orientation": "v",
         "showlegend": true,
         "type": "scatter",
         "x": [
          "High"
         ],
         "xaxis": "x",
         "y": [
          5.5
         ],
         "yaxis": "y"
        },
        {
         "hovertemplate": "City=Islamabad<br>Traffic Density=%{x}<br>Happiness Score=%{y}<br>Cost_of_Living_Index=%{marker.size}<extra></extra>",
         "legendgroup": "Islamabad",
         "marker": {
          "color": "#00cc96",
          "size": [
           40
          ],
          "sizemode": "area",
          "sizeref": 0.325,
          "symbol": "circle"
         },
         "mode": "markers",
         "name": "Islamabad",
         "orientation": "v",
         "showlegend": true,
         "type": "scatter",
         "x": [
          "Very High"
         ],
         "xaxis": "x",
         "y": [
          3.5
         ],
         "yaxis": "y"
        },
        {
         "hovertemplate": "City=Kathmandu<br>Traffic Density=%{x}<br>Happiness Score=%{y}<br>Cost_of_Living_Index=%{marker.size}<extra></extra>",
         "legendgroup": "Kathmandu",
         "marker": {
          "color": "#ab63fa",
          "size": [
           35
          ],
          "sizemode": "area",
          "sizeref": 0.325,
          "symbol": "circle"
         },
         "mode": "markers",
         "name": "Kathmandu",
         "orientation": "v",
         "showlegend": true,
         "type": "scatter",
         "x": [
          "High"
         ],
         "xaxis": "x",
         "y": [
          4.5
         ],
         "yaxis": "y"
        },
        {
         "hovertemplate": "City=Yangon<br>Traffic Density=%{x}<br>Happiness Score=%{y}<br>Cost_of_Living_Index=%{marker.size}<extra></extra>",
         "legendgroup": "Yangon",
         "marker": {
          "color": "#FFA15A",
          "size": [
           30
          ],
          "sizemode": "area",
          "sizeref": 0.325,
          "symbol": "circle"
         },
         "mode": "markers",
         "name": "Yangon",
         "orientation": "v",
         "showlegend": true,
         "type": "scatter",
         "x": [
          "Very High"
         ],
         "xaxis": "x",
         "y": [
          3.5
         ],
         "yaxis": "y"
        },
        {
         "hovertemplate": "City=Hanoi<br>Traffic Density=%{x}<br>Happiness Score=%{y}<br>Cost_of_Living_Index=%{marker.size}<extra></extra>",
         "legendgroup": "Hanoi",
         "marker": {
          "color": "#19d3f3",
          "size": [
           35
          ],
          "sizemode": "area",
          "sizeref": 0.325,
          "symbol": "circle"
         },
         "mode": "markers",
         "name": "Hanoi",
         "orientation": "v",
         "showlegend": true,
         "type": "scatter",
         "x": [
          "Very High"
         ],
         "xaxis": "x",
         "y": [
          3
         ],
         "yaxis": "y"
        },
        {
         "hovertemplate": "City=Phnom Penh<br>Traffic Density=%{x}<br>Happiness Score=%{y}<br>Cost_of_Living_Index=%{marker.size}<extra></extra>",
         "legendgroup": "Phnom Penh",
         "marker": {
          "color": "#FF6692",
          "size": [
           30
          ],
          "sizemode": "area",
          "sizeref": 0.325,
          "symbol": "circle"
         },
         "mode": "markers",
         "name": "Phnom Penh",
         "orientation": "v",
         "showlegend": true,
         "type": "scatter",
         "x": [
          "Very High"
         ],
         "xaxis": "x",
         "y": [
          2.5
         ],
         "yaxis": "y"
        },
        {
         "hovertemplate": "City=Vientiane<br>Traffic Density=%{x}<br>Happiness Score=%{y}<br>Cost_of_Living_Index=%{marker.size}<extra></extra>",
         "legendgroup": "Vientiane",
         "marker": {
          "color": "#B6E880",
          "size": [
           25
          ],
          "sizemode": "area",
          "sizeref": 0.325,
          "symbol": "circle"
         },
         "mode": "markers",
         "name": "Vientiane",
         "orientation": "v",
         "showlegend": true,
         "type": "scatter",
         "x": [
          "High"
         ],
         "xaxis": "x",
         "y": [
          4
         ],
         "yaxis": "y"
        },
        {
         "hovertemplate": "City=Bangalore<br>Traffic Density=%{x}<br>Happiness Score=%{y}<br>Cost_of_Living_Index=%{marker.size}<extra></extra>",
         "legendgroup": "Bangalore",
         "marker": {
          "color": "#FF97FF",
          "size": [
           45
          ],
          "sizemode": "area",
          "sizeref": 0.325,
          "symbol": "circle"
         },
         "mode": "markers",
         "name": "Bangalore",
         "orientation": "v",
         "showlegend": true,
         "type": "scatter",
         "x": [
          "Very High"
         ],
         "xaxis": "x",
         "y": [
          3.5
         ],
         "yaxis": "y"
        },
        {
         "hovertemplate": "City=Ho Chi Minh City<br>Traffic Density=%{x}<br>Happiness Score=%{y}<br>Cost_of_Living_Index=%{marker.size}<extra></extra>",
         "legendgroup": "Ho Chi Minh City",
         "marker": {
          "color": "#FECB52",
          "size": [
           40
          ],
          "sizemode": "area",
          "sizeref": 0.325,
          "symbol": "circle"
         },
         "mode": "markers",
         "name": "Ho Chi Minh City",
         "orientation": "v",
         "showlegend": true,
         "type": "scatter",
         "x": [
          "Very High"
         ],
         "xaxis": "x",
         "y": [
          2.8
         ],
         "yaxis": "y"
        },
        {
         "hovertemplate": "City=Perth<br>Traffic Density=%{x}<br>Happiness Score=%{y}<br>Cost_of_Living_Index=%{marker.size}<extra></extra>",
         "legendgroup": "Perth",
         "marker": {
          "color": "#636efa",
          "size": [
           110
          ],
          "sizemode": "area",
          "sizeref": 0.325,
          "symbol": "circle"
         },
         "mode": "markers",
         "name": "Perth",
         "orientation": "v",
         "showlegend": true,
         "type": "scatter",
         "x": [
          "Low"
         ],
         "xaxis": "x",
         "y": [
          7.7
         ],
         "yaxis": "y"
        },
        {
         "hovertemplate": "City=Adelaide<br>Traffic Density=%{x}<br>Happiness Score=%{y}<br>Cost_of_Living_Index=%{marker.size}<extra></extra>",
         "legendgroup": "Adelaide",
         "marker": {
          "color": "#EF553B",
          "size": [
           105
          ],
          "sizemode": "area",
          "sizeref": 0.325,
          "symbol": "circle"
         },
         "mode": "markers",
         "name": "Adelaide",
         "orientation": "v",
         "showlegend": true,
         "type": "scatter",
         "x": [
          "Low"
         ],
         "xaxis": "x",
         "y": [
          7.8
         ],
         "yaxis": "y"
        },
        {
         "hovertemplate": "City=Brisbane<br>Traffic Density=%{x}<br>Happiness Score=%{y}<br>Cost_of_Living_Index=%{marker.size}<extra></extra>",
         "legendgroup": "Brisbane",
         "marker": {
          "color": "#00cc96",
          "size": [
           100
          ],
          "sizemode": "area",
          "sizeref": 0.325,
          "symbol": "circle"
         },
         "mode": "markers",
         "name": "Brisbane",
         "orientation": "v",
         "showlegend": true,
         "type": "scatter",
         "x": [
          "Low"
         ],
         "xaxis": "x",
         "y": [
          7.9
         ],
         "yaxis": "y"
        },
        {
         "hovertemplate": "City=Canberra<br>Traffic Density=%{x}<br>Happiness Score=%{y}<br>Cost_of_Living_Index=%{marker.size}<extra></extra>",
         "legendgroup": "Canberra",
         "marker": {
          "color": "#ab63fa",
          "size": [
           95
          ],
          "sizemode": "area",
          "sizeref": 0.325,
          "symbol": "circle"
         },
         "mode": "markers",
         "name": "Canberra",
         "orientation": "v",
         "showlegend": true,
         "type": "scatter",
         "x": [
          "Low"
         ],
         "xaxis": "x",
         "y": [
          8
         ],
         "yaxis": "y"
        },
        {
         "hovertemplate": "City=Wellington<br>Traffic Density=%{x}<br>Happiness Score=%{y}<br>Cost_of_Living_Index=%{marker.size}<extra></extra>",
         "legendgroup": "Wellington",
         "marker": {
          "color": "#FFA15A",
          "size": [
           90,
           25
          ],
          "sizemode": "area",
          "sizeref": 0.325,
          "symbol": "circle"
         },
         "mode": "markers",
         "name": "Wellington",
         "orientation": "v",
         "showlegend": true,
         "type": "scatter",
         "x": [
          "Low",
          "Low"
         ],
         "xaxis": "x",
         "y": [
          8.1,
          -13.1
         ],
         "yaxis": "y"
        },
        {
         "hovertemplate": "City=Christchurch<br>Traffic Density=%{x}<br>Happiness Score=%{y}<br>Cost_of_Living_Index=%{marker.size}<extra></extra>",
         "legendgroup": "Christchurch",
         "marker": {
          "color": "#19d3f3",
          "size": [
           85,
           25,
           20,
           25,
           25,
           25,
           25,
           25
          ],
          "sizemode": "area",
          "sizeref": 0.325,
          "symbol": "circle"
         },
         "mode": "markers",
         "name": "Christchurch",
         "orientation": "v",
         "showlegend": true,
         "type": "scatter",
         "x": [
          "Low",
          "Low",
          "Low",
          "Low",
          "Low",
          "Low",
          "Low",
          "Low"
         ],
         "xaxis": "x",
         "y": [
          8.2,
          -14.3,
          -37.4,
          -70.7,
          -82.7,
          -94.7,
          -106.7,
          -118.7
         ],
         "yaxis": "y"
        },
        {
         "hovertemplate": "City=Dunedin<br>Traffic Density=%{x}<br>Happiness Score=%{y}<br>Cost_of_Living_Index=%{marker.size}<extra></extra>",
         "legendgroup": "Dunedin",
         "marker": {
          "color": "#FF6692",
          "size": [
           80,
           25,
           20,
           25,
           25,
           25,
           25,
           25,
           25
          ],
          "sizemode": "area",
          "sizeref": 0.325,
          "symbol": "circle"
         },
         "mode": "markers",
         "name": "Dunedin",
         "orientation": "v",
         "showlegend": true,
         "type": "scatter",
         "x": [
          "Low",
          "Low",
          "Medium",
          "Low",
          "Low",
          "Low",
          "Low",
          "Low",
          "Low"
         ],
         "xaxis": "x",
         "y": [
          8.3,
          -14.9,
          -35.6,
          -54.5,
          -68.9,
          -80.9,
          -92.9,
          -104.9,
          -116.9
         ],
         "yaxis": "y"
        },
        {
         "hovertemplate": "City=Queenstown<br>Traffic Density=%{x}<br>Happiness Score=%{y}<br>Cost_of_Living_Index=%{marker.size}<extra></extra>",
         "legendgroup": "Queenstown",
         "marker": {
          "color": "#B6E880",
          "size": [
           75,
           20,
           25,
           20,
           25,
           20,
           20,
           20,
           20,
           20
          ],
          "sizemode": "area",
          "sizeref": 0.325,
          "symbol": "circle"
         },
         "mode": "markers",
         "name": "Queenstown",
         "orientation": "v",
         "showlegend": true,
         "type": "scatter",
         "x": [
          "Low",
          "Medium",
          "Low",
          "Medium",
          "Low",
          "Low",
          "Low",
          "Low",
          "Low",
          "Low"
         ],
         "xaxis": "x",
         "y": [
          8.4,
          -15.2,
          -29.9,
          -42.8,
          -50.3,
          -65,
          -77,
          -89,
          -101,
          -113
         ],
         "yaxis": "y"
        },
        {
         "hovertemplate": "City=Nelson<br>Traffic Density=%{x}<br>Happiness Score=%{y}<br>Cost_of_Living_Index=%{marker.size}<extra></extra>",
         "legendgroup": "Nelson",
         "marker": {
          "color": "#FF97FF",
          "size": [
           70,
           20,
           20,
           20,
           20
          ],
          "sizemode": "area",
          "sizeref": 0.325,
          "symbol": "circle"
         },
         "mode": "markers",
         "name": "Nelson",
         "orientation": "v",
         "showlegend": true,
         "type": "scatter",
         "x": [
          "Low",
          "Low",
          "Low",
          "Low",
          "Low"
         ],
         "xaxis": "x",
         "y": [
          8.5,
          -13.4,
          -25.4,
          -45.8,
          -57.8
         ],
         "yaxis": "y"
        },
        {
         "hovertemplate": "City=Napier<br>Traffic Density=%{x}<br>Happiness Score=%{y}<br>Cost_of_Living_Index=%{marker.size}<extra></extra>",
         "legendgroup": "Napier",
         "marker": {
          "color": "#FECB52",
          "size": [
           65,
           30,
           20
          ],
          "sizemode": "area",
          "sizeref": 0.325,
          "symbol": "circle"
         },
         "mode": "markers",
         "name": "Napier",
         "orientation": "v",
         "showlegend": true,
         "type": "scatter",
         "x": [
          "Low",
          "Low",
          "Low"
         ],
         "xaxis": "x",
         "y": [
          8.6,
          8.3,
          -12.2
         ],
         "yaxis": "y"
        },
        {
         "hovertemplate": "City=Hamilton<br>Traffic Density=%{x}<br>Happiness Score=%{y}<br>Cost_of_Living_Index=%{marker.size}<extra></extra>",
         "legendgroup": "Hamilton",
         "marker": {
          "color": "#636efa",
          "size": [
           60,
           25
          ],
          "sizemode": "area",
          "sizeref": 0.325,
          "symbol": "circle"
         },
         "mode": "markers",
         "name": "Hamilton",
         "orientation": "v",
         "showlegend": true,
         "type": "scatter",
         "x": [
          "Medium",
          "Low"
         ],
         "xaxis": "x",
         "y": [
          8.2,
          -10.7
         ],
         "yaxis": "y"
        },
        {
         "hovertemplate": "City=Tauranga<br>Traffic Density=%{x}<br>Happiness Score=%{y}<br>Cost_of_Living_Index=%{marker.size}<extra></extra>",
         "legendgroup": "Tauranga",
         "marker": {
          "color": "#EF553B",
          "size": [
           55,
           20
          ],
          "sizemode": "area",
          "sizeref": 0.325,
          "symbol": "circle"
         },
         "mode": "markers",
         "name": "Tauranga",
         "orientation": "v",
         "showlegend": true,
         "type": "scatter",
         "x": [
          "Low",
          "Low"
         ],
         "xaxis": "x",
         "y": [
          8.3,
          -11
         ],
         "yaxis": "y"
        },
        {
         "hovertemplate": "City=Rotorua<br>Traffic Density=%{x}<br>Happiness Score=%{y}<br>Cost_of_Living_Index=%{marker.size}<extra></extra>",
         "legendgroup": "Rotorua",
         "marker": {
          "color": "#00cc96",
          "size": [
           50,
           25
          ],
          "sizemode": "area",
          "sizeref": 0.325,
          "symbol": "circle"
         },
         "mode": "markers",
         "name": "Rotorua",
         "orientation": "v",
         "showlegend": true,
         "type": "scatter",
         "x": [
          "Low",
          "Low"
         ],
         "xaxis": "x",
         "y": [
          8.4,
          -11.3
         ],
         "yaxis": "y"
        },
        {
         "hovertemplate": "City=Palmerston North<br>Traffic Density=%{x}<br>Happiness Score=%{y}<br>Cost_of_Living_Index=%{marker.size}<extra></extra>",
         "legendgroup": "Palmerston North",
         "marker": {
          "color": "#ab63fa",
          "size": [
           45,
           20
          ],
          "sizemode": "area",
          "sizeref": 0.325,
          "symbol": "circle"
         },
         "mode": "markers",
         "name": "Palmerston North",
         "orientation": "v",
         "showlegend": true,
         "type": "scatter",
         "x": [
          "Low",
          "Medium"
         ],
         "xaxis": "x",
         "y": [
          8.5,
          -12.8
         ],
         "yaxis": "y"
        },
        {
         "hovertemplate": "City=New Plymouth<br>Traffic Density=%{x}<br>Happiness Score=%{y}<br>Cost_of_Living_Index=%{marker.size}<extra></extra>",
         "legendgroup": "New Plymouth",
         "marker": {
          "color": "#FFA15A",
          "size": [
           40
          ],
          "sizemode": "area",
          "sizeref": 0.325,
          "symbol": "circle"
         },
         "mode": "markers",
         "name": "New Plymouth",
         "orientation": "v",
         "showlegend": true,
         "type": "scatter",
         "x": [
          "Medium"
         ],
         "xaxis": "x",
         "y": [
          8.1
         ],
         "yaxis": "y"
        },
        {
         "hovertemplate": "City=Lower Hutt<br>Traffic Density=%{x}<br>Happiness Score=%{y}<br>Cost_of_Living_Index=%{marker.size}<extra></extra>",
         "legendgroup": "Lower Hutt",
         "marker": {
          "color": "#19d3f3",
          "size": [
           35
          ],
          "sizemode": "area",
          "sizeref": 0.325,
          "symbol": "circle"
         },
         "mode": "markers",
         "name": "Lower Hutt",
         "orientation": "v",
         "showlegend": true,
         "type": "scatter",
         "x": [
          "Low"
         ],
         "xaxis": "x",
         "y": [
          8.2
         ],
         "yaxis": "y"
        },
        {
         "hovertemplate": "City=Gisborne<br>Traffic Density=%{x}<br>Happiness Score=%{y}<br>Cost_of_Living_Index=%{marker.size}<extra></extra>",
         "legendgroup": "Gisborne",
         "marker": {
          "color": "#FF6692",
          "size": [
           25,
           25
          ],
          "sizemode": "area",
          "sizeref": 0.325,
          "symbol": "circle"
         },
         "mode": "markers",
         "name": "Gisborne",
         "orientation": "v",
         "showlegend": true,
         "type": "scatter",
         "x": [
          "Low",
          "Low"
         ],
         "xaxis": "x",
         "y": [
          8.4,
          -11.9
         ],
         "yaxis": "y"
        },
        {
         "hovertemplate": "City=Kawerau<br>Traffic Density=%{x}<br>Happiness Score=%{y}<br>Cost_of_Living_Index=%{marker.size}<extra></extra>",
         "legendgroup": "Kawerau",
         "marker": {
          "color": "#B6E880",
          "size": [
           20
          ],
          "sizemode": "area",
          "sizeref": 0.325,
          "symbol": "circle"
         },
         "mode": "markers",
         "name": "Kawerau",
         "orientation": "v",
         "showlegend": true,
         "type": "scatter",
         "x": [
          "Medium"
         ],
         "xaxis": "x",
         "y": [
          8
         ],
         "yaxis": "y"
        },
        {
         "hovertemplate": "City=Putaruru<br>Traffic Density=%{x}<br>Happiness Score=%{y}<br>Cost_of_Living_Index=%{marker.size}<extra></extra>",
         "legendgroup": "Putaruru",
         "marker": {
          "color": "#FF97FF",
          "size": [
           25
          ],
          "sizemode": "area",
          "sizeref": 0.325,
          "symbol": "circle"
         },
         "mode": "markers",
         "name": "Putaruru",
         "orientation": "v",
         "showlegend": true,
         "type": "scatter",
         "x": [
          "Low"
         ],
         "xaxis": "x",
         "y": [
          8.1
         ],
         "yaxis": "y"
        },
        {
         "hovertemplate": "City=Taupo<br>Traffic Density=%{x}<br>Happiness Score=%{y}<br>Cost_of_Living_Index=%{marker.size}<extra></extra>",
         "legendgroup": "Taupo",
         "marker": {
          "color": "#FECB52",
          "size": [
           20
          ],
          "sizemode": "area",
          "sizeref": 0.325,
          "symbol": "circle"
         },
         "mode": "markers",
         "name": "Taupo",
         "orientation": "v",
         "showlegend": true,
         "type": "scatter",
         "x": [
          "Low"
         ],
         "xaxis": "x",
         "y": [
          8.2
         ],
         "yaxis": "y"
        },
        {
         "hovertemplate": "City=Tokoroa<br>Traffic Density=%{x}<br>Happiness Score=%{y}<br>Cost_of_Living_Index=%{marker.size}<extra></extra>",
         "legendgroup": "Tokoroa",
         "marker": {
          "color": "#636efa",
          "size": [
           25
          ],
          "sizemode": "area",
          "sizeref": 0.325,
          "symbol": "circle"
         },
         "mode": "markers",
         "name": "Tokoroa",
         "orientation": "v",
         "showlegend": true,
         "type": "scatter",
         "x": [
          "Low"
         ],
         "xaxis": "x",
         "y": [
          8.3
         ],
         "yaxis": "y"
        },
        {
         "hovertemplate": "City=Te Kuiti<br>Traffic Density=%{x}<br>Happiness Score=%{y}<br>Cost_of_Living_Index=%{marker.size}<extra></extra>",
         "legendgroup": "Te Kuiti",
         "marker": {
          "color": "#EF553B",
          "size": [
           20
          ],
          "sizemode": "area",
          "sizeref": 0.325,
          "symbol": "circle"
         },
         "mode": "markers",
         "name": "Te Kuiti",
         "orientation": "v",
         "showlegend": true,
         "type": "scatter",
         "x": [
          "Medium"
         ],
         "xaxis": "x",
         "y": [
          7.9
         ],
         "yaxis": "y"
        },
        {
         "hovertemplate": "City=Otorohanga<br>Traffic Density=%{x}<br>Happiness Score=%{y}<br>Cost_of_Living_Index=%{marker.size}<extra></extra>",
         "legendgroup": "Otorohanga",
         "marker": {
          "color": "#00cc96",
          "size": [
           25
          ],
          "sizemode": "area",
          "sizeref": 0.325,
          "symbol": "circle"
         },
         "mode": "markers",
         "name": "Otorohanga",
         "orientation": "v",
         "showlegend": true,
         "type": "scatter",
         "x": [
          "Low"
         ],
         "xaxis": "x",
         "y": [
          8
         ],
         "yaxis": "y"
        },
        {
         "hovertemplate": "City=Te Awamutu<br>Traffic Density=%{x}<br>Happiness Score=%{y}<br>Cost_of_Living_Index=%{marker.size}<extra></extra>",
         "legendgroup": "Te Awamutu",
         "marker": {
          "color": "#ab63fa",
          "size": [
           20
          ],
          "sizemode": "area",
          "sizeref": 0.325,
          "symbol": "circle"
         },
         "mode": "markers",
         "name": "Te Awamutu",
         "orientation": "v",
         "showlegend": true,
         "type": "scatter",
         "x": [
          "Low"
         ],
         "xaxis": "x",
         "y": [
          8.1
         ],
         "yaxis": "y"
        },
        {
         "hovertemplate": "City=Cambridge<br>Traffic Density=%{x}<br>Happiness Score=%{y}<br>Cost_of_Living_Index=%{marker.size}<extra></extra>",
         "legendgroup": "Cambridge",
         "marker": {
          "color": "#FFA15A",
          "size": [
           25
          ],
          "sizemode": "area",
          "sizeref": 0.325,
          "symbol": "circle"
         },
         "mode": "markers",
         "name": "Cambridge",
         "orientation": "v",
         "showlegend": true,
         "type": "scatter",
         "x": [
          "Low"
         ],
         "xaxis": "x",
         "y": [
          7.8
         ],
         "yaxis": "y"
        },
        {
         "hovertemplate": "City=Matamata<br>Traffic Density=%{x}<br>Happiness Score=%{y}<br>Cost_of_Living_Index=%{marker.size}<extra></extra>",
         "legendgroup": "Matamata",
         "marker": {
          "color": "#19d3f3",
          "size": [
           20
          ],
          "sizemode": "area",
          "sizeref": 0.325,
          "symbol": "circle"
         },
         "mode": "markers",
         "name": "Matamata",
         "orientation": "v",
         "showlegend": true,
         "type": "scatter",
         "x": [
          "Medium"
         ],
         "xaxis": "x",
         "y": [
          7.6
         ],
         "yaxis": "y"
        },
        {
         "hovertemplate": "City=Te Aroha<br>Traffic Density=%{x}<br>Happiness Score=%{y}<br>Cost_of_Living_Index=%{marker.size}<extra></extra>",
         "legendgroup": "Te Aroha",
         "marker": {
          "color": "#FF6692",
          "size": [
           25
          ],
          "sizemode": "area",
          "sizeref": 0.325,
          "symbol": "circle"
         },
         "mode": "markers",
         "name": "Te Aroha",
         "orientation": "v",
         "showlegend": true,
         "type": "scatter",
         "x": [
          "Low"
         ],
         "xaxis": "x",
         "y": [
          7.7
         ],
         "yaxis": "y"
        },
        {
         "hovertemplate": "City=Paeroa<br>Traffic Density=%{x}<br>Happiness Score=%{y}<br>Cost_of_Living_Index=%{marker.size}<extra></extra>",
         "legendgroup": "Paeroa",
         "marker": {
          "color": "#B6E880",
          "size": [
           20
          ],
          "sizemode": "area",
          "sizeref": 0.325,
          "symbol": "circle"
         },
         "mode": "markers",
         "name": "Paeroa",
         "orientation": "v",
         "showlegend": true,
         "type": "scatter",
         "x": [
          "Low"
         ],
         "xaxis": "x",
         "y": [
          7.8
         ],
         "yaxis": "y"
        },
        {
         "hovertemplate": "City=Waihi<br>Traffic Density=%{x}<br>Happiness Score=%{y}<br>Cost_of_Living_Index=%{marker.size}<extra></extra>",
         "legendgroup": "Waihi",
         "marker": {
          "color": "#FF97FF",
          "size": [
           25
          ],
          "sizemode": "area",
          "sizeref": 0.325,
          "symbol": "circle"
         },
         "mode": "markers",
         "name": "Waihi",
         "orientation": "v",
         "showlegend": true,
         "type": "scatter",
         "x": [
          "Low"
         ],
         "xaxis": "x",
         "y": [
          7.5
         ],
         "yaxis": "y"
        },
        {
         "hovertemplate": "City=Whangamata<br>Traffic Density=%{x}<br>Happiness Score=%{y}<br>Cost_of_Living_Index=%{marker.size}<extra></extra>",
         "legendgroup": "Whangamata",
         "marker": {
          "color": "#FECB52",
          "size": [
           20
          ],
          "sizemode": "area",
          "sizeref": 0.325,
          "symbol": "circle"
         },
         "mode": "markers",
         "name": "Whangamata",
         "orientation": "v",
         "showlegend": true,
         "type": "scatter",
         "x": [
          "Medium"
         ],
         "xaxis": "x",
         "y": [
          7.3
         ],
         "yaxis": "y"
        },
        {
         "hovertemplate": "City=Tairua<br>Traffic Density=%{x}<br>Happiness Score=%{y}<br>Cost_of_Living_Index=%{marker.size}<extra></extra>",
         "legendgroup": "Tairua",
         "marker": {
          "color": "#636efa",
          "size": [
           25
          ],
          "sizemode": "area",
          "sizeref": 0.325,
          "symbol": "circle"
         },
         "mode": "markers",
         "name": "Tairua",
         "orientation": "v",
         "showlegend": true,
         "type": "scatter",
         "x": [
          "Low"
         ],
         "xaxis": "x",
         "y": [
          7.4
         ],
         "yaxis": "y"
        },
        {
         "hovertemplate": "City=Whitianga<br>Traffic Density=%{x}<br>Happiness Score=%{y}<br>Cost_of_Living_Index=%{marker.size}<extra></extra>",
         "legendgroup": "Whitianga",
         "marker": {
          "color": "#EF553B",
          "size": [
           20
          ],
          "sizemode": "area",
          "sizeref": 0.325,
          "symbol": "circle"
         },
         "mode": "markers",
         "name": "Whitianga",
         "orientation": "v",
         "showlegend": true,
         "type": "scatter",
         "x": [
          "Low"
         ],
         "xaxis": "x",
         "y": [
          7.5
         ],
         "yaxis": "y"
        },
        {
         "hovertemplate": "City=Coromandel<br>Traffic Density=%{x}<br>Happiness Score=%{y}<br>Cost_of_Living_Index=%{marker.size}<extra></extra>",
         "legendgroup": "Coromandel",
         "marker": {
          "color": "#00cc96",
          "size": [
           25
          ],
          "sizemode": "area",
          "sizeref": 0.325,
          "symbol": "circle"
         },
         "mode": "markers",
         "name": "Coromandel",
         "orientation": "v",
         "showlegend": true,
         "type": "scatter",
         "x": [
          "Low"
         ],
         "xaxis": "x",
         "y": [
          7.2
         ],
         "yaxis": "y"
        },
        {
         "hovertemplate": "City=Whangaparaoa<br>Traffic Density=%{x}<br>Happiness Score=%{y}<br>Cost_of_Living_Index=%{marker.size}<extra></extra>",
         "legendgroup": "Whangaparaoa",
         "marker": {
          "color": "#ab63fa",
          "size": [
           20
          ],
          "sizemode": "area",
          "sizeref": 0.325,
          "symbol": "circle"
         },
         "mode": "markers",
         "name": "Whangaparaoa",
         "orientation": "v",
         "showlegend": true,
         "type": "scatter",
         "x": [
          "Medium"
         ],
         "xaxis": "x",
         "y": [
          7
         ],
         "yaxis": "y"
        },
        {
         "hovertemplate": "City=Orewa<br>Traffic Density=%{x}<br>Happiness Score=%{y}<br>Cost_of_Living_Index=%{marker.size}<extra></extra>",
         "legendgroup": "Orewa",
         "marker": {
          "color": "#FFA15A",
          "size": [
           25,
           25
          ],
          "sizemode": "area",
          "sizeref": 0.325,
          "symbol": "circle"
         },
         "mode": "markers",
         "name": "Orewa",
         "orientation": "v",
         "showlegend": true,
         "type": "scatter",
         "x": [
          "Low",
          "Low"
         ],
         "xaxis": "x",
         "y": [
          7.1,
          -10.1
         ],
         "yaxis": "y"
        },
        {
         "hovertemplate": "City=Warkworth<br>Traffic Density=%{x}<br>Happiness Score=%{y}<br>Cost_of_Living_Index=%{marker.size}<extra></extra>",
         "legendgroup": "Warkworth",
         "marker": {
          "color": "#19d3f3",
          "size": [
           20,
           20
          ],
          "sizemode": "area",
          "sizeref": 0.325,
          "symbol": "circle"
         },
         "mode": "markers",
         "name": "Warkworth",
         "orientation": "v",
         "showlegend": true,
         "type": "scatter",
         "x": [
          "Low",
          "Low"
         ],
         "xaxis": "x",
         "y": [
          6.8,
          -9.8
         ],
         "yaxis": "y"
        },
        {
         "hovertemplate": "City=Matakana<br>Traffic Density=%{x}<br>Happiness Score=%{y}<br>Cost_of_Living_Index=%{marker.size}<extra></extra>",
         "legendgroup": "Matakana",
         "marker": {
          "color": "#FF6692",
          "size": [
           25
          ],
          "sizemode": "area",
          "sizeref": 0.325,
          "symbol": "circle"
         },
         "mode": "markers",
         "name": "Matakana",
         "orientation": "v",
         "showlegend": true,
         "type": "scatter",
         "x": [
          "Low"
         ],
         "xaxis": "x",
         "y": [
          6.5
         ],
         "yaxis": "y"
        },
        {
         "hovertemplate": "City=Leigh<br>Traffic Density=%{x}<br>Happiness Score=%{y}<br>Cost_of_Living_Index=%{marker.size}<extra></extra>",
         "legendgroup": "Leigh",
         "marker": {
          "color": "#B6E880",
          "size": [
           20
          ],
          "sizemode": "area",
          "sizeref": 0.325,
          "symbol": "circle"
         },
         "mode": "markers",
         "name": "Leigh",
         "orientation": "v",
         "showlegend": true,
         "type": "scatter",
         "x": [
          "Medium"
         ],
         "xaxis": "x",
         "y": [
          6.2
         ],
         "yaxis": "y"
        },
        {
         "hovertemplate": "City=Wellsford<br>Traffic Density=%{x}<br>Happiness Score=%{y}<br>Cost_of_Living_Index=%{marker.size}<extra></extra>",
         "legendgroup": "Wellsford",
         "marker": {
          "color": "#FF97FF",
          "size": [
           25,
           25
          ],
          "sizemode": "area",
          "sizeref": 0.325,
          "symbol": "circle"
         },
         "mode": "markers",
         "name": "Wellsford",
         "orientation": "v",
         "showlegend": true,
         "type": "scatter",
         "x": [
          "Low",
          "Low"
         ],
         "xaxis": "x",
         "y": [
          6,
          -9.5
         ],
         "yaxis": "y"
        },
        {
         "hovertemplate": "City=Mangawhai<br>Traffic Density=%{x}<br>Happiness Score=%{y}<br>Cost_of_Living_Index=%{marker.size}<extra></extra>",
         "legendgroup": "Mangawhai",
         "marker": {
          "color": "#FECB52",
          "size": [
           20,
           20
          ],
          "sizemode": "area",
          "sizeref": 0.325,
          "symbol": "circle"
         },
         "mode": "markers",
         "name": "Mangawhai",
         "orientation": "v",
         "showlegend": true,
         "type": "scatter",
         "x": [
          "Low",
          "Medium"
         ],
         "xaxis": "x",
         "y": [
          5.8,
          -9.2
         ],
         "yaxis": "y"
        },
        {
         "hovertemplate": "City=Te Hana<br>Traffic Density=%{x}<br>Happiness Score=%{y}<br>Cost_of_Living_Index=%{marker.size}<extra></extra>",
         "legendgroup": "Te Hana",
         "marker": {
          "color": "#636efa",
          "size": [
           25
          ],
          "sizemode": "area",
          "sizeref": 0.325,
          "symbol": "circle"
         },
         "mode": "markers",
         "name": "Te Hana",
         "orientation": "v",
         "showlegend": true,
         "type": "scatter",
         "x": [
          "Low"
         ],
         "xaxis": "x",
         "y": [
          5.5
         ],
         "yaxis": "y"
        },
        {
         "hovertemplate": "City=Waipu<br>Traffic Density=%{x}<br>Happiness Score=%{y}<br>Cost_of_Living_Index=%{marker.size}<extra></extra>",
         "legendgroup": "Waipu",
         "marker": {
          "color": "#EF553B",
          "size": [
           20,
           20
          ],
          "sizemode": "area",
          "sizeref": 0.325,
          "symbol": "circle"
         },
         "mode": "markers",
         "name": "Waipu",
         "orientation": "v",
         "showlegend": true,
         "type": "scatter",
         "x": [
          "Medium",
          "Low"
         ],
         "xaxis": "x",
         "y": [
          5.2,
          -8.6
         ],
         "yaxis": "y"
        },
        {
         "hovertemplate": "City=Ruakaka<br>Traffic Density=%{x}<br>Happiness Score=%{y}<br>Cost_of_Living_Index=%{marker.size}<extra></extra>",
         "legendgroup": "Ruakaka",
         "marker": {
          "color": "#00cc96",
          "size": [
           25,
           25
          ],
          "sizemode": "area",
          "sizeref": 0.325,
          "symbol": "circle"
         },
         "mode": "markers",
         "name": "Ruakaka",
         "orientation": "v",
         "showlegend": true,
         "type": "scatter",
         "x": [
          "Low",
          "Low"
         ],
         "xaxis": "x",
         "y": [
          5,
          -8.3
         ],
         "yaxis": "y"
        },
        {
         "hovertemplate": "City=Whangarei<br>Traffic Density=%{x}<br>Happiness Score=%{y}<br>Cost_of_Living_Index=%{marker.size}<extra></extra>",
         "legendgroup": "Whangarei",
         "marker": {
          "color": "#ab63fa",
          "size": [
           20
          ],
          "sizemode": "area",
          "sizeref": 0.325,
          "symbol": "circle"
         },
         "mode": "markers",
         "name": "Whangarei",
         "orientation": "v",
         "showlegend": true,
         "type": "scatter",
         "x": [
          "Low"
         ],
         "xaxis": "x",
         "y": [
          4.8
         ],
         "yaxis": "y"
        },
        {
         "hovertemplate": "City=Dargaville<br>Traffic Density=%{x}<br>Happiness Score=%{y}<br>Cost_of_Living_Index=%{marker.size}<extra></extra>",
         "legendgroup": "Dargaville",
         "marker": {
          "color": "#FFA15A",
          "size": [
           25
          ],
          "sizemode": "area",
          "sizeref": 0.325,
          "symbol": "circle"
         },
         "mode": "markers",
         "name": "Dargaville",
         "orientation": "v",
         "showlegend": true,
         "type": "scatter",
         "x": [
          "Low"
         ],
         "xaxis": "x",
         "y": [
          4.5
         ],
         "yaxis": "y"
        },
        {
         "hovertemplate": "City=Kaitaia<br>Traffic Density=%{x}<br>Happiness Score=%{y}<br>Cost_of_Living_Index=%{marker.size}<extra></extra>",
         "legendgroup": "Kaitaia",
         "marker": {
          "color": "#19d3f3",
          "size": [
           20
          ],
          "sizemode": "area",
          "sizeref": 0.325,
          "symbol": "circle"
         },
         "mode": "markers",
         "name": "Kaitaia",
         "orientation": "v",
         "showlegend": true,
         "type": "scatter",
         "x": [
          "Medium"
         ],
         "xaxis": "x",
         "y": [
          4.2
         ],
         "yaxis": "y"
        },
        {
         "hovertemplate": "City=Kaikohe<br>Traffic Density=%{x}<br>Happiness Score=%{y}<br>Cost_of_Living_Index=%{marker.size}<extra></extra>",
         "legendgroup": "Kaikohe",
         "marker": {
          "color": "#FF6692",
          "size": [
           25
          ],
          "sizemode": "area",
          "sizeref": 0.325,
          "symbol": "circle"
         },
         "mode": "markers",
         "name": "Kaikohe",
         "orientation": "v",
         "showlegend": true,
         "type": "scatter",
         "x": [
          "Low"
         ],
         "xaxis": "x",
         "y": [
          4
         ],
         "yaxis": "y"
        },
        {
         "hovertemplate": "City=Kerikeri<br>Traffic Density=%{x}<br>Happiness Score=%{y}<br>Cost_of_Living_Index=%{marker.size}<extra></extra>",
         "legendgroup": "Kerikeri",
         "marker": {
          "color": "#B6E880",
          "size": [
           20
          ],
          "sizemode": "area",
          "sizeref": 0.325,
          "symbol": "circle"
         },
         "mode": "markers",
         "name": "Kerikeri",
         "orientation": "v",
         "showlegend": true,
         "type": "scatter",
         "x": [
          "Low"
         ],
         "xaxis": "x",
         "y": [
          3.8
         ],
         "yaxis": "y"
        },
        {
         "hovertemplate": "City=Paihia<br>Traffic Density=%{x}<br>Happiness Score=%{y}<br>Cost_of_Living_Index=%{marker.size}<extra></extra>",
         "legendgroup": "Paihia",
         "marker": {
          "color": "#FF97FF",
          "size": [
           25
          ],
          "sizemode": "area",
          "sizeref": 0.325,
          "symbol": "circle"
         },
         "mode": "markers",
         "name": "Paihia",
         "orientation": "v",
         "showlegend": true,
         "type": "scatter",
         "x": [
          "Low"
         ],
         "xaxis": "x",
         "y": [
          3.5
         ],
         "yaxis": "y"
        },
        {
         "hovertemplate": "City=Russell<br>Traffic Density=%{x}<br>Happiness Score=%{y}<br>Cost_of_Living_Index=%{marker.size}<extra></extra>",
         "legendgroup": "Russell",
         "marker": {
          "color": "#FECB52",
          "size": [
           20
          ],
          "sizemode": "area",
          "sizeref": 0.325,
          "symbol": "circle"
         },
         "mode": "markers",
         "name": "Russell",
         "orientation": "v",
         "showlegend": true,
         "type": "scatter",
         "x": [
          "Medium"
         ],
         "xaxis": "x",
         "y": [
          3.2
         ],
         "yaxis": "y"
        },
        {
         "hovertemplate": "City=Opua<br>Traffic Density=%{x}<br>Happiness Score=%{y}<br>Cost_of_Living_Index=%{marker.size}<extra></extra>",
         "legendgroup": "Opua",
         "marker": {
          "color": "#636efa",
          "size": [
           25
          ],
          "sizemode": "area",
          "sizeref": 0.325,
          "symbol": "circle"
         },
         "mode": "markers",
         "name": "Opua",
         "orientation": "v",
         "showlegend": true,
         "type": "scatter",
         "x": [
          "Low"
         ],
         "xaxis": "x",
         "y": [
          3
         ],
         "yaxis": "y"
        },
        {
         "hovertemplate": "City=Kohukohu<br>Traffic Density=%{x}<br>Happiness Score=%{y}<br>Cost_of_Living_Index=%{marker.size}<extra></extra>",
         "legendgroup": "Kohukohu",
         "marker": {
          "color": "#EF553B",
          "size": [
           20
          ],
          "sizemode": "area",
          "sizeref": 0.325,
          "symbol": "circle"
         },
         "mode": "markers",
         "name": "Kohukohu",
         "orientation": "v",
         "showlegend": true,
         "type": "scatter",
         "x": [
          "Low"
         ],
         "xaxis": "x",
         "y": [
          2.8
         ],
         "yaxis": "y"
        },
        {
         "hovertemplate": "City=Horeke<br>Traffic Density=%{x}<br>Happiness Score=%{y}<br>Cost_of_Living_Index=%{marker.size}<extra></extra>",
         "legendgroup": "Horeke",
         "marker": {
          "color": "#00cc96",
          "size": [
           25
          ],
          "sizemode": "area",
          "sizeref": 0.325,
          "symbol": "circle"
         },
         "mode": "markers",
         "name": "Horeke",
         "orientation": "v",
         "showlegend": true,
         "type": "scatter",
         "x": [
          "Low"
         ],
         "xaxis": "x",
         "y": [
          2.5
         ],
         "yaxis": "y"
        },
        {
         "hovertemplate": "City=Rawene<br>Traffic Density=%{x}<br>Happiness Score=%{y}<br>Cost_of_Living_Index=%{marker.size}<extra></extra>",
         "legendgroup": "Rawene",
         "marker": {
          "color": "#ab63fa",
          "size": [
           20
          ],
          "sizemode": "area",
          "sizeref": 0.325,
          "symbol": "circle"
         },
         "mode": "markers",
         "name": "Rawene",
         "orientation": "v",
         "showlegend": true,
         "type": "scatter",
         "x": [
          "Medium"
         ],
         "xaxis": "x",
         "y": [
          2.2
         ],
         "yaxis": "y"
        },
        {
         "hovertemplate": "City=Omapere<br>Traffic Density=%{x}<br>Happiness Score=%{y}<br>Cost_of_Living_Index=%{marker.size}<extra></extra>",
         "legendgroup": "Omapere",
         "marker": {
          "color": "#FFA15A",
          "size": [
           25
          ],
          "sizemode": "area",
          "sizeref": 0.325,
          "symbol": "circle"
         },
         "mode": "markers",
         "name": "Omapere",
         "orientation": "v",
         "showlegend": true,
         "type": "scatter",
         "x": [
          "Low"
         ],
         "xaxis": "x",
         "y": [
          2
         ],
         "yaxis": "y"
        },
        {
         "hovertemplate": "City=Opononi<br>Traffic Density=%{x}<br>Happiness Score=%{y}<br>Cost_of_Living_Index=%{marker.size}<extra></extra>",
         "legendgroup": "Opononi",
         "marker": {
          "color": "#19d3f3",
          "size": [
           20
          ],
          "sizemode": "area",
          "sizeref": 0.325,
          "symbol": "circle"
         },
         "mode": "markers",
         "name": "Opononi",
         "orientation": "v",
         "showlegend": true,
         "type": "scatter",
         "x": [
          "Low"
         ],
         "xaxis": "x",
         "y": [
          1.8
         ],
         "yaxis": "y"
        },
        {
         "hovertemplate": "City=Waimamaku<br>Traffic Density=%{x}<br>Happiness Score=%{y}<br>Cost_of_Living_Index=%{marker.size}<extra></extra>",
         "legendgroup": "Waimamaku",
         "marker": {
          "color": "#FF6692",
          "size": [
           25
          ],
          "sizemode": "area",
          "sizeref": 0.325,
          "symbol": "circle"
         },
         "mode": "markers",
         "name": "Waimamaku",
         "orientation": "v",
         "showlegend": true,
         "type": "scatter",
         "x": [
          "Low"
         ],
         "xaxis": "x",
         "y": [
          1.5
         ],
         "yaxis": "y"
        },
        {
         "hovertemplate": "City=Waipoua<br>Traffic Density=%{x}<br>Happiness Score=%{y}<br>Cost_of_Living_Index=%{marker.size}<extra></extra>",
         "legendgroup": "Waipoua",
         "marker": {
          "color": "#B6E880",
          "size": [
           20
          ],
          "sizemode": "area",
          "sizeref": 0.325,
          "symbol": "circle"
         },
         "mode": "markers",
         "name": "Waipoua",
         "orientation": "v",
         "showlegend": true,
         "type": "scatter",
         "x": [
          "Medium"
         ],
         "xaxis": "x",
         "y": [
          1.2
         ],
         "yaxis": "y"
        },
        {
         "hovertemplate": "City=Aranga<br>Traffic Density=%{x}<br>Happiness Score=%{y}<br>Cost_of_Living_Index=%{marker.size}<extra></extra>",
         "legendgroup": "Aranga",
         "marker": {
          "color": "#FF97FF",
          "size": [
           25
          ],
          "sizemode": "area",
          "sizeref": 0.325,
          "symbol": "circle"
         },
         "mode": "markers",
         "name": "Aranga",
         "orientation": "v",
         "showlegend": true,
         "type": "scatter",
         "x": [
          "Low"
         ],
         "xaxis": "x",
         "y": [
          1
         ],
         "yaxis": "y"
        },
        {
         "hovertemplate": "City=Matapouri<br>Traffic Density=%{x}<br>Happiness Score=%{y}<br>Cost_of_Living_Index=%{marker.size}<extra></extra>",
         "legendgroup": "Matapouri",
         "marker": {
          "color": "#FECB52",
          "size": [
           20
          ],
          "sizemode": "area",
          "sizeref": 0.325,
          "symbol": "circle"
         },
         "mode": "markers",
         "name": "Matapouri",
         "orientation": "v",
         "showlegend": true,
         "type": "scatter",
         "x": [
          "Low"
         ],
         "xaxis": "x",
         "y": [
          0.8
         ],
         "yaxis": "y"
        },
        {
         "hovertemplate": "City=Tutukaka<br>Traffic Density=%{x}<br>Happiness Score=%{y}<br>Cost_of_Living_Index=%{marker.size}<extra></extra>",
         "legendgroup": "Tutukaka",
         "marker": {
          "color": "#636efa",
          "size": [
           25
          ],
          "sizemode": "area",
          "sizeref": 0.325,
          "symbol": "circle"
         },
         "mode": "markers",
         "name": "Tutukaka",
         "orientation": "v",
         "showlegend": true,
         "type": "scatter",
         "x": [
          "Low"
         ],
         "xaxis": "x",
         "y": [
          0.5
         ],
         "yaxis": "y"
        },
        {
         "hovertemplate": "City=Whananaki<br>Traffic Density=%{x}<br>Happiness Score=%{y}<br>Cost_of_Living_Index=%{marker.size}<extra></extra>",
         "legendgroup": "Whananaki",
         "marker": {
          "color": "#EF553B",
          "size": [
           20
          ],
          "sizemode": "area",
          "sizeref": 0.325,
          "symbol": "circle"
         },
         "mode": "markers",
         "name": "Whananaki",
         "orientation": "v",
         "showlegend": true,
         "type": "scatter",
         "x": [
          "Medium"
         ],
         "xaxis": "x",
         "y": [
          0.2
         ],
         "yaxis": "y"
        },
        {
         "hovertemplate": "City=Whangaruru<br>Traffic Density=%{x}<br>Happiness Score=%{y}<br>Cost_of_Living_Index=%{marker.size}<extra></extra>",
         "legendgroup": "Whangaruru",
         "marker": {
          "color": "#00cc96",
          "size": [
           25
          ],
          "sizemode": "area",
          "sizeref": 0.325,
          "symbol": "circle"
         },
         "mode": "markers",
         "name": "Whangaruru",
         "orientation": "v",
         "showlegend": true,
         "type": "scatter",
         "x": [
          "Low"
         ],
         "xaxis": "x",
         "y": [
          0
         ],
         "yaxis": "y"
        },
        {
         "hovertemplate": "City=Taipa<br>Traffic Density=%{x}<br>Happiness Score=%{y}<br>Cost_of_Living_Index=%{marker.size}<extra></extra>",
         "legendgroup": "Taipa",
         "marker": {
          "color": "#ab63fa",
          "size": [
           20
          ],
          "sizemode": "area",
          "sizeref": 0.325,
          "symbol": "circle"
         },
         "mode": "markers",
         "name": "Taipa",
         "orientation": "v",
         "showlegend": true,
         "type": "scatter",
         "x": [
          "Low"
         ],
         "xaxis": "x",
         "y": [
          -0.2
         ],
         "yaxis": "y"
        },
        {
         "hovertemplate": "City=Mangonui<br>Traffic Density=%{x}<br>Happiness Score=%{y}<br>Cost_of_Living_Index=%{marker.size}<extra></extra>",
         "legendgroup": "Mangonui",
         "marker": {
          "color": "#FFA15A",
          "size": [
           25
          ],
          "sizemode": "area",
          "sizeref": 0.325,
          "symbol": "circle"
         },
         "mode": "markers",
         "name": "Mangonui",
         "orientation": "v",
         "showlegend": true,
         "type": "scatter",
         "x": [
          "Low"
         ],
         "xaxis": "x",
         "y": [
          -0.5
         ],
         "yaxis": "y"
        },
        {
         "hovertemplate": "City=Coopers Beach<br>Traffic Density=%{x}<br>Happiness Score=%{y}<br>Cost_of_Living_Index=%{marker.size}<extra></extra>",
         "legendgroup": "Coopers Beach",
         "marker": {
          "color": "#19d3f3",
          "size": [
           20
          ],
          "sizemode": "area",
          "sizeref": 0.325,
          "symbol": "circle"
         },
         "mode": "markers",
         "name": "Coopers Beach",
         "orientation": "v",
         "showlegend": true,
         "type": "scatter",
         "x": [
          "Medium"
         ],
         "xaxis": "x",
         "y": [
          -0.8
         ],
         "yaxis": "y"
        },
        {
         "hovertemplate": "City=Cable Bay<br>Traffic Density=%{x}<br>Happiness Score=%{y}<br>Cost_of_Living_Index=%{marker.size}<extra></extra>",
         "legendgroup": "Cable Bay",
         "marker": {
          "color": "#FF6692",
          "size": [
           25
          ],
          "sizemode": "area",
          "sizeref": 0.325,
          "symbol": "circle"
         },
         "mode": "markers",
         "name": "Cable Bay",
         "orientation": "v",
         "showlegend": true,
         "type": "scatter",
         "x": [
          "Low"
         ],
         "xaxis": "x",
         "y": [
          -1.1
         ],
         "yaxis": "y"
        },
        {
         "hovertemplate": "City=Rarawa<br>Traffic Density=%{x}<br>Happiness Score=%{y}<br>Cost_of_Living_Index=%{marker.size}<extra></extra>",
         "legendgroup": "Rarawa",
         "marker": {
          "color": "#B6E880",
          "size": [
           20
          ],
          "sizemode": "area",
          "sizeref": 0.325,
          "symbol": "circle"
         },
         "mode": "markers",
         "name": "Rarawa",
         "orientation": "v",
         "showlegend": true,
         "type": "scatter",
         "x": [
          "Low"
         ],
         "xaxis": "x",
         "y": [
          -1.4
         ],
         "yaxis": "y"
        },
        {
         "hovertemplate": "City=Pukenui<br>Traffic Density=%{x}<br>Happiness Score=%{y}<br>Cost_of_Living_Index=%{marker.size}<extra></extra>",
         "legendgroup": "Pukenui",
         "marker": {
          "color": "#FF97FF",
          "size": [
           25
          ],
          "sizemode": "area",
          "sizeref": 0.325,
          "symbol": "circle"
         },
         "mode": "markers",
         "name": "Pukenui",
         "orientation": "v",
         "showlegend": true,
         "type": "scatter",
         "x": [
          "Low"
         ],
         "xaxis": "x",
         "y": [
          -1.7
         ],
         "yaxis": "y"
        },
        {
         "hovertemplate": "City=Awanui<br>Traffic Density=%{x}<br>Happiness Score=%{y}<br>Cost_of_Living_Index=%{marker.size}<extra></extra>",
         "legendgroup": "Awanui",
         "marker": {
          "color": "#FECB52",
          "size": [
           20
          ],
          "sizemode": "area",
          "sizeref": 0.325,
          "symbol": "circle"
         },
         "mode": "markers",
         "name": "Awanui",
         "orientation": "v",
         "showlegend": true,
         "type": "scatter",
         "x": [
          "Medium"
         ],
         "xaxis": "x",
         "y": [
          -2
         ],
         "yaxis": "y"
        },
        {
         "hovertemplate": "City=Herekino<br>Traffic Density=%{x}<br>Happiness Score=%{y}<br>Cost_of_Living_Index=%{marker.size}<extra></extra>",
         "legendgroup": "Herekino",
         "marker": {
          "color": "#636efa",
          "size": [
           25
          ],
          "sizemode": "area",
          "sizeref": 0.325,
          "symbol": "circle"
         },
         "mode": "markers",
         "name": "Herekino",
         "orientation": "v",
         "showlegend": true,
         "type": "scatter",
         "x": [
          "Low"
         ],
         "xaxis": "x",
         "y": [
          -2.3
         ],
         "yaxis": "y"
        },
        {
         "hovertemplate": "City=Punguru<br>Traffic Density=%{x}<br>Happiness Score=%{y}<br>Cost_of_Living_Index=%{marker.size}<extra></extra>",
         "legendgroup": "Punguru",
         "marker": {
          "color": "#EF553B",
          "size": [
           20
          ],
          "sizemode": "area",
          "sizeref": 0.325,
          "symbol": "circle"
         },
         "mode": "markers",
         "name": "Punguru",
         "orientation": "v",
         "showlegend": true,
         "type": "scatter",
         "x": [
          "Low"
         ],
         "xaxis": "x",
         "y": [
          -2.6
         ],
         "yaxis": "y"
        },
        {
         "hovertemplate": "City=Okaihau<br>Traffic Density=%{x}<br>Happiness Score=%{y}<br>Cost_of_Living_Index=%{marker.size}<extra></extra>",
         "legendgroup": "Okaihau",
         "marker": {
          "color": "#00cc96",
          "size": [
           25
          ],
          "sizemode": "area",
          "sizeref": 0.325,
          "symbol": "circle"
         },
         "mode": "markers",
         "name": "Okaihau",
         "orientation": "v",
         "showlegend": true,
         "type": "scatter",
         "x": [
          "Low"
         ],
         "xaxis": "x",
         "y": [
          -2.9
         ],
         "yaxis": "y"
        },
        {
         "hovertemplate": "City=Ohaeawai<br>Traffic Density=%{x}<br>Happiness Score=%{y}<br>Cost_of_Living_Index=%{marker.size}<extra></extra>",
         "legendgroup": "Ohaeawai",
         "marker": {
          "color": "#ab63fa",
          "size": [
           20
          ],
          "sizemode": "area",
          "sizeref": 0.325,
          "symbol": "circle"
         },
         "mode": "markers",
         "name": "Ohaeawai",
         "orientation": "v",
         "showlegend": true,
         "type": "scatter",
         "x": [
          "Medium"
         ],
         "xaxis": "x",
         "y": [
          -3.2
         ],
         "yaxis": "y"
        },
        {
         "hovertemplate": "City=Waimate North<br>Traffic Density=%{x}<br>Happiness Score=%{y}<br>Cost_of_Living_Index=%{marker.size}<extra></extra>",
         "legendgroup": "Waimate North",
         "marker": {
          "color": "#FFA15A",
          "size": [
           25
          ],
          "sizemode": "area",
          "sizeref": 0.325,
          "symbol": "circle"
         },
         "mode": "markers",
         "name": "Waimate North",
         "orientation": "v",
         "showlegend": true,
         "type": "scatter",
         "x": [
          "Low"
         ],
         "xaxis": "x",
         "y": [
          -3.5
         ],
         "yaxis": "y"
        },
        {
         "hovertemplate": "City=Kawakawa<br>Traffic Density=%{x}<br>Happiness Score=%{y}<br>Cost_of_Living_Index=%{marker.size}<extra></extra>",
         "legendgroup": "Kawakawa",
         "marker": {
          "color": "#19d3f3",
          "size": [
           20
          ],
          "sizemode": "area",
          "sizeref": 0.325,
          "symbol": "circle"
         },
         "mode": "markers",
         "name": "Kawakawa",
         "orientation": "v",
         "showlegend": true,
         "type": "scatter",
         "x": [
          "Low"
         ],
         "xaxis": "x",
         "y": [
          -3.8
         ],
         "yaxis": "y"
        },
        {
         "hovertemplate": "City=Moerewa<br>Traffic Density=%{x}<br>Happiness Score=%{y}<br>Cost_of_Living_Index=%{marker.size}<extra></extra>",
         "legendgroup": "Moerewa",
         "marker": {
          "color": "#FF6692",
          "size": [
           25
          ],
          "sizemode": "area",
          "sizeref": 0.325,
          "symbol": "circle"
         },
         "mode": "markers",
         "name": "Moerewa",
         "orientation": "v",
         "showlegend": true,
         "type": "scatter",
         "x": [
          "Low"
         ],
         "xaxis": "x",
         "y": [
          -4.1
         ],
         "yaxis": "y"
        },
        {
         "hovertemplate": "City=Matawaia<br>Traffic Density=%{x}<br>Happiness Score=%{y}<br>Cost_of_Living_Index=%{marker.size}<extra></extra>",
         "legendgroup": "Matawaia",
         "marker": {
          "color": "#B6E880",
          "size": [
           20
          ],
          "sizemode": "area",
          "sizeref": 0.325,
          "symbol": "circle"
         },
         "mode": "markers",
         "name": "Matawaia",
         "orientation": "v",
         "showlegend": true,
         "type": "scatter",
         "x": [
          "Medium"
         ],
         "xaxis": "x",
         "y": [
          -4.4
         ],
         "yaxis": "y"
        },
        {
         "hovertemplate": "City=Maromaku<br>Traffic Density=%{x}<br>Happiness Score=%{y}<br>Cost_of_Living_Index=%{marker.size}<extra></extra>",
         "legendgroup": "Maromaku",
         "marker": {
          "color": "#FF97FF",
          "size": [
           25
          ],
          "sizemode": "area",
          "sizeref": 0.325,
          "symbol": "circle"
         },
         "mode": "markers",
         "name": "Maromaku",
         "orientation": "v",
         "showlegend": true,
         "type": "scatter",
         "x": [
          "Low"
         ],
         "xaxis": "x",
         "y": [
          -4.7
         ],
         "yaxis": "y"
        },
        {
         "hovertemplate": "City=Puhipuhi<br>Traffic Density=%{x}<br>Happiness Score=%{y}<br>Cost_of_Living_Index=%{marker.size}<extra></extra>",
         "legendgroup": "Puhipuhi",
         "marker": {
          "color": "#FECB52",
          "size": [
           20
          ],
          "sizemode": "area",
          "sizeref": 0.325,
          "symbol": "circle"
         },
         "mode": "markers",
         "name": "Puhipuhi",
         "orientation": "v",
         "showlegend": true,
         "type": "scatter",
         "x": [
          "Low"
         ],
         "xaxis": "x",
         "y": [
          -5
         ],
         "yaxis": "y"
        },
        {
         "hovertemplate": "City=Hikurangi<br>Traffic Density=%{x}<br>Happiness Score=%{y}<br>Cost_of_Living_Index=%{marker.size}<extra></extra>",
         "legendgroup": "Hikurangi",
         "marker": {
          "color": "#636efa",
          "size": [
           25
          ],
          "sizemode": "area",
          "sizeref": 0.325,
          "symbol": "circle"
         },
         "mode": "markers",
         "name": "Hikurangi",
         "orientation": "v",
         "showlegend": true,
         "type": "scatter",
         "x": [
          "Low"
         ],
         "xaxis": "x",
         "y": [
          -5.3
         ],
         "yaxis": "y"
        },
        {
         "hovertemplate": "City=Glenbervie<br>Traffic Density=%{x}<br>Happiness Score=%{y}<br>Cost_of_Living_Index=%{marker.size}<extra></extra>",
         "legendgroup": "Glenbervie",
         "marker": {
          "color": "#EF553B",
          "size": [
           20
          ],
          "sizemode": "area",
          "sizeref": 0.325,
          "symbol": "circle"
         },
         "mode": "markers",
         "name": "Glenbervie",
         "orientation": "v",
         "showlegend": true,
         "type": "scatter",
         "x": [
          "Medium"
         ],
         "xaxis": "x",
         "y": [
          -5.6
         ],
         "yaxis": "y"
        },
        {
         "hovertemplate": "City=Ruatangata<br>Traffic Density=%{x}<br>Happiness Score=%{y}<br>Cost_of_Living_Index=%{marker.size}<extra></extra>",
         "legendgroup": "Ruatangata",
         "marker": {
          "color": "#00cc96",
          "size": [
           25
          ],
          "sizemode": "area",
          "sizeref": 0.325,
          "symbol": "circle"
         },
         "mode": "markers",
         "name": "Ruatangata",
         "orientation": "v",
         "showlegend": true,
         "type": "scatter",
         "x": [
          "Low"
         ],
         "xaxis": "x",
         "y": [
          -5.9
         ],
         "yaxis": "y"
        },
        {
         "hovertemplate": "City=Maungatapere<br>Traffic Density=%{x}<br>Happiness Score=%{y}<br>Cost_of_Living_Index=%{marker.size}<extra></extra>",
         "legendgroup": "Maungatapere",
         "marker": {
          "color": "#ab63fa",
          "size": [
           20
          ],
          "sizemode": "area",
          "sizeref": 0.325,
          "symbol": "circle"
         },
         "mode": "markers",
         "name": "Maungatapere",
         "orientation": "v",
         "showlegend": true,
         "type": "scatter",
         "x": [
          "Low"
         ],
         "xaxis": "x",
         "y": [
          -6.2
         ],
         "yaxis": "y"
        },
        {
         "hovertemplate": "City=Taurikura<br>Traffic Density=%{x}<br>Happiness Score=%{y}<br>Cost_of_Living_Index=%{marker.size}<extra></extra>",
         "legendgroup": "Taurikura",
         "marker": {
          "color": "#FFA15A",
          "size": [
           25
          ],
          "sizemode": "area",
          "sizeref": 0.325,
          "symbol": "circle"
         },
         "mode": "markers",
         "name": "Taurikura",
         "orientation": "v",
         "showlegend": true,
         "type": "scatter",
         "x": [
          "Low"
         ],
         "xaxis": "x",
         "y": [
          -6.5
         ],
         "yaxis": "y"
        },
        {
         "hovertemplate": "City=Parua Bay<br>Traffic Density=%{x}<br>Happiness Score=%{y}<br>Cost_of_Living_Index=%{marker.size}<extra></extra>",
         "legendgroup": "Parua Bay",
         "marker": {
          "color": "#19d3f3",
          "size": [
           20
          ],
          "sizemode": "area",
          "sizeref": 0.325,
          "symbol": "circle"
         },
         "mode": "markers",
         "name": "Parua Bay",
         "orientation": "v",
         "showlegend": true,
         "type": "scatter",
         "x": [
          "Medium"
         ],
         "xaxis": "x",
         "y": [
          -6.8
         ],
         "yaxis": "y"
        },
        {
         "hovertemplate": "City=Pataua<br>Traffic Density=%{x}<br>Happiness Score=%{y}<br>Cost_of_Living_Index=%{marker.size}<extra></extra>",
         "legendgroup": "Pataua",
         "marker": {
          "color": "#FF6692",
          "size": [
           25
          ],
          "sizemode": "area",
          "sizeref": 0.325,
          "symbol": "circle"
         },
         "mode": "markers",
         "name": "Pataua",
         "orientation": "v",
         "showlegend": true,
         "type": "scatter",
         "x": [
          "Low"
         ],
         "xaxis": "x",
         "y": [
          -7.1
         ],
         "yaxis": "y"
        },
        {
         "hovertemplate": "City=Whangarei Heads<br>Traffic Density=%{x}<br>Happiness Score=%{y}<br>Cost_of_Living_Index=%{marker.size}<extra></extra>",
         "legendgroup": "Whangarei Heads",
         "marker": {
          "color": "#B6E880",
          "size": [
           20
          ],
          "sizemode": "area",
          "sizeref": 0.325,
          "symbol": "circle"
         },
         "mode": "markers",
         "name": "Whangarei Heads",
         "orientation": "v",
         "showlegend": true,
         "type": "scatter",
         "x": [
          "Low"
         ],
         "xaxis": "x",
         "y": [
          -7.4
         ],
         "yaxis": "y"
        },
        {
         "hovertemplate": "City=Marsden Point<br>Traffic Density=%{x}<br>Happiness Score=%{y}<br>Cost_of_Living_Index=%{marker.size}<extra></extra>",
         "legendgroup": "Marsden Point",
         "marker": {
          "color": "#FF97FF",
          "size": [
           25
          ],
          "sizemode": "area",
          "sizeref": 0.325,
          "symbol": "circle"
         },
         "mode": "markers",
         "name": "Marsden Point",
         "orientation": "v",
         "showlegend": true,
         "type": "scatter",
         "x": [
          "Low"
         ],
         "xaxis": "x",
         "y": [
          -7.7
         ],
         "yaxis": "y"
        },
        {
         "hovertemplate": "City=One Tree Point<br>Traffic Density=%{x}<br>Happiness Score=%{y}<br>Cost_of_Living_Index=%{marker.size}<extra></extra>",
         "legendgroup": "One Tree Point",
         "marker": {
          "color": "#FECB52",
          "size": [
           20
          ],
          "sizemode": "area",
          "sizeref": 0.325,
          "symbol": "circle"
         },
         "mode": "markers",
         "name": "One Tree Point",
         "orientation": "v",
         "showlegend": true,
         "type": "scatter",
         "x": [
          "Medium"
         ],
         "xaxis": "x",
         "y": [
          -8
         ],
         "yaxis": "y"
        },
        {
         "hovertemplate": "City=Langs Beach<br>Traffic Density=%{x}<br>Happiness Score=%{y}<br>Cost_of_Living_Index=%{marker.size}<extra></extra>",
         "legendgroup": "Langs Beach",
         "marker": {
          "color": "#636efa",
          "size": [
           25
          ],
          "sizemode": "area",
          "sizeref": 0.325,
          "symbol": "circle"
         },
         "mode": "markers",
         "name": "Langs Beach",
         "orientation": "v",
         "showlegend": true,
         "type": "scatter",
         "x": [
          "Low"
         ],
         "xaxis": "x",
         "y": [
          -8.9
         ],
         "yaxis": "y"
        },
        {
         "hovertemplate": "City=Whakatane<br>Traffic Density=%{x}<br>Happiness Score=%{y}<br>Cost_of_Living_Index=%{marker.size}<extra></extra>",
         "legendgroup": "Whakatane",
         "marker": {
          "color": "#EF553B",
          "size": [
           20
          ],
          "sizemode": "area",
          "sizeref": 0.325,
          "symbol": "circle"
         },
         "mode": "markers",
         "name": "Whakatane",
         "orientation": "v",
         "showlegend": true,
         "type": "scatter",
         "x": [
          "Medium"
         ],
         "xaxis": "x",
         "y": [
          -11.6
         ],
         "yaxis": "y"
        },
        {
         "hovertemplate": "City=Hastings<br>Traffic Density=%{x}<br>Happiness Score=%{y}<br>Cost_of_Living_Index=%{marker.size}<extra></extra>",
         "legendgroup": "Hastings",
         "marker": {
          "color": "#00cc96",
          "size": [
           25
          ],
          "sizemode": "area",
          "sizeref": 0.325,
          "symbol": "circle"
         },
         "mode": "markers",
         "name": "Hastings",
         "orientation": "v",
         "showlegend": true,
         "type": "scatter",
         "x": [
          "Low"
         ],
         "xaxis": "x",
         "y": [
          -12.5
         ],
         "yaxis": "y"
        },
        {
         "hovertemplate": "City=Blenheim<br>Traffic Density=%{x}<br>Happiness Score=%{y}<br>Cost_of_Living_Index=%{marker.size}<extra></extra>",
         "legendgroup": "Blenheim",
         "marker": {
          "color": "#ab63fa",
          "size": [
           25,
           25,
           25,
           25,
           25,
           25,
           25,
           25
          ],
          "sizemode": "area",
          "sizeref": 0.325,
          "symbol": "circle"
         },
         "mode": "markers",
         "name": "Blenheim",
         "orientation": "v",
         "showlegend": true,
         "type": "scatter",
         "x": [
          "Low",
          "Low",
          "Low",
          "Low",
          "Low",
          "Low",
          "Low",
          "Low"
         ],
         "xaxis": "x",
         "y": [
          -13.7,
          -25.7,
          -60.5,
          -72.5,
          -84.5,
          -96.5,
          -108.5,
          -120.5
         ],
         "yaxis": "y"
        },
        {
         "hovertemplate": "City=Kaikoura<br>Traffic Density=%{x}<br>Happiness Score=%{y}<br>Cost_of_Living_Index=%{marker.size}<extra></extra>",
         "legendgroup": "Kaikoura",
         "marker": {
          "color": "#FFA15A",
          "size": [
           20,
           20,
           20,
           20,
           20,
           20,
           20
          ],
          "sizemode": "area",
          "sizeref": 0.325,
          "symbol": "circle"
         },
         "mode": "markers",
         "name": "Kaikoura",
         "orientation": "v",
         "showlegend": true,
         "type": "scatter",
         "x": [
          "Medium",
          "Low",
          "Low",
          "Low",
          "Low",
          "Low",
          "Low"
         ],
         "xaxis": "x",
         "y": [
          -14,
          -60.2,
          -72.2,
          -84.2,
          -96.2,
          -108.2,
          -120.2
         ],
         "yaxis": "y"
        },
        {
         "hovertemplate": "City=Timaru<br>Traffic Density=%{x}<br>Happiness Score=%{y}<br>Cost_of_Living_Index=%{marker.size}<extra></extra>",
         "legendgroup": "Timaru",
         "marker": {
          "color": "#19d3f3",
          "size": [
           20,
           25,
           20,
           20,
           20,
           20,
           20,
           20
          ],
          "sizemode": "area",
          "sizeref": 0.325,
          "symbol": "circle"
         },
         "mode": "markers",
         "name": "Timaru",
         "orientation": "v",
         "showlegend": true,
         "type": "scatter",
         "x": [
          "Low",
          "Low",
          "Low",
          "Low",
          "Low",
          "Low",
          "Low",
          "Low"
         ],
         "xaxis": "x",
         "y": [
          -14.6,
          -36.5,
          -55.4,
          -69.8,
          -81.8,
          -93.8,
          -105.8,
          -117.8
         ],
         "yaxis": "y"
        },
        {
         "hovertemplate": "City=Invercargill<br>Traffic Density=%{x}<br>Happiness Score=%{y}<br>Cost_of_Living_Index=%{marker.size}<extra></extra>",
         "legendgroup": "Invercargill",
         "marker": {
          "color": "#FF6692",
          "size": [
           25,
           20,
           20,
           20,
           20,
           20,
           20,
           20
          ],
          "sizemode": "area",
          "sizeref": 0.325,
          "symbol": "circle"
         },
         "mode": "markers",
         "name": "Invercargill",
         "orientation": "v",
         "showlegend": true,
         "type": "scatter",
         "x": [
          "Low",
          "Low",
          "Medium",
          "Medium",
          "Medium",
          "Medium",
          "Medium",
          "Medium"
         ],
         "xaxis": "x",
         "y": [
          -15.5,
          -32.6,
          -52.4,
          -66.8,
          -78.8,
          -90.8,
          -102.8,
          -114.8
         ],
         "yaxis": "y"
        },
        {
         "hovertemplate": "City=Greymouth<br>Traffic Density=%{x}<br>Happiness Score=%{y}<br>Cost_of_Living_Index=%{marker.size}<extra></extra>",
         "legendgroup": "Greymouth",
         "marker": {
          "color": "#B6E880",
          "size": [
           20,
           25,
           25,
           20,
           25,
           25,
           25,
           20,
           20,
           20,
           20,
           20,
           20
          ],
          "sizemode": "area",
          "sizeref": 0.325,
          "symbol": "circle"
         },
         "mode": "markers",
         "name": "Greymouth",
         "orientation": "v",
         "showlegend": true,
         "type": "scatter",
         "x": [
          "Low",
          "Low",
          "Low",
          "Low",
          "Low",
          "Low",
          "Low",
          "Low",
          "Low",
          "Low",
          "Low",
          "Low",
          "Low"
         ],
         "xaxis": "x",
         "y": [
          -15.8,
          -23.3,
          -28.1,
          -39.8,
          -44.9,
          -47.9,
          -56.3,
          -62.6,
          -74.6,
          -86.6,
          -98.6,
          -110.6,
          -122.6
         ],
         "yaxis": "y"
        },
        {
         "hovertemplate": "City=Hokitika<br>Traffic Density=%{x}<br>Happiness Score=%{y}<br>Cost_of_Living_Index=%{marker.size}<extra></extra>",
         "legendgroup": "Hokitika",
         "marker": {
          "color": "#FF97FF",
          "size": [
           25,
           20,
           20,
           25,
           20,
           20,
           25,
           25,
           25,
           25,
           25,
           25
          ],
          "sizemode": "area",
          "sizeref": 0.325,
          "symbol": "circle"
         },
         "mode": "markers",
         "name": "Hokitika",
         "orientation": "v",
         "showlegend": true,
         "type": "scatter",
         "x": [
          "Low",
          "Low",
          "Medium",
          "Low",
          "Low",
          "Low",
          "Low",
          "Low",
          "Low",
          "Low",
          "Low",
          "Low"
         ],
         "xaxis": "x",
         "y": [
          -16.1,
          -23,
          -28.4,
          -40.1,
          -48.2,
          -56.6,
          -62.9,
          -74.9,
          -86.9,
          -98.9,
          -110.9,
          -122.9
         ],
         "yaxis": "y"
        },
        {
         "hovertemplate": "City=Westport<br>Traffic Density=%{x}<br>Happiness Score=%{y}<br>Cost_of_Living_Index=%{marker.size}<extra></extra>",
         "legendgroup": "Westport",
         "marker": {
          "color": "#FECB52",
          "size": [
           20,
           25,
           20,
           20,
           20,
           20
          ],
          "sizemode": "area",
          "sizeref": 0.325,
          "symbol": "circle"
         },
         "mode": "markers",
         "name": "Westport",
         "orientation": "v",
         "showlegend": true,
         "type": "scatter",
         "x": [
          "Medium",
          "Low",
          "Medium",
          "Low",
          "Medium",
          "Medium"
         ],
         "xaxis": "x",
         "y": [
          -16.4,
          -23.9,
          -44,
          -44.6,
          -47.6,
          -57.2
         ],
         "yaxis": "y"
        },
        {
         "hovertemplate": "City=Motueka<br>Traffic Density=%{x}<br>Happiness Score=%{y}<br>Cost_of_Living_Index=%{marker.size}<extra></extra>",
         "legendgroup": "Motueka",
         "marker": {
          "color": "#636efa",
          "size": [
           25,
           25,
           25
          ],
          "sizemode": "area",
          "sizeref": 0.325,
          "symbol": "circle"
         },
         "mode": "markers",
         "name": "Motueka",
         "orientation": "v",
         "showlegend": true,
         "type": "scatter",
         "x": [
          "Low",
          "Low",
          "Low"
         ],
         "xaxis": "x",
         "y": [
          -16.7,
          -25.1,
          -46.1
         ],
         "yaxis": "y"
        },
        {
         "hovertemplate": "City=Takaka<br>Traffic Density=%{x}<br>Happiness Score=%{y}<br>Cost_of_Living_Index=%{marker.size}<extra></extra>",
         "legendgroup": "Takaka",
         "marker": {
          "color": "#EF553B",
          "size": [
           20,
           20,
           20,
           25
          ],
          "sizemode": "area",
          "sizeref": 0.325,
          "symbol": "circle"
         },
         "mode": "markers",
         "name": "Takaka",
         "orientation": "v",
         "showlegend": true,
         "type": "scatter",
         "x": [
          "Low",
          "Medium",
          "Medium",
          "Low"
         ],
         "xaxis": "x",
         "y": [
          -17,
          -24.8,
          -46.4,
          -58.1
         ],
         "yaxis": "y"
        },
        {
         "hovertemplate": "City=Murchison<br>Traffic Density=%{x}<br>Happiness Score=%{y}<br>Cost_of_Living_Index=%{marker.size}<extra></extra>",
         "legendgroup": "Murchison",
         "marker": {
          "color": "#00cc96",
          "size": [
           25,
           20,
           20,
           25,
           20,
           20,
           20,
           20,
           20,
           20
          ],
          "sizemode": "area",
          "sizeref": 0.325,
          "symbol": "circle"
         },
         "mode": "markers",
         "name": "Murchison",
         "orientation": "v",
         "showlegend": true,
         "type": "scatter",
         "x": [
          "Low",
          "Medium",
          "Medium",
          "Low",
          "Medium",
          "Medium",
          "Medium",
          "Medium",
          "Medium",
          "Medium"
         ],
         "xaxis": "x",
         "y": [
          -17.3,
          -27.2,
          -39.2,
          -45.5,
          -62,
          -74,
          -86,
          -98,
          -110,
          -122
         ],
         "yaxis": "y"
        },
        {
         "hovertemplate": "City=Hanmer Springs<br>Traffic Density=%{x}<br>Happiness Score=%{y}<br>Cost_of_Living_Index=%{marker.size}<extra></extra>",
         "legendgroup": "Hanmer Springs",
         "marker": {
          "color": "#ab63fa",
          "size": [
           20,
           20,
           25,
           25,
           25,
           25,
           25,
           25
          ],
          "sizemode": "area",
          "sizeref": 0.325,
          "symbol": "circle"
         },
         "mode": "markers",
         "name": "Hanmer Springs",
         "orientation": "v",
         "showlegend": true,
         "type": "scatter",
         "x": [
          "Medium",
          "Low",
          "Low",
          "Low",
          "Low",
          "Low",
          "Low",
          "Low"
         ],
         "xaxis": "x",
         "y": [
          -17.6,
          -38.6,
          -59.9,
          -71.9,
          -83.9,
          -95.9,
          -107.9,
          -119.9
         ],
         "yaxis": "y"
        },
        {
         "hovertemplate": "City=Reefton<br>Traffic Density=%{x}<br>Happiness Score=%{y}<br>Cost_of_Living_Index=%{marker.size}<extra></extra>",
         "legendgroup": "Reefton",
         "marker": {
          "color": "#FFA15A",
          "size": [
           25,
           20,
           25,
           20,
           25,
           25,
           25,
           25,
           25,
           25
          ],
          "sizemode": "area",
          "sizeref": 0.325,
          "symbol": "circle"
         },
         "mode": "markers",
         "name": "Reefton",
         "orientation": "v",
         "showlegend": true,
         "type": "scatter",
         "x": [
          "Low",
          "Low",
          "Low",
          "Medium",
          "Low",
          "Low",
          "Low",
          "Low",
          "Low",
          "Low"
         ],
         "xaxis": "x",
         "y": [
          -17.9,
          -27.8,
          -39.5,
          -45.2,
          -62.3,
          -74.3,
          -86.3,
          -98.3,
          -110.3,
          -122.3
         ],
         "yaxis": "y"
        },
        {
         "hovertemplate": "City=Kumara<br>Traffic Density=%{x}<br>Happiness Score=%{y}<br>Cost_of_Living_Index=%{marker.size}<extra></extra>",
         "legendgroup": "Kumara",
         "marker": {
          "color": "#19d3f3",
          "size": [
           20
          ],
          "sizemode": "area",
          "sizeref": 0.325,
          "symbol": "circle"
         },
         "mode": "markers",
         "name": "Kumara",
         "orientation": "v",
         "showlegend": true,
         "type": "scatter",
         "x": [
          "Low"
         ],
         "xaxis": "x",
         "y": [
          -18.2
         ],
         "yaxis": "y"
        },
        {
         "hovertemplate": "City=Arthur's Pass<br>Traffic Density=%{x}<br>Happiness Score=%{y}<br>Cost_of_Living_Index=%{marker.size}<extra></extra>",
         "legendgroup": "Arthur's Pass",
         "marker": {
          "color": "#FF6692",
          "size": [
           25,
           20
          ],
          "sizemode": "area",
          "sizeref": 0.325,
          "symbol": "circle"
         },
         "mode": "markers",
         "name": "Arthur's Pass",
         "orientation": "v",
         "showlegend": true,
         "type": "scatter",
         "x": [
          "Low",
          "Medium"
         ],
         "xaxis": "x",
         "y": [
          -18.5,
          -56
         ],
         "yaxis": "y"
        },
        {
         "hovertemplate": "City=Twizel<br>Traffic Density=%{x}<br>Happiness Score=%{y}<br>Cost_of_Living_Index=%{marker.size}<extra></extra>",
         "legendgroup": "Twizel",
         "marker": {
          "color": "#B6E880",
          "size": [
           20
          ],
          "sizemode": "area",
          "sizeref": 0.325,
          "symbol": "circle"
         },
         "mode": "markers",
         "name": "Twizel",
         "orientation": "v",
         "showlegend": true,
         "type": "scatter",
         "x": [
          "Medium"
         ],
         "xaxis": "x",
         "y": [
          -18.8
         ],
         "yaxis": "y"
        },
        {
         "hovertemplate": "City=Tekapo<br>Traffic Density=%{x}<br>Happiness Score=%{y}<br>Cost_of_Living_Index=%{marker.size}<extra></extra>",
         "legendgroup": "Tekapo",
         "marker": {
          "color": "#FF97FF",
          "size": [
           25
          ],
          "sizemode": "area",
          "sizeref": 0.325,
          "symbol": "circle"
         },
         "mode": "markers",
         "name": "Tekapo",
         "orientation": "v",
         "showlegend": true,
         "type": "scatter",
         "x": [
          "Low"
         ],
         "xaxis": "x",
         "y": [
          -19.1
         ],
         "yaxis": "y"
        },
        {
         "hovertemplate": "City=Cromwell<br>Traffic Density=%{x}<br>Happiness Score=%{y}<br>Cost_of_Living_Index=%{marker.size}<extra></extra>",
         "legendgroup": "Cromwell",
         "marker": {
          "color": "#FECB52",
          "size": [
           20,
           25,
           20,
           25,
           25,
           25,
           25,
           25
          ],
          "sizemode": "area",
          "sizeref": 0.325,
          "symbol": "circle"
         },
         "mode": "markers",
         "name": "Cromwell",
         "orientation": "v",
         "showlegend": true,
         "type": "scatter",
         "x": [
          "Low",
          "Low",
          "Medium",
          "Low",
          "Low",
          "Low",
          "Low",
          "Low"
         ],
         "xaxis": "x",
         "y": [
          -19.4,
          -43.1,
          -50,
          -64.7,
          -76.7,
          -88.7,
          -100.7,
          -112.7
         ],
         "yaxis": "y"
        },
        {
         "hovertemplate": "City=Wanaka<br>Traffic Density=%{x}<br>Happiness Score=%{y}<br>Cost_of_Living_Index=%{marker.size}<extra></extra>",
         "legendgroup": "Wanaka",
         "marker": {
          "color": "#636efa",
          "size": [
           25,
           20,
           20,
           25,
           20,
           20,
           20,
           20,
           20
          ],
          "sizemode": "area",
          "sizeref": 0.325,
          "symbol": "circle"
         },
         "mode": "markers",
         "name": "Wanaka",
         "orientation": "v",
         "showlegend": true,
         "type": "scatter",
         "x": [
          "Low",
          "Medium",
          "Low",
          "Low",
          "Medium",
          "Medium",
          "Medium",
          "Medium",
          "Medium"
         ],
         "xaxis": "x",
         "y": [
          -19.7,
          -29.6,
          -43.4,
          -49.7,
          -64.4,
          -76.4,
          -88.4,
          -100.4,
          -112.4
         ],
         "yaxis": "y"
        },
        {
         "hovertemplate": "City=Arrowtown<br>Traffic Density=%{x}<br>Happiness Score=%{y}<br>Cost_of_Living_Index=%{marker.size}<extra></extra>",
         "legendgroup": "Arrowtown",
         "marker": {
          "color": "#EF553B",
          "size": [
           20,
           20
          ],
          "sizemode": "area",
          "sizeref": 0.325,
          "symbol": "circle"
         },
         "mode": "markers",
         "name": "Arrowtown",
         "orientation": "v",
         "showlegend": true,
         "type": "scatter",
         "x": [
          "Medium",
          "Low"
         ],
         "xaxis": "x",
         "y": [
          -20,
          -50.6
         ],
         "yaxis": "y"
        },
        {
         "hovertemplate": "City=Glenorchy<br>Traffic Density=%{x}<br>Happiness Score=%{y}<br>Cost_of_Living_Index=%{marker.size}<extra></extra>",
         "legendgroup": "Glenorchy",
         "marker": {
          "color": "#00cc96",
          "size": [
           25,
           20,
           25,
           25,
           25,
           25,
           25,
           25,
           25
          ],
          "sizemode": "area",
          "sizeref": 0.325,
          "symbol": "circle"
         },
         "mode": "markers",
         "name": "Glenorchy",
         "orientation": "v",
         "showlegend": true,
         "type": "scatter",
         "x": [
          "Low",
          "Low",
          "Low",
          "Low",
          "Low",
          "Low",
          "Low",
          "Low",
          "Low"
         ],
         "xaxis": "x",
         "y": [
          -20.3,
          -30.2,
          -42.5,
          -50.9,
          -65.3,
          -77.3,
          -89.3,
          -101.3,
          -113.3
         ],
         "yaxis": "y"
        },
        {
         "hovertemplate": "City=Te Anau<br>Traffic Density=%{x}<br>Happiness Score=%{y}<br>Cost_of_Living_Index=%{marker.size}<extra></extra>",
         "legendgroup": "Te Anau",
         "marker": {
          "color": "#ab63fa",
          "size": [
           20,
           20,
           20,
           25,
           25,
           25,
           25,
           25,
           25
          ],
          "sizemode": "area",
          "sizeref": 0.325,
          "symbol": "circle"
         },
         "mode": "markers",
         "name": "Te Anau",
         "orientation": "v",
         "showlegend": true,
         "type": "scatter",
         "x": [
          "Low",
          "Medium",
          "Low",
          "Low",
          "Low",
          "Low",
          "Low",
          "Low",
          "Low"
         ],
         "xaxis": "x",
         "y": [
          -20.6,
          -30.8,
          -42.2,
          -51.5,
          -65.9,
          -77.9,
          -89.9,
          -101.9,
          -113.9
         ],
         "yaxis": "y"
        },
        {
         "hovertemplate": "City=Milford Sound<br>Traffic Density=%{x}<br>Happiness Score=%{y}<br>Cost_of_Living_Index=%{marker.size}<extra></extra>",
         "legendgroup": "Milford Sound",
         "marker": {
          "color": "#FFA15A",
          "size": [
           25,
           25,
           25,
           20,
           20,
           20,
           20,
           20,
           20
          ],
          "sizemode": "area",
          "sizeref": 0.325,
          "symbol": "circle"
         },
         "mode": "markers",
         "name": "Milford Sound",
         "orientation": "v",
         "showlegend": true,
         "type": "scatter",
         "x": [
          "Low",
          "Low",
          "Low",
          "Low",
          "Low",
          "Low",
          "Low",
          "Low",
          "Low"
         ],
         "xaxis": "x",
         "y": [
          -20.9,
          -31.1,
          -41.9,
          -51.8,
          -66.2,
          -78.2,
          -90.2,
          -102.2,
          -114.2
         ],
         "yaxis": "y"
        },
        {
         "hovertemplate": "City=Haast<br>Traffic Density=%{x}<br>Happiness Score=%{y}<br>Cost_of_Living_Index=%{marker.size}<extra></extra>",
         "legendgroup": "Haast",
         "marker": {
          "color": "#19d3f3",
          "size": [
           20,
           20,
           20,
           25,
           20,
           20,
           20,
           20,
           20
          ],
          "sizemode": "area",
          "sizeref": 0.325,
          "symbol": "circle"
         },
         "mode": "markers",
         "name": "Haast",
         "orientation": "v",
         "showlegend": true,
         "type": "scatter",
         "x": [
          "Medium",
          "Low",
          "Low",
          "Low",
          "Low",
          "Low",
          "Low",
          "Low",
          "Low"
         ],
         "xaxis": "x",
         "y": [
          -21.2,
          -29,
          -41,
          -49.1,
          -63.8,
          -75.8,
          -87.8,
          -99.8,
          -111.8
         ],
         "yaxis": "y"
        },
        {
         "hovertemplate": "City=Fox Glacier<br>Traffic Density=%{x}<br>Happiness Score=%{y}<br>Cost_of_Living_Index=%{marker.size}<extra></extra>",
         "legendgroup": "Fox Glacier",
         "marker": {
          "color": "#FF6692",
          "size": [
           25,
           20,
           25,
           20,
           20,
           20,
           20,
           20
          ],
          "sizemode": "area",
          "sizeref": 0.325,
          "symbol": "circle"
         },
         "mode": "markers",
         "name": "Fox Glacier",
         "orientation": "v",
         "showlegend": true,
         "type": "scatter",
         "x": [
          "Low",
          "Medium",
          "Low",
          "Medium",
          "Medium",
          "Medium",
          "Medium",
          "Medium"
         ],
         "xaxis": "x",
         "y": [
          -21.5,
          -40.4,
          -48.5,
          -63.2,
          -75.2,
          -87.2,
          -99.2,
          -111.2
         ],
         "yaxis": "y"
        },
        {
         "hovertemplate": "City=Franz Josef<br>Traffic Density=%{x}<br>Happiness Score=%{y}<br>Cost_of_Living_Index=%{marker.size}<extra></extra>",
         "legendgroup": "Franz Josef",
         "marker": {
          "color": "#B6E880",
          "size": [
           20,
           25,
           20,
           25,
           25,
           25,
           25,
           25,
           25
          ],
          "sizemode": "area",
          "sizeref": 0.325,
          "symbol": "circle"
         },
         "mode": "markers",
         "name": "Franz Josef",
         "orientation": "v",
         "showlegend": true,
         "type": "scatter",
         "x": [
          "Low",
          "Low",
          "Medium",
          "Low",
          "Low",
          "Low",
          "Low",
          "Low",
          "Low"
         ],
         "xaxis": "x",
         "y": [
          -21.8,
          -40.7,
          -48.8,
          -56.9,
          -63.5,
          -75.5,
          -87.5,
          -99.5,
          -111.5
         ],
         "yaxis": "y"
        },
        {
         "hovertemplate": "City=Whataroa<br>Traffic Density=%{x}<br>Happiness Score=%{y}<br>Cost_of_Living_Index=%{marker.size}<extra></extra>",
         "legendgroup": "Whataroa",
         "marker": {
          "color": "#FF97FF",
          "size": [
           25
          ],
          "sizemode": "area",
          "sizeref": 0.325,
          "symbol": "circle"
         },
         "mode": "markers",
         "name": "Whataroa",
         "orientation": "v",
         "showlegend": true,
         "type": "scatter",
         "x": [
          "Low"
         ],
         "xaxis": "x",
         "y": [
          -22.1
         ],
         "yaxis": "y"
        },
        {
         "hovertemplate": "City=Harihari<br>Traffic Density=%{x}<br>Happiness Score=%{y}<br>Cost_of_Living_Index=%{marker.size}<extra></extra>",
         "legendgroup": "Harihari",
         "marker": {
          "color": "#FECB52",
          "size": [
           20
          ],
          "sizemode": "area",
          "sizeref": 0.325,
          "symbol": "circle"
         },
         "mode": "markers",
         "name": "Harihari",
         "orientation": "v",
         "showlegend": true,
         "type": "scatter",
         "x": [
          "Medium"
         ],
         "xaxis": "x",
         "y": [
          -22.4
         ],
         "yaxis": "y"
        },
        {
         "hovertemplate": "City=Ross<br>Traffic Density=%{x}<br>Happiness Score=%{y}<br>Cost_of_Living_Index=%{marker.size}<extra></extra>",
         "legendgroup": "Ross",
         "marker": {
          "color": "#636efa",
          "size": [
           25
          ],
          "sizemode": "area",
          "sizeref": 0.325,
          "symbol": "circle"
         },
         "mode": "markers",
         "name": "Ross",
         "orientation": "v",
         "showlegend": true,
         "type": "scatter",
         "x": [
          "Low"
         ],
         "xaxis": "x",
         "y": [
          -22.7
         ],
         "yaxis": "y"
        },
        {
         "hovertemplate": "City=Punakaiki<br>Traffic Density=%{x}<br>Happiness Score=%{y}<br>Cost_of_Living_Index=%{marker.size}<extra></extra>",
         "legendgroup": "Punakaiki",
         "marker": {
          "color": "#EF553B",
          "size": [
           20
          ],
          "sizemode": "area",
          "sizeref": 0.325,
          "symbol": "circle"
         },
         "mode": "markers",
         "name": "Punakaiki",
         "orientation": "v",
         "showlegend": true,
         "type": "scatter",
         "x": [
          "Medium"
         ],
         "xaxis": "x",
         "y": [
          -23.6
         ],
         "yaxis": "y"
        },
        {
         "hovertemplate": "City=Karamea<br>Traffic Density=%{x}<br>Happiness Score=%{y}<br>Cost_of_Living_Index=%{marker.size}<extra></extra>",
         "legendgroup": "Karamea",
         "marker": {
          "color": "#00cc96",
          "size": [
           20,
           25,
           25,
           25
          ],
          "sizemode": "area",
          "sizeref": 0.325,
          "symbol": "circle"
         },
         "mode": "markers",
         "name": "Karamea",
         "orientation": "v",
         "showlegend": true,
         "type": "scatter",
         "x": [
          "Low",
          "Low",
          "Low",
          "Low"
         ],
         "xaxis": "x",
         "y": [
          -24.2,
          -44.3,
          -47.3,
          -57.5
         ],
         "yaxis": "y"
        },
        {
         "hovertemplate": "City=Collingwood<br>Traffic Density=%{x}<br>Happiness Score=%{y}<br>Cost_of_Living_Index=%{marker.size}<extra></extra>",
         "legendgroup": "Collingwood",
         "marker": {
          "color": "#ab63fa",
          "size": [
           25,
           20,
           25
          ],
          "sizemode": "area",
          "sizeref": 0.325,
          "symbol": "circle"
         },
         "mode": "markers",
         "name": "Collingwood",
         "orientation": "v",
         "showlegend": true,
         "type": "scatter",
         "x": [
          "Low",
          "Low",
          "Low"
         ],
         "xaxis": "x",
         "y": [
          -24.5,
          -47,
          -58.7
         ],
         "yaxis": "y"
        },
        {
         "hovertemplate": "City=Picton<br>Traffic Density=%{x}<br>Happiness Score=%{y}<br>Cost_of_Living_Index=%{marker.size}<extra></extra>",
         "legendgroup": "Picton",
         "marker": {
          "color": "#FFA15A",
          "size": [
           20,
           20,
           20,
           20,
           20,
           20,
           20
          ],
          "sizemode": "area",
          "sizeref": 0.325,
          "symbol": "circle"
         },
         "mode": "markers",
         "name": "Picton",
         "orientation": "v",
         "showlegend": true,
         "type": "scatter",
         "x": [
          "Medium",
          "Medium",
          "Medium",
          "Medium",
          "Medium",
          "Medium",
          "Medium"
         ],
         "xaxis": "x",
         "y": [
          -26,
          -60.8,
          -72.8,
          -84.8,
          -96.8,
          -108.8,
          -120.8
         ],
         "yaxis": "y"
        },
        {
         "hovertemplate": "City=Havelock<br>Traffic Density=%{x}<br>Happiness Score=%{y}<br>Cost_of_Living_Index=%{marker.size}<extra></extra>",
         "legendgroup": "Havelock",
         "marker": {
          "color": "#19d3f3",
          "size": [
           25,
           25,
           25,
           25,
           25,
           25,
           25
          ],
          "sizemode": "area",
          "sizeref": 0.325,
          "symbol": "circle"
         },
         "mode": "markers",
         "name": "Havelock",
         "orientation": "v",
         "showlegend": true,
         "type": "scatter",
         "x": [
          "Low",
          "Low",
          "Low",
          "Low",
          "Low",
          "Low",
          "Low"
         ],
         "xaxis": "x",
         "y": [
          -26.3,
          -61.1,
          -73.1,
          -85.1,
          -97.1,
          -109.1,
          -121.1
         ],
         "yaxis": "y"
        },
        {
         "hovertemplate": "City=Wairau Valley<br>Traffic Density=%{x}<br>Happiness Score=%{y}<br>Cost_of_Living_Index=%{marker.size}<extra></extra>",
         "legendgroup": "Wairau Valley",
         "marker": {
          "color": "#FF6692",
          "size": [
           20,
           20,
           20,
           20,
           20,
           20,
           20
          ],
          "sizemode": "area",
          "sizeref": 0.325,
          "symbol": "circle"
         },
         "mode": "markers",
         "name": "Wairau Valley",
         "orientation": "v",
         "showlegend": true,
         "type": "scatter",
         "x": [
          "Low",
          "Low",
          "Low",
          "Low",
          "Low",
          "Low",
          "Low"
         ],
         "xaxis": "x",
         "y": [
          -26.6,
          -61.4,
          -73.4,
          -85.4,
          -97.4,
          -109.4,
          -121.4
         ],
         "yaxis": "y"
        },
        {
         "hovertemplate": "City=St Arnaud<br>Traffic Density=%{x}<br>Happiness Score=%{y}<br>Cost_of_Living_Index=%{marker.size}<extra></extra>",
         "legendgroup": "St Arnaud",
         "marker": {
          "color": "#B6E880",
          "size": [
           25,
           25,
           25,
           25,
           25,
           25,
           25
          ],
          "sizemode": "area",
          "sizeref": 0.325,
          "symbol": "circle"
         },
         "mode": "markers",
         "name": "St Arnaud",
         "orientation": "v",
         "showlegend": true,
         "type": "scatter",
         "x": [
          "Low",
          "Low",
          "Low",
          "Low",
          "Low",
          "Low",
          "Low"
         ],
         "xaxis": "x",
         "y": [
          -26.9,
          -61.7,
          -73.7,
          -85.7,
          -97.7,
          -109.7,
          -121.7
         ],
         "yaxis": "y"
        },
        {
         "hovertemplate": "City=Lyell<br>Traffic Density=%{x}<br>Happiness Score=%{y}<br>Cost_of_Living_Index=%{marker.size}<extra></extra>",
         "legendgroup": "Lyell",
         "marker": {
          "color": "#FF97FF",
          "size": [
           25
          ],
          "sizemode": "area",
          "sizeref": 0.325,
          "symbol": "circle"
         },
         "mode": "markers",
         "name": "Lyell",
         "orientation": "v",
         "showlegend": true,
         "type": "scatter",
         "x": [
          "Low"
         ],
         "xaxis": "x",
         "y": [
          -27.5
         ],
         "yaxis": "y"
        },
        {
         "hovertemplate": "City=Jackson Bay<br>Traffic Density=%{x}<br>Happiness Score=%{y}<br>Cost_of_Living_Index=%{marker.size}<extra></extra>",
         "legendgroup": "Jackson Bay",
         "marker": {
          "color": "#FECB52",
          "size": [
           25,
           25,
           20,
           25,
           25,
           25,
           25,
           25
          ],
          "sizemode": "area",
          "sizeref": 0.325,
          "symbol": "circle"
         },
         "mode": "markers",
         "name": "Jackson Bay",
         "orientation": "v",
         "showlegend": true,
         "type": "scatter",
         "x": [
          "Low",
          "Low",
          "Low",
          "Low",
          "Low",
          "Low",
          "Low",
          "Low"
         ],
         "xaxis": "x",
         "y": [
          -28.7,
          -41.3,
          -49.4,
          -64.1,
          -76.1,
          -88.1,
          -100.1,
          -112.1
         ],
         "yaxis": "y"
        },
        {
         "hovertemplate": "City=Mount Aspiring National Park<br>Traffic Density=%{x}<br>Happiness Score=%{y}<br>Cost_of_Living_Index=%{marker.size}<extra></extra>",
         "legendgroup": "Mount Aspiring National Park",
         "marker": {
          "color": "#636efa",
          "size": [
           25,
           25
          ],
          "sizemode": "area",
          "sizeref": 0.325,
          "symbol": "circle"
         },
         "mode": "markers",
         "name": "Mount Aspiring National Park",
         "orientation": "v",
         "showlegend": true,
         "type": "scatter",
         "x": [
          "Low",
          "Low"
         ],
         "xaxis": "x",
         "y": [
          -29.3,
          -43.7
         ],
         "yaxis": "y"
        },
        {
         "hovertemplate": "City=Manapouri<br>Traffic Density=%{x}<br>Happiness Score=%{y}<br>Cost_of_Living_Index=%{marker.size}<extra></extra>",
         "legendgroup": "Manapouri",
         "marker": {
          "color": "#EF553B",
          "size": [
           20,
           20,
           25,
           25,
           25,
           25,
           25,
           25
          ],
          "sizemode": "area",
          "sizeref": 0.325,
          "symbol": "circle"
         },
         "mode": "markers",
         "name": "Manapouri",
         "orientation": "v",
         "showlegend": true,
         "type": "scatter",
         "x": [
          "Low",
          "Medium",
          "Low",
          "Low",
          "Low",
          "Low",
          "Low",
          "Low"
         ],
         "xaxis": "x",
         "y": [
          -31.4,
          -41.6,
          -52.1,
          -66.5,
          -78.5,
          -90.5,
          -102.5,
          -114.5
         ],
         "yaxis": "y"
        },
        {
         "hovertemplate": "City=Tuatapere<br>Traffic Density=%{x}<br>Happiness Score=%{y}<br>Cost_of_Living_Index=%{marker.size}<extra></extra>",
         "legendgroup": "Tuatapere",
         "marker": {
          "color": "#00cc96",
          "size": [
           25
          ],
          "sizemode": "area",
          "sizeref": 0.325,
          "symbol": "circle"
         },
         "mode": "markers",
         "name": "Tuatapere",
         "orientation": "v",
         "showlegend": true,
         "type": "scatter",
         "x": [
          "Low"
         ],
         "xaxis": "x",
         "y": [
          -31.7
         ],
         "yaxis": "y"
        },
        {
         "hovertemplate": "City=Otautau<br>Traffic Density=%{x}<br>Happiness Score=%{y}<br>Cost_of_Living_Index=%{marker.size}<extra></extra>",
         "legendgroup": "Otautau",
         "marker": {
          "color": "#ab63fa",
          "size": [
           20
          ],
          "sizemode": "area",
          "sizeref": 0.325,
          "symbol": "circle"
         },
         "mode": "markers",
         "name": "Otautau",
         "orientation": "v",
         "showlegend": true,
         "type": "scatter",
         "x": [
          "Medium"
         ],
         "xaxis": "x",
         "y": [
          -32
         ],
         "yaxis": "y"
        },
        {
         "hovertemplate": "City=Riverton<br>Traffic Density=%{x}<br>Happiness Score=%{y}<br>Cost_of_Living_Index=%{marker.size}<extra></extra>",
         "legendgroup": "Riverton",
         "marker": {
          "color": "#FFA15A",
          "size": [
           25
          ],
          "sizemode": "area",
          "sizeref": 0.325,
          "symbol": "circle"
         },
         "mode": "markers",
         "name": "Riverton",
         "orientation": "v",
         "showlegend": true,
         "type": "scatter",
         "x": [
          "Low"
         ],
         "xaxis": "x",
         "y": [
          -32.3
         ],
         "yaxis": "y"
        },
        {
         "hovertemplate": "City=Bluff<br>Traffic Density=%{x}<br>Happiness Score=%{y}<br>Cost_of_Living_Index=%{marker.size}<extra></extra>",
         "legendgroup": "Bluff",
         "marker": {
          "color": "#19d3f3",
          "size": [
           25,
           25,
           25,
           25,
           25,
           25,
           25
          ],
          "sizemode": "area",
          "sizeref": 0.325,
          "symbol": "circle"
         },
         "mode": "markers",
         "name": "Bluff",
         "orientation": "v",
         "showlegend": true,
         "type": "scatter",
         "x": [
          "Low",
          "Low",
          "Low",
          "Low",
          "Low",
          "Low",
          "Low"
         ],
         "xaxis": "x",
         "y": [
          -32.9,
          -52.7,
          -67.1,
          -79.1,
          -91.1,
          -103.1,
          -115.1
         ],
         "yaxis": "y"
        },
        {
         "hovertemplate": "City=Stewart Island<br>Traffic Density=%{x}<br>Happiness Score=%{y}<br>Cost_of_Living_Index=%{marker.size}<extra></extra>",
         "legendgroup": "Stewart Island",
         "marker": {
          "color": "#FF6692",
          "size": [
           20,
           20,
           20,
           20,
           20,
           20,
           20
          ],
          "sizemode": "area",
          "sizeref": 0.325,
          "symbol": "circle"
         },
         "mode": "markers",
         "name": "Stewart Island",
         "orientation": "v",
         "showlegend": true,
         "type": "scatter",
         "x": [
          "Medium",
          "Low",
          "Low",
          "Low",
          "Low",
          "Low",
          "Low"
         ],
         "xaxis": "x",
         "y": [
          -33.2,
          -53,
          -67.4,
          -79.4,
          -91.4,
          -103.4,
          -115.4
         ],
         "yaxis": "y"
        },
        {
         "hovertemplate": "City=Oban<br>Traffic Density=%{x}<br>Happiness Score=%{y}<br>Cost_of_Living_Index=%{marker.size}<extra></extra>",
         "legendgroup": "Oban",
         "marker": {
          "color": "#B6E880",
          "size": [
           25,
           25,
           25,
           25,
           25,
           25,
           25
          ],
          "sizemode": "area",
          "sizeref": 0.325,
          "symbol": "circle"
         },
         "mode": "markers",
         "name": "Oban",
         "orientation": "v",
         "showlegend": true,
         "type": "scatter",
         "x": [
          "Low",
          "Low",
          "Low",
          "Low",
          "Low",
          "Low",
          "Low"
         ],
         "xaxis": "x",
         "y": [
          -33.5,
          -53.3,
          -67.7,
          -79.7,
          -91.7,
          -103.7,
          -115.7
         ],
         "yaxis": "y"
        },
        {
         "hovertemplate": "City=Mossburn<br>Traffic Density=%{x}<br>Happiness Score=%{y}<br>Cost_of_Living_Index=%{marker.size}<extra></extra>",
         "legendgroup": "Mossburn",
         "marker": {
          "color": "#FF97FF",
          "size": [
           20
          ],
          "sizemode": "area",
          "sizeref": 0.325,
          "symbol": "circle"
         },
         "mode": "markers",
         "name": "Mossburn",
         "orientation": "v",
         "showlegend": true,
         "type": "scatter",
         "x": [
          "Low"
         ],
         "xaxis": "x",
         "y": [
          -33.8
         ],
         "yaxis": "y"
        },
        {
         "hovertemplate": "City=Lumsden<br>Traffic Density=%{x}<br>Happiness Score=%{y}<br>Cost_of_Living_Index=%{marker.size}<extra></extra>",
         "legendgroup": "Lumsden",
         "marker": {
          "color": "#FECB52",
          "size": [
           25
          ],
          "sizemode": "area",
          "sizeref": 0.325,
          "symbol": "circle"
         },
         "mode": "markers",
         "name": "Lumsden",
         "orientation": "v",
         "showlegend": true,
         "type": "scatter",
         "x": [
          "Low"
         ],
         "xaxis": "x",
         "y": [
          -34.1
         ],
         "yaxis": "y"
        },
        {
         "hovertemplate": "City=Gore<br>Traffic Density=%{x}<br>Happiness Score=%{y}<br>Cost_of_Living_Index=%{marker.size}<extra></extra>",
         "legendgroup": "Gore",
         "marker": {
          "color": "#636efa",
          "size": [
           20
          ],
          "sizemode": "area",
          "sizeref": 0.325,
          "symbol": "circle"
         },
         "mode": "markers",
         "name": "Gore",
         "orientation": "v",
         "showlegend": true,
         "type": "scatter",
         "x": [
          "Medium"
         ],
         "xaxis": "x",
         "y": [
          -34.4
         ],
         "yaxis": "y"
        },
        {
         "hovertemplate": "City=Clinton<br>Traffic Density=%{x}<br>Happiness Score=%{y}<br>Cost_of_Living_Index=%{marker.size}<extra></extra>",
         "legendgroup": "Clinton",
         "marker": {
          "color": "#EF553B",
          "size": [
           25
          ],
          "sizemode": "area",
          "sizeref": 0.325,
          "symbol": "circle"
         },
         "mode": "markers",
         "name": "Clinton",
         "orientation": "v",
         "showlegend": true,
         "type": "scatter",
         "x": [
          "Low"
         ],
         "xaxis": "x",
         "y": [
          -34.7
         ],
         "yaxis": "y"
        },
        {
         "hovertemplate": "City=Balclutha<br>Traffic Density=%{x}<br>Happiness Score=%{y}<br>Cost_of_Living_Index=%{marker.size}<extra></extra>",
         "legendgroup": "Balclutha",
         "marker": {
          "color": "#00cc96",
          "size": [
           20
          ],
          "sizemode": "area",
          "sizeref": 0.325,
          "symbol": "circle"
         },
         "mode": "markers",
         "name": "Balclutha",
         "orientation": "v",
         "showlegend": true,
         "type": "scatter",
         "x": [
          "Low"
         ],
         "xaxis": "x",
         "y": [
          -35
         ],
         "yaxis": "y"
        },
        {
         "hovertemplate": "City=Milton<br>Traffic Density=%{x}<br>Happiness Score=%{y}<br>Cost_of_Living_Index=%{marker.size}<extra></extra>",
         "legendgroup": "Milton",
         "marker": {
          "color": "#ab63fa",
          "size": [
           25
          ],
          "sizemode": "area",
          "sizeref": 0.325,
          "symbol": "circle"
         },
         "mode": "markers",
         "name": "Milton",
         "orientation": "v",
         "showlegend": true,
         "type": "scatter",
         "x": [
          "Low"
         ],
         "xaxis": "x",
         "y": [
          -35.3
         ],
         "yaxis": "y"
        },
        {
         "hovertemplate": "City=Moeraki<br>Traffic Density=%{x}<br>Happiness Score=%{y}<br>Cost_of_Living_Index=%{marker.size}<extra></extra>",
         "legendgroup": "Moeraki",
         "marker": {
          "color": "#FFA15A",
          "size": [
           25,
           20,
           20,
           20,
           20,
           20,
           20
          ],
          "sizemode": "area",
          "sizeref": 0.325,
          "symbol": "circle"
         },
         "mode": "markers",
         "name": "Moeraki",
         "orientation": "v",
         "showlegend": true,
         "type": "scatter",
         "x": [
          "Low",
          "Medium",
          "Medium",
          "Medium",
          "Medium",
          "Medium",
          "Medium"
         ],
         "xaxis": "x",
         "y": [
          -35.9,
          -54.8,
          -69.2,
          -81.2,
          -93.2,
          -105.2,
          -117.2
         ],
         "yaxis": "y"
        },
        {
         "hovertemplate": "City=Oamaru<br>Traffic Density=%{x}<br>Happiness Score=%{y}<br>Cost_of_Living_Index=%{marker.size}<extra></extra>",
         "legendgroup": "Oamaru",
         "marker": {
          "color": "#19d3f3",
          "size": [
           20,
           25,
           25,
           25,
           25,
           25,
           25
          ],
          "sizemode": "area",
          "sizeref": 0.325,
          "symbol": "circle"
         },
         "mode": "markers",
         "name": "Oamaru",
         "orientation": "v",
         "showlegend": true,
         "type": "scatter",
         "x": [
          "Low",
          "Low",
          "Low",
          "Low",
          "Low",
          "Low",
          "Low"
         ],
         "xaxis": "x",
         "y": [
          -36.2,
          -55.1,
          -69.5,
          -81.5,
          -93.5,
          -105.5,
          -117.5
         ],
         "yaxis": "y"
        },
        {
         "hovertemplate": "City=Geraldine<br>Traffic Density=%{x}<br>Happiness Score=%{y}<br>Cost_of_Living_Index=%{marker.size}<extra></extra>",
         "legendgroup": "Geraldine",
         "marker": {
          "color": "#FF6692",
          "size": [
           20,
           25,
           25,
           25,
           25,
           25
          ],
          "sizemode": "area",
          "sizeref": 0.325,
          "symbol": "circle"
         },
         "mode": "markers",
         "name": "Geraldine",
         "orientation": "v",
         "showlegend": true,
         "type": "scatter",
         "x": [
          "Medium",
          "Low",
          "Low",
          "Low",
          "Low",
          "Low"
         ],
         "xaxis": "x",
         "y": [
          -36.8,
          -70.1,
          -82.1,
          -94.1,
          -106.1,
          -118.1
         ],
         "yaxis": "y"
        },
        {
         "hovertemplate": "City=Ashburton<br>Traffic Density=%{x}<br>Happiness Score=%{y}<br>Cost_of_Living_Index=%{marker.size}<extra></extra>",
         "legendgroup": "Ashburton",
         "marker": {
          "color": "#B6E880",
          "size": [
           25,
           20,
           20,
           20,
           20,
           20
          ],
          "sizemode": "area",
          "sizeref": 0.325,
          "symbol": "circle"
         },
         "mode": "markers",
         "name": "Ashburton",
         "orientation": "v",
         "showlegend": true,
         "type": "scatter",
         "x": [
          "Low",
          "Medium",
          "Medium",
          "Medium",
          "Medium",
          "Medium"
         ],
         "xaxis": "x",
         "y": [
          -37.1,
          -70.4,
          -82.4,
          -94.4,
          -106.4,
          -118.4
         ],
         "yaxis": "y"
        },
        {
         "hovertemplate": "City=Kaiapoi<br>Traffic Density=%{x}<br>Happiness Score=%{y}<br>Cost_of_Living_Index=%{marker.size}<extra></extra>",
         "legendgroup": "Kaiapoi",
         "marker": {
          "color": "#FF97FF",
          "size": [
           25,
           20,
           20,
           20,
           20,
           20,
           20
          ],
          "sizemode": "area",
          "sizeref": 0.325,
          "symbol": "circle"
         },
         "mode": "markers",
         "name": "Kaiapoi",
         "orientation": "v",
         "showlegend": true,
         "type": "scatter",
         "x": [
          "Low",
          "Low",
          "Low",
          "Low",
          "Low",
          "Low",
          "Low"
         ],
         "xaxis": "x",
         "y": [
          -37.7,
          -59,
          -71,
          -83,
          -95,
          -107,
          -119
         ],
         "yaxis": "y"
        },
        {
         "hovertemplate": "City=Rangiora<br>Traffic Density=%{x}<br>Happiness Score=%{y}<br>Cost_of_Living_Index=%{marker.size}<extra></extra>",
         "legendgroup": "Rangiora",
         "marker": {
          "color": "#FECB52",
          "size": [
           20,
           25,
           25,
           25,
           25,
           25,
           25
          ],
          "sizemode": "area",
          "sizeref": 0.325,
          "symbol": "circle"
         },
         "mode": "markers",
         "name": "Rangiora",
         "orientation": "v",
         "showlegend": true,
         "type": "scatter",
         "x": [
          "Medium",
          "Low",
          "Low",
          "Low",
          "Low",
          "Low",
          "Low"
         ],
         "xaxis": "x",
         "y": [
          -38,
          -59.3,
          -71.3,
          -83.3,
          -95.3,
          -107.3,
          -119.3
         ],
         "yaxis": "y"
        },
        {
         "hovertemplate": "City=Amberley<br>Traffic Density=%{x}<br>Happiness Score=%{y}<br>Cost_of_Living_Index=%{marker.size}<extra></extra>",
         "legendgroup": "Amberley",
         "marker": {
          "color": "#636efa",
          "size": [
           25,
           20,
           20,
           20,
           20,
           20,
           20
          ],
          "sizemode": "area",
          "sizeref": 0.325,
          "symbol": "circle"
         },
         "mode": "markers",
         "name": "Amberley",
         "orientation": "v",
         "showlegend": true,
         "type": "scatter",
         "x": [
          "Low",
          "Medium",
          "Medium",
          "Medium",
          "Medium",
          "Medium",
          "Medium"
         ],
         "xaxis": "x",
         "y": [
          -38.3,
          -59.6,
          -71.6,
          -83.6,
          -95.6,
          -107.6,
          -119.6
         ],
         "yaxis": "y"
        },
        {
         "hovertemplate": "City=Waiau<br>Traffic Density=%{x}<br>Happiness Score=%{y}<br>Cost_of_Living_Index=%{marker.size}<extra></extra>",
         "legendgroup": "Waiau",
         "marker": {
          "color": "#EF553B",
          "size": [
           25
          ],
          "sizemode": "area",
          "sizeref": 0.325,
          "symbol": "circle"
         },
         "mode": "markers",
         "name": "Waiau",
         "orientation": "v",
         "showlegend": true,
         "type": "scatter",
         "x": [
          "Low"
         ],
         "xaxis": "x",
         "y": [
          -38.9
         ],
         "yaxis": "y"
        },
        {
         "hovertemplate": "City=Golden Bay<br>Traffic Density=%{x}<br>Happiness Score=%{y}<br>Cost_of_Living_Index=%{marker.size}<extra></extra>",
         "legendgroup": "Golden Bay",
         "marker": {
          "color": "#00cc96",
          "size": [
           25,
           20
          ],
          "sizemode": "area",
          "sizeref": 0.325,
          "symbol": "circle"
         },
         "mode": "markers",
         "name": "Golden Bay",
         "orientation": "v",
         "showlegend": true,
         "type": "scatter",
         "x": [
          "Low",
          "Medium"
         ],
         "xaxis": "x",
         "y": [
          -46.7,
          -58.4
         ],
         "yaxis": "y"
        },
        {
         "hovertemplate": "City=Southland<br>Traffic Density=%{x}<br>Happiness Score=%{y}<br>Cost_of_Living_Index=%{marker.size}<extra></extra>",
         "legendgroup": "Southland",
         "marker": {
          "color": "#ab63fa",
          "size": [
           20,
           20,
           20,
           20,
           20,
           20
          ],
          "sizemode": "area",
          "sizeref": 0.325,
          "symbol": "circle"
         },
         "mode": "markers",
         "name": "Southland",
         "orientation": "v",
         "showlegend": true,
         "type": "scatter",
         "x": [
          "Medium",
          "Medium",
          "Medium",
          "Medium",
          "Medium",
          "Medium"
         ],
         "xaxis": "x",
         "y": [
          -53.6,
          -68,
          -80,
          -92,
          -104,
          -116
         ],
         "yaxis": "y"
        },
        {
         "hovertemplate": "City=The Catlins<br>Traffic Density=%{x}<br>Happiness Score=%{y}<br>Cost_of_Living_Index=%{marker.size}<extra></extra>",
         "legendgroup": "The Catlins",
         "marker": {
          "color": "#FFA15A",
          "size": [
           25,
           25,
           25,
           25,
           25,
           25
          ],
          "sizemode": "area",
          "sizeref": 0.325,
          "symbol": "circle"
         },
         "mode": "markers",
         "name": "The Catlins",
         "orientation": "v",
         "showlegend": true,
         "type": "scatter",
         "x": [
          "Low",
          "Low",
          "Low",
          "Low",
          "Low",
          "Low"
         ],
         "xaxis": "x",
         "y": [
          -53.9,
          -68.3,
          -80.3,
          -92.3,
          -104.3,
          -116.3
         ],
         "yaxis": "y"
        },
        {
         "hovertemplate": "City=Otago Peninsula<br>Traffic Density=%{x}<br>Happiness Score=%{y}<br>Cost_of_Living_Index=%{marker.size}<extra></extra>",
         "legendgroup": "Otago Peninsula",
         "marker": {
          "color": "#19d3f3",
          "size": [
           20,
           20,
           20,
           20,
           20,
           20
          ],
          "sizemode": "area",
          "sizeref": 0.325,
          "symbol": "circle"
         },
         "mode": "markers",
         "name": "Otago Peninsula",
         "orientation": "v",
         "showlegend": true,
         "type": "scatter",
         "x": [
          "Low",
          "Low",
          "Low",
          "Low",
          "Low",
          "Low"
         ],
         "xaxis": "x",
         "y": [
          -54.2,
          -68.6,
          -80.6,
          -92.6,
          -104.6,
          -116.6
         ],
         "yaxis": "y"
        },
        {
         "hovertemplate": "City=Canterbury<br>Traffic Density=%{x}<br>Happiness Score=%{y}<br>Cost_of_Living_Index=%{marker.size}<extra></extra>",
         "legendgroup": "Canterbury",
         "marker": {
          "color": "#FF6692",
          "size": [
           25
          ],
          "sizemode": "area",
          "sizeref": 0.325,
          "symbol": "circle"
         },
         "mode": "markers",
         "name": "Canterbury",
         "orientation": "v",
         "showlegend": true,
         "type": "scatter",
         "x": [
          "Low"
         ],
         "xaxis": "x",
         "y": [
          -55.7
         ],
         "yaxis": "y"
        }
       ],
       "layout": {
        "height": 400,
        "legend": {
         "itemsizing": "constant",
         "title": {
          "text": "City"
         },
         "tracegroupgap": 0
        },
        "template": {
         "data": {
          "bar": [
           {
            "error_x": {
             "color": "#2a3f5f"
            },
            "error_y": {
             "color": "#2a3f5f"
            },
            "marker": {
             "line": {
              "color": "#E5ECF6",
              "width": 0.5
             },
             "pattern": {
              "fillmode": "overlay",
              "size": 10,
              "solidity": 0.2
             }
            },
            "type": "bar"
           }
          ],
          "barpolar": [
           {
            "marker": {
             "line": {
              "color": "#E5ECF6",
              "width": 0.5
             },
             "pattern": {
              "fillmode": "overlay",
              "size": 10,
              "solidity": 0.2
             }
            },
            "type": "barpolar"
           }
          ],
          "carpet": [
           {
            "aaxis": {
             "endlinecolor": "#2a3f5f",
             "gridcolor": "white",
             "linecolor": "white",
             "minorgridcolor": "white",
             "startlinecolor": "#2a3f5f"
            },
            "baxis": {
             "endlinecolor": "#2a3f5f",
             "gridcolor": "white",
             "linecolor": "white",
             "minorgridcolor": "white",
             "startlinecolor": "#2a3f5f"
            },
            "type": "carpet"
           }
          ],
          "choropleth": [
           {
            "colorbar": {
             "outlinewidth": 0,
             "ticks": ""
            },
            "type": "choropleth"
           }
          ],
          "contour": [
           {
            "colorbar": {
             "outlinewidth": 0,
             "ticks": ""
            },
            "colorscale": [
             [
              0,
              "#0d0887"
             ],
             [
              0.1111111111111111,
              "#46039f"
             ],
             [
              0.2222222222222222,
              "#7201a8"
             ],
             [
              0.3333333333333333,
              "#9c179e"
             ],
             [
              0.4444444444444444,
              "#bd3786"
             ],
             [
              0.5555555555555556,
              "#d8576b"
             ],
             [
              0.6666666666666666,
              "#ed7953"
             ],
             [
              0.7777777777777778,
              "#fb9f3a"
             ],
             [
              0.8888888888888888,
              "#fdca26"
             ],
             [
              1,
              "#f0f921"
             ]
            ],
            "type": "contour"
           }
          ],
          "contourcarpet": [
           {
            "colorbar": {
             "outlinewidth": 0,
             "ticks": ""
            },
            "type": "contourcarpet"
           }
          ],
          "heatmap": [
           {
            "colorbar": {
             "outlinewidth": 0,
             "ticks": ""
            },
            "colorscale": [
             [
              0,
              "#0d0887"
             ],
             [
              0.1111111111111111,
              "#46039f"
             ],
             [
              0.2222222222222222,
              "#7201a8"
             ],
             [
              0.3333333333333333,
              "#9c179e"
             ],
             [
              0.4444444444444444,
              "#bd3786"
             ],
             [
              0.5555555555555556,
              "#d8576b"
             ],
             [
              0.6666666666666666,
              "#ed7953"
             ],
             [
              0.7777777777777778,
              "#fb9f3a"
             ],
             [
              0.8888888888888888,
              "#fdca26"
             ],
             [
              1,
              "#f0f921"
             ]
            ],
            "type": "heatmap"
           }
          ],
          "heatmapgl": [
           {
            "colorbar": {
             "outlinewidth": 0,
             "ticks": ""
            },
            "colorscale": [
             [
              0,
              "#0d0887"
             ],
             [
              0.1111111111111111,
              "#46039f"
             ],
             [
              0.2222222222222222,
              "#7201a8"
             ],
             [
              0.3333333333333333,
              "#9c179e"
             ],
             [
              0.4444444444444444,
              "#bd3786"
             ],
             [
              0.5555555555555556,
              "#d8576b"
             ],
             [
              0.6666666666666666,
              "#ed7953"
             ],
             [
              0.7777777777777778,
              "#fb9f3a"
             ],
             [
              0.8888888888888888,
              "#fdca26"
             ],
             [
              1,
              "#f0f921"
             ]
            ],
            "type": "heatmapgl"
           }
          ],
          "histogram": [
           {
            "marker": {
             "pattern": {
              "fillmode": "overlay",
              "size": 10,
              "solidity": 0.2
             }
            },
            "type": "histogram"
           }
          ],
          "histogram2d": [
           {
            "colorbar": {
             "outlinewidth": 0,
             "ticks": ""
            },
            "colorscale": [
             [
              0,
              "#0d0887"
             ],
             [
              0.1111111111111111,
              "#46039f"
             ],
             [
              0.2222222222222222,
              "#7201a8"
             ],
             [
              0.3333333333333333,
              "#9c179e"
             ],
             [
              0.4444444444444444,
              "#bd3786"
             ],
             [
              0.5555555555555556,
              "#d8576b"
             ],
             [
              0.6666666666666666,
              "#ed7953"
             ],
             [
              0.7777777777777778,
              "#fb9f3a"
             ],
             [
              0.8888888888888888,
              "#fdca26"
             ],
             [
              1,
              "#f0f921"
             ]
            ],
            "type": "histogram2d"
           }
          ],
          "histogram2dcontour": [
           {
            "colorbar": {
             "outlinewidth": 0,
             "ticks": ""
            },
            "colorscale": [
             [
              0,
              "#0d0887"
             ],
             [
              0.1111111111111111,
              "#46039f"
             ],
             [
              0.2222222222222222,
              "#7201a8"
             ],
             [
              0.3333333333333333,
              "#9c179e"
             ],
             [
              0.4444444444444444,
              "#bd3786"
             ],
             [
              0.5555555555555556,
              "#d8576b"
             ],
             [
              0.6666666666666666,
              "#ed7953"
             ],
             [
              0.7777777777777778,
              "#fb9f3a"
             ],
             [
              0.8888888888888888,
              "#fdca26"
             ],
             [
              1,
              "#f0f921"
             ]
            ],
            "type": "histogram2dcontour"
           }
          ],
          "mesh3d": [
           {
            "colorbar": {
             "outlinewidth": 0,
             "ticks": ""
            },
            "type": "mesh3d"
           }
          ],
          "parcoords": [
           {
            "line": {
             "colorbar": {
              "outlinewidth": 0,
              "ticks": ""
             }
            },
            "type": "parcoords"
           }
          ],
          "pie": [
           {
            "automargin": true,
            "type": "pie"
           }
          ],
          "scatter": [
           {
            "fillpattern": {
             "fillmode": "overlay",
             "size": 10,
             "solidity": 0.2
            },
            "type": "scatter"
           }
          ],
          "scatter3d": [
           {
            "line": {
             "colorbar": {
              "outlinewidth": 0,
              "ticks": ""
             }
            },
            "marker": {
             "colorbar": {
              "outlinewidth": 0,
              "ticks": ""
             }
            },
            "type": "scatter3d"
           }
          ],
          "scattercarpet": [
           {
            "marker": {
             "colorbar": {
              "outlinewidth": 0,
              "ticks": ""
             }
            },
            "type": "scattercarpet"
           }
          ],
          "scattergeo": [
           {
            "marker": {
             "colorbar": {
              "outlinewidth": 0,
              "ticks": ""
             }
            },
            "type": "scattergeo"
           }
          ],
          "scattergl": [
           {
            "marker": {
             "colorbar": {
              "outlinewidth": 0,
              "ticks": ""
             }
            },
            "type": "scattergl"
           }
          ],
          "scattermapbox": [
           {
            "marker": {
             "colorbar": {
              "outlinewidth": 0,
              "ticks": ""
             }
            },
            "type": "scattermapbox"
           }
          ],
          "scatterpolar": [
           {
            "marker": {
             "colorbar": {
              "outlinewidth": 0,
              "ticks": ""
             }
            },
            "type": "scatterpolar"
           }
          ],
          "scatterpolargl": [
           {
            "marker": {
             "colorbar": {
              "outlinewidth": 0,
              "ticks": ""
             }
            },
            "type": "scatterpolargl"
           }
          ],
          "scatterternary": [
           {
            "marker": {
             "colorbar": {
              "outlinewidth": 0,
              "ticks": ""
             }
            },
            "type": "scatterternary"
           }
          ],
          "surface": [
           {
            "colorbar": {
             "outlinewidth": 0,
             "ticks": ""
            },
            "colorscale": [
             [
              0,
              "#0d0887"
             ],
             [
              0.1111111111111111,
              "#46039f"
             ],
             [
              0.2222222222222222,
              "#7201a8"
             ],
             [
              0.3333333333333333,
              "#9c179e"
             ],
             [
              0.4444444444444444,
              "#bd3786"
             ],
             [
              0.5555555555555556,
              "#d8576b"
             ],
             [
              0.6666666666666666,
              "#ed7953"
             ],
             [
              0.7777777777777778,
              "#fb9f3a"
             ],
             [
              0.8888888888888888,
              "#fdca26"
             ],
             [
              1,
              "#f0f921"
             ]
            ],
            "type": "surface"
           }
          ],
          "table": [
           {
            "cells": {
             "fill": {
              "color": "#EBF0F8"
             },
             "line": {
              "color": "white"
             }
            },
            "header": {
             "fill": {
              "color": "#C8D4E3"
             },
             "line": {
              "color": "white"
             }
            },
            "type": "table"
           }
          ]
         },
         "layout": {
          "annotationdefaults": {
           "arrowcolor": "#2a3f5f",
           "arrowhead": 0,
           "arrowwidth": 1
          },
          "autotypenumbers": "strict",
          "coloraxis": {
           "colorbar": {
            "outlinewidth": 0,
            "ticks": ""
           }
          },
          "colorscale": {
           "diverging": [
            [
             0,
             "#8e0152"
            ],
            [
             0.1,
             "#c51b7d"
            ],
            [
             0.2,
             "#de77ae"
            ],
            [
             0.3,
             "#f1b6da"
            ],
            [
             0.4,
             "#fde0ef"
            ],
            [
             0.5,
             "#f7f7f7"
            ],
            [
             0.6,
             "#e6f5d0"
            ],
            [
             0.7,
             "#b8e186"
            ],
            [
             0.8,
             "#7fbc41"
            ],
            [
             0.9,
             "#4d9221"
            ],
            [
             1,
             "#276419"
            ]
           ],
           "sequential": [
            [
             0,
             "#0d0887"
            ],
            [
             0.1111111111111111,
             "#46039f"
            ],
            [
             0.2222222222222222,
             "#7201a8"
            ],
            [
             0.3333333333333333,
             "#9c179e"
            ],
            [
             0.4444444444444444,
             "#bd3786"
            ],
            [
             0.5555555555555556,
             "#d8576b"
            ],
            [
             0.6666666666666666,
             "#ed7953"
            ],
            [
             0.7777777777777778,
             "#fb9f3a"
            ],
            [
             0.8888888888888888,
             "#fdca26"
            ],
            [
             1,
             "#f0f921"
            ]
           ],
           "sequentialminus": [
            [
             0,
             "#0d0887"
            ],
            [
             0.1111111111111111,
             "#46039f"
            ],
            [
             0.2222222222222222,
             "#7201a8"
            ],
            [
             0.3333333333333333,
             "#9c179e"
            ],
            [
             0.4444444444444444,
             "#bd3786"
            ],
            [
             0.5555555555555556,
             "#d8576b"
            ],
            [
             0.6666666666666666,
             "#ed7953"
            ],
            [
             0.7777777777777778,
             "#fb9f3a"
            ],
            [
             0.8888888888888888,
             "#fdca26"
            ],
            [
             1,
             "#f0f921"
            ]
           ]
          },
          "colorway": [
           "#636efa",
           "#EF553B",
           "#00cc96",
           "#ab63fa",
           "#FFA15A",
           "#19d3f3",
           "#FF6692",
           "#B6E880",
           "#FF97FF",
           "#FECB52"
          ],
          "font": {
           "color": "#2a3f5f"
          },
          "geo": {
           "bgcolor": "white",
           "lakecolor": "white",
           "landcolor": "#E5ECF6",
           "showlakes": true,
           "showland": true,
           "subunitcolor": "white"
          },
          "hoverlabel": {
           "align": "left"
          },
          "hovermode": "closest",
          "mapbox": {
           "style": "light"
          },
          "paper_bgcolor": "white",
          "plot_bgcolor": "#E5ECF6",
          "polar": {
           "angularaxis": {
            "gridcolor": "white",
            "linecolor": "white",
            "ticks": ""
           },
           "bgcolor": "#E5ECF6",
           "radialaxis": {
            "gridcolor": "white",
            "linecolor": "white",
            "ticks": ""
           }
          },
          "scene": {
           "xaxis": {
            "backgroundcolor": "#E5ECF6",
            "gridcolor": "white",
            "gridwidth": 2,
            "linecolor": "white",
            "showbackground": true,
            "ticks": "",
            "zerolinecolor": "white"
           },
           "yaxis": {
            "backgroundcolor": "#E5ECF6",
            "gridcolor": "white",
            "gridwidth": 2,
            "linecolor": "white",
            "showbackground": true,
            "ticks": "",
            "zerolinecolor": "white"
           },
           "zaxis": {
            "backgroundcolor": "#E5ECF6",
            "gridcolor": "white",
            "gridwidth": 2,
            "linecolor": "white",
            "showbackground": true,
            "ticks": "",
            "zerolinecolor": "white"
           }
          },
          "shapedefaults": {
           "line": {
            "color": "#2a3f5f"
           }
          },
          "ternary": {
           "aaxis": {
            "gridcolor": "white",
            "linecolor": "white",
            "ticks": ""
           },
           "baxis": {
            "gridcolor": "white",
            "linecolor": "white",
            "ticks": ""
           },
           "bgcolor": "#E5ECF6",
           "caxis": {
            "gridcolor": "white",
            "linecolor": "white",
            "ticks": ""
           }
          },
          "title": {
           "x": 0.05
          },
          "xaxis": {
           "automargin": true,
           "gridcolor": "white",
           "linecolor": "white",
           "ticks": "",
           "title": {
            "standoff": 15
           },
           "zerolinecolor": "white",
           "zerolinewidth": 2
          },
          "yaxis": {
           "automargin": true,
           "gridcolor": "white",
           "linecolor": "white",
           "ticks": "",
           "title": {
            "standoff": 15
           },
           "zerolinecolor": "white",
           "zerolinewidth": 2
          }
         }
        },
        "title": {
         "text": "Traffic Density vs. Happiness Score"
        },
        "xaxis": {
         "anchor": "y",
         "domain": [
          0,
          1
         ],
         "title": {
          "text": "Traffic Density"
         }
        },
        "yaxis": {
         "anchor": "x",
         "domain": [
          0,
          1
         ],
         "title": {
          "text": "Happiness Score"
         }
        }
       }
      }
     },
     "metadata": {},
     "output_type": "display_data"
    }
   ],
   "source": [
    "scatter = px.scatter(train_df, x='Traffic_Density', y='Happiness_Score', \n",
    "                  size='Cost_of_Living_Index', color='City', \n",
    "                  title='Traffic Density vs. Happiness Score', \n",
    "                  labels={'Traffic_Density':'Traffic Density', 'Happiness_Score':'Happiness Score'},\n",
    "                  height=400)\n",
    "scatter.write_html('Traffic_Density_vs_Happiness_Score.html')\n",
    "scatter.show()"
   ]
  },
  {
   "cell_type": "code",
   "execution_count": 42,
   "metadata": {},
   "outputs": [
    {
     "data": {
      "application/vnd.plotly.v1+json": {
       "config": {
        "plotlyServerURL": "https://plot.ly"
       },
       "data": [
        {
         "hovertemplate": "City=New York<br>Year=%{x}<br>Green Space Area=%{y}<extra></extra>",
         "legendgroup": "New York",
         "line": {
          "color": "#636efa",
          "dash": "solid"
         },
         "marker": {
          "symbol": "circle"
         },
         "mode": "lines",
         "name": "New York",
         "orientation": "v",
         "showlegend": true,
         "type": "scatter",
         "x": [
          2024
         ],
         "xaxis": "x",
         "y": [
          35
         ],
         "yaxis": "y"
        },
        {
         "hovertemplate": "City=Los Angeles<br>Year=%{x}<br>Green Space Area=%{y}<extra></extra>",
         "legendgroup": "Los Angeles",
         "line": {
          "color": "#EF553B",
          "dash": "solid"
         },
         "marker": {
          "symbol": "circle"
         },
         "mode": "lines",
         "name": "Los Angeles",
         "orientation": "v",
         "showlegend": true,
         "type": "scatter",
         "x": [
          2024
         ],
         "xaxis": "x",
         "y": [
          40
         ],
         "yaxis": "y"
        },
        {
         "hovertemplate": "City=Chicago<br>Year=%{x}<br>Green Space Area=%{y}<extra></extra>",
         "legendgroup": "Chicago",
         "line": {
          "color": "#00cc96",
          "dash": "solid"
         },
         "marker": {
          "symbol": "circle"
         },
         "mode": "lines",
         "name": "Chicago",
         "orientation": "v",
         "showlegend": true,
         "type": "scatter",
         "x": [
          2024
         ],
         "xaxis": "x",
         "y": [
          30
         ],
         "yaxis": "y"
        },
        {
         "hovertemplate": "City=London<br>Year=%{x}<br>Green Space Area=%{y}<extra></extra>",
         "legendgroup": "London",
         "line": {
          "color": "#ab63fa",
          "dash": "solid"
         },
         "marker": {
          "symbol": "circle"
         },
         "mode": "lines",
         "name": "London",
         "orientation": "v",
         "showlegend": true,
         "type": "scatter",
         "x": [
          2024
         ],
         "xaxis": "x",
         "y": [
          50
         ],
         "yaxis": "y"
        },
        {
         "hovertemplate": "City=Paris<br>Year=%{x}<br>Green Space Area=%{y}<extra></extra>",
         "legendgroup": "Paris",
         "line": {
          "color": "#FFA15A",
          "dash": "solid"
         },
         "marker": {
          "symbol": "circle"
         },
         "mode": "lines",
         "name": "Paris",
         "orientation": "v",
         "showlegend": true,
         "type": "scatter",
         "x": [
          2024
         ],
         "xaxis": "x",
         "y": [
          45
         ],
         "yaxis": "y"
        },
        {
         "hovertemplate": "City=Berlin<br>Year=%{x}<br>Green Space Area=%{y}<extra></extra>",
         "legendgroup": "Berlin",
         "line": {
          "color": "#19d3f3",
          "dash": "solid"
         },
         "marker": {
          "symbol": "circle"
         },
         "mode": "lines",
         "name": "Berlin",
         "orientation": "v",
         "showlegend": true,
         "type": "scatter",
         "x": [
          2024
         ],
         "xaxis": "x",
         "y": [
          55
         ],
         "yaxis": "y"
        },
        {
         "hovertemplate": "City=Tokyo<br>Year=%{x}<br>Green Space Area=%{y}<extra></extra>",
         "legendgroup": "Tokyo",
         "line": {
          "color": "#FF6692",
          "dash": "solid"
         },
         "marker": {
          "symbol": "circle"
         },
         "mode": "lines",
         "name": "Tokyo",
         "orientation": "v",
         "showlegend": true,
         "type": "scatter",
         "x": [
          2024
         ],
         "xaxis": "x",
         "y": [
          30
         ],
         "yaxis": "y"
        },
        {
         "hovertemplate": "City=Seoul<br>Year=%{x}<br>Green Space Area=%{y}<extra></extra>",
         "legendgroup": "Seoul",
         "line": {
          "color": "#B6E880",
          "dash": "solid"
         },
         "marker": {
          "symbol": "circle"
         },
         "mode": "lines",
         "name": "Seoul",
         "orientation": "v",
         "showlegend": true,
         "type": "scatter",
         "x": [
          2024
         ],
         "xaxis": "x",
         "y": [
          25
         ],
         "yaxis": "y"
        },
        {
         "hovertemplate": "City=Mumbai<br>Year=%{x}<br>Green Space Area=%{y}<extra></extra>",
         "legendgroup": "Mumbai",
         "line": {
          "color": "#FF97FF",
          "dash": "solid"
         },
         "marker": {
          "symbol": "circle"
         },
         "mode": "lines",
         "name": "Mumbai",
         "orientation": "v",
         "showlegend": true,
         "type": "scatter",
         "x": [
          2024
         ],
         "xaxis": "x",
         "y": [
          15
         ],
         "yaxis": "y"
        },
        {
         "hovertemplate": "City=Sydney<br>Year=%{x}<br>Green Space Area=%{y}<extra></extra>",
         "legendgroup": "Sydney",
         "line": {
          "color": "#FECB52",
          "dash": "solid"
         },
         "marker": {
          "symbol": "circle"
         },
         "mode": "lines",
         "name": "Sydney",
         "orientation": "v",
         "showlegend": true,
         "type": "scatter",
         "x": [
          2024
         ],
         "xaxis": "x",
         "y": [
          60
         ],
         "yaxis": "y"
        },
        {
         "hovertemplate": "City=Istanbul<br>Year=%{x}<br>Green Space Area=%{y}<extra></extra>",
         "legendgroup": "Istanbul",
         "line": {
          "color": "#636efa",
          "dash": "solid"
         },
         "marker": {
          "symbol": "circle"
         },
         "mode": "lines",
         "name": "Istanbul",
         "orientation": "v",
         "showlegend": true,
         "type": "scatter",
         "x": [
          2024
         ],
         "xaxis": "x",
         "y": [
          45
         ],
         "yaxis": "y"
        },
        {
         "hovertemplate": "City=Rio de Janeiro<br>Year=%{x}<br>Green Space Area=%{y}<extra></extra>",
         "legendgroup": "Rio de Janeiro",
         "line": {
          "color": "#EF553B",
          "dash": "solid"
         },
         "marker": {
          "symbol": "circle"
         },
         "mode": "lines",
         "name": "Rio de Janeiro",
         "orientation": "v",
         "showlegend": true,
         "type": "scatter",
         "x": [
          2024
         ],
         "xaxis": "x",
         "y": [
          50
         ],
         "yaxis": "y"
        },
        {
         "hovertemplate": "City=Toronto<br>Year=%{x}<br>Green Space Area=%{y}<extra></extra>",
         "legendgroup": "Toronto",
         "line": {
          "color": "#00cc96",
          "dash": "solid"
         },
         "marker": {
          "symbol": "circle"
         },
         "mode": "lines",
         "name": "Toronto",
         "orientation": "v",
         "showlegend": true,
         "type": "scatter",
         "x": [
          2024
         ],
         "xaxis": "x",
         "y": [
          55
         ],
         "yaxis": "y"
        },
        {
         "hovertemplate": "City=Mexico City<br>Year=%{x}<br>Green Space Area=%{y}<extra></extra>",
         "legendgroup": "Mexico City",
         "line": {
          "color": "#ab63fa",
          "dash": "solid"
         },
         "marker": {
          "symbol": "circle"
         },
         "mode": "lines",
         "name": "Mexico City",
         "orientation": "v",
         "showlegend": true,
         "type": "scatter",
         "x": [
          2024
         ],
         "xaxis": "x",
         "y": [
          35
         ],
         "yaxis": "y"
        },
        {
         "hovertemplate": "City=Cape Town<br>Year=%{x}<br>Green Space Area=%{y}<extra></extra>",
         "legendgroup": "Cape Town",
         "line": {
          "color": "#FFA15A",
          "dash": "solid"
         },
         "marker": {
          "symbol": "circle"
         },
         "mode": "lines",
         "name": "Cape Town",
         "orientation": "v",
         "showlegend": true,
         "type": "scatter",
         "x": [
          2024
         ],
         "xaxis": "x",
         "y": [
          60
         ],
         "yaxis": "y"
        },
        {
         "hovertemplate": "City=Bangkok<br>Year=%{x}<br>Green Space Area=%{y}<extra></extra>",
         "legendgroup": "Bangkok",
         "line": {
          "color": "#19d3f3",
          "dash": "solid"
         },
         "marker": {
          "symbol": "circle"
         },
         "mode": "lines",
         "name": "Bangkok",
         "orientation": "v",
         "showlegend": true,
         "type": "scatter",
         "x": [
          2024
         ],
         "xaxis": "x",
         "y": [
          25
         ],
         "yaxis": "y"
        },
        {
         "hovertemplate": "City=Buenos Aires<br>Year=%{x}<br>Green Space Area=%{y}<extra></extra>",
         "legendgroup": "Buenos Aires",
         "line": {
          "color": "#FF6692",
          "dash": "solid"
         },
         "marker": {
          "symbol": "circle"
         },
         "mode": "lines",
         "name": "Buenos Aires",
         "orientation": "v",
         "showlegend": true,
         "type": "scatter",
         "x": [
          2024
         ],
         "xaxis": "x",
         "y": [
          40
         ],
         "yaxis": "y"
        },
        {
         "hovertemplate": "City=Amsterdam<br>Year=%{x}<br>Green Space Area=%{y}<extra></extra>",
         "legendgroup": "Amsterdam",
         "line": {
          "color": "#B6E880",
          "dash": "solid"
         },
         "marker": {
          "symbol": "circle"
         },
         "mode": "lines",
         "name": "Amsterdam",
         "orientation": "v",
         "showlegend": true,
         "type": "scatter",
         "x": [
          2024
         ],
         "xaxis": "x",
         "y": [
          75
         ],
         "yaxis": "y"
        },
        {
         "hovertemplate": "City=Cairo<br>Year=%{x}<br>Green Space Area=%{y}<extra></extra>",
         "legendgroup": "Cairo",
         "line": {
          "color": "#FF97FF",
          "dash": "solid"
         },
         "marker": {
          "symbol": "circle"
         },
         "mode": "lines",
         "name": "Cairo",
         "orientation": "v",
         "showlegend": true,
         "type": "scatter",
         "x": [
          2024
         ],
         "xaxis": "x",
         "y": [
          20
         ],
         "yaxis": "y"
        },
        {
         "hovertemplate": "City=Moscow<br>Year=%{x}<br>Green Space Area=%{y}<extra></extra>",
         "legendgroup": "Moscow",
         "line": {
          "color": "#FECB52",
          "dash": "solid"
         },
         "marker": {
          "symbol": "circle"
         },
         "mode": "lines",
         "name": "Moscow",
         "orientation": "v",
         "showlegend": true,
         "type": "scatter",
         "x": [
          2024
         ],
         "xaxis": "x",
         "y": [
          30
         ],
         "yaxis": "y"
        },
        {
         "hovertemplate": "City=Singapore<br>Year=%{x}<br>Green Space Area=%{y}<extra></extra>",
         "legendgroup": "Singapore",
         "line": {
          "color": "#636efa",
          "dash": "solid"
         },
         "marker": {
          "symbol": "circle"
         },
         "mode": "lines",
         "name": "Singapore",
         "orientation": "v",
         "showlegend": true,
         "type": "scatter",
         "x": [
          2024
         ],
         "xaxis": "x",
         "y": [
          45
         ],
         "yaxis": "y"
        },
        {
         "hovertemplate": "City=Dubai<br>Year=%{x}<br>Green Space Area=%{y}<extra></extra>",
         "legendgroup": "Dubai",
         "line": {
          "color": "#EF553B",
          "dash": "solid"
         },
         "marker": {
          "symbol": "circle"
         },
         "mode": "lines",
         "name": "Dubai",
         "orientation": "v",
         "showlegend": true,
         "type": "scatter",
         "x": [
          2024
         ],
         "xaxis": "x",
         "y": [
          35
         ],
         "yaxis": "y"
        },
        {
         "hovertemplate": "City=Hong Kong<br>Year=%{x}<br>Green Space Area=%{y}<extra></extra>",
         "legendgroup": "Hong Kong",
         "line": {
          "color": "#00cc96",
          "dash": "solid"
         },
         "marker": {
          "symbol": "circle"
         },
         "mode": "lines",
         "name": "Hong Kong",
         "orientation": "v",
         "showlegend": true,
         "type": "scatter",
         "x": [
          2024
         ],
         "xaxis": "x",
         "y": [
          25
         ],
         "yaxis": "y"
        },
        {
         "hovertemplate": "City=Barcelona<br>Year=%{x}<br>Green Space Area=%{y}<extra></extra>",
         "legendgroup": "Barcelona",
         "line": {
          "color": "#ab63fa",
          "dash": "solid"
         },
         "marker": {
          "symbol": "circle"
         },
         "mode": "lines",
         "name": "Barcelona",
         "orientation": "v",
         "showlegend": true,
         "type": "scatter",
         "x": [
          2024
         ],
         "xaxis": "x",
         "y": [
          65
         ],
         "yaxis": "y"
        },
        {
         "hovertemplate": "City=Lisbon<br>Year=%{x}<br>Green Space Area=%{y}<extra></extra>",
         "legendgroup": "Lisbon",
         "line": {
          "color": "#FFA15A",
          "dash": "solid"
         },
         "marker": {
          "symbol": "circle"
         },
         "mode": "lines",
         "name": "Lisbon",
         "orientation": "v",
         "showlegend": true,
         "type": "scatter",
         "x": [
          2024
         ],
         "xaxis": "x",
         "y": [
          70
         ],
         "yaxis": "y"
        },
        {
         "hovertemplate": "City=Melbourne<br>Year=%{x}<br>Green Space Area=%{y}<extra></extra>",
         "legendgroup": "Melbourne",
         "line": {
          "color": "#19d3f3",
          "dash": "solid"
         },
         "marker": {
          "symbol": "circle"
         },
         "mode": "lines",
         "name": "Melbourne",
         "orientation": "v",
         "showlegend": true,
         "type": "scatter",
         "x": [
          2024
         ],
         "xaxis": "x",
         "y": [
          60
         ],
         "yaxis": "y"
        },
        {
         "hovertemplate": "City=Auckland<br>Year=%{x}<br>Green Space Area=%{y}<extra></extra>",
         "legendgroup": "Auckland",
         "line": {
          "color": "#FF6692",
          "dash": "solid"
         },
         "marker": {
          "symbol": "circle"
         },
         "mode": "lines",
         "name": "Auckland",
         "orientation": "v",
         "showlegend": true,
         "type": "scatter",
         "x": [
          2024,
          2025
         ],
         "xaxis": "x",
         "y": [
          80,
          550
         ],
         "yaxis": "y"
        },
        {
         "hovertemplate": "City=Rome<br>Year=%{x}<br>Green Space Area=%{y}<extra></extra>",
         "legendgroup": "Rome",
         "line": {
          "color": "#B6E880",
          "dash": "solid"
         },
         "marker": {
          "symbol": "circle"
         },
         "mode": "lines",
         "name": "Rome",
         "orientation": "v",
         "showlegend": true,
         "type": "scatter",
         "x": [
          2024
         ],
         "xaxis": "x",
         "y": [
          40
         ],
         "yaxis": "y"
        },
        {
         "hovertemplate": "City=Athens<br>Year=%{x}<br>Green Space Area=%{y}<extra></extra>",
         "legendgroup": "Athens",
         "line": {
          "color": "#FF97FF",
          "dash": "solid"
         },
         "marker": {
          "symbol": "circle"
         },
         "mode": "lines",
         "name": "Athens",
         "orientation": "v",
         "showlegend": true,
         "type": "scatter",
         "x": [
          2024
         ],
         "xaxis": "x",
         "y": [
          45
         ],
         "yaxis": "y"
        },
        {
         "hovertemplate": "City=Vienna<br>Year=%{x}<br>Green Space Area=%{y}<extra></extra>",
         "legendgroup": "Vienna",
         "line": {
          "color": "#FECB52",
          "dash": "solid"
         },
         "marker": {
          "symbol": "circle"
         },
         "mode": "lines",
         "name": "Vienna",
         "orientation": "v",
         "showlegend": true,
         "type": "scatter",
         "x": [
          2024
         ],
         "xaxis": "x",
         "y": [
          70
         ],
         "yaxis": "y"
        },
        {
         "hovertemplate": "City=Dublin<br>Year=%{x}<br>Green Space Area=%{y}<extra></extra>",
         "legendgroup": "Dublin",
         "line": {
          "color": "#636efa",
          "dash": "solid"
         },
         "marker": {
          "symbol": "circle"
         },
         "mode": "lines",
         "name": "Dublin",
         "orientation": "v",
         "showlegend": true,
         "type": "scatter",
         "x": [
          2024
         ],
         "xaxis": "x",
         "y": [
          55
         ],
         "yaxis": "y"
        },
        {
         "hovertemplate": "City=Copenhagen<br>Year=%{x}<br>Green Space Area=%{y}<extra></extra>",
         "legendgroup": "Copenhagen",
         "line": {
          "color": "#EF553B",
          "dash": "solid"
         },
         "marker": {
          "symbol": "circle"
         },
         "mode": "lines",
         "name": "Copenhagen",
         "orientation": "v",
         "showlegend": true,
         "type": "scatter",
         "x": [
          2024
         ],
         "xaxis": "x",
         "y": [
          75
         ],
         "yaxis": "y"
        },
        {
         "hovertemplate": "City=Stockholm<br>Year=%{x}<br>Green Space Area=%{y}<extra></extra>",
         "legendgroup": "Stockholm",
         "line": {
          "color": "#00cc96",
          "dash": "solid"
         },
         "marker": {
          "symbol": "circle"
         },
         "mode": "lines",
         "name": "Stockholm",
         "orientation": "v",
         "showlegend": true,
         "type": "scatter",
         "x": [
          2024
         ],
         "xaxis": "x",
         "y": [
          80
         ],
         "yaxis": "y"
        },
        {
         "hovertemplate": "City=Oslo<br>Year=%{x}<br>Green Space Area=%{y}<extra></extra>",
         "legendgroup": "Oslo",
         "line": {
          "color": "#ab63fa",
          "dash": "solid"
         },
         "marker": {
          "symbol": "circle"
         },
         "mode": "lines",
         "name": "Oslo",
         "orientation": "v",
         "showlegend": true,
         "type": "scatter",
         "x": [
          2024
         ],
         "xaxis": "x",
         "y": [
          85
         ],
         "yaxis": "y"
        },
        {
         "hovertemplate": "City=Helsinki<br>Year=%{x}<br>Green Space Area=%{y}<extra></extra>",
         "legendgroup": "Helsinki",
         "line": {
          "color": "#FFA15A",
          "dash": "solid"
         },
         "marker": {
          "symbol": "circle"
         },
         "mode": "lines",
         "name": "Helsinki",
         "orientation": "v",
         "showlegend": true,
         "type": "scatter",
         "x": [
          2024
         ],
         "xaxis": "x",
         "y": [
          90
         ],
         "yaxis": "y"
        },
        {
         "hovertemplate": "City=Prague<br>Year=%{x}<br>Green Space Area=%{y}<extra></extra>",
         "legendgroup": "Prague",
         "line": {
          "color": "#19d3f3",
          "dash": "solid"
         },
         "marker": {
          "symbol": "circle"
         },
         "mode": "lines",
         "name": "Prague",
         "orientation": "v",
         "showlegend": true,
         "type": "scatter",
         "x": [
          2024
         ],
         "xaxis": "x",
         "y": [
          50
         ],
         "yaxis": "y"
        },
        {
         "hovertemplate": "City=Budapest<br>Year=%{x}<br>Green Space Area=%{y}<extra></extra>",
         "legendgroup": "Budapest",
         "line": {
          "color": "#FF6692",
          "dash": "solid"
         },
         "marker": {
          "symbol": "circle"
         },
         "mode": "lines",
         "name": "Budapest",
         "orientation": "v",
         "showlegend": true,
         "type": "scatter",
         "x": [
          2024
         ],
         "xaxis": "x",
         "y": [
          45
         ],
         "yaxis": "y"
        },
        {
         "hovertemplate": "City=Warsaw<br>Year=%{x}<br>Green Space Area=%{y}<extra></extra>",
         "legendgroup": "Warsaw",
         "line": {
          "color": "#B6E880",
          "dash": "solid"
         },
         "marker": {
          "symbol": "circle"
         },
         "mode": "lines",
         "name": "Warsaw",
         "orientation": "v",
         "showlegend": true,
         "type": "scatter",
         "x": [
          2024
         ],
         "xaxis": "x",
         "y": [
          40
         ],
         "yaxis": "y"
        },
        {
         "hovertemplate": "City=Sofia<br>Year=%{x}<br>Green Space Area=%{y}<extra></extra>",
         "legendgroup": "Sofia",
         "line": {
          "color": "#FF97FF",
          "dash": "solid"
         },
         "marker": {
          "symbol": "circle"
         },
         "mode": "lines",
         "name": "Sofia",
         "orientation": "v",
         "showlegend": true,
         "type": "scatter",
         "x": [
          2024
         ],
         "xaxis": "x",
         "y": [
          35
         ],
         "yaxis": "y"
        },
        {
         "hovertemplate": "City=Belgrade<br>Year=%{x}<br>Green Space Area=%{y}<extra></extra>",
         "legendgroup": "Belgrade",
         "line": {
          "color": "#FECB52",
          "dash": "solid"
         },
         "marker": {
          "symbol": "circle"
         },
         "mode": "lines",
         "name": "Belgrade",
         "orientation": "v",
         "showlegend": true,
         "type": "scatter",
         "x": [
          2024
         ],
         "xaxis": "x",
         "y": [
          30
         ],
         "yaxis": "y"
        },
        {
         "hovertemplate": "City=São Paulo<br>Year=%{x}<br>Green Space Area=%{y}<extra></extra>",
         "legendgroup": "São Paulo",
         "line": {
          "color": "#636efa",
          "dash": "solid"
         },
         "marker": {
          "symbol": "circle"
         },
         "mode": "lines",
         "name": "São Paulo",
         "orientation": "v",
         "showlegend": true,
         "type": "scatter",
         "x": [
          2024
         ],
         "xaxis": "x",
         "y": [
          40
         ],
         "yaxis": "y"
        },
        {
         "hovertemplate": "City=Lima<br>Year=%{x}<br>Green Space Area=%{y}<extra></extra>",
         "legendgroup": "Lima",
         "line": {
          "color": "#EF553B",
          "dash": "solid"
         },
         "marker": {
          "symbol": "circle"
         },
         "mode": "lines",
         "name": "Lima",
         "orientation": "v",
         "showlegend": true,
         "type": "scatter",
         "x": [
          2024
         ],
         "xaxis": "x",
         "y": [
          25
         ],
         "yaxis": "y"
        },
        {
         "hovertemplate": "City=Santiago<br>Year=%{x}<br>Green Space Area=%{y}<extra></extra>",
         "legendgroup": "Santiago",
         "line": {
          "color": "#00cc96",
          "dash": "solid"
         },
         "marker": {
          "symbol": "circle"
         },
         "mode": "lines",
         "name": "Santiago",
         "orientation": "v",
         "showlegend": true,
         "type": "scatter",
         "x": [
          2024
         ],
         "xaxis": "x",
         "y": [
          35
         ],
         "yaxis": "y"
        },
        {
         "hovertemplate": "City=Bogota<br>Year=%{x}<br>Green Space Area=%{y}<extra></extra>",
         "legendgroup": "Bogota",
         "line": {
          "color": "#ab63fa",
          "dash": "solid"
         },
         "marker": {
          "symbol": "circle"
         },
         "mode": "lines",
         "name": "Bogota",
         "orientation": "v",
         "showlegend": true,
         "type": "scatter",
         "x": [
          2024
         ],
         "xaxis": "x",
         "y": [
          30
         ],
         "yaxis": "y"
        },
        {
         "hovertemplate": "City=Caracas<br>Year=%{x}<br>Green Space Area=%{y}<extra></extra>",
         "legendgroup": "Caracas",
         "line": {
          "color": "#FFA15A",
          "dash": "solid"
         },
         "marker": {
          "symbol": "circle"
         },
         "mode": "lines",
         "name": "Caracas",
         "orientation": "v",
         "showlegend": true,
         "type": "scatter",
         "x": [
          2024
         ],
         "xaxis": "x",
         "y": [
          20
         ],
         "yaxis": "y"
        },
        {
         "hovertemplate": "City=Quito<br>Year=%{x}<br>Green Space Area=%{y}<extra></extra>",
         "legendgroup": "Quito",
         "line": {
          "color": "#19d3f3",
          "dash": "solid"
         },
         "marker": {
          "symbol": "circle"
         },
         "mode": "lines",
         "name": "Quito",
         "orientation": "v",
         "showlegend": true,
         "type": "scatter",
         "x": [
          2024
         ],
         "xaxis": "x",
         "y": [
          25
         ],
         "yaxis": "y"
        },
        {
         "hovertemplate": "City=Panama City<br>Year=%{x}<br>Green Space Area=%{y}<extra></extra>",
         "legendgroup": "Panama City",
         "line": {
          "color": "#FF6692",
          "dash": "solid"
         },
         "marker": {
          "symbol": "circle"
         },
         "mode": "lines",
         "name": "Panama City",
         "orientation": "v",
         "showlegend": true,
         "type": "scatter",
         "x": [
          2024
         ],
         "xaxis": "x",
         "y": [
          30
         ],
         "yaxis": "y"
        },
        {
         "hovertemplate": "City=Kingston<br>Year=%{x}<br>Green Space Area=%{y}<extra></extra>",
         "legendgroup": "Kingston",
         "line": {
          "color": "#B6E880",
          "dash": "solid"
         },
         "marker": {
          "symbol": "circle"
         },
         "mode": "lines",
         "name": "Kingston",
         "orientation": "v",
         "showlegend": true,
         "type": "scatter",
         "x": [
          2024,
          2026,
          2026,
          2027,
          2027,
          2028,
          2028,
          2029
         ],
         "xaxis": "x",
         "y": [
          25,
          885,
          1230,
          1470,
          1670,
          1870,
          2070,
          2270
         ],
         "yaxis": "y"
        },
        {
         "hovertemplate": "City=Havana<br>Year=%{x}<br>Green Space Area=%{y}<extra></extra>",
         "legendgroup": "Havana",
         "line": {
          "color": "#FF97FF",
          "dash": "solid"
         },
         "marker": {
          "symbol": "circle"
         },
         "mode": "lines",
         "name": "Havana",
         "orientation": "v",
         "showlegend": true,
         "type": "scatter",
         "x": [
          2024
         ],
         "xaxis": "x",
         "y": [
          35
         ],
         "yaxis": "y"
        },
        {
         "hovertemplate": "City=Santo Domingo<br>Year=%{x}<br>Green Space Area=%{y}<extra></extra>",
         "legendgroup": "Santo Domingo",
         "line": {
          "color": "#FECB52",
          "dash": "solid"
         },
         "marker": {
          "symbol": "circle"
         },
         "mode": "lines",
         "name": "Santo Domingo",
         "orientation": "v",
         "showlegend": true,
         "type": "scatter",
         "x": [
          2024
         ],
         "xaxis": "x",
         "y": [
          30
         ],
         "yaxis": "y"
        },
        {
         "hovertemplate": "City=San Juan<br>Year=%{x}<br>Green Space Area=%{y}<extra></extra>",
         "legendgroup": "San Juan",
         "line": {
          "color": "#636efa",
          "dash": "solid"
         },
         "marker": {
          "symbol": "circle"
         },
         "mode": "lines",
         "name": "San Juan",
         "orientation": "v",
         "showlegend": true,
         "type": "scatter",
         "x": [
          2024
         ],
         "xaxis": "x",
         "y": [
          25
         ],
         "yaxis": "y"
        },
        {
         "hovertemplate": "City=Manila<br>Year=%{x}<br>Green Space Area=%{y}<extra></extra>",
         "legendgroup": "Manila",
         "line": {
          "color": "#EF553B",
          "dash": "solid"
         },
         "marker": {
          "symbol": "circle"
         },
         "mode": "lines",
         "name": "Manila",
         "orientation": "v",
         "showlegend": true,
         "type": "scatter",
         "x": [
          2024
         ],
         "xaxis": "x",
         "y": [
          20
         ],
         "yaxis": "y"
        },
        {
         "hovertemplate": "City=Jakarta<br>Year=%{x}<br>Green Space Area=%{y}<extra></extra>",
         "legendgroup": "Jakarta",
         "line": {
          "color": "#00cc96",
          "dash": "solid"
         },
         "marker": {
          "symbol": "circle"
         },
         "mode": "lines",
         "name": "Jakarta",
         "orientation": "v",
         "showlegend": true,
         "type": "scatter",
         "x": [
          2024,
          2024
         ],
         "xaxis": "x",
         "y": [
          15,
          10
         ],
         "yaxis": "y"
        },
        {
         "hovertemplate": "City=Kuala Lumpur<br>Year=%{x}<br>Green Space Area=%{y}<extra></extra>",
         "legendgroup": "Kuala Lumpur",
         "line": {
          "color": "#ab63fa",
          "dash": "solid"
         },
         "marker": {
          "symbol": "circle"
         },
         "mode": "lines",
         "name": "Kuala Lumpur",
         "orientation": "v",
         "showlegend": true,
         "type": "scatter",
         "x": [
          2024
         ],
         "xaxis": "x",
         "y": [
          25
         ],
         "yaxis": "y"
        },
        {
         "hovertemplate": "City=Taipei<br>Year=%{x}<br>Green Space Area=%{y}<extra></extra>",
         "legendgroup": "Taipei",
         "line": {
          "color": "#FFA15A",
          "dash": "solid"
         },
         "marker": {
          "symbol": "circle"
         },
         "mode": "lines",
         "name": "Taipei",
         "orientation": "v",
         "showlegend": true,
         "type": "scatter",
         "x": [
          2024
         ],
         "xaxis": "x",
         "y": [
          30
         ],
         "yaxis": "y"
        },
        {
         "hovertemplate": "City=Shanghai<br>Year=%{x}<br>Green Space Area=%{y}<extra></extra>",
         "legendgroup": "Shanghai",
         "line": {
          "color": "#19d3f3",
          "dash": "solid"
         },
         "marker": {
          "symbol": "circle"
         },
         "mode": "lines",
         "name": "Shanghai",
         "orientation": "v",
         "showlegend": true,
         "type": "scatter",
         "x": [
          2024
         ],
         "xaxis": "x",
         "y": [
          20
         ],
         "yaxis": "y"
        },
        {
         "hovertemplate": "City=Beijing<br>Year=%{x}<br>Green Space Area=%{y}<extra></extra>",
         "legendgroup": "Beijing",
         "line": {
          "color": "#FF6692",
          "dash": "solid"
         },
         "marker": {
          "symbol": "circle"
         },
         "mode": "lines",
         "name": "Beijing",
         "orientation": "v",
         "showlegend": true,
         "type": "scatter",
         "x": [
          2024
         ],
         "xaxis": "x",
         "y": [
          15
         ],
         "yaxis": "y"
        },
        {
         "hovertemplate": "City=New Delhi<br>Year=%{x}<br>Green Space Area=%{y}<extra></extra>",
         "legendgroup": "New Delhi",
         "line": {
          "color": "#B6E880",
          "dash": "solid"
         },
         "marker": {
          "symbol": "circle"
         },
         "mode": "lines",
         "name": "New Delhi",
         "orientation": "v",
         "showlegend": true,
         "type": "scatter",
         "x": [
          2024
         ],
         "xaxis": "x",
         "y": [
          10
         ],
         "yaxis": "y"
        },
        {
         "hovertemplate": "City=Tehran<br>Year=%{x}<br>Green Space Area=%{y}<extra></extra>",
         "legendgroup": "Tehran",
         "line": {
          "color": "#FF97FF",
          "dash": "solid"
         },
         "marker": {
          "symbol": "circle"
         },
         "mode": "lines",
         "name": "Tehran",
         "orientation": "v",
         "showlegend": true,
         "type": "scatter",
         "x": [
          2024
         ],
         "xaxis": "x",
         "y": [
          15
         ],
         "yaxis": "y"
        },
        {
         "hovertemplate": "City=Karachi<br>Year=%{x}<br>Green Space Area=%{y}<extra></extra>",
         "legendgroup": "Karachi",
         "line": {
          "color": "#FECB52",
          "dash": "solid"
         },
         "marker": {
          "symbol": "circle"
         },
         "mode": "lines",
         "name": "Karachi",
         "orientation": "v",
         "showlegend": true,
         "type": "scatter",
         "x": [
          2024
         ],
         "xaxis": "x",
         "y": [
          10
         ],
         "yaxis": "y"
        },
        {
         "hovertemplate": "City=Dhaka<br>Year=%{x}<br>Green Space Area=%{y}<extra></extra>",
         "legendgroup": "Dhaka",
         "line": {
          "color": "#636efa",
          "dash": "solid"
         },
         "marker": {
          "symbol": "circle"
         },
         "mode": "lines",
         "name": "Dhaka",
         "orientation": "v",
         "showlegend": true,
         "type": "scatter",
         "x": [
          2024
         ],
         "xaxis": "x",
         "y": [
          5
         ],
         "yaxis": "y"
        },
        {
         "hovertemplate": "City=Colombo<br>Year=%{x}<br>Green Space Area=%{y}<extra></extra>",
         "legendgroup": "Colombo",
         "line": {
          "color": "#EF553B",
          "dash": "solid"
         },
         "marker": {
          "symbol": "circle"
         },
         "mode": "lines",
         "name": "Colombo",
         "orientation": "v",
         "showlegend": true,
         "type": "scatter",
         "x": [
          2024
         ],
         "xaxis": "x",
         "y": [
          25
         ],
         "yaxis": "y"
        },
        {
         "hovertemplate": "City=Islamabad<br>Year=%{x}<br>Green Space Area=%{y}<extra></extra>",
         "legendgroup": "Islamabad",
         "line": {
          "color": "#00cc96",
          "dash": "solid"
         },
         "marker": {
          "symbol": "circle"
         },
         "mode": "lines",
         "name": "Islamabad",
         "orientation": "v",
         "showlegend": true,
         "type": "scatter",
         "x": [
          2024
         ],
         "xaxis": "x",
         "y": [
          20
         ],
         "yaxis": "y"
        },
        {
         "hovertemplate": "City=Kathmandu<br>Year=%{x}<br>Green Space Area=%{y}<extra></extra>",
         "legendgroup": "Kathmandu",
         "line": {
          "color": "#ab63fa",
          "dash": "solid"
         },
         "marker": {
          "symbol": "circle"
         },
         "mode": "lines",
         "name": "Kathmandu",
         "orientation": "v",
         "showlegend": true,
         "type": "scatter",
         "x": [
          2024
         ],
         "xaxis": "x",
         "y": [
          25
         ],
         "yaxis": "y"
        },
        {
         "hovertemplate": "City=Yangon<br>Year=%{x}<br>Green Space Area=%{y}<extra></extra>",
         "legendgroup": "Yangon",
         "line": {
          "color": "#FFA15A",
          "dash": "solid"
         },
         "marker": {
          "symbol": "circle"
         },
         "mode": "lines",
         "name": "Yangon",
         "orientation": "v",
         "showlegend": true,
         "type": "scatter",
         "x": [
          2024
         ],
         "xaxis": "x",
         "y": [
          20
         ],
         "yaxis": "y"
        },
        {
         "hovertemplate": "City=Hanoi<br>Year=%{x}<br>Green Space Area=%{y}<extra></extra>",
         "legendgroup": "Hanoi",
         "line": {
          "color": "#19d3f3",
          "dash": "solid"
         },
         "marker": {
          "symbol": "circle"
         },
         "mode": "lines",
         "name": "Hanoi",
         "orientation": "v",
         "showlegend": true,
         "type": "scatter",
         "x": [
          2024
         ],
         "xaxis": "x",
         "y": [
          15
         ],
         "yaxis": "y"
        },
        {
         "hovertemplate": "City=Phnom Penh<br>Year=%{x}<br>Green Space Area=%{y}<extra></extra>",
         "legendgroup": "Phnom Penh",
         "line": {
          "color": "#FF6692",
          "dash": "solid"
         },
         "marker": {
          "symbol": "circle"
         },
         "mode": "lines",
         "name": "Phnom Penh",
         "orientation": "v",
         "showlegend": true,
         "type": "scatter",
         "x": [
          2024
         ],
         "xaxis": "x",
         "y": [
          10
         ],
         "yaxis": "y"
        },
        {
         "hovertemplate": "City=Vientiane<br>Year=%{x}<br>Green Space Area=%{y}<extra></extra>",
         "legendgroup": "Vientiane",
         "line": {
          "color": "#B6E880",
          "dash": "solid"
         },
         "marker": {
          "symbol": "circle"
         },
         "mode": "lines",
         "name": "Vientiane",
         "orientation": "v",
         "showlegend": true,
         "type": "scatter",
         "x": [
          2024
         ],
         "xaxis": "x",
         "y": [
          15
         ],
         "yaxis": "y"
        },
        {
         "hovertemplate": "City=Bangalore<br>Year=%{x}<br>Green Space Area=%{y}<extra></extra>",
         "legendgroup": "Bangalore",
         "line": {
          "color": "#FF97FF",
          "dash": "solid"
         },
         "marker": {
          "symbol": "circle"
         },
         "mode": "lines",
         "name": "Bangalore",
         "orientation": "v",
         "showlegend": true,
         "type": "scatter",
         "x": [
          2024
         ],
         "xaxis": "x",
         "y": [
          10
         ],
         "yaxis": "y"
        },
        {
         "hovertemplate": "City=Ho Chi Minh City<br>Year=%{x}<br>Green Space Area=%{y}<extra></extra>",
         "legendgroup": "Ho Chi Minh City",
         "line": {
          "color": "#FECB52",
          "dash": "solid"
         },
         "marker": {
          "symbol": "circle"
         },
         "mode": "lines",
         "name": "Ho Chi Minh City",
         "orientation": "v",
         "showlegend": true,
         "type": "scatter",
         "x": [
          2024
         ],
         "xaxis": "x",
         "y": [
          5
         ],
         "yaxis": "y"
        },
        {
         "hovertemplate": "City=Perth<br>Year=%{x}<br>Green Space Area=%{y}<extra></extra>",
         "legendgroup": "Perth",
         "line": {
          "color": "#636efa",
          "dash": "solid"
         },
         "marker": {
          "symbol": "circle"
         },
         "mode": "lines",
         "name": "Perth",
         "orientation": "v",
         "showlegend": true,
         "type": "scatter",
         "x": [
          2024
         ],
         "xaxis": "x",
         "y": [
          60
         ],
         "yaxis": "y"
        },
        {
         "hovertemplate": "City=Adelaide<br>Year=%{x}<br>Green Space Area=%{y}<extra></extra>",
         "legendgroup": "Adelaide",
         "line": {
          "color": "#EF553B",
          "dash": "solid"
         },
         "marker": {
          "symbol": "circle"
         },
         "mode": "lines",
         "name": "Adelaide",
         "orientation": "v",
         "showlegend": true,
         "type": "scatter",
         "x": [
          2024
         ],
         "xaxis": "x",
         "y": [
          65
         ],
         "yaxis": "y"
        },
        {
         "hovertemplate": "City=Brisbane<br>Year=%{x}<br>Green Space Area=%{y}<extra></extra>",
         "legendgroup": "Brisbane",
         "line": {
          "color": "#00cc96",
          "dash": "solid"
         },
         "marker": {
          "symbol": "circle"
         },
         "mode": "lines",
         "name": "Brisbane",
         "orientation": "v",
         "showlegend": true,
         "type": "scatter",
         "x": [
          2024
         ],
         "xaxis": "x",
         "y": [
          70
         ],
         "yaxis": "y"
        },
        {
         "hovertemplate": "City=Canberra<br>Year=%{x}<br>Green Space Area=%{y}<extra></extra>",
         "legendgroup": "Canberra",
         "line": {
          "color": "#ab63fa",
          "dash": "solid"
         },
         "marker": {
          "symbol": "circle"
         },
         "mode": "lines",
         "name": "Canberra",
         "orientation": "v",
         "showlegend": true,
         "type": "scatter",
         "x": [
          2024
         ],
         "xaxis": "x",
         "y": [
          75
         ],
         "yaxis": "y"
        },
        {
         "hovertemplate": "City=Wellington<br>Year=%{x}<br>Green Space Area=%{y}<extra></extra>",
         "legendgroup": "Wellington",
         "line": {
          "color": "#FFA15A",
          "dash": "solid"
         },
         "marker": {
          "symbol": "circle"
         },
         "mode": "lines",
         "name": "Wellington",
         "orientation": "v",
         "showlegend": true,
         "type": "scatter",
         "x": [
          2024,
          2025
         ],
         "xaxis": "x",
         "y": [
          80,
          595
         ],
         "yaxis": "y"
        },
        {
         "hovertemplate": "City=Christchurch<br>Year=%{x}<br>Green Space Area=%{y}<extra></extra>",
         "legendgroup": "Christchurch",
         "line": {
          "color": "#19d3f3",
          "dash": "solid"
         },
         "marker": {
          "symbol": "circle"
         },
         "mode": "lines",
         "name": "Christchurch",
         "orientation": "v",
         "showlegend": true,
         "type": "scatter",
         "x": [
          2024,
          2025,
          2026,
          2027,
          2027,
          2028,
          2029,
          2029
         ],
         "xaxis": "x",
         "y": [
          85,
          615,
          1000,
          1555,
          1755,
          1955,
          2155,
          2355
         ],
         "yaxis": "y"
        },
        {
         "hovertemplate": "City=Dunedin<br>Year=%{x}<br>Green Space Area=%{y}<extra></extra>",
         "legendgroup": "Dunedin",
         "line": {
          "color": "#FF6692",
          "dash": "solid"
         },
         "marker": {
          "symbol": "circle"
         },
         "mode": "lines",
         "name": "Dunedin",
         "orientation": "v",
         "showlegend": true,
         "type": "scatter",
         "x": [
          2024,
          2025,
          2026,
          2026,
          2027,
          2027,
          2028,
          2029,
          2029
         ],
         "xaxis": "x",
         "y": [
          90,
          625,
          970,
          1285,
          1525,
          1725,
          1925,
          2125,
          2325
         ],
         "yaxis": "y"
        },
        {
         "hovertemplate": "City=Queenstown<br>Year=%{x}<br>Green Space Area=%{y}<extra></extra>",
         "legendgroup": "Queenstown",
         "line": {
          "color": "#B6E880",
          "dash": "solid"
         },
         "marker": {
          "symbol": "circle"
         },
         "mode": "lines",
         "name": "Queenstown",
         "orientation": "v",
         "showlegend": true,
         "type": "scatter",
         "x": [
          2024,
          2025,
          2026,
          2026,
          2026,
          2027,
          2027,
          2028,
          2028,
          2029
         ],
         "xaxis": "x",
         "y": [
          95,
          630,
          875,
          1090,
          1215,
          1460,
          1660,
          1860,
          2060,
          2260
         ],
         "yaxis": "y"
        },
        {
         "hovertemplate": "City=Nelson<br>Year=%{x}<br>Green Space Area=%{y}<extra></extra>",
         "legendgroup": "Nelson",
         "line": {
          "color": "#FF97FF",
          "dash": "solid"
         },
         "marker": {
          "symbol": "circle"
         },
         "mode": "lines",
         "name": "Nelson",
         "orientation": "v",
         "showlegend": true,
         "type": "scatter",
         "x": [
          2024,
          2025,
          2025,
          2026,
          2026
         ],
         "xaxis": "x",
         "y": [
          100,
          600,
          800,
          1140,
          1340
         ],
         "yaxis": "y"
        },
        {
         "hovertemplate": "City=Napier<br>Year=%{x}<br>Green Space Area=%{y}<extra></extra>",
         "legendgroup": "Napier",
         "line": {
          "color": "#FECB52",
          "dash": "solid"
         },
         "marker": {
          "symbol": "circle"
         },
         "mode": "lines",
         "name": "Napier",
         "orientation": "v",
         "showlegend": true,
         "type": "scatter",
         "x": [
          2024,
          2024,
          2025
         ],
         "xaxis": "x",
         "y": [
          105,
          140,
          580
         ],
         "yaxis": "y"
        },
        {
         "hovertemplate": "City=Hamilton<br>Year=%{x}<br>Green Space Area=%{y}<extra></extra>",
         "legendgroup": "Hamilton",
         "line": {
          "color": "#636efa",
          "dash": "solid"
         },
         "marker": {
          "symbol": "circle"
         },
         "mode": "lines",
         "name": "Hamilton",
         "orientation": "v",
         "showlegend": true,
         "type": "scatter",
         "x": [
          2024,
          2025
         ],
         "xaxis": "x",
         "y": [
          110,
          555
         ],
         "yaxis": "y"
        },
        {
         "hovertemplate": "City=Tauranga<br>Year=%{x}<br>Green Space Area=%{y}<extra></extra>",
         "legendgroup": "Tauranga",
         "line": {
          "color": "#EF553B",
          "dash": "solid"
         },
         "marker": {
          "symbol": "circle"
         },
         "mode": "lines",
         "name": "Tauranga",
         "orientation": "v",
         "showlegend": true,
         "type": "scatter",
         "x": [
          2024,
          2025
         ],
         "xaxis": "x",
         "y": [
          115,
          560
         ],
         "yaxis": "y"
        },
        {
         "hovertemplate": "City=Rotorua<br>Year=%{x}<br>Green Space Area=%{y}<extra></extra>",
         "legendgroup": "Rotorua",
         "line": {
          "color": "#00cc96",
          "dash": "solid"
         },
         "marker": {
          "symbol": "circle"
         },
         "mode": "lines",
         "name": "Rotorua",
         "orientation": "v",
         "showlegend": true,
         "type": "scatter",
         "x": [
          2024,
          2025
         ],
         "xaxis": "x",
         "y": [
          120,
          565
         ],
         "yaxis": "y"
        },
        {
         "hovertemplate": "City=Palmerston North<br>Year=%{x}<br>Green Space Area=%{y}<extra></extra>",
         "legendgroup": "Palmerston North",
         "line": {
          "color": "#ab63fa",
          "dash": "solid"
         },
         "marker": {
          "symbol": "circle"
         },
         "mode": "lines",
         "name": "Palmerston North",
         "orientation": "v",
         "showlegend": true,
         "type": "scatter",
         "x": [
          2024,
          2025
         ],
         "xaxis": "x",
         "y": [
          125,
          590
         ],
         "yaxis": "y"
        },
        {
         "hovertemplate": "City=New Plymouth<br>Year=%{x}<br>Green Space Area=%{y}<extra></extra>",
         "legendgroup": "New Plymouth",
         "line": {
          "color": "#FFA15A",
          "dash": "solid"
         },
         "marker": {
          "symbol": "circle"
         },
         "mode": "lines",
         "name": "New Plymouth",
         "orientation": "v",
         "showlegend": true,
         "type": "scatter",
         "x": [
          2024
         ],
         "xaxis": "x",
         "y": [
          130
         ],
         "yaxis": "y"
        },
        {
         "hovertemplate": "City=Lower Hutt<br>Year=%{x}<br>Green Space Area=%{y}<extra></extra>",
         "legendgroup": "Lower Hutt",
         "line": {
          "color": "#19d3f3",
          "dash": "solid"
         },
         "marker": {
          "symbol": "circle"
         },
         "mode": "lines",
         "name": "Lower Hutt",
         "orientation": "v",
         "showlegend": true,
         "type": "scatter",
         "x": [
          2024
         ],
         "xaxis": "x",
         "y": [
          135
         ],
         "yaxis": "y"
        },
        {
         "hovertemplate": "City=Gisborne<br>Year=%{x}<br>Green Space Area=%{y}<extra></extra>",
         "legendgroup": "Gisborne",
         "line": {
          "color": "#FF6692",
          "dash": "solid"
         },
         "marker": {
          "symbol": "circle"
         },
         "mode": "lines",
         "name": "Gisborne",
         "orientation": "v",
         "showlegend": true,
         "type": "scatter",
         "x": [
          2024,
          2025
         ],
         "xaxis": "x",
         "y": [
          145,
          575
         ],
         "yaxis": "y"
        },
        {
         "hovertemplate": "City=Kawerau<br>Year=%{x}<br>Green Space Area=%{y}<extra></extra>",
         "legendgroup": "Kawerau",
         "line": {
          "color": "#B6E880",
          "dash": "solid"
         },
         "marker": {
          "symbol": "circle"
         },
         "mode": "lines",
         "name": "Kawerau",
         "orientation": "v",
         "showlegend": true,
         "type": "scatter",
         "x": [
          2024
         ],
         "xaxis": "x",
         "y": [
          150
         ],
         "yaxis": "y"
        },
        {
         "hovertemplate": "City=Putaruru<br>Year=%{x}<br>Green Space Area=%{y}<extra></extra>",
         "legendgroup": "Putaruru",
         "line": {
          "color": "#FF97FF",
          "dash": "solid"
         },
         "marker": {
          "symbol": "circle"
         },
         "mode": "lines",
         "name": "Putaruru",
         "orientation": "v",
         "showlegend": true,
         "type": "scatter",
         "x": [
          2024
         ],
         "xaxis": "x",
         "y": [
          155
         ],
         "yaxis": "y"
        },
        {
         "hovertemplate": "City=Taupo<br>Year=%{x}<br>Green Space Area=%{y}<extra></extra>",
         "legendgroup": "Taupo",
         "line": {
          "color": "#FECB52",
          "dash": "solid"
         },
         "marker": {
          "symbol": "circle"
         },
         "mode": "lines",
         "name": "Taupo",
         "orientation": "v",
         "showlegend": true,
         "type": "scatter",
         "x": [
          2024
         ],
         "xaxis": "x",
         "y": [
          160
         ],
         "yaxis": "y"
        },
        {
         "hovertemplate": "City=Tokoroa<br>Year=%{x}<br>Green Space Area=%{y}<extra></extra>",
         "legendgroup": "Tokoroa",
         "line": {
          "color": "#636efa",
          "dash": "solid"
         },
         "marker": {
          "symbol": "circle"
         },
         "mode": "lines",
         "name": "Tokoroa",
         "orientation": "v",
         "showlegend": true,
         "type": "scatter",
         "x": [
          2024
         ],
         "xaxis": "x",
         "y": [
          165
         ],
         "yaxis": "y"
        },
        {
         "hovertemplate": "City=Te Kuiti<br>Year=%{x}<br>Green Space Area=%{y}<extra></extra>",
         "legendgroup": "Te Kuiti",
         "line": {
          "color": "#EF553B",
          "dash": "solid"
         },
         "marker": {
          "symbol": "circle"
         },
         "mode": "lines",
         "name": "Te Kuiti",
         "orientation": "v",
         "showlegend": true,
         "type": "scatter",
         "x": [
          2024
         ],
         "xaxis": "x",
         "y": [
          170
         ],
         "yaxis": "y"
        },
        {
         "hovertemplate": "City=Otorohanga<br>Year=%{x}<br>Green Space Area=%{y}<extra></extra>",
         "legendgroup": "Otorohanga",
         "line": {
          "color": "#00cc96",
          "dash": "solid"
         },
         "marker": {
          "symbol": "circle"
         },
         "mode": "lines",
         "name": "Otorohanga",
         "orientation": "v",
         "showlegend": true,
         "type": "scatter",
         "x": [
          2024
         ],
         "xaxis": "x",
         "y": [
          175
         ],
         "yaxis": "y"
        },
        {
         "hovertemplate": "City=Te Awamutu<br>Year=%{x}<br>Green Space Area=%{y}<extra></extra>",
         "legendgroup": "Te Awamutu",
         "line": {
          "color": "#ab63fa",
          "dash": "solid"
         },
         "marker": {
          "symbol": "circle"
         },
         "mode": "lines",
         "name": "Te Awamutu",
         "orientation": "v",
         "showlegend": true,
         "type": "scatter",
         "x": [
          2024
         ],
         "xaxis": "x",
         "y": [
          180
         ],
         "yaxis": "y"
        },
        {
         "hovertemplate": "City=Cambridge<br>Year=%{x}<br>Green Space Area=%{y}<extra></extra>",
         "legendgroup": "Cambridge",
         "line": {
          "color": "#FFA15A",
          "dash": "solid"
         },
         "marker": {
          "symbol": "circle"
         },
         "mode": "lines",
         "name": "Cambridge",
         "orientation": "v",
         "showlegend": true,
         "type": "scatter",
         "x": [
          2024
         ],
         "xaxis": "x",
         "y": [
          185
         ],
         "yaxis": "y"
        },
        {
         "hovertemplate": "City=Matamata<br>Year=%{x}<br>Green Space Area=%{y}<extra></extra>",
         "legendgroup": "Matamata",
         "line": {
          "color": "#19d3f3",
          "dash": "solid"
         },
         "marker": {
          "symbol": "circle"
         },
         "mode": "lines",
         "name": "Matamata",
         "orientation": "v",
         "showlegend": true,
         "type": "scatter",
         "x": [
          2024
         ],
         "xaxis": "x",
         "y": [
          190
         ],
         "yaxis": "y"
        },
        {
         "hovertemplate": "City=Te Aroha<br>Year=%{x}<br>Green Space Area=%{y}<extra></extra>",
         "legendgroup": "Te Aroha",
         "line": {
          "color": "#FF6692",
          "dash": "solid"
         },
         "marker": {
          "symbol": "circle"
         },
         "mode": "lines",
         "name": "Te Aroha",
         "orientation": "v",
         "showlegend": true,
         "type": "scatter",
         "x": [
          2024
         ],
         "xaxis": "x",
         "y": [
          195
         ],
         "yaxis": "y"
        },
        {
         "hovertemplate": "City=Paeroa<br>Year=%{x}<br>Green Space Area=%{y}<extra></extra>",
         "legendgroup": "Paeroa",
         "line": {
          "color": "#B6E880",
          "dash": "solid"
         },
         "marker": {
          "symbol": "circle"
         },
         "mode": "lines",
         "name": "Paeroa",
         "orientation": "v",
         "showlegend": true,
         "type": "scatter",
         "x": [
          2024
         ],
         "xaxis": "x",
         "y": [
          200
         ],
         "yaxis": "y"
        },
        {
         "hovertemplate": "City=Waihi<br>Year=%{x}<br>Green Space Area=%{y}<extra></extra>",
         "legendgroup": "Waihi",
         "line": {
          "color": "#FF97FF",
          "dash": "solid"
         },
         "marker": {
          "symbol": "circle"
         },
         "mode": "lines",
         "name": "Waihi",
         "orientation": "v",
         "showlegend": true,
         "type": "scatter",
         "x": [
          2024
         ],
         "xaxis": "x",
         "y": [
          205
         ],
         "yaxis": "y"
        },
        {
         "hovertemplate": "City=Whangamata<br>Year=%{x}<br>Green Space Area=%{y}<extra></extra>",
         "legendgroup": "Whangamata",
         "line": {
          "color": "#FECB52",
          "dash": "solid"
         },
         "marker": {
          "symbol": "circle"
         },
         "mode": "lines",
         "name": "Whangamata",
         "orientation": "v",
         "showlegend": true,
         "type": "scatter",
         "x": [
          2024
         ],
         "xaxis": "x",
         "y": [
          210
         ],
         "yaxis": "y"
        },
        {
         "hovertemplate": "City=Tairua<br>Year=%{x}<br>Green Space Area=%{y}<extra></extra>",
         "legendgroup": "Tairua",
         "line": {
          "color": "#636efa",
          "dash": "solid"
         },
         "marker": {
          "symbol": "circle"
         },
         "mode": "lines",
         "name": "Tairua",
         "orientation": "v",
         "showlegend": true,
         "type": "scatter",
         "x": [
          2024
         ],
         "xaxis": "x",
         "y": [
          215
         ],
         "yaxis": "y"
        },
        {
         "hovertemplate": "City=Whitianga<br>Year=%{x}<br>Green Space Area=%{y}<extra></extra>",
         "legendgroup": "Whitianga",
         "line": {
          "color": "#EF553B",
          "dash": "solid"
         },
         "marker": {
          "symbol": "circle"
         },
         "mode": "lines",
         "name": "Whitianga",
         "orientation": "v",
         "showlegend": true,
         "type": "scatter",
         "x": [
          2024
         ],
         "xaxis": "x",
         "y": [
          220
         ],
         "yaxis": "y"
        },
        {
         "hovertemplate": "City=Coromandel<br>Year=%{x}<br>Green Space Area=%{y}<extra></extra>",
         "legendgroup": "Coromandel",
         "line": {
          "color": "#00cc96",
          "dash": "solid"
         },
         "marker": {
          "symbol": "circle"
         },
         "mode": "lines",
         "name": "Coromandel",
         "orientation": "v",
         "showlegend": true,
         "type": "scatter",
         "x": [
          2024
         ],
         "xaxis": "x",
         "y": [
          225
         ],
         "yaxis": "y"
        },
        {
         "hovertemplate": "City=Whangaparaoa<br>Year=%{x}<br>Green Space Area=%{y}<extra></extra>",
         "legendgroup": "Whangaparaoa",
         "line": {
          "color": "#ab63fa",
          "dash": "solid"
         },
         "marker": {
          "symbol": "circle"
         },
         "mode": "lines",
         "name": "Whangaparaoa",
         "orientation": "v",
         "showlegend": true,
         "type": "scatter",
         "x": [
          2024
         ],
         "xaxis": "x",
         "y": [
          230
         ],
         "yaxis": "y"
        },
        {
         "hovertemplate": "City=Orewa<br>Year=%{x}<br>Green Space Area=%{y}<extra></extra>",
         "legendgroup": "Orewa",
         "line": {
          "color": "#FFA15A",
          "dash": "solid"
         },
         "marker": {
          "symbol": "circle"
         },
         "mode": "lines",
         "name": "Orewa",
         "orientation": "v",
         "showlegend": true,
         "type": "scatter",
         "x": [
          2024,
          2025
         ],
         "xaxis": "x",
         "y": [
          235,
          545
         ],
         "yaxis": "y"
        },
        {
         "hovertemplate": "City=Warkworth<br>Year=%{x}<br>Green Space Area=%{y}<extra></extra>",
         "legendgroup": "Warkworth",
         "line": {
          "color": "#19d3f3",
          "dash": "solid"
         },
         "marker": {
          "symbol": "circle"
         },
         "mode": "lines",
         "name": "Warkworth",
         "orientation": "v",
         "showlegend": true,
         "type": "scatter",
         "x": [
          2024,
          2025
         ],
         "xaxis": "x",
         "y": [
          240,
          540
         ],
         "yaxis": "y"
        },
        {
         "hovertemplate": "City=Matakana<br>Year=%{x}<br>Green Space Area=%{y}<extra></extra>",
         "legendgroup": "Matakana",
         "line": {
          "color": "#FF6692",
          "dash": "solid"
         },
         "marker": {
          "symbol": "circle"
         },
         "mode": "lines",
         "name": "Matakana",
         "orientation": "v",
         "showlegend": true,
         "type": "scatter",
         "x": [
          2024
         ],
         "xaxis": "x",
         "y": [
          245
         ],
         "yaxis": "y"
        },
        {
         "hovertemplate": "City=Leigh<br>Year=%{x}<br>Green Space Area=%{y}<extra></extra>",
         "legendgroup": "Leigh",
         "line": {
          "color": "#B6E880",
          "dash": "solid"
         },
         "marker": {
          "symbol": "circle"
         },
         "mode": "lines",
         "name": "Leigh",
         "orientation": "v",
         "showlegend": true,
         "type": "scatter",
         "x": [
          2024
         ],
         "xaxis": "x",
         "y": [
          250
         ],
         "yaxis": "y"
        },
        {
         "hovertemplate": "City=Wellsford<br>Year=%{x}<br>Green Space Area=%{y}<extra></extra>",
         "legendgroup": "Wellsford",
         "line": {
          "color": "#FF97FF",
          "dash": "solid"
         },
         "marker": {
          "symbol": "circle"
         },
         "mode": "lines",
         "name": "Wellsford",
         "orientation": "v",
         "showlegend": true,
         "type": "scatter",
         "x": [
          2024,
          2025
         ],
         "xaxis": "x",
         "y": [
          255,
          535
         ],
         "yaxis": "y"
        },
        {
         "hovertemplate": "City=Mangawhai<br>Year=%{x}<br>Green Space Area=%{y}<extra></extra>",
         "legendgroup": "Mangawhai",
         "line": {
          "color": "#FECB52",
          "dash": "solid"
         },
         "marker": {
          "symbol": "circle"
         },
         "mode": "lines",
         "name": "Mangawhai",
         "orientation": "v",
         "showlegend": true,
         "type": "scatter",
         "x": [
          2024,
          2025
         ],
         "xaxis": "x",
         "y": [
          260,
          530
         ],
         "yaxis": "y"
        },
        {
         "hovertemplate": "City=Te Hana<br>Year=%{x}<br>Green Space Area=%{y}<extra></extra>",
         "legendgroup": "Te Hana",
         "line": {
          "color": "#636efa",
          "dash": "solid"
         },
         "marker": {
          "symbol": "circle"
         },
         "mode": "lines",
         "name": "Te Hana",
         "orientation": "v",
         "showlegend": true,
         "type": "scatter",
         "x": [
          2024
         ],
         "xaxis": "x",
         "y": [
          265
         ],
         "yaxis": "y"
        },
        {
         "hovertemplate": "City=Waipu<br>Year=%{x}<br>Green Space Area=%{y}<extra></extra>",
         "legendgroup": "Waipu",
         "line": {
          "color": "#EF553B",
          "dash": "solid"
         },
         "marker": {
          "symbol": "circle"
         },
         "mode": "lines",
         "name": "Waipu",
         "orientation": "v",
         "showlegend": true,
         "type": "scatter",
         "x": [
          2024,
          2025
         ],
         "xaxis": "x",
         "y": [
          270,
          520
         ],
         "yaxis": "y"
        },
        {
         "hovertemplate": "City=Ruakaka<br>Year=%{x}<br>Green Space Area=%{y}<extra></extra>",
         "legendgroup": "Ruakaka",
         "line": {
          "color": "#00cc96",
          "dash": "solid"
         },
         "marker": {
          "symbol": "circle"
         },
         "mode": "lines",
         "name": "Ruakaka",
         "orientation": "v",
         "showlegend": true,
         "type": "scatter",
         "x": [
          2024,
          2025
         ],
         "xaxis": "x",
         "y": [
          275,
          515
         ],
         "yaxis": "y"
        },
        {
         "hovertemplate": "City=Whangarei<br>Year=%{x}<br>Green Space Area=%{y}<extra></extra>",
         "legendgroup": "Whangarei",
         "line": {
          "color": "#ab63fa",
          "dash": "solid"
         },
         "marker": {
          "symbol": "circle"
         },
         "mode": "lines",
         "name": "Whangarei",
         "orientation": "v",
         "showlegend": true,
         "type": "scatter",
         "x": [
          2024
         ],
         "xaxis": "x",
         "y": [
          280
         ],
         "yaxis": "y"
        },
        {
         "hovertemplate": "City=Dargaville<br>Year=%{x}<br>Green Space Area=%{y}<extra></extra>",
         "legendgroup": "Dargaville",
         "line": {
          "color": "#FFA15A",
          "dash": "solid"
         },
         "marker": {
          "symbol": "circle"
         },
         "mode": "lines",
         "name": "Dargaville",
         "orientation": "v",
         "showlegend": true,
         "type": "scatter",
         "x": [
          2024
         ],
         "xaxis": "x",
         "y": [
          285
         ],
         "yaxis": "y"
        },
        {
         "hovertemplate": "City=Kaitaia<br>Year=%{x}<br>Green Space Area=%{y}<extra></extra>",
         "legendgroup": "Kaitaia",
         "line": {
          "color": "#19d3f3",
          "dash": "solid"
         },
         "marker": {
          "symbol": "circle"
         },
         "mode": "lines",
         "name": "Kaitaia",
         "orientation": "v",
         "showlegend": true,
         "type": "scatter",
         "x": [
          2025
         ],
         "xaxis": "x",
         "y": [
          290
         ],
         "yaxis": "y"
        },
        {
         "hovertemplate": "City=Kaikohe<br>Year=%{x}<br>Green Space Area=%{y}<extra></extra>",
         "legendgroup": "Kaikohe",
         "line": {
          "color": "#FF6692",
          "dash": "solid"
         },
         "marker": {
          "symbol": "circle"
         },
         "mode": "lines",
         "name": "Kaikohe",
         "orientation": "v",
         "showlegend": true,
         "type": "scatter",
         "x": [
          2025
         ],
         "xaxis": "x",
         "y": [
          295
         ],
         "yaxis": "y"
        },
        {
         "hovertemplate": "City=Kerikeri<br>Year=%{x}<br>Green Space Area=%{y}<extra></extra>",
         "legendgroup": "Kerikeri",
         "line": {
          "color": "#B6E880",
          "dash": "solid"
         },
         "marker": {
          "symbol": "circle"
         },
         "mode": "lines",
         "name": "Kerikeri",
         "orientation": "v",
         "showlegend": true,
         "type": "scatter",
         "x": [
          2025
         ],
         "xaxis": "x",
         "y": [
          300
         ],
         "yaxis": "y"
        },
        {
         "hovertemplate": "City=Paihia<br>Year=%{x}<br>Green Space Area=%{y}<extra></extra>",
         "legendgroup": "Paihia",
         "line": {
          "color": "#FF97FF",
          "dash": "solid"
         },
         "marker": {
          "symbol": "circle"
         },
         "mode": "lines",
         "name": "Paihia",
         "orientation": "v",
         "showlegend": true,
         "type": "scatter",
         "x": [
          2025
         ],
         "xaxis": "x",
         "y": [
          305
         ],
         "yaxis": "y"
        },
        {
         "hovertemplate": "City=Russell<br>Year=%{x}<br>Green Space Area=%{y}<extra></extra>",
         "legendgroup": "Russell",
         "line": {
          "color": "#FECB52",
          "dash": "solid"
         },
         "marker": {
          "symbol": "circle"
         },
         "mode": "lines",
         "name": "Russell",
         "orientation": "v",
         "showlegend": true,
         "type": "scatter",
         "x": [
          2025
         ],
         "xaxis": "x",
         "y": [
          310
         ],
         "yaxis": "y"
        },
        {
         "hovertemplate": "City=Opua<br>Year=%{x}<br>Green Space Area=%{y}<extra></extra>",
         "legendgroup": "Opua",
         "line": {
          "color": "#636efa",
          "dash": "solid"
         },
         "marker": {
          "symbol": "circle"
         },
         "mode": "lines",
         "name": "Opua",
         "orientation": "v",
         "showlegend": true,
         "type": "scatter",
         "x": [
          2025
         ],
         "xaxis": "x",
         "y": [
          315
         ],
         "yaxis": "y"
        },
        {
         "hovertemplate": "City=Kohukohu<br>Year=%{x}<br>Green Space Area=%{y}<extra></extra>",
         "legendgroup": "Kohukohu",
         "line": {
          "color": "#EF553B",
          "dash": "solid"
         },
         "marker": {
          "symbol": "circle"
         },
         "mode": "lines",
         "name": "Kohukohu",
         "orientation": "v",
         "showlegend": true,
         "type": "scatter",
         "x": [
          2025
         ],
         "xaxis": "x",
         "y": [
          320
         ],
         "yaxis": "y"
        },
        {
         "hovertemplate": "City=Horeke<br>Year=%{x}<br>Green Space Area=%{y}<extra></extra>",
         "legendgroup": "Horeke",
         "line": {
          "color": "#00cc96",
          "dash": "solid"
         },
         "marker": {
          "symbol": "circle"
         },
         "mode": "lines",
         "name": "Horeke",
         "orientation": "v",
         "showlegend": true,
         "type": "scatter",
         "x": [
          2025
         ],
         "xaxis": "x",
         "y": [
          325
         ],
         "yaxis": "y"
        },
        {
         "hovertemplate": "City=Rawene<br>Year=%{x}<br>Green Space Area=%{y}<extra></extra>",
         "legendgroup": "Rawene",
         "line": {
          "color": "#ab63fa",
          "dash": "solid"
         },
         "marker": {
          "symbol": "circle"
         },
         "mode": "lines",
         "name": "Rawene",
         "orientation": "v",
         "showlegend": true,
         "type": "scatter",
         "x": [
          2025
         ],
         "xaxis": "x",
         "y": [
          330
         ],
         "yaxis": "y"
        },
        {
         "hovertemplate": "City=Omapere<br>Year=%{x}<br>Green Space Area=%{y}<extra></extra>",
         "legendgroup": "Omapere",
         "line": {
          "color": "#FFA15A",
          "dash": "solid"
         },
         "marker": {
          "symbol": "circle"
         },
         "mode": "lines",
         "name": "Omapere",
         "orientation": "v",
         "showlegend": true,
         "type": "scatter",
         "x": [
          2025
         ],
         "xaxis": "x",
         "y": [
          335
         ],
         "yaxis": "y"
        },
        {
         "hovertemplate": "City=Opononi<br>Year=%{x}<br>Green Space Area=%{y}<extra></extra>",
         "legendgroup": "Opononi",
         "line": {
          "color": "#19d3f3",
          "dash": "solid"
         },
         "marker": {
          "symbol": "circle"
         },
         "mode": "lines",
         "name": "Opononi",
         "orientation": "v",
         "showlegend": true,
         "type": "scatter",
         "x": [
          2025
         ],
         "xaxis": "x",
         "y": [
          340
         ],
         "yaxis": "y"
        },
        {
         "hovertemplate": "City=Waimamaku<br>Year=%{x}<br>Green Space Area=%{y}<extra></extra>",
         "legendgroup": "Waimamaku",
         "line": {
          "color": "#FF6692",
          "dash": "solid"
         },
         "marker": {
          "symbol": "circle"
         },
         "mode": "lines",
         "name": "Waimamaku",
         "orientation": "v",
         "showlegend": true,
         "type": "scatter",
         "x": [
          2025
         ],
         "xaxis": "x",
         "y": [
          345
         ],
         "yaxis": "y"
        },
        {
         "hovertemplate": "City=Waipoua<br>Year=%{x}<br>Green Space Area=%{y}<extra></extra>",
         "legendgroup": "Waipoua",
         "line": {
          "color": "#B6E880",
          "dash": "solid"
         },
         "marker": {
          "symbol": "circle"
         },
         "mode": "lines",
         "name": "Waipoua",
         "orientation": "v",
         "showlegend": true,
         "type": "scatter",
         "x": [
          2025
         ],
         "xaxis": "x",
         "y": [
          350
         ],
         "yaxis": "y"
        },
        {
         "hovertemplate": "City=Aranga<br>Year=%{x}<br>Green Space Area=%{y}<extra></extra>",
         "legendgroup": "Aranga",
         "line": {
          "color": "#FF97FF",
          "dash": "solid"
         },
         "marker": {
          "symbol": "circle"
         },
         "mode": "lines",
         "name": "Aranga",
         "orientation": "v",
         "showlegend": true,
         "type": "scatter",
         "x": [
          2025
         ],
         "xaxis": "x",
         "y": [
          355
         ],
         "yaxis": "y"
        },
        {
         "hovertemplate": "City=Matapouri<br>Year=%{x}<br>Green Space Area=%{y}<extra></extra>",
         "legendgroup": "Matapouri",
         "line": {
          "color": "#FECB52",
          "dash": "solid"
         },
         "marker": {
          "symbol": "circle"
         },
         "mode": "lines",
         "name": "Matapouri",
         "orientation": "v",
         "showlegend": true,
         "type": "scatter",
         "x": [
          2025
         ],
         "xaxis": "x",
         "y": [
          360
         ],
         "yaxis": "y"
        },
        {
         "hovertemplate": "City=Tutukaka<br>Year=%{x}<br>Green Space Area=%{y}<extra></extra>",
         "legendgroup": "Tutukaka",
         "line": {
          "color": "#636efa",
          "dash": "solid"
         },
         "marker": {
          "symbol": "circle"
         },
         "mode": "lines",
         "name": "Tutukaka",
         "orientation": "v",
         "showlegend": true,
         "type": "scatter",
         "x": [
          2025
         ],
         "xaxis": "x",
         "y": [
          365
         ],
         "yaxis": "y"
        },
        {
         "hovertemplate": "City=Whananaki<br>Year=%{x}<br>Green Space Area=%{y}<extra></extra>",
         "legendgroup": "Whananaki",
         "line": {
          "color": "#EF553B",
          "dash": "solid"
         },
         "marker": {
          "symbol": "circle"
         },
         "mode": "lines",
         "name": "Whananaki",
         "orientation": "v",
         "showlegend": true,
         "type": "scatter",
         "x": [
          2025
         ],
         "xaxis": "x",
         "y": [
          370
         ],
         "yaxis": "y"
        },
        {
         "hovertemplate": "City=Whangaruru<br>Year=%{x}<br>Green Space Area=%{y}<extra></extra>",
         "legendgroup": "Whangaruru",
         "line": {
          "color": "#00cc96",
          "dash": "solid"
         },
         "marker": {
          "symbol": "circle"
         },
         "mode": "lines",
         "name": "Whangaruru",
         "orientation": "v",
         "showlegend": true,
         "type": "scatter",
         "x": [
          2025
         ],
         "xaxis": "x",
         "y": [
          375
         ],
         "yaxis": "y"
        },
        {
         "hovertemplate": "City=Taipa<br>Year=%{x}<br>Green Space Area=%{y}<extra></extra>",
         "legendgroup": "Taipa",
         "line": {
          "color": "#ab63fa",
          "dash": "solid"
         },
         "marker": {
          "symbol": "circle"
         },
         "mode": "lines",
         "name": "Taipa",
         "orientation": "v",
         "showlegend": true,
         "type": "scatter",
         "x": [
          2025
         ],
         "xaxis": "x",
         "y": [
          380
         ],
         "yaxis": "y"
        },
        {
         "hovertemplate": "City=Mangonui<br>Year=%{x}<br>Green Space Area=%{y}<extra></extra>",
         "legendgroup": "Mangonui",
         "line": {
          "color": "#FFA15A",
          "dash": "solid"
         },
         "marker": {
          "symbol": "circle"
         },
         "mode": "lines",
         "name": "Mangonui",
         "orientation": "v",
         "showlegend": true,
         "type": "scatter",
         "x": [
          2025
         ],
         "xaxis": "x",
         "y": [
          385
         ],
         "yaxis": "y"
        },
        {
         "hovertemplate": "City=Coopers Beach<br>Year=%{x}<br>Green Space Area=%{y}<extra></extra>",
         "legendgroup": "Coopers Beach",
         "line": {
          "color": "#19d3f3",
          "dash": "solid"
         },
         "marker": {
          "symbol": "circle"
         },
         "mode": "lines",
         "name": "Coopers Beach",
         "orientation": "v",
         "showlegend": true,
         "type": "scatter",
         "x": [
          2025
         ],
         "xaxis": "x",
         "y": [
          390
         ],
         "yaxis": "y"
        },
        {
         "hovertemplate": "City=Cable Bay<br>Year=%{x}<br>Green Space Area=%{y}<extra></extra>",
         "legendgroup": "Cable Bay",
         "line": {
          "color": "#FF6692",
          "dash": "solid"
         },
         "marker": {
          "symbol": "circle"
         },
         "mode": "lines",
         "name": "Cable Bay",
         "orientation": "v",
         "showlegend": true,
         "type": "scatter",
         "x": [
          2025
         ],
         "xaxis": "x",
         "y": [
          395
         ],
         "yaxis": "y"
        },
        {
         "hovertemplate": "City=Rarawa<br>Year=%{x}<br>Green Space Area=%{y}<extra></extra>",
         "legendgroup": "Rarawa",
         "line": {
          "color": "#B6E880",
          "dash": "solid"
         },
         "marker": {
          "symbol": "circle"
         },
         "mode": "lines",
         "name": "Rarawa",
         "orientation": "v",
         "showlegend": true,
         "type": "scatter",
         "x": [
          2025
         ],
         "xaxis": "x",
         "y": [
          400
         ],
         "yaxis": "y"
        },
        {
         "hovertemplate": "City=Pukenui<br>Year=%{x}<br>Green Space Area=%{y}<extra></extra>",
         "legendgroup": "Pukenui",
         "line": {
          "color": "#FF97FF",
          "dash": "solid"
         },
         "marker": {
          "symbol": "circle"
         },
         "mode": "lines",
         "name": "Pukenui",
         "orientation": "v",
         "showlegend": true,
         "type": "scatter",
         "x": [
          2025
         ],
         "xaxis": "x",
         "y": [
          405
         ],
         "yaxis": "y"
        },
        {
         "hovertemplate": "City=Awanui<br>Year=%{x}<br>Green Space Area=%{y}<extra></extra>",
         "legendgroup": "Awanui",
         "line": {
          "color": "#FECB52",
          "dash": "solid"
         },
         "marker": {
          "symbol": "circle"
         },
         "mode": "lines",
         "name": "Awanui",
         "orientation": "v",
         "showlegend": true,
         "type": "scatter",
         "x": [
          2025
         ],
         "xaxis": "x",
         "y": [
          410
         ],
         "yaxis": "y"
        },
        {
         "hovertemplate": "City=Herekino<br>Year=%{x}<br>Green Space Area=%{y}<extra></extra>",
         "legendgroup": "Herekino",
         "line": {
          "color": "#636efa",
          "dash": "solid"
         },
         "marker": {
          "symbol": "circle"
         },
         "mode": "lines",
         "name": "Herekino",
         "orientation": "v",
         "showlegend": true,
         "type": "scatter",
         "x": [
          2025
         ],
         "xaxis": "x",
         "y": [
          415
         ],
         "yaxis": "y"
        },
        {
         "hovertemplate": "City=Punguru<br>Year=%{x}<br>Green Space Area=%{y}<extra></extra>",
         "legendgroup": "Punguru",
         "line": {
          "color": "#EF553B",
          "dash": "solid"
         },
         "marker": {
          "symbol": "circle"
         },
         "mode": "lines",
         "name": "Punguru",
         "orientation": "v",
         "showlegend": true,
         "type": "scatter",
         "x": [
          2025
         ],
         "xaxis": "x",
         "y": [
          420
         ],
         "yaxis": "y"
        },
        {
         "hovertemplate": "City=Okaihau<br>Year=%{x}<br>Green Space Area=%{y}<extra></extra>",
         "legendgroup": "Okaihau",
         "line": {
          "color": "#00cc96",
          "dash": "solid"
         },
         "marker": {
          "symbol": "circle"
         },
         "mode": "lines",
         "name": "Okaihau",
         "orientation": "v",
         "showlegend": true,
         "type": "scatter",
         "x": [
          2025
         ],
         "xaxis": "x",
         "y": [
          425
         ],
         "yaxis": "y"
        },
        {
         "hovertemplate": "City=Ohaeawai<br>Year=%{x}<br>Green Space Area=%{y}<extra></extra>",
         "legendgroup": "Ohaeawai",
         "line": {
          "color": "#ab63fa",
          "dash": "solid"
         },
         "marker": {
          "symbol": "circle"
         },
         "mode": "lines",
         "name": "Ohaeawai",
         "orientation": "v",
         "showlegend": true,
         "type": "scatter",
         "x": [
          2025
         ],
         "xaxis": "x",
         "y": [
          430
         ],
         "yaxis": "y"
        },
        {
         "hovertemplate": "City=Waimate North<br>Year=%{x}<br>Green Space Area=%{y}<extra></extra>",
         "legendgroup": "Waimate North",
         "line": {
          "color": "#FFA15A",
          "dash": "solid"
         },
         "marker": {
          "symbol": "circle"
         },
         "mode": "lines",
         "name": "Waimate North",
         "orientation": "v",
         "showlegend": true,
         "type": "scatter",
         "x": [
          2025
         ],
         "xaxis": "x",
         "y": [
          435
         ],
         "yaxis": "y"
        },
        {
         "hovertemplate": "City=Kawakawa<br>Year=%{x}<br>Green Space Area=%{y}<extra></extra>",
         "legendgroup": "Kawakawa",
         "line": {
          "color": "#19d3f3",
          "dash": "solid"
         },
         "marker": {
          "symbol": "circle"
         },
         "mode": "lines",
         "name": "Kawakawa",
         "orientation": "v",
         "showlegend": true,
         "type": "scatter",
         "x": [
          2025
         ],
         "xaxis": "x",
         "y": [
          440
         ],
         "yaxis": "y"
        },
        {
         "hovertemplate": "City=Moerewa<br>Year=%{x}<br>Green Space Area=%{y}<extra></extra>",
         "legendgroup": "Moerewa",
         "line": {
          "color": "#FF6692",
          "dash": "solid"
         },
         "marker": {
          "symbol": "circle"
         },
         "mode": "lines",
         "name": "Moerewa",
         "orientation": "v",
         "showlegend": true,
         "type": "scatter",
         "x": [
          2025
         ],
         "xaxis": "x",
         "y": [
          445
         ],
         "yaxis": "y"
        },
        {
         "hovertemplate": "City=Matawaia<br>Year=%{x}<br>Green Space Area=%{y}<extra></extra>",
         "legendgroup": "Matawaia",
         "line": {
          "color": "#B6E880",
          "dash": "solid"
         },
         "marker": {
          "symbol": "circle"
         },
         "mode": "lines",
         "name": "Matawaia",
         "orientation": "v",
         "showlegend": true,
         "type": "scatter",
         "x": [
          2025
         ],
         "xaxis": "x",
         "y": [
          450
         ],
         "yaxis": "y"
        },
        {
         "hovertemplate": "City=Maromaku<br>Year=%{x}<br>Green Space Area=%{y}<extra></extra>",
         "legendgroup": "Maromaku",
         "line": {
          "color": "#FF97FF",
          "dash": "solid"
         },
         "marker": {
          "symbol": "circle"
         },
         "mode": "lines",
         "name": "Maromaku",
         "orientation": "v",
         "showlegend": true,
         "type": "scatter",
         "x": [
          2025
         ],
         "xaxis": "x",
         "y": [
          455
         ],
         "yaxis": "y"
        },
        {
         "hovertemplate": "City=Puhipuhi<br>Year=%{x}<br>Green Space Area=%{y}<extra></extra>",
         "legendgroup": "Puhipuhi",
         "line": {
          "color": "#FECB52",
          "dash": "solid"
         },
         "marker": {
          "symbol": "circle"
         },
         "mode": "lines",
         "name": "Puhipuhi",
         "orientation": "v",
         "showlegend": true,
         "type": "scatter",
         "x": [
          2025
         ],
         "xaxis": "x",
         "y": [
          460
         ],
         "yaxis": "y"
        },
        {
         "hovertemplate": "City=Hikurangi<br>Year=%{x}<br>Green Space Area=%{y}<extra></extra>",
         "legendgroup": "Hikurangi",
         "line": {
          "color": "#636efa",
          "dash": "solid"
         },
         "marker": {
          "symbol": "circle"
         },
         "mode": "lines",
         "name": "Hikurangi",
         "orientation": "v",
         "showlegend": true,
         "type": "scatter",
         "x": [
          2025
         ],
         "xaxis": "x",
         "y": [
          465
         ],
         "yaxis": "y"
        },
        {
         "hovertemplate": "City=Glenbervie<br>Year=%{x}<br>Green Space Area=%{y}<extra></extra>",
         "legendgroup": "Glenbervie",
         "line": {
          "color": "#EF553B",
          "dash": "solid"
         },
         "marker": {
          "symbol": "circle"
         },
         "mode": "lines",
         "name": "Glenbervie",
         "orientation": "v",
         "showlegend": true,
         "type": "scatter",
         "x": [
          2025
         ],
         "xaxis": "x",
         "y": [
          470
         ],
         "yaxis": "y"
        },
        {
         "hovertemplate": "City=Ruatangata<br>Year=%{x}<br>Green Space Area=%{y}<extra></extra>",
         "legendgroup": "Ruatangata",
         "line": {
          "color": "#00cc96",
          "dash": "solid"
         },
         "marker": {
          "symbol": "circle"
         },
         "mode": "lines",
         "name": "Ruatangata",
         "orientation": "v",
         "showlegend": true,
         "type": "scatter",
         "x": [
          2025
         ],
         "xaxis": "x",
         "y": [
          475
         ],
         "yaxis": "y"
        },
        {
         "hovertemplate": "City=Maungatapere<br>Year=%{x}<br>Green Space Area=%{y}<extra></extra>",
         "legendgroup": "Maungatapere",
         "line": {
          "color": "#ab63fa",
          "dash": "solid"
         },
         "marker": {
          "symbol": "circle"
         },
         "mode": "lines",
         "name": "Maungatapere",
         "orientation": "v",
         "showlegend": true,
         "type": "scatter",
         "x": [
          2025
         ],
         "xaxis": "x",
         "y": [
          480
         ],
         "yaxis": "y"
        },
        {
         "hovertemplate": "City=Taurikura<br>Year=%{x}<br>Green Space Area=%{y}<extra></extra>",
         "legendgroup": "Taurikura",
         "line": {
          "color": "#FFA15A",
          "dash": "solid"
         },
         "marker": {
          "symbol": "circle"
         },
         "mode": "lines",
         "name": "Taurikura",
         "orientation": "v",
         "showlegend": true,
         "type": "scatter",
         "x": [
          2025
         ],
         "xaxis": "x",
         "y": [
          485
         ],
         "yaxis": "y"
        },
        {
         "hovertemplate": "City=Parua Bay<br>Year=%{x}<br>Green Space Area=%{y}<extra></extra>",
         "legendgroup": "Parua Bay",
         "line": {
          "color": "#19d3f3",
          "dash": "solid"
         },
         "marker": {
          "symbol": "circle"
         },
         "mode": "lines",
         "name": "Parua Bay",
         "orientation": "v",
         "showlegend": true,
         "type": "scatter",
         "x": [
          2025
         ],
         "xaxis": "x",
         "y": [
          490
         ],
         "yaxis": "y"
        },
        {
         "hovertemplate": "City=Pataua<br>Year=%{x}<br>Green Space Area=%{y}<extra></extra>",
         "legendgroup": "Pataua",
         "line": {
          "color": "#FF6692",
          "dash": "solid"
         },
         "marker": {
          "symbol": "circle"
         },
         "mode": "lines",
         "name": "Pataua",
         "orientation": "v",
         "showlegend": true,
         "type": "scatter",
         "x": [
          2025
         ],
         "xaxis": "x",
         "y": [
          495
         ],
         "yaxis": "y"
        },
        {
         "hovertemplate": "City=Whangarei Heads<br>Year=%{x}<br>Green Space Area=%{y}<extra></extra>",
         "legendgroup": "Whangarei Heads",
         "line": {
          "color": "#B6E880",
          "dash": "solid"
         },
         "marker": {
          "symbol": "circle"
         },
         "mode": "lines",
         "name": "Whangarei Heads",
         "orientation": "v",
         "showlegend": true,
         "type": "scatter",
         "x": [
          2025
         ],
         "xaxis": "x",
         "y": [
          500
         ],
         "yaxis": "y"
        },
        {
         "hovertemplate": "City=Marsden Point<br>Year=%{x}<br>Green Space Area=%{y}<extra></extra>",
         "legendgroup": "Marsden Point",
         "line": {
          "color": "#FF97FF",
          "dash": "solid"
         },
         "marker": {
          "symbol": "circle"
         },
         "mode": "lines",
         "name": "Marsden Point",
         "orientation": "v",
         "showlegend": true,
         "type": "scatter",
         "x": [
          2025
         ],
         "xaxis": "x",
         "y": [
          505
         ],
         "yaxis": "y"
        },
        {
         "hovertemplate": "City=One Tree Point<br>Year=%{x}<br>Green Space Area=%{y}<extra></extra>",
         "legendgroup": "One Tree Point",
         "line": {
          "color": "#FECB52",
          "dash": "solid"
         },
         "marker": {
          "symbol": "circle"
         },
         "mode": "lines",
         "name": "One Tree Point",
         "orientation": "v",
         "showlegend": true,
         "type": "scatter",
         "x": [
          2025
         ],
         "xaxis": "x",
         "y": [
          510
         ],
         "yaxis": "y"
        },
        {
         "hovertemplate": "City=Langs Beach<br>Year=%{x}<br>Green Space Area=%{y}<extra></extra>",
         "legendgroup": "Langs Beach",
         "line": {
          "color": "#636efa",
          "dash": "solid"
         },
         "marker": {
          "symbol": "circle"
         },
         "mode": "lines",
         "name": "Langs Beach",
         "orientation": "v",
         "showlegend": true,
         "type": "scatter",
         "x": [
          2025
         ],
         "xaxis": "x",
         "y": [
          525
         ],
         "yaxis": "y"
        },
        {
         "hovertemplate": "City=Whakatane<br>Year=%{x}<br>Green Space Area=%{y}<extra></extra>",
         "legendgroup": "Whakatane",
         "line": {
          "color": "#EF553B",
          "dash": "solid"
         },
         "marker": {
          "symbol": "circle"
         },
         "mode": "lines",
         "name": "Whakatane",
         "orientation": "v",
         "showlegend": true,
         "type": "scatter",
         "x": [
          2025
         ],
         "xaxis": "x",
         "y": [
          570
         ],
         "yaxis": "y"
        },
        {
         "hovertemplate": "City=Hastings<br>Year=%{x}<br>Green Space Area=%{y}<extra></extra>",
         "legendgroup": "Hastings",
         "line": {
          "color": "#00cc96",
          "dash": "solid"
         },
         "marker": {
          "symbol": "circle"
         },
         "mode": "lines",
         "name": "Hastings",
         "orientation": "v",
         "showlegend": true,
         "type": "scatter",
         "x": [
          2025
         ],
         "xaxis": "x",
         "y": [
          585
         ],
         "yaxis": "y"
        },
        {
         "hovertemplate": "City=Blenheim<br>Year=%{x}<br>Green Space Area=%{y}<extra></extra>",
         "legendgroup": "Blenheim",
         "line": {
          "color": "#ab63fa",
          "dash": "solid"
         },
         "marker": {
          "symbol": "circle"
         },
         "mode": "lines",
         "name": "Blenheim",
         "orientation": "v",
         "showlegend": true,
         "type": "scatter",
         "x": [
          2025,
          2025,
          2026,
          2027,
          2027,
          2028,
          2029,
          2029
         ],
         "xaxis": "x",
         "y": [
          605,
          805,
          1385,
          1585,
          1785,
          1985,
          2185,
          2385
         ],
         "yaxis": "y"
        },
        {
         "hovertemplate": "City=Kaikoura<br>Year=%{x}<br>Green Space Area=%{y}<extra></extra>",
         "legendgroup": "Kaikoura",
         "line": {
          "color": "#FFA15A",
          "dash": "solid"
         },
         "marker": {
          "symbol": "circle"
         },
         "mode": "lines",
         "name": "Kaikoura",
         "orientation": "v",
         "showlegend": true,
         "type": "scatter",
         "x": [
          2025,
          2026,
          2027,
          2027,
          2028,
          2029,
          2029
         ],
         "xaxis": "x",
         "y": [
          610,
          1380,
          1580,
          1780,
          1980,
          2180,
          2380
         ],
         "yaxis": "y"
        },
        {
         "hovertemplate": "City=Timaru<br>Year=%{x}<br>Green Space Area=%{y}<extra></extra>",
         "legendgroup": "Timaru",
         "line": {
          "color": "#19d3f3",
          "dash": "solid"
         },
         "marker": {
          "symbol": "circle"
         },
         "mode": "lines",
         "name": "Timaru",
         "orientation": "v",
         "showlegend": true,
         "type": "scatter",
         "x": [
          2025,
          2026,
          2026,
          2027,
          2027,
          2028,
          2029,
          2029
         ],
         "xaxis": "x",
         "y": [
          620,
          985,
          1300,
          1540,
          1740,
          1940,
          2140,
          2340
         ],
         "yaxis": "y"
        },
        {
         "hovertemplate": "City=Invercargill<br>Year=%{x}<br>Green Space Area=%{y}<extra></extra>",
         "legendgroup": "Invercargill",
         "line": {
          "color": "#FF6692",
          "dash": "solid"
         },
         "marker": {
          "symbol": "circle"
         },
         "mode": "lines",
         "name": "Invercargill",
         "orientation": "v",
         "showlegend": true,
         "type": "scatter",
         "x": [
          2025,
          2026,
          2026,
          2027,
          2027,
          2028,
          2028,
          2029
         ],
         "xaxis": "x",
         "y": [
          635,
          920,
          1250,
          1490,
          1690,
          1890,
          2090,
          2290
         ],
         "yaxis": "y"
        },
        {
         "hovertemplate": "City=Greymouth<br>Year=%{x}<br>Green Space Area=%{y}<extra></extra>",
         "legendgroup": "Greymouth",
         "line": {
          "color": "#B6E880",
          "dash": "solid"
         },
         "marker": {
          "symbol": "circle"
         },
         "mode": "lines",
         "name": "Greymouth",
         "orientation": "v",
         "showlegend": true,
         "type": "scatter",
         "x": [
          2025,
          2025,
          2025,
          2026,
          2026,
          2026,
          2026,
          2027,
          2027,
          2028,
          2028,
          2029,
          2029
         ],
         "xaxis": "x",
         "y": [
          640,
          765,
          845,
          1040,
          1125,
          1175,
          1315,
          1420,
          1620,
          1820,
          2020,
          2220,
          2420
         ],
         "yaxis": "y"
        },
        {
         "hovertemplate": "City=Hokitika<br>Year=%{x}<br>Green Space Area=%{y}<extra></extra>",
         "legendgroup": "Hokitika",
         "line": {
          "color": "#FF97FF",
          "dash": "solid"
         },
         "marker": {
          "symbol": "circle"
         },
         "mode": "lines",
         "name": "Hokitika",
         "orientation": "v",
         "showlegend": true,
         "type": "scatter",
         "x": [
          2025,
          2025,
          2025,
          2026,
          2026,
          2026,
          2027,
          2027,
          2028,
          2028,
          2029,
          2029
         ],
         "xaxis": "x",
         "y": [
          645,
          760,
          850,
          1045,
          1180,
          1320,
          1425,
          1625,
          1825,
          2025,
          2225,
          2425
         ],
         "yaxis": "y"
        },
        {
         "hovertemplate": "City=Westport<br>Year=%{x}<br>Green Space Area=%{y}<extra></extra>",
         "legendgroup": "Westport",
         "line": {
          "color": "#FECB52",
          "dash": "solid"
         },
         "marker": {
          "symbol": "circle"
         },
         "mode": "lines",
         "name": "Westport",
         "orientation": "v",
         "showlegend": true,
         "type": "scatter",
         "x": [
          2025,
          2025,
          2026,
          2026,
          2026,
          2026
         ],
         "xaxis": "x",
         "y": [
          650,
          775,
          1110,
          1120,
          1170,
          1330
         ],
         "yaxis": "y"
        },
        {
         "hovertemplate": "City=Motueka<br>Year=%{x}<br>Green Space Area=%{y}<extra></extra>",
         "legendgroup": "Motueka",
         "line": {
          "color": "#636efa",
          "dash": "solid"
         },
         "marker": {
          "symbol": "circle"
         },
         "mode": "lines",
         "name": "Motueka",
         "orientation": "v",
         "showlegend": true,
         "type": "scatter",
         "x": [
          2025,
          2025,
          2026
         ],
         "xaxis": "x",
         "y": [
          655,
          795,
          1145
         ],
         "yaxis": "y"
        },
        {
         "hovertemplate": "City=Takaka<br>Year=%{x}<br>Green Space Area=%{y}<extra></extra>",
         "legendgroup": "Takaka",
         "line": {
          "color": "#EF553B",
          "dash": "solid"
         },
         "marker": {
          "symbol": "circle"
         },
         "mode": "lines",
         "name": "Takaka",
         "orientation": "v",
         "showlegend": true,
         "type": "scatter",
         "x": [
          2025,
          2025,
          2026,
          2026
         ],
         "xaxis": "x",
         "y": [
          660,
          790,
          1150,
          1345
         ],
         "yaxis": "y"
        },
        {
         "hovertemplate": "City=Murchison<br>Year=%{x}<br>Green Space Area=%{y}<extra></extra>",
         "legendgroup": "Murchison",
         "line": {
          "color": "#00cc96",
          "dash": "solid"
         },
         "marker": {
          "symbol": "circle"
         },
         "mode": "lines",
         "name": "Murchison",
         "orientation": "v",
         "showlegend": true,
         "type": "scatter",
         "x": [
          2025,
          2025,
          2026,
          2026,
          2027,
          2027,
          2028,
          2028,
          2029,
          2029
         ],
         "xaxis": "x",
         "y": [
          665,
          830,
          1030,
          1135,
          1410,
          1610,
          1810,
          2010,
          2210,
          2410
         ],
         "yaxis": "y"
        },
        {
         "hovertemplate": "City=Hanmer Springs<br>Year=%{x}<br>Green Space Area=%{y}<extra></extra>",
         "legendgroup": "Hanmer Springs",
         "line": {
          "color": "#ab63fa",
          "dash": "solid"
         },
         "marker": {
          "symbol": "circle"
         },
         "mode": "lines",
         "name": "Hanmer Springs",
         "orientation": "v",
         "showlegend": true,
         "type": "scatter",
         "x": [
          2025,
          2026,
          2026,
          2027,
          2027,
          2028,
          2029,
          2029
         ],
         "xaxis": "x",
         "y": [
          670,
          1020,
          1375,
          1575,
          1775,
          1975,
          2175,
          2375
         ],
         "yaxis": "y"
        },
        {
         "hovertemplate": "City=Reefton<br>Year=%{x}<br>Green Space Area=%{y}<extra></extra>",
         "legendgroup": "Reefton",
         "line": {
          "color": "#FFA15A",
          "dash": "solid"
         },
         "marker": {
          "symbol": "circle"
         },
         "mode": "lines",
         "name": "Reefton",
         "orientation": "v",
         "showlegend": true,
         "type": "scatter",
         "x": [
          2025,
          2025,
          2026,
          2026,
          2027,
          2027,
          2028,
          2028,
          2029,
          2029
         ],
         "xaxis": "x",
         "y": [
          675,
          840,
          1035,
          1130,
          1415,
          1615,
          1815,
          2015,
          2215,
          2415
         ],
         "yaxis": "y"
        },
        {
         "hovertemplate": "City=Kumara<br>Year=%{x}<br>Green Space Area=%{y}<extra></extra>",
         "legendgroup": "Kumara",
         "line": {
          "color": "#19d3f3",
          "dash": "solid"
         },
         "marker": {
          "symbol": "circle"
         },
         "mode": "lines",
         "name": "Kumara",
         "orientation": "v",
         "showlegend": true,
         "type": "scatter",
         "x": [
          2025
         ],
         "xaxis": "x",
         "y": [
          680
         ],
         "yaxis": "y"
        },
        {
         "hovertemplate": "City=Arthur's Pass<br>Year=%{x}<br>Green Space Area=%{y}<extra></extra>",
         "legendgroup": "Arthur's Pass",
         "line": {
          "color": "#FF6692",
          "dash": "solid"
         },
         "marker": {
          "symbol": "circle"
         },
         "mode": "lines",
         "name": "Arthur's Pass",
         "orientation": "v",
         "showlegend": true,
         "type": "scatter",
         "x": [
          2025,
          2026
         ],
         "xaxis": "x",
         "y": [
          685,
          1310
         ],
         "yaxis": "y"
        },
        {
         "hovertemplate": "City=Twizel<br>Year=%{x}<br>Green Space Area=%{y}<extra></extra>",
         "legendgroup": "Twizel",
         "line": {
          "color": "#B6E880",
          "dash": "solid"
         },
         "marker": {
          "symbol": "circle"
         },
         "mode": "lines",
         "name": "Twizel",
         "orientation": "v",
         "showlegend": true,
         "type": "scatter",
         "x": [
          2025
         ],
         "xaxis": "x",
         "y": [
          690
         ],
         "yaxis": "y"
        },
        {
         "hovertemplate": "City=Tekapo<br>Year=%{x}<br>Green Space Area=%{y}<extra></extra>",
         "legendgroup": "Tekapo",
         "line": {
          "color": "#FF97FF",
          "dash": "solid"
         },
         "marker": {
          "symbol": "circle"
         },
         "mode": "lines",
         "name": "Tekapo",
         "orientation": "v",
         "showlegend": true,
         "type": "scatter",
         "x": [
          2025
         ],
         "xaxis": "x",
         "y": [
          695
         ],
         "yaxis": "y"
        },
        {
         "hovertemplate": "City=Cromwell<br>Year=%{x}<br>Green Space Area=%{y}<extra></extra>",
         "legendgroup": "Cromwell",
         "line": {
          "color": "#FECB52",
          "dash": "solid"
         },
         "marker": {
          "symbol": "circle"
         },
         "mode": "lines",
         "name": "Cromwell",
         "orientation": "v",
         "showlegend": true,
         "type": "scatter",
         "x": [
          2025,
          2026,
          2026,
          2027,
          2027,
          2028,
          2028,
          2029
         ],
         "xaxis": "x",
         "y": [
          700,
          1095,
          1210,
          1455,
          1655,
          1855,
          2055,
          2255
         ],
         "yaxis": "y"
        },
        {
         "hovertemplate": "City=Wanaka<br>Year=%{x}<br>Green Space Area=%{y}<extra></extra>",
         "legendgroup": "Wanaka",
         "line": {
          "color": "#636efa",
          "dash": "solid"
         },
         "marker": {
          "symbol": "circle"
         },
         "mode": "lines",
         "name": "Wanaka",
         "orientation": "v",
         "showlegend": true,
         "type": "scatter",
         "x": [
          2025,
          2026,
          2026,
          2026,
          2027,
          2027,
          2028,
          2028,
          2029
         ],
         "xaxis": "x",
         "y": [
          705,
          870,
          1100,
          1205,
          1450,
          1650,
          1850,
          2050,
          2250
         ],
         "yaxis": "y"
        },
        {
         "hovertemplate": "City=Arrowtown<br>Year=%{x}<br>Green Space Area=%{y}<extra></extra>",
         "legendgroup": "Arrowtown",
         "line": {
          "color": "#EF553B",
          "dash": "solid"
         },
         "marker": {
          "symbol": "circle"
         },
         "mode": "lines",
         "name": "Arrowtown",
         "orientation": "v",
         "showlegend": true,
         "type": "scatter",
         "x": [
          2025,
          2026
         ],
         "xaxis": "x",
         "y": [
          710,
          1220
         ],
         "yaxis": "y"
        },
        {
         "hovertemplate": "City=Glenorchy<br>Year=%{x}<br>Green Space Area=%{y}<extra></extra>",
         "legendgroup": "Glenorchy",
         "line": {
          "color": "#00cc96",
          "dash": "solid"
         },
         "marker": {
          "symbol": "circle"
         },
         "mode": "lines",
         "name": "Glenorchy",
         "orientation": "v",
         "showlegend": true,
         "type": "scatter",
         "x": [
          2025,
          2026,
          2026,
          2026,
          2027,
          2027,
          2028,
          2028,
          2029
         ],
         "xaxis": "x",
         "y": [
          715,
          880,
          1085,
          1225,
          1465,
          1665,
          1865,
          2065,
          2265
         ],
         "yaxis": "y"
        },
        {
         "hovertemplate": "City=Te Anau<br>Year=%{x}<br>Green Space Area=%{y}<extra></extra>",
         "legendgroup": "Te Anau",
         "line": {
          "color": "#ab63fa",
          "dash": "solid"
         },
         "marker": {
          "symbol": "circle"
         },
         "mode": "lines",
         "name": "Te Anau",
         "orientation": "v",
         "showlegend": true,
         "type": "scatter",
         "x": [
          2025,
          2026,
          2026,
          2026,
          2027,
          2027,
          2028,
          2028,
          2029
         ],
         "xaxis": "x",
         "y": [
          720,
          890,
          1080,
          1235,
          1475,
          1675,
          1875,
          2075,
          2275
         ],
         "yaxis": "y"
        },
        {
         "hovertemplate": "City=Milford Sound<br>Year=%{x}<br>Green Space Area=%{y}<extra></extra>",
         "legendgroup": "Milford Sound",
         "line": {
          "color": "#FFA15A",
          "dash": "solid"
         },
         "marker": {
          "symbol": "circle"
         },
         "mode": "lines",
         "name": "Milford Sound",
         "orientation": "v",
         "showlegend": true,
         "type": "scatter",
         "x": [
          2025,
          2026,
          2026,
          2026,
          2027,
          2027,
          2028,
          2028,
          2029
         ],
         "xaxis": "x",
         "y": [
          725,
          895,
          1075,
          1240,
          1480,
          1680,
          1880,
          2080,
          2280
         ],
         "yaxis": "y"
        },
        {
         "hovertemplate": "City=Haast<br>Year=%{x}<br>Green Space Area=%{y}<extra></extra>",
         "legendgroup": "Haast",
         "line": {
          "color": "#19d3f3",
          "dash": "solid"
         },
         "marker": {
          "symbol": "circle"
         },
         "mode": "lines",
         "name": "Haast",
         "orientation": "v",
         "showlegend": true,
         "type": "scatter",
         "x": [
          2025,
          2025,
          2026,
          2026,
          2027,
          2027,
          2028,
          2028,
          2029
         ],
         "xaxis": "x",
         "y": [
          730,
          860,
          1060,
          1195,
          1440,
          1640,
          1840,
          2040,
          2240
         ],
         "yaxis": "y"
        },
        {
         "hovertemplate": "City=Fox Glacier<br>Year=%{x}<br>Green Space Area=%{y}<extra></extra>",
         "legendgroup": "Fox Glacier",
         "line": {
          "color": "#FF6692",
          "dash": "solid"
         },
         "marker": {
          "symbol": "circle"
         },
         "mode": "lines",
         "name": "Fox Glacier",
         "orientation": "v",
         "showlegend": true,
         "type": "scatter",
         "x": [
          2025,
          2026,
          2026,
          2027,
          2027,
          2028,
          2028,
          2029
         ],
         "xaxis": "x",
         "y": [
          735,
          1050,
          1185,
          1430,
          1630,
          1830,
          2030,
          2230
         ],
         "yaxis": "y"
        },
        {
         "hovertemplate": "City=Franz Josef<br>Year=%{x}<br>Green Space Area=%{y}<extra></extra>",
         "legendgroup": "Franz Josef",
         "line": {
          "color": "#B6E880",
          "dash": "solid"
         },
         "marker": {
          "symbol": "circle"
         },
         "mode": "lines",
         "name": "Franz Josef",
         "orientation": "v",
         "showlegend": true,
         "type": "scatter",
         "x": [
          2025,
          2026,
          2026,
          2026,
          2027,
          2027,
          2028,
          2028,
          2029
         ],
         "xaxis": "x",
         "y": [
          740,
          1055,
          1190,
          1325,
          1435,
          1635,
          1835,
          2035,
          2235
         ],
         "yaxis": "y"
        },
        {
         "hovertemplate": "City=Whataroa<br>Year=%{x}<br>Green Space Area=%{y}<extra></extra>",
         "legendgroup": "Whataroa",
         "line": {
          "color": "#FF97FF",
          "dash": "solid"
         },
         "marker": {
          "symbol": "circle"
         },
         "mode": "lines",
         "name": "Whataroa",
         "orientation": "v",
         "showlegend": true,
         "type": "scatter",
         "x": [
          2025
         ],
         "xaxis": "x",
         "y": [
          745
         ],
         "yaxis": "y"
        },
        {
         "hovertemplate": "City=Harihari<br>Year=%{x}<br>Green Space Area=%{y}<extra></extra>",
         "legendgroup": "Harihari",
         "line": {
          "color": "#FECB52",
          "dash": "solid"
         },
         "marker": {
          "symbol": "circle"
         },
         "mode": "lines",
         "name": "Harihari",
         "orientation": "v",
         "showlegend": true,
         "type": "scatter",
         "x": [
          2025
         ],
         "xaxis": "x",
         "y": [
          750
         ],
         "yaxis": "y"
        },
        {
         "hovertemplate": "City=Ross<br>Year=%{x}<br>Green Space Area=%{y}<extra></extra>",
         "legendgroup": "Ross",
         "line": {
          "color": "#636efa",
          "dash": "solid"
         },
         "marker": {
          "symbol": "circle"
         },
         "mode": "lines",
         "name": "Ross",
         "orientation": "v",
         "showlegend": true,
         "type": "scatter",
         "x": [
          2025
         ],
         "xaxis": "x",
         "y": [
          755
         ],
         "yaxis": "y"
        },
        {
         "hovertemplate": "City=Punakaiki<br>Year=%{x}<br>Green Space Area=%{y}<extra></extra>",
         "legendgroup": "Punakaiki",
         "line": {
          "color": "#EF553B",
          "dash": "solid"
         },
         "marker": {
          "symbol": "circle"
         },
         "mode": "lines",
         "name": "Punakaiki",
         "orientation": "v",
         "showlegend": true,
         "type": "scatter",
         "x": [
          2025
         ],
         "xaxis": "x",
         "y": [
          770
         ],
         "yaxis": "y"
        },
        {
         "hovertemplate": "City=Karamea<br>Year=%{x}<br>Green Space Area=%{y}<extra></extra>",
         "legendgroup": "Karamea",
         "line": {
          "color": "#00cc96",
          "dash": "solid"
         },
         "marker": {
          "symbol": "circle"
         },
         "mode": "lines",
         "name": "Karamea",
         "orientation": "v",
         "showlegend": true,
         "type": "scatter",
         "x": [
          2025,
          2026,
          2026,
          2026
         ],
         "xaxis": "x",
         "y": [
          780,
          1115,
          1165,
          1335
         ],
         "yaxis": "y"
        },
        {
         "hovertemplate": "City=Collingwood<br>Year=%{x}<br>Green Space Area=%{y}<extra></extra>",
         "legendgroup": "Collingwood",
         "line": {
          "color": "#ab63fa",
          "dash": "solid"
         },
         "marker": {
          "symbol": "circle"
         },
         "mode": "lines",
         "name": "Collingwood",
         "orientation": "v",
         "showlegend": true,
         "type": "scatter",
         "x": [
          2025,
          2026,
          2026
         ],
         "xaxis": "x",
         "y": [
          785,
          1160,
          1355
         ],
         "yaxis": "y"
        },
        {
         "hovertemplate": "City=Picton<br>Year=%{x}<br>Green Space Area=%{y}<extra></extra>",
         "legendgroup": "Picton",
         "line": {
          "color": "#FFA15A",
          "dash": "solid"
         },
         "marker": {
          "symbol": "circle"
         },
         "mode": "lines",
         "name": "Picton",
         "orientation": "v",
         "showlegend": true,
         "type": "scatter",
         "x": [
          2025,
          2026,
          2027,
          2027,
          2028,
          2029,
          2029
         ],
         "xaxis": "x",
         "y": [
          810,
          1390,
          1590,
          1790,
          1990,
          2190,
          2390
         ],
         "yaxis": "y"
        },
        {
         "hovertemplate": "City=Havelock<br>Year=%{x}<br>Green Space Area=%{y}<extra></extra>",
         "legendgroup": "Havelock",
         "line": {
          "color": "#19d3f3",
          "dash": "solid"
         },
         "marker": {
          "symbol": "circle"
         },
         "mode": "lines",
         "name": "Havelock",
         "orientation": "v",
         "showlegend": true,
         "type": "scatter",
         "x": [
          2025,
          2026,
          2027,
          2028,
          2028,
          2029,
          2029
         ],
         "xaxis": "x",
         "y": [
          815,
          1395,
          1595,
          1795,
          1995,
          2195,
          2395
         ],
         "yaxis": "y"
        },
        {
         "hovertemplate": "City=Wairau Valley<br>Year=%{x}<br>Green Space Area=%{y}<extra></extra>",
         "legendgroup": "Wairau Valley",
         "line": {
          "color": "#FF6692",
          "dash": "solid"
         },
         "marker": {
          "symbol": "circle"
         },
         "mode": "lines",
         "name": "Wairau Valley",
         "orientation": "v",
         "showlegend": true,
         "type": "scatter",
         "x": [
          2025,
          2026,
          2027,
          2028,
          2028,
          2029,
          2029
         ],
         "xaxis": "x",
         "y": [
          820,
          1400,
          1600,
          1800,
          2000,
          2200,
          2400
         ],
         "yaxis": "y"
        },
        {
         "hovertemplate": "City=St Arnaud<br>Year=%{x}<br>Green Space Area=%{y}<extra></extra>",
         "legendgroup": "St Arnaud",
         "line": {
          "color": "#B6E880",
          "dash": "solid"
         },
         "marker": {
          "symbol": "circle"
         },
         "mode": "lines",
         "name": "St Arnaud",
         "orientation": "v",
         "showlegend": true,
         "type": "scatter",
         "x": [
          2025,
          2026,
          2027,
          2028,
          2028,
          2029,
          2029
         ],
         "xaxis": "x",
         "y": [
          825,
          1405,
          1605,
          1805,
          2005,
          2205,
          2405
         ],
         "yaxis": "y"
        },
        {
         "hovertemplate": "City=Lyell<br>Year=%{x}<br>Green Space Area=%{y}<extra></extra>",
         "legendgroup": "Lyell",
         "line": {
          "color": "#FF97FF",
          "dash": "solid"
         },
         "marker": {
          "symbol": "circle"
         },
         "mode": "lines",
         "name": "Lyell",
         "orientation": "v",
         "showlegend": true,
         "type": "scatter",
         "x": [
          2025
         ],
         "xaxis": "x",
         "y": [
          835
         ],
         "yaxis": "y"
        },
        {
         "hovertemplate": "City=Jackson Bay<br>Year=%{x}<br>Green Space Area=%{y}<extra></extra>",
         "legendgroup": "Jackson Bay",
         "line": {
          "color": "#FECB52",
          "dash": "solid"
         },
         "marker": {
          "symbol": "circle"
         },
         "mode": "lines",
         "name": "Jackson Bay",
         "orientation": "v",
         "showlegend": true,
         "type": "scatter",
         "x": [
          2025,
          2026,
          2026,
          2027,
          2027,
          2028,
          2028,
          2029
         ],
         "xaxis": "x",
         "y": [
          855,
          1065,
          1200,
          1445,
          1645,
          1845,
          2045,
          2245
         ],
         "yaxis": "y"
        },
        {
         "hovertemplate": "City=Mount Aspiring National Park<br>Year=%{x}<br>Green Space Area=%{y}<extra></extra>",
         "legendgroup": "Mount Aspiring National Park",
         "line": {
          "color": "#636efa",
          "dash": "solid"
         },
         "marker": {
          "symbol": "circle"
         },
         "mode": "lines",
         "name": "Mount Aspiring National Park",
         "orientation": "v",
         "showlegend": true,
         "type": "scatter",
         "x": [
          2025,
          2026
         ],
         "xaxis": "x",
         "y": [
          865,
          1105
         ],
         "yaxis": "y"
        },
        {
         "hovertemplate": "City=Manapouri<br>Year=%{x}<br>Green Space Area=%{y}<extra></extra>",
         "legendgroup": "Manapouri",
         "line": {
          "color": "#EF553B",
          "dash": "solid"
         },
         "marker": {
          "symbol": "circle"
         },
         "mode": "lines",
         "name": "Manapouri",
         "orientation": "v",
         "showlegend": true,
         "type": "scatter",
         "x": [
          2026,
          2026,
          2026,
          2027,
          2027,
          2028,
          2028,
          2029
         ],
         "xaxis": "x",
         "y": [
          900,
          1070,
          1245,
          1485,
          1685,
          1885,
          2085,
          2285
         ],
         "yaxis": "y"
        },
        {
         "hovertemplate": "City=Tuatapere<br>Year=%{x}<br>Green Space Area=%{y}<extra></extra>",
         "legendgroup": "Tuatapere",
         "line": {
          "color": "#00cc96",
          "dash": "solid"
         },
         "marker": {
          "symbol": "circle"
         },
         "mode": "lines",
         "name": "Tuatapere",
         "orientation": "v",
         "showlegend": true,
         "type": "scatter",
         "x": [
          2026
         ],
         "xaxis": "x",
         "y": [
          905
         ],
         "yaxis": "y"
        },
        {
         "hovertemplate": "City=Otautau<br>Year=%{x}<br>Green Space Area=%{y}<extra></extra>",
         "legendgroup": "Otautau",
         "line": {
          "color": "#ab63fa",
          "dash": "solid"
         },
         "marker": {
          "symbol": "circle"
         },
         "mode": "lines",
         "name": "Otautau",
         "orientation": "v",
         "showlegend": true,
         "type": "scatter",
         "x": [
          2026
         ],
         "xaxis": "x",
         "y": [
          910
         ],
         "yaxis": "y"
        },
        {
         "hovertemplate": "City=Riverton<br>Year=%{x}<br>Green Space Area=%{y}<extra></extra>",
         "legendgroup": "Riverton",
         "line": {
          "color": "#FFA15A",
          "dash": "solid"
         },
         "marker": {
          "symbol": "circle"
         },
         "mode": "lines",
         "name": "Riverton",
         "orientation": "v",
         "showlegend": true,
         "type": "scatter",
         "x": [
          2026
         ],
         "xaxis": "x",
         "y": [
          915
         ],
         "yaxis": "y"
        },
        {
         "hovertemplate": "City=Bluff<br>Year=%{x}<br>Green Space Area=%{y}<extra></extra>",
         "legendgroup": "Bluff",
         "line": {
          "color": "#19d3f3",
          "dash": "solid"
         },
         "marker": {
          "symbol": "circle"
         },
         "mode": "lines",
         "name": "Bluff",
         "orientation": "v",
         "showlegend": true,
         "type": "scatter",
         "x": [
          2026,
          2026,
          2027,
          2027,
          2028,
          2028,
          2029
         ],
         "xaxis": "x",
         "y": [
          925,
          1255,
          1495,
          1695,
          1895,
          2095,
          2295
         ],
         "yaxis": "y"
        },
        {
         "hovertemplate": "City=Stewart Island<br>Year=%{x}<br>Green Space Area=%{y}<extra></extra>",
         "legendgroup": "Stewart Island",
         "line": {
          "color": "#FF6692",
          "dash": "solid"
         },
         "marker": {
          "symbol": "circle"
         },
         "mode": "lines",
         "name": "Stewart Island",
         "orientation": "v",
         "showlegend": true,
         "type": "scatter",
         "x": [
          2026,
          2026,
          2027,
          2027,
          2028,
          2028,
          2029
         ],
         "xaxis": "x",
         "y": [
          930,
          1260,
          1500,
          1700,
          1900,
          2100,
          2300
         ],
         "yaxis": "y"
        },
        {
         "hovertemplate": "City=Oban<br>Year=%{x}<br>Green Space Area=%{y}<extra></extra>",
         "legendgroup": "Oban",
         "line": {
          "color": "#B6E880",
          "dash": "solid"
         },
         "marker": {
          "symbol": "circle"
         },
         "mode": "lines",
         "name": "Oban",
         "orientation": "v",
         "showlegend": true,
         "type": "scatter",
         "x": [
          2026,
          2026,
          2027,
          2027,
          2028,
          2028,
          2029
         ],
         "xaxis": "x",
         "y": [
          935,
          1265,
          1505,
          1705,
          1905,
          2105,
          2305
         ],
         "yaxis": "y"
        },
        {
         "hovertemplate": "City=Mossburn<br>Year=%{x}<br>Green Space Area=%{y}<extra></extra>",
         "legendgroup": "Mossburn",
         "line": {
          "color": "#FF97FF",
          "dash": "solid"
         },
         "marker": {
          "symbol": "circle"
         },
         "mode": "lines",
         "name": "Mossburn",
         "orientation": "v",
         "showlegend": true,
         "type": "scatter",
         "x": [
          2026
         ],
         "xaxis": "x",
         "y": [
          940
         ],
         "yaxis": "y"
        },
        {
         "hovertemplate": "City=Lumsden<br>Year=%{x}<br>Green Space Area=%{y}<extra></extra>",
         "legendgroup": "Lumsden",
         "line": {
          "color": "#FECB52",
          "dash": "solid"
         },
         "marker": {
          "symbol": "circle"
         },
         "mode": "lines",
         "name": "Lumsden",
         "orientation": "v",
         "showlegend": true,
         "type": "scatter",
         "x": [
          2026
         ],
         "xaxis": "x",
         "y": [
          945
         ],
         "yaxis": "y"
        },
        {
         "hovertemplate": "City=Gore<br>Year=%{x}<br>Green Space Area=%{y}<extra></extra>",
         "legendgroup": "Gore",
         "line": {
          "color": "#636efa",
          "dash": "solid"
         },
         "marker": {
          "symbol": "circle"
         },
         "mode": "lines",
         "name": "Gore",
         "orientation": "v",
         "showlegend": true,
         "type": "scatter",
         "x": [
          2026
         ],
         "xaxis": "x",
         "y": [
          950
         ],
         "yaxis": "y"
        },
        {
         "hovertemplate": "City=Clinton<br>Year=%{x}<br>Green Space Area=%{y}<extra></extra>",
         "legendgroup": "Clinton",
         "line": {
          "color": "#EF553B",
          "dash": "solid"
         },
         "marker": {
          "symbol": "circle"
         },
         "mode": "lines",
         "name": "Clinton",
         "orientation": "v",
         "showlegend": true,
         "type": "scatter",
         "x": [
          2026
         ],
         "xaxis": "x",
         "y": [
          955
         ],
         "yaxis": "y"
        },
        {
         "hovertemplate": "City=Balclutha<br>Year=%{x}<br>Green Space Area=%{y}<extra></extra>",
         "legendgroup": "Balclutha",
         "line": {
          "color": "#00cc96",
          "dash": "solid"
         },
         "marker": {
          "symbol": "circle"
         },
         "mode": "lines",
         "name": "Balclutha",
         "orientation": "v",
         "showlegend": true,
         "type": "scatter",
         "x": [
          2026
         ],
         "xaxis": "x",
         "y": [
          960
         ],
         "yaxis": "y"
        },
        {
         "hovertemplate": "City=Milton<br>Year=%{x}<br>Green Space Area=%{y}<extra></extra>",
         "legendgroup": "Milton",
         "line": {
          "color": "#ab63fa",
          "dash": "solid"
         },
         "marker": {
          "symbol": "circle"
         },
         "mode": "lines",
         "name": "Milton",
         "orientation": "v",
         "showlegend": true,
         "type": "scatter",
         "x": [
          2026
         ],
         "xaxis": "x",
         "y": [
          965
         ],
         "yaxis": "y"
        },
        {
         "hovertemplate": "City=Moeraki<br>Year=%{x}<br>Green Space Area=%{y}<extra></extra>",
         "legendgroup": "Moeraki",
         "line": {
          "color": "#FFA15A",
          "dash": "solid"
         },
         "marker": {
          "symbol": "circle"
         },
         "mode": "lines",
         "name": "Moeraki",
         "orientation": "v",
         "showlegend": true,
         "type": "scatter",
         "x": [
          2026,
          2026,
          2027,
          2027,
          2028,
          2029,
          2029
         ],
         "xaxis": "x",
         "y": [
          975,
          1290,
          1530,
          1730,
          1930,
          2130,
          2330
         ],
         "yaxis": "y"
        },
        {
         "hovertemplate": "City=Oamaru<br>Year=%{x}<br>Green Space Area=%{y}<extra></extra>",
         "legendgroup": "Oamaru",
         "line": {
          "color": "#19d3f3",
          "dash": "solid"
         },
         "marker": {
          "symbol": "circle"
         },
         "mode": "lines",
         "name": "Oamaru",
         "orientation": "v",
         "showlegend": true,
         "type": "scatter",
         "x": [
          2026,
          2026,
          2027,
          2027,
          2028,
          2029,
          2029
         ],
         "xaxis": "x",
         "y": [
          980,
          1295,
          1535,
          1735,
          1935,
          2135,
          2335
         ],
         "yaxis": "y"
        },
        {
         "hovertemplate": "City=Geraldine<br>Year=%{x}<br>Green Space Area=%{y}<extra></extra>",
         "legendgroup": "Geraldine",
         "line": {
          "color": "#FF6692",
          "dash": "solid"
         },
         "marker": {
          "symbol": "circle"
         },
         "mode": "lines",
         "name": "Geraldine",
         "orientation": "v",
         "showlegend": true,
         "type": "scatter",
         "x": [
          2026,
          2027,
          2027,
          2028,
          2029,
          2029
         ],
         "xaxis": "x",
         "y": [
          990,
          1545,
          1745,
          1945,
          2145,
          2345
         ],
         "yaxis": "y"
        },
        {
         "hovertemplate": "City=Ashburton<br>Year=%{x}<br>Green Space Area=%{y}<extra></extra>",
         "legendgroup": "Ashburton",
         "line": {
          "color": "#B6E880",
          "dash": "solid"
         },
         "marker": {
          "symbol": "circle"
         },
         "mode": "lines",
         "name": "Ashburton",
         "orientation": "v",
         "showlegend": true,
         "type": "scatter",
         "x": [
          2026,
          2027,
          2027,
          2028,
          2029,
          2029
         ],
         "xaxis": "x",
         "y": [
          995,
          1550,
          1750,
          1950,
          2150,
          2350
         ],
         "yaxis": "y"
        },
        {
         "hovertemplate": "City=Kaiapoi<br>Year=%{x}<br>Green Space Area=%{y}<extra></extra>",
         "legendgroup": "Kaiapoi",
         "line": {
          "color": "#FF97FF",
          "dash": "solid"
         },
         "marker": {
          "symbol": "circle"
         },
         "mode": "lines",
         "name": "Kaiapoi",
         "orientation": "v",
         "showlegend": true,
         "type": "scatter",
         "x": [
          2026,
          2026,
          2027,
          2027,
          2028,
          2029,
          2029
         ],
         "xaxis": "x",
         "y": [
          1005,
          1360,
          1560,
          1760,
          1960,
          2160,
          2360
         ],
         "yaxis": "y"
        },
        {
         "hovertemplate": "City=Rangiora<br>Year=%{x}<br>Green Space Area=%{y}<extra></extra>",
         "legendgroup": "Rangiora",
         "line": {
          "color": "#FECB52",
          "dash": "solid"
         },
         "marker": {
          "symbol": "circle"
         },
         "mode": "lines",
         "name": "Rangiora",
         "orientation": "v",
         "showlegend": true,
         "type": "scatter",
         "x": [
          2026,
          2026,
          2027,
          2027,
          2028,
          2029,
          2029
         ],
         "xaxis": "x",
         "y": [
          1010,
          1365,
          1565,
          1765,
          1965,
          2165,
          2365
         ],
         "yaxis": "y"
        },
        {
         "hovertemplate": "City=Amberley<br>Year=%{x}<br>Green Space Area=%{y}<extra></extra>",
         "legendgroup": "Amberley",
         "line": {
          "color": "#636efa",
          "dash": "solid"
         },
         "marker": {
          "symbol": "circle"
         },
         "mode": "lines",
         "name": "Amberley",
         "orientation": "v",
         "showlegend": true,
         "type": "scatter",
         "x": [
          2026,
          2026,
          2027,
          2027,
          2028,
          2029,
          2029
         ],
         "xaxis": "x",
         "y": [
          1015,
          1370,
          1570,
          1770,
          1970,
          2170,
          2370
         ],
         "yaxis": "y"
        },
        {
         "hovertemplate": "City=Waiau<br>Year=%{x}<br>Green Space Area=%{y}<extra></extra>",
         "legendgroup": "Waiau",
         "line": {
          "color": "#EF553B",
          "dash": "solid"
         },
         "marker": {
          "symbol": "circle"
         },
         "mode": "lines",
         "name": "Waiau",
         "orientation": "v",
         "showlegend": true,
         "type": "scatter",
         "x": [
          2026
         ],
         "xaxis": "x",
         "y": [
          1025
         ],
         "yaxis": "y"
        },
        {
         "hovertemplate": "City=Golden Bay<br>Year=%{x}<br>Green Space Area=%{y}<extra></extra>",
         "legendgroup": "Golden Bay",
         "line": {
          "color": "#00cc96",
          "dash": "solid"
         },
         "marker": {
          "symbol": "circle"
         },
         "mode": "lines",
         "name": "Golden Bay",
         "orientation": "v",
         "showlegend": true,
         "type": "scatter",
         "x": [
          2026,
          2026
         ],
         "xaxis": "x",
         "y": [
          1155,
          1350
         ],
         "yaxis": "y"
        },
        {
         "hovertemplate": "City=Southland<br>Year=%{x}<br>Green Space Area=%{y}<extra></extra>",
         "legendgroup": "Southland",
         "line": {
          "color": "#ab63fa",
          "dash": "solid"
         },
         "marker": {
          "symbol": "circle"
         },
         "mode": "lines",
         "name": "Southland",
         "orientation": "v",
         "showlegend": true,
         "type": "scatter",
         "x": [
          2026,
          2027,
          2027,
          2028,
          2029,
          2029
         ],
         "xaxis": "x",
         "y": [
          1270,
          1510,
          1710,
          1910,
          2110,
          2310
         ],
         "yaxis": "y"
        },
        {
         "hovertemplate": "City=The Catlins<br>Year=%{x}<br>Green Space Area=%{y}<extra></extra>",
         "legendgroup": "The Catlins",
         "line": {
          "color": "#FFA15A",
          "dash": "solid"
         },
         "marker": {
          "symbol": "circle"
         },
         "mode": "lines",
         "name": "The Catlins",
         "orientation": "v",
         "showlegend": true,
         "type": "scatter",
         "x": [
          2026,
          2027,
          2027,
          2028,
          2029,
          2029
         ],
         "xaxis": "x",
         "y": [
          1275,
          1515,
          1715,
          1915,
          2115,
          2315
         ],
         "yaxis": "y"
        },
        {
         "hovertemplate": "City=Otago Peninsula<br>Year=%{x}<br>Green Space Area=%{y}<extra></extra>",
         "legendgroup": "Otago Peninsula",
         "line": {
          "color": "#19d3f3",
          "dash": "solid"
         },
         "marker": {
          "symbol": "circle"
         },
         "mode": "lines",
         "name": "Otago Peninsula",
         "orientation": "v",
         "showlegend": true,
         "type": "scatter",
         "x": [
          2026,
          2027,
          2027,
          2028,
          2029,
          2029
         ],
         "xaxis": "x",
         "y": [
          1280,
          1520,
          1720,
          1920,
          2120,
          2320
         ],
         "yaxis": "y"
        },
        {
         "hovertemplate": "City=Canterbury<br>Year=%{x}<br>Green Space Area=%{y}<extra></extra>",
         "legendgroup": "Canterbury",
         "line": {
          "color": "#FF6692",
          "dash": "solid"
         },
         "marker": {
          "symbol": "circle"
         },
         "mode": "lines",
         "name": "Canterbury",
         "orientation": "v",
         "showlegend": true,
         "type": "scatter",
         "x": [
          2026
         ],
         "xaxis": "x",
         "y": [
          1305
         ],
         "yaxis": "y"
        }
       ],
       "layout": {
        "height": 400,
        "legend": {
         "title": {
          "text": "City"
         },
         "tracegroupgap": 0
        },
        "template": {
         "data": {
          "bar": [
           {
            "error_x": {
             "color": "#2a3f5f"
            },
            "error_y": {
             "color": "#2a3f5f"
            },
            "marker": {
             "line": {
              "color": "#E5ECF6",
              "width": 0.5
             },
             "pattern": {
              "fillmode": "overlay",
              "size": 10,
              "solidity": 0.2
             }
            },
            "type": "bar"
           }
          ],
          "barpolar": [
           {
            "marker": {
             "line": {
              "color": "#E5ECF6",
              "width": 0.5
             },
             "pattern": {
              "fillmode": "overlay",
              "size": 10,
              "solidity": 0.2
             }
            },
            "type": "barpolar"
           }
          ],
          "carpet": [
           {
            "aaxis": {
             "endlinecolor": "#2a3f5f",
             "gridcolor": "white",
             "linecolor": "white",
             "minorgridcolor": "white",
             "startlinecolor": "#2a3f5f"
            },
            "baxis": {
             "endlinecolor": "#2a3f5f",
             "gridcolor": "white",
             "linecolor": "white",
             "minorgridcolor": "white",
             "startlinecolor": "#2a3f5f"
            },
            "type": "carpet"
           }
          ],
          "choropleth": [
           {
            "colorbar": {
             "outlinewidth": 0,
             "ticks": ""
            },
            "type": "choropleth"
           }
          ],
          "contour": [
           {
            "colorbar": {
             "outlinewidth": 0,
             "ticks": ""
            },
            "colorscale": [
             [
              0,
              "#0d0887"
             ],
             [
              0.1111111111111111,
              "#46039f"
             ],
             [
              0.2222222222222222,
              "#7201a8"
             ],
             [
              0.3333333333333333,
              "#9c179e"
             ],
             [
              0.4444444444444444,
              "#bd3786"
             ],
             [
              0.5555555555555556,
              "#d8576b"
             ],
             [
              0.6666666666666666,
              "#ed7953"
             ],
             [
              0.7777777777777778,
              "#fb9f3a"
             ],
             [
              0.8888888888888888,
              "#fdca26"
             ],
             [
              1,
              "#f0f921"
             ]
            ],
            "type": "contour"
           }
          ],
          "contourcarpet": [
           {
            "colorbar": {
             "outlinewidth": 0,
             "ticks": ""
            },
            "type": "contourcarpet"
           }
          ],
          "heatmap": [
           {
            "colorbar": {
             "outlinewidth": 0,
             "ticks": ""
            },
            "colorscale": [
             [
              0,
              "#0d0887"
             ],
             [
              0.1111111111111111,
              "#46039f"
             ],
             [
              0.2222222222222222,
              "#7201a8"
             ],
             [
              0.3333333333333333,
              "#9c179e"
             ],
             [
              0.4444444444444444,
              "#bd3786"
             ],
             [
              0.5555555555555556,
              "#d8576b"
             ],
             [
              0.6666666666666666,
              "#ed7953"
             ],
             [
              0.7777777777777778,
              "#fb9f3a"
             ],
             [
              0.8888888888888888,
              "#fdca26"
             ],
             [
              1,
              "#f0f921"
             ]
            ],
            "type": "heatmap"
           }
          ],
          "heatmapgl": [
           {
            "colorbar": {
             "outlinewidth": 0,
             "ticks": ""
            },
            "colorscale": [
             [
              0,
              "#0d0887"
             ],
             [
              0.1111111111111111,
              "#46039f"
             ],
             [
              0.2222222222222222,
              "#7201a8"
             ],
             [
              0.3333333333333333,
              "#9c179e"
             ],
             [
              0.4444444444444444,
              "#bd3786"
             ],
             [
              0.5555555555555556,
              "#d8576b"
             ],
             [
              0.6666666666666666,
              "#ed7953"
             ],
             [
              0.7777777777777778,
              "#fb9f3a"
             ],
             [
              0.8888888888888888,
              "#fdca26"
             ],
             [
              1,
              "#f0f921"
             ]
            ],
            "type": "heatmapgl"
           }
          ],
          "histogram": [
           {
            "marker": {
             "pattern": {
              "fillmode": "overlay",
              "size": 10,
              "solidity": 0.2
             }
            },
            "type": "histogram"
           }
          ],
          "histogram2d": [
           {
            "colorbar": {
             "outlinewidth": 0,
             "ticks": ""
            },
            "colorscale": [
             [
              0,
              "#0d0887"
             ],
             [
              0.1111111111111111,
              "#46039f"
             ],
             [
              0.2222222222222222,
              "#7201a8"
             ],
             [
              0.3333333333333333,
              "#9c179e"
             ],
             [
              0.4444444444444444,
              "#bd3786"
             ],
             [
              0.5555555555555556,
              "#d8576b"
             ],
             [
              0.6666666666666666,
              "#ed7953"
             ],
             [
              0.7777777777777778,
              "#fb9f3a"
             ],
             [
              0.8888888888888888,
              "#fdca26"
             ],
             [
              1,
              "#f0f921"
             ]
            ],
            "type": "histogram2d"
           }
          ],
          "histogram2dcontour": [
           {
            "colorbar": {
             "outlinewidth": 0,
             "ticks": ""
            },
            "colorscale": [
             [
              0,
              "#0d0887"
             ],
             [
              0.1111111111111111,
              "#46039f"
             ],
             [
              0.2222222222222222,
              "#7201a8"
             ],
             [
              0.3333333333333333,
              "#9c179e"
             ],
             [
              0.4444444444444444,
              "#bd3786"
             ],
             [
              0.5555555555555556,
              "#d8576b"
             ],
             [
              0.6666666666666666,
              "#ed7953"
             ],
             [
              0.7777777777777778,
              "#fb9f3a"
             ],
             [
              0.8888888888888888,
              "#fdca26"
             ],
             [
              1,
              "#f0f921"
             ]
            ],
            "type": "histogram2dcontour"
           }
          ],
          "mesh3d": [
           {
            "colorbar": {
             "outlinewidth": 0,
             "ticks": ""
            },
            "type": "mesh3d"
           }
          ],
          "parcoords": [
           {
            "line": {
             "colorbar": {
              "outlinewidth": 0,
              "ticks": ""
             }
            },
            "type": "parcoords"
           }
          ],
          "pie": [
           {
            "automargin": true,
            "type": "pie"
           }
          ],
          "scatter": [
           {
            "fillpattern": {
             "fillmode": "overlay",
             "size": 10,
             "solidity": 0.2
            },
            "type": "scatter"
           }
          ],
          "scatter3d": [
           {
            "line": {
             "colorbar": {
              "outlinewidth": 0,
              "ticks": ""
             }
            },
            "marker": {
             "colorbar": {
              "outlinewidth": 0,
              "ticks": ""
             }
            },
            "type": "scatter3d"
           }
          ],
          "scattercarpet": [
           {
            "marker": {
             "colorbar": {
              "outlinewidth": 0,
              "ticks": ""
             }
            },
            "type": "scattercarpet"
           }
          ],
          "scattergeo": [
           {
            "marker": {
             "colorbar": {
              "outlinewidth": 0,
              "ticks": ""
             }
            },
            "type": "scattergeo"
           }
          ],
          "scattergl": [
           {
            "marker": {
             "colorbar": {
              "outlinewidth": 0,
              "ticks": ""
             }
            },
            "type": "scattergl"
           }
          ],
          "scattermapbox": [
           {
            "marker": {
             "colorbar": {
              "outlinewidth": 0,
              "ticks": ""
             }
            },
            "type": "scattermapbox"
           }
          ],
          "scatterpolar": [
           {
            "marker": {
             "colorbar": {
              "outlinewidth": 0,
              "ticks": ""
             }
            },
            "type": "scatterpolar"
           }
          ],
          "scatterpolargl": [
           {
            "marker": {
             "colorbar": {
              "outlinewidth": 0,
              "ticks": ""
             }
            },
            "type": "scatterpolargl"
           }
          ],
          "scatterternary": [
           {
            "marker": {
             "colorbar": {
              "outlinewidth": 0,
              "ticks": ""
             }
            },
            "type": "scatterternary"
           }
          ],
          "surface": [
           {
            "colorbar": {
             "outlinewidth": 0,
             "ticks": ""
            },
            "colorscale": [
             [
              0,
              "#0d0887"
             ],
             [
              0.1111111111111111,
              "#46039f"
             ],
             [
              0.2222222222222222,
              "#7201a8"
             ],
             [
              0.3333333333333333,
              "#9c179e"
             ],
             [
              0.4444444444444444,
              "#bd3786"
             ],
             [
              0.5555555555555556,
              "#d8576b"
             ],
             [
              0.6666666666666666,
              "#ed7953"
             ],
             [
              0.7777777777777778,
              "#fb9f3a"
             ],
             [
              0.8888888888888888,
              "#fdca26"
             ],
             [
              1,
              "#f0f921"
             ]
            ],
            "type": "surface"
           }
          ],
          "table": [
           {
            "cells": {
             "fill": {
              "color": "#EBF0F8"
             },
             "line": {
              "color": "white"
             }
            },
            "header": {
             "fill": {
              "color": "#C8D4E3"
             },
             "line": {
              "color": "white"
             }
            },
            "type": "table"
           }
          ]
         },
         "layout": {
          "annotationdefaults": {
           "arrowcolor": "#2a3f5f",
           "arrowhead": 0,
           "arrowwidth": 1
          },
          "autotypenumbers": "strict",
          "coloraxis": {
           "colorbar": {
            "outlinewidth": 0,
            "ticks": ""
           }
          },
          "colorscale": {
           "diverging": [
            [
             0,
             "#8e0152"
            ],
            [
             0.1,
             "#c51b7d"
            ],
            [
             0.2,
             "#de77ae"
            ],
            [
             0.3,
             "#f1b6da"
            ],
            [
             0.4,
             "#fde0ef"
            ],
            [
             0.5,
             "#f7f7f7"
            ],
            [
             0.6,
             "#e6f5d0"
            ],
            [
             0.7,
             "#b8e186"
            ],
            [
             0.8,
             "#7fbc41"
            ],
            [
             0.9,
             "#4d9221"
            ],
            [
             1,
             "#276419"
            ]
           ],
           "sequential": [
            [
             0,
             "#0d0887"
            ],
            [
             0.1111111111111111,
             "#46039f"
            ],
            [
             0.2222222222222222,
             "#7201a8"
            ],
            [
             0.3333333333333333,
             "#9c179e"
            ],
            [
             0.4444444444444444,
             "#bd3786"
            ],
            [
             0.5555555555555556,
             "#d8576b"
            ],
            [
             0.6666666666666666,
             "#ed7953"
            ],
            [
             0.7777777777777778,
             "#fb9f3a"
            ],
            [
             0.8888888888888888,
             "#fdca26"
            ],
            [
             1,
             "#f0f921"
            ]
           ],
           "sequentialminus": [
            [
             0,
             "#0d0887"
            ],
            [
             0.1111111111111111,
             "#46039f"
            ],
            [
             0.2222222222222222,
             "#7201a8"
            ],
            [
             0.3333333333333333,
             "#9c179e"
            ],
            [
             0.4444444444444444,
             "#bd3786"
            ],
            [
             0.5555555555555556,
             "#d8576b"
            ],
            [
             0.6666666666666666,
             "#ed7953"
            ],
            [
             0.7777777777777778,
             "#fb9f3a"
            ],
            [
             0.8888888888888888,
             "#fdca26"
            ],
            [
             1,
             "#f0f921"
            ]
           ]
          },
          "colorway": [
           "#636efa",
           "#EF553B",
           "#00cc96",
           "#ab63fa",
           "#FFA15A",
           "#19d3f3",
           "#FF6692",
           "#B6E880",
           "#FF97FF",
           "#FECB52"
          ],
          "font": {
           "color": "#2a3f5f"
          },
          "geo": {
           "bgcolor": "white",
           "lakecolor": "white",
           "landcolor": "#E5ECF6",
           "showlakes": true,
           "showland": true,
           "subunitcolor": "white"
          },
          "hoverlabel": {
           "align": "left"
          },
          "hovermode": "closest",
          "mapbox": {
           "style": "light"
          },
          "paper_bgcolor": "white",
          "plot_bgcolor": "#E5ECF6",
          "polar": {
           "angularaxis": {
            "gridcolor": "white",
            "linecolor": "white",
            "ticks": ""
           },
           "bgcolor": "#E5ECF6",
           "radialaxis": {
            "gridcolor": "white",
            "linecolor": "white",
            "ticks": ""
           }
          },
          "scene": {
           "xaxis": {
            "backgroundcolor": "#E5ECF6",
            "gridcolor": "white",
            "gridwidth": 2,
            "linecolor": "white",
            "showbackground": true,
            "ticks": "",
            "zerolinecolor": "white"
           },
           "yaxis": {
            "backgroundcolor": "#E5ECF6",
            "gridcolor": "white",
            "gridwidth": 2,
            "linecolor": "white",
            "showbackground": true,
            "ticks": "",
            "zerolinecolor": "white"
           },
           "zaxis": {
            "backgroundcolor": "#E5ECF6",
            "gridcolor": "white",
            "gridwidth": 2,
            "linecolor": "white",
            "showbackground": true,
            "ticks": "",
            "zerolinecolor": "white"
           }
          },
          "shapedefaults": {
           "line": {
            "color": "#2a3f5f"
           }
          },
          "ternary": {
           "aaxis": {
            "gridcolor": "white",
            "linecolor": "white",
            "ticks": ""
           },
           "baxis": {
            "gridcolor": "white",
            "linecolor": "white",
            "ticks": ""
           },
           "bgcolor": "#E5ECF6",
           "caxis": {
            "gridcolor": "white",
            "linecolor": "white",
            "ticks": ""
           }
          },
          "title": {
           "x": 0.05
          },
          "xaxis": {
           "automargin": true,
           "gridcolor": "white",
           "linecolor": "white",
           "ticks": "",
           "title": {
            "standoff": 15
           },
           "zerolinecolor": "white",
           "zerolinewidth": 2
          },
          "yaxis": {
           "automargin": true,
           "gridcolor": "white",
           "linecolor": "white",
           "ticks": "",
           "title": {
            "standoff": 15
           },
           "zerolinecolor": "white",
           "zerolinewidth": 2
          }
         }
        },
        "title": {
         "text": "Green Space Area Over Time"
        },
        "xaxis": {
         "anchor": "y",
         "domain": [
          0,
          1
         ],
         "title": {
          "text": "Year"
         }
        },
        "yaxis": {
         "anchor": "x",
         "domain": [
          0,
          1
         ],
         "title": {
          "text": "Green Space Area"
         }
        }
       }
      }
     },
     "metadata": {},
     "output_type": "display_data"
    }
   ],
   "source": [
    "line = px.line(train_df, x='Year', y='Green_Space_Area', color='City', \n",
    "               title='Green Space Area Over Time', \n",
    "               labels={'Green_Space_Area':'Green Space Area', 'Year':'Year'},\n",
    "               height=400)\n",
    "line.write_html('Green_Space_Area_Over_Time.html')\n",
    "line.show()"
   ]
  }
 ],
 "metadata": {
  "kernelspec": {
   "display_name": "Python 3 (ipykernel)",
   "language": "python",
   "name": "python3"
  },
  "language_info": {
   "codemirror_mode": {
    "name": "ipython",
    "version": 3
   },
   "file_extension": ".py",
   "mimetype": "text/x-python",
   "name": "python",
   "nbconvert_exporter": "python",
   "pygments_lexer": "ipython3",
   "version": "3.10.13"
  },
  "widgets": {
   "application/vnd.jupyter.widget-state+json": {
    "state": {},
    "version_major": 2,
    "version_minor": 0
   }
  }
 },
 "nbformat": 4,
 "nbformat_minor": 4
}