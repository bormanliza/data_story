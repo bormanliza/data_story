{
 "cells": [
  {
   "cell_type": "markdown",
   "metadata": {},
   "source": [
    "# Story"
   ]
  },
  {
   "cell_type": "code",
   "execution_count": 13,
   "metadata": {},
   "outputs": [],
   "source": [
    "import pandas as pd\n",
    "import matplotlib.pyplot as plt\n",
    "import plotly.express as px\n",
    "import plotly.graph_objects as go\n",
    "import seaborn as sns"
   ]
  },
  {
   "cell_type": "code",
   "execution_count": 14,
   "metadata": {},
   "outputs": [
    {
     "data": {
      "text/plain": [
       "(   2022 2021        City      Country Remote Jobs Overworked Population  \\\n",
       " 0     1    2        Oslo       Norway      41.72%                11.20%   \n",
       " 1     2    -        Bern  Switzerland      44.86%                11.40%   \n",
       " 2     3    1    Helsinki      Finland      38.92%                12.70%   \n",
       " 3     4    3      Zurich  Switzerland      44.86%                11.90%   \n",
       " 4     5    5  Copenhagen      Denmark      41.42%                10.50%   \n",
       " \n",
       "    Minimum Vacations Offered (Days) Vacations Taken (Days)  Unemployment  \\\n",
       " 0                                25                     25          94.7   \n",
       " 1                                20                     25          99.8   \n",
       " 2                                25                     30          89.3   \n",
       " 3                                20                     25          99.2   \n",
       " 4                                25                     28          94.8   \n",
       " \n",
       "   Multiple Jobholders  ... Healthcare Access to Mental Healthcare  \\\n",
       " 0               9.10%  ...      100.0                        85.0   \n",
       " 1               7.60%  ...       99.6                        78.6   \n",
       " 2               6.30%  ...       96.7                        73.0   \n",
       " 3               7.60%  ...       99.2                        78.6   \n",
       " 4               7.60%  ...       94.8                        77.6   \n",
       " \n",
       "    Inclusivity & Tolerance  Affordability  Happiness, Culture & Leisure  \\\n",
       " 0                     93.2           59.4                          88.8   \n",
       " 1                     94.6           69.9                         100.0   \n",
       " 2                     93.9           65.0                          96.3   \n",
       " 3                     87.5           71.6                          91.5   \n",
       " 4                     95.2           65.3                          92.5   \n",
       " \n",
       "    City Safety  Outdoor Spaces  Air Quality  Wellness and Fitness  TOTAL SCORE  \n",
       " 0         86.5            95.6         97.5                  65.7       100.00  \n",
       " 1         91.8            87.1        100.0                  69.1        99.46  \n",
       " 2         94.9            86.0         97.0                  68.3        99.24  \n",
       " 3         92.8            84.0         96.2                  68.7        96.33  \n",
       " 4         95.7            75.5         95.1                  66.3        96.21  \n",
       " \n",
       " [5 rows x 24 columns],\n",
       "          City  Rank Sunshine hours(City) Cost of a bottle of water(City)  \\\n",
       " 0   Amsterdam     1                 1858                           £1.92   \n",
       " 1      Sydney     2                 2636                           £1.48   \n",
       " 2      Vienna     3                 1884                           £1.94   \n",
       " 3   Stockholm     4                 1821                           £1.72   \n",
       " 4  Copenhagen     5                 1630                           £2.19   \n",
       " \n",
       "   Obesity levels(Country)  Life expectancy(years) (Country)  \\\n",
       " 0                  20.40%                              81.2   \n",
       " 1                  29.00%                              82.1   \n",
       " 2                  20.10%                              81.0   \n",
       " 3                  20.60%                              81.8   \n",
       " 4                  19.70%                              79.8   \n",
       " \n",
       "   Pollution(Index score) (City) Annual avg. hours worked  \\\n",
       " 0                         30.93                     1434   \n",
       " 1                         26.86                     1712   \n",
       " 2                         17.33                     1501   \n",
       " 3                         19.63                     1452   \n",
       " 4                         21.24                     1380   \n",
       " \n",
       "    Happiness levels(Country)  Outdoor activities(City)  \\\n",
       " 0                       7.44                       422   \n",
       " 1                       7.22                       406   \n",
       " 2                       7.29                       132   \n",
       " 3                       7.35                       129   \n",
       " 4                       7.64                       154   \n",
       " \n",
       "    Number of take out places(City) Cost of a monthly gym membership(City)  \n",
       " 0                             1048                                 £34.90  \n",
       " 1                             1103                                 £41.66  \n",
       " 2                             1008                                 £25.74  \n",
       " 3                              598                                 £37.31  \n",
       " 4                              523                                 £32.53  ,\n",
       "    rank_2020         city       state  population_2020  population_2010  \\\n",
       " 0          1     New York    New York          8804190          8175133   \n",
       " 1          2  Los Angeles  California          3898747          3792621   \n",
       " 2          3      Chicago    Illinois          2746388          2695598   \n",
       " 3          4      Houston       Texas          2304580          2099451   \n",
       " 4          5      Phoenix     Arizona          1608139          1445632   \n",
       " \n",
       "    land_area_sqmi  density  one_adult_no_kids_living_wage  \\\n",
       " 0           300.5    29298                          20.00   \n",
       " 1           469.5     8304                          19.22   \n",
       " 2           227.7    12061                          16.08   \n",
       " 3           640.4     3599                          14.29   \n",
       " 4           518.0     3105                          15.41   \n",
       " \n",
       "    one_adult_one_kid_living_wage  one_adult_two_kids_living_wage  \\\n",
       " 0                          38.99                           49.18   \n",
       " 1                          41.55                           51.30   \n",
       " 2                          32.25                           40.20   \n",
       " 3                          29.09                           35.73   \n",
       " 4                          29.44                           35.40   \n",
       " \n",
       "    one_adult_three_kids_living_wage  \\\n",
       " 0                             64.30   \n",
       " 1                             67.56   \n",
       " 2                             51.69   \n",
       " 3                             46.02   \n",
       " 4                             46.01   \n",
       " \n",
       "    two_adults_one_working_no_kids_living_wage  \\\n",
       " 0                                       29.16   \n",
       " 1                                       31.01   \n",
       " 2                                       25.41   \n",
       " 3                                       22.88   \n",
       " 4                                       24.85   \n",
       " \n",
       "    two_adults_one_working_one_kid_living_wage  \\\n",
       " 0                                       34.35   \n",
       " 1                                       37.96   \n",
       " 2                                       29.73   \n",
       " 3                                       27.54   \n",
       " 4                                       29.25   \n",
       " \n",
       "    two_adults_one_working_two_kids_living_wage  \\\n",
       " 0                                        38.13   \n",
       " 1                                        41.94   \n",
       " 2                                        33.38   \n",
       " 3                                        30.93   \n",
       " 4                                        32.98   \n",
       " \n",
       "    two_adults_one_working_three_kids_living_wage  \\\n",
       " 0                                          42.42   \n",
       " 1                                          47.75   \n",
       " 2                                          35.93   \n",
       " 3                                          33.69   \n",
       " 4                                          36.95   \n",
       " \n",
       "    two_adults_both_working_no_kids_living_wage  \\\n",
       " 0                                        14.03   \n",
       " 1                                        14.62   \n",
       " 2                                        12.28   \n",
       " 3                                        11.14   \n",
       " 4                                        12.03   \n",
       " \n",
       "    two_adults_both_working_one_kid_living_wage  \\\n",
       " 0                                        20.95   \n",
       " 1                                        22.36   \n",
       " 2                                        17.52   \n",
       " 3                                        15.85   \n",
       " 4                                        16.21   \n",
       " \n",
       "    two_adults_both_working_two_kids_living_wage  \\\n",
       " 0                                         26.53   \n",
       " 1                                         27.73   \n",
       " 2                                         22.01   \n",
       " 3                                         19.63   \n",
       " 4                                         19.65   \n",
       " \n",
       "    two_adults_both_working_three_kids_living_wage  \n",
       " 0                                           32.40  \n",
       " 1                                           34.01  \n",
       " 2                                           25.94  \n",
       " 3                                           23.09  \n",
       " 4                                           23.23  ,\n",
       "    Unnamed: 0      UA_Name    UA_Country   UA_Continent  Housing  \\\n",
       " 0           0       Aarhus       Denmark         Europe   6.1315   \n",
       " 1           1     Adelaide     Australia        Oceania   6.3095   \n",
       " 2           2  Albuquerque    New Mexico  North America   7.2620   \n",
       " 3           3       Almaty    Kazakhstan           Asia   9.2820   \n",
       " 4           4    Amsterdam   Netherlands         Europe   3.0530   \n",
       " \n",
       "    Cost of Living  Startups  Venture Capital  Travel Connectivity  Commute  \\\n",
       " 0           4.015    2.8270            2.512               3.5360  6.31175   \n",
       " 1           4.692    3.1365            2.640               1.7765  5.33625   \n",
       " 2           6.059    3.7720            1.493               1.4555  5.05575   \n",
       " 3           9.333    2.4585            0.000               4.5920  5.87125   \n",
       " 4           3.824    7.9715            6.107               8.3245  6.11850   \n",
       " \n",
       "    ...  Safety  Healthcare  Education  Environmental Quality  Economy  \\\n",
       " 0  ...  9.6165    8.704333     5.3665                7.63300   4.8865   \n",
       " 1  ...  7.9260    7.936667     5.1420                8.33075   6.0695   \n",
       " 2  ...  1.3435    6.430000     4.1520                7.31950   6.5145   \n",
       " 3  ...  7.3090    4.545667     2.2830                3.85675   5.2690   \n",
       " 4  ...  8.5035    7.907333     6.1800                7.59725   5.0530   \n",
       " \n",
       "    Taxation  Internet Access  Leisure & Culture  Tolerance  Outdoors  \n",
       " 0    5.0680            8.373             3.1870     9.7385    4.1300  \n",
       " 1    4.5885            4.341             4.3285     7.8220    5.5310  \n",
       " 2    4.3460            5.396             4.8900     7.0285    3.5155  \n",
       " 3    8.5220            2.886             2.9370     6.5395    5.5000  \n",
       " 4    4.9550            4.523             8.8740     8.3680    5.3070  \n",
       " \n",
       " [5 rows x 21 columns])"
      ]
     },
     "execution_count": 14,
     "metadata": {},
     "output_type": "execute_result"
    }
   ],
   "source": [
    "work_life_balance_df = pd.read_csv('../data/Cities with the Best Work-Life Balance 2022.csv')\n",
    "healthy_lifestyle_df = pd.read_csv('../data/healthy_lifestyle_city_2021.csv')\n",
    "living_wage_df = pd.read_csv('../data/livingwage (2).csv')\n",
    "ua_scores_df = pd.read_csv('../data/uaScoresDataFrame.csv')\n",
    "\n",
    "# Display the first few rows of each dataframe to understand their structure\n",
    "(work_life_balance_df.head(), healthy_lifestyle_df.head(), living_wage_df.head(), ua_scores_df.head())"
   ]
  },
  {
   "cell_type": "code",
   "execution_count": 15,
   "metadata": {},
   "outputs": [
    {
     "data": {
      "text/html": [
       "<div>\n",
       "<style scoped>\n",
       "    .dataframe tbody tr th:only-of-type {\n",
       "        vertical-align: middle;\n",
       "    }\n",
       "\n",
       "    .dataframe tbody tr th {\n",
       "        vertical-align: top;\n",
       "    }\n",
       "\n",
       "    .dataframe thead th {\n",
       "        text-align: right;\n",
       "    }\n",
       "</style>\n",
       "<table border=\"1\" class=\"dataframe\">\n",
       "  <thead>\n",
       "    <tr style=\"text-align: right;\">\n",
       "      <th></th>\n",
       "      <th>rank_2022</th>\n",
       "      <th>rank_2021</th>\n",
       "      <th>city</th>\n",
       "      <th>country</th>\n",
       "      <th>remote_jobs</th>\n",
       "      <th>overworked_population</th>\n",
       "      <th>minimum_vacations_offered_(days)</th>\n",
       "      <th>vacations_taken_(days)</th>\n",
       "      <th>unemployment</th>\n",
       "      <th>multiple_jobholders_%</th>\n",
       "      <th>...</th>\n",
       "      <th>healthcare</th>\n",
       "      <th>access_to_mental_healthcare</th>\n",
       "      <th>inclusivity_&amp;_tolerance</th>\n",
       "      <th>affordability</th>\n",
       "      <th>happiness,_culture_&amp;_leisure</th>\n",
       "      <th>city_safety</th>\n",
       "      <th>outdoor_spaces</th>\n",
       "      <th>air_quality</th>\n",
       "      <th>wellness_and_fitness</th>\n",
       "      <th>total_score</th>\n",
       "    </tr>\n",
       "  </thead>\n",
       "  <tbody>\n",
       "    <tr>\n",
       "      <th>0</th>\n",
       "      <td>1</td>\n",
       "      <td>2</td>\n",
       "      <td>Oslo</td>\n",
       "      <td>Norway</td>\n",
       "      <td>0.4172</td>\n",
       "      <td>0.112</td>\n",
       "      <td>25</td>\n",
       "      <td>25</td>\n",
       "      <td>94.7</td>\n",
       "      <td>0.091</td>\n",
       "      <td>...</td>\n",
       "      <td>100.0</td>\n",
       "      <td>85.0</td>\n",
       "      <td>93.2</td>\n",
       "      <td>59.4</td>\n",
       "      <td>88.8</td>\n",
       "      <td>86.5</td>\n",
       "      <td>95.6</td>\n",
       "      <td>97.5</td>\n",
       "      <td>65.7</td>\n",
       "      <td>100.00</td>\n",
       "    </tr>\n",
       "    <tr>\n",
       "      <th>1</th>\n",
       "      <td>2</td>\n",
       "      <td>-</td>\n",
       "      <td>Bern</td>\n",
       "      <td>Switzerland</td>\n",
       "      <td>0.4486</td>\n",
       "      <td>0.114</td>\n",
       "      <td>20</td>\n",
       "      <td>25</td>\n",
       "      <td>99.8</td>\n",
       "      <td>0.076</td>\n",
       "      <td>...</td>\n",
       "      <td>99.6</td>\n",
       "      <td>78.6</td>\n",
       "      <td>94.6</td>\n",
       "      <td>69.9</td>\n",
       "      <td>100.0</td>\n",
       "      <td>91.8</td>\n",
       "      <td>87.1</td>\n",
       "      <td>100.0</td>\n",
       "      <td>69.1</td>\n",
       "      <td>99.46</td>\n",
       "    </tr>\n",
       "    <tr>\n",
       "      <th>2</th>\n",
       "      <td>3</td>\n",
       "      <td>1</td>\n",
       "      <td>Helsinki</td>\n",
       "      <td>Finland</td>\n",
       "      <td>0.3892</td>\n",
       "      <td>0.127</td>\n",
       "      <td>25</td>\n",
       "      <td>30</td>\n",
       "      <td>89.3</td>\n",
       "      <td>0.063</td>\n",
       "      <td>...</td>\n",
       "      <td>96.7</td>\n",
       "      <td>73.0</td>\n",
       "      <td>93.9</td>\n",
       "      <td>65.0</td>\n",
       "      <td>96.3</td>\n",
       "      <td>94.9</td>\n",
       "      <td>86.0</td>\n",
       "      <td>97.0</td>\n",
       "      <td>68.3</td>\n",
       "      <td>99.24</td>\n",
       "    </tr>\n",
       "    <tr>\n",
       "      <th>3</th>\n",
       "      <td>4</td>\n",
       "      <td>3</td>\n",
       "      <td>Zurich</td>\n",
       "      <td>Switzerland</td>\n",
       "      <td>0.4486</td>\n",
       "      <td>0.119</td>\n",
       "      <td>20</td>\n",
       "      <td>25</td>\n",
       "      <td>99.2</td>\n",
       "      <td>0.076</td>\n",
       "      <td>...</td>\n",
       "      <td>99.2</td>\n",
       "      <td>78.6</td>\n",
       "      <td>87.5</td>\n",
       "      <td>71.6</td>\n",
       "      <td>91.5</td>\n",
       "      <td>92.8</td>\n",
       "      <td>84.0</td>\n",
       "      <td>96.2</td>\n",
       "      <td>68.7</td>\n",
       "      <td>96.33</td>\n",
       "    </tr>\n",
       "    <tr>\n",
       "      <th>4</th>\n",
       "      <td>5</td>\n",
       "      <td>5</td>\n",
       "      <td>Copenhagen</td>\n",
       "      <td>Denmark</td>\n",
       "      <td>0.4142</td>\n",
       "      <td>0.105</td>\n",
       "      <td>25</td>\n",
       "      <td>28</td>\n",
       "      <td>94.8</td>\n",
       "      <td>0.076</td>\n",
       "      <td>...</td>\n",
       "      <td>94.8</td>\n",
       "      <td>77.6</td>\n",
       "      <td>95.2</td>\n",
       "      <td>65.3</td>\n",
       "      <td>92.5</td>\n",
       "      <td>95.7</td>\n",
       "      <td>75.5</td>\n",
       "      <td>95.1</td>\n",
       "      <td>66.3</td>\n",
       "      <td>96.21</td>\n",
       "    </tr>\n",
       "  </tbody>\n",
       "</table>\n",
       "<p>5 rows × 24 columns</p>\n",
       "</div>"
      ],
      "text/plain": [
       "   rank_2022 rank_2021        city      country  remote_jobs  \\\n",
       "0          1         2        Oslo       Norway       0.4172   \n",
       "1          2         -        Bern  Switzerland       0.4486   \n",
       "2          3         1    Helsinki      Finland       0.3892   \n",
       "3          4         3      Zurich  Switzerland       0.4486   \n",
       "4          5         5  Copenhagen      Denmark       0.4142   \n",
       "\n",
       "   overworked_population  minimum_vacations_offered_(days)  \\\n",
       "0                  0.112                                25   \n",
       "1                  0.114                                20   \n",
       "2                  0.127                                25   \n",
       "3                  0.119                                20   \n",
       "4                  0.105                                25   \n",
       "\n",
       "  vacations_taken_(days)  unemployment  multiple_jobholders_%  ... healthcare  \\\n",
       "0                     25          94.7                  0.091  ...      100.0   \n",
       "1                     25          99.8                  0.076  ...       99.6   \n",
       "2                     30          89.3                  0.063  ...       96.7   \n",
       "3                     25          99.2                  0.076  ...       99.2   \n",
       "4                     28          94.8                  0.076  ...       94.8   \n",
       "\n",
       "  access_to_mental_healthcare  inclusivity_&_tolerance  affordability  \\\n",
       "0                        85.0                     93.2           59.4   \n",
       "1                        78.6                     94.6           69.9   \n",
       "2                        73.0                     93.9           65.0   \n",
       "3                        78.6                     87.5           71.6   \n",
       "4                        77.6                     95.2           65.3   \n",
       "\n",
       "   happiness,_culture_&_leisure  city_safety  outdoor_spaces  air_quality  \\\n",
       "0                          88.8         86.5            95.6         97.5   \n",
       "1                         100.0         91.8            87.1        100.0   \n",
       "2                          96.3         94.9            86.0         97.0   \n",
       "3                          91.5         92.8            84.0         96.2   \n",
       "4                          92.5         95.7            75.5         95.1   \n",
       "\n",
       "   wellness_and_fitness  total_score  \n",
       "0                  65.7       100.00  \n",
       "1                  69.1        99.46  \n",
       "2                  68.3        99.24  \n",
       "3                  68.7        96.33  \n",
       "4                  66.3        96.21  \n",
       "\n",
       "[5 rows x 24 columns]"
      ]
     },
     "execution_count": 15,
     "metadata": {},
     "output_type": "execute_result"
    }
   ],
   "source": [
    "work_life_balance_df.columns = work_life_balance_df.columns.str.strip().str.replace(' ', '_').str.lower()\n",
    "work_life_balance_df = work_life_balance_df.rename(columns={'2022': 'rank_2022', '2021': 'rank_2021', 'multiple_jobholders': 'multiple_jobholders_%'})\n",
    "\n",
    "percentage_columns = ['remote_jobs', 'overworked_population', 'multiple_jobholders_%']\n",
    "for col in percentage_columns:\n",
    "    work_life_balance_df[col] = work_life_balance_df[col].str.rstrip('%').astype(float) / 100\n",
    "\n",
    "work_life_balance_df.head()"
   ]
  },
  {
   "cell_type": "code",
   "execution_count": 16,
   "metadata": {},
   "outputs": [
    {
     "data": {
      "text/html": [
       "<div>\n",
       "<style scoped>\n",
       "    .dataframe tbody tr th:only-of-type {\n",
       "        vertical-align: middle;\n",
       "    }\n",
       "\n",
       "    .dataframe tbody tr th {\n",
       "        vertical-align: top;\n",
       "    }\n",
       "\n",
       "    .dataframe thead th {\n",
       "        text-align: right;\n",
       "    }\n",
       "</style>\n",
       "<table border=\"1\" class=\"dataframe\">\n",
       "  <thead>\n",
       "    <tr style=\"text-align: right;\">\n",
       "      <th></th>\n",
       "      <th>rank_2020</th>\n",
       "      <th>city_name</th>\n",
       "      <th>state</th>\n",
       "      <th>population_2020</th>\n",
       "      <th>population_2010</th>\n",
       "      <th>land_area_sqmi</th>\n",
       "      <th>density</th>\n",
       "      <th>one_adult_no_kids_living_wage</th>\n",
       "      <th>one_adult_one_kid_living_wage</th>\n",
       "      <th>one_adult_two_kids_living_wage</th>\n",
       "      <th>one_adult_three_kids_living_wage</th>\n",
       "      <th>two_adults_one_working_no_kids_living_wage</th>\n",
       "      <th>two_adults_one_working_one_kid_living_wage</th>\n",
       "      <th>two_adults_one_working_two_kids_living_wage</th>\n",
       "      <th>two_adults_one_working_three_kids_living_wage</th>\n",
       "      <th>two_adults_both_working_no_kids_living_wage</th>\n",
       "      <th>two_adults_both_working_one_kid_living_wage</th>\n",
       "      <th>two_adults_both_working_two_kids_living_wage</th>\n",
       "      <th>two_adults_both_working_three_kids_living_wage</th>\n",
       "    </tr>\n",
       "  </thead>\n",
       "  <tbody>\n",
       "    <tr>\n",
       "      <th>0</th>\n",
       "      <td>1</td>\n",
       "      <td>New York</td>\n",
       "      <td>New York</td>\n",
       "      <td>8804190</td>\n",
       "      <td>8175133</td>\n",
       "      <td>300.5</td>\n",
       "      <td>29298</td>\n",
       "      <td>20.00</td>\n",
       "      <td>38.99</td>\n",
       "      <td>49.18</td>\n",
       "      <td>64.30</td>\n",
       "      <td>29.16</td>\n",
       "      <td>34.35</td>\n",
       "      <td>38.13</td>\n",
       "      <td>42.42</td>\n",
       "      <td>14.03</td>\n",
       "      <td>20.95</td>\n",
       "      <td>26.53</td>\n",
       "      <td>32.40</td>\n",
       "    </tr>\n",
       "    <tr>\n",
       "      <th>1</th>\n",
       "      <td>2</td>\n",
       "      <td>Los Angeles</td>\n",
       "      <td>California</td>\n",
       "      <td>3898747</td>\n",
       "      <td>3792621</td>\n",
       "      <td>469.5</td>\n",
       "      <td>8304</td>\n",
       "      <td>19.22</td>\n",
       "      <td>41.55</td>\n",
       "      <td>51.30</td>\n",
       "      <td>67.56</td>\n",
       "      <td>31.01</td>\n",
       "      <td>37.96</td>\n",
       "      <td>41.94</td>\n",
       "      <td>47.75</td>\n",
       "      <td>14.62</td>\n",
       "      <td>22.36</td>\n",
       "      <td>27.73</td>\n",
       "      <td>34.01</td>\n",
       "    </tr>\n",
       "    <tr>\n",
       "      <th>2</th>\n",
       "      <td>3</td>\n",
       "      <td>Chicago</td>\n",
       "      <td>Illinois</td>\n",
       "      <td>2746388</td>\n",
       "      <td>2695598</td>\n",
       "      <td>227.7</td>\n",
       "      <td>12061</td>\n",
       "      <td>16.08</td>\n",
       "      <td>32.25</td>\n",
       "      <td>40.20</td>\n",
       "      <td>51.69</td>\n",
       "      <td>25.41</td>\n",
       "      <td>29.73</td>\n",
       "      <td>33.38</td>\n",
       "      <td>35.93</td>\n",
       "      <td>12.28</td>\n",
       "      <td>17.52</td>\n",
       "      <td>22.01</td>\n",
       "      <td>25.94</td>\n",
       "    </tr>\n",
       "    <tr>\n",
       "      <th>3</th>\n",
       "      <td>4</td>\n",
       "      <td>Houston</td>\n",
       "      <td>Texas</td>\n",
       "      <td>2304580</td>\n",
       "      <td>2099451</td>\n",
       "      <td>640.4</td>\n",
       "      <td>3599</td>\n",
       "      <td>14.29</td>\n",
       "      <td>29.09</td>\n",
       "      <td>35.73</td>\n",
       "      <td>46.02</td>\n",
       "      <td>22.88</td>\n",
       "      <td>27.54</td>\n",
       "      <td>30.93</td>\n",
       "      <td>33.69</td>\n",
       "      <td>11.14</td>\n",
       "      <td>15.85</td>\n",
       "      <td>19.63</td>\n",
       "      <td>23.09</td>\n",
       "    </tr>\n",
       "    <tr>\n",
       "      <th>4</th>\n",
       "      <td>5</td>\n",
       "      <td>Phoenix</td>\n",
       "      <td>Arizona</td>\n",
       "      <td>1608139</td>\n",
       "      <td>1445632</td>\n",
       "      <td>518.0</td>\n",
       "      <td>3105</td>\n",
       "      <td>15.41</td>\n",
       "      <td>29.44</td>\n",
       "      <td>35.40</td>\n",
       "      <td>46.01</td>\n",
       "      <td>24.85</td>\n",
       "      <td>29.25</td>\n",
       "      <td>32.98</td>\n",
       "      <td>36.95</td>\n",
       "      <td>12.03</td>\n",
       "      <td>16.21</td>\n",
       "      <td>19.65</td>\n",
       "      <td>23.23</td>\n",
       "    </tr>\n",
       "  </tbody>\n",
       "</table>\n",
       "</div>"
      ],
      "text/plain": [
       "   rank_2020    city_name       state  population_2020  population_2010  \\\n",
       "0          1     New York    New York          8804190          8175133   \n",
       "1          2  Los Angeles  California          3898747          3792621   \n",
       "2          3      Chicago    Illinois          2746388          2695598   \n",
       "3          4      Houston       Texas          2304580          2099451   \n",
       "4          5      Phoenix     Arizona          1608139          1445632   \n",
       "\n",
       "   land_area_sqmi  density  one_adult_no_kids_living_wage  \\\n",
       "0           300.5    29298                          20.00   \n",
       "1           469.5     8304                          19.22   \n",
       "2           227.7    12061                          16.08   \n",
       "3           640.4     3599                          14.29   \n",
       "4           518.0     3105                          15.41   \n",
       "\n",
       "   one_adult_one_kid_living_wage  one_adult_two_kids_living_wage  \\\n",
       "0                          38.99                           49.18   \n",
       "1                          41.55                           51.30   \n",
       "2                          32.25                           40.20   \n",
       "3                          29.09                           35.73   \n",
       "4                          29.44                           35.40   \n",
       "\n",
       "   one_adult_three_kids_living_wage  \\\n",
       "0                             64.30   \n",
       "1                             67.56   \n",
       "2                             51.69   \n",
       "3                             46.02   \n",
       "4                             46.01   \n",
       "\n",
       "   two_adults_one_working_no_kids_living_wage  \\\n",
       "0                                       29.16   \n",
       "1                                       31.01   \n",
       "2                                       25.41   \n",
       "3                                       22.88   \n",
       "4                                       24.85   \n",
       "\n",
       "   two_adults_one_working_one_kid_living_wage  \\\n",
       "0                                       34.35   \n",
       "1                                       37.96   \n",
       "2                                       29.73   \n",
       "3                                       27.54   \n",
       "4                                       29.25   \n",
       "\n",
       "   two_adults_one_working_two_kids_living_wage  \\\n",
       "0                                        38.13   \n",
       "1                                        41.94   \n",
       "2                                        33.38   \n",
       "3                                        30.93   \n",
       "4                                        32.98   \n",
       "\n",
       "   two_adults_one_working_three_kids_living_wage  \\\n",
       "0                                          42.42   \n",
       "1                                          47.75   \n",
       "2                                          35.93   \n",
       "3                                          33.69   \n",
       "4                                          36.95   \n",
       "\n",
       "   two_adults_both_working_no_kids_living_wage  \\\n",
       "0                                        14.03   \n",
       "1                                        14.62   \n",
       "2                                        12.28   \n",
       "3                                        11.14   \n",
       "4                                        12.03   \n",
       "\n",
       "   two_adults_both_working_one_kid_living_wage  \\\n",
       "0                                        20.95   \n",
       "1                                        22.36   \n",
       "2                                        17.52   \n",
       "3                                        15.85   \n",
       "4                                        16.21   \n",
       "\n",
       "   two_adults_both_working_two_kids_living_wage  \\\n",
       "0                                         26.53   \n",
       "1                                         27.73   \n",
       "2                                         22.01   \n",
       "3                                         19.63   \n",
       "4                                         19.65   \n",
       "\n",
       "   two_adults_both_working_three_kids_living_wage  \n",
       "0                                           32.40  \n",
       "1                                           34.01  \n",
       "2                                           25.94  \n",
       "3                                           23.09  \n",
       "4                                           23.23  "
      ]
     },
     "execution_count": 16,
     "metadata": {},
     "output_type": "execute_result"
    }
   ],
   "source": [
    "# Clean and preprocess living wage data\n",
    "living_wage_df.columns = living_wage_df.columns.str.strip().str.replace(' ', '_').str.lower()\n",
    "\n",
    "# Ensure consistency in city and country names\n",
    "living_wage_df.rename(columns={'city': 'city_name', 'country': 'country_name'}, inplace=True)\n",
    "\n",
    "living_wage_df.head()"
   ]
  },
  {
   "cell_type": "code",
   "execution_count": 17,
   "metadata": {},
   "outputs": [
    {
     "data": {
      "text/html": [
       "<div>\n",
       "<style scoped>\n",
       "    .dataframe tbody tr th:only-of-type {\n",
       "        vertical-align: middle;\n",
       "    }\n",
       "\n",
       "    .dataframe tbody tr th {\n",
       "        vertical-align: top;\n",
       "    }\n",
       "\n",
       "    .dataframe thead th {\n",
       "        text-align: right;\n",
       "    }\n",
       "</style>\n",
       "<table border=\"1\" class=\"dataframe\">\n",
       "  <thead>\n",
       "    <tr style=\"text-align: right;\">\n",
       "      <th></th>\n",
       "      <th>unnamed:_0</th>\n",
       "      <th>ua_name</th>\n",
       "      <th>ua_country</th>\n",
       "      <th>ua_continent</th>\n",
       "      <th>housing</th>\n",
       "      <th>cost_of_living</th>\n",
       "      <th>startups</th>\n",
       "      <th>venture_capital</th>\n",
       "      <th>travel_connectivity</th>\n",
       "      <th>commute</th>\n",
       "      <th>...</th>\n",
       "      <th>safety</th>\n",
       "      <th>healthcare</th>\n",
       "      <th>education</th>\n",
       "      <th>environmental_quality</th>\n",
       "      <th>economy</th>\n",
       "      <th>taxation</th>\n",
       "      <th>internet_access</th>\n",
       "      <th>leisure_&amp;_culture</th>\n",
       "      <th>tolerance</th>\n",
       "      <th>outdoors</th>\n",
       "    </tr>\n",
       "  </thead>\n",
       "  <tbody>\n",
       "    <tr>\n",
       "      <th>0</th>\n",
       "      <td>0</td>\n",
       "      <td>Aarhus</td>\n",
       "      <td>Denmark</td>\n",
       "      <td>Europe</td>\n",
       "      <td>6.1315</td>\n",
       "      <td>4.015</td>\n",
       "      <td>2.8270</td>\n",
       "      <td>2.512</td>\n",
       "      <td>3.5360</td>\n",
       "      <td>6.31175</td>\n",
       "      <td>...</td>\n",
       "      <td>9.6165</td>\n",
       "      <td>8.704333</td>\n",
       "      <td>5.3665</td>\n",
       "      <td>7.63300</td>\n",
       "      <td>4.8865</td>\n",
       "      <td>5.0680</td>\n",
       "      <td>8.373</td>\n",
       "      <td>3.1870</td>\n",
       "      <td>9.7385</td>\n",
       "      <td>4.1300</td>\n",
       "    </tr>\n",
       "    <tr>\n",
       "      <th>1</th>\n",
       "      <td>1</td>\n",
       "      <td>Adelaide</td>\n",
       "      <td>Australia</td>\n",
       "      <td>Oceania</td>\n",
       "      <td>6.3095</td>\n",
       "      <td>4.692</td>\n",
       "      <td>3.1365</td>\n",
       "      <td>2.640</td>\n",
       "      <td>1.7765</td>\n",
       "      <td>5.33625</td>\n",
       "      <td>...</td>\n",
       "      <td>7.9260</td>\n",
       "      <td>7.936667</td>\n",
       "      <td>5.1420</td>\n",
       "      <td>8.33075</td>\n",
       "      <td>6.0695</td>\n",
       "      <td>4.5885</td>\n",
       "      <td>4.341</td>\n",
       "      <td>4.3285</td>\n",
       "      <td>7.8220</td>\n",
       "      <td>5.5310</td>\n",
       "    </tr>\n",
       "    <tr>\n",
       "      <th>2</th>\n",
       "      <td>2</td>\n",
       "      <td>Albuquerque</td>\n",
       "      <td>New Mexico</td>\n",
       "      <td>North America</td>\n",
       "      <td>7.2620</td>\n",
       "      <td>6.059</td>\n",
       "      <td>3.7720</td>\n",
       "      <td>1.493</td>\n",
       "      <td>1.4555</td>\n",
       "      <td>5.05575</td>\n",
       "      <td>...</td>\n",
       "      <td>1.3435</td>\n",
       "      <td>6.430000</td>\n",
       "      <td>4.1520</td>\n",
       "      <td>7.31950</td>\n",
       "      <td>6.5145</td>\n",
       "      <td>4.3460</td>\n",
       "      <td>5.396</td>\n",
       "      <td>4.8900</td>\n",
       "      <td>7.0285</td>\n",
       "      <td>3.5155</td>\n",
       "    </tr>\n",
       "    <tr>\n",
       "      <th>3</th>\n",
       "      <td>3</td>\n",
       "      <td>Almaty</td>\n",
       "      <td>Kazakhstan</td>\n",
       "      <td>Asia</td>\n",
       "      <td>9.2820</td>\n",
       "      <td>9.333</td>\n",
       "      <td>2.4585</td>\n",
       "      <td>0.000</td>\n",
       "      <td>4.5920</td>\n",
       "      <td>5.87125</td>\n",
       "      <td>...</td>\n",
       "      <td>7.3090</td>\n",
       "      <td>4.545667</td>\n",
       "      <td>2.2830</td>\n",
       "      <td>3.85675</td>\n",
       "      <td>5.2690</td>\n",
       "      <td>8.5220</td>\n",
       "      <td>2.886</td>\n",
       "      <td>2.9370</td>\n",
       "      <td>6.5395</td>\n",
       "      <td>5.5000</td>\n",
       "    </tr>\n",
       "    <tr>\n",
       "      <th>4</th>\n",
       "      <td>4</td>\n",
       "      <td>Amsterdam</td>\n",
       "      <td>Netherlands</td>\n",
       "      <td>Europe</td>\n",
       "      <td>3.0530</td>\n",
       "      <td>3.824</td>\n",
       "      <td>7.9715</td>\n",
       "      <td>6.107</td>\n",
       "      <td>8.3245</td>\n",
       "      <td>6.11850</td>\n",
       "      <td>...</td>\n",
       "      <td>8.5035</td>\n",
       "      <td>7.907333</td>\n",
       "      <td>6.1800</td>\n",
       "      <td>7.59725</td>\n",
       "      <td>5.0530</td>\n",
       "      <td>4.9550</td>\n",
       "      <td>4.523</td>\n",
       "      <td>8.8740</td>\n",
       "      <td>8.3680</td>\n",
       "      <td>5.3070</td>\n",
       "    </tr>\n",
       "  </tbody>\n",
       "</table>\n",
       "<p>5 rows × 21 columns</p>\n",
       "</div>"
      ],
      "text/plain": [
       "   unnamed:_0      ua_name    ua_country   ua_continent  housing  \\\n",
       "0           0       Aarhus       Denmark         Europe   6.1315   \n",
       "1           1     Adelaide     Australia        Oceania   6.3095   \n",
       "2           2  Albuquerque    New Mexico  North America   7.2620   \n",
       "3           3       Almaty    Kazakhstan           Asia   9.2820   \n",
       "4           4    Amsterdam   Netherlands         Europe   3.0530   \n",
       "\n",
       "   cost_of_living  startups  venture_capital  travel_connectivity  commute  \\\n",
       "0           4.015    2.8270            2.512               3.5360  6.31175   \n",
       "1           4.692    3.1365            2.640               1.7765  5.33625   \n",
       "2           6.059    3.7720            1.493               1.4555  5.05575   \n",
       "3           9.333    2.4585            0.000               4.5920  5.87125   \n",
       "4           3.824    7.9715            6.107               8.3245  6.11850   \n",
       "\n",
       "   ...  safety  healthcare  education  environmental_quality  economy  \\\n",
       "0  ...  9.6165    8.704333     5.3665                7.63300   4.8865   \n",
       "1  ...  7.9260    7.936667     5.1420                8.33075   6.0695   \n",
       "2  ...  1.3435    6.430000     4.1520                7.31950   6.5145   \n",
       "3  ...  7.3090    4.545667     2.2830                3.85675   5.2690   \n",
       "4  ...  8.5035    7.907333     6.1800                7.59725   5.0530   \n",
       "\n",
       "   taxation  internet_access  leisure_&_culture  tolerance  outdoors  \n",
       "0    5.0680            8.373             3.1870     9.7385    4.1300  \n",
       "1    4.5885            4.341             4.3285     7.8220    5.5310  \n",
       "2    4.3460            5.396             4.8900     7.0285    3.5155  \n",
       "3    8.5220            2.886             2.9370     6.5395    5.5000  \n",
       "4    4.9550            4.523             8.8740     8.3680    5.3070  \n",
       "\n",
       "[5 rows x 21 columns]"
      ]
     },
     "execution_count": 17,
     "metadata": {},
     "output_type": "execute_result"
    }
   ],
   "source": [
    "# Clean and preprocess UA Scores data\n",
    "ua_scores_df.columns = ua_scores_df.columns.str.strip().str.replace(' ', '_').str.lower()\n",
    "\n",
    "ua_scores_df.head()"
   ]
  },
  {
   "cell_type": "code",
   "execution_count": 18,
   "metadata": {},
   "outputs": [],
   "source": [
    "work_life_balance_df['vacations_taken_(days)'] = pd.to_numeric(work_life_balance_df['vacations_taken_(days)'], errors='coerce')\n",
    "work_life_balance_df['minimum_vacations_offered_(days)'] = pd.to_numeric(work_life_balance_df['minimum_vacations_offered_(days)'], errors='coerce')"
   ]
  },
  {
   "cell_type": "markdown",
   "metadata": {},
   "source": [
    "##### (Uit de data)\n",
    "Uit de tabel kunnen diverse indicatoren worden gehaald die samen een beeld geven van het welzijn van de bevolking in steden. Uit de gegevens blijkt dat steden zoals Oslo, Bern, Helsinki, Zurich en Kopenhagen hoger scoren op welvaart en welzijn. Deze steden hebben lage werkloosheid, goede toegang tot gezondheidszorg, inclusiviteit en tolerantie, en bieden veel buitenruimtes en goede luchtkwaliteit. Ze bieden ook voldoende vakantiedagen aan hun inwoners, wat bijdraagt aan een betere werk-leven balans. Over het algemeen hebben welvarende steden dus gunstige omstandigheden voor een hoog welzijn van hun bevolking.\n",
    "\n",
    "> Een laag werkloosheidspercentage (\"unemployment\") duidt vaak op een gezonde economie en goede werkgelegenheid, wat positief bijdraagt aan het welzijn. Hoge werkloosheid kan leiden tot financiële onzekerheid en stress..\n",
    "\n",
    "> De scores voor \"healthcare\" en \"access_to_mental_healthcare\" geven aan hoe goed de gezondheidszorgsystemen zijn en hoe gemakkelijk mensen toegang hebben tot geestelijke gezondheidszorg. Goede gezondheidszorg en toegang tot geestelijke gezondheidszorg zijn cruciaal voor het algehele welzijn.\n",
    "\n",
    "> De \"city_safety\" score geeft een indicatie van hoe veilig een stad is. Veiligheid is een fundamentele factor voor het welzijn van de bevolking, aangezien mensen zich veiliger en meer op hun gemak voelen in een veilige omgeving.\n"
   ]
  },
  {
   "cell_type": "code",
   "execution_count": 19,
   "metadata": {},
   "outputs": [
    {
     "data": {
      "application/vnd.plotly.v1+json": {
       "config": {
        "plotlyServerURL": "https://plot.ly"
       },
       "data": [
        {
         "alignmentgroup": "True",
         "hovertemplate": "city=%{x}<br>Remote Jobs (%)=%{y}<extra></extra>",
         "legendgroup": "",
         "marker": {
          "color": "#636efa",
          "pattern": {
           "shape": ""
          }
         },
         "name": "",
         "offsetgroup": "",
         "orientation": "v",
         "showlegend": false,
         "textposition": "auto",
         "type": "bar",
         "x": [
          "Oslo",
          "Bern",
          "Helsinki",
          "Zurich",
          "Copenhagen",
          "Geneva",
          "Ottawa",
          "Sydney",
          "Stuttgart",
          "Munich",
          "Stockholm",
          "Melbourne",
          "Amsterdam",
          "Tokyo",
          "Leipzig",
          "Vancouver",
          "Auckland",
          "Hamburg",
          "Toronto",
          "Frankfurt (am Main)",
          "Dusseldorf",
          "Berlin",
          "Bremen",
          "Liverpool",
          "Glasgow",
          "Cologne",
          "London",
          "Paris",
          "Graz",
          "Calgary",
          "Manchester",
          "Seattle",
          "Portland",
          "Vienna",
          "Minneapolis",
          "Salt Lake City",
          "Dublin",
          "Boston",
          "San Francisco",
          "Brussels",
          "Washington",
          "Madrid",
          "Omaha",
          "San Diego",
          "Singapore",
          "Denver",
          "Virginia Beach",
          "Raleigh",
          "Sacramento",
          "Barcelona",
          "Lisbon",
          "Des Moines",
          "Honolulu",
          "Budapest",
          "Colorado Springs",
          "Tampa",
          "Kansas City",
          "Charlotte",
          "New York",
          "Atlanta",
          "Milwaukee",
          "Austin",
          "Milan",
          "Pittsburgh",
          "Jacksonville",
          "Nashville",
          "Cincinnati",
          "Columbus",
          "Chicago",
          "Miami",
          "Baltimore",
          "Philadelphia",
          "Indianapolis",
          "Tucson",
          "Cleveland",
          "Oklahoma City",
          "Dallas",
          "Los Angeles",
          "Phoenix",
          "San Antonio",
          "Tulsa",
          "Wichita",
          "Louisville",
          "Detroit",
          "Albuquerque",
          "El Paso",
          "Houston",
          "Seoul",
          "Las Vegas",
          "New Orleans",
          "St. Louis",
          "Memphis",
          "Hong Kong",
          "Montevideo",
          "Buenos Aires",
          "Bangkok",
          "Sao Paulo",
          "Kuala Lumpur",
          "Dubai",
          "Cape Town"
         ],
         "xaxis": "x",
         "y": [
          0.4172,
          0.4486,
          0.3892,
          0.4486,
          0.4142,
          0.4486,
          0.37810000000000005,
          0.38789999999999997,
          0.36729999999999996,
          0.36729999999999996,
          0.442,
          0.38789999999999997,
          0.4155,
          0.3652,
          0.36729999999999996,
          0.37810000000000005,
          0.3625,
          0.36729999999999996,
          0.37810000000000005,
          0.36729999999999996,
          0.36729999999999996,
          0.36729999999999996,
          0.36729999999999996,
          0.435,
          0.435,
          0.36729999999999996,
          0.435,
          0.3774,
          0.3669,
          0.37810000000000005,
          0.435,
          0.4228,
          0.3849,
          0.3669,
          0.4114,
          0.4334,
          0.3871,
          0.4435,
          0.4476,
          0.42340000000000005,
          0.49770000000000003,
          0.3169,
          0.389,
          0.39520000000000005,
          0.5206000000000001,
          0.42579999999999996,
          0.3464,
          0.413,
          0.40340000000000004,
          0.3169,
          0.33159999999999995,
          0.4266,
          0.3543,
          0.30920000000000003,
          0.4031,
          0.3994,
          0.3948,
          0.3787,
          0.41960000000000003,
          0.4039,
          0.36479999999999996,
          0.4551,
          0.34990000000000004,
          0.3682,
          0.3661,
          0.3641,
          0.36200000000000004,
          0.3954,
          0.3918,
          0.36700000000000005,
          0.4155,
          0.4011,
          0.35960000000000003,
          0.3729,
          0.3131,
          0.3734,
          0.3969,
          0.3909,
          0.38880000000000003,
          0.3771,
          0.3513,
          0.3354,
          0.3301,
          0.3507,
          0.35719999999999996,
          0.3483,
          0.37329999999999997,
          0.37,
          0.3041,
          0.4157,
          0.3759,
          0.3181,
          0.40270000000000006,
          0.2729,
          0.2839,
          0.1684,
          0.2565,
          0.307,
          0.2889,
          0.2606
         ],
         "yaxis": "y"
        }
       ],
       "layout": {
        "barmode": "relative",
        "legend": {
         "tracegroupgap": 0
        },
        "template": {
         "data": {
          "bar": [
           {
            "error_x": {
             "color": "#2a3f5f"
            },
            "error_y": {
             "color": "#2a3f5f"
            },
            "marker": {
             "line": {
              "color": "#E5ECF6",
              "width": 0.5
             },
             "pattern": {
              "fillmode": "overlay",
              "size": 10,
              "solidity": 0.2
             }
            },
            "type": "bar"
           }
          ],
          "barpolar": [
           {
            "marker": {
             "line": {
              "color": "#E5ECF6",
              "width": 0.5
             },
             "pattern": {
              "fillmode": "overlay",
              "size": 10,
              "solidity": 0.2
             }
            },
            "type": "barpolar"
           }
          ],
          "carpet": [
           {
            "aaxis": {
             "endlinecolor": "#2a3f5f",
             "gridcolor": "white",
             "linecolor": "white",
             "minorgridcolor": "white",
             "startlinecolor": "#2a3f5f"
            },
            "baxis": {
             "endlinecolor": "#2a3f5f",
             "gridcolor": "white",
             "linecolor": "white",
             "minorgridcolor": "white",
             "startlinecolor": "#2a3f5f"
            },
            "type": "carpet"
           }
          ],
          "choropleth": [
           {
            "colorbar": {
             "outlinewidth": 0,
             "ticks": ""
            },
            "type": "choropleth"
           }
          ],
          "contour": [
           {
            "colorbar": {
             "outlinewidth": 0,
             "ticks": ""
            },
            "colorscale": [
             [
              0,
              "#0d0887"
             ],
             [
              0.1111111111111111,
              "#46039f"
             ],
             [
              0.2222222222222222,
              "#7201a8"
             ],
             [
              0.3333333333333333,
              "#9c179e"
             ],
             [
              0.4444444444444444,
              "#bd3786"
             ],
             [
              0.5555555555555556,
              "#d8576b"
             ],
             [
              0.6666666666666666,
              "#ed7953"
             ],
             [
              0.7777777777777778,
              "#fb9f3a"
             ],
             [
              0.8888888888888888,
              "#fdca26"
             ],
             [
              1,
              "#f0f921"
             ]
            ],
            "type": "contour"
           }
          ],
          "contourcarpet": [
           {
            "colorbar": {
             "outlinewidth": 0,
             "ticks": ""
            },
            "type": "contourcarpet"
           }
          ],
          "heatmap": [
           {
            "colorbar": {
             "outlinewidth": 0,
             "ticks": ""
            },
            "colorscale": [
             [
              0,
              "#0d0887"
             ],
             [
              0.1111111111111111,
              "#46039f"
             ],
             [
              0.2222222222222222,
              "#7201a8"
             ],
             [
              0.3333333333333333,
              "#9c179e"
             ],
             [
              0.4444444444444444,
              "#bd3786"
             ],
             [
              0.5555555555555556,
              "#d8576b"
             ],
             [
              0.6666666666666666,
              "#ed7953"
             ],
             [
              0.7777777777777778,
              "#fb9f3a"
             ],
             [
              0.8888888888888888,
              "#fdca26"
             ],
             [
              1,
              "#f0f921"
             ]
            ],
            "type": "heatmap"
           }
          ],
          "heatmapgl": [
           {
            "colorbar": {
             "outlinewidth": 0,
             "ticks": ""
            },
            "colorscale": [
             [
              0,
              "#0d0887"
             ],
             [
              0.1111111111111111,
              "#46039f"
             ],
             [
              0.2222222222222222,
              "#7201a8"
             ],
             [
              0.3333333333333333,
              "#9c179e"
             ],
             [
              0.4444444444444444,
              "#bd3786"
             ],
             [
              0.5555555555555556,
              "#d8576b"
             ],
             [
              0.6666666666666666,
              "#ed7953"
             ],
             [
              0.7777777777777778,
              "#fb9f3a"
             ],
             [
              0.8888888888888888,
              "#fdca26"
             ],
             [
              1,
              "#f0f921"
             ]
            ],
            "type": "heatmapgl"
           }
          ],
          "histogram": [
           {
            "marker": {
             "pattern": {
              "fillmode": "overlay",
              "size": 10,
              "solidity": 0.2
             }
            },
            "type": "histogram"
           }
          ],
          "histogram2d": [
           {
            "colorbar": {
             "outlinewidth": 0,
             "ticks": ""
            },
            "colorscale": [
             [
              0,
              "#0d0887"
             ],
             [
              0.1111111111111111,
              "#46039f"
             ],
             [
              0.2222222222222222,
              "#7201a8"
             ],
             [
              0.3333333333333333,
              "#9c179e"
             ],
             [
              0.4444444444444444,
              "#bd3786"
             ],
             [
              0.5555555555555556,
              "#d8576b"
             ],
             [
              0.6666666666666666,
              "#ed7953"
             ],
             [
              0.7777777777777778,
              "#fb9f3a"
             ],
             [
              0.8888888888888888,
              "#fdca26"
             ],
             [
              1,
              "#f0f921"
             ]
            ],
            "type": "histogram2d"
           }
          ],
          "histogram2dcontour": [
           {
            "colorbar": {
             "outlinewidth": 0,
             "ticks": ""
            },
            "colorscale": [
             [
              0,
              "#0d0887"
             ],
             [
              0.1111111111111111,
              "#46039f"
             ],
             [
              0.2222222222222222,
              "#7201a8"
             ],
             [
              0.3333333333333333,
              "#9c179e"
             ],
             [
              0.4444444444444444,
              "#bd3786"
             ],
             [
              0.5555555555555556,
              "#d8576b"
             ],
             [
              0.6666666666666666,
              "#ed7953"
             ],
             [
              0.7777777777777778,
              "#fb9f3a"
             ],
             [
              0.8888888888888888,
              "#fdca26"
             ],
             [
              1,
              "#f0f921"
             ]
            ],
            "type": "histogram2dcontour"
           }
          ],
          "mesh3d": [
           {
            "colorbar": {
             "outlinewidth": 0,
             "ticks": ""
            },
            "type": "mesh3d"
           }
          ],
          "parcoords": [
           {
            "line": {
             "colorbar": {
              "outlinewidth": 0,
              "ticks": ""
             }
            },
            "type": "parcoords"
           }
          ],
          "pie": [
           {
            "automargin": true,
            "type": "pie"
           }
          ],
          "scatter": [
           {
            "fillpattern": {
             "fillmode": "overlay",
             "size": 10,
             "solidity": 0.2
            },
            "type": "scatter"
           }
          ],
          "scatter3d": [
           {
            "line": {
             "colorbar": {
              "outlinewidth": 0,
              "ticks": ""
             }
            },
            "marker": {
             "colorbar": {
              "outlinewidth": 0,
              "ticks": ""
             }
            },
            "type": "scatter3d"
           }
          ],
          "scattercarpet": [
           {
            "marker": {
             "colorbar": {
              "outlinewidth": 0,
              "ticks": ""
             }
            },
            "type": "scattercarpet"
           }
          ],
          "scattergeo": [
           {
            "marker": {
             "colorbar": {
              "outlinewidth": 0,
              "ticks": ""
             }
            },
            "type": "scattergeo"
           }
          ],
          "scattergl": [
           {
            "marker": {
             "colorbar": {
              "outlinewidth": 0,
              "ticks": ""
             }
            },
            "type": "scattergl"
           }
          ],
          "scattermapbox": [
           {
            "marker": {
             "colorbar": {
              "outlinewidth": 0,
              "ticks": ""
             }
            },
            "type": "scattermapbox"
           }
          ],
          "scatterpolar": [
           {
            "marker": {
             "colorbar": {
              "outlinewidth": 0,
              "ticks": ""
             }
            },
            "type": "scatterpolar"
           }
          ],
          "scatterpolargl": [
           {
            "marker": {
             "colorbar": {
              "outlinewidth": 0,
              "ticks": ""
             }
            },
            "type": "scatterpolargl"
           }
          ],
          "scatterternary": [
           {
            "marker": {
             "colorbar": {
              "outlinewidth": 0,
              "ticks": ""
             }
            },
            "type": "scatterternary"
           }
          ],
          "surface": [
           {
            "colorbar": {
             "outlinewidth": 0,
             "ticks": ""
            },
            "colorscale": [
             [
              0,
              "#0d0887"
             ],
             [
              0.1111111111111111,
              "#46039f"
             ],
             [
              0.2222222222222222,
              "#7201a8"
             ],
             [
              0.3333333333333333,
              "#9c179e"
             ],
             [
              0.4444444444444444,
              "#bd3786"
             ],
             [
              0.5555555555555556,
              "#d8576b"
             ],
             [
              0.6666666666666666,
              "#ed7953"
             ],
             [
              0.7777777777777778,
              "#fb9f3a"
             ],
             [
              0.8888888888888888,
              "#fdca26"
             ],
             [
              1,
              "#f0f921"
             ]
            ],
            "type": "surface"
           }
          ],
          "table": [
           {
            "cells": {
             "fill": {
              "color": "#EBF0F8"
             },
             "line": {
              "color": "white"
             }
            },
            "header": {
             "fill": {
              "color": "#C8D4E3"
             },
             "line": {
              "color": "white"
             }
            },
            "type": "table"
           }
          ]
         },
         "layout": {
          "annotationdefaults": {
           "arrowcolor": "#2a3f5f",
           "arrowhead": 0,
           "arrowwidth": 1
          },
          "autotypenumbers": "strict",
          "coloraxis": {
           "colorbar": {
            "outlinewidth": 0,
            "ticks": ""
           }
          },
          "colorscale": {
           "diverging": [
            [
             0,
             "#8e0152"
            ],
            [
             0.1,
             "#c51b7d"
            ],
            [
             0.2,
             "#de77ae"
            ],
            [
             0.3,
             "#f1b6da"
            ],
            [
             0.4,
             "#fde0ef"
            ],
            [
             0.5,
             "#f7f7f7"
            ],
            [
             0.6,
             "#e6f5d0"
            ],
            [
             0.7,
             "#b8e186"
            ],
            [
             0.8,
             "#7fbc41"
            ],
            [
             0.9,
             "#4d9221"
            ],
            [
             1,
             "#276419"
            ]
           ],
           "sequential": [
            [
             0,
             "#0d0887"
            ],
            [
             0.1111111111111111,
             "#46039f"
            ],
            [
             0.2222222222222222,
             "#7201a8"
            ],
            [
             0.3333333333333333,
             "#9c179e"
            ],
            [
             0.4444444444444444,
             "#bd3786"
            ],
            [
             0.5555555555555556,
             "#d8576b"
            ],
            [
             0.6666666666666666,
             "#ed7953"
            ],
            [
             0.7777777777777778,
             "#fb9f3a"
            ],
            [
             0.8888888888888888,
             "#fdca26"
            ],
            [
             1,
             "#f0f921"
            ]
           ],
           "sequentialminus": [
            [
             0,
             "#0d0887"
            ],
            [
             0.1111111111111111,
             "#46039f"
            ],
            [
             0.2222222222222222,
             "#7201a8"
            ],
            [
             0.3333333333333333,
             "#9c179e"
            ],
            [
             0.4444444444444444,
             "#bd3786"
            ],
            [
             0.5555555555555556,
             "#d8576b"
            ],
            [
             0.6666666666666666,
             "#ed7953"
            ],
            [
             0.7777777777777778,
             "#fb9f3a"
            ],
            [
             0.8888888888888888,
             "#fdca26"
            ],
            [
             1,
             "#f0f921"
            ]
           ]
          },
          "colorway": [
           "#636efa",
           "#EF553B",
           "#00cc96",
           "#ab63fa",
           "#FFA15A",
           "#19d3f3",
           "#FF6692",
           "#B6E880",
           "#FF97FF",
           "#FECB52"
          ],
          "font": {
           "color": "#2a3f5f"
          },
          "geo": {
           "bgcolor": "white",
           "lakecolor": "white",
           "landcolor": "#E5ECF6",
           "showlakes": true,
           "showland": true,
           "subunitcolor": "white"
          },
          "hoverlabel": {
           "align": "left"
          },
          "hovermode": "closest",
          "mapbox": {
           "style": "light"
          },
          "paper_bgcolor": "white",
          "plot_bgcolor": "#E5ECF6",
          "polar": {
           "angularaxis": {
            "gridcolor": "white",
            "linecolor": "white",
            "ticks": ""
           },
           "bgcolor": "#E5ECF6",
           "radialaxis": {
            "gridcolor": "white",
            "linecolor": "white",
            "ticks": ""
           }
          },
          "scene": {
           "xaxis": {
            "backgroundcolor": "#E5ECF6",
            "gridcolor": "white",
            "gridwidth": 2,
            "linecolor": "white",
            "showbackground": true,
            "ticks": "",
            "zerolinecolor": "white"
           },
           "yaxis": {
            "backgroundcolor": "#E5ECF6",
            "gridcolor": "white",
            "gridwidth": 2,
            "linecolor": "white",
            "showbackground": true,
            "ticks": "",
            "zerolinecolor": "white"
           },
           "zaxis": {
            "backgroundcolor": "#E5ECF6",
            "gridcolor": "white",
            "gridwidth": 2,
            "linecolor": "white",
            "showbackground": true,
            "ticks": "",
            "zerolinecolor": "white"
           }
          },
          "shapedefaults": {
           "line": {
            "color": "#2a3f5f"
           }
          },
          "ternary": {
           "aaxis": {
            "gridcolor": "white",
            "linecolor": "white",
            "ticks": ""
           },
           "baxis": {
            "gridcolor": "white",
            "linecolor": "white",
            "ticks": ""
           },
           "bgcolor": "#E5ECF6",
           "caxis": {
            "gridcolor": "white",
            "linecolor": "white",
            "ticks": ""
           }
          },
          "title": {
           "x": 0.05
          },
          "xaxis": {
           "automargin": true,
           "gridcolor": "white",
           "linecolor": "white",
           "ticks": "",
           "title": {
            "standoff": 15
           },
           "zerolinecolor": "white",
           "zerolinewidth": 2
          },
          "yaxis": {
           "automargin": true,
           "gridcolor": "white",
           "linecolor": "white",
           "ticks": "",
           "title": {
            "standoff": 15
           },
           "zerolinecolor": "white",
           "zerolinewidth": 2
          }
         }
        },
        "title": {
         "text": "Percentage of Remote Jobs in Cities"
        },
        "xaxis": {
         "anchor": "y",
         "domain": [
          0,
          1
         ],
         "title": {
          "text": "city"
         }
        },
        "yaxis": {
         "anchor": "x",
         "domain": [
          0,
          1
         ],
         "title": {
          "text": "Remote Jobs (%)"
         }
        }
       }
      },
      "text/html": [
       "<div>                            <div id=\"6cb1fc4c-a73e-444e-a1d9-5670bd36f407\" class=\"plotly-graph-div\" style=\"height:525px; width:100%;\"></div>            <script type=\"text/javascript\">                require([\"plotly\"], function(Plotly) {                    window.PLOTLYENV=window.PLOTLYENV || {};                                    if (document.getElementById(\"6cb1fc4c-a73e-444e-a1d9-5670bd36f407\")) {                    Plotly.newPlot(                        \"6cb1fc4c-a73e-444e-a1d9-5670bd36f407\",                        [{\"alignmentgroup\":\"True\",\"hovertemplate\":\"city=%{x}\\u003cbr\\u003eRemote Jobs (%)=%{y}\\u003cextra\\u003e\\u003c\\u002fextra\\u003e\",\"legendgroup\":\"\",\"marker\":{\"color\":\"#636efa\",\"pattern\":{\"shape\":\"\"}},\"name\":\"\",\"offsetgroup\":\"\",\"orientation\":\"v\",\"showlegend\":false,\"textposition\":\"auto\",\"x\":[\"Oslo\",\"Bern\",\"Helsinki\",\"Zurich\",\"Copenhagen\",\"Geneva\",\"Ottawa\",\"Sydney\",\"Stuttgart\",\"Munich\",\"Stockholm\",\"Melbourne\",\"Amsterdam\",\"Tokyo\",\"Leipzig\",\"Vancouver\",\"Auckland\",\"Hamburg\",\"Toronto\",\"Frankfurt (am Main)\",\"Dusseldorf\",\"Berlin\",\"Bremen\",\"Liverpool\",\"Glasgow\",\"Cologne\",\"London\",\"Paris\",\"Graz\",\"Calgary\",\"Manchester\",\"Seattle\",\"Portland\",\"Vienna\",\"Minneapolis\",\"Salt Lake City\",\"Dublin\",\"Boston\",\"San Francisco\",\"Brussels\",\"Washington\",\"Madrid\",\"Omaha\",\"San Diego\",\"Singapore\",\"Denver\",\"Virginia Beach\",\"Raleigh\",\"Sacramento\",\"Barcelona\",\"Lisbon\",\"Des Moines\",\"Honolulu\",\"Budapest\",\"Colorado Springs\",\"Tampa\",\"Kansas City\",\"Charlotte\",\"New York\",\"Atlanta\",\"Milwaukee\",\"Austin\",\"Milan\",\"Pittsburgh\",\"Jacksonville\",\"Nashville\",\"Cincinnati\",\"Columbus\",\"Chicago\",\"Miami\",\"Baltimore\",\"Philadelphia\",\"Indianapolis\",\"Tucson\",\"Cleveland\",\"Oklahoma City\",\"Dallas\",\"Los Angeles\",\"Phoenix\",\"San Antonio\",\"Tulsa\",\"Wichita\",\"Louisville\",\"Detroit\",\"Albuquerque\",\"El Paso\",\"Houston\",\"Seoul\",\"Las Vegas\",\"New Orleans\",\"St. Louis\",\"Memphis\",\"Hong Kong\",\"Montevideo\",\"Buenos Aires\",\"Bangkok\",\"Sao Paulo\",\"Kuala Lumpur\",\"Dubai\",\"Cape Town\"],\"xaxis\":\"x\",\"y\":[0.4172,0.4486,0.3892,0.4486,0.4142,0.4486,0.37810000000000005,0.38789999999999997,0.36729999999999996,0.36729999999999996,0.442,0.38789999999999997,0.4155,0.3652,0.36729999999999996,0.37810000000000005,0.3625,0.36729999999999996,0.37810000000000005,0.36729999999999996,0.36729999999999996,0.36729999999999996,0.36729999999999996,0.435,0.435,0.36729999999999996,0.435,0.3774,0.3669,0.37810000000000005,0.435,0.4228,0.3849,0.3669,0.4114,0.4334,0.3871,0.4435,0.4476,0.42340000000000005,0.49770000000000003,0.3169,0.389,0.39520000000000005,0.5206000000000001,0.42579999999999996,0.3464,0.413,0.40340000000000004,0.3169,0.33159999999999995,0.4266,0.3543,0.30920000000000003,0.4031,0.3994,0.3948,0.3787,0.41960000000000003,0.4039,0.36479999999999996,0.4551,0.34990000000000004,0.3682,0.3661,0.3641,0.36200000000000004,0.3954,0.3918,0.36700000000000005,0.4155,0.4011,0.35960000000000003,0.3729,0.3131,0.3734,0.3969,0.3909,0.38880000000000003,0.3771,0.3513,0.3354,0.3301,0.3507,0.35719999999999996,0.3483,0.37329999999999997,0.37,0.3041,0.4157,0.3759,0.3181,0.40270000000000006,0.2729,0.2839,0.1684,0.2565,0.307,0.2889,0.2606],\"yaxis\":\"y\",\"type\":\"bar\"}],                        {\"template\":{\"data\":{\"histogram2dcontour\":[{\"type\":\"histogram2dcontour\",\"colorbar\":{\"outlinewidth\":0,\"ticks\":\"\"},\"colorscale\":[[0.0,\"#0d0887\"],[0.1111111111111111,\"#46039f\"],[0.2222222222222222,\"#7201a8\"],[0.3333333333333333,\"#9c179e\"],[0.4444444444444444,\"#bd3786\"],[0.5555555555555556,\"#d8576b\"],[0.6666666666666666,\"#ed7953\"],[0.7777777777777778,\"#fb9f3a\"],[0.8888888888888888,\"#fdca26\"],[1.0,\"#f0f921\"]]}],\"choropleth\":[{\"type\":\"choropleth\",\"colorbar\":{\"outlinewidth\":0,\"ticks\":\"\"}}],\"histogram2d\":[{\"type\":\"histogram2d\",\"colorbar\":{\"outlinewidth\":0,\"ticks\":\"\"},\"colorscale\":[[0.0,\"#0d0887\"],[0.1111111111111111,\"#46039f\"],[0.2222222222222222,\"#7201a8\"],[0.3333333333333333,\"#9c179e\"],[0.4444444444444444,\"#bd3786\"],[0.5555555555555556,\"#d8576b\"],[0.6666666666666666,\"#ed7953\"],[0.7777777777777778,\"#fb9f3a\"],[0.8888888888888888,\"#fdca26\"],[1.0,\"#f0f921\"]]}],\"heatmap\":[{\"type\":\"heatmap\",\"colorbar\":{\"outlinewidth\":0,\"ticks\":\"\"},\"colorscale\":[[0.0,\"#0d0887\"],[0.1111111111111111,\"#46039f\"],[0.2222222222222222,\"#7201a8\"],[0.3333333333333333,\"#9c179e\"],[0.4444444444444444,\"#bd3786\"],[0.5555555555555556,\"#d8576b\"],[0.6666666666666666,\"#ed7953\"],[0.7777777777777778,\"#fb9f3a\"],[0.8888888888888888,\"#fdca26\"],[1.0,\"#f0f921\"]]}],\"heatmapgl\":[{\"type\":\"heatmapgl\",\"colorbar\":{\"outlinewidth\":0,\"ticks\":\"\"},\"colorscale\":[[0.0,\"#0d0887\"],[0.1111111111111111,\"#46039f\"],[0.2222222222222222,\"#7201a8\"],[0.3333333333333333,\"#9c179e\"],[0.4444444444444444,\"#bd3786\"],[0.5555555555555556,\"#d8576b\"],[0.6666666666666666,\"#ed7953\"],[0.7777777777777778,\"#fb9f3a\"],[0.8888888888888888,\"#fdca26\"],[1.0,\"#f0f921\"]]}],\"contourcarpet\":[{\"type\":\"contourcarpet\",\"colorbar\":{\"outlinewidth\":0,\"ticks\":\"\"}}],\"contour\":[{\"type\":\"contour\",\"colorbar\":{\"outlinewidth\":0,\"ticks\":\"\"},\"colorscale\":[[0.0,\"#0d0887\"],[0.1111111111111111,\"#46039f\"],[0.2222222222222222,\"#7201a8\"],[0.3333333333333333,\"#9c179e\"],[0.4444444444444444,\"#bd3786\"],[0.5555555555555556,\"#d8576b\"],[0.6666666666666666,\"#ed7953\"],[0.7777777777777778,\"#fb9f3a\"],[0.8888888888888888,\"#fdca26\"],[1.0,\"#f0f921\"]]}],\"surface\":[{\"type\":\"surface\",\"colorbar\":{\"outlinewidth\":0,\"ticks\":\"\"},\"colorscale\":[[0.0,\"#0d0887\"],[0.1111111111111111,\"#46039f\"],[0.2222222222222222,\"#7201a8\"],[0.3333333333333333,\"#9c179e\"],[0.4444444444444444,\"#bd3786\"],[0.5555555555555556,\"#d8576b\"],[0.6666666666666666,\"#ed7953\"],[0.7777777777777778,\"#fb9f3a\"],[0.8888888888888888,\"#fdca26\"],[1.0,\"#f0f921\"]]}],\"mesh3d\":[{\"type\":\"mesh3d\",\"colorbar\":{\"outlinewidth\":0,\"ticks\":\"\"}}],\"scatter\":[{\"fillpattern\":{\"fillmode\":\"overlay\",\"size\":10,\"solidity\":0.2},\"type\":\"scatter\"}],\"parcoords\":[{\"type\":\"parcoords\",\"line\":{\"colorbar\":{\"outlinewidth\":0,\"ticks\":\"\"}}}],\"scatterpolargl\":[{\"type\":\"scatterpolargl\",\"marker\":{\"colorbar\":{\"outlinewidth\":0,\"ticks\":\"\"}}}],\"bar\":[{\"error_x\":{\"color\":\"#2a3f5f\"},\"error_y\":{\"color\":\"#2a3f5f\"},\"marker\":{\"line\":{\"color\":\"#E5ECF6\",\"width\":0.5},\"pattern\":{\"fillmode\":\"overlay\",\"size\":10,\"solidity\":0.2}},\"type\":\"bar\"}],\"scattergeo\":[{\"type\":\"scattergeo\",\"marker\":{\"colorbar\":{\"outlinewidth\":0,\"ticks\":\"\"}}}],\"scatterpolar\":[{\"type\":\"scatterpolar\",\"marker\":{\"colorbar\":{\"outlinewidth\":0,\"ticks\":\"\"}}}],\"histogram\":[{\"marker\":{\"pattern\":{\"fillmode\":\"overlay\",\"size\":10,\"solidity\":0.2}},\"type\":\"histogram\"}],\"scattergl\":[{\"type\":\"scattergl\",\"marker\":{\"colorbar\":{\"outlinewidth\":0,\"ticks\":\"\"}}}],\"scatter3d\":[{\"type\":\"scatter3d\",\"line\":{\"colorbar\":{\"outlinewidth\":0,\"ticks\":\"\"}},\"marker\":{\"colorbar\":{\"outlinewidth\":0,\"ticks\":\"\"}}}],\"scattermapbox\":[{\"type\":\"scattermapbox\",\"marker\":{\"colorbar\":{\"outlinewidth\":0,\"ticks\":\"\"}}}],\"scatterternary\":[{\"type\":\"scatterternary\",\"marker\":{\"colorbar\":{\"outlinewidth\":0,\"ticks\":\"\"}}}],\"scattercarpet\":[{\"type\":\"scattercarpet\",\"marker\":{\"colorbar\":{\"outlinewidth\":0,\"ticks\":\"\"}}}],\"carpet\":[{\"aaxis\":{\"endlinecolor\":\"#2a3f5f\",\"gridcolor\":\"white\",\"linecolor\":\"white\",\"minorgridcolor\":\"white\",\"startlinecolor\":\"#2a3f5f\"},\"baxis\":{\"endlinecolor\":\"#2a3f5f\",\"gridcolor\":\"white\",\"linecolor\":\"white\",\"minorgridcolor\":\"white\",\"startlinecolor\":\"#2a3f5f\"},\"type\":\"carpet\"}],\"table\":[{\"cells\":{\"fill\":{\"color\":\"#EBF0F8\"},\"line\":{\"color\":\"white\"}},\"header\":{\"fill\":{\"color\":\"#C8D4E3\"},\"line\":{\"color\":\"white\"}},\"type\":\"table\"}],\"barpolar\":[{\"marker\":{\"line\":{\"color\":\"#E5ECF6\",\"width\":0.5},\"pattern\":{\"fillmode\":\"overlay\",\"size\":10,\"solidity\":0.2}},\"type\":\"barpolar\"}],\"pie\":[{\"automargin\":true,\"type\":\"pie\"}]},\"layout\":{\"autotypenumbers\":\"strict\",\"colorway\":[\"#636efa\",\"#EF553B\",\"#00cc96\",\"#ab63fa\",\"#FFA15A\",\"#19d3f3\",\"#FF6692\",\"#B6E880\",\"#FF97FF\",\"#FECB52\"],\"font\":{\"color\":\"#2a3f5f\"},\"hovermode\":\"closest\",\"hoverlabel\":{\"align\":\"left\"},\"paper_bgcolor\":\"white\",\"plot_bgcolor\":\"#E5ECF6\",\"polar\":{\"bgcolor\":\"#E5ECF6\",\"angularaxis\":{\"gridcolor\":\"white\",\"linecolor\":\"white\",\"ticks\":\"\"},\"radialaxis\":{\"gridcolor\":\"white\",\"linecolor\":\"white\",\"ticks\":\"\"}},\"ternary\":{\"bgcolor\":\"#E5ECF6\",\"aaxis\":{\"gridcolor\":\"white\",\"linecolor\":\"white\",\"ticks\":\"\"},\"baxis\":{\"gridcolor\":\"white\",\"linecolor\":\"white\",\"ticks\":\"\"},\"caxis\":{\"gridcolor\":\"white\",\"linecolor\":\"white\",\"ticks\":\"\"}},\"coloraxis\":{\"colorbar\":{\"outlinewidth\":0,\"ticks\":\"\"}},\"colorscale\":{\"sequential\":[[0.0,\"#0d0887\"],[0.1111111111111111,\"#46039f\"],[0.2222222222222222,\"#7201a8\"],[0.3333333333333333,\"#9c179e\"],[0.4444444444444444,\"#bd3786\"],[0.5555555555555556,\"#d8576b\"],[0.6666666666666666,\"#ed7953\"],[0.7777777777777778,\"#fb9f3a\"],[0.8888888888888888,\"#fdca26\"],[1.0,\"#f0f921\"]],\"sequentialminus\":[[0.0,\"#0d0887\"],[0.1111111111111111,\"#46039f\"],[0.2222222222222222,\"#7201a8\"],[0.3333333333333333,\"#9c179e\"],[0.4444444444444444,\"#bd3786\"],[0.5555555555555556,\"#d8576b\"],[0.6666666666666666,\"#ed7953\"],[0.7777777777777778,\"#fb9f3a\"],[0.8888888888888888,\"#fdca26\"],[1.0,\"#f0f921\"]],\"diverging\":[[0,\"#8e0152\"],[0.1,\"#c51b7d\"],[0.2,\"#de77ae\"],[0.3,\"#f1b6da\"],[0.4,\"#fde0ef\"],[0.5,\"#f7f7f7\"],[0.6,\"#e6f5d0\"],[0.7,\"#b8e186\"],[0.8,\"#7fbc41\"],[0.9,\"#4d9221\"],[1,\"#276419\"]]},\"xaxis\":{\"gridcolor\":\"white\",\"linecolor\":\"white\",\"ticks\":\"\",\"title\":{\"standoff\":15},\"zerolinecolor\":\"white\",\"automargin\":true,\"zerolinewidth\":2},\"yaxis\":{\"gridcolor\":\"white\",\"linecolor\":\"white\",\"ticks\":\"\",\"title\":{\"standoff\":15},\"zerolinecolor\":\"white\",\"automargin\":true,\"zerolinewidth\":2},\"scene\":{\"xaxis\":{\"backgroundcolor\":\"#E5ECF6\",\"gridcolor\":\"white\",\"linecolor\":\"white\",\"showbackground\":true,\"ticks\":\"\",\"zerolinecolor\":\"white\",\"gridwidth\":2},\"yaxis\":{\"backgroundcolor\":\"#E5ECF6\",\"gridcolor\":\"white\",\"linecolor\":\"white\",\"showbackground\":true,\"ticks\":\"\",\"zerolinecolor\":\"white\",\"gridwidth\":2},\"zaxis\":{\"backgroundcolor\":\"#E5ECF6\",\"gridcolor\":\"white\",\"linecolor\":\"white\",\"showbackground\":true,\"ticks\":\"\",\"zerolinecolor\":\"white\",\"gridwidth\":2}},\"shapedefaults\":{\"line\":{\"color\":\"#2a3f5f\"}},\"annotationdefaults\":{\"arrowcolor\":\"#2a3f5f\",\"arrowhead\":0,\"arrowwidth\":1},\"geo\":{\"bgcolor\":\"white\",\"landcolor\":\"#E5ECF6\",\"subunitcolor\":\"white\",\"showland\":true,\"showlakes\":true,\"lakecolor\":\"white\"},\"title\":{\"x\":0.05},\"mapbox\":{\"style\":\"light\"}}},\"xaxis\":{\"anchor\":\"y\",\"domain\":[0.0,1.0],\"title\":{\"text\":\"city\"}},\"yaxis\":{\"anchor\":\"x\",\"domain\":[0.0,1.0],\"title\":{\"text\":\"Remote Jobs (%)\"}},\"legend\":{\"tracegroupgap\":0},\"title\":{\"text\":\"Percentage of Remote Jobs in Cities\"},\"barmode\":\"relative\"},                        {\"responsive\": true}                    ).then(function(){\n",
       "                            \n",
       "var gd = document.getElementById('6cb1fc4c-a73e-444e-a1d9-5670bd36f407');\n",
       "var x = new MutationObserver(function (mutations, observer) {{\n",
       "        var display = window.getComputedStyle(gd).display;\n",
       "        if (!display || display === 'none') {{\n",
       "            console.log([gd, 'removed!']);\n",
       "            Plotly.purge(gd);\n",
       "            observer.disconnect();\n",
       "        }}\n",
       "}});\n",
       "\n",
       "// Listen for the removal of the full notebook cells\n",
       "var notebookContainer = gd.closest('#notebook-container');\n",
       "if (notebookContainer) {{\n",
       "    x.observe(notebookContainer, {childList: true});\n",
       "}}\n",
       "\n",
       "// Listen for the clearing of the current output cell\n",
       "var outputEl = gd.closest('.output');\n",
       "if (outputEl) {{\n",
       "    x.observe(outputEl, {childList: true});\n",
       "}}\n",
       "\n",
       "                        })                };                });            </script>        </div>"
      ]
     },
     "metadata": {},
     "output_type": "display_data"
    },
    {
     "data": {
      "application/vnd.plotly.v1+json": {
       "config": {
        "plotlyServerURL": "https://plot.ly"
       },
       "data": [
        {
         "alignmentgroup": "True",
         "hovertemplate": "city=%{x}<br>Overworked Population (%)=%{y}<extra></extra>",
         "legendgroup": "",
         "marker": {
          "color": "#636efa",
          "pattern": {
           "shape": ""
          }
         },
         "name": "",
         "offsetgroup": "",
         "orientation": "v",
         "showlegend": false,
         "textposition": "auto",
         "type": "bar",
         "x": [
          "Oslo",
          "Bern",
          "Helsinki",
          "Zurich",
          "Copenhagen",
          "Geneva",
          "Ottawa",
          "Sydney",
          "Stuttgart",
          "Munich",
          "Stockholm",
          "Melbourne",
          "Amsterdam",
          "Tokyo",
          "Leipzig",
          "Vancouver",
          "Auckland",
          "Hamburg",
          "Toronto",
          "Frankfurt (am Main)",
          "Dusseldorf",
          "Berlin",
          "Bremen",
          "Liverpool",
          "Glasgow",
          "Cologne",
          "London",
          "Paris",
          "Graz",
          "Calgary",
          "Manchester",
          "Seattle",
          "Portland",
          "Vienna",
          "Minneapolis",
          "Salt Lake City",
          "Dublin",
          "Boston",
          "San Francisco",
          "Brussels",
          "Washington",
          "Madrid",
          "Omaha",
          "San Diego",
          "Singapore",
          "Denver",
          "Virginia Beach",
          "Raleigh",
          "Sacramento",
          "Barcelona",
          "Lisbon",
          "Des Moines",
          "Honolulu",
          "Budapest",
          "Colorado Springs",
          "Tampa",
          "Kansas City",
          "Charlotte",
          "New York",
          "Atlanta",
          "Milwaukee",
          "Austin",
          "Milan",
          "Pittsburgh",
          "Jacksonville",
          "Nashville",
          "Cincinnati",
          "Columbus",
          "Chicago",
          "Miami",
          "Baltimore",
          "Philadelphia",
          "Indianapolis",
          "Tucson",
          "Cleveland",
          "Oklahoma City",
          "Dallas",
          "Los Angeles",
          "Phoenix",
          "San Antonio",
          "Tulsa",
          "Wichita",
          "Louisville",
          "Detroit",
          "Albuquerque",
          "El Paso",
          "Houston",
          "Seoul",
          "Las Vegas",
          "New Orleans",
          "St. Louis",
          "Memphis",
          "Hong Kong",
          "Montevideo",
          "Buenos Aires",
          "Bangkok",
          "Sao Paulo",
          "Kuala Lumpur",
          "Dubai",
          "Cape Town"
         ],
         "xaxis": "x",
         "y": [
          0.11199999999999999,
          0.114,
          0.127,
          0.11900000000000001,
          0.105,
          0.11900000000000001,
          0.10099999999999999,
          0.09699999999999999,
          0.11699999999999999,
          0.11900000000000001,
          0.127,
          0.09699999999999999,
          0.086,
          0.154,
          0.125,
          0.10099999999999999,
          0.102,
          0.11699999999999999,
          0.10099999999999999,
          0.11599999999999999,
          0.115,
          0.12,
          0.10800000000000001,
          0.128,
          0.121,
          0.111,
          0.138,
          0.138,
          0.125,
          0.10099999999999999,
          0.129,
          0.131,
          0.125,
          0.125,
          0.13,
          0.133,
          0.127,
          0.12300000000000001,
          0.129,
          0.129,
          0.129,
          0.133,
          0.122,
          0.125,
          0.16899999999999998,
          0.124,
          0.11699999999999999,
          0.125,
          0.122,
          0.131,
          0.147,
          0.134,
          0.11800000000000001,
          0.14400000000000002,
          0.11900000000000001,
          0.125,
          0.11699999999999999,
          0.125,
          0.11900000000000001,
          0.126,
          0.121,
          0.135,
          0.132,
          0.12,
          0.125,
          0.135,
          0.124,
          0.127,
          0.125,
          0.13,
          0.12,
          0.125,
          0.132,
          0.113,
          0.124,
          0.124,
          0.138,
          0.128,
          0.133,
          0.13,
          0.132,
          0.127,
          0.13,
          0.125,
          0.11599999999999999,
          0.115,
          0.13699999999999998,
          0.139,
          0.125,
          0.133,
          0.128,
          0.132,
          0.179,
          0.163,
          0.08800000000000001,
          0.151,
          0.11800000000000001,
          0.171,
          0.23399999999999999,
          0.14800000000000002
         ],
         "yaxis": "y"
        }
       ],
       "layout": {
        "barmode": "relative",
        "legend": {
         "tracegroupgap": 0
        },
        "template": {
         "data": {
          "bar": [
           {
            "error_x": {
             "color": "#2a3f5f"
            },
            "error_y": {
             "color": "#2a3f5f"
            },
            "marker": {
             "line": {
              "color": "#E5ECF6",
              "width": 0.5
             },
             "pattern": {
              "fillmode": "overlay",
              "size": 10,
              "solidity": 0.2
             }
            },
            "type": "bar"
           }
          ],
          "barpolar": [
           {
            "marker": {
             "line": {
              "color": "#E5ECF6",
              "width": 0.5
             },
             "pattern": {
              "fillmode": "overlay",
              "size": 10,
              "solidity": 0.2
             }
            },
            "type": "barpolar"
           }
          ],
          "carpet": [
           {
            "aaxis": {
             "endlinecolor": "#2a3f5f",
             "gridcolor": "white",
             "linecolor": "white",
             "minorgridcolor": "white",
             "startlinecolor": "#2a3f5f"
            },
            "baxis": {
             "endlinecolor": "#2a3f5f",
             "gridcolor": "white",
             "linecolor": "white",
             "minorgridcolor": "white",
             "startlinecolor": "#2a3f5f"
            },
            "type": "carpet"
           }
          ],
          "choropleth": [
           {
            "colorbar": {
             "outlinewidth": 0,
             "ticks": ""
            },
            "type": "choropleth"
           }
          ],
          "contour": [
           {
            "colorbar": {
             "outlinewidth": 0,
             "ticks": ""
            },
            "colorscale": [
             [
              0,
              "#0d0887"
             ],
             [
              0.1111111111111111,
              "#46039f"
             ],
             [
              0.2222222222222222,
              "#7201a8"
             ],
             [
              0.3333333333333333,
              "#9c179e"
             ],
             [
              0.4444444444444444,
              "#bd3786"
             ],
             [
              0.5555555555555556,
              "#d8576b"
             ],
             [
              0.6666666666666666,
              "#ed7953"
             ],
             [
              0.7777777777777778,
              "#fb9f3a"
             ],
             [
              0.8888888888888888,
              "#fdca26"
             ],
             [
              1,
              "#f0f921"
             ]
            ],
            "type": "contour"
           }
          ],
          "contourcarpet": [
           {
            "colorbar": {
             "outlinewidth": 0,
             "ticks": ""
            },
            "type": "contourcarpet"
           }
          ],
          "heatmap": [
           {
            "colorbar": {
             "outlinewidth": 0,
             "ticks": ""
            },
            "colorscale": [
             [
              0,
              "#0d0887"
             ],
             [
              0.1111111111111111,
              "#46039f"
             ],
             [
              0.2222222222222222,
              "#7201a8"
             ],
             [
              0.3333333333333333,
              "#9c179e"
             ],
             [
              0.4444444444444444,
              "#bd3786"
             ],
             [
              0.5555555555555556,
              "#d8576b"
             ],
             [
              0.6666666666666666,
              "#ed7953"
             ],
             [
              0.7777777777777778,
              "#fb9f3a"
             ],
             [
              0.8888888888888888,
              "#fdca26"
             ],
             [
              1,
              "#f0f921"
             ]
            ],
            "type": "heatmap"
           }
          ],
          "heatmapgl": [
           {
            "colorbar": {
             "outlinewidth": 0,
             "ticks": ""
            },
            "colorscale": [
             [
              0,
              "#0d0887"
             ],
             [
              0.1111111111111111,
              "#46039f"
             ],
             [
              0.2222222222222222,
              "#7201a8"
             ],
             [
              0.3333333333333333,
              "#9c179e"
             ],
             [
              0.4444444444444444,
              "#bd3786"
             ],
             [
              0.5555555555555556,
              "#d8576b"
             ],
             [
              0.6666666666666666,
              "#ed7953"
             ],
             [
              0.7777777777777778,
              "#fb9f3a"
             ],
             [
              0.8888888888888888,
              "#fdca26"
             ],
             [
              1,
              "#f0f921"
             ]
            ],
            "type": "heatmapgl"
           }
          ],
          "histogram": [
           {
            "marker": {
             "pattern": {
              "fillmode": "overlay",
              "size": 10,
              "solidity": 0.2
             }
            },
            "type": "histogram"
           }
          ],
          "histogram2d": [
           {
            "colorbar": {
             "outlinewidth": 0,
             "ticks": ""
            },
            "colorscale": [
             [
              0,
              "#0d0887"
             ],
             [
              0.1111111111111111,
              "#46039f"
             ],
             [
              0.2222222222222222,
              "#7201a8"
             ],
             [
              0.3333333333333333,
              "#9c179e"
             ],
             [
              0.4444444444444444,
              "#bd3786"
             ],
             [
              0.5555555555555556,
              "#d8576b"
             ],
             [
              0.6666666666666666,
              "#ed7953"
             ],
             [
              0.7777777777777778,
              "#fb9f3a"
             ],
             [
              0.8888888888888888,
              "#fdca26"
             ],
             [
              1,
              "#f0f921"
             ]
            ],
            "type": "histogram2d"
           }
          ],
          "histogram2dcontour": [
           {
            "colorbar": {
             "outlinewidth": 0,
             "ticks": ""
            },
            "colorscale": [
             [
              0,
              "#0d0887"
             ],
             [
              0.1111111111111111,
              "#46039f"
             ],
             [
              0.2222222222222222,
              "#7201a8"
             ],
             [
              0.3333333333333333,
              "#9c179e"
             ],
             [
              0.4444444444444444,
              "#bd3786"
             ],
             [
              0.5555555555555556,
              "#d8576b"
             ],
             [
              0.6666666666666666,
              "#ed7953"
             ],
             [
              0.7777777777777778,
              "#fb9f3a"
             ],
             [
              0.8888888888888888,
              "#fdca26"
             ],
             [
              1,
              "#f0f921"
             ]
            ],
            "type": "histogram2dcontour"
           }
          ],
          "mesh3d": [
           {
            "colorbar": {
             "outlinewidth": 0,
             "ticks": ""
            },
            "type": "mesh3d"
           }
          ],
          "parcoords": [
           {
            "line": {
             "colorbar": {
              "outlinewidth": 0,
              "ticks": ""
             }
            },
            "type": "parcoords"
           }
          ],
          "pie": [
           {
            "automargin": true,
            "type": "pie"
           }
          ],
          "scatter": [
           {
            "fillpattern": {
             "fillmode": "overlay",
             "size": 10,
             "solidity": 0.2
            },
            "type": "scatter"
           }
          ],
          "scatter3d": [
           {
            "line": {
             "colorbar": {
              "outlinewidth": 0,
              "ticks": ""
             }
            },
            "marker": {
             "colorbar": {
              "outlinewidth": 0,
              "ticks": ""
             }
            },
            "type": "scatter3d"
           }
          ],
          "scattercarpet": [
           {
            "marker": {
             "colorbar": {
              "outlinewidth": 0,
              "ticks": ""
             }
            },
            "type": "scattercarpet"
           }
          ],
          "scattergeo": [
           {
            "marker": {
             "colorbar": {
              "outlinewidth": 0,
              "ticks": ""
             }
            },
            "type": "scattergeo"
           }
          ],
          "scattergl": [
           {
            "marker": {
             "colorbar": {
              "outlinewidth": 0,
              "ticks": ""
             }
            },
            "type": "scattergl"
           }
          ],
          "scattermapbox": [
           {
            "marker": {
             "colorbar": {
              "outlinewidth": 0,
              "ticks": ""
             }
            },
            "type": "scattermapbox"
           }
          ],
          "scatterpolar": [
           {
            "marker": {
             "colorbar": {
              "outlinewidth": 0,
              "ticks": ""
             }
            },
            "type": "scatterpolar"
           }
          ],
          "scatterpolargl": [
           {
            "marker": {
             "colorbar": {
              "outlinewidth": 0,
              "ticks": ""
             }
            },
            "type": "scatterpolargl"
           }
          ],
          "scatterternary": [
           {
            "marker": {
             "colorbar": {
              "outlinewidth": 0,
              "ticks": ""
             }
            },
            "type": "scatterternary"
           }
          ],
          "surface": [
           {
            "colorbar": {
             "outlinewidth": 0,
             "ticks": ""
            },
            "colorscale": [
             [
              0,
              "#0d0887"
             ],
             [
              0.1111111111111111,
              "#46039f"
             ],
             [
              0.2222222222222222,
              "#7201a8"
             ],
             [
              0.3333333333333333,
              "#9c179e"
             ],
             [
              0.4444444444444444,
              "#bd3786"
             ],
             [
              0.5555555555555556,
              "#d8576b"
             ],
             [
              0.6666666666666666,
              "#ed7953"
             ],
             [
              0.7777777777777778,
              "#fb9f3a"
             ],
             [
              0.8888888888888888,
              "#fdca26"
             ],
             [
              1,
              "#f0f921"
             ]
            ],
            "type": "surface"
           }
          ],
          "table": [
           {
            "cells": {
             "fill": {
              "color": "#EBF0F8"
             },
             "line": {
              "color": "white"
             }
            },
            "header": {
             "fill": {
              "color": "#C8D4E3"
             },
             "line": {
              "color": "white"
             }
            },
            "type": "table"
           }
          ]
         },
         "layout": {
          "annotationdefaults": {
           "arrowcolor": "#2a3f5f",
           "arrowhead": 0,
           "arrowwidth": 1
          },
          "autotypenumbers": "strict",
          "coloraxis": {
           "colorbar": {
            "outlinewidth": 0,
            "ticks": ""
           }
          },
          "colorscale": {
           "diverging": [
            [
             0,
             "#8e0152"
            ],
            [
             0.1,
             "#c51b7d"
            ],
            [
             0.2,
             "#de77ae"
            ],
            [
             0.3,
             "#f1b6da"
            ],
            [
             0.4,
             "#fde0ef"
            ],
            [
             0.5,
             "#f7f7f7"
            ],
            [
             0.6,
             "#e6f5d0"
            ],
            [
             0.7,
             "#b8e186"
            ],
            [
             0.8,
             "#7fbc41"
            ],
            [
             0.9,
             "#4d9221"
            ],
            [
             1,
             "#276419"
            ]
           ],
           "sequential": [
            [
             0,
             "#0d0887"
            ],
            [
             0.1111111111111111,
             "#46039f"
            ],
            [
             0.2222222222222222,
             "#7201a8"
            ],
            [
             0.3333333333333333,
             "#9c179e"
            ],
            [
             0.4444444444444444,
             "#bd3786"
            ],
            [
             0.5555555555555556,
             "#d8576b"
            ],
            [
             0.6666666666666666,
             "#ed7953"
            ],
            [
             0.7777777777777778,
             "#fb9f3a"
            ],
            [
             0.8888888888888888,
             "#fdca26"
            ],
            [
             1,
             "#f0f921"
            ]
           ],
           "sequentialminus": [
            [
             0,
             "#0d0887"
            ],
            [
             0.1111111111111111,
             "#46039f"
            ],
            [
             0.2222222222222222,
             "#7201a8"
            ],
            [
             0.3333333333333333,
             "#9c179e"
            ],
            [
             0.4444444444444444,
             "#bd3786"
            ],
            [
             0.5555555555555556,
             "#d8576b"
            ],
            [
             0.6666666666666666,
             "#ed7953"
            ],
            [
             0.7777777777777778,
             "#fb9f3a"
            ],
            [
             0.8888888888888888,
             "#fdca26"
            ],
            [
             1,
             "#f0f921"
            ]
           ]
          },
          "colorway": [
           "#636efa",
           "#EF553B",
           "#00cc96",
           "#ab63fa",
           "#FFA15A",
           "#19d3f3",
           "#FF6692",
           "#B6E880",
           "#FF97FF",
           "#FECB52"
          ],
          "font": {
           "color": "#2a3f5f"
          },
          "geo": {
           "bgcolor": "white",
           "lakecolor": "white",
           "landcolor": "#E5ECF6",
           "showlakes": true,
           "showland": true,
           "subunitcolor": "white"
          },
          "hoverlabel": {
           "align": "left"
          },
          "hovermode": "closest",
          "mapbox": {
           "style": "light"
          },
          "paper_bgcolor": "white",
          "plot_bgcolor": "#E5ECF6",
          "polar": {
           "angularaxis": {
            "gridcolor": "white",
            "linecolor": "white",
            "ticks": ""
           },
           "bgcolor": "#E5ECF6",
           "radialaxis": {
            "gridcolor": "white",
            "linecolor": "white",
            "ticks": ""
           }
          },
          "scene": {
           "xaxis": {
            "backgroundcolor": "#E5ECF6",
            "gridcolor": "white",
            "gridwidth": 2,
            "linecolor": "white",
            "showbackground": true,
            "ticks": "",
            "zerolinecolor": "white"
           },
           "yaxis": {
            "backgroundcolor": "#E5ECF6",
            "gridcolor": "white",
            "gridwidth": 2,
            "linecolor": "white",
            "showbackground": true,
            "ticks": "",
            "zerolinecolor": "white"
           },
           "zaxis": {
            "backgroundcolor": "#E5ECF6",
            "gridcolor": "white",
            "gridwidth": 2,
            "linecolor": "white",
            "showbackground": true,
            "ticks": "",
            "zerolinecolor": "white"
           }
          },
          "shapedefaults": {
           "line": {
            "color": "#2a3f5f"
           }
          },
          "ternary": {
           "aaxis": {
            "gridcolor": "white",
            "linecolor": "white",
            "ticks": ""
           },
           "baxis": {
            "gridcolor": "white",
            "linecolor": "white",
            "ticks": ""
           },
           "bgcolor": "#E5ECF6",
           "caxis": {
            "gridcolor": "white",
            "linecolor": "white",
            "ticks": ""
           }
          },
          "title": {
           "x": 0.05
          },
          "xaxis": {
           "automargin": true,
           "gridcolor": "white",
           "linecolor": "white",
           "ticks": "",
           "title": {
            "standoff": 15
           },
           "zerolinecolor": "white",
           "zerolinewidth": 2
          },
          "yaxis": {
           "automargin": true,
           "gridcolor": "white",
           "linecolor": "white",
           "ticks": "",
           "title": {
            "standoff": 15
           },
           "zerolinecolor": "white",
           "zerolinewidth": 2
          }
         }
        },
        "title": {
         "text": "Percentage of Overworked Population in Cities"
        },
        "xaxis": {
         "anchor": "y",
         "domain": [
          0,
          1
         ],
         "title": {
          "text": "city"
         }
        },
        "yaxis": {
         "anchor": "x",
         "domain": [
          0,
          1
         ],
         "title": {
          "text": "Overworked Population (%)"
         }
        }
       }
      },
      "text/html": [
       "<div>                            <div id=\"f3a42305-3e6a-4717-9c92-36ae34790313\" class=\"plotly-graph-div\" style=\"height:525px; width:100%;\"></div>            <script type=\"text/javascript\">                require([\"plotly\"], function(Plotly) {                    window.PLOTLYENV=window.PLOTLYENV || {};                                    if (document.getElementById(\"f3a42305-3e6a-4717-9c92-36ae34790313\")) {                    Plotly.newPlot(                        \"f3a42305-3e6a-4717-9c92-36ae34790313\",                        [{\"alignmentgroup\":\"True\",\"hovertemplate\":\"city=%{x}\\u003cbr\\u003eOverworked Population (%)=%{y}\\u003cextra\\u003e\\u003c\\u002fextra\\u003e\",\"legendgroup\":\"\",\"marker\":{\"color\":\"#636efa\",\"pattern\":{\"shape\":\"\"}},\"name\":\"\",\"offsetgroup\":\"\",\"orientation\":\"v\",\"showlegend\":false,\"textposition\":\"auto\",\"x\":[\"Oslo\",\"Bern\",\"Helsinki\",\"Zurich\",\"Copenhagen\",\"Geneva\",\"Ottawa\",\"Sydney\",\"Stuttgart\",\"Munich\",\"Stockholm\",\"Melbourne\",\"Amsterdam\",\"Tokyo\",\"Leipzig\",\"Vancouver\",\"Auckland\",\"Hamburg\",\"Toronto\",\"Frankfurt (am Main)\",\"Dusseldorf\",\"Berlin\",\"Bremen\",\"Liverpool\",\"Glasgow\",\"Cologne\",\"London\",\"Paris\",\"Graz\",\"Calgary\",\"Manchester\",\"Seattle\",\"Portland\",\"Vienna\",\"Minneapolis\",\"Salt Lake City\",\"Dublin\",\"Boston\",\"San Francisco\",\"Brussels\",\"Washington\",\"Madrid\",\"Omaha\",\"San Diego\",\"Singapore\",\"Denver\",\"Virginia Beach\",\"Raleigh\",\"Sacramento\",\"Barcelona\",\"Lisbon\",\"Des Moines\",\"Honolulu\",\"Budapest\",\"Colorado Springs\",\"Tampa\",\"Kansas City\",\"Charlotte\",\"New York\",\"Atlanta\",\"Milwaukee\",\"Austin\",\"Milan\",\"Pittsburgh\",\"Jacksonville\",\"Nashville\",\"Cincinnati\",\"Columbus\",\"Chicago\",\"Miami\",\"Baltimore\",\"Philadelphia\",\"Indianapolis\",\"Tucson\",\"Cleveland\",\"Oklahoma City\",\"Dallas\",\"Los Angeles\",\"Phoenix\",\"San Antonio\",\"Tulsa\",\"Wichita\",\"Louisville\",\"Detroit\",\"Albuquerque\",\"El Paso\",\"Houston\",\"Seoul\",\"Las Vegas\",\"New Orleans\",\"St. Louis\",\"Memphis\",\"Hong Kong\",\"Montevideo\",\"Buenos Aires\",\"Bangkok\",\"Sao Paulo\",\"Kuala Lumpur\",\"Dubai\",\"Cape Town\"],\"xaxis\":\"x\",\"y\":[0.11199999999999999,0.114,0.127,0.11900000000000001,0.105,0.11900000000000001,0.10099999999999999,0.09699999999999999,0.11699999999999999,0.11900000000000001,0.127,0.09699999999999999,0.086,0.154,0.125,0.10099999999999999,0.102,0.11699999999999999,0.10099999999999999,0.11599999999999999,0.115,0.12,0.10800000000000001,0.128,0.121,0.111,0.138,0.138,0.125,0.10099999999999999,0.129,0.131,0.125,0.125,0.13,0.133,0.127,0.12300000000000001,0.129,0.129,0.129,0.133,0.122,0.125,0.16899999999999998,0.124,0.11699999999999999,0.125,0.122,0.131,0.147,0.134,0.11800000000000001,0.14400000000000002,0.11900000000000001,0.125,0.11699999999999999,0.125,0.11900000000000001,0.126,0.121,0.135,0.132,0.12,0.125,0.135,0.124,0.127,0.125,0.13,0.12,0.125,0.132,0.113,0.124,0.124,0.138,0.128,0.133,0.13,0.132,0.127,0.13,0.125,0.11599999999999999,0.115,0.13699999999999998,0.139,0.125,0.133,0.128,0.132,0.179,0.163,0.08800000000000001,0.151,0.11800000000000001,0.171,0.23399999999999999,0.14800000000000002],\"yaxis\":\"y\",\"type\":\"bar\"}],                        {\"template\":{\"data\":{\"histogram2dcontour\":[{\"type\":\"histogram2dcontour\",\"colorbar\":{\"outlinewidth\":0,\"ticks\":\"\"},\"colorscale\":[[0.0,\"#0d0887\"],[0.1111111111111111,\"#46039f\"],[0.2222222222222222,\"#7201a8\"],[0.3333333333333333,\"#9c179e\"],[0.4444444444444444,\"#bd3786\"],[0.5555555555555556,\"#d8576b\"],[0.6666666666666666,\"#ed7953\"],[0.7777777777777778,\"#fb9f3a\"],[0.8888888888888888,\"#fdca26\"],[1.0,\"#f0f921\"]]}],\"choropleth\":[{\"type\":\"choropleth\",\"colorbar\":{\"outlinewidth\":0,\"ticks\":\"\"}}],\"histogram2d\":[{\"type\":\"histogram2d\",\"colorbar\":{\"outlinewidth\":0,\"ticks\":\"\"},\"colorscale\":[[0.0,\"#0d0887\"],[0.1111111111111111,\"#46039f\"],[0.2222222222222222,\"#7201a8\"],[0.3333333333333333,\"#9c179e\"],[0.4444444444444444,\"#bd3786\"],[0.5555555555555556,\"#d8576b\"],[0.6666666666666666,\"#ed7953\"],[0.7777777777777778,\"#fb9f3a\"],[0.8888888888888888,\"#fdca26\"],[1.0,\"#f0f921\"]]}],\"heatmap\":[{\"type\":\"heatmap\",\"colorbar\":{\"outlinewidth\":0,\"ticks\":\"\"},\"colorscale\":[[0.0,\"#0d0887\"],[0.1111111111111111,\"#46039f\"],[0.2222222222222222,\"#7201a8\"],[0.3333333333333333,\"#9c179e\"],[0.4444444444444444,\"#bd3786\"],[0.5555555555555556,\"#d8576b\"],[0.6666666666666666,\"#ed7953\"],[0.7777777777777778,\"#fb9f3a\"],[0.8888888888888888,\"#fdca26\"],[1.0,\"#f0f921\"]]}],\"heatmapgl\":[{\"type\":\"heatmapgl\",\"colorbar\":{\"outlinewidth\":0,\"ticks\":\"\"},\"colorscale\":[[0.0,\"#0d0887\"],[0.1111111111111111,\"#46039f\"],[0.2222222222222222,\"#7201a8\"],[0.3333333333333333,\"#9c179e\"],[0.4444444444444444,\"#bd3786\"],[0.5555555555555556,\"#d8576b\"],[0.6666666666666666,\"#ed7953\"],[0.7777777777777778,\"#fb9f3a\"],[0.8888888888888888,\"#fdca26\"],[1.0,\"#f0f921\"]]}],\"contourcarpet\":[{\"type\":\"contourcarpet\",\"colorbar\":{\"outlinewidth\":0,\"ticks\":\"\"}}],\"contour\":[{\"type\":\"contour\",\"colorbar\":{\"outlinewidth\":0,\"ticks\":\"\"},\"colorscale\":[[0.0,\"#0d0887\"],[0.1111111111111111,\"#46039f\"],[0.2222222222222222,\"#7201a8\"],[0.3333333333333333,\"#9c179e\"],[0.4444444444444444,\"#bd3786\"],[0.5555555555555556,\"#d8576b\"],[0.6666666666666666,\"#ed7953\"],[0.7777777777777778,\"#fb9f3a\"],[0.8888888888888888,\"#fdca26\"],[1.0,\"#f0f921\"]]}],\"surface\":[{\"type\":\"surface\",\"colorbar\":{\"outlinewidth\":0,\"ticks\":\"\"},\"colorscale\":[[0.0,\"#0d0887\"],[0.1111111111111111,\"#46039f\"],[0.2222222222222222,\"#7201a8\"],[0.3333333333333333,\"#9c179e\"],[0.4444444444444444,\"#bd3786\"],[0.5555555555555556,\"#d8576b\"],[0.6666666666666666,\"#ed7953\"],[0.7777777777777778,\"#fb9f3a\"],[0.8888888888888888,\"#fdca26\"],[1.0,\"#f0f921\"]]}],\"mesh3d\":[{\"type\":\"mesh3d\",\"colorbar\":{\"outlinewidth\":0,\"ticks\":\"\"}}],\"scatter\":[{\"fillpattern\":{\"fillmode\":\"overlay\",\"size\":10,\"solidity\":0.2},\"type\":\"scatter\"}],\"parcoords\":[{\"type\":\"parcoords\",\"line\":{\"colorbar\":{\"outlinewidth\":0,\"ticks\":\"\"}}}],\"scatterpolargl\":[{\"type\":\"scatterpolargl\",\"marker\":{\"colorbar\":{\"outlinewidth\":0,\"ticks\":\"\"}}}],\"bar\":[{\"error_x\":{\"color\":\"#2a3f5f\"},\"error_y\":{\"color\":\"#2a3f5f\"},\"marker\":{\"line\":{\"color\":\"#E5ECF6\",\"width\":0.5},\"pattern\":{\"fillmode\":\"overlay\",\"size\":10,\"solidity\":0.2}},\"type\":\"bar\"}],\"scattergeo\":[{\"type\":\"scattergeo\",\"marker\":{\"colorbar\":{\"outlinewidth\":0,\"ticks\":\"\"}}}],\"scatterpolar\":[{\"type\":\"scatterpolar\",\"marker\":{\"colorbar\":{\"outlinewidth\":0,\"ticks\":\"\"}}}],\"histogram\":[{\"marker\":{\"pattern\":{\"fillmode\":\"overlay\",\"size\":10,\"solidity\":0.2}},\"type\":\"histogram\"}],\"scattergl\":[{\"type\":\"scattergl\",\"marker\":{\"colorbar\":{\"outlinewidth\":0,\"ticks\":\"\"}}}],\"scatter3d\":[{\"type\":\"scatter3d\",\"line\":{\"colorbar\":{\"outlinewidth\":0,\"ticks\":\"\"}},\"marker\":{\"colorbar\":{\"outlinewidth\":0,\"ticks\":\"\"}}}],\"scattermapbox\":[{\"type\":\"scattermapbox\",\"marker\":{\"colorbar\":{\"outlinewidth\":0,\"ticks\":\"\"}}}],\"scatterternary\":[{\"type\":\"scatterternary\",\"marker\":{\"colorbar\":{\"outlinewidth\":0,\"ticks\":\"\"}}}],\"scattercarpet\":[{\"type\":\"scattercarpet\",\"marker\":{\"colorbar\":{\"outlinewidth\":0,\"ticks\":\"\"}}}],\"carpet\":[{\"aaxis\":{\"endlinecolor\":\"#2a3f5f\",\"gridcolor\":\"white\",\"linecolor\":\"white\",\"minorgridcolor\":\"white\",\"startlinecolor\":\"#2a3f5f\"},\"baxis\":{\"endlinecolor\":\"#2a3f5f\",\"gridcolor\":\"white\",\"linecolor\":\"white\",\"minorgridcolor\":\"white\",\"startlinecolor\":\"#2a3f5f\"},\"type\":\"carpet\"}],\"table\":[{\"cells\":{\"fill\":{\"color\":\"#EBF0F8\"},\"line\":{\"color\":\"white\"}},\"header\":{\"fill\":{\"color\":\"#C8D4E3\"},\"line\":{\"color\":\"white\"}},\"type\":\"table\"}],\"barpolar\":[{\"marker\":{\"line\":{\"color\":\"#E5ECF6\",\"width\":0.5},\"pattern\":{\"fillmode\":\"overlay\",\"size\":10,\"solidity\":0.2}},\"type\":\"barpolar\"}],\"pie\":[{\"automargin\":true,\"type\":\"pie\"}]},\"layout\":{\"autotypenumbers\":\"strict\",\"colorway\":[\"#636efa\",\"#EF553B\",\"#00cc96\",\"#ab63fa\",\"#FFA15A\",\"#19d3f3\",\"#FF6692\",\"#B6E880\",\"#FF97FF\",\"#FECB52\"],\"font\":{\"color\":\"#2a3f5f\"},\"hovermode\":\"closest\",\"hoverlabel\":{\"align\":\"left\"},\"paper_bgcolor\":\"white\",\"plot_bgcolor\":\"#E5ECF6\",\"polar\":{\"bgcolor\":\"#E5ECF6\",\"angularaxis\":{\"gridcolor\":\"white\",\"linecolor\":\"white\",\"ticks\":\"\"},\"radialaxis\":{\"gridcolor\":\"white\",\"linecolor\":\"white\",\"ticks\":\"\"}},\"ternary\":{\"bgcolor\":\"#E5ECF6\",\"aaxis\":{\"gridcolor\":\"white\",\"linecolor\":\"white\",\"ticks\":\"\"},\"baxis\":{\"gridcolor\":\"white\",\"linecolor\":\"white\",\"ticks\":\"\"},\"caxis\":{\"gridcolor\":\"white\",\"linecolor\":\"white\",\"ticks\":\"\"}},\"coloraxis\":{\"colorbar\":{\"outlinewidth\":0,\"ticks\":\"\"}},\"colorscale\":{\"sequential\":[[0.0,\"#0d0887\"],[0.1111111111111111,\"#46039f\"],[0.2222222222222222,\"#7201a8\"],[0.3333333333333333,\"#9c179e\"],[0.4444444444444444,\"#bd3786\"],[0.5555555555555556,\"#d8576b\"],[0.6666666666666666,\"#ed7953\"],[0.7777777777777778,\"#fb9f3a\"],[0.8888888888888888,\"#fdca26\"],[1.0,\"#f0f921\"]],\"sequentialminus\":[[0.0,\"#0d0887\"],[0.1111111111111111,\"#46039f\"],[0.2222222222222222,\"#7201a8\"],[0.3333333333333333,\"#9c179e\"],[0.4444444444444444,\"#bd3786\"],[0.5555555555555556,\"#d8576b\"],[0.6666666666666666,\"#ed7953\"],[0.7777777777777778,\"#fb9f3a\"],[0.8888888888888888,\"#fdca26\"],[1.0,\"#f0f921\"]],\"diverging\":[[0,\"#8e0152\"],[0.1,\"#c51b7d\"],[0.2,\"#de77ae\"],[0.3,\"#f1b6da\"],[0.4,\"#fde0ef\"],[0.5,\"#f7f7f7\"],[0.6,\"#e6f5d0\"],[0.7,\"#b8e186\"],[0.8,\"#7fbc41\"],[0.9,\"#4d9221\"],[1,\"#276419\"]]},\"xaxis\":{\"gridcolor\":\"white\",\"linecolor\":\"white\",\"ticks\":\"\",\"title\":{\"standoff\":15},\"zerolinecolor\":\"white\",\"automargin\":true,\"zerolinewidth\":2},\"yaxis\":{\"gridcolor\":\"white\",\"linecolor\":\"white\",\"ticks\":\"\",\"title\":{\"standoff\":15},\"zerolinecolor\":\"white\",\"automargin\":true,\"zerolinewidth\":2},\"scene\":{\"xaxis\":{\"backgroundcolor\":\"#E5ECF6\",\"gridcolor\":\"white\",\"linecolor\":\"white\",\"showbackground\":true,\"ticks\":\"\",\"zerolinecolor\":\"white\",\"gridwidth\":2},\"yaxis\":{\"backgroundcolor\":\"#E5ECF6\",\"gridcolor\":\"white\",\"linecolor\":\"white\",\"showbackground\":true,\"ticks\":\"\",\"zerolinecolor\":\"white\",\"gridwidth\":2},\"zaxis\":{\"backgroundcolor\":\"#E5ECF6\",\"gridcolor\":\"white\",\"linecolor\":\"white\",\"showbackground\":true,\"ticks\":\"\",\"zerolinecolor\":\"white\",\"gridwidth\":2}},\"shapedefaults\":{\"line\":{\"color\":\"#2a3f5f\"}},\"annotationdefaults\":{\"arrowcolor\":\"#2a3f5f\",\"arrowhead\":0,\"arrowwidth\":1},\"geo\":{\"bgcolor\":\"white\",\"landcolor\":\"#E5ECF6\",\"subunitcolor\":\"white\",\"showland\":true,\"showlakes\":true,\"lakecolor\":\"white\"},\"title\":{\"x\":0.05},\"mapbox\":{\"style\":\"light\"}}},\"xaxis\":{\"anchor\":\"y\",\"domain\":[0.0,1.0],\"title\":{\"text\":\"city\"}},\"yaxis\":{\"anchor\":\"x\",\"domain\":[0.0,1.0],\"title\":{\"text\":\"Overworked Population (%)\"}},\"legend\":{\"tracegroupgap\":0},\"title\":{\"text\":\"Percentage of Overworked Population in Cities\"},\"barmode\":\"relative\"},                        {\"responsive\": true}                    ).then(function(){\n",
       "                            \n",
       "var gd = document.getElementById('f3a42305-3e6a-4717-9c92-36ae34790313');\n",
       "var x = new MutationObserver(function (mutations, observer) {{\n",
       "        var display = window.getComputedStyle(gd).display;\n",
       "        if (!display || display === 'none') {{\n",
       "            console.log([gd, 'removed!']);\n",
       "            Plotly.purge(gd);\n",
       "            observer.disconnect();\n",
       "        }}\n",
       "}});\n",
       "\n",
       "// Listen for the removal of the full notebook cells\n",
       "var notebookContainer = gd.closest('#notebook-container');\n",
       "if (notebookContainer) {{\n",
       "    x.observe(notebookContainer, {childList: true});\n",
       "}}\n",
       "\n",
       "// Listen for the clearing of the current output cell\n",
       "var outputEl = gd.closest('.output');\n",
       "if (outputEl) {{\n",
       "    x.observe(outputEl, {childList: true});\n",
       "}}\n",
       "\n",
       "                        })                };                });            </script>        </div>"
      ]
     },
     "metadata": {},
     "output_type": "display_data"
    },
    {
     "data": {
      "application/vnd.plotly.v1+json": {
       "config": {
        "plotlyServerURL": "https://plot.ly"
       },
       "data": [
        {
         "alignmentgroup": "True",
         "hovertemplate": "Vacation Metric=minimum_vacations_offered_(days)<br>Days=%{x}<br>City=%{y}<extra></extra>",
         "legendgroup": "minimum_vacations_offered_(days)",
         "marker": {
          "color": "#636efa",
          "pattern": {
           "shape": ""
          }
         },
         "name": "minimum_vacations_offered_(days)",
         "offsetgroup": "minimum_vacations_offered_(days)",
         "orientation": "h",
         "showlegend": true,
         "textposition": "auto",
         "type": "bar",
         "x": [
          25,
          20,
          25,
          20,
          25,
          20,
          10,
          20,
          20,
          20,
          25,
          20,
          20,
          10,
          20,
          10,
          20,
          20,
          10,
          20,
          20,
          20,
          20,
          28,
          28,
          20,
          28,
          25,
          25,
          10,
          28,
          10,
          10,
          25,
          10,
          10,
          20,
          10,
          10,
          20,
          10,
          22,
          10,
          10,
          7,
          10,
          10,
          10,
          10,
          22,
          22,
          10,
          10,
          20,
          10,
          10,
          10,
          10,
          10,
          10,
          10,
          10,
          20,
          10,
          10,
          10,
          10,
          10,
          10,
          10,
          10,
          10,
          10,
          10,
          10,
          10,
          10,
          10,
          10,
          10,
          10,
          10,
          10,
          10,
          10,
          10,
          10,
          15,
          10,
          10,
          10,
          10,
          7,
          20,
          10,
          6,
          10,
          8,
          30,
          15
         ],
         "xaxis": "x",
         "y": [
          "Oslo",
          "Bern",
          "Helsinki",
          "Zurich",
          "Copenhagen",
          "Geneva",
          "Ottawa",
          "Sydney",
          "Stuttgart",
          "Munich",
          "Stockholm",
          "Melbourne",
          "Amsterdam",
          "Tokyo",
          "Leipzig",
          "Vancouver",
          "Auckland",
          "Hamburg",
          "Toronto",
          "Frankfurt (am Main)",
          "Dusseldorf",
          "Berlin",
          "Bremen",
          "Liverpool",
          "Glasgow",
          "Cologne",
          "London",
          "Paris",
          "Graz",
          "Calgary",
          "Manchester",
          "Seattle",
          "Portland",
          "Vienna",
          "Minneapolis",
          "Salt Lake City",
          "Dublin",
          "Boston",
          "San Francisco",
          "Brussels",
          "Washington",
          "Madrid",
          "Omaha",
          "San Diego",
          "Singapore",
          "Denver",
          "Virginia Beach",
          "Raleigh",
          "Sacramento",
          "Barcelona",
          "Lisbon",
          "Des Moines",
          "Honolulu",
          "Budapest",
          "Colorado Springs",
          "Tampa",
          "Kansas City",
          "Charlotte",
          "New York",
          "Atlanta",
          "Milwaukee",
          "Austin",
          "Milan",
          "Pittsburgh",
          "Jacksonville",
          "Nashville",
          "Cincinnati",
          "Columbus",
          "Chicago",
          "Miami",
          "Baltimore",
          "Philadelphia",
          "Indianapolis",
          "Tucson",
          "Cleveland",
          "Oklahoma City",
          "Dallas",
          "Los Angeles",
          "Phoenix",
          "San Antonio",
          "Tulsa",
          "Wichita",
          "Louisville",
          "Detroit",
          "Albuquerque",
          "El Paso",
          "Houston",
          "Seoul",
          "Las Vegas",
          "New Orleans",
          "St. Louis",
          "Memphis",
          "Hong Kong",
          "Montevideo",
          "Buenos Aires",
          "Bangkok",
          "Sao Paulo",
          "Kuala Lumpur",
          "Dubai",
          "Cape Town"
         ],
         "yaxis": "y"
        },
        {
         "alignmentgroup": "True",
         "hovertemplate": "Vacation Metric=vacations_taken_(days)<br>Days=%{x}<br>City=%{y}<extra></extra>",
         "legendgroup": "vacations_taken_(days)",
         "marker": {
          "color": "#EF553B",
          "pattern": {
           "shape": ""
          }
         },
         "name": "vacations_taken_(days)",
         "offsetgroup": "vacations_taken_(days)",
         "orientation": "h",
         "showlegend": true,
         "textposition": "auto",
         "type": "bar",
         "x": [
          25,
          25,
          30,
          25,
          28,
          25,
          16,
          14,
          26,
          26,
          25,
          14,
          24,
          25.5,
          26,
          16,
          13,
          26,
          16,
          26,
          26,
          26,
          26,
          21,
          21,
          26,
          21,
          27,
          25,
          16,
          21,
          8.9,
          8.6,
          25,
          9,
          8.5,
          21,
          9.2,
          8.3,
          24,
          8.1,
          30,
          8.9,
          8.3,
          12,
          8.7,
          9.1,
          9.1,
          8.3,
          30,
          null,
          8.9,
          8.5,
          24.1,
          8.7,
          9.1,
          8.8,
          9.1,
          11.4,
          8.7,
          9.2,
          8.5,
          21,
          9.2,
          9.1,
          8.3,
          9.4,
          9.4,
          10.7,
          9.2,
          8.4,
          9.2,
          8.8,
          9,
          9.4,
          8.3,
          8.5,
          7,
          9,
          8.5,
          8.3,
          8.9,
          9,
          9.1,
          8.1,
          8.5,
          8.5,
          14,
          8.4,
          8.9,
          8.8,
          8.3,
          12,
          null,
          15,
          10,
          30,
          12,
          27,
          null
         ],
         "xaxis": "x2",
         "y": [
          "Oslo",
          "Bern",
          "Helsinki",
          "Zurich",
          "Copenhagen",
          "Geneva",
          "Ottawa",
          "Sydney",
          "Stuttgart",
          "Munich",
          "Stockholm",
          "Melbourne",
          "Amsterdam",
          "Tokyo",
          "Leipzig",
          "Vancouver",
          "Auckland",
          "Hamburg",
          "Toronto",
          "Frankfurt (am Main)",
          "Dusseldorf",
          "Berlin",
          "Bremen",
          "Liverpool",
          "Glasgow",
          "Cologne",
          "London",
          "Paris",
          "Graz",
          "Calgary",
          "Manchester",
          "Seattle",
          "Portland",
          "Vienna",
          "Minneapolis",
          "Salt Lake City",
          "Dublin",
          "Boston",
          "San Francisco",
          "Brussels",
          "Washington",
          "Madrid",
          "Omaha",
          "San Diego",
          "Singapore",
          "Denver",
          "Virginia Beach",
          "Raleigh",
          "Sacramento",
          "Barcelona",
          "Lisbon",
          "Des Moines",
          "Honolulu",
          "Budapest",
          "Colorado Springs",
          "Tampa",
          "Kansas City",
          "Charlotte",
          "New York",
          "Atlanta",
          "Milwaukee",
          "Austin",
          "Milan",
          "Pittsburgh",
          "Jacksonville",
          "Nashville",
          "Cincinnati",
          "Columbus",
          "Chicago",
          "Miami",
          "Baltimore",
          "Philadelphia",
          "Indianapolis",
          "Tucson",
          "Cleveland",
          "Oklahoma City",
          "Dallas",
          "Los Angeles",
          "Phoenix",
          "San Antonio",
          "Tulsa",
          "Wichita",
          "Louisville",
          "Detroit",
          "Albuquerque",
          "El Paso",
          "Houston",
          "Seoul",
          "Las Vegas",
          "New Orleans",
          "St. Louis",
          "Memphis",
          "Hong Kong",
          "Montevideo",
          "Buenos Aires",
          "Bangkok",
          "Sao Paulo",
          "Kuala Lumpur",
          "Dubai",
          "Cape Town"
         ],
         "yaxis": "y2"
        }
       ],
       "layout": {
        "annotations": [
         {
          "font": {},
          "showarrow": false,
          "text": "Vacation Metric: Minimum Vacations Offered (days) vs Vacations Taken (days)",
          "x": 0.5,
          "xanchor": "center",
          "xref": "paper",
          "y": -0.12,
          "yanchor": "bottom",
          "yref": "paper"
         },
         {
          "font": {},
          "showarrow": false,
          "text": "Vacation Metric: Minimum Vacations Offered (days) vs Vacations Taken (days)",
          "x": 0.5,
          "xanchor": "center",
          "xref": "paper",
          "y": -0.12,
          "yanchor": "bottom",
          "yref": "paper"
         }
        ],
        "barmode": "relative",
        "height": 800,
        "legend": {
         "title": {
          "text": "Vacation Metric"
         },
         "tracegroupgap": 0
        },
        "margin": {
         "t": 150
        },
        "template": {
         "data": {
          "bar": [
           {
            "error_x": {
             "color": "#2a3f5f"
            },
            "error_y": {
             "color": "#2a3f5f"
            },
            "marker": {
             "line": {
              "color": "#E5ECF6",
              "width": 0.5
             },
             "pattern": {
              "fillmode": "overlay",
              "size": 10,
              "solidity": 0.2
             }
            },
            "type": "bar"
           }
          ],
          "barpolar": [
           {
            "marker": {
             "line": {
              "color": "#E5ECF6",
              "width": 0.5
             },
             "pattern": {
              "fillmode": "overlay",
              "size": 10,
              "solidity": 0.2
             }
            },
            "type": "barpolar"
           }
          ],
          "carpet": [
           {
            "aaxis": {
             "endlinecolor": "#2a3f5f",
             "gridcolor": "white",
             "linecolor": "white",
             "minorgridcolor": "white",
             "startlinecolor": "#2a3f5f"
            },
            "baxis": {
             "endlinecolor": "#2a3f5f",
             "gridcolor": "white",
             "linecolor": "white",
             "minorgridcolor": "white",
             "startlinecolor": "#2a3f5f"
            },
            "type": "carpet"
           }
          ],
          "choropleth": [
           {
            "colorbar": {
             "outlinewidth": 0,
             "ticks": ""
            },
            "type": "choropleth"
           }
          ],
          "contour": [
           {
            "colorbar": {
             "outlinewidth": 0,
             "ticks": ""
            },
            "colorscale": [
             [
              0,
              "#0d0887"
             ],
             [
              0.1111111111111111,
              "#46039f"
             ],
             [
              0.2222222222222222,
              "#7201a8"
             ],
             [
              0.3333333333333333,
              "#9c179e"
             ],
             [
              0.4444444444444444,
              "#bd3786"
             ],
             [
              0.5555555555555556,
              "#d8576b"
             ],
             [
              0.6666666666666666,
              "#ed7953"
             ],
             [
              0.7777777777777778,
              "#fb9f3a"
             ],
             [
              0.8888888888888888,
              "#fdca26"
             ],
             [
              1,
              "#f0f921"
             ]
            ],
            "type": "contour"
           }
          ],
          "contourcarpet": [
           {
            "colorbar": {
             "outlinewidth": 0,
             "ticks": ""
            },
            "type": "contourcarpet"
           }
          ],
          "heatmap": [
           {
            "colorbar": {
             "outlinewidth": 0,
             "ticks": ""
            },
            "colorscale": [
             [
              0,
              "#0d0887"
             ],
             [
              0.1111111111111111,
              "#46039f"
             ],
             [
              0.2222222222222222,
              "#7201a8"
             ],
             [
              0.3333333333333333,
              "#9c179e"
             ],
             [
              0.4444444444444444,
              "#bd3786"
             ],
             [
              0.5555555555555556,
              "#d8576b"
             ],
             [
              0.6666666666666666,
              "#ed7953"
             ],
             [
              0.7777777777777778,
              "#fb9f3a"
             ],
             [
              0.8888888888888888,
              "#fdca26"
             ],
             [
              1,
              "#f0f921"
             ]
            ],
            "type": "heatmap"
           }
          ],
          "heatmapgl": [
           {
            "colorbar": {
             "outlinewidth": 0,
             "ticks": ""
            },
            "colorscale": [
             [
              0,
              "#0d0887"
             ],
             [
              0.1111111111111111,
              "#46039f"
             ],
             [
              0.2222222222222222,
              "#7201a8"
             ],
             [
              0.3333333333333333,
              "#9c179e"
             ],
             [
              0.4444444444444444,
              "#bd3786"
             ],
             [
              0.5555555555555556,
              "#d8576b"
             ],
             [
              0.6666666666666666,
              "#ed7953"
             ],
             [
              0.7777777777777778,
              "#fb9f3a"
             ],
             [
              0.8888888888888888,
              "#fdca26"
             ],
             [
              1,
              "#f0f921"
             ]
            ],
            "type": "heatmapgl"
           }
          ],
          "histogram": [
           {
            "marker": {
             "pattern": {
              "fillmode": "overlay",
              "size": 10,
              "solidity": 0.2
             }
            },
            "type": "histogram"
           }
          ],
          "histogram2d": [
           {
            "colorbar": {
             "outlinewidth": 0,
             "ticks": ""
            },
            "colorscale": [
             [
              0,
              "#0d0887"
             ],
             [
              0.1111111111111111,
              "#46039f"
             ],
             [
              0.2222222222222222,
              "#7201a8"
             ],
             [
              0.3333333333333333,
              "#9c179e"
             ],
             [
              0.4444444444444444,
              "#bd3786"
             ],
             [
              0.5555555555555556,
              "#d8576b"
             ],
             [
              0.6666666666666666,
              "#ed7953"
             ],
             [
              0.7777777777777778,
              "#fb9f3a"
             ],
             [
              0.8888888888888888,
              "#fdca26"
             ],
             [
              1,
              "#f0f921"
             ]
            ],
            "type": "histogram2d"
           }
          ],
          "histogram2dcontour": [
           {
            "colorbar": {
             "outlinewidth": 0,
             "ticks": ""
            },
            "colorscale": [
             [
              0,
              "#0d0887"
             ],
             [
              0.1111111111111111,
              "#46039f"
             ],
             [
              0.2222222222222222,
              "#7201a8"
             ],
             [
              0.3333333333333333,
              "#9c179e"
             ],
             [
              0.4444444444444444,
              "#bd3786"
             ],
             [
              0.5555555555555556,
              "#d8576b"
             ],
             [
              0.6666666666666666,
              "#ed7953"
             ],
             [
              0.7777777777777778,
              "#fb9f3a"
             ],
             [
              0.8888888888888888,
              "#fdca26"
             ],
             [
              1,
              "#f0f921"
             ]
            ],
            "type": "histogram2dcontour"
           }
          ],
          "mesh3d": [
           {
            "colorbar": {
             "outlinewidth": 0,
             "ticks": ""
            },
            "type": "mesh3d"
           }
          ],
          "parcoords": [
           {
            "line": {
             "colorbar": {
              "outlinewidth": 0,
              "ticks": ""
             }
            },
            "type": "parcoords"
           }
          ],
          "pie": [
           {
            "automargin": true,
            "type": "pie"
           }
          ],
          "scatter": [
           {
            "fillpattern": {
             "fillmode": "overlay",
             "size": 10,
             "solidity": 0.2
            },
            "type": "scatter"
           }
          ],
          "scatter3d": [
           {
            "line": {
             "colorbar": {
              "outlinewidth": 0,
              "ticks": ""
             }
            },
            "marker": {
             "colorbar": {
              "outlinewidth": 0,
              "ticks": ""
             }
            },
            "type": "scatter3d"
           }
          ],
          "scattercarpet": [
           {
            "marker": {
             "colorbar": {
              "outlinewidth": 0,
              "ticks": ""
             }
            },
            "type": "scattercarpet"
           }
          ],
          "scattergeo": [
           {
            "marker": {
             "colorbar": {
              "outlinewidth": 0,
              "ticks": ""
             }
            },
            "type": "scattergeo"
           }
          ],
          "scattergl": [
           {
            "marker": {
             "colorbar": {
              "outlinewidth": 0,
              "ticks": ""
             }
            },
            "type": "scattergl"
           }
          ],
          "scattermapbox": [
           {
            "marker": {
             "colorbar": {
              "outlinewidth": 0,
              "ticks": ""
             }
            },
            "type": "scattermapbox"
           }
          ],
          "scatterpolar": [
           {
            "marker": {
             "colorbar": {
              "outlinewidth": 0,
              "ticks": ""
             }
            },
            "type": "scatterpolar"
           }
          ],
          "scatterpolargl": [
           {
            "marker": {
             "colorbar": {
              "outlinewidth": 0,
              "ticks": ""
             }
            },
            "type": "scatterpolargl"
           }
          ],
          "scatterternary": [
           {
            "marker": {
             "colorbar": {
              "outlinewidth": 0,
              "ticks": ""
             }
            },
            "type": "scatterternary"
           }
          ],
          "surface": [
           {
            "colorbar": {
             "outlinewidth": 0,
             "ticks": ""
            },
            "colorscale": [
             [
              0,
              "#0d0887"
             ],
             [
              0.1111111111111111,
              "#46039f"
             ],
             [
              0.2222222222222222,
              "#7201a8"
             ],
             [
              0.3333333333333333,
              "#9c179e"
             ],
             [
              0.4444444444444444,
              "#bd3786"
             ],
             [
              0.5555555555555556,
              "#d8576b"
             ],
             [
              0.6666666666666666,
              "#ed7953"
             ],
             [
              0.7777777777777778,
              "#fb9f3a"
             ],
             [
              0.8888888888888888,
              "#fdca26"
             ],
             [
              1,
              "#f0f921"
             ]
            ],
            "type": "surface"
           }
          ],
          "table": [
           {
            "cells": {
             "fill": {
              "color": "#EBF0F8"
             },
             "line": {
              "color": "white"
             }
            },
            "header": {
             "fill": {
              "color": "#C8D4E3"
             },
             "line": {
              "color": "white"
             }
            },
            "type": "table"
           }
          ]
         },
         "layout": {
          "annotationdefaults": {
           "arrowcolor": "#2a3f5f",
           "arrowhead": 0,
           "arrowwidth": 1
          },
          "autotypenumbers": "strict",
          "coloraxis": {
           "colorbar": {
            "outlinewidth": 0,
            "ticks": ""
           }
          },
          "colorscale": {
           "diverging": [
            [
             0,
             "#8e0152"
            ],
            [
             0.1,
             "#c51b7d"
            ],
            [
             0.2,
             "#de77ae"
            ],
            [
             0.3,
             "#f1b6da"
            ],
            [
             0.4,
             "#fde0ef"
            ],
            [
             0.5,
             "#f7f7f7"
            ],
            [
             0.6,
             "#e6f5d0"
            ],
            [
             0.7,
             "#b8e186"
            ],
            [
             0.8,
             "#7fbc41"
            ],
            [
             0.9,
             "#4d9221"
            ],
            [
             1,
             "#276419"
            ]
           ],
           "sequential": [
            [
             0,
             "#0d0887"
            ],
            [
             0.1111111111111111,
             "#46039f"
            ],
            [
             0.2222222222222222,
             "#7201a8"
            ],
            [
             0.3333333333333333,
             "#9c179e"
            ],
            [
             0.4444444444444444,
             "#bd3786"
            ],
            [
             0.5555555555555556,
             "#d8576b"
            ],
            [
             0.6666666666666666,
             "#ed7953"
            ],
            [
             0.7777777777777778,
             "#fb9f3a"
            ],
            [
             0.8888888888888888,
             "#fdca26"
            ],
            [
             1,
             "#f0f921"
            ]
           ],
           "sequentialminus": [
            [
             0,
             "#0d0887"
            ],
            [
             0.1111111111111111,
             "#46039f"
            ],
            [
             0.2222222222222222,
             "#7201a8"
            ],
            [
             0.3333333333333333,
             "#9c179e"
            ],
            [
             0.4444444444444444,
             "#bd3786"
            ],
            [
             0.5555555555555556,
             "#d8576b"
            ],
            [
             0.6666666666666666,
             "#ed7953"
            ],
            [
             0.7777777777777778,
             "#fb9f3a"
            ],
            [
             0.8888888888888888,
             "#fdca26"
            ],
            [
             1,
             "#f0f921"
            ]
           ]
          },
          "colorway": [
           "#636efa",
           "#EF553B",
           "#00cc96",
           "#ab63fa",
           "#FFA15A",
           "#19d3f3",
           "#FF6692",
           "#B6E880",
           "#FF97FF",
           "#FECB52"
          ],
          "font": {
           "color": "#2a3f5f"
          },
          "geo": {
           "bgcolor": "white",
           "lakecolor": "white",
           "landcolor": "#E5ECF6",
           "showlakes": true,
           "showland": true,
           "subunitcolor": "white"
          },
          "hoverlabel": {
           "align": "left"
          },
          "hovermode": "closest",
          "mapbox": {
           "style": "light"
          },
          "paper_bgcolor": "white",
          "plot_bgcolor": "#E5ECF6",
          "polar": {
           "angularaxis": {
            "gridcolor": "white",
            "linecolor": "white",
            "ticks": ""
           },
           "bgcolor": "#E5ECF6",
           "radialaxis": {
            "gridcolor": "white",
            "linecolor": "white",
            "ticks": ""
           }
          },
          "scene": {
           "xaxis": {
            "backgroundcolor": "#E5ECF6",
            "gridcolor": "white",
            "gridwidth": 2,
            "linecolor": "white",
            "showbackground": true,
            "ticks": "",
            "zerolinecolor": "white"
           },
           "yaxis": {
            "backgroundcolor": "#E5ECF6",
            "gridcolor": "white",
            "gridwidth": 2,
            "linecolor": "white",
            "showbackground": true,
            "ticks": "",
            "zerolinecolor": "white"
           },
           "zaxis": {
            "backgroundcolor": "#E5ECF6",
            "gridcolor": "white",
            "gridwidth": 2,
            "linecolor": "white",
            "showbackground": true,
            "ticks": "",
            "zerolinecolor": "white"
           }
          },
          "shapedefaults": {
           "line": {
            "color": "#2a3f5f"
           }
          },
          "ternary": {
           "aaxis": {
            "gridcolor": "white",
            "linecolor": "white",
            "ticks": ""
           },
           "baxis": {
            "gridcolor": "white",
            "linecolor": "white",
            "ticks": ""
           },
           "bgcolor": "#E5ECF6",
           "caxis": {
            "gridcolor": "white",
            "linecolor": "white",
            "ticks": ""
           }
          },
          "title": {
           "x": 0.05
          },
          "xaxis": {
           "automargin": true,
           "gridcolor": "white",
           "linecolor": "white",
           "ticks": "",
           "title": {
            "standoff": 15
           },
           "zerolinecolor": "white",
           "zerolinewidth": 2
          },
          "yaxis": {
           "automargin": true,
           "gridcolor": "white",
           "linecolor": "white",
           "ticks": "",
           "title": {
            "standoff": 15
           },
           "zerolinecolor": "white",
           "zerolinewidth": 2
          }
         }
        },
        "title": {
         "text": "Vacation Days Offered vs Taken in Cities",
         "x": 0.5,
         "xanchor": "center",
         "yanchor": "top"
        },
        "xaxis": {
         "anchor": "y",
         "domain": [
          0,
          0.49
         ],
         "title": {
          "text": "Days"
         }
        },
        "xaxis2": {
         "anchor": "y2",
         "domain": [
          0.51,
          1
         ],
         "matches": "x",
         "title": {
          "text": "Days"
         }
        },
        "yaxis": {
         "anchor": "x",
         "categoryorder": "total ascending",
         "domain": [
          0,
          1
         ],
         "title": {
          "text": "City"
         }
        },
        "yaxis2": {
         "anchor": "x2",
         "domain": [
          0,
          1
         ],
         "matches": "y",
         "showticklabels": false
        }
       }
      },
      "text/html": [
       "<div>                            <div id=\"37317434-7d97-4cbc-b397-1ea01051bd9f\" class=\"plotly-graph-div\" style=\"height:800px; width:100%;\"></div>            <script type=\"text/javascript\">                require([\"plotly\"], function(Plotly) {                    window.PLOTLYENV=window.PLOTLYENV || {};                                    if (document.getElementById(\"37317434-7d97-4cbc-b397-1ea01051bd9f\")) {                    Plotly.newPlot(                        \"37317434-7d97-4cbc-b397-1ea01051bd9f\",                        [{\"alignmentgroup\":\"True\",\"hovertemplate\":\"Vacation Metric=minimum_vacations_offered_(days)\\u003cbr\\u003eDays=%{x}\\u003cbr\\u003eCity=%{y}\\u003cextra\\u003e\\u003c\\u002fextra\\u003e\",\"legendgroup\":\"minimum_vacations_offered_(days)\",\"marker\":{\"color\":\"#636efa\",\"pattern\":{\"shape\":\"\"}},\"name\":\"minimum_vacations_offered_(days)\",\"offsetgroup\":\"minimum_vacations_offered_(days)\",\"orientation\":\"h\",\"showlegend\":true,\"textposition\":\"auto\",\"x\":[25.0,20.0,25.0,20.0,25.0,20.0,10.0,20.0,20.0,20.0,25.0,20.0,20.0,10.0,20.0,10.0,20.0,20.0,10.0,20.0,20.0,20.0,20.0,28.0,28.0,20.0,28.0,25.0,25.0,10.0,28.0,10.0,10.0,25.0,10.0,10.0,20.0,10.0,10.0,20.0,10.0,22.0,10.0,10.0,7.0,10.0,10.0,10.0,10.0,22.0,22.0,10.0,10.0,20.0,10.0,10.0,10.0,10.0,10.0,10.0,10.0,10.0,20.0,10.0,10.0,10.0,10.0,10.0,10.0,10.0,10.0,10.0,10.0,10.0,10.0,10.0,10.0,10.0,10.0,10.0,10.0,10.0,10.0,10.0,10.0,10.0,10.0,15.0,10.0,10.0,10.0,10.0,7.0,20.0,10.0,6.0,10.0,8.0,30.0,15.0],\"xaxis\":\"x\",\"y\":[\"Oslo\",\"Bern\",\"Helsinki\",\"Zurich\",\"Copenhagen\",\"Geneva\",\"Ottawa\",\"Sydney\",\"Stuttgart\",\"Munich\",\"Stockholm\",\"Melbourne\",\"Amsterdam\",\"Tokyo\",\"Leipzig\",\"Vancouver\",\"Auckland\",\"Hamburg\",\"Toronto\",\"Frankfurt (am Main)\",\"Dusseldorf\",\"Berlin\",\"Bremen\",\"Liverpool\",\"Glasgow\",\"Cologne\",\"London\",\"Paris\",\"Graz\",\"Calgary\",\"Manchester\",\"Seattle\",\"Portland\",\"Vienna\",\"Minneapolis\",\"Salt Lake City\",\"Dublin\",\"Boston\",\"San Francisco\",\"Brussels\",\"Washington\",\"Madrid\",\"Omaha\",\"San Diego\",\"Singapore\",\"Denver\",\"Virginia Beach\",\"Raleigh\",\"Sacramento\",\"Barcelona\",\"Lisbon\",\"Des Moines\",\"Honolulu\",\"Budapest\",\"Colorado Springs\",\"Tampa\",\"Kansas City\",\"Charlotte\",\"New York\",\"Atlanta\",\"Milwaukee\",\"Austin\",\"Milan\",\"Pittsburgh\",\"Jacksonville\",\"Nashville\",\"Cincinnati\",\"Columbus\",\"Chicago\",\"Miami\",\"Baltimore\",\"Philadelphia\",\"Indianapolis\",\"Tucson\",\"Cleveland\",\"Oklahoma City\",\"Dallas\",\"Los Angeles\",\"Phoenix\",\"San Antonio\",\"Tulsa\",\"Wichita\",\"Louisville\",\"Detroit\",\"Albuquerque\",\"El Paso\",\"Houston\",\"Seoul\",\"Las Vegas\",\"New Orleans\",\"St. Louis\",\"Memphis\",\"Hong Kong\",\"Montevideo\",\"Buenos Aires\",\"Bangkok\",\"Sao Paulo\",\"Kuala Lumpur\",\"Dubai\",\"Cape Town\"],\"yaxis\":\"y\",\"type\":\"bar\"},{\"alignmentgroup\":\"True\",\"hovertemplate\":\"Vacation Metric=vacations_taken_(days)\\u003cbr\\u003eDays=%{x}\\u003cbr\\u003eCity=%{y}\\u003cextra\\u003e\\u003c\\u002fextra\\u003e\",\"legendgroup\":\"vacations_taken_(days)\",\"marker\":{\"color\":\"#EF553B\",\"pattern\":{\"shape\":\"\"}},\"name\":\"vacations_taken_(days)\",\"offsetgroup\":\"vacations_taken_(days)\",\"orientation\":\"h\",\"showlegend\":true,\"textposition\":\"auto\",\"x\":[25.0,25.0,30.0,25.0,28.0,25.0,16.0,14.0,26.0,26.0,25.0,14.0,24.0,25.5,26.0,16.0,13.0,26.0,16.0,26.0,26.0,26.0,26.0,21.0,21.0,26.0,21.0,27.0,25.0,16.0,21.0,8.9,8.6,25.0,9.0,8.5,21.0,9.2,8.3,24.0,8.1,30.0,8.9,8.3,12.0,8.7,9.1,9.1,8.3,30.0,null,8.9,8.5,24.1,8.7,9.1,8.8,9.1,11.4,8.7,9.2,8.5,21.0,9.2,9.1,8.3,9.4,9.4,10.7,9.2,8.4,9.2,8.8,9.0,9.4,8.3,8.5,7.0,9.0,8.5,8.3,8.9,9.0,9.1,8.1,8.5,8.5,14.0,8.4,8.9,8.8,8.3,12.0,null,15.0,10.0,30.0,12.0,27.0,null],\"xaxis\":\"x2\",\"y\":[\"Oslo\",\"Bern\",\"Helsinki\",\"Zurich\",\"Copenhagen\",\"Geneva\",\"Ottawa\",\"Sydney\",\"Stuttgart\",\"Munich\",\"Stockholm\",\"Melbourne\",\"Amsterdam\",\"Tokyo\",\"Leipzig\",\"Vancouver\",\"Auckland\",\"Hamburg\",\"Toronto\",\"Frankfurt (am Main)\",\"Dusseldorf\",\"Berlin\",\"Bremen\",\"Liverpool\",\"Glasgow\",\"Cologne\",\"London\",\"Paris\",\"Graz\",\"Calgary\",\"Manchester\",\"Seattle\",\"Portland\",\"Vienna\",\"Minneapolis\",\"Salt Lake City\",\"Dublin\",\"Boston\",\"San Francisco\",\"Brussels\",\"Washington\",\"Madrid\",\"Omaha\",\"San Diego\",\"Singapore\",\"Denver\",\"Virginia Beach\",\"Raleigh\",\"Sacramento\",\"Barcelona\",\"Lisbon\",\"Des Moines\",\"Honolulu\",\"Budapest\",\"Colorado Springs\",\"Tampa\",\"Kansas City\",\"Charlotte\",\"New York\",\"Atlanta\",\"Milwaukee\",\"Austin\",\"Milan\",\"Pittsburgh\",\"Jacksonville\",\"Nashville\",\"Cincinnati\",\"Columbus\",\"Chicago\",\"Miami\",\"Baltimore\",\"Philadelphia\",\"Indianapolis\",\"Tucson\",\"Cleveland\",\"Oklahoma City\",\"Dallas\",\"Los Angeles\",\"Phoenix\",\"San Antonio\",\"Tulsa\",\"Wichita\",\"Louisville\",\"Detroit\",\"Albuquerque\",\"El Paso\",\"Houston\",\"Seoul\",\"Las Vegas\",\"New Orleans\",\"St. Louis\",\"Memphis\",\"Hong Kong\",\"Montevideo\",\"Buenos Aires\",\"Bangkok\",\"Sao Paulo\",\"Kuala Lumpur\",\"Dubai\",\"Cape Town\"],\"yaxis\":\"y2\",\"type\":\"bar\"}],                        {\"template\":{\"data\":{\"histogram2dcontour\":[{\"type\":\"histogram2dcontour\",\"colorbar\":{\"outlinewidth\":0,\"ticks\":\"\"},\"colorscale\":[[0.0,\"#0d0887\"],[0.1111111111111111,\"#46039f\"],[0.2222222222222222,\"#7201a8\"],[0.3333333333333333,\"#9c179e\"],[0.4444444444444444,\"#bd3786\"],[0.5555555555555556,\"#d8576b\"],[0.6666666666666666,\"#ed7953\"],[0.7777777777777778,\"#fb9f3a\"],[0.8888888888888888,\"#fdca26\"],[1.0,\"#f0f921\"]]}],\"choropleth\":[{\"type\":\"choropleth\",\"colorbar\":{\"outlinewidth\":0,\"ticks\":\"\"}}],\"histogram2d\":[{\"type\":\"histogram2d\",\"colorbar\":{\"outlinewidth\":0,\"ticks\":\"\"},\"colorscale\":[[0.0,\"#0d0887\"],[0.1111111111111111,\"#46039f\"],[0.2222222222222222,\"#7201a8\"],[0.3333333333333333,\"#9c179e\"],[0.4444444444444444,\"#bd3786\"],[0.5555555555555556,\"#d8576b\"],[0.6666666666666666,\"#ed7953\"],[0.7777777777777778,\"#fb9f3a\"],[0.8888888888888888,\"#fdca26\"],[1.0,\"#f0f921\"]]}],\"heatmap\":[{\"type\":\"heatmap\",\"colorbar\":{\"outlinewidth\":0,\"ticks\":\"\"},\"colorscale\":[[0.0,\"#0d0887\"],[0.1111111111111111,\"#46039f\"],[0.2222222222222222,\"#7201a8\"],[0.3333333333333333,\"#9c179e\"],[0.4444444444444444,\"#bd3786\"],[0.5555555555555556,\"#d8576b\"],[0.6666666666666666,\"#ed7953\"],[0.7777777777777778,\"#fb9f3a\"],[0.8888888888888888,\"#fdca26\"],[1.0,\"#f0f921\"]]}],\"heatmapgl\":[{\"type\":\"heatmapgl\",\"colorbar\":{\"outlinewidth\":0,\"ticks\":\"\"},\"colorscale\":[[0.0,\"#0d0887\"],[0.1111111111111111,\"#46039f\"],[0.2222222222222222,\"#7201a8\"],[0.3333333333333333,\"#9c179e\"],[0.4444444444444444,\"#bd3786\"],[0.5555555555555556,\"#d8576b\"],[0.6666666666666666,\"#ed7953\"],[0.7777777777777778,\"#fb9f3a\"],[0.8888888888888888,\"#fdca26\"],[1.0,\"#f0f921\"]]}],\"contourcarpet\":[{\"type\":\"contourcarpet\",\"colorbar\":{\"outlinewidth\":0,\"ticks\":\"\"}}],\"contour\":[{\"type\":\"contour\",\"colorbar\":{\"outlinewidth\":0,\"ticks\":\"\"},\"colorscale\":[[0.0,\"#0d0887\"],[0.1111111111111111,\"#46039f\"],[0.2222222222222222,\"#7201a8\"],[0.3333333333333333,\"#9c179e\"],[0.4444444444444444,\"#bd3786\"],[0.5555555555555556,\"#d8576b\"],[0.6666666666666666,\"#ed7953\"],[0.7777777777777778,\"#fb9f3a\"],[0.8888888888888888,\"#fdca26\"],[1.0,\"#f0f921\"]]}],\"surface\":[{\"type\":\"surface\",\"colorbar\":{\"outlinewidth\":0,\"ticks\":\"\"},\"colorscale\":[[0.0,\"#0d0887\"],[0.1111111111111111,\"#46039f\"],[0.2222222222222222,\"#7201a8\"],[0.3333333333333333,\"#9c179e\"],[0.4444444444444444,\"#bd3786\"],[0.5555555555555556,\"#d8576b\"],[0.6666666666666666,\"#ed7953\"],[0.7777777777777778,\"#fb9f3a\"],[0.8888888888888888,\"#fdca26\"],[1.0,\"#f0f921\"]]}],\"mesh3d\":[{\"type\":\"mesh3d\",\"colorbar\":{\"outlinewidth\":0,\"ticks\":\"\"}}],\"scatter\":[{\"fillpattern\":{\"fillmode\":\"overlay\",\"size\":10,\"solidity\":0.2},\"type\":\"scatter\"}],\"parcoords\":[{\"type\":\"parcoords\",\"line\":{\"colorbar\":{\"outlinewidth\":0,\"ticks\":\"\"}}}],\"scatterpolargl\":[{\"type\":\"scatterpolargl\",\"marker\":{\"colorbar\":{\"outlinewidth\":0,\"ticks\":\"\"}}}],\"bar\":[{\"error_x\":{\"color\":\"#2a3f5f\"},\"error_y\":{\"color\":\"#2a3f5f\"},\"marker\":{\"line\":{\"color\":\"#E5ECF6\",\"width\":0.5},\"pattern\":{\"fillmode\":\"overlay\",\"size\":10,\"solidity\":0.2}},\"type\":\"bar\"}],\"scattergeo\":[{\"type\":\"scattergeo\",\"marker\":{\"colorbar\":{\"outlinewidth\":0,\"ticks\":\"\"}}}],\"scatterpolar\":[{\"type\":\"scatterpolar\",\"marker\":{\"colorbar\":{\"outlinewidth\":0,\"ticks\":\"\"}}}],\"histogram\":[{\"marker\":{\"pattern\":{\"fillmode\":\"overlay\",\"size\":10,\"solidity\":0.2}},\"type\":\"histogram\"}],\"scattergl\":[{\"type\":\"scattergl\",\"marker\":{\"colorbar\":{\"outlinewidth\":0,\"ticks\":\"\"}}}],\"scatter3d\":[{\"type\":\"scatter3d\",\"line\":{\"colorbar\":{\"outlinewidth\":0,\"ticks\":\"\"}},\"marker\":{\"colorbar\":{\"outlinewidth\":0,\"ticks\":\"\"}}}],\"scattermapbox\":[{\"type\":\"scattermapbox\",\"marker\":{\"colorbar\":{\"outlinewidth\":0,\"ticks\":\"\"}}}],\"scatterternary\":[{\"type\":\"scatterternary\",\"marker\":{\"colorbar\":{\"outlinewidth\":0,\"ticks\":\"\"}}}],\"scattercarpet\":[{\"type\":\"scattercarpet\",\"marker\":{\"colorbar\":{\"outlinewidth\":0,\"ticks\":\"\"}}}],\"carpet\":[{\"aaxis\":{\"endlinecolor\":\"#2a3f5f\",\"gridcolor\":\"white\",\"linecolor\":\"white\",\"minorgridcolor\":\"white\",\"startlinecolor\":\"#2a3f5f\"},\"baxis\":{\"endlinecolor\":\"#2a3f5f\",\"gridcolor\":\"white\",\"linecolor\":\"white\",\"minorgridcolor\":\"white\",\"startlinecolor\":\"#2a3f5f\"},\"type\":\"carpet\"}],\"table\":[{\"cells\":{\"fill\":{\"color\":\"#EBF0F8\"},\"line\":{\"color\":\"white\"}},\"header\":{\"fill\":{\"color\":\"#C8D4E3\"},\"line\":{\"color\":\"white\"}},\"type\":\"table\"}],\"barpolar\":[{\"marker\":{\"line\":{\"color\":\"#E5ECF6\",\"width\":0.5},\"pattern\":{\"fillmode\":\"overlay\",\"size\":10,\"solidity\":0.2}},\"type\":\"barpolar\"}],\"pie\":[{\"automargin\":true,\"type\":\"pie\"}]},\"layout\":{\"autotypenumbers\":\"strict\",\"colorway\":[\"#636efa\",\"#EF553B\",\"#00cc96\",\"#ab63fa\",\"#FFA15A\",\"#19d3f3\",\"#FF6692\",\"#B6E880\",\"#FF97FF\",\"#FECB52\"],\"font\":{\"color\":\"#2a3f5f\"},\"hovermode\":\"closest\",\"hoverlabel\":{\"align\":\"left\"},\"paper_bgcolor\":\"white\",\"plot_bgcolor\":\"#E5ECF6\",\"polar\":{\"bgcolor\":\"#E5ECF6\",\"angularaxis\":{\"gridcolor\":\"white\",\"linecolor\":\"white\",\"ticks\":\"\"},\"radialaxis\":{\"gridcolor\":\"white\",\"linecolor\":\"white\",\"ticks\":\"\"}},\"ternary\":{\"bgcolor\":\"#E5ECF6\",\"aaxis\":{\"gridcolor\":\"white\",\"linecolor\":\"white\",\"ticks\":\"\"},\"baxis\":{\"gridcolor\":\"white\",\"linecolor\":\"white\",\"ticks\":\"\"},\"caxis\":{\"gridcolor\":\"white\",\"linecolor\":\"white\",\"ticks\":\"\"}},\"coloraxis\":{\"colorbar\":{\"outlinewidth\":0,\"ticks\":\"\"}},\"colorscale\":{\"sequential\":[[0.0,\"#0d0887\"],[0.1111111111111111,\"#46039f\"],[0.2222222222222222,\"#7201a8\"],[0.3333333333333333,\"#9c179e\"],[0.4444444444444444,\"#bd3786\"],[0.5555555555555556,\"#d8576b\"],[0.6666666666666666,\"#ed7953\"],[0.7777777777777778,\"#fb9f3a\"],[0.8888888888888888,\"#fdca26\"],[1.0,\"#f0f921\"]],\"sequentialminus\":[[0.0,\"#0d0887\"],[0.1111111111111111,\"#46039f\"],[0.2222222222222222,\"#7201a8\"],[0.3333333333333333,\"#9c179e\"],[0.4444444444444444,\"#bd3786\"],[0.5555555555555556,\"#d8576b\"],[0.6666666666666666,\"#ed7953\"],[0.7777777777777778,\"#fb9f3a\"],[0.8888888888888888,\"#fdca26\"],[1.0,\"#f0f921\"]],\"diverging\":[[0,\"#8e0152\"],[0.1,\"#c51b7d\"],[0.2,\"#de77ae\"],[0.3,\"#f1b6da\"],[0.4,\"#fde0ef\"],[0.5,\"#f7f7f7\"],[0.6,\"#e6f5d0\"],[0.7,\"#b8e186\"],[0.8,\"#7fbc41\"],[0.9,\"#4d9221\"],[1,\"#276419\"]]},\"xaxis\":{\"gridcolor\":\"white\",\"linecolor\":\"white\",\"ticks\":\"\",\"title\":{\"standoff\":15},\"zerolinecolor\":\"white\",\"automargin\":true,\"zerolinewidth\":2},\"yaxis\":{\"gridcolor\":\"white\",\"linecolor\":\"white\",\"ticks\":\"\",\"title\":{\"standoff\":15},\"zerolinecolor\":\"white\",\"automargin\":true,\"zerolinewidth\":2},\"scene\":{\"xaxis\":{\"backgroundcolor\":\"#E5ECF6\",\"gridcolor\":\"white\",\"linecolor\":\"white\",\"showbackground\":true,\"ticks\":\"\",\"zerolinecolor\":\"white\",\"gridwidth\":2},\"yaxis\":{\"backgroundcolor\":\"#E5ECF6\",\"gridcolor\":\"white\",\"linecolor\":\"white\",\"showbackground\":true,\"ticks\":\"\",\"zerolinecolor\":\"white\",\"gridwidth\":2},\"zaxis\":{\"backgroundcolor\":\"#E5ECF6\",\"gridcolor\":\"white\",\"linecolor\":\"white\",\"showbackground\":true,\"ticks\":\"\",\"zerolinecolor\":\"white\",\"gridwidth\":2}},\"shapedefaults\":{\"line\":{\"color\":\"#2a3f5f\"}},\"annotationdefaults\":{\"arrowcolor\":\"#2a3f5f\",\"arrowhead\":0,\"arrowwidth\":1},\"geo\":{\"bgcolor\":\"white\",\"landcolor\":\"#E5ECF6\",\"subunitcolor\":\"white\",\"showland\":true,\"showlakes\":true,\"lakecolor\":\"white\"},\"title\":{\"x\":0.05},\"mapbox\":{\"style\":\"light\"}}},\"xaxis\":{\"anchor\":\"y\",\"domain\":[0.0,0.49],\"title\":{\"text\":\"Days\"}},\"yaxis\":{\"anchor\":\"x\",\"domain\":[0.0,1.0],\"title\":{\"text\":\"City\"},\"categoryorder\":\"total ascending\"},\"xaxis2\":{\"anchor\":\"y2\",\"domain\":[0.51,1.0],\"matches\":\"x\",\"title\":{\"text\":\"Days\"}},\"yaxis2\":{\"anchor\":\"x2\",\"domain\":[0.0,1.0],\"matches\":\"y\",\"showticklabels\":false},\"annotations\":[{\"font\":{},\"showarrow\":false,\"text\":\"Vacation Metric: Minimum Vacations Offered (days) vs Vacations Taken (days)\",\"x\":0.5,\"xanchor\":\"center\",\"xref\":\"paper\",\"y\":-0.12,\"yanchor\":\"bottom\",\"yref\":\"paper\"},{\"font\":{},\"showarrow\":false,\"text\":\"Vacation Metric: Minimum Vacations Offered (days) vs Vacations Taken (days)\",\"x\":0.5,\"xanchor\":\"center\",\"xref\":\"paper\",\"y\":-0.12,\"yanchor\":\"bottom\",\"yref\":\"paper\"}],\"legend\":{\"title\":{\"text\":\"Vacation Metric\"},\"tracegroupgap\":0},\"title\":{\"text\":\"Vacation Days Offered vs Taken in Cities\",\"x\":0.5,\"xanchor\":\"center\",\"yanchor\":\"top\"},\"barmode\":\"relative\",\"height\":800,\"margin\":{\"t\":150}},                        {\"responsive\": true}                    ).then(function(){\n",
       "                            \n",
       "var gd = document.getElementById('37317434-7d97-4cbc-b397-1ea01051bd9f');\n",
       "var x = new MutationObserver(function (mutations, observer) {{\n",
       "        var display = window.getComputedStyle(gd).display;\n",
       "        if (!display || display === 'none') {{\n",
       "            console.log([gd, 'removed!']);\n",
       "            Plotly.purge(gd);\n",
       "            observer.disconnect();\n",
       "        }}\n",
       "}});\n",
       "\n",
       "// Listen for the removal of the full notebook cells\n",
       "var notebookContainer = gd.closest('#notebook-container');\n",
       "if (notebookContainer) {{\n",
       "    x.observe(notebookContainer, {childList: true});\n",
       "}}\n",
       "\n",
       "// Listen for the clearing of the current output cell\n",
       "var outputEl = gd.closest('.output');\n",
       "if (outputEl) {{\n",
       "    x.observe(outputEl, {childList: true});\n",
       "}}\n",
       "\n",
       "                        })                };                });            </script>        </div>"
      ]
     },
     "metadata": {},
     "output_type": "display_data"
    }
   ],
   "source": [
    "# Bar chart for remote jobs percentage\n",
    "fig_remote_jobs = px.bar(\n",
    "    work_life_balance_df,\n",
    "    x='city',\n",
    "    y='remote_jobs',\n",
    "    title='Percentage of Remote Jobs in Cities',\n",
    "    labels={'remote_jobs': 'Remote Jobs (%)'}\n",
    ")\n",
    "fig_remote_jobs.show()\n",
    "\n",
    "# Bar chart for overworked population percentage\n",
    "fig_overworked_population = px.bar(\n",
    "    work_life_balance_df,\n",
    "    x='city',\n",
    "    y='overworked_population',\n",
    "    title='Percentage of Overworked Population in Cities',\n",
    "    labels={'overworked_population': 'Overworked Population (%)'}\n",
    ")\n",
    "fig_overworked_population.show()\n",
    "\n",
    "melted_df = work_life_balance_df.melt(\n",
    "    id_vars=['city'],\n",
    "    value_vars=['minimum_vacations_offered_(days)', 'vacations_taken_(days)'],\n",
    "    var_name='Vacation Metric',\n",
    "    value_name='Days'\n",
    ")\n",
    "\n",
    "# Faceted bar chart\n",
    "fig_vacations_facet = px.bar(\n",
    "    melted_df,\n",
    "    x='Days',\n",
    "    y='city',\n",
    "    color='Vacation Metric',\n",
    "    facet_col='Vacation Metric',\n",
    "    orientation='h',\n",
    "    title='Vacation Days Offered vs Taken in Cities',\n",
    "    height=800,\n",
    "    labels={'Days': 'Days', 'city': 'City'}\n",
    ")\n",
    "\n",
    "# Update layout to prevent overlapping titles\n",
    "fig_vacations_facet.update_layout(\n",
    "    title={\n",
    "        'text': 'Vacation Days Offered vs Taken in Cities',\n",
    "        'x': 0.5,\n",
    "        'xanchor': 'center',\n",
    "        'yanchor': 'top'\n",
    "    },\n",
    "    yaxis={'categoryorder': 'total ascending'},\n",
    "    margin={'t': 150},\n",
    "    annotations=[dict(x=0.5, y=-0.12, showarrow=False,\n",
    "                      text=\"Vacation Metric: Minimum Vacations Offered (days) vs Vacations Taken (days)\", \n",
    "                      xref=\"paper\", yref=\"paper\")]\n",
    ")\n",
    "\n",
    "# Update facet titles\n",
    "fig_vacations_facet.for_each_annotation(lambda a: a.update(text=a.text.split(\"=\")[-1]))\n",
    "\n",
    "fig_vacations_facet.show()"
   ]
  },
  {
   "cell_type": "markdown",
   "metadata": {},
   "source": [
    "### grafiek 1 en 2 (remote jobs en overwerktheid)\n",
    "\n",
    "Het welzijn van de bevolking wordt sterk beïnvloed door de hoeveelheid overwerkte mensen. Een samenleving die een gezonde werk-privébalans ondersteunt, bevordert niet alleen de fysieke en mentale gezondheid van haar burgers, maar draagt ook bij aan een hogere productiviteit, betere sociale cohesie en een sterker economisch welzijn. Het is daarom essentieel om werkdruk en werkuren te reguleren om het welzijn van de bevolking te bevorderen. Uit de eerste twee grafieken blijkt dat Oslo, Bern en Helsinki een hoog percentage remote-banen (werken van afstand) hebben, wat een positief effect kan hebben op de werk-privé balans. Echter, zelfs met een hoog percentage remote banen, hebben sommige steden zoals Helsinki een relatief hoog percentage overwerkte bevolking. Dit suggereert dat remote werk niet altijd leidt tot een betere werk-privé balans."
   ]
  },
  {
   "cell_type": "markdown",
   "metadata": {},
   "source": [
    "### grafiek 3 (vakantiedagen aangeboden vs genomen)\n",
    "De derde grafiek laat het aantal aangeboden vakantiedagen tegenover het aantal genomen vakantiedagen zien. Het verschil tussen aangeboden en genomen vakantiedagen kan dus een waardevolle maatstaf zijn voor het welzijn van de bevolking. Het reflecteert niet alleen de individuele keuzes van werknemers, maar ook bredere organisatorische en culturele factoren die van invloed zijn op hun welzijn. Het bevorderen van het nemen van vakantiedagen kan bijdragen aan een gezondere en gelukkigere bevolking, wat uiteindelijk zowel werknemers als werkgevers ten goede komt.\n",
    "\n",
    "> In de meeste steden is het zo dat het aantal aangeboden vakantiedagen ook wordt genomen door de bevolking. In Helsinki is het zelfs zo dat werkenemers meer vakantiedagen nemen dan het minimum aangeboden aantal. Dit duidt erop dat een cultuur die vakantiedagen aanmoedigt, een positieve impact kan hebben op de werk-privé balans."
   ]
  },
  {
   "cell_type": "code",
   "execution_count": 20,
   "metadata": {},
   "outputs": [
    {
     "data": {
      "application/vnd.plotly.v1+json": {
       "config": {
        "plotlyServerURL": "https://plot.ly"
       },
       "data": [
        {
         "hovertemplate": "<b>%{hovertext}</b><br><br>ua_country= Denmark<br>Cost of Living=%{x}<br>Economy Score=%{y}<br>Housing Score=%{marker.size}<extra></extra>",
         "hovertext": [
          "Aarhus",
          "Copenhagen"
         ],
         "legendgroup": " Denmark",
         "marker": {
          "color": "#636efa",
          "size": [
           6.1315,
           4.227
          ],
          "sizemode": "area",
          "sizeref": 0.044444444444444446,
          "symbol": "circle"
         },
         "mode": "markers",
         "name": " Denmark",
         "orientation": "v",
         "showlegend": true,
         "type": "scatter",
         "x": [
          4.015000000000001,
          3.426
         ],
         "xaxis": "x",
         "y": [
          4.886500000000001,
          4.886500000000001
         ],
         "yaxis": "y"
        },
        {
         "hovertemplate": "<b>%{hovertext}</b><br><br>ua_country= Australia<br>Cost of Living=%{x}<br>Economy Score=%{y}<br>Housing Score=%{marker.size}<extra></extra>",
         "hovertext": [
          "Adelaide",
          "Brisbane",
          "Melbourne",
          "Perth",
          "Sydney"
         ],
         "legendgroup": " Australia",
         "marker": {
          "color": "#EF553B",
          "size": [
           6.3095,
           5.212,
           4.829999999999999,
           5.233,
           1.9865
          ],
          "sizemode": "area",
          "sizeref": 0.044444444444444446,
          "symbol": "circle"
         },
         "mode": "markers",
         "name": " Australia",
         "orientation": "v",
         "showlegend": true,
         "type": "scatter",
         "x": [
          4.692,
          5.1770000000000005,
          4.798000000000001,
          4.795,
          4.128
         ],
         "xaxis": "x",
         "y": [
          6.0695000000000014,
          6.0695000000000014,
          6.0695000000000014,
          6.0695000000000014,
          6.0695000000000014
         ],
         "yaxis": "y"
        },
        {
         "hovertemplate": "<b>%{hovertext}</b><br><br>ua_country= New Mexico<br>Cost of Living=%{x}<br>Economy Score=%{y}<br>Housing Score=%{marker.size}<extra></extra>",
         "hovertext": [
          "Albuquerque"
         ],
         "legendgroup": " New Mexico",
         "marker": {
          "color": "#00cc96",
          "size": [
           7.262
          ],
          "sizemode": "area",
          "sizeref": 0.044444444444444446,
          "symbol": "circle"
         },
         "mode": "markers",
         "name": " New Mexico",
         "orientation": "v",
         "showlegend": true,
         "type": "scatter",
         "x": [
          6.059
         ],
         "xaxis": "x",
         "y": [
          6.5145
         ],
         "yaxis": "y"
        },
        {
         "hovertemplate": "<b>%{hovertext}</b><br><br>ua_country= Kazakhstan<br>Cost of Living=%{x}<br>Economy Score=%{y}<br>Housing Score=%{marker.size}<extra></extra>",
         "hovertext": [
          "Almaty"
         ],
         "legendgroup": " Kazakhstan",
         "marker": {
          "color": "#ab63fa",
          "size": [
           9.282
          ],
          "sizemode": "area",
          "sizeref": 0.044444444444444446,
          "symbol": "circle"
         },
         "mode": "markers",
         "name": " Kazakhstan",
         "orientation": "v",
         "showlegend": true,
         "type": "scatter",
         "x": [
          9.333
         ],
         "xaxis": "x",
         "y": [
          5.269
         ],
         "yaxis": "y"
        },
        {
         "hovertemplate": "<b>%{hovertext}</b><br><br>ua_country= Netherlands<br>Cost of Living=%{x}<br>Economy Score=%{y}<br>Housing Score=%{marker.size}<extra></extra>",
         "hovertext": [
          "Amsterdam",
          "Eindhoven",
          "Rotterdam",
          "The Hague",
          "Utrecht"
         ],
         "legendgroup": " Netherlands",
         "marker": {
          "color": "#FFA15A",
          "size": [
           3.0529999999999995,
           6.252000000000001,
           6.0440000000000005,
           6.053000000000001,
           5.4665
          ],
          "sizemode": "area",
          "sizeref": 0.044444444444444446,
          "symbol": "circle"
         },
         "mode": "markers",
         "name": " Netherlands",
         "orientation": "v",
         "showlegend": true,
         "type": "scatter",
         "x": [
          3.8240000000000007,
          5.125,
          4.934000000000001,
          4.653,
          4.604
         ],
         "xaxis": "x",
         "y": [
          5.053000000000001,
          5.053000000000001,
          5.053000000000001,
          5.053000000000001,
          5.053000000000001
         ],
         "yaxis": "y"
        },
        {
         "hovertemplate": "<b>%{hovertext}</b><br><br>ua_country= Alaska<br>Cost of Living=%{x}<br>Economy Score=%{y}<br>Housing Score=%{marker.size}<extra></extra>",
         "hovertext": [
          "Anchorage"
         ],
         "legendgroup": " Alaska",
         "marker": {
          "color": "#19d3f3",
          "size": [
           5.433500000000001
          ],
          "sizemode": "area",
          "sizeref": 0.044444444444444446,
          "symbol": "circle"
         },
         "mode": "markers",
         "name": " Alaska",
         "orientation": "v",
         "showlegend": true,
         "type": "scatter",
         "x": [
          3.141
         ],
         "xaxis": "x",
         "y": [
          6.5145
         ],
         "yaxis": "y"
        },
        {
         "hovertemplate": "<b>%{hovertext}</b><br><br>ua_country=Andorra<br>Cost of Living=%{x}<br>Economy Score=%{y}<br>Housing Score=%{marker.size}<extra></extra>",
         "hovertext": [
          "Andorra"
         ],
         "legendgroup": "Andorra",
         "marker": {
          "color": "#FF6692",
          "size": [
           3.969
          ],
          "sizemode": "area",
          "sizeref": 0.044444444444444446,
          "symbol": "circle"
         },
         "mode": "markers",
         "name": "Andorra",
         "orientation": "v",
         "showlegend": true,
         "type": "scatter",
         "x": [
          0
         ],
         "xaxis": "x",
         "y": [
          0
         ],
         "yaxis": "y"
        },
        {
         "hovertemplate": "<b>%{hovertext}</b><br><br>ua_country= Turkey<br>Cost of Living=%{x}<br>Economy Score=%{y}<br>Housing Score=%{marker.size}<extra></extra>",
         "hovertext": [
          "Ankara",
          "Istanbul"
         ],
         "legendgroup": " Turkey",
         "marker": {
          "color": "#B6E880",
          "size": [
           9.928,
           9.1375
          ],
          "sizemode": "area",
          "sizeref": 0.044444444444444446,
          "symbol": "circle"
         },
         "mode": "markers",
         "name": " Turkey",
         "orientation": "v",
         "showlegend": true,
         "type": "scatter",
         "x": [
          9.125,
          8.787
         ],
         "xaxis": "x",
         "y": [
          4.093500000000001,
          4.093500000000001
         ],
         "yaxis": "y"
        },
        {
         "hovertemplate": "<b>%{hovertext}</b><br><br>ua_country= North Carolina<br>Cost of Living=%{x}<br>Economy Score=%{y}<br>Housing Score=%{marker.size}<extra></extra>",
         "hovertext": [
          "Asheville",
          "Charlotte",
          "Raleigh"
         ],
         "legendgroup": " North Carolina",
         "marker": {
          "color": "#FF97FF",
          "size": [
           5.855999999999999,
           5.549,
           6.128500000000001
          ],
          "sizemode": "area",
          "sizeref": 0.044444444444444446,
          "symbol": "circle"
         },
         "mode": "markers",
         "name": " North Carolina",
         "orientation": "v",
         "showlegend": true,
         "type": "scatter",
         "x": [
          5.311,
          4.987,
          5.610000000000001
         ],
         "xaxis": "x",
         "y": [
          6.5145,
          6.5145,
          6.5145
         ],
         "yaxis": "y"
        },
        {
         "hovertemplate": "<b>%{hovertext}</b><br><br>ua_country= Paraguay<br>Cost of Living=%{x}<br>Economy Score=%{y}<br>Housing Score=%{marker.size}<extra></extra>",
         "hovertext": [
          "Asuncion"
         ],
         "legendgroup": " Paraguay",
         "marker": {
          "color": "#FECB52",
          "size": [
           9.2265
          ],
          "sizemode": "area",
          "sizeref": 0.044444444444444446,
          "symbol": "circle"
         },
         "mode": "markers",
         "name": " Paraguay",
         "orientation": "v",
         "showlegend": true,
         "type": "scatter",
         "x": [
          9.295000000000002
         ],
         "xaxis": "x",
         "y": [
          4.109
         ],
         "yaxis": "y"
        },
        {
         "hovertemplate": "<b>%{hovertext}</b><br><br>ua_country= Greece<br>Cost of Living=%{x}<br>Economy Score=%{y}<br>Housing Score=%{marker.size}<extra></extra>",
         "hovertext": [
          "Athens",
          "Thessaloniki"
         ],
         "legendgroup": " Greece",
         "marker": {
          "color": "#636efa",
          "size": [
           9.052499999999998,
           9.3775
          ],
          "sizemode": "area",
          "sizeref": 0.044444444444444446,
          "symbol": "circle"
         },
         "mode": "markers",
         "name": " Greece",
         "orientation": "v",
         "showlegend": true,
         "type": "scatter",
         "x": [
          6.5,
          6.6000000000000005
         ],
         "xaxis": "x",
         "y": [
          3.3199999999999994,
          3.3199999999999994
         ],
         "yaxis": "y"
        },
        {
         "hovertemplate": "<b>%{hovertext}</b><br><br>ua_country= Georgia<br>Cost of Living=%{x}<br>Economy Score=%{y}<br>Housing Score=%{marker.size}<extra></extra>",
         "hovertext": [
          "Atlanta",
          "Tbilisi"
         ],
         "legendgroup": " Georgia",
         "marker": {
          "color": "#EF553B",
          "size": [
           4.9755,
           9.4905
          ],
          "sizemode": "area",
          "sizeref": 0.044444444444444446,
          "symbol": "circle"
         },
         "mode": "markers",
         "name": " Georgia",
         "orientation": "v",
         "showlegend": true,
         "type": "scatter",
         "x": [
          5.241,
          9.765
         ],
         "xaxis": "x",
         "y": [
          6.5145,
          4.2525
         ],
         "yaxis": "y"
        },
        {
         "hovertemplate": "<b>%{hovertext}</b><br><br>ua_country= New Zealand<br>Cost of Living=%{x}<br>Economy Score=%{y}<br>Housing Score=%{marker.size}<extra></extra>",
         "hovertext": [
          "Auckland",
          "Christchurch",
          "Wellington"
         ],
         "legendgroup": " New Zealand",
         "marker": {
          "color": "#00cc96",
          "size": [
           4.72,
           6.934000000000001,
           5.134499999999999
          ],
          "sizemode": "area",
          "sizeref": 0.044444444444444446,
          "symbol": "circle"
         },
         "mode": "markers",
         "name": " New Zealand",
         "orientation": "v",
         "showlegend": true,
         "type": "scatter",
         "x": [
          4.470000000000001,
          5.096,
          5.161
         ],
         "xaxis": "x",
         "y": [
          5.505500000000001,
          5.505500000000001,
          5.505500000000001
         ],
         "yaxis": "y"
        },
        {
         "hovertemplate": "<b>%{hovertext}</b><br><br>ua_country= Texas<br>Cost of Living=%{x}<br>Economy Score=%{y}<br>Housing Score=%{marker.size}<extra></extra>",
         "hovertext": [
          "Austin",
          "Dallas",
          "Houston",
          "San Antonio"
         ],
         "legendgroup": " Texas",
         "marker": {
          "color": "#ab63fa",
          "size": [
           4.3345,
           5.259000000000001,
           5.224500000000001,
           6.402000000000001
          ],
          "sizemode": "area",
          "sizeref": 0.044444444444444446,
          "symbol": "circle"
         },
         "mode": "markers",
         "name": " Texas",
         "orientation": "v",
         "showlegend": true,
         "type": "scatter",
         "x": [
          5.3549999999999995,
          6.090999999999999,
          6.162,
          6.683
         ],
         "xaxis": "x",
         "y": [
          6.5145,
          6.5145,
          6.5145,
          6.5145
         ],
         "yaxis": "y"
        },
        {
         "hovertemplate": "<b>%{hovertext}</b><br><br>ua_country= Azerbaijan<br>Cost of Living=%{x}<br>Economy Score=%{y}<br>Housing Score=%{marker.size}<extra></extra>",
         "hovertext": [
          "Baku"
         ],
         "legendgroup": " Azerbaijan",
         "marker": {
          "color": "#FFA15A",
          "size": [
           9.745
          ],
          "sizemode": "area",
          "sizeref": 0.044444444444444446,
          "symbol": "circle"
         },
         "mode": "markers",
         "name": " Azerbaijan",
         "orientation": "v",
         "showlegend": true,
         "type": "scatter",
         "x": [
          9.806
         ],
         "xaxis": "x",
         "y": [
          3.8765
         ],
         "yaxis": "y"
        },
        {
         "hovertemplate": "<b>%{hovertext}</b><br><br>ua_country= Indonesia<br>Cost of Living=%{x}<br>Economy Score=%{y}<br>Housing Score=%{marker.size}<extra></extra>",
         "hovertext": [
          "Bali",
          "Jakarta"
         ],
         "legendgroup": " Indonesia",
         "marker": {
          "color": "#19d3f3",
          "size": [
           5,
           8.671
          ],
          "sizemode": "area",
          "sizeref": 0.044444444444444446,
          "symbol": "circle"
         },
         "mode": "markers",
         "name": " Indonesia",
         "orientation": "v",
         "showlegend": true,
         "type": "scatter",
         "x": [
          0,
          8.471
         ],
         "xaxis": "x",
         "y": [
          4.657500000000001,
          4.657500000000001
         ],
         "yaxis": "y"
        },
        {
         "hovertemplate": "<b>%{hovertext}</b><br><br>ua_country= Maryland<br>Cost of Living=%{x}<br>Economy Score=%{y}<br>Housing Score=%{marker.size}<extra></extra>",
         "hovertext": [
          "Baltimore"
         ],
         "legendgroup": " Maryland",
         "marker": {
          "color": "#FF6692",
          "size": [
           4.829999999999999
          ],
          "sizemode": "area",
          "sizeref": 0.044444444444444446,
          "symbol": "circle"
         },
         "mode": "markers",
         "name": " Maryland",
         "orientation": "v",
         "showlegend": true,
         "type": "scatter",
         "x": [
          4.982
         ],
         "xaxis": "x",
         "y": [
          6.5145
         ],
         "yaxis": "y"
        },
        {
         "hovertemplate": "<b>%{hovertext}</b><br><br>ua_country= Thailand<br>Cost of Living=%{x}<br>Economy Score=%{y}<br>Housing Score=%{marker.size}<extra></extra>",
         "hovertext": [
          "Bangkok",
          "Chiang Mai",
          "Phuket"
         ],
         "legendgroup": " Thailand",
         "marker": {
          "color": "#B6E880",
          "size": [
           7.3935,
           9.3725,
           8.823
          ],
          "sizemode": "area",
          "sizeref": 0.044444444444444446,
          "symbol": "circle"
         },
         "mode": "markers",
         "name": " Thailand",
         "orientation": "v",
         "showlegend": true,
         "type": "scatter",
         "x": [
          7.222,
          8.495000000000001,
          7.602000000000001
         ],
         "xaxis": "x",
         "y": [
          2.387,
          2.387,
          2.387
         ],
         "yaxis": "y"
        },
        {
         "hovertemplate": "<b>%{hovertext}</b><br><br>ua_country= Spain<br>Cost of Living=%{x}<br>Economy Score=%{y}<br>Housing Score=%{marker.size}<extra></extra>",
         "hovertext": [
          "Barcelona",
          "Bilbao",
          "Las Palmas de Gran Canaria",
          "Madrid",
          "Malaga",
          "Seville",
          "Valencia"
         ],
         "legendgroup": " Spain",
         "marker": {
          "color": "#FF97FF",
          "size": [
           6.3229999999999995,
           6.888000000000001,
           8.232000000000001,
           6.414000000000001,
           8.0515,
           8.095500000000001,
           8.135500000000002
          ],
          "sizemode": "area",
          "sizeref": 0.044444444444444446,
          "symbol": "circle"
         },
         "mode": "markers",
         "name": " Spain",
         "orientation": "v",
         "showlegend": true,
         "type": "scatter",
         "x": [
          6.074000000000001,
          5.638,
          7.717,
          6.2490000000000006,
          7.375,
          6.961,
          6.872
         ],
         "xaxis": "x",
         "y": [
          4.296,
          4.296,
          4.296,
          4.296,
          4.296,
          4.296,
          4.296
         ],
         "yaxis": "y"
        },
        {
         "hovertemplate": "<b>%{hovertext}</b><br><br>ua_country= China<br>Cost of Living=%{x}<br>Economy Score=%{y}<br>Housing Score=%{marker.size}<extra></extra>",
         "hovertext": [
          "Beijing",
          "Shanghai"
         ],
         "legendgroup": " China",
         "marker": {
          "color": "#FECB52",
          "size": [
           6.173000000000001,
           5.744
          ],
          "sizemode": "area",
          "sizeref": 0.044444444444444446,
          "symbol": "circle"
         },
         "mode": "markers",
         "name": " China",
         "orientation": "v",
         "showlegend": true,
         "type": "scatter",
         "x": [
          8.101,
          7.179
         ],
         "xaxis": "x",
         "y": [
          6.103,
          6.103
         ],
         "yaxis": "y"
        },
        {
         "hovertemplate": "<b>%{hovertext}</b><br><br>ua_country= Lebanon<br>Cost of Living=%{x}<br>Economy Score=%{y}<br>Housing Score=%{marker.size}<extra></extra>",
         "hovertext": [
          "Beirut"
         ],
         "legendgroup": " Lebanon",
         "marker": {
          "color": "#636efa",
          "size": [
           6.655500000000001
          ],
          "sizemode": "area",
          "sizeref": 0.044444444444444446,
          "symbol": "circle"
         },
         "mode": "markers",
         "name": " Lebanon",
         "orientation": "v",
         "showlegend": true,
         "type": "scatter",
         "x": [
          6.3
         ],
         "xaxis": "x",
         "y": [
          3.4345000000000003
         ],
         "yaxis": "y"
        },
        {
         "hovertemplate": "<b>%{hovertext}</b><br><br>ua_country= United Kingdom<br>Cost of Living=%{x}<br>Economy Score=%{y}<br>Housing Score=%{marker.size}<extra></extra>",
         "hovertext": [
          "Belfast",
          "Birmingham",
          "Brighton",
          "Bristol",
          "Cambridge",
          "Cardiff",
          "Edinburgh",
          "Glasgow",
          "Leeds",
          "Liverpool",
          "London",
          "Manchester",
          "Oxford"
         ],
         "legendgroup": " United Kingdom",
         "marker": {
          "color": "#EF553B",
          "size": [
           7.532000000000001,
           5.9035,
           2.49,
           5.215999999999999,
           4.1055,
           7.065,
           5.8450000000000015,
           6.9285000000000005,
           6.811,
           7.485,
           1,
           6.455500000000001,
           3.65
          ],
          "sizemode": "area",
          "sizeref": 0.044444444444444446,
          "symbol": "circle"
         },
         "mode": "markers",
         "name": " United Kingdom",
         "orientation": "v",
         "showlegend": true,
         "type": "scatter",
         "x": [
          6.014000000000001,
          5.814,
          5.324,
          5.242,
          4.851,
          6.082,
          5.114,
          5.623,
          5.3629999999999995,
          6.02,
          3.94,
          5.049000000000001,
          4.941000000000001
         ],
         "xaxis": "x",
         "y": [
          5.438,
          5.438,
          5.438,
          5.438,
          5.438,
          5.438,
          5.438,
          5.438,
          5.438,
          5.438,
          5.438,
          5.438,
          5.438
         ],
         "yaxis": "y"
        },
        {
         "hovertemplate": "<b>%{hovertext}</b><br><br>ua_country= Serbia<br>Cost of Living=%{x}<br>Economy Score=%{y}<br>Housing Score=%{marker.size}<extra></extra>",
         "hovertext": [
          "Belgrade"
         ],
         "legendgroup": " Serbia",
         "marker": {
          "color": "#00cc96",
          "size": [
           9.2575
          ],
          "sizemode": "area",
          "sizeref": 0.044444444444444446,
          "symbol": "circle"
         },
         "mode": "markers",
         "name": " Serbia",
         "orientation": "v",
         "showlegend": true,
         "type": "scatter",
         "x": [
          8.546000000000001
         ],
         "xaxis": "x",
         "y": [
          1.638
         ],
         "yaxis": "y"
        },
        {
         "hovertemplate": "<b>%{hovertext}</b><br><br>ua_country= Belize<br>Cost of Living=%{x}<br>Economy Score=%{y}<br>Housing Score=%{marker.size}<extra></extra>",
         "hovertext": [
          "Belize City"
         ],
         "legendgroup": " Belize",
         "marker": {
          "color": "#ab63fa",
          "size": [
           4.6425
          ],
          "sizemode": "area",
          "sizeref": 0.044444444444444446,
          "symbol": "circle"
         },
         "mode": "markers",
         "name": " Belize",
         "orientation": "v",
         "showlegend": true,
         "type": "scatter",
         "x": [
          0
         ],
         "xaxis": "x",
         "y": [
          3.4959999999999996
         ],
         "yaxis": "y"
        },
        {
         "hovertemplate": "<b>%{hovertext}</b><br><br>ua_country= India<br>Cost of Living=%{x}<br>Economy Score=%{y}<br>Housing Score=%{marker.size}<extra></extra>",
         "hovertext": [
          "Bengaluru",
          "Chennai",
          "Delhi",
          "Hyderabad",
          "Mumbai"
         ],
         "legendgroup": " India",
         "marker": {
          "color": "#FFA15A",
          "size": [
           9.810999999999998,
           10,
           9.752,
           10,
           8.124
          ],
          "sizemode": "area",
          "sizeref": 0.044444444444444446,
          "symbol": "circle"
         },
         "mode": "markers",
         "name": " India",
         "orientation": "v",
         "showlegend": true,
         "type": "scatter",
         "x": [
          10,
          10,
          9.869,
          10,
          9.825
         ],
         "xaxis": "x",
         "y": [
          5.5565,
          5.5565,
          5.5565,
          5.5565,
          5.5565
         ],
         "yaxis": "y"
        },
        {
         "hovertemplate": "<b>%{hovertext}</b><br><br>ua_country= Norway<br>Cost of Living=%{x}<br>Economy Score=%{y}<br>Housing Score=%{marker.size}<extra></extra>",
         "hovertext": [
          "Bergen",
          "Oslo"
         ],
         "legendgroup": " Norway",
         "marker": {
          "color": "#19d3f3",
          "size": [
           5.229499999999999,
           3.768
          ],
          "sizemode": "area",
          "sizeref": 0.044444444444444446,
          "symbol": "circle"
         },
         "mode": "markers",
         "name": " Norway",
         "orientation": "v",
         "showlegend": true,
         "type": "scatter",
         "x": [
          1.805,
          1.0380000000000005
         ],
         "xaxis": "x",
         "y": [
          7.0735,
          7.0735
         ],
         "yaxis": "y"
        },
        {
         "hovertemplate": "<b>%{hovertext}</b><br><br>ua_country= Germany<br>Cost of Living=%{x}<br>Economy Score=%{y}<br>Housing Score=%{marker.size}<extra></extra>",
         "hovertext": [
          "Berlin",
          "Cologne",
          "Dresden",
          "Dusseldorf",
          "Frankfurt",
          "Hamburg",
          "Hannover",
          "Karlsruhe",
          "Leipzig",
          "Munich",
          "Stuttgart"
         ],
         "legendgroup": " Germany",
         "marker": {
          "color": "#FF6692",
          "size": [
           6.3950000000000005,
           6.5265,
           7.884500000000001,
           6.282000000000001,
           5.957,
           5.944500000000001,
           7.754000000000001,
           7.764499999999998,
           8.177,
           4.23,
           6.314000000000001
          ],
          "sizemode": "area",
          "sizeref": 0.044444444444444446,
          "symbol": "circle"
         },
         "mode": "markers",
         "name": " Germany",
         "orientation": "v",
         "showlegend": true,
         "type": "scatter",
         "x": [
          5.524,
          5.606999999999999,
          6.0280000000000005,
          5.1339999999999995,
          5.143,
          4.904,
          6.000000000000001,
          5.294,
          5.9110000000000005,
          4.648,
          5.673000000000002
         ],
         "xaxis": "x",
         "y": [
          5.373500000000001,
          5.373500000000001,
          5.373500000000001,
          5.373500000000001,
          5.373500000000001,
          5.373500000000001,
          5.373500000000001,
          5.373500000000001,
          5.373500000000001,
          5.373500000000001,
          5.373500000000001
         ],
         "yaxis": "y"
        },
        {
         "hovertemplate": "<b>%{hovertext}</b><br><br>ua_country= Switzerland<br>Cost of Living=%{x}<br>Economy Score=%{y}<br>Housing Score=%{marker.size}<extra></extra>",
         "hovertext": [
          "Bern",
          "Geneva",
          "Lausanne",
          "Zurich"
         ],
         "legendgroup": " Switzerland",
         "marker": {
          "color": "#B6E880",
          "size": [
           4.922500000000001,
           1.0775,
           4.0755,
           1.473
          ],
          "sizemode": "area",
          "sizeref": 0.044444444444444446,
          "symbol": "circle"
         },
         "mode": "markers",
         "name": " Switzerland",
         "orientation": "v",
         "showlegend": true,
         "type": "scatter",
         "x": [
          1,
          1,
          1,
          1
         ],
         "xaxis": "x",
         "y": [
          6.552,
          6.552,
          6.552,
          6.552
         ],
         "yaxis": "y"
        },
        {
         "hovertemplate": "<b>%{hovertext}</b><br><br>ua_country= Alabama<br>Cost of Living=%{x}<br>Economy Score=%{y}<br>Housing Score=%{marker.size}<extra></extra>",
         "hovertext": [
          "Birmingham"
         ],
         "legendgroup": " Alabama",
         "marker": {
          "color": "#FF97FF",
          "size": [
           6.5555
          ],
          "sizemode": "area",
          "sizeref": 0.044444444444444446,
          "symbol": "circle"
         },
         "mode": "markers",
         "name": " Alabama",
         "orientation": "v",
         "showlegend": true,
         "type": "scatter",
         "x": [
          5.133
         ],
         "xaxis": "x",
         "y": [
          6.5145
         ],
         "yaxis": "y"
        },
        {
         "hovertemplate": "<b>%{hovertext}</b><br><br>ua_country= Colombia<br>Cost of Living=%{x}<br>Economy Score=%{y}<br>Housing Score=%{marker.size}<extra></extra>",
         "hovertext": [
          "Bogota",
          "Medellin"
         ],
         "legendgroup": " Colombia",
         "marker": {
          "color": "#FECB52",
          "size": [
           9.0275,
           9.2315
          ],
          "sizemode": "area",
          "sizeref": 0.044444444444444446,
          "symbol": "circle"
         },
         "mode": "markers",
         "name": " Colombia",
         "orientation": "v",
         "showlegend": true,
         "type": "scatter",
         "x": [
          9.079999999999998,
          9.315
         ],
         "xaxis": "x",
         "y": [
          4.5945,
          4.5945
         ],
         "yaxis": "y"
        },
        {
         "hovertemplate": "<b>%{hovertext}</b><br><br>ua_country= Idaho<br>Cost of Living=%{x}<br>Economy Score=%{y}<br>Housing Score=%{marker.size}<extra></extra>",
         "hovertext": [
          "Boise"
         ],
         "legendgroup": " Idaho",
         "marker": {
          "color": "#636efa",
          "size": [
           6.9635
          ],
          "sizemode": "area",
          "sizeref": 0.044444444444444446,
          "symbol": "circle"
         },
         "mode": "markers",
         "name": " Idaho",
         "orientation": "v",
         "showlegend": true,
         "type": "scatter",
         "x": [
          6.578
         ],
         "xaxis": "x",
         "y": [
          6.5145
         ],
         "yaxis": "y"
        },
        {
         "hovertemplate": "<b>%{hovertext}</b><br><br>ua_country= Italy<br>Cost of Living=%{x}<br>Economy Score=%{y}<br>Housing Score=%{marker.size}<extra></extra>",
         "hovertext": [
          "Bologna",
          "Florence",
          "Milan",
          "Naples",
          "Rome",
          "Turin"
         ],
         "legendgroup": " Italy",
         "marker": {
          "color": "#EF553B",
          "size": [
           7.472,
           6.775,
           5.194500000000001,
           8.215,
           5.6025,
           8.069500000000001
          ],
          "sizemode": "area",
          "sizeref": 0.044444444444444446,
          "symbol": "circle"
         },
         "mode": "markers",
         "name": " Italy",
         "orientation": "v",
         "showlegend": true,
         "type": "scatter",
         "x": [
          5.189,
          4.649,
          4.801000000000001,
          5.81,
          5.323,
          5.612
         ],
         "xaxis": "x",
         "y": [
          3.3625,
          3.3625,
          3.3625,
          3.3625,
          3.3625,
          3.3625
         ],
         "yaxis": "y"
        },
        {
         "hovertemplate": "<b>%{hovertext}</b><br><br>ua_country= France<br>Cost of Living=%{x}<br>Economy Score=%{y}<br>Housing Score=%{marker.size}<extra></extra>",
         "hovertext": [
          "Bordeaux",
          "Grenoble",
          "Lille",
          "Lyon",
          "Marseille",
          "Nantes",
          "Nice",
          "Paris",
          "Toulouse"
         ],
         "legendgroup": " France",
         "marker": {
          "color": "#00cc96",
          "size": [
           7.1915,
           7.505000000000001,
           7.532000000000001,
           6.697000000000001,
           7.5885,
           7.7225,
           6.4985,
           3.5835,
           7.544
          ],
          "sizemode": "area",
          "sizeref": 0.044444444444444446,
          "symbol": "circle"
         },
         "mode": "markers",
         "name": " France",
         "orientation": "v",
         "showlegend": true,
         "type": "scatter",
         "x": [
          4.583,
          4.317,
          5.399000000000001,
          4.349,
          6.026000000000002,
          5.021,
          4.475,
          3.664,
          4.552
         ],
         "xaxis": "x",
         "y": [
          4.2045,
          4.2045,
          4.2045,
          4.2045,
          4.2045,
          4.2045,
          4.2045,
          4.2045,
          4.2045
         ],
         "yaxis": "y"
        },
        {
         "hovertemplate": "<b>%{hovertext}</b><br><br>ua_country= Massachusetts<br>Cost of Living=%{x}<br>Economy Score=%{y}<br>Housing Score=%{marker.size}<extra></extra>",
         "hovertext": [
          "Boston"
         ],
         "legendgroup": " Massachusetts",
         "marker": {
          "color": "#ab63fa",
          "size": [
           1
          ],
          "sizemode": "area",
          "sizeref": 0.044444444444444446,
          "symbol": "circle"
         },
         "mode": "markers",
         "name": " Massachusetts",
         "orientation": "v",
         "showlegend": true,
         "type": "scatter",
         "x": [
          4.259
         ],
         "xaxis": "x",
         "y": [
          6.5145
         ],
         "yaxis": "y"
        },
        {
         "hovertemplate": "<b>%{hovertext}</b><br><br>ua_country= Colorado<br>Cost of Living=%{x}<br>Economy Score=%{y}<br>Housing Score=%{marker.size}<extra></extra>",
         "hovertext": [
          "Boulder",
          "Colorado Springs",
          "Denver",
          "Fort Collins"
         ],
         "legendgroup": " Colorado",
         "marker": {
          "color": "#FFA15A",
          "size": [
           3.704,
           6.4995,
           3.8375,
           2.744500000000001
          ],
          "sizemode": "area",
          "sizeref": 0.044444444444444446,
          "symbol": "circle"
         },
         "mode": "markers",
         "name": " Colorado",
         "orientation": "v",
         "showlegend": true,
         "type": "scatter",
         "x": [
          4.531,
          5.375,
          5.102,
          0
         ],
         "xaxis": "x",
         "y": [
          6.5145,
          6.5145,
          6.5145,
          6.5145
         ],
         "yaxis": "y"
        },
        {
         "hovertemplate": "<b>%{hovertext}</b><br><br>ua_country= Montana<br>Cost of Living=%{x}<br>Economy Score=%{y}<br>Housing Score=%{marker.size}<extra></extra>",
         "hovertext": [
          "Bozeman"
         ],
         "legendgroup": " Montana",
         "marker": {
          "color": "#19d3f3",
          "size": [
           2.949
          ],
          "sizemode": "area",
          "sizeref": 0.044444444444444446,
          "symbol": "circle"
         },
         "mode": "markers",
         "name": " Montana",
         "orientation": "v",
         "showlegend": true,
         "type": "scatter",
         "x": [
          0
         ],
         "xaxis": "x",
         "y": [
          6.5145
         ],
         "yaxis": "y"
        },
        {
         "hovertemplate": "<b>%{hovertext}</b><br><br>ua_country= Slovakia<br>Cost of Living=%{x}<br>Economy Score=%{y}<br>Housing Score=%{marker.size}<extra></extra>",
         "hovertext": [
          "Bratislava"
         ],
         "legendgroup": " Slovakia",
         "marker": {
          "color": "#FF6692",
          "size": [
           7.874499999999999
          ],
          "sizemode": "area",
          "sizeref": 0.044444444444444446,
          "symbol": "circle"
         },
         "mode": "markers",
         "name": " Slovakia",
         "orientation": "v",
         "showlegend": true,
         "type": "scatter",
         "x": [
          7.618
         ],
         "xaxis": "x",
         "y": [
          4.4705
         ],
         "yaxis": "y"
        },
        {
         "hovertemplate": "<b>%{hovertext}</b><br><br>ua_country= Czechia<br>Cost of Living=%{x}<br>Economy Score=%{y}<br>Housing Score=%{marker.size}<extra></extra>",
         "hovertext": [
          "Brno",
          "Prague"
         ],
         "legendgroup": " Czechia",
         "marker": {
          "color": "#B6E880",
          "size": [
           8.329000000000002,
           7.4305
          ],
          "sizemode": "area",
          "sizeref": 0.044444444444444446,
          "symbol": "circle"
         },
         "mode": "markers",
         "name": " Czechia",
         "orientation": "v",
         "showlegend": true,
         "type": "scatter",
         "x": [
          7.925999999999998,
          7.569
         ],
         "xaxis": "x",
         "y": [
          4.378000000000001,
          4.378000000000001
         ],
         "yaxis": "y"
        },
        {
         "hovertemplate": "<b>%{hovertext}</b><br><br>ua_country= Belgium<br>Cost of Living=%{x}<br>Economy Score=%{y}<br>Housing Score=%{marker.size}<extra></extra>",
         "hovertext": [
          "Brussels"
         ],
         "legendgroup": " Belgium",
         "marker": {
          "color": "#FF97FF",
          "size": [
           6.3549999999999995
          ],
          "sizemode": "area",
          "sizeref": 0.044444444444444446,
          "symbol": "circle"
         },
         "mode": "markers",
         "name": " Belgium",
         "orientation": "v",
         "showlegend": true,
         "type": "scatter",
         "x": [
          4.477
         ],
         "xaxis": "x",
         "y": [
          4.8115000000000006
         ],
         "yaxis": "y"
        },
        {
         "hovertemplate": "<b>%{hovertext}</b><br><br>ua_country= Romania<br>Cost of Living=%{x}<br>Economy Score=%{y}<br>Housing Score=%{marker.size}<extra></extra>",
         "hovertext": [
          "Bucharest",
          "Cluj-Napoca"
         ],
         "legendgroup": " Romania",
         "marker": {
          "color": "#FECB52",
          "size": [
           9.186500000000002,
           9.165
          ],
          "sizemode": "area",
          "sizeref": 0.044444444444444446,
          "symbol": "circle"
         },
         "mode": "markers",
         "name": " Romania",
         "orientation": "v",
         "showlegend": true,
         "type": "scatter",
         "x": [
          8.516,
          8.794
         ],
         "xaxis": "x",
         "y": [
          4.103,
          4.103
         ],
         "yaxis": "y"
        },
        {
         "hovertemplate": "<b>%{hovertext}</b><br><br>ua_country= Hungary<br>Cost of Living=%{x}<br>Economy Score=%{y}<br>Housing Score=%{marker.size}<extra></extra>",
         "hovertext": [
          "Budapest"
         ],
         "legendgroup": " Hungary",
         "marker": {
          "color": "#636efa",
          "size": [
           8.570500000000001
          ],
          "sizemode": "area",
          "sizeref": 0.044444444444444446,
          "symbol": "circle"
         },
         "mode": "markers",
         "name": " Hungary",
         "orientation": "v",
         "showlegend": true,
         "type": "scatter",
         "x": [
          7.948
         ],
         "xaxis": "x",
         "y": [
          4.946
         ],
         "yaxis": "y"
        },
        {
         "hovertemplate": "<b>%{hovertext}</b><br><br>ua_country= Argentina<br>Cost of Living=%{x}<br>Economy Score=%{y}<br>Housing Score=%{marker.size}<extra></extra>",
         "hovertext": [
          "Buenos Aires"
         ],
         "legendgroup": " Argentina",
         "marker": {
          "color": "#EF553B",
          "size": [
           8.812000000000001
          ],
          "sizemode": "area",
          "sizeref": 0.044444444444444446,
          "symbol": "circle"
         },
         "mode": "markers",
         "name": " Argentina",
         "orientation": "v",
         "showlegend": true,
         "type": "scatter",
         "x": [
          7.763999999999999
         ],
         "xaxis": "x",
         "y": [
          2.884
         ],
         "yaxis": "y"
        },
        {
         "hovertemplate": "<b>%{hovertext}</b><br><br>ua_country= New York<br>Cost of Living=%{x}<br>Economy Score=%{y}<br>Housing Score=%{marker.size}<extra></extra>",
         "hovertext": [
          "Buffalo",
          "New York",
          "Rochester"
         ],
         "legendgroup": " New York",
         "marker": {
          "color": "#00cc96",
          "size": [
           7.0765,
           1,
           6.727
          ],
          "sizemode": "area",
          "sizeref": 0.044444444444444446,
          "symbol": "circle"
         },
         "mode": "markers",
         "name": " New York",
         "orientation": "v",
         "showlegend": true,
         "type": "scatter",
         "x": [
          5.228000000000001,
          2.342,
          5.4879999999999995
         ],
         "xaxis": "x",
         "y": [
          6.5145,
          6.5145,
          6.5145
         ],
         "yaxis": "y"
        },
        {
         "hovertemplate": "<b>%{hovertext}</b><br><br>ua_country= Egypt<br>Cost of Living=%{x}<br>Economy Score=%{y}<br>Housing Score=%{marker.size}<extra></extra>",
         "hovertext": [
          "Cairo"
         ],
         "legendgroup": " Egypt",
         "marker": {
          "color": "#ab63fa",
          "size": [
           10
          ],
          "sizemode": "area",
          "sizeref": 0.044444444444444446,
          "symbol": "circle"
         },
         "mode": "markers",
         "name": " Egypt",
         "orientation": "v",
         "showlegend": true,
         "type": "scatter",
         "x": [
          10
         ],
         "xaxis": "x",
         "y": [
          2.978
         ],
         "yaxis": "y"
        },
        {
         "hovertemplate": "<b>%{hovertext}</b><br><br>ua_country= Canada<br>Cost of Living=%{x}<br>Economy Score=%{y}<br>Housing Score=%{marker.size}<extra></extra>",
         "hovertext": [
          "Calgary",
          "Edmonton",
          "Halifax",
          "Montreal",
          "Ottawa",
          "Quebec",
          "Saskatoon",
          "Toronto",
          "Vancouver",
          "Victoria",
          "Winnipeg"
         ],
         "legendgroup": " Canada",
         "marker": {
          "color": "#FFA15A",
          "size": [
           6.495000000000001,
           6.729500000000001,
           6.895000000000001,
           7.392000000000001,
           6.700499999999999,
           8.5175,
           7.159500000000001,
           4.66,
           4.080500000000001,
           5.696,
           7.552500000000001
          ],
          "sizemode": "area",
          "sizeref": 0.044444444444444446,
          "symbol": "circle"
         },
         "mode": "markers",
         "name": " Canada",
         "orientation": "v",
         "showlegend": true,
         "type": "scatter",
         "x": [
          5.417999999999999,
          5.522,
          4.9430000000000005,
          5.948,
          6.027,
          6.037,
          5.042000000000001,
          5.271,
          5.259,
          5.703,
          5.882
         ],
         "xaxis": "x",
         "y": [
          5.8405000000000005,
          5.8405000000000005,
          5.8405000000000005,
          5.8405000000000005,
          5.8405000000000005,
          5.8405000000000005,
          5.8405000000000005,
          5.8405000000000005,
          5.8405000000000005,
          5.8405000000000005,
          5.8405000000000005
         ],
         "yaxis": "y"
        },
        {
         "hovertemplate": "<b>%{hovertext}</b><br><br>ua_country= South Africa<br>Cost of Living=%{x}<br>Economy Score=%{y}<br>Housing Score=%{marker.size}<extra></extra>",
         "hovertext": [
          "Cape Town",
          "Johannesburg"
         ],
         "legendgroup": " South Africa",
         "marker": {
          "color": "#19d3f3",
          "size": [
           6.7635000000000005,
           8.012
          ],
          "sizemode": "area",
          "sizeref": 0.044444444444444446,
          "symbol": "circle"
         },
         "mode": "markers",
         "name": " South Africa",
         "orientation": "v",
         "showlegend": true,
         "type": "scatter",
         "x": [
          7.955,
          7.575000000000001
         ],
         "xaxis": "x",
         "y": [
          2.7680000000000007,
          2.7680000000000007
         ],
         "yaxis": "y"
        },
        {
         "hovertemplate": "<b>%{hovertext}</b><br><br>ua_country= Venezuela<br>Cost of Living=%{x}<br>Economy Score=%{y}<br>Housing Score=%{marker.size}<extra></extra>",
         "hovertext": [
          "Caracas"
         ],
         "legendgroup": " Venezuela",
         "marker": {
          "color": "#FF6692",
          "size": [
           4.9025
          ],
          "sizemode": "area",
          "sizeref": 0.044444444444444446,
          "symbol": "circle"
         },
         "mode": "markers",
         "name": " Venezuela",
         "orientation": "v",
         "showlegend": true,
         "type": "scatter",
         "x": [
          9.82
         ],
         "xaxis": "x",
         "y": [
          1.978
         ],
         "yaxis": "y"
        },
        {
         "hovertemplate": "<b>%{hovertext}</b><br><br>ua_country= Morocco<br>Cost of Living=%{x}<br>Economy Score=%{y}<br>Housing Score=%{marker.size}<extra></extra>",
         "hovertext": [
          "Casablanca"
         ],
         "legendgroup": " Morocco",
         "marker": {
          "color": "#B6E880",
          "size": [
           8.822
          ],
          "sizemode": "area",
          "sizeref": 0.044444444444444446,
          "symbol": "circle"
         },
         "mode": "markers",
         "name": " Morocco",
         "orientation": "v",
         "showlegend": true,
         "type": "scatter",
         "x": [
          9.088
         ],
         "xaxis": "x",
         "y": [
          3.1735
         ],
         "yaxis": "y"
        },
        {
         "hovertemplate": "<b>%{hovertext}</b><br><br>ua_country= South Carolina<br>Cost of Living=%{x}<br>Economy Score=%{y}<br>Housing Score=%{marker.size}<extra></extra>",
         "hovertext": [
          "Charleston"
         ],
         "legendgroup": " South Carolina",
         "marker": {
          "color": "#FF97FF",
          "size": [
           4.6370000000000005
          ],
          "sizemode": "area",
          "sizeref": 0.044444444444444446,
          "symbol": "circle"
         },
         "mode": "markers",
         "name": " South Carolina",
         "orientation": "v",
         "showlegend": true,
         "type": "scatter",
         "x": [
          3.567
         ],
         "xaxis": "x",
         "y": [
          6.5145
         ],
         "yaxis": "y"
        },
        {
         "hovertemplate": "<b>%{hovertext}</b><br><br>ua_country= Tennessee<br>Cost of Living=%{x}<br>Economy Score=%{y}<br>Housing Score=%{marker.size}<extra></extra>",
         "hovertext": [
          "Chattanooga",
          "Knoxville",
          "Memphis",
          "Nashville"
         ],
         "legendgroup": " Tennessee",
         "marker": {
          "color": "#FECB52",
          "size": [
           6.782,
           6.9754999999999985,
           7.1145000000000005,
           4.4545
          ],
          "sizemode": "area",
          "sizeref": 0.044444444444444446,
          "symbol": "circle"
         },
         "mode": "markers",
         "name": " Tennessee",
         "orientation": "v",
         "showlegend": true,
         "type": "scatter",
         "x": [
          6.121,
          6.447000000000001,
          5.829,
          5.742000000000001
         ],
         "xaxis": "x",
         "y": [
          6.5145,
          6.5145,
          6.5145,
          6.5145
         ],
         "yaxis": "y"
        },
        {
         "hovertemplate": "<b>%{hovertext}</b><br><br>ua_country= Illinois<br>Cost of Living=%{x}<br>Economy Score=%{y}<br>Housing Score=%{marker.size}<extra></extra>",
         "hovertext": [
          "Chicago"
         ],
         "legendgroup": " Illinois",
         "marker": {
          "color": "#636efa",
          "size": [
           3.702
          ],
          "sizemode": "area",
          "sizeref": 0.044444444444444446,
          "symbol": "circle"
         },
         "mode": "markers",
         "name": " Illinois",
         "orientation": "v",
         "showlegend": true,
         "type": "scatter",
         "x": [
          4.766000000000001
         ],
         "xaxis": "x",
         "y": [
          6.5145
         ],
         "yaxis": "y"
        },
        {
         "hovertemplate": "<b>%{hovertext}</b><br><br>ua_country= Moldova<br>Cost of Living=%{x}<br>Economy Score=%{y}<br>Housing Score=%{marker.size}<extra></extra>",
         "hovertext": [
          "Chisinau"
         ],
         "legendgroup": " Moldova",
         "marker": {
          "color": "#EF553B",
          "size": [
           9.6765
          ],
          "sizemode": "area",
          "sizeref": 0.044444444444444446,
          "symbol": "circle"
         },
         "mode": "markers",
         "name": " Moldova",
         "orientation": "v",
         "showlegend": true,
         "type": "scatter",
         "x": [
          9.343
         ],
         "xaxis": "x",
         "y": [
          3.9765000000000006
         ],
         "yaxis": "y"
        },
        {
         "hovertemplate": "<b>%{hovertext}</b><br><br>ua_country= Ohio<br>Cost of Living=%{x}<br>Economy Score=%{y}<br>Housing Score=%{marker.size}<extra></extra>",
         "hovertext": [
          "Cincinnati",
          "Cleveland",
          "Columbus"
         ],
         "legendgroup": " Ohio",
         "marker": {
          "color": "#00cc96",
          "size": [
           6.6775,
           7.155999999999999,
           6.2895
          ],
          "sizemode": "area",
          "sizeref": 0.044444444444444446,
          "symbol": "circle"
         },
         "mode": "markers",
         "name": " Ohio",
         "orientation": "v",
         "showlegend": true,
         "type": "scatter",
         "x": [
          6.1080000000000005,
          5.595,
          5.746000000000001
         ],
         "xaxis": "x",
         "y": [
          6.5145,
          6.5145,
          6.5145
         ],
         "yaxis": "y"
        },
        {
         "hovertemplate": "<b>%{hovertext}</b><br><br>ua_country= Ireland<br>Cost of Living=%{x}<br>Economy Score=%{y}<br>Housing Score=%{marker.size}<extra></extra>",
         "hovertext": [
          "Cork",
          "Dublin",
          "Galway"
         ],
         "legendgroup": " Ireland",
         "marker": {
          "color": "#ab63fa",
          "size": [
           5.514500000000001,
           2.5124999999999997,
           6.275500000000001
          ],
          "sizemode": "area",
          "sizeref": 0.044444444444444446,
          "symbol": "circle"
         },
         "mode": "markers",
         "name": " Ireland",
         "orientation": "v",
         "showlegend": true,
         "type": "scatter",
         "x": [
          4.902,
          4.005000000000001,
          4.9270000000000005
         ],
         "xaxis": "x",
         "y": [
          7.514500000000001,
          7.514500000000001,
          7.514500000000001
         ],
         "yaxis": "y"
        },
        {
         "hovertemplate": "<b>%{hovertext}</b><br><br>ua_country= Brazil<br>Cost of Living=%{x}<br>Economy Score=%{y}<br>Housing Score=%{marker.size}<extra></extra>",
         "hovertext": [
          "Curitiba",
          "Florianopolis",
          "Porto Alegre",
          "Rio De Janeiro",
          "Sao Paulo"
         ],
         "legendgroup": " Brazil",
         "marker": {
          "color": "#FFA15A",
          "size": [
           9.4295,
           9.0595,
           9.221000000000002,
           8.32,
           8.316
          ],
          "sizemode": "area",
          "sizeref": 0.044444444444444446,
          "symbol": "circle"
         },
         "mode": "markers",
         "name": " Brazil",
         "orientation": "v",
         "showlegend": true,
         "type": "scatter",
         "x": [
          8.433,
          8.331000000000001,
          8.120000000000001,
          7.751,
          7.823000000000001
         ],
         "xaxis": "x",
         "y": [
          2.187,
          2.187,
          2.187,
          2.187,
          2.187
         ],
         "yaxis": "y"
        },
        {
         "hovertemplate": "<b>%{hovertext}</b><br><br>ua_country= Tanzania<br>Cost of Living=%{x}<br>Economy Score=%{y}<br>Housing Score=%{marker.size}<extra></extra>",
         "hovertext": [
          "Dar es Salaam"
         ],
         "legendgroup": " Tanzania",
         "marker": {
          "color": "#19d3f3",
          "size": [
           7.652000000000001
          ],
          "sizemode": "area",
          "sizeref": 0.044444444444444446,
          "symbol": "circle"
         },
         "mode": "markers",
         "name": " Tanzania",
         "orientation": "v",
         "showlegend": true,
         "type": "scatter",
         "x": [
          8.026
         ],
         "xaxis": "x",
         "y": [
          5.499999999999999
         ],
         "yaxis": "y"
        },
        {
         "hovertemplate": "<b>%{hovertext}</b><br><br>ua_country= Iowa<br>Cost of Living=%{x}<br>Economy Score=%{y}<br>Housing Score=%{marker.size}<extra></extra>",
         "hovertext": [
          "Des Moines"
         ],
         "legendgroup": " Iowa",
         "marker": {
          "color": "#FF6692",
          "size": [
           6.850999999999999
          ],
          "sizemode": "area",
          "sizeref": 0.044444444444444446,
          "symbol": "circle"
         },
         "mode": "markers",
         "name": " Iowa",
         "orientation": "v",
         "showlegend": true,
         "type": "scatter",
         "x": [
          6.327
         ],
         "xaxis": "x",
         "y": [
          6.5145
         ],
         "yaxis": "y"
        },
        {
         "hovertemplate": "<b>%{hovertext}</b><br><br>ua_country= Michigan<br>Cost of Living=%{x}<br>Economy Score=%{y}<br>Housing Score=%{marker.size}<extra></extra>",
         "hovertext": [
          "Detroit"
         ],
         "legendgroup": " Michigan",
         "marker": {
          "color": "#B6E880",
          "size": [
           6.223000000000001
          ],
          "sizemode": "area",
          "sizeref": 0.044444444444444446,
          "symbol": "circle"
         },
         "mode": "markers",
         "name": " Michigan",
         "orientation": "v",
         "showlegend": true,
         "type": "scatter",
         "x": [
          6.032
         ],
         "xaxis": "x",
         "y": [
          6.5145
         ],
         "yaxis": "y"
        },
        {
         "hovertemplate": "<b>%{hovertext}</b><br><br>ua_country= Qatar<br>Cost of Living=%{x}<br>Economy Score=%{y}<br>Housing Score=%{marker.size}<extra></extra>",
         "hovertext": [
          "Doha"
         ],
         "legendgroup": " Qatar",
         "marker": {
          "color": "#FF97FF",
          "size": [
           2.1315
          ],
          "sizemode": "area",
          "sizeref": 0.044444444444444446,
          "symbol": "circle"
         },
         "mode": "markers",
         "name": " Qatar",
         "orientation": "v",
         "showlegend": true,
         "type": "scatter",
         "x": [
          6.183
         ],
         "xaxis": "x",
         "y": [
          9.39
         ],
         "yaxis": "y"
        },
        {
         "hovertemplate": "<b>%{hovertext}</b><br><br>ua_country= United Arab Emirates<br>Cost of Living=%{x}<br>Economy Score=%{y}<br>Housing Score=%{marker.size}<extra></extra>",
         "hovertext": [
          "Dubai"
         ],
         "legendgroup": " United Arab Emirates",
         "marker": {
          "color": "#FECB52",
          "size": [
           2.591
          ],
          "sizemode": "area",
          "sizeref": 0.044444444444444446,
          "symbol": "circle"
         },
         "mode": "markers",
         "name": " United Arab Emirates",
         "orientation": "v",
         "showlegend": true,
         "type": "scatter",
         "x": [
          5.49
         ],
         "xaxis": "x",
         "y": [
          7.885999999999999
         ],
         "yaxis": "y"
        },
        {
         "hovertemplate": "<b>%{hovertext}</b><br><br>ua_country= Oregon<br>Cost of Living=%{x}<br>Economy Score=%{y}<br>Housing Score=%{marker.size}<extra></extra>",
         "hovertext": [
          "Eugene",
          "Portland"
         ],
         "legendgroup": " Oregon",
         "marker": {
          "color": "#636efa",
          "size": [
           6.713,
           4.138
          ],
          "sizemode": "area",
          "sizeref": 0.044444444444444446,
          "symbol": "circle"
         },
         "mode": "markers",
         "name": " Oregon",
         "orientation": "v",
         "showlegend": true,
         "type": "scatter",
         "x": [
          5.021,
          4.924
         ],
         "xaxis": "x",
         "y": [
          6.5145,
          6.5145
         ],
         "yaxis": "y"
        },
        {
         "hovertemplate": "<b>%{hovertext}</b><br><br>ua_country= Japan<br>Cost of Living=%{x}<br>Economy Score=%{y}<br>Housing Score=%{marker.size}<extra></extra>",
         "hovertext": [
          "Fukuoka",
          "Kyoto",
          "Osaka",
          "Tokyo"
         ],
         "legendgroup": " Japan",
         "marker": {
          "color": "#EF553B",
          "size": [
           4.01,
           3.765,
           7.8315,
           5.657000000000001
          ],
          "sizemode": "area",
          "sizeref": 0.044444444444444446,
          "symbol": "circle"
         },
         "mode": "markers",
         "name": " Japan",
         "orientation": "v",
         "showlegend": true,
         "type": "scatter",
         "x": [
          0,
          0,
          4.819,
          3.431
         ],
         "xaxis": "x",
         "y": [
          3.7235,
          3.7235,
          3.7235,
          3.7235
         ],
         "yaxis": "y"
        },
        {
         "hovertemplate": "<b>%{hovertext}</b><br><br>ua_country= Poland<br>Cost of Living=%{x}<br>Economy Score=%{y}<br>Housing Score=%{marker.size}<extra></extra>",
         "hovertext": [
          "Gdansk",
          "Krakow",
          "Warsaw",
          "Wroclaw"
         ],
         "legendgroup": " Poland",
         "marker": {
          "color": "#00cc96",
          "size": [
           8.508,
           8.4245,
           7.8695,
           8.452
          ],
          "sizemode": "area",
          "sizeref": 0.044444444444444446,
          "symbol": "circle"
         },
         "mode": "markers",
         "name": " Poland",
         "orientation": "v",
         "showlegend": true,
         "type": "scatter",
         "x": [
          8.126999999999999,
          8.509,
          8.192,
          8.434000000000001
         ],
         "xaxis": "x",
         "y": [
          4.7615,
          4.7615,
          4.7615,
          4.7615
         ],
         "yaxis": "y"
        },
        {
         "hovertemplate": "<b>%{hovertext}</b><br><br>ua_country= Gibraltar<br>Cost of Living=%{x}<br>Economy Score=%{y}<br>Housing Score=%{marker.size}<extra></extra>",
         "hovertext": [
          "Gibraltar"
         ],
         "legendgroup": " Gibraltar",
         "marker": {
          "color": "#ab63fa",
          "size": [
           1.112
          ],
          "sizemode": "area",
          "sizeref": 0.044444444444444446,
          "symbol": "circle"
         },
         "mode": "markers",
         "name": " Gibraltar",
         "orientation": "v",
         "showlegend": true,
         "type": "scatter",
         "x": [
          0
         ],
         "xaxis": "x",
         "y": [
          0
         ],
         "yaxis": "y"
        },
        {
         "hovertemplate": "<b>%{hovertext}</b><br><br>ua_country= Sweden<br>Cost of Living=%{x}<br>Economy Score=%{y}<br>Housing Score=%{marker.size}<extra></extra>",
         "hovertext": [
          "Gothenburg",
          "Malmo",
          "Stockholm",
          "Uppsala"
         ],
         "legendgroup": " Sweden",
         "marker": {
          "color": "#FFA15A",
          "size": [
           6.725,
           7.263000000000001,
           4.865,
           7.16
          ],
          "sizemode": "area",
          "sizeref": 0.044444444444444446,
          "symbol": "circle"
         },
         "mode": "markers",
         "name": " Sweden",
         "orientation": "v",
         "showlegend": true,
         "type": "scatter",
         "x": [
          5.046000000000001,
          5.57,
          4.36,
          5.442
         ],
         "xaxis": "x",
         "y": [
          5.694499999999999,
          5.694499999999999,
          5.694499999999999,
          5.694499999999999
         ],
         "yaxis": "y"
        },
        {
         "hovertemplate": "<b>%{hovertext}</b><br><br>ua_country= Mexico<br>Cost of Living=%{x}<br>Economy Score=%{y}<br>Housing Score=%{marker.size}<extra></extra>",
         "hovertext": [
          "Guadalajara",
          "Mexico City"
         ],
         "legendgroup": " Mexico",
         "marker": {
          "color": "#19d3f3",
          "size": [
           9.527,
           8.360000000000001
          ],
          "sizemode": "area",
          "sizeref": 0.044444444444444446,
          "symbol": "circle"
         },
         "mode": "markers",
         "name": " Mexico",
         "orientation": "v",
         "showlegend": true,
         "type": "scatter",
         "x": [
          9.49,
          9.244
         ],
         "xaxis": "x",
         "y": [
          3.5005,
          3.5005
         ],
         "yaxis": "y"
        },
        {
         "hovertemplate": "<b>%{hovertext}</b><br><br>ua_country= Guatemala<br>Cost of Living=%{x}<br>Economy Score=%{y}<br>Housing Score=%{marker.size}<extra></extra>",
         "hovertext": [
          "Guatemala City"
         ],
         "legendgroup": " Guatemala",
         "marker": {
          "color": "#FF6692",
          "size": [
           8.8125
          ],
          "sizemode": "area",
          "sizeref": 0.044444444444444446,
          "symbol": "circle"
         },
         "mode": "markers",
         "name": " Guatemala",
         "orientation": "v",
         "showlegend": true,
         "type": "scatter",
         "x": [
          8.175
         ],
         "xaxis": "x",
         "y": [
          3.805
         ],
         "yaxis": "y"
        },
        {
         "hovertemplate": "<b>%{hovertext}</b><br><br>ua_country= Cuba<br>Cost of Living=%{x}<br>Economy Score=%{y}<br>Housing Score=%{marker.size}<extra></extra>",
         "hovertext": [
          "Havana"
         ],
         "legendgroup": " Cuba",
         "marker": {
          "color": "#B6E880",
          "size": [
           9.089
          ],
          "sizemode": "area",
          "sizeref": 0.044444444444444446,
          "symbol": "circle"
         },
         "mode": "markers",
         "name": " Cuba",
         "orientation": "v",
         "showlegend": true,
         "type": "scatter",
         "x": [
          7.607999999999999
         ],
         "xaxis": "x",
         "y": [
          2.5495000000000005
         ],
         "yaxis": "y"
        },
        {
         "hovertemplate": "<b>%{hovertext}</b><br><br>ua_country= Finland<br>Cost of Living=%{x}<br>Economy Score=%{y}<br>Housing Score=%{marker.size}<extra></extra>",
         "hovertext": [
          "Helsinki",
          "Oulu",
          "Tampere",
          "Turku"
         ],
         "legendgroup": " Finland",
         "marker": {
          "color": "#FF97FF",
          "size": [
           5.396000000000001,
           3.7445,
           6.936,
           7.534000000000002
          ],
          "sizemode": "area",
          "sizeref": 0.044444444444444446,
          "symbol": "circle"
         },
         "mode": "markers",
         "name": " Finland",
         "orientation": "v",
         "showlegend": true,
         "type": "scatter",
         "x": [
          4.121,
          0,
          4.622,
          5.07
         ],
         "xaxis": "x",
         "y": [
          3.921,
          3.921,
          3.921,
          3.921
         ],
         "yaxis": "y"
        },
        {
         "hovertemplate": "<b>%{hovertext}</b><br><br>ua_country= Vietnam<br>Cost of Living=%{x}<br>Economy Score=%{y}<br>Housing Score=%{marker.size}<extra></extra>",
         "hovertext": [
          "Ho Chi Minh City"
         ],
         "legendgroup": " Vietnam",
         "marker": {
          "color": "#FECB52",
          "size": [
           8.618
          ],
          "sizemode": "area",
          "sizeref": 0.044444444444444446,
          "symbol": "circle"
         },
         "mode": "markers",
         "name": " Vietnam",
         "orientation": "v",
         "showlegend": true,
         "type": "scatter",
         "x": [
          8.844000000000001
         ],
         "xaxis": "x",
         "y": [
          4.8345
         ],
         "yaxis": "y"
        },
        {
         "hovertemplate": "<b>%{hovertext}</b><br><br>ua_country= Hong Kong<br>Cost of Living=%{x}<br>Economy Score=%{y}<br>Housing Score=%{marker.size}<extra></extra>",
         "hovertext": [
          "Hong Kong"
         ],
         "legendgroup": " Hong Kong",
         "marker": {
          "color": "#636efa",
          "size": [
           1
          ],
          "sizemode": "area",
          "sizeref": 0.044444444444444446,
          "symbol": "circle"
         },
         "mode": "markers",
         "name": " Hong Kong",
         "orientation": "v",
         "showlegend": true,
         "type": "scatter",
         "x": [
          4.967
         ],
         "xaxis": "x",
         "y": [
          6.4825
         ],
         "yaxis": "y"
        },
        {
         "hovertemplate": "<b>%{hovertext}</b><br><br>ua_country= Hawaii<br>Cost of Living=%{x}<br>Economy Score=%{y}<br>Housing Score=%{marker.size}<extra></extra>",
         "hovertext": [
          "Honolulu"
         ],
         "legendgroup": " Hawaii",
         "marker": {
          "color": "#EF553B",
          "size": [
           2.3415000000000004
          ],
          "sizemode": "area",
          "sizeref": 0.044444444444444446,
          "symbol": "circle"
         },
         "mode": "markers",
         "name": " Hawaii",
         "orientation": "v",
         "showlegend": true,
         "type": "scatter",
         "x": [
          2.867
         ],
         "xaxis": "x",
         "y": [
          6.5145
         ],
         "yaxis": "y"
        },
        {
         "hovertemplate": "<b>%{hovertext}</b><br><br>ua_country= Indiana<br>Cost of Living=%{x}<br>Economy Score=%{y}<br>Housing Score=%{marker.size}<extra></extra>",
         "hovertext": [
          "Indianapolis"
         ],
         "legendgroup": " Indiana",
         "marker": {
          "color": "#00cc96",
          "size": [
           6.266
          ],
          "sizemode": "area",
          "sizeref": 0.044444444444444446,
          "symbol": "circle"
         },
         "mode": "markers",
         "name": " Indiana",
         "orientation": "v",
         "showlegend": true,
         "type": "scatter",
         "x": [
          5.478
         ],
         "xaxis": "x",
         "y": [
          6.5145
         ],
         "yaxis": "y"
        },
        {
         "hovertemplate": "<b>%{hovertext}</b><br><br>ua_country= Austria<br>Cost of Living=%{x}<br>Economy Score=%{y}<br>Housing Score=%{marker.size}<extra></extra>",
         "hovertext": [
          "Innsbruck",
          "Vienna"
         ],
         "legendgroup": " Austria",
         "marker": {
          "color": "#ab63fa",
          "size": [
           6.708,
           6.314000000000001
          ],
          "sizemode": "area",
          "sizeref": 0.044444444444444446,
          "symbol": "circle"
         },
         "mode": "markers",
         "name": " Austria",
         "orientation": "v",
         "showlegend": true,
         "type": "scatter",
         "x": [
          4.732,
          5.111
         ],
         "xaxis": "x",
         "y": [
          4.663,
          4.663
         ],
         "yaxis": "y"
        },
        {
         "hovertemplate": "<b>%{hovertext}</b><br><br>ua_country= Florida<br>Cost of Living=%{x}<br>Economy Score=%{y}<br>Housing Score=%{marker.size}<extra></extra>",
         "hovertext": [
          "Jacksonville",
          "Miami",
          "Orlando",
          "Tampa Bay Area"
         ],
         "legendgroup": " Florida",
         "marker": {
          "color": "#FFA15A",
          "size": [
           6.450000000000001,
           3.0309999999999997,
           5.778499999999999,
           5.696
          ],
          "sizemode": "area",
          "sizeref": 0.044444444444444446,
          "symbol": "circle"
         },
         "mode": "markers",
         "name": " Florida",
         "orientation": "v",
         "showlegend": true,
         "type": "scatter",
         "x": [
          5.359,
          4.497,
          5.284,
          5.253
         ],
         "xaxis": "x",
         "y": [
          6.5145,
          6.5145,
          6.5145,
          6.5145
         ],
         "yaxis": "y"
        },
        {
         "hovertemplate": "<b>%{hovertext}</b><br><br>ua_country= Missouri<br>Cost of Living=%{x}<br>Economy Score=%{y}<br>Housing Score=%{marker.size}<extra></extra>",
         "hovertext": [
          "Kansas City",
          "St. Louis"
         ],
         "legendgroup": " Missouri",
         "marker": {
          "color": "#19d3f3",
          "size": [
           6.7075,
           6.958
          ],
          "sizemode": "area",
          "sizeref": 0.044444444444444446,
          "symbol": "circle"
         },
         "mode": "markers",
         "name": " Missouri",
         "orientation": "v",
         "showlegend": true,
         "type": "scatter",
         "x": [
          5.844,
          5.504
         ],
         "xaxis": "x",
         "y": [
          6.5145,
          6.5145
         ],
         "yaxis": "y"
        },
        {
         "hovertemplate": "<b>%{hovertext}</b><br><br>ua_country= Nepal<br>Cost of Living=%{x}<br>Economy Score=%{y}<br>Housing Score=%{marker.size}<extra></extra>",
         "hovertext": [
          "Kathmandu"
         ],
         "legendgroup": " Nepal",
         "marker": {
          "color": "#FF6692",
          "size": [
           10
          ],
          "sizemode": "area",
          "sizeref": 0.044444444444444446,
          "symbol": "circle"
         },
         "mode": "markers",
         "name": " Nepal",
         "orientation": "v",
         "showlegend": true,
         "type": "scatter",
         "x": [
          9.445
         ],
         "xaxis": "x",
         "y": [
          4.496
         ],
         "yaxis": "y"
        },
        {
         "hovertemplate": "<b>%{hovertext}</b><br><br>ua_country= Ukraine<br>Cost of Living=%{x}<br>Economy Score=%{y}<br>Housing Score=%{marker.size}<extra></extra>",
         "hovertext": [
          "Kiev",
          "Lviv"
         ],
         "legendgroup": " Ukraine",
         "marker": {
          "color": "#B6E880",
          "size": [
           9.0845,
           9.778
          ],
          "sizemode": "area",
          "sizeref": 0.044444444444444446,
          "symbol": "circle"
         },
         "mode": "markers",
         "name": " Ukraine",
         "orientation": "v",
         "showlegend": true,
         "type": "scatter",
         "x": [
          9.817,
          10
         ],
         "xaxis": "x",
         "y": [
          1.2755,
          1.2755
         ],
         "yaxis": "y"
        },
        {
         "hovertemplate": "<b>%{hovertext}</b><br><br>ua_country= Jamaica<br>Cost of Living=%{x}<br>Economy Score=%{y}<br>Housing Score=%{marker.size}<extra></extra>",
         "hovertext": [
          "Kingston"
         ],
         "legendgroup": " Jamaica",
         "marker": {
          "color": "#FF97FF",
          "size": [
           8.8955
          ],
          "sizemode": "area",
          "sizeref": 0.044444444444444446,
          "symbol": "circle"
         },
         "mode": "markers",
         "name": " Jamaica",
         "orientation": "v",
         "showlegend": true,
         "type": "scatter",
         "x": [
          5.937
         ],
         "xaxis": "x",
         "y": [
          1.8295
         ],
         "yaxis": "y"
        },
        {
         "hovertemplate": "<b>%{hovertext}</b><br><br>ua_country= Malaysia<br>Cost of Living=%{x}<br>Economy Score=%{y}<br>Housing Score=%{marker.size}<extra></extra>",
         "hovertext": [
          "Kuala Lumpur"
         ],
         "legendgroup": " Malaysia",
         "marker": {
          "color": "#FECB52",
          "size": [
           8.663499999999999
          ],
          "sizemode": "area",
          "sizeref": 0.044444444444444446,
          "symbol": "circle"
         },
         "mode": "markers",
         "name": " Malaysia",
         "orientation": "v",
         "showlegend": true,
         "type": "scatter",
         "x": [
          8.238
         ],
         "xaxis": "x",
         "y": [
          6.339
         ],
         "yaxis": "y"
        },
        {
         "hovertemplate": "<b>%{hovertext}</b><br><br>ua_country= Nigeria<br>Cost of Living=%{x}<br>Economy Score=%{y}<br>Housing Score=%{marker.size}<extra></extra>",
         "hovertext": [
          "Lagos"
         ],
         "legendgroup": " Nigeria",
         "marker": {
          "color": "#636efa",
          "size": [
           7.767
          ],
          "sizemode": "area",
          "sizeref": 0.044444444444444446,
          "symbol": "circle"
         },
         "mode": "markers",
         "name": " Nigeria",
         "orientation": "v",
         "showlegend": true,
         "type": "scatter",
         "x": [
          9.098
         ],
         "xaxis": "x",
         "y": [
          5.061
         ],
         "yaxis": "y"
        },
        {
         "hovertemplate": "<b>%{hovertext}</b><br><br>ua_country= Bolivia<br>Cost of Living=%{x}<br>Economy Score=%{y}<br>Housing Score=%{marker.size}<extra></extra>",
         "hovertext": [
          "La Paz"
         ],
         "legendgroup": " Bolivia",
         "marker": {
          "color": "#EF553B",
          "size": [
           4.724
          ],
          "sizemode": "area",
          "sizeref": 0.044444444444444446,
          "symbol": "circle"
         },
         "mode": "markers",
         "name": " Bolivia",
         "orientation": "v",
         "showlegend": true,
         "type": "scatter",
         "x": [
          0
         ],
         "xaxis": "x",
         "y": [
          4.536
         ],
         "yaxis": "y"
        },
        {
         "hovertemplate": "<b>%{hovertext}</b><br><br>ua_country= Nevada<br>Cost of Living=%{x}<br>Economy Score=%{y}<br>Housing Score=%{marker.size}<extra></extra>",
         "hovertext": [
          "Las Vegas"
         ],
         "legendgroup": " Nevada",
         "marker": {
          "color": "#00cc96",
          "size": [
           7.0009999999999994
          ],
          "sizemode": "area",
          "sizeref": 0.044444444444444446,
          "symbol": "circle"
         },
         "mode": "markers",
         "name": " Nevada",
         "orientation": "v",
         "showlegend": true,
         "type": "scatter",
         "x": [
          5.7589999999999995
         ],
         "xaxis": "x",
         "y": [
          6.5145
         ],
         "yaxis": "y"
        },
        {
         "hovertemplate": "<b>%{hovertext}</b><br><br>ua_country= Peru<br>Cost of Living=%{x}<br>Economy Score=%{y}<br>Housing Score=%{marker.size}<extra></extra>",
         "hovertext": [
          "Lima"
         ],
         "legendgroup": " Peru",
         "marker": {
          "color": "#ab63fa",
          "size": [
           8.712
          ],
          "sizemode": "area",
          "sizeref": 0.044444444444444446,
          "symbol": "circle"
         },
         "mode": "markers",
         "name": " Peru",
         "orientation": "v",
         "showlegend": true,
         "type": "scatter",
         "x": [
          8.496
         ],
         "xaxis": "x",
         "y": [
          3.1625000000000005
         ],
         "yaxis": "y"
        },
        {
         "hovertemplate": "<b>%{hovertext}</b><br><br>ua_country= Portugal<br>Cost of Living=%{x}<br>Economy Score=%{y}<br>Housing Score=%{marker.size}<extra></extra>",
         "hovertext": [
          "Lisbon",
          "Porto"
         ],
         "legendgroup": " Portugal",
         "marker": {
          "color": "#FFA15A",
          "size": [
           6.734000000000001,
           8.109500000000002
          ],
          "sizemode": "area",
          "sizeref": 0.044444444444444446,
          "symbol": "circle"
         },
         "mode": "markers",
         "name": " Portugal",
         "orientation": "v",
         "showlegend": true,
         "type": "scatter",
         "x": [
          7.004000000000001,
          7.422000000000001
         ],
         "xaxis": "x",
         "y": [
          3.483,
          3.483
         ],
         "yaxis": "y"
        },
        {
         "hovertemplate": "<b>%{hovertext}</b><br><br>ua_country= Slovenia<br>Cost of Living=%{x}<br>Economy Score=%{y}<br>Housing Score=%{marker.size}<extra></extra>",
         "hovertext": [
          "Ljubljana"
         ],
         "legendgroup": " Slovenia",
         "marker": {
          "color": "#19d3f3",
          "size": [
           8.214000000000002
          ],
          "sizemode": "area",
          "sizeref": 0.044444444444444446,
          "symbol": "circle"
         },
         "mode": "markers",
         "name": " Slovenia",
         "orientation": "v",
         "showlegend": true,
         "type": "scatter",
         "x": [
          6.749000000000001
         ],
         "xaxis": "x",
         "y": [
          4.7205
         ],
         "yaxis": "y"
        },
        {
         "hovertemplate": "<b>%{hovertext}</b><br><br>ua_country= California<br>Cost of Living=%{x}<br>Economy Score=%{y}<br>Housing Score=%{marker.size}<extra></extra>",
         "hovertext": [
          "Los Angeles",
          "Palo Alto",
          "San Diego",
          "San Francisco Bay Area",
          "San Luis Obispo"
         ],
         "legendgroup": " California",
         "marker": {
          "color": "#FF6692",
          "size": [
           1.5275,
           0.5,
           2.9335,
           1,
           1.7245
          ],
          "sizemode": "area",
          "sizeref": 0.044444444444444446,
          "symbol": "circle"
         },
         "mode": "markers",
         "name": " California",
         "orientation": "v",
         "showlegend": true,
         "type": "scatter",
         "x": [
          4.556000000000001,
          0,
          5.156000000000001,
          2.618,
          0
         ],
         "xaxis": "x",
         "y": [
          6.5145,
          6.5145,
          6.5145,
          6.5145,
          6.5145
         ],
         "yaxis": "y"
        },
        {
         "hovertemplate": "<b>%{hovertext}</b><br><br>ua_country= Kentucky<br>Cost of Living=%{x}<br>Economy Score=%{y}<br>Housing Score=%{marker.size}<extra></extra>",
         "hovertext": [
          "Louisville"
         ],
         "legendgroup": " Kentucky",
         "marker": {
          "color": "#B6E880",
          "size": [
           7.258
          ],
          "sizemode": "area",
          "sizeref": 0.044444444444444446,
          "symbol": "circle"
         },
         "mode": "markers",
         "name": " Kentucky",
         "orientation": "v",
         "showlegend": true,
         "type": "scatter",
         "x": [
          6.358000000000001
         ],
         "xaxis": "x",
         "y": [
          6.5145
         ],
         "yaxis": "y"
        },
        {
         "hovertemplate": "<b>%{hovertext}</b><br><br>ua_country= Luxembourg<br>Cost of Living=%{x}<br>Economy Score=%{y}<br>Housing Score=%{marker.size}<extra></extra>",
         "hovertext": [
          "Luxembourg"
         ],
         "legendgroup": " Luxembourg",
         "marker": {
          "color": "#FF97FF",
          "size": [
           2.4530000000000003
          ],
          "sizemode": "area",
          "sizeref": 0.044444444444444446,
          "symbol": "circle"
         },
         "mode": "markers",
         "name": " Luxembourg",
         "orientation": "v",
         "showlegend": true,
         "type": "scatter",
         "x": [
          3.411
         ],
         "xaxis": "x",
         "y": [
          7.473000000000001
         ],
         "yaxis": "y"
        },
        {
         "hovertemplate": "<b>%{hovertext}</b><br><br>ua_country= Wisconsin<br>Cost of Living=%{x}<br>Economy Score=%{y}<br>Housing Score=%{marker.size}<extra></extra>",
         "hovertext": [
          "Madison",
          "Milwaukee"
         ],
         "legendgroup": " Wisconsin",
         "marker": {
          "color": "#FECB52",
          "size": [
           5.8294999999999995,
           6.1225
          ],
          "sizemode": "area",
          "sizeref": 0.044444444444444446,
          "symbol": "circle"
         },
         "mode": "markers",
         "name": " Wisconsin",
         "orientation": "v",
         "showlegend": true,
         "type": "scatter",
         "x": [
          6.173,
          5.526
         ],
         "xaxis": "x",
         "y": [
          6.5145,
          6.5145
         ],
         "yaxis": "y"
        },
        {
         "hovertemplate": "<b>%{hovertext}</b><br><br>ua_country= Nicaragua<br>Cost of Living=%{x}<br>Economy Score=%{y}<br>Housing Score=%{marker.size}<extra></extra>",
         "hovertext": [
          "Managua"
         ],
         "legendgroup": " Nicaragua",
         "marker": {
          "color": "#636efa",
          "size": [
           4.7855
          ],
          "sizemode": "area",
          "sizeref": 0.044444444444444446,
          "symbol": "circle"
         },
         "mode": "markers",
         "name": " Nicaragua",
         "orientation": "v",
         "showlegend": true,
         "type": "scatter",
         "x": [
          0
         ],
         "xaxis": "x",
         "y": [
          3.9395
         ],
         "yaxis": "y"
        },
        {
         "hovertemplate": "<b>%{hovertext}</b><br><br>ua_country= Philippines<br>Cost of Living=%{x}<br>Economy Score=%{y}<br>Housing Score=%{marker.size}<extra></extra>",
         "hovertext": [
          "Manila"
         ],
         "legendgroup": " Philippines",
         "marker": {
          "color": "#EF553B",
          "size": [
           8.5955
          ],
          "sizemode": "area",
          "sizeref": 0.044444444444444446,
          "symbol": "circle"
         },
         "mode": "markers",
         "name": " Philippines",
         "orientation": "v",
         "showlegend": true,
         "type": "scatter",
         "x": [
          8.751999999999999
         ],
         "xaxis": "x",
         "y": [
          5.006499999999999
         ],
         "yaxis": "y"
        },
        {
         "hovertemplate": "<b>%{hovertext}</b><br><br>ua_country= Minnesota<br>Cost of Living=%{x}<br>Economy Score=%{y}<br>Housing Score=%{marker.size}<extra></extra>",
         "hovertext": [
          "Minneapolis-Saint Paul"
         ],
         "legendgroup": " Minnesota",
         "marker": {
          "color": "#00cc96",
          "size": [
           4.738500000000001
          ],
          "sizemode": "area",
          "sizeref": 0.044444444444444446,
          "symbol": "circle"
         },
         "mode": "markers",
         "name": " Minnesota",
         "orientation": "v",
         "showlegend": true,
         "type": "scatter",
         "x": [
          5.042000000000001
         ],
         "xaxis": "x",
         "y": [
          6.5145
         ],
         "yaxis": "y"
        },
        {
         "hovertemplate": "<b>%{hovertext}</b><br><br>ua_country= Belarus<br>Cost of Living=%{x}<br>Economy Score=%{y}<br>Housing Score=%{marker.size}<extra></extra>",
         "hovertext": [
          "Minsk"
         ],
         "legendgroup": " Belarus",
         "marker": {
          "color": "#ab63fa",
          "size": [
           9.4955
          ],
          "sizemode": "area",
          "sizeref": 0.044444444444444446,
          "symbol": "circle"
         },
         "mode": "markers",
         "name": " Belarus",
         "orientation": "v",
         "showlegend": true,
         "type": "scatter",
         "x": [
          9.289
         ],
         "xaxis": "x",
         "y": [
          3.204
         ],
         "yaxis": "y"
        },
        {
         "hovertemplate": "<b>%{hovertext}</b><br><br>ua_country= Uruguay<br>Cost of Living=%{x}<br>Economy Score=%{y}<br>Housing Score=%{marker.size}<extra></extra>",
         "hovertext": [
          "Montevideo"
         ],
         "legendgroup": " Uruguay",
         "marker": {
          "color": "#FFA15A",
          "size": [
           8.183000000000002
          ],
          "sizemode": "area",
          "sizeref": 0.044444444444444446,
          "symbol": "circle"
         },
         "mode": "markers",
         "name": " Uruguay",
         "orientation": "v",
         "showlegend": true,
         "type": "scatter",
         "x": [
          6.197
         ],
         "xaxis": "x",
         "y": [
          4.416
         ],
         "yaxis": "y"
        },
        {
         "hovertemplate": "<b>%{hovertext}</b><br><br>ua_country= Russia<br>Cost of Living=%{x}<br>Economy Score=%{y}<br>Housing Score=%{marker.size}<extra></extra>",
         "hovertext": [
          "Moscow",
          "Saint Petersburg"
         ],
         "legendgroup": " Russia",
         "marker": {
          "color": "#19d3f3",
          "size": [
           6.555000000000001,
           8.3605
          ],
          "sizemode": "area",
          "sizeref": 0.044444444444444446,
          "symbol": "circle"
         },
         "mode": "markers",
         "name": " Russia",
         "orientation": "v",
         "showlegend": true,
         "type": "scatter",
         "x": [
          8.099,
          8.673
         ],
         "xaxis": "x",
         "y": [
          3.148,
          3.148
         ],
         "yaxis": "y"
        },
        {
         "hovertemplate": "<b>%{hovertext}</b><br><br>ua_country= Kenya<br>Cost of Living=%{x}<br>Economy Score=%{y}<br>Housing Score=%{marker.size}<extra></extra>",
         "hovertext": [
          "Nairobi"
         ],
         "legendgroup": " Kenya",
         "marker": {
          "color": "#FF6692",
          "size": [
           8.8505
          ],
          "sizemode": "area",
          "sizeref": 0.044444444444444446,
          "symbol": "circle"
         },
         "mode": "markers",
         "name": " Kenya",
         "orientation": "v",
         "showlegend": true,
         "type": "scatter",
         "x": [
          8.431999999999999
         ],
         "xaxis": "x",
         "y": [
          4.376999999999999
         ],
         "yaxis": "y"
        },
        {
         "hovertemplate": "<b>%{hovertext}</b><br><br>ua_country= Louisiana<br>Cost of Living=%{x}<br>Economy Score=%{y}<br>Housing Score=%{marker.size}<extra></extra>",
         "hovertext": [
          "New Orleans"
         ],
         "legendgroup": " Louisiana",
         "marker": {
          "color": "#B6E880",
          "size": [
           5.339
          ],
          "sizemode": "area",
          "sizeref": 0.044444444444444446,
          "symbol": "circle"
         },
         "mode": "markers",
         "name": " Louisiana",
         "orientation": "v",
         "showlegend": true,
         "type": "scatter",
         "x": [
          4.991999999999999
         ],
         "xaxis": "x",
         "y": [
          6.5145
         ],
         "yaxis": "y"
        },
        {
         "hovertemplate": "<b>%{hovertext}</b><br><br>ua_country= Cyprus<br>Cost of Living=%{x}<br>Economy Score=%{y}<br>Housing Score=%{marker.size}<extra></extra>",
         "hovertext": [
          "Nicosia"
         ],
         "legendgroup": " Cyprus",
         "marker": {
          "color": "#FF97FF",
          "size": [
           8.631
          ],
          "sizemode": "area",
          "sizeref": 0.044444444444444446,
          "symbol": "circle"
         },
         "mode": "markers",
         "name": " Cyprus",
         "orientation": "v",
         "showlegend": true,
         "type": "scatter",
         "x": [
          6.301
         ],
         "xaxis": "x",
         "y": [
          2.9955
         ],
         "yaxis": "y"
        },
        {
         "hovertemplate": "<b>%{hovertext}</b><br><br>ua_country= Oklahoma<br>Cost of Living=%{x}<br>Economy Score=%{y}<br>Housing Score=%{marker.size}<extra></extra>",
         "hovertext": [
          "Oklahoma City"
         ],
         "legendgroup": " Oklahoma",
         "marker": {
          "color": "#FECB52",
          "size": [
           7.261000000000001
          ],
          "sizemode": "area",
          "sizeref": 0.044444444444444446,
          "symbol": "circle"
         },
         "mode": "markers",
         "name": " Oklahoma",
         "orientation": "v",
         "showlegend": true,
         "type": "scatter",
         "x": [
          6.394
         ],
         "xaxis": "x",
         "y": [
          6.5145
         ],
         "yaxis": "y"
        },
        {
         "hovertemplate": "<b>%{hovertext}</b><br><br>ua_country= Nebraska<br>Cost of Living=%{x}<br>Economy Score=%{y}<br>Housing Score=%{marker.size}<extra></extra>",
         "hovertext": [
          "Omaha"
         ],
         "legendgroup": " Nebraska",
         "marker": {
          "color": "#636efa",
          "size": [
           7.040500000000001
          ],
          "sizemode": "area",
          "sizeref": 0.044444444444444446,
          "symbol": "circle"
         },
         "mode": "markers",
         "name": " Nebraska",
         "orientation": "v",
         "showlegend": true,
         "type": "scatter",
         "x": [
          5.994000000000001
         ],
         "xaxis": "x",
         "y": [
          6.5145
         ],
         "yaxis": "y"
        },
        {
         "hovertemplate": "<b>%{hovertext}</b><br><br>ua_country= Panama<br>Cost of Living=%{x}<br>Economy Score=%{y}<br>Housing Score=%{marker.size}<extra></extra>",
         "hovertext": [
          "Panama"
         ],
         "legendgroup": " Panama",
         "marker": {
          "color": "#EF553B",
          "size": [
           3.1530000000000005
          ],
          "sizemode": "area",
          "sizeref": 0.044444444444444446,
          "symbol": "circle"
         },
         "mode": "markers",
         "name": " Panama",
         "orientation": "v",
         "showlegend": true,
         "type": "scatter",
         "x": [
          0
         ],
         "xaxis": "x",
         "y": [
          6.040500000000001
         ],
         "yaxis": "y"
        },
        {
         "hovertemplate": "<b>%{hovertext}</b><br><br>ua_country= Pennsylvania<br>Cost of Living=%{x}<br>Economy Score=%{y}<br>Housing Score=%{marker.size}<extra></extra>",
         "hovertext": [
          "Philadelphia",
          "Pittsburgh"
         ],
         "legendgroup": " Pennsylvania",
         "marker": {
          "color": "#00cc96",
          "size": [
           4.207,
           5.963500000000002
          ],
          "sizemode": "area",
          "sizeref": 0.044444444444444446,
          "symbol": "circle"
         },
         "mode": "markers",
         "name": " Pennsylvania",
         "orientation": "v",
         "showlegend": true,
         "type": "scatter",
         "x": [
          4.422000000000001,
          4.795
         ],
         "xaxis": "x",
         "y": [
          6.5145,
          6.5145
         ],
         "yaxis": "y"
        },
        {
         "hovertemplate": "<b>%{hovertext}</b><br><br>ua_country= Cambodia<br>Cost of Living=%{x}<br>Economy Score=%{y}<br>Housing Score=%{marker.size}<extra></extra>",
         "hovertext": [
          "Phnom Penh"
         ],
         "legendgroup": " Cambodia",
         "marker": {
          "color": "#ab63fa",
          "size": [
           8.552000000000001
          ],
          "sizemode": "area",
          "sizeref": 0.044444444444444446,
          "symbol": "circle"
         },
         "mode": "markers",
         "name": " Cambodia",
         "orientation": "v",
         "showlegend": true,
         "type": "scatter",
         "x": [
          8.001000000000001
         ],
         "xaxis": "x",
         "y": [
          5.379999999999999
         ],
         "yaxis": "y"
        },
        {
         "hovertemplate": "<b>%{hovertext}</b><br><br>ua_country= Arizona<br>Cost of Living=%{x}<br>Economy Score=%{y}<br>Housing Score=%{marker.size}<extra></extra>",
         "hovertext": [
          "Phoenix"
         ],
         "legendgroup": " Arizona",
         "marker": {
          "color": "#FFA15A",
          "size": [
           6.5329999999999995
          ],
          "sizemode": "area",
          "sizeref": 0.044444444444444446,
          "symbol": "circle"
         },
         "mode": "markers",
         "name": " Arizona",
         "orientation": "v",
         "showlegend": true,
         "type": "scatter",
         "x": [
          6.208
         ],
         "xaxis": "x",
         "y": [
          6.5145
         ],
         "yaxis": "y"
        },
        {
         "hovertemplate": "<b>%{hovertext}</b><br><br>ua_country= Maine<br>Cost of Living=%{x}<br>Economy Score=%{y}<br>Housing Score=%{marker.size}<extra></extra>",
         "hovertext": [
          "Portland"
         ],
         "legendgroup": " Maine",
         "marker": {
          "color": "#19d3f3",
          "size": [
           0
          ],
          "sizemode": "area",
          "sizeref": 0.044444444444444446,
          "symbol": "circle"
         },
         "mode": "markers",
         "name": " Maine",
         "orientation": "v",
         "showlegend": true,
         "type": "scatter",
         "x": [
          0
         ],
         "xaxis": "x",
         "y": [
          6.5145
         ],
         "yaxis": "y"
        },
        {
         "hovertemplate": "<b>%{hovertext}</b><br><br>ua_country= Rhode Island<br>Cost of Living=%{x}<br>Economy Score=%{y}<br>Housing Score=%{marker.size}<extra></extra>",
         "hovertext": [
          "Providence"
         ],
         "legendgroup": " Rhode Island",
         "marker": {
          "color": "#FF6692",
          "size": [
           3.1530000000000005
          ],
          "sizemode": "area",
          "sizeref": 0.044444444444444446,
          "symbol": "circle"
         },
         "mode": "markers",
         "name": " Rhode Island",
         "orientation": "v",
         "showlegend": true,
         "type": "scatter",
         "x": [
          0
         ],
         "xaxis": "x",
         "y": [
          6.5145
         ],
         "yaxis": "y"
        },
        {
         "hovertemplate": "<b>%{hovertext}</b><br><br>ua_country= Ecuador<br>Cost of Living=%{x}<br>Economy Score=%{y}<br>Housing Score=%{marker.size}<extra></extra>",
         "hovertext": [
          "Quito"
         ],
         "legendgroup": " Ecuador",
         "marker": {
          "color": "#B6E880",
          "size": [
           9.0165
          ],
          "sizemode": "area",
          "sizeref": 0.044444444444444446,
          "symbol": "circle"
         },
         "mode": "markers",
         "name": " Ecuador",
         "orientation": "v",
         "showlegend": true,
         "type": "scatter",
         "x": [
          7.822
         ],
         "xaxis": "x",
         "y": [
          3.8855
         ],
         "yaxis": "y"
        },
        {
         "hovertemplate": "<b>%{hovertext}</b><br><br>ua_country= Iceland<br>Cost of Living=%{x}<br>Economy Score=%{y}<br>Housing Score=%{marker.size}<extra></extra>",
         "hovertext": [
          "Reykjavik"
         ],
         "legendgroup": " Iceland",
         "marker": {
          "color": "#FF97FF",
          "size": [
           2.7715
          ],
          "sizemode": "area",
          "sizeref": 0.044444444444444446,
          "symbol": "circle"
         },
         "mode": "markers",
         "name": " Iceland",
         "orientation": "v",
         "showlegend": true,
         "type": "scatter",
         "x": [
          1
         ],
         "xaxis": "x",
         "y": [
          5.2829999999999995
         ],
         "yaxis": "y"
        },
        {
         "hovertemplate": "<b>%{hovertext}</b><br><br>ua_country= Virginia<br>Cost of Living=%{x}<br>Economy Score=%{y}<br>Housing Score=%{marker.size}<extra></extra>",
         "hovertext": [
          "Richmond"
         ],
         "legendgroup": " Virginia",
         "marker": {
          "color": "#FECB52",
          "size": [
           6.439500000000002
          ],
          "sizemode": "area",
          "sizeref": 0.044444444444444446,
          "symbol": "circle"
         },
         "mode": "markers",
         "name": " Virginia",
         "orientation": "v",
         "showlegend": true,
         "type": "scatter",
         "x": [
          5.949
         ],
         "xaxis": "x",
         "y": [
          6.5145
         ],
         "yaxis": "y"
        },
        {
         "hovertemplate": "<b>%{hovertext}</b><br><br>ua_country= Latvia<br>Cost of Living=%{x}<br>Economy Score=%{y}<br>Housing Score=%{marker.size}<extra></extra>",
         "hovertext": [
          "Riga"
         ],
         "legendgroup": " Latvia",
         "marker": {
          "color": "#636efa",
          "size": [
           8.933000000000002
          ],
          "sizemode": "area",
          "sizeref": 0.044444444444444446,
          "symbol": "circle"
         },
         "mode": "markers",
         "name": " Latvia",
         "orientation": "v",
         "showlegend": true,
         "type": "scatter",
         "x": [
          7.329
         ],
         "xaxis": "x",
         "y": [
          4.094500000000001
         ],
         "yaxis": "y"
        },
        {
         "hovertemplate": "<b>%{hovertext}</b><br><br>ua_country= Saudi Arabia<br>Cost of Living=%{x}<br>Economy Score=%{y}<br>Housing Score=%{marker.size}<extra></extra>",
         "hovertext": [
          "Riyadh"
         ],
         "legendgroup": " Saudi Arabia",
         "marker": {
          "color": "#EF553B",
          "size": [
           8.6965
          ],
          "sizemode": "area",
          "sizeref": 0.044444444444444446,
          "symbol": "circle"
         },
         "mode": "markers",
         "name": " Saudi Arabia",
         "orientation": "v",
         "showlegend": true,
         "type": "scatter",
         "x": [
          7.806000000000001
         ],
         "xaxis": "x",
         "y": [
          7.042
         ],
         "yaxis": "y"
        },
        {
         "hovertemplate": "<b>%{hovertext}</b><br><br>ua_country= Utah<br>Cost of Living=%{x}<br>Economy Score=%{y}<br>Housing Score=%{marker.size}<extra></extra>",
         "hovertext": [
          "Salt Lake City"
         ],
         "legendgroup": " Utah",
         "marker": {
          "color": "#00cc96",
          "size": [
           6.141000000000001
          ],
          "sizemode": "area",
          "sizeref": 0.044444444444444446,
          "symbol": "circle"
         },
         "mode": "markers",
         "name": " Utah",
         "orientation": "v",
         "showlegend": true,
         "type": "scatter",
         "x": [
          6.172000000000001
         ],
         "xaxis": "x",
         "y": [
          6.5145
         ],
         "yaxis": "y"
        },
        {
         "hovertemplate": "<b>%{hovertext}</b><br><br>ua_country= Costa Rica<br>Cost of Living=%{x}<br>Economy Score=%{y}<br>Housing Score=%{marker.size}<extra></extra>",
         "hovertext": [
          "San Jose"
         ],
         "legendgroup": " Costa Rica",
         "marker": {
          "color": "#ab63fa",
          "size": [
           8.1645
          ],
          "sizemode": "area",
          "sizeref": 0.044444444444444446,
          "symbol": "circle"
         },
         "mode": "markers",
         "name": " Costa Rica",
         "orientation": "v",
         "showlegend": true,
         "type": "scatter",
         "x": [
          6.728000000000001
         ],
         "xaxis": "x",
         "y": [
          4.081499999999999
         ],
         "yaxis": "y"
        },
        {
         "hovertemplate": "<b>%{hovertext}</b><br><br>ua_country= Puerto Rico<br>Cost of Living=%{x}<br>Economy Score=%{y}<br>Housing Score=%{marker.size}<extra></extra>",
         "hovertext": [
          "San Juan"
         ],
         "legendgroup": " Puerto Rico",
         "marker": {
          "color": "#FFA15A",
          "size": [
           7.427500000000001
          ],
          "sizemode": "area",
          "sizeref": 0.044444444444444446,
          "symbol": "circle"
         },
         "mode": "markers",
         "name": " Puerto Rico",
         "orientation": "v",
         "showlegend": true,
         "type": "scatter",
         "x": [
          5.9799999999999995
         ],
         "xaxis": "x",
         "y": [
          0
         ],
         "yaxis": "y"
        },
        {
         "hovertemplate": "<b>%{hovertext}</b><br><br>ua_country= El Salvador<br>Cost of Living=%{x}<br>Economy Score=%{y}<br>Housing Score=%{marker.size}<extra></extra>",
         "hovertext": [
          "San Salvador"
         ],
         "legendgroup": " El Salvador",
         "marker": {
          "color": "#19d3f3",
          "size": [
           8.8015
          ],
          "sizemode": "area",
          "sizeref": 0.044444444444444446,
          "symbol": "circle"
         },
         "mode": "markers",
         "name": " El Salvador",
         "orientation": "v",
         "showlegend": true,
         "type": "scatter",
         "x": [
          7.7429999999999986
         ],
         "xaxis": "x",
         "y": [
          2.6590000000000003
         ],
         "yaxis": "y"
        },
        {
         "hovertemplate": "<b>%{hovertext}</b><br><br>ua_country= Chile<br>Cost of Living=%{x}<br>Economy Score=%{y}<br>Housing Score=%{marker.size}<extra></extra>",
         "hovertext": [
          "Santiago"
         ],
         "legendgroup": " Chile",
         "marker": {
          "color": "#FF6692",
          "size": [
           8.3815
          ],
          "sizemode": "area",
          "sizeref": 0.044444444444444446,
          "symbol": "circle"
         },
         "mode": "markers",
         "name": " Chile",
         "orientation": "v",
         "showlegend": true,
         "type": "scatter",
         "x": [
          7.237
         ],
         "xaxis": "x",
         "y": [
          3.725
         ],
         "yaxis": "y"
        },
        {
         "hovertemplate": "<b>%{hovertext}</b><br><br>ua_country= Dominican Republic<br>Cost of Living=%{x}<br>Economy Score=%{y}<br>Housing Score=%{marker.size}<extra></extra>",
         "hovertext": [
          "Santo Domingo"
         ],
         "legendgroup": " Dominican Republic",
         "marker": {
          "color": "#B6E880",
          "size": [
           9.289
          ],
          "sizemode": "area",
          "sizeref": 0.044444444444444446,
          "symbol": "circle"
         },
         "mode": "markers",
         "name": " Dominican Republic",
         "orientation": "v",
         "showlegend": true,
         "type": "scatter",
         "x": [
          8.076000000000002
         ],
         "xaxis": "x",
         "y": [
          6.1135
         ],
         "yaxis": "y"
        },
        {
         "hovertemplate": "<b>%{hovertext}</b><br><br>ua_country= Bosnia and Herzegovina<br>Cost of Living=%{x}<br>Economy Score=%{y}<br>Housing Score=%{marker.size}<extra></extra>",
         "hovertext": [
          "Sarajevo"
         ],
         "legendgroup": " Bosnia and Herzegovina",
         "marker": {
          "color": "#FF97FF",
          "size": [
           9.6925
          ],
          "sizemode": "area",
          "sizeref": 0.044444444444444446,
          "symbol": "circle"
         },
         "mode": "markers",
         "name": " Bosnia and Herzegovina",
         "orientation": "v",
         "showlegend": true,
         "type": "scatter",
         "x": [
          8.659
         ],
         "xaxis": "x",
         "y": [
          2.088
         ],
         "yaxis": "y"
        },
        {
         "hovertemplate": "<b>%{hovertext}</b><br><br>ua_country= Washington<br>Cost of Living=%{x}<br>Economy Score=%{y}<br>Housing Score=%{marker.size}<extra></extra>",
         "hovertext": [
          "Seattle"
         ],
         "legendgroup": " Washington",
         "marker": {
          "color": "#FECB52",
          "size": [
           2.291
          ],
          "sizemode": "area",
          "sizeref": 0.044444444444444446,
          "symbol": "circle"
         },
         "mode": "markers",
         "name": " Washington",
         "orientation": "v",
         "showlegend": true,
         "type": "scatter",
         "x": [
          3.79
         ],
         "xaxis": "x",
         "y": [
          6.5145
         ],
         "yaxis": "y"
        },
        {
         "hovertemplate": "<b>%{hovertext}</b><br><br>ua_country= South Korea<br>Cost of Living=%{x}<br>Economy Score=%{y}<br>Housing Score=%{marker.size}<extra></extra>",
         "hovertext": [
          "Seoul"
         ],
         "legendgroup": " South Korea",
         "marker": {
          "color": "#636efa",
          "size": [
           6.142500000000001
          ],
          "sizemode": "area",
          "sizeref": 0.044444444444444446,
          "symbol": "circle"
         },
         "mode": "markers",
         "name": " South Korea",
         "orientation": "v",
         "showlegend": true,
         "type": "scatter",
         "x": [
          3.698000000000001
         ],
         "xaxis": "x",
         "y": [
          5.561
         ],
         "yaxis": "y"
        },
        {
         "hovertemplate": "<b>%{hovertext}</b><br><br>ua_country= Singapore<br>Cost of Living=%{x}<br>Economy Score=%{y}<br>Housing Score=%{marker.size}<extra></extra>",
         "hovertext": [
          "Singapore"
         ],
         "legendgroup": " Singapore",
         "marker": {
          "color": "#EF553B",
          "size": [
           1.745
          ],
          "sizemode": "area",
          "sizeref": 0.044444444444444446,
          "symbol": "circle"
         },
         "mode": "markers",
         "name": " Singapore",
         "orientation": "v",
         "showlegend": true,
         "type": "scatter",
         "x": [
          3.4890000000000003
         ],
         "xaxis": "x",
         "y": [
          7.478500000000001
         ],
         "yaxis": "y"
        },
        {
         "hovertemplate": "<b>%{hovertext}</b><br><br>ua_country= Macedonia<br>Cost of Living=%{x}<br>Economy Score=%{y}<br>Housing Score=%{marker.size}<extra></extra>",
         "hovertext": [
          "Skopje"
         ],
         "legendgroup": " Macedonia",
         "marker": {
          "color": "#00cc96",
          "size": [
           9.740500000000004
          ],
          "sizemode": "area",
          "sizeref": 0.044444444444444446,
          "symbol": "circle"
         },
         "mode": "markers",
         "name": " Macedonia",
         "orientation": "v",
         "showlegend": true,
         "type": "scatter",
         "x": [
          9.11
         ],
         "xaxis": "x",
         "y": [
          4.1225000000000005
         ],
         "yaxis": "y"
        },
        {
         "hovertemplate": "<b>%{hovertext}</b><br><br>ua_country= Bulgaria<br>Cost of Living=%{x}<br>Economy Score=%{y}<br>Housing Score=%{marker.size}<extra></extra>",
         "hovertext": [
          "Sofia"
         ],
         "legendgroup": " Bulgaria",
         "marker": {
          "color": "#ab63fa",
          "size": [
           9.306
          ],
          "sizemode": "area",
          "sizeref": 0.044444444444444446,
          "symbol": "circle"
         },
         "mode": "markers",
         "name": " Bulgaria",
         "orientation": "v",
         "showlegend": true,
         "type": "scatter",
         "x": [
          8.55
         ],
         "xaxis": "x",
         "y": [
          3.2499999999999996
         ],
         "yaxis": "y"
        },
        {
         "hovertemplate": "<b>%{hovertext}</b><br><br>ua_country= Taiwan<br>Cost of Living=%{x}<br>Economy Score=%{y}<br>Housing Score=%{marker.size}<extra></extra>",
         "hovertext": [
          "Taipei"
         ],
         "legendgroup": " Taiwan",
         "marker": {
          "color": "#FFA15A",
          "size": [
           7.977
          ],
          "sizemode": "area",
          "sizeref": 0.044444444444444446,
          "symbol": "circle"
         },
         "mode": "markers",
         "name": " Taiwan",
         "orientation": "v",
         "showlegend": true,
         "type": "scatter",
         "x": [
          5.644
         ],
         "xaxis": "x",
         "y": [
          6.6354999999999995
         ],
         "yaxis": "y"
        },
        {
         "hovertemplate": "<b>%{hovertext}</b><br><br>ua_country= Estonia<br>Cost of Living=%{x}<br>Economy Score=%{y}<br>Housing Score=%{marker.size}<extra></extra>",
         "hovertext": [
          "Tallinn",
          "Tartu"
         ],
         "legendgroup": " Estonia",
         "marker": {
          "color": "#19d3f3",
          "size": [
           8.376500000000002,
           8.961000000000002
          ],
          "sizemode": "area",
          "sizeref": 0.044444444444444446,
          "symbol": "circle"
         },
         "mode": "markers",
         "name": " Estonia",
         "orientation": "v",
         "showlegend": true,
         "type": "scatter",
         "x": [
          6.931000000000001,
          7.47
         ],
         "xaxis": "x",
         "y": [
          4.1850000000000005,
          4.1850000000000005
         ],
         "yaxis": "y"
        },
        {
         "hovertemplate": "<b>%{hovertext}</b><br><br>ua_country= Uzbekistan<br>Cost of Living=%{x}<br>Economy Score=%{y}<br>Housing Score=%{marker.size}<extra></extra>",
         "hovertext": [
          "Tashkent"
         ],
         "legendgroup": " Uzbekistan",
         "marker": {
          "color": "#FF6692",
          "size": [
           5
          ],
          "sizemode": "area",
          "sizeref": 0.044444444444444446,
          "symbol": "circle"
         },
         "mode": "markers",
         "name": " Uzbekistan",
         "orientation": "v",
         "showlegend": true,
         "type": "scatter",
         "x": [
          0
         ],
         "xaxis": "x",
         "y": [
          5.5375
         ],
         "yaxis": "y"
        },
        {
         "hovertemplate": "<b>%{hovertext}</b><br><br>ua_country= Iran<br>Cost of Living=%{x}<br>Economy Score=%{y}<br>Housing Score=%{marker.size}<extra></extra>",
         "hovertext": [
          "Tehran"
         ],
         "legendgroup": " Iran",
         "marker": {
          "color": "#B6E880",
          "size": [
           8.302999999999999
          ],
          "sizemode": "area",
          "sizeref": 0.044444444444444446,
          "symbol": "circle"
         },
         "mode": "markers",
         "name": " Iran",
         "orientation": "v",
         "showlegend": true,
         "type": "scatter",
         "x": [
          9.544
         ],
         "xaxis": "x",
         "y": [
          3.9435
         ],
         "yaxis": "y"
        },
        {
         "hovertemplate": "<b>%{hovertext}</b><br><br>ua_country= Israel<br>Cost of Living=%{x}<br>Economy Score=%{y}<br>Housing Score=%{marker.size}<extra></extra>",
         "hovertext": [
          "Tel Aviv"
         ],
         "legendgroup": " Israel",
         "marker": {
          "color": "#FF97FF",
          "size": [
           4.91
          ],
          "sizemode": "area",
          "sizeref": 0.044444444444444446,
          "symbol": "circle"
         },
         "mode": "markers",
         "name": " Israel",
         "orientation": "v",
         "showlegend": true,
         "type": "scatter",
         "x": [
          4.370000000000001
         ],
         "xaxis": "x",
         "y": [
          5.0265
         ],
         "yaxis": "y"
        },
        {
         "hovertemplate": "<b>%{hovertext}</b><br><br>ua_country= Tunisia<br>Cost of Living=%{x}<br>Economy Score=%{y}<br>Housing Score=%{marker.size}<extra></extra>",
         "hovertext": [
          "Tunis"
         ],
         "legendgroup": " Tunisia",
         "marker": {
          "color": "#FECB52",
          "size": [
           9.968
          ],
          "sizemode": "area",
          "sizeref": 0.044444444444444446,
          "symbol": "circle"
         },
         "mode": "markers",
         "name": " Tunisia",
         "orientation": "v",
         "showlegend": true,
         "type": "scatter",
         "x": [
          9.998
         ],
         "xaxis": "x",
         "y": [
          3.0920000000000005
         ],
         "yaxis": "y"
        },
        {
         "hovertemplate": "<b>%{hovertext}</b><br><br>ua_country= Malta<br>Cost of Living=%{x}<br>Economy Score=%{y}<br>Housing Score=%{marker.size}<extra></extra>",
         "hovertext": [
          "Valletta"
         ],
         "legendgroup": " Malta",
         "marker": {
          "color": "#636efa",
          "size": [
           3.1530000000000005
          ],
          "sizemode": "area",
          "sizeref": 0.044444444444444446,
          "symbol": "circle"
         },
         "mode": "markers",
         "name": " Malta",
         "orientation": "v",
         "showlegend": true,
         "type": "scatter",
         "x": [
          0
         ],
         "xaxis": "x",
         "y": [
          5.5395
         ],
         "yaxis": "y"
        },
        {
         "hovertemplate": "<b>%{hovertext}</b><br><br>ua_country= Lithuania<br>Cost of Living=%{x}<br>Economy Score=%{y}<br>Housing Score=%{marker.size}<extra></extra>",
         "hovertext": [
          "Vilnius"
         ],
         "legendgroup": " Lithuania",
         "marker": {
          "color": "#EF553B",
          "size": [
           8.621
          ],
          "sizemode": "area",
          "sizeref": 0.044444444444444446,
          "symbol": "circle"
         },
         "mode": "markers",
         "name": " Lithuania",
         "orientation": "v",
         "showlegend": true,
         "type": "scatter",
         "x": [
          7.576
         ],
         "xaxis": "x",
         "y": [
          4.691
         ],
         "yaxis": "y"
        },
        {
         "hovertemplate": "<b>%{hovertext}</b><br><br>ua_country= District of Columbia<br>Cost of Living=%{x}<br>Economy Score=%{y}<br>Housing Score=%{marker.size}<extra></extra>",
         "hovertext": [
          "Washington"
         ],
         "legendgroup": " District of Columbia",
         "marker": {
          "color": "#00cc96",
          "size": [
           1.2105
          ],
          "sizemode": "area",
          "sizeref": 0.044444444444444446,
          "symbol": "circle"
         },
         "mode": "markers",
         "name": " District of Columbia",
         "orientation": "v",
         "showlegend": true,
         "type": "scatter",
         "x": [
          3.5949999999999993
         ],
         "xaxis": "x",
         "y": [
          6.5145
         ],
         "yaxis": "y"
        },
        {
         "hovertemplate": "<b>%{hovertext}</b><br><br>ua_country= Armenia<br>Cost of Living=%{x}<br>Economy Score=%{y}<br>Housing Score=%{marker.size}<extra></extra>",
         "hovertext": [
          "Yerevan"
         ],
         "legendgroup": " Armenia",
         "marker": {
          "color": "#ab63fa",
          "size": [
           9.6945
          ],
          "sizemode": "area",
          "sizeref": 0.044444444444444446,
          "symbol": "circle"
         },
         "mode": "markers",
         "name": " Armenia",
         "orientation": "v",
         "showlegend": true,
         "type": "scatter",
         "x": [
          9.431
         ],
         "xaxis": "x",
         "y": [
          3.458
         ],
         "yaxis": "y"
        },
        {
         "hovertemplate": "<b>%{hovertext}</b><br><br>ua_country= Croatia<br>Cost of Living=%{x}<br>Economy Score=%{y}<br>Housing Score=%{marker.size}<extra></extra>",
         "hovertext": [
          "Zagreb"
         ],
         "legendgroup": " Croatia",
         "marker": {
          "color": "#FFA15A",
          "size": [
           8.91
          ],
          "sizemode": "area",
          "sizeref": 0.044444444444444446,
          "symbol": "circle"
         },
         "mode": "markers",
         "name": " Croatia",
         "orientation": "v",
         "showlegend": true,
         "type": "scatter",
         "x": [
          7.193999999999999
         ],
         "xaxis": "x",
         "y": [
          2.2365
         ],
         "yaxis": "y"
        }
       ],
       "layout": {
        "legend": {
         "itemsizing": "constant",
         "title": {
          "text": "ua_country"
         },
         "tracegroupgap": 0
        },
        "template": {
         "data": {
          "bar": [
           {
            "error_x": {
             "color": "#2a3f5f"
            },
            "error_y": {
             "color": "#2a3f5f"
            },
            "marker": {
             "line": {
              "color": "#E5ECF6",
              "width": 0.5
             },
             "pattern": {
              "fillmode": "overlay",
              "size": 10,
              "solidity": 0.2
             }
            },
            "type": "bar"
           }
          ],
          "barpolar": [
           {
            "marker": {
             "line": {
              "color": "#E5ECF6",
              "width": 0.5
             },
             "pattern": {
              "fillmode": "overlay",
              "size": 10,
              "solidity": 0.2
             }
            },
            "type": "barpolar"
           }
          ],
          "carpet": [
           {
            "aaxis": {
             "endlinecolor": "#2a3f5f",
             "gridcolor": "white",
             "linecolor": "white",
             "minorgridcolor": "white",
             "startlinecolor": "#2a3f5f"
            },
            "baxis": {
             "endlinecolor": "#2a3f5f",
             "gridcolor": "white",
             "linecolor": "white",
             "minorgridcolor": "white",
             "startlinecolor": "#2a3f5f"
            },
            "type": "carpet"
           }
          ],
          "choropleth": [
           {
            "colorbar": {
             "outlinewidth": 0,
             "ticks": ""
            },
            "type": "choropleth"
           }
          ],
          "contour": [
           {
            "colorbar": {
             "outlinewidth": 0,
             "ticks": ""
            },
            "colorscale": [
             [
              0,
              "#0d0887"
             ],
             [
              0.1111111111111111,
              "#46039f"
             ],
             [
              0.2222222222222222,
              "#7201a8"
             ],
             [
              0.3333333333333333,
              "#9c179e"
             ],
             [
              0.4444444444444444,
              "#bd3786"
             ],
             [
              0.5555555555555556,
              "#d8576b"
             ],
             [
              0.6666666666666666,
              "#ed7953"
             ],
             [
              0.7777777777777778,
              "#fb9f3a"
             ],
             [
              0.8888888888888888,
              "#fdca26"
             ],
             [
              1,
              "#f0f921"
             ]
            ],
            "type": "contour"
           }
          ],
          "contourcarpet": [
           {
            "colorbar": {
             "outlinewidth": 0,
             "ticks": ""
            },
            "type": "contourcarpet"
           }
          ],
          "heatmap": [
           {
            "colorbar": {
             "outlinewidth": 0,
             "ticks": ""
            },
            "colorscale": [
             [
              0,
              "#0d0887"
             ],
             [
              0.1111111111111111,
              "#46039f"
             ],
             [
              0.2222222222222222,
              "#7201a8"
             ],
             [
              0.3333333333333333,
              "#9c179e"
             ],
             [
              0.4444444444444444,
              "#bd3786"
             ],
             [
              0.5555555555555556,
              "#d8576b"
             ],
             [
              0.6666666666666666,
              "#ed7953"
             ],
             [
              0.7777777777777778,
              "#fb9f3a"
             ],
             [
              0.8888888888888888,
              "#fdca26"
             ],
             [
              1,
              "#f0f921"
             ]
            ],
            "type": "heatmap"
           }
          ],
          "heatmapgl": [
           {
            "colorbar": {
             "outlinewidth": 0,
             "ticks": ""
            },
            "colorscale": [
             [
              0,
              "#0d0887"
             ],
             [
              0.1111111111111111,
              "#46039f"
             ],
             [
              0.2222222222222222,
              "#7201a8"
             ],
             [
              0.3333333333333333,
              "#9c179e"
             ],
             [
              0.4444444444444444,
              "#bd3786"
             ],
             [
              0.5555555555555556,
              "#d8576b"
             ],
             [
              0.6666666666666666,
              "#ed7953"
             ],
             [
              0.7777777777777778,
              "#fb9f3a"
             ],
             [
              0.8888888888888888,
              "#fdca26"
             ],
             [
              1,
              "#f0f921"
             ]
            ],
            "type": "heatmapgl"
           }
          ],
          "histogram": [
           {
            "marker": {
             "pattern": {
              "fillmode": "overlay",
              "size": 10,
              "solidity": 0.2
             }
            },
            "type": "histogram"
           }
          ],
          "histogram2d": [
           {
            "colorbar": {
             "outlinewidth": 0,
             "ticks": ""
            },
            "colorscale": [
             [
              0,
              "#0d0887"
             ],
             [
              0.1111111111111111,
              "#46039f"
             ],
             [
              0.2222222222222222,
              "#7201a8"
             ],
             [
              0.3333333333333333,
              "#9c179e"
             ],
             [
              0.4444444444444444,
              "#bd3786"
             ],
             [
              0.5555555555555556,
              "#d8576b"
             ],
             [
              0.6666666666666666,
              "#ed7953"
             ],
             [
              0.7777777777777778,
              "#fb9f3a"
             ],
             [
              0.8888888888888888,
              "#fdca26"
             ],
             [
              1,
              "#f0f921"
             ]
            ],
            "type": "histogram2d"
           }
          ],
          "histogram2dcontour": [
           {
            "colorbar": {
             "outlinewidth": 0,
             "ticks": ""
            },
            "colorscale": [
             [
              0,
              "#0d0887"
             ],
             [
              0.1111111111111111,
              "#46039f"
             ],
             [
              0.2222222222222222,
              "#7201a8"
             ],
             [
              0.3333333333333333,
              "#9c179e"
             ],
             [
              0.4444444444444444,
              "#bd3786"
             ],
             [
              0.5555555555555556,
              "#d8576b"
             ],
             [
              0.6666666666666666,
              "#ed7953"
             ],
             [
              0.7777777777777778,
              "#fb9f3a"
             ],
             [
              0.8888888888888888,
              "#fdca26"
             ],
             [
              1,
              "#f0f921"
             ]
            ],
            "type": "histogram2dcontour"
           }
          ],
          "mesh3d": [
           {
            "colorbar": {
             "outlinewidth": 0,
             "ticks": ""
            },
            "type": "mesh3d"
           }
          ],
          "parcoords": [
           {
            "line": {
             "colorbar": {
              "outlinewidth": 0,
              "ticks": ""
             }
            },
            "type": "parcoords"
           }
          ],
          "pie": [
           {
            "automargin": true,
            "type": "pie"
           }
          ],
          "scatter": [
           {
            "fillpattern": {
             "fillmode": "overlay",
             "size": 10,
             "solidity": 0.2
            },
            "type": "scatter"
           }
          ],
          "scatter3d": [
           {
            "line": {
             "colorbar": {
              "outlinewidth": 0,
              "ticks": ""
             }
            },
            "marker": {
             "colorbar": {
              "outlinewidth": 0,
              "ticks": ""
             }
            },
            "type": "scatter3d"
           }
          ],
          "scattercarpet": [
           {
            "marker": {
             "colorbar": {
              "outlinewidth": 0,
              "ticks": ""
             }
            },
            "type": "scattercarpet"
           }
          ],
          "scattergeo": [
           {
            "marker": {
             "colorbar": {
              "outlinewidth": 0,
              "ticks": ""
             }
            },
            "type": "scattergeo"
           }
          ],
          "scattergl": [
           {
            "marker": {
             "colorbar": {
              "outlinewidth": 0,
              "ticks": ""
             }
            },
            "type": "scattergl"
           }
          ],
          "scattermapbox": [
           {
            "marker": {
             "colorbar": {
              "outlinewidth": 0,
              "ticks": ""
             }
            },
            "type": "scattermapbox"
           }
          ],
          "scatterpolar": [
           {
            "marker": {
             "colorbar": {
              "outlinewidth": 0,
              "ticks": ""
             }
            },
            "type": "scatterpolar"
           }
          ],
          "scatterpolargl": [
           {
            "marker": {
             "colorbar": {
              "outlinewidth": 0,
              "ticks": ""
             }
            },
            "type": "scatterpolargl"
           }
          ],
          "scatterternary": [
           {
            "marker": {
             "colorbar": {
              "outlinewidth": 0,
              "ticks": ""
             }
            },
            "type": "scatterternary"
           }
          ],
          "surface": [
           {
            "colorbar": {
             "outlinewidth": 0,
             "ticks": ""
            },
            "colorscale": [
             [
              0,
              "#0d0887"
             ],
             [
              0.1111111111111111,
              "#46039f"
             ],
             [
              0.2222222222222222,
              "#7201a8"
             ],
             [
              0.3333333333333333,
              "#9c179e"
             ],
             [
              0.4444444444444444,
              "#bd3786"
             ],
             [
              0.5555555555555556,
              "#d8576b"
             ],
             [
              0.6666666666666666,
              "#ed7953"
             ],
             [
              0.7777777777777778,
              "#fb9f3a"
             ],
             [
              0.8888888888888888,
              "#fdca26"
             ],
             [
              1,
              "#f0f921"
             ]
            ],
            "type": "surface"
           }
          ],
          "table": [
           {
            "cells": {
             "fill": {
              "color": "#EBF0F8"
             },
             "line": {
              "color": "white"
             }
            },
            "header": {
             "fill": {
              "color": "#C8D4E3"
             },
             "line": {
              "color": "white"
             }
            },
            "type": "table"
           }
          ]
         },
         "layout": {
          "annotationdefaults": {
           "arrowcolor": "#2a3f5f",
           "arrowhead": 0,
           "arrowwidth": 1
          },
          "autotypenumbers": "strict",
          "coloraxis": {
           "colorbar": {
            "outlinewidth": 0,
            "ticks": ""
           }
          },
          "colorscale": {
           "diverging": [
            [
             0,
             "#8e0152"
            ],
            [
             0.1,
             "#c51b7d"
            ],
            [
             0.2,
             "#de77ae"
            ],
            [
             0.3,
             "#f1b6da"
            ],
            [
             0.4,
             "#fde0ef"
            ],
            [
             0.5,
             "#f7f7f7"
            ],
            [
             0.6,
             "#e6f5d0"
            ],
            [
             0.7,
             "#b8e186"
            ],
            [
             0.8,
             "#7fbc41"
            ],
            [
             0.9,
             "#4d9221"
            ],
            [
             1,
             "#276419"
            ]
           ],
           "sequential": [
            [
             0,
             "#0d0887"
            ],
            [
             0.1111111111111111,
             "#46039f"
            ],
            [
             0.2222222222222222,
             "#7201a8"
            ],
            [
             0.3333333333333333,
             "#9c179e"
            ],
            [
             0.4444444444444444,
             "#bd3786"
            ],
            [
             0.5555555555555556,
             "#d8576b"
            ],
            [
             0.6666666666666666,
             "#ed7953"
            ],
            [
             0.7777777777777778,
             "#fb9f3a"
            ],
            [
             0.8888888888888888,
             "#fdca26"
            ],
            [
             1,
             "#f0f921"
            ]
           ],
           "sequentialminus": [
            [
             0,
             "#0d0887"
            ],
            [
             0.1111111111111111,
             "#46039f"
            ],
            [
             0.2222222222222222,
             "#7201a8"
            ],
            [
             0.3333333333333333,
             "#9c179e"
            ],
            [
             0.4444444444444444,
             "#bd3786"
            ],
            [
             0.5555555555555556,
             "#d8576b"
            ],
            [
             0.6666666666666666,
             "#ed7953"
            ],
            [
             0.7777777777777778,
             "#fb9f3a"
            ],
            [
             0.8888888888888888,
             "#fdca26"
            ],
            [
             1,
             "#f0f921"
            ]
           ]
          },
          "colorway": [
           "#636efa",
           "#EF553B",
           "#00cc96",
           "#ab63fa",
           "#FFA15A",
           "#19d3f3",
           "#FF6692",
           "#B6E880",
           "#FF97FF",
           "#FECB52"
          ],
          "font": {
           "color": "#2a3f5f"
          },
          "geo": {
           "bgcolor": "white",
           "lakecolor": "white",
           "landcolor": "#E5ECF6",
           "showlakes": true,
           "showland": true,
           "subunitcolor": "white"
          },
          "hoverlabel": {
           "align": "left"
          },
          "hovermode": "closest",
          "mapbox": {
           "style": "light"
          },
          "paper_bgcolor": "white",
          "plot_bgcolor": "#E5ECF6",
          "polar": {
           "angularaxis": {
            "gridcolor": "white",
            "linecolor": "white",
            "ticks": ""
           },
           "bgcolor": "#E5ECF6",
           "radialaxis": {
            "gridcolor": "white",
            "linecolor": "white",
            "ticks": ""
           }
          },
          "scene": {
           "xaxis": {
            "backgroundcolor": "#E5ECF6",
            "gridcolor": "white",
            "gridwidth": 2,
            "linecolor": "white",
            "showbackground": true,
            "ticks": "",
            "zerolinecolor": "white"
           },
           "yaxis": {
            "backgroundcolor": "#E5ECF6",
            "gridcolor": "white",
            "gridwidth": 2,
            "linecolor": "white",
            "showbackground": true,
            "ticks": "",
            "zerolinecolor": "white"
           },
           "zaxis": {
            "backgroundcolor": "#E5ECF6",
            "gridcolor": "white",
            "gridwidth": 2,
            "linecolor": "white",
            "showbackground": true,
            "ticks": "",
            "zerolinecolor": "white"
           }
          },
          "shapedefaults": {
           "line": {
            "color": "#2a3f5f"
           }
          },
          "ternary": {
           "aaxis": {
            "gridcolor": "white",
            "linecolor": "white",
            "ticks": ""
           },
           "baxis": {
            "gridcolor": "white",
            "linecolor": "white",
            "ticks": ""
           },
           "bgcolor": "#E5ECF6",
           "caxis": {
            "gridcolor": "white",
            "linecolor": "white",
            "ticks": ""
           }
          },
          "title": {
           "x": 0.05
          },
          "xaxis": {
           "automargin": true,
           "gridcolor": "white",
           "linecolor": "white",
           "ticks": "",
           "title": {
            "standoff": 15
           },
           "zerolinecolor": "white",
           "zerolinewidth": 2
          },
          "yaxis": {
           "automargin": true,
           "gridcolor": "white",
           "linecolor": "white",
           "ticks": "",
           "title": {
            "standoff": 15
           },
           "zerolinecolor": "white",
           "zerolinewidth": 2
          }
         }
        },
        "title": {
         "text": "Cost of Living vs Economy with Housing Scores"
        },
        "xaxis": {
         "anchor": "y",
         "domain": [
          0,
          1
         ],
         "title": {
          "text": "Cost of Living"
         }
        },
        "yaxis": {
         "anchor": "x",
         "domain": [
          0,
          1
         ],
         "title": {
          "text": "Economy Score"
         }
        }
       }
      },
      "text/html": [
       "<div>                            <div id=\"751b478a-9678-4ff7-925e-e4fbd4e8183f\" class=\"plotly-graph-div\" style=\"height:525px; width:100%;\"></div>            <script type=\"text/javascript\">                require([\"plotly\"], function(Plotly) {                    window.PLOTLYENV=window.PLOTLYENV || {};                                    if (document.getElementById(\"751b478a-9678-4ff7-925e-e4fbd4e8183f\")) {                    Plotly.newPlot(                        \"751b478a-9678-4ff7-925e-e4fbd4e8183f\",                        [{\"hovertemplate\":\"\\u003cb\\u003e%{hovertext}\\u003c\\u002fb\\u003e\\u003cbr\\u003e\\u003cbr\\u003eua_country= Denmark\\u003cbr\\u003eCost of Living=%{x}\\u003cbr\\u003eEconomy Score=%{y}\\u003cbr\\u003eHousing Score=%{marker.size}\\u003cextra\\u003e\\u003c\\u002fextra\\u003e\",\"hovertext\":[\"Aarhus\",\"Copenhagen\"],\"legendgroup\":\" Denmark\",\"marker\":{\"color\":\"#636efa\",\"size\":[6.1315,4.227],\"sizemode\":\"area\",\"sizeref\":0.044444444444444446,\"symbol\":\"circle\"},\"mode\":\"markers\",\"name\":\" Denmark\",\"orientation\":\"v\",\"showlegend\":true,\"x\":[4.015000000000001,3.426],\"xaxis\":\"x\",\"y\":[4.886500000000001,4.886500000000001],\"yaxis\":\"y\",\"type\":\"scatter\"},{\"hovertemplate\":\"\\u003cb\\u003e%{hovertext}\\u003c\\u002fb\\u003e\\u003cbr\\u003e\\u003cbr\\u003eua_country= Australia\\u003cbr\\u003eCost of Living=%{x}\\u003cbr\\u003eEconomy Score=%{y}\\u003cbr\\u003eHousing Score=%{marker.size}\\u003cextra\\u003e\\u003c\\u002fextra\\u003e\",\"hovertext\":[\"Adelaide\",\"Brisbane\",\"Melbourne\",\"Perth\",\"Sydney\"],\"legendgroup\":\" Australia\",\"marker\":{\"color\":\"#EF553B\",\"size\":[6.3095,5.212,4.829999999999999,5.233,1.9865],\"sizemode\":\"area\",\"sizeref\":0.044444444444444446,\"symbol\":\"circle\"},\"mode\":\"markers\",\"name\":\" Australia\",\"orientation\":\"v\",\"showlegend\":true,\"x\":[4.692,5.1770000000000005,4.798000000000001,4.795,4.128],\"xaxis\":\"x\",\"y\":[6.0695000000000014,6.0695000000000014,6.0695000000000014,6.0695000000000014,6.0695000000000014],\"yaxis\":\"y\",\"type\":\"scatter\"},{\"hovertemplate\":\"\\u003cb\\u003e%{hovertext}\\u003c\\u002fb\\u003e\\u003cbr\\u003e\\u003cbr\\u003eua_country= New Mexico\\u003cbr\\u003eCost of Living=%{x}\\u003cbr\\u003eEconomy Score=%{y}\\u003cbr\\u003eHousing Score=%{marker.size}\\u003cextra\\u003e\\u003c\\u002fextra\\u003e\",\"hovertext\":[\"Albuquerque\"],\"legendgroup\":\" New Mexico\",\"marker\":{\"color\":\"#00cc96\",\"size\":[7.262],\"sizemode\":\"area\",\"sizeref\":0.044444444444444446,\"symbol\":\"circle\"},\"mode\":\"markers\",\"name\":\" New Mexico\",\"orientation\":\"v\",\"showlegend\":true,\"x\":[6.059],\"xaxis\":\"x\",\"y\":[6.5145],\"yaxis\":\"y\",\"type\":\"scatter\"},{\"hovertemplate\":\"\\u003cb\\u003e%{hovertext}\\u003c\\u002fb\\u003e\\u003cbr\\u003e\\u003cbr\\u003eua_country= Kazakhstan\\u003cbr\\u003eCost of Living=%{x}\\u003cbr\\u003eEconomy Score=%{y}\\u003cbr\\u003eHousing Score=%{marker.size}\\u003cextra\\u003e\\u003c\\u002fextra\\u003e\",\"hovertext\":[\"Almaty\"],\"legendgroup\":\" Kazakhstan\",\"marker\":{\"color\":\"#ab63fa\",\"size\":[9.282],\"sizemode\":\"area\",\"sizeref\":0.044444444444444446,\"symbol\":\"circle\"},\"mode\":\"markers\",\"name\":\" Kazakhstan\",\"orientation\":\"v\",\"showlegend\":true,\"x\":[9.333],\"xaxis\":\"x\",\"y\":[5.269],\"yaxis\":\"y\",\"type\":\"scatter\"},{\"hovertemplate\":\"\\u003cb\\u003e%{hovertext}\\u003c\\u002fb\\u003e\\u003cbr\\u003e\\u003cbr\\u003eua_country= Netherlands\\u003cbr\\u003eCost of Living=%{x}\\u003cbr\\u003eEconomy Score=%{y}\\u003cbr\\u003eHousing Score=%{marker.size}\\u003cextra\\u003e\\u003c\\u002fextra\\u003e\",\"hovertext\":[\"Amsterdam\",\"Eindhoven\",\"Rotterdam\",\"The Hague\",\"Utrecht\"],\"legendgroup\":\" Netherlands\",\"marker\":{\"color\":\"#FFA15A\",\"size\":[3.0529999999999995,6.252000000000001,6.0440000000000005,6.053000000000001,5.4665],\"sizemode\":\"area\",\"sizeref\":0.044444444444444446,\"symbol\":\"circle\"},\"mode\":\"markers\",\"name\":\" Netherlands\",\"orientation\":\"v\",\"showlegend\":true,\"x\":[3.8240000000000007,5.125,4.934000000000001,4.653,4.604],\"xaxis\":\"x\",\"y\":[5.053000000000001,5.053000000000001,5.053000000000001,5.053000000000001,5.053000000000001],\"yaxis\":\"y\",\"type\":\"scatter\"},{\"hovertemplate\":\"\\u003cb\\u003e%{hovertext}\\u003c\\u002fb\\u003e\\u003cbr\\u003e\\u003cbr\\u003eua_country= Alaska\\u003cbr\\u003eCost of Living=%{x}\\u003cbr\\u003eEconomy Score=%{y}\\u003cbr\\u003eHousing Score=%{marker.size}\\u003cextra\\u003e\\u003c\\u002fextra\\u003e\",\"hovertext\":[\"Anchorage\"],\"legendgroup\":\" Alaska\",\"marker\":{\"color\":\"#19d3f3\",\"size\":[5.433500000000001],\"sizemode\":\"area\",\"sizeref\":0.044444444444444446,\"symbol\":\"circle\"},\"mode\":\"markers\",\"name\":\" Alaska\",\"orientation\":\"v\",\"showlegend\":true,\"x\":[3.141],\"xaxis\":\"x\",\"y\":[6.5145],\"yaxis\":\"y\",\"type\":\"scatter\"},{\"hovertemplate\":\"\\u003cb\\u003e%{hovertext}\\u003c\\u002fb\\u003e\\u003cbr\\u003e\\u003cbr\\u003eua_country=Andorra\\u003cbr\\u003eCost of Living=%{x}\\u003cbr\\u003eEconomy Score=%{y}\\u003cbr\\u003eHousing Score=%{marker.size}\\u003cextra\\u003e\\u003c\\u002fextra\\u003e\",\"hovertext\":[\"Andorra\"],\"legendgroup\":\"Andorra\",\"marker\":{\"color\":\"#FF6692\",\"size\":[3.969],\"sizemode\":\"area\",\"sizeref\":0.044444444444444446,\"symbol\":\"circle\"},\"mode\":\"markers\",\"name\":\"Andorra\",\"orientation\":\"v\",\"showlegend\":true,\"x\":[0.0],\"xaxis\":\"x\",\"y\":[0.0],\"yaxis\":\"y\",\"type\":\"scatter\"},{\"hovertemplate\":\"\\u003cb\\u003e%{hovertext}\\u003c\\u002fb\\u003e\\u003cbr\\u003e\\u003cbr\\u003eua_country= Turkey\\u003cbr\\u003eCost of Living=%{x}\\u003cbr\\u003eEconomy Score=%{y}\\u003cbr\\u003eHousing Score=%{marker.size}\\u003cextra\\u003e\\u003c\\u002fextra\\u003e\",\"hovertext\":[\"Ankara\",\"Istanbul\"],\"legendgroup\":\" Turkey\",\"marker\":{\"color\":\"#B6E880\",\"size\":[9.928,9.1375],\"sizemode\":\"area\",\"sizeref\":0.044444444444444446,\"symbol\":\"circle\"},\"mode\":\"markers\",\"name\":\" Turkey\",\"orientation\":\"v\",\"showlegend\":true,\"x\":[9.125,8.787],\"xaxis\":\"x\",\"y\":[4.093500000000001,4.093500000000001],\"yaxis\":\"y\",\"type\":\"scatter\"},{\"hovertemplate\":\"\\u003cb\\u003e%{hovertext}\\u003c\\u002fb\\u003e\\u003cbr\\u003e\\u003cbr\\u003eua_country= North Carolina\\u003cbr\\u003eCost of Living=%{x}\\u003cbr\\u003eEconomy Score=%{y}\\u003cbr\\u003eHousing Score=%{marker.size}\\u003cextra\\u003e\\u003c\\u002fextra\\u003e\",\"hovertext\":[\"Asheville\",\"Charlotte\",\"Raleigh\"],\"legendgroup\":\" North Carolina\",\"marker\":{\"color\":\"#FF97FF\",\"size\":[5.855999999999999,5.549,6.128500000000001],\"sizemode\":\"area\",\"sizeref\":0.044444444444444446,\"symbol\":\"circle\"},\"mode\":\"markers\",\"name\":\" North Carolina\",\"orientation\":\"v\",\"showlegend\":true,\"x\":[5.311,4.987,5.610000000000001],\"xaxis\":\"x\",\"y\":[6.5145,6.5145,6.5145],\"yaxis\":\"y\",\"type\":\"scatter\"},{\"hovertemplate\":\"\\u003cb\\u003e%{hovertext}\\u003c\\u002fb\\u003e\\u003cbr\\u003e\\u003cbr\\u003eua_country= Paraguay\\u003cbr\\u003eCost of Living=%{x}\\u003cbr\\u003eEconomy Score=%{y}\\u003cbr\\u003eHousing Score=%{marker.size}\\u003cextra\\u003e\\u003c\\u002fextra\\u003e\",\"hovertext\":[\"Asuncion\"],\"legendgroup\":\" Paraguay\",\"marker\":{\"color\":\"#FECB52\",\"size\":[9.2265],\"sizemode\":\"area\",\"sizeref\":0.044444444444444446,\"symbol\":\"circle\"},\"mode\":\"markers\",\"name\":\" Paraguay\",\"orientation\":\"v\",\"showlegend\":true,\"x\":[9.295000000000002],\"xaxis\":\"x\",\"y\":[4.109],\"yaxis\":\"y\",\"type\":\"scatter\"},{\"hovertemplate\":\"\\u003cb\\u003e%{hovertext}\\u003c\\u002fb\\u003e\\u003cbr\\u003e\\u003cbr\\u003eua_country= Greece\\u003cbr\\u003eCost of Living=%{x}\\u003cbr\\u003eEconomy Score=%{y}\\u003cbr\\u003eHousing Score=%{marker.size}\\u003cextra\\u003e\\u003c\\u002fextra\\u003e\",\"hovertext\":[\"Athens\",\"Thessaloniki\"],\"legendgroup\":\" Greece\",\"marker\":{\"color\":\"#636efa\",\"size\":[9.052499999999998,9.3775],\"sizemode\":\"area\",\"sizeref\":0.044444444444444446,\"symbol\":\"circle\"},\"mode\":\"markers\",\"name\":\" Greece\",\"orientation\":\"v\",\"showlegend\":true,\"x\":[6.5,6.6000000000000005],\"xaxis\":\"x\",\"y\":[3.3199999999999994,3.3199999999999994],\"yaxis\":\"y\",\"type\":\"scatter\"},{\"hovertemplate\":\"\\u003cb\\u003e%{hovertext}\\u003c\\u002fb\\u003e\\u003cbr\\u003e\\u003cbr\\u003eua_country= Georgia\\u003cbr\\u003eCost of Living=%{x}\\u003cbr\\u003eEconomy Score=%{y}\\u003cbr\\u003eHousing Score=%{marker.size}\\u003cextra\\u003e\\u003c\\u002fextra\\u003e\",\"hovertext\":[\"Atlanta\",\"Tbilisi\"],\"legendgroup\":\" Georgia\",\"marker\":{\"color\":\"#EF553B\",\"size\":[4.9755,9.4905],\"sizemode\":\"area\",\"sizeref\":0.044444444444444446,\"symbol\":\"circle\"},\"mode\":\"markers\",\"name\":\" Georgia\",\"orientation\":\"v\",\"showlegend\":true,\"x\":[5.241,9.765],\"xaxis\":\"x\",\"y\":[6.5145,4.2525],\"yaxis\":\"y\",\"type\":\"scatter\"},{\"hovertemplate\":\"\\u003cb\\u003e%{hovertext}\\u003c\\u002fb\\u003e\\u003cbr\\u003e\\u003cbr\\u003eua_country= New Zealand\\u003cbr\\u003eCost of Living=%{x}\\u003cbr\\u003eEconomy Score=%{y}\\u003cbr\\u003eHousing Score=%{marker.size}\\u003cextra\\u003e\\u003c\\u002fextra\\u003e\",\"hovertext\":[\"Auckland\",\"Christchurch\",\"Wellington\"],\"legendgroup\":\" New Zealand\",\"marker\":{\"color\":\"#00cc96\",\"size\":[4.72,6.934000000000001,5.134499999999999],\"sizemode\":\"area\",\"sizeref\":0.044444444444444446,\"symbol\":\"circle\"},\"mode\":\"markers\",\"name\":\" New Zealand\",\"orientation\":\"v\",\"showlegend\":true,\"x\":[4.470000000000001,5.096,5.161],\"xaxis\":\"x\",\"y\":[5.505500000000001,5.505500000000001,5.505500000000001],\"yaxis\":\"y\",\"type\":\"scatter\"},{\"hovertemplate\":\"\\u003cb\\u003e%{hovertext}\\u003c\\u002fb\\u003e\\u003cbr\\u003e\\u003cbr\\u003eua_country= Texas\\u003cbr\\u003eCost of Living=%{x}\\u003cbr\\u003eEconomy Score=%{y}\\u003cbr\\u003eHousing Score=%{marker.size}\\u003cextra\\u003e\\u003c\\u002fextra\\u003e\",\"hovertext\":[\"Austin\",\"Dallas\",\"Houston\",\"San Antonio\"],\"legendgroup\":\" Texas\",\"marker\":{\"color\":\"#ab63fa\",\"size\":[4.3345,5.259000000000001,5.224500000000001,6.402000000000001],\"sizemode\":\"area\",\"sizeref\":0.044444444444444446,\"symbol\":\"circle\"},\"mode\":\"markers\",\"name\":\" Texas\",\"orientation\":\"v\",\"showlegend\":true,\"x\":[5.3549999999999995,6.090999999999999,6.162,6.683],\"xaxis\":\"x\",\"y\":[6.5145,6.5145,6.5145,6.5145],\"yaxis\":\"y\",\"type\":\"scatter\"},{\"hovertemplate\":\"\\u003cb\\u003e%{hovertext}\\u003c\\u002fb\\u003e\\u003cbr\\u003e\\u003cbr\\u003eua_country= Azerbaijan\\u003cbr\\u003eCost of Living=%{x}\\u003cbr\\u003eEconomy Score=%{y}\\u003cbr\\u003eHousing Score=%{marker.size}\\u003cextra\\u003e\\u003c\\u002fextra\\u003e\",\"hovertext\":[\"Baku\"],\"legendgroup\":\" Azerbaijan\",\"marker\":{\"color\":\"#FFA15A\",\"size\":[9.745],\"sizemode\":\"area\",\"sizeref\":0.044444444444444446,\"symbol\":\"circle\"},\"mode\":\"markers\",\"name\":\" Azerbaijan\",\"orientation\":\"v\",\"showlegend\":true,\"x\":[9.806],\"xaxis\":\"x\",\"y\":[3.8765],\"yaxis\":\"y\",\"type\":\"scatter\"},{\"hovertemplate\":\"\\u003cb\\u003e%{hovertext}\\u003c\\u002fb\\u003e\\u003cbr\\u003e\\u003cbr\\u003eua_country= Indonesia\\u003cbr\\u003eCost of Living=%{x}\\u003cbr\\u003eEconomy Score=%{y}\\u003cbr\\u003eHousing Score=%{marker.size}\\u003cextra\\u003e\\u003c\\u002fextra\\u003e\",\"hovertext\":[\"Bali\",\"Jakarta\"],\"legendgroup\":\" Indonesia\",\"marker\":{\"color\":\"#19d3f3\",\"size\":[5.0,8.671],\"sizemode\":\"area\",\"sizeref\":0.044444444444444446,\"symbol\":\"circle\"},\"mode\":\"markers\",\"name\":\" Indonesia\",\"orientation\":\"v\",\"showlegend\":true,\"x\":[0.0,8.471],\"xaxis\":\"x\",\"y\":[4.657500000000001,4.657500000000001],\"yaxis\":\"y\",\"type\":\"scatter\"},{\"hovertemplate\":\"\\u003cb\\u003e%{hovertext}\\u003c\\u002fb\\u003e\\u003cbr\\u003e\\u003cbr\\u003eua_country= Maryland\\u003cbr\\u003eCost of Living=%{x}\\u003cbr\\u003eEconomy Score=%{y}\\u003cbr\\u003eHousing Score=%{marker.size}\\u003cextra\\u003e\\u003c\\u002fextra\\u003e\",\"hovertext\":[\"Baltimore\"],\"legendgroup\":\" Maryland\",\"marker\":{\"color\":\"#FF6692\",\"size\":[4.829999999999999],\"sizemode\":\"area\",\"sizeref\":0.044444444444444446,\"symbol\":\"circle\"},\"mode\":\"markers\",\"name\":\" Maryland\",\"orientation\":\"v\",\"showlegend\":true,\"x\":[4.982],\"xaxis\":\"x\",\"y\":[6.5145],\"yaxis\":\"y\",\"type\":\"scatter\"},{\"hovertemplate\":\"\\u003cb\\u003e%{hovertext}\\u003c\\u002fb\\u003e\\u003cbr\\u003e\\u003cbr\\u003eua_country= Thailand\\u003cbr\\u003eCost of Living=%{x}\\u003cbr\\u003eEconomy Score=%{y}\\u003cbr\\u003eHousing Score=%{marker.size}\\u003cextra\\u003e\\u003c\\u002fextra\\u003e\",\"hovertext\":[\"Bangkok\",\"Chiang Mai\",\"Phuket\"],\"legendgroup\":\" Thailand\",\"marker\":{\"color\":\"#B6E880\",\"size\":[7.3935,9.3725,8.823],\"sizemode\":\"area\",\"sizeref\":0.044444444444444446,\"symbol\":\"circle\"},\"mode\":\"markers\",\"name\":\" Thailand\",\"orientation\":\"v\",\"showlegend\":true,\"x\":[7.222,8.495000000000001,7.602000000000001],\"xaxis\":\"x\",\"y\":[2.387,2.387,2.387],\"yaxis\":\"y\",\"type\":\"scatter\"},{\"hovertemplate\":\"\\u003cb\\u003e%{hovertext}\\u003c\\u002fb\\u003e\\u003cbr\\u003e\\u003cbr\\u003eua_country= Spain\\u003cbr\\u003eCost of Living=%{x}\\u003cbr\\u003eEconomy Score=%{y}\\u003cbr\\u003eHousing Score=%{marker.size}\\u003cextra\\u003e\\u003c\\u002fextra\\u003e\",\"hovertext\":[\"Barcelona\",\"Bilbao\",\"Las Palmas de Gran Canaria\",\"Madrid\",\"Malaga\",\"Seville\",\"Valencia\"],\"legendgroup\":\" Spain\",\"marker\":{\"color\":\"#FF97FF\",\"size\":[6.3229999999999995,6.888000000000001,8.232000000000001,6.414000000000001,8.0515,8.095500000000001,8.135500000000002],\"sizemode\":\"area\",\"sizeref\":0.044444444444444446,\"symbol\":\"circle\"},\"mode\":\"markers\",\"name\":\" Spain\",\"orientation\":\"v\",\"showlegend\":true,\"x\":[6.074000000000001,5.638,7.717,6.2490000000000006,7.375,6.961,6.872],\"xaxis\":\"x\",\"y\":[4.296,4.296,4.296,4.296,4.296,4.296,4.296],\"yaxis\":\"y\",\"type\":\"scatter\"},{\"hovertemplate\":\"\\u003cb\\u003e%{hovertext}\\u003c\\u002fb\\u003e\\u003cbr\\u003e\\u003cbr\\u003eua_country= China\\u003cbr\\u003eCost of Living=%{x}\\u003cbr\\u003eEconomy Score=%{y}\\u003cbr\\u003eHousing Score=%{marker.size}\\u003cextra\\u003e\\u003c\\u002fextra\\u003e\",\"hovertext\":[\"Beijing\",\"Shanghai\"],\"legendgroup\":\" China\",\"marker\":{\"color\":\"#FECB52\",\"size\":[6.173000000000001,5.744],\"sizemode\":\"area\",\"sizeref\":0.044444444444444446,\"symbol\":\"circle\"},\"mode\":\"markers\",\"name\":\" China\",\"orientation\":\"v\",\"showlegend\":true,\"x\":[8.101,7.179],\"xaxis\":\"x\",\"y\":[6.103,6.103],\"yaxis\":\"y\",\"type\":\"scatter\"},{\"hovertemplate\":\"\\u003cb\\u003e%{hovertext}\\u003c\\u002fb\\u003e\\u003cbr\\u003e\\u003cbr\\u003eua_country= Lebanon\\u003cbr\\u003eCost of Living=%{x}\\u003cbr\\u003eEconomy Score=%{y}\\u003cbr\\u003eHousing Score=%{marker.size}\\u003cextra\\u003e\\u003c\\u002fextra\\u003e\",\"hovertext\":[\"Beirut\"],\"legendgroup\":\" Lebanon\",\"marker\":{\"color\":\"#636efa\",\"size\":[6.655500000000001],\"sizemode\":\"area\",\"sizeref\":0.044444444444444446,\"symbol\":\"circle\"},\"mode\":\"markers\",\"name\":\" Lebanon\",\"orientation\":\"v\",\"showlegend\":true,\"x\":[6.3],\"xaxis\":\"x\",\"y\":[3.4345000000000003],\"yaxis\":\"y\",\"type\":\"scatter\"},{\"hovertemplate\":\"\\u003cb\\u003e%{hovertext}\\u003c\\u002fb\\u003e\\u003cbr\\u003e\\u003cbr\\u003eua_country= United Kingdom\\u003cbr\\u003eCost of Living=%{x}\\u003cbr\\u003eEconomy Score=%{y}\\u003cbr\\u003eHousing Score=%{marker.size}\\u003cextra\\u003e\\u003c\\u002fextra\\u003e\",\"hovertext\":[\"Belfast\",\"Birmingham\",\"Brighton\",\"Bristol\",\"Cambridge\",\"Cardiff\",\"Edinburgh\",\"Glasgow\",\"Leeds\",\"Liverpool\",\"London\",\"Manchester\",\"Oxford\"],\"legendgroup\":\" United Kingdom\",\"marker\":{\"color\":\"#EF553B\",\"size\":[7.532000000000001,5.9035,2.49,5.215999999999999,4.1055,7.065,5.8450000000000015,6.9285000000000005,6.811,7.485,1.0,6.455500000000001,3.65],\"sizemode\":\"area\",\"sizeref\":0.044444444444444446,\"symbol\":\"circle\"},\"mode\":\"markers\",\"name\":\" United Kingdom\",\"orientation\":\"v\",\"showlegend\":true,\"x\":[6.014000000000001,5.814,5.324,5.242,4.851,6.082,5.114,5.623,5.3629999999999995,6.02,3.94,5.049000000000001,4.941000000000001],\"xaxis\":\"x\",\"y\":[5.438,5.438,5.438,5.438,5.438,5.438,5.438,5.438,5.438,5.438,5.438,5.438,5.438],\"yaxis\":\"y\",\"type\":\"scatter\"},{\"hovertemplate\":\"\\u003cb\\u003e%{hovertext}\\u003c\\u002fb\\u003e\\u003cbr\\u003e\\u003cbr\\u003eua_country= Serbia\\u003cbr\\u003eCost of Living=%{x}\\u003cbr\\u003eEconomy Score=%{y}\\u003cbr\\u003eHousing Score=%{marker.size}\\u003cextra\\u003e\\u003c\\u002fextra\\u003e\",\"hovertext\":[\"Belgrade\"],\"legendgroup\":\" Serbia\",\"marker\":{\"color\":\"#00cc96\",\"size\":[9.2575],\"sizemode\":\"area\",\"sizeref\":0.044444444444444446,\"symbol\":\"circle\"},\"mode\":\"markers\",\"name\":\" Serbia\",\"orientation\":\"v\",\"showlegend\":true,\"x\":[8.546000000000001],\"xaxis\":\"x\",\"y\":[1.638],\"yaxis\":\"y\",\"type\":\"scatter\"},{\"hovertemplate\":\"\\u003cb\\u003e%{hovertext}\\u003c\\u002fb\\u003e\\u003cbr\\u003e\\u003cbr\\u003eua_country= Belize\\u003cbr\\u003eCost of Living=%{x}\\u003cbr\\u003eEconomy Score=%{y}\\u003cbr\\u003eHousing Score=%{marker.size}\\u003cextra\\u003e\\u003c\\u002fextra\\u003e\",\"hovertext\":[\"Belize City\"],\"legendgroup\":\" Belize\",\"marker\":{\"color\":\"#ab63fa\",\"size\":[4.6425],\"sizemode\":\"area\",\"sizeref\":0.044444444444444446,\"symbol\":\"circle\"},\"mode\":\"markers\",\"name\":\" Belize\",\"orientation\":\"v\",\"showlegend\":true,\"x\":[0.0],\"xaxis\":\"x\",\"y\":[3.4959999999999996],\"yaxis\":\"y\",\"type\":\"scatter\"},{\"hovertemplate\":\"\\u003cb\\u003e%{hovertext}\\u003c\\u002fb\\u003e\\u003cbr\\u003e\\u003cbr\\u003eua_country= India\\u003cbr\\u003eCost of Living=%{x}\\u003cbr\\u003eEconomy Score=%{y}\\u003cbr\\u003eHousing Score=%{marker.size}\\u003cextra\\u003e\\u003c\\u002fextra\\u003e\",\"hovertext\":[\"Bengaluru\",\"Chennai\",\"Delhi\",\"Hyderabad\",\"Mumbai\"],\"legendgroup\":\" India\",\"marker\":{\"color\":\"#FFA15A\",\"size\":[9.810999999999998,10.0,9.752,10.0,8.124],\"sizemode\":\"area\",\"sizeref\":0.044444444444444446,\"symbol\":\"circle\"},\"mode\":\"markers\",\"name\":\" India\",\"orientation\":\"v\",\"showlegend\":true,\"x\":[10.0,10.0,9.869,10.0,9.825],\"xaxis\":\"x\",\"y\":[5.5565,5.5565,5.5565,5.5565,5.5565],\"yaxis\":\"y\",\"type\":\"scatter\"},{\"hovertemplate\":\"\\u003cb\\u003e%{hovertext}\\u003c\\u002fb\\u003e\\u003cbr\\u003e\\u003cbr\\u003eua_country= Norway\\u003cbr\\u003eCost of Living=%{x}\\u003cbr\\u003eEconomy Score=%{y}\\u003cbr\\u003eHousing Score=%{marker.size}\\u003cextra\\u003e\\u003c\\u002fextra\\u003e\",\"hovertext\":[\"Bergen\",\"Oslo\"],\"legendgroup\":\" Norway\",\"marker\":{\"color\":\"#19d3f3\",\"size\":[5.229499999999999,3.768],\"sizemode\":\"area\",\"sizeref\":0.044444444444444446,\"symbol\":\"circle\"},\"mode\":\"markers\",\"name\":\" Norway\",\"orientation\":\"v\",\"showlegend\":true,\"x\":[1.805,1.0380000000000005],\"xaxis\":\"x\",\"y\":[7.0735,7.0735],\"yaxis\":\"y\",\"type\":\"scatter\"},{\"hovertemplate\":\"\\u003cb\\u003e%{hovertext}\\u003c\\u002fb\\u003e\\u003cbr\\u003e\\u003cbr\\u003eua_country= Germany\\u003cbr\\u003eCost of Living=%{x}\\u003cbr\\u003eEconomy Score=%{y}\\u003cbr\\u003eHousing Score=%{marker.size}\\u003cextra\\u003e\\u003c\\u002fextra\\u003e\",\"hovertext\":[\"Berlin\",\"Cologne\",\"Dresden\",\"Dusseldorf\",\"Frankfurt\",\"Hamburg\",\"Hannover\",\"Karlsruhe\",\"Leipzig\",\"Munich\",\"Stuttgart\"],\"legendgroup\":\" Germany\",\"marker\":{\"color\":\"#FF6692\",\"size\":[6.3950000000000005,6.5265,7.884500000000001,6.282000000000001,5.957,5.944500000000001,7.754000000000001,7.764499999999998,8.177,4.23,6.314000000000001],\"sizemode\":\"area\",\"sizeref\":0.044444444444444446,\"symbol\":\"circle\"},\"mode\":\"markers\",\"name\":\" Germany\",\"orientation\":\"v\",\"showlegend\":true,\"x\":[5.524,5.606999999999999,6.0280000000000005,5.1339999999999995,5.143,4.904,6.000000000000001,5.294,5.9110000000000005,4.648,5.673000000000002],\"xaxis\":\"x\",\"y\":[5.373500000000001,5.373500000000001,5.373500000000001,5.373500000000001,5.373500000000001,5.373500000000001,5.373500000000001,5.373500000000001,5.373500000000001,5.373500000000001,5.373500000000001],\"yaxis\":\"y\",\"type\":\"scatter\"},{\"hovertemplate\":\"\\u003cb\\u003e%{hovertext}\\u003c\\u002fb\\u003e\\u003cbr\\u003e\\u003cbr\\u003eua_country= Switzerland\\u003cbr\\u003eCost of Living=%{x}\\u003cbr\\u003eEconomy Score=%{y}\\u003cbr\\u003eHousing Score=%{marker.size}\\u003cextra\\u003e\\u003c\\u002fextra\\u003e\",\"hovertext\":[\"Bern\",\"Geneva\",\"Lausanne\",\"Zurich\"],\"legendgroup\":\" Switzerland\",\"marker\":{\"color\":\"#B6E880\",\"size\":[4.922500000000001,1.0775,4.0755,1.473],\"sizemode\":\"area\",\"sizeref\":0.044444444444444446,\"symbol\":\"circle\"},\"mode\":\"markers\",\"name\":\" Switzerland\",\"orientation\":\"v\",\"showlegend\":true,\"x\":[1.0,1.0,1.0,1.0],\"xaxis\":\"x\",\"y\":[6.552,6.552,6.552,6.552],\"yaxis\":\"y\",\"type\":\"scatter\"},{\"hovertemplate\":\"\\u003cb\\u003e%{hovertext}\\u003c\\u002fb\\u003e\\u003cbr\\u003e\\u003cbr\\u003eua_country= Alabama\\u003cbr\\u003eCost of Living=%{x}\\u003cbr\\u003eEconomy Score=%{y}\\u003cbr\\u003eHousing Score=%{marker.size}\\u003cextra\\u003e\\u003c\\u002fextra\\u003e\",\"hovertext\":[\"Birmingham\"],\"legendgroup\":\" Alabama\",\"marker\":{\"color\":\"#FF97FF\",\"size\":[6.5555],\"sizemode\":\"area\",\"sizeref\":0.044444444444444446,\"symbol\":\"circle\"},\"mode\":\"markers\",\"name\":\" Alabama\",\"orientation\":\"v\",\"showlegend\":true,\"x\":[5.133],\"xaxis\":\"x\",\"y\":[6.5145],\"yaxis\":\"y\",\"type\":\"scatter\"},{\"hovertemplate\":\"\\u003cb\\u003e%{hovertext}\\u003c\\u002fb\\u003e\\u003cbr\\u003e\\u003cbr\\u003eua_country= Colombia\\u003cbr\\u003eCost of Living=%{x}\\u003cbr\\u003eEconomy Score=%{y}\\u003cbr\\u003eHousing Score=%{marker.size}\\u003cextra\\u003e\\u003c\\u002fextra\\u003e\",\"hovertext\":[\"Bogota\",\"Medellin\"],\"legendgroup\":\" Colombia\",\"marker\":{\"color\":\"#FECB52\",\"size\":[9.0275,9.2315],\"sizemode\":\"area\",\"sizeref\":0.044444444444444446,\"symbol\":\"circle\"},\"mode\":\"markers\",\"name\":\" Colombia\",\"orientation\":\"v\",\"showlegend\":true,\"x\":[9.079999999999998,9.315],\"xaxis\":\"x\",\"y\":[4.5945,4.5945],\"yaxis\":\"y\",\"type\":\"scatter\"},{\"hovertemplate\":\"\\u003cb\\u003e%{hovertext}\\u003c\\u002fb\\u003e\\u003cbr\\u003e\\u003cbr\\u003eua_country= Idaho\\u003cbr\\u003eCost of Living=%{x}\\u003cbr\\u003eEconomy Score=%{y}\\u003cbr\\u003eHousing Score=%{marker.size}\\u003cextra\\u003e\\u003c\\u002fextra\\u003e\",\"hovertext\":[\"Boise\"],\"legendgroup\":\" Idaho\",\"marker\":{\"color\":\"#636efa\",\"size\":[6.9635],\"sizemode\":\"area\",\"sizeref\":0.044444444444444446,\"symbol\":\"circle\"},\"mode\":\"markers\",\"name\":\" Idaho\",\"orientation\":\"v\",\"showlegend\":true,\"x\":[6.578],\"xaxis\":\"x\",\"y\":[6.5145],\"yaxis\":\"y\",\"type\":\"scatter\"},{\"hovertemplate\":\"\\u003cb\\u003e%{hovertext}\\u003c\\u002fb\\u003e\\u003cbr\\u003e\\u003cbr\\u003eua_country= Italy\\u003cbr\\u003eCost of Living=%{x}\\u003cbr\\u003eEconomy Score=%{y}\\u003cbr\\u003eHousing Score=%{marker.size}\\u003cextra\\u003e\\u003c\\u002fextra\\u003e\",\"hovertext\":[\"Bologna\",\"Florence\",\"Milan\",\"Naples\",\"Rome\",\"Turin\"],\"legendgroup\":\" Italy\",\"marker\":{\"color\":\"#EF553B\",\"size\":[7.472,6.775,5.194500000000001,8.215,5.6025,8.069500000000001],\"sizemode\":\"area\",\"sizeref\":0.044444444444444446,\"symbol\":\"circle\"},\"mode\":\"markers\",\"name\":\" Italy\",\"orientation\":\"v\",\"showlegend\":true,\"x\":[5.189,4.649,4.801000000000001,5.81,5.323,5.612],\"xaxis\":\"x\",\"y\":[3.3625,3.3625,3.3625,3.3625,3.3625,3.3625],\"yaxis\":\"y\",\"type\":\"scatter\"},{\"hovertemplate\":\"\\u003cb\\u003e%{hovertext}\\u003c\\u002fb\\u003e\\u003cbr\\u003e\\u003cbr\\u003eua_country= France\\u003cbr\\u003eCost of Living=%{x}\\u003cbr\\u003eEconomy Score=%{y}\\u003cbr\\u003eHousing Score=%{marker.size}\\u003cextra\\u003e\\u003c\\u002fextra\\u003e\",\"hovertext\":[\"Bordeaux\",\"Grenoble\",\"Lille\",\"Lyon\",\"Marseille\",\"Nantes\",\"Nice\",\"Paris\",\"Toulouse\"],\"legendgroup\":\" France\",\"marker\":{\"color\":\"#00cc96\",\"size\":[7.1915,7.505000000000001,7.532000000000001,6.697000000000001,7.5885,7.7225,6.4985,3.5835,7.544],\"sizemode\":\"area\",\"sizeref\":0.044444444444444446,\"symbol\":\"circle\"},\"mode\":\"markers\",\"name\":\" France\",\"orientation\":\"v\",\"showlegend\":true,\"x\":[4.583,4.317,5.399000000000001,4.349,6.026000000000002,5.021,4.475,3.664,4.552],\"xaxis\":\"x\",\"y\":[4.2045,4.2045,4.2045,4.2045,4.2045,4.2045,4.2045,4.2045,4.2045],\"yaxis\":\"y\",\"type\":\"scatter\"},{\"hovertemplate\":\"\\u003cb\\u003e%{hovertext}\\u003c\\u002fb\\u003e\\u003cbr\\u003e\\u003cbr\\u003eua_country= Massachusetts\\u003cbr\\u003eCost of Living=%{x}\\u003cbr\\u003eEconomy Score=%{y}\\u003cbr\\u003eHousing Score=%{marker.size}\\u003cextra\\u003e\\u003c\\u002fextra\\u003e\",\"hovertext\":[\"Boston\"],\"legendgroup\":\" Massachusetts\",\"marker\":{\"color\":\"#ab63fa\",\"size\":[1.0],\"sizemode\":\"area\",\"sizeref\":0.044444444444444446,\"symbol\":\"circle\"},\"mode\":\"markers\",\"name\":\" Massachusetts\",\"orientation\":\"v\",\"showlegend\":true,\"x\":[4.259],\"xaxis\":\"x\",\"y\":[6.5145],\"yaxis\":\"y\",\"type\":\"scatter\"},{\"hovertemplate\":\"\\u003cb\\u003e%{hovertext}\\u003c\\u002fb\\u003e\\u003cbr\\u003e\\u003cbr\\u003eua_country= Colorado\\u003cbr\\u003eCost of Living=%{x}\\u003cbr\\u003eEconomy Score=%{y}\\u003cbr\\u003eHousing Score=%{marker.size}\\u003cextra\\u003e\\u003c\\u002fextra\\u003e\",\"hovertext\":[\"Boulder\",\"Colorado Springs\",\"Denver\",\"Fort Collins\"],\"legendgroup\":\" Colorado\",\"marker\":{\"color\":\"#FFA15A\",\"size\":[3.704,6.4995,3.8375,2.744500000000001],\"sizemode\":\"area\",\"sizeref\":0.044444444444444446,\"symbol\":\"circle\"},\"mode\":\"markers\",\"name\":\" Colorado\",\"orientation\":\"v\",\"showlegend\":true,\"x\":[4.531,5.375,5.102,0.0],\"xaxis\":\"x\",\"y\":[6.5145,6.5145,6.5145,6.5145],\"yaxis\":\"y\",\"type\":\"scatter\"},{\"hovertemplate\":\"\\u003cb\\u003e%{hovertext}\\u003c\\u002fb\\u003e\\u003cbr\\u003e\\u003cbr\\u003eua_country= Montana\\u003cbr\\u003eCost of Living=%{x}\\u003cbr\\u003eEconomy Score=%{y}\\u003cbr\\u003eHousing Score=%{marker.size}\\u003cextra\\u003e\\u003c\\u002fextra\\u003e\",\"hovertext\":[\"Bozeman\"],\"legendgroup\":\" Montana\",\"marker\":{\"color\":\"#19d3f3\",\"size\":[2.949],\"sizemode\":\"area\",\"sizeref\":0.044444444444444446,\"symbol\":\"circle\"},\"mode\":\"markers\",\"name\":\" Montana\",\"orientation\":\"v\",\"showlegend\":true,\"x\":[0.0],\"xaxis\":\"x\",\"y\":[6.5145],\"yaxis\":\"y\",\"type\":\"scatter\"},{\"hovertemplate\":\"\\u003cb\\u003e%{hovertext}\\u003c\\u002fb\\u003e\\u003cbr\\u003e\\u003cbr\\u003eua_country= Slovakia\\u003cbr\\u003eCost of Living=%{x}\\u003cbr\\u003eEconomy Score=%{y}\\u003cbr\\u003eHousing Score=%{marker.size}\\u003cextra\\u003e\\u003c\\u002fextra\\u003e\",\"hovertext\":[\"Bratislava\"],\"legendgroup\":\" Slovakia\",\"marker\":{\"color\":\"#FF6692\",\"size\":[7.874499999999999],\"sizemode\":\"area\",\"sizeref\":0.044444444444444446,\"symbol\":\"circle\"},\"mode\":\"markers\",\"name\":\" Slovakia\",\"orientation\":\"v\",\"showlegend\":true,\"x\":[7.618],\"xaxis\":\"x\",\"y\":[4.4705],\"yaxis\":\"y\",\"type\":\"scatter\"},{\"hovertemplate\":\"\\u003cb\\u003e%{hovertext}\\u003c\\u002fb\\u003e\\u003cbr\\u003e\\u003cbr\\u003eua_country= Czechia\\u003cbr\\u003eCost of Living=%{x}\\u003cbr\\u003eEconomy Score=%{y}\\u003cbr\\u003eHousing Score=%{marker.size}\\u003cextra\\u003e\\u003c\\u002fextra\\u003e\",\"hovertext\":[\"Brno\",\"Prague\"],\"legendgroup\":\" Czechia\",\"marker\":{\"color\":\"#B6E880\",\"size\":[8.329000000000002,7.4305],\"sizemode\":\"area\",\"sizeref\":0.044444444444444446,\"symbol\":\"circle\"},\"mode\":\"markers\",\"name\":\" Czechia\",\"orientation\":\"v\",\"showlegend\":true,\"x\":[7.925999999999998,7.569],\"xaxis\":\"x\",\"y\":[4.378000000000001,4.378000000000001],\"yaxis\":\"y\",\"type\":\"scatter\"},{\"hovertemplate\":\"\\u003cb\\u003e%{hovertext}\\u003c\\u002fb\\u003e\\u003cbr\\u003e\\u003cbr\\u003eua_country= Belgium\\u003cbr\\u003eCost of Living=%{x}\\u003cbr\\u003eEconomy Score=%{y}\\u003cbr\\u003eHousing Score=%{marker.size}\\u003cextra\\u003e\\u003c\\u002fextra\\u003e\",\"hovertext\":[\"Brussels\"],\"legendgroup\":\" Belgium\",\"marker\":{\"color\":\"#FF97FF\",\"size\":[6.3549999999999995],\"sizemode\":\"area\",\"sizeref\":0.044444444444444446,\"symbol\":\"circle\"},\"mode\":\"markers\",\"name\":\" Belgium\",\"orientation\":\"v\",\"showlegend\":true,\"x\":[4.477],\"xaxis\":\"x\",\"y\":[4.8115000000000006],\"yaxis\":\"y\",\"type\":\"scatter\"},{\"hovertemplate\":\"\\u003cb\\u003e%{hovertext}\\u003c\\u002fb\\u003e\\u003cbr\\u003e\\u003cbr\\u003eua_country= Romania\\u003cbr\\u003eCost of Living=%{x}\\u003cbr\\u003eEconomy Score=%{y}\\u003cbr\\u003eHousing Score=%{marker.size}\\u003cextra\\u003e\\u003c\\u002fextra\\u003e\",\"hovertext\":[\"Bucharest\",\"Cluj-Napoca\"],\"legendgroup\":\" Romania\",\"marker\":{\"color\":\"#FECB52\",\"size\":[9.186500000000002,9.165],\"sizemode\":\"area\",\"sizeref\":0.044444444444444446,\"symbol\":\"circle\"},\"mode\":\"markers\",\"name\":\" Romania\",\"orientation\":\"v\",\"showlegend\":true,\"x\":[8.516,8.794],\"xaxis\":\"x\",\"y\":[4.103,4.103],\"yaxis\":\"y\",\"type\":\"scatter\"},{\"hovertemplate\":\"\\u003cb\\u003e%{hovertext}\\u003c\\u002fb\\u003e\\u003cbr\\u003e\\u003cbr\\u003eua_country= Hungary\\u003cbr\\u003eCost of Living=%{x}\\u003cbr\\u003eEconomy Score=%{y}\\u003cbr\\u003eHousing Score=%{marker.size}\\u003cextra\\u003e\\u003c\\u002fextra\\u003e\",\"hovertext\":[\"Budapest\"],\"legendgroup\":\" Hungary\",\"marker\":{\"color\":\"#636efa\",\"size\":[8.570500000000001],\"sizemode\":\"area\",\"sizeref\":0.044444444444444446,\"symbol\":\"circle\"},\"mode\":\"markers\",\"name\":\" Hungary\",\"orientation\":\"v\",\"showlegend\":true,\"x\":[7.948],\"xaxis\":\"x\",\"y\":[4.946],\"yaxis\":\"y\",\"type\":\"scatter\"},{\"hovertemplate\":\"\\u003cb\\u003e%{hovertext}\\u003c\\u002fb\\u003e\\u003cbr\\u003e\\u003cbr\\u003eua_country= Argentina\\u003cbr\\u003eCost of Living=%{x}\\u003cbr\\u003eEconomy Score=%{y}\\u003cbr\\u003eHousing Score=%{marker.size}\\u003cextra\\u003e\\u003c\\u002fextra\\u003e\",\"hovertext\":[\"Buenos Aires\"],\"legendgroup\":\" Argentina\",\"marker\":{\"color\":\"#EF553B\",\"size\":[8.812000000000001],\"sizemode\":\"area\",\"sizeref\":0.044444444444444446,\"symbol\":\"circle\"},\"mode\":\"markers\",\"name\":\" Argentina\",\"orientation\":\"v\",\"showlegend\":true,\"x\":[7.763999999999999],\"xaxis\":\"x\",\"y\":[2.884],\"yaxis\":\"y\",\"type\":\"scatter\"},{\"hovertemplate\":\"\\u003cb\\u003e%{hovertext}\\u003c\\u002fb\\u003e\\u003cbr\\u003e\\u003cbr\\u003eua_country= New York\\u003cbr\\u003eCost of Living=%{x}\\u003cbr\\u003eEconomy Score=%{y}\\u003cbr\\u003eHousing Score=%{marker.size}\\u003cextra\\u003e\\u003c\\u002fextra\\u003e\",\"hovertext\":[\"Buffalo\",\"New York\",\"Rochester\"],\"legendgroup\":\" New York\",\"marker\":{\"color\":\"#00cc96\",\"size\":[7.0765,1.0,6.727],\"sizemode\":\"area\",\"sizeref\":0.044444444444444446,\"symbol\":\"circle\"},\"mode\":\"markers\",\"name\":\" New York\",\"orientation\":\"v\",\"showlegend\":true,\"x\":[5.228000000000001,2.342,5.4879999999999995],\"xaxis\":\"x\",\"y\":[6.5145,6.5145,6.5145],\"yaxis\":\"y\",\"type\":\"scatter\"},{\"hovertemplate\":\"\\u003cb\\u003e%{hovertext}\\u003c\\u002fb\\u003e\\u003cbr\\u003e\\u003cbr\\u003eua_country= Egypt\\u003cbr\\u003eCost of Living=%{x}\\u003cbr\\u003eEconomy Score=%{y}\\u003cbr\\u003eHousing Score=%{marker.size}\\u003cextra\\u003e\\u003c\\u002fextra\\u003e\",\"hovertext\":[\"Cairo\"],\"legendgroup\":\" Egypt\",\"marker\":{\"color\":\"#ab63fa\",\"size\":[10.0],\"sizemode\":\"area\",\"sizeref\":0.044444444444444446,\"symbol\":\"circle\"},\"mode\":\"markers\",\"name\":\" Egypt\",\"orientation\":\"v\",\"showlegend\":true,\"x\":[10.0],\"xaxis\":\"x\",\"y\":[2.978],\"yaxis\":\"y\",\"type\":\"scatter\"},{\"hovertemplate\":\"\\u003cb\\u003e%{hovertext}\\u003c\\u002fb\\u003e\\u003cbr\\u003e\\u003cbr\\u003eua_country= Canada\\u003cbr\\u003eCost of Living=%{x}\\u003cbr\\u003eEconomy Score=%{y}\\u003cbr\\u003eHousing Score=%{marker.size}\\u003cextra\\u003e\\u003c\\u002fextra\\u003e\",\"hovertext\":[\"Calgary\",\"Edmonton\",\"Halifax\",\"Montreal\",\"Ottawa\",\"Quebec\",\"Saskatoon\",\"Toronto\",\"Vancouver\",\"Victoria\",\"Winnipeg\"],\"legendgroup\":\" Canada\",\"marker\":{\"color\":\"#FFA15A\",\"size\":[6.495000000000001,6.729500000000001,6.895000000000001,7.392000000000001,6.700499999999999,8.5175,7.159500000000001,4.66,4.080500000000001,5.696,7.552500000000001],\"sizemode\":\"area\",\"sizeref\":0.044444444444444446,\"symbol\":\"circle\"},\"mode\":\"markers\",\"name\":\" Canada\",\"orientation\":\"v\",\"showlegend\":true,\"x\":[5.417999999999999,5.522,4.9430000000000005,5.948,6.027,6.037,5.042000000000001,5.271,5.259,5.703,5.882],\"xaxis\":\"x\",\"y\":[5.8405000000000005,5.8405000000000005,5.8405000000000005,5.8405000000000005,5.8405000000000005,5.8405000000000005,5.8405000000000005,5.8405000000000005,5.8405000000000005,5.8405000000000005,5.8405000000000005],\"yaxis\":\"y\",\"type\":\"scatter\"},{\"hovertemplate\":\"\\u003cb\\u003e%{hovertext}\\u003c\\u002fb\\u003e\\u003cbr\\u003e\\u003cbr\\u003eua_country= South Africa\\u003cbr\\u003eCost of Living=%{x}\\u003cbr\\u003eEconomy Score=%{y}\\u003cbr\\u003eHousing Score=%{marker.size}\\u003cextra\\u003e\\u003c\\u002fextra\\u003e\",\"hovertext\":[\"Cape Town\",\"Johannesburg\"],\"legendgroup\":\" South Africa\",\"marker\":{\"color\":\"#19d3f3\",\"size\":[6.7635000000000005,8.012],\"sizemode\":\"area\",\"sizeref\":0.044444444444444446,\"symbol\":\"circle\"},\"mode\":\"markers\",\"name\":\" South Africa\",\"orientation\":\"v\",\"showlegend\":true,\"x\":[7.955,7.575000000000001],\"xaxis\":\"x\",\"y\":[2.7680000000000007,2.7680000000000007],\"yaxis\":\"y\",\"type\":\"scatter\"},{\"hovertemplate\":\"\\u003cb\\u003e%{hovertext}\\u003c\\u002fb\\u003e\\u003cbr\\u003e\\u003cbr\\u003eua_country= Venezuela\\u003cbr\\u003eCost of Living=%{x}\\u003cbr\\u003eEconomy Score=%{y}\\u003cbr\\u003eHousing Score=%{marker.size}\\u003cextra\\u003e\\u003c\\u002fextra\\u003e\",\"hovertext\":[\"Caracas\"],\"legendgroup\":\" Venezuela\",\"marker\":{\"color\":\"#FF6692\",\"size\":[4.9025],\"sizemode\":\"area\",\"sizeref\":0.044444444444444446,\"symbol\":\"circle\"},\"mode\":\"markers\",\"name\":\" Venezuela\",\"orientation\":\"v\",\"showlegend\":true,\"x\":[9.82],\"xaxis\":\"x\",\"y\":[1.978],\"yaxis\":\"y\",\"type\":\"scatter\"},{\"hovertemplate\":\"\\u003cb\\u003e%{hovertext}\\u003c\\u002fb\\u003e\\u003cbr\\u003e\\u003cbr\\u003eua_country= Morocco\\u003cbr\\u003eCost of Living=%{x}\\u003cbr\\u003eEconomy Score=%{y}\\u003cbr\\u003eHousing Score=%{marker.size}\\u003cextra\\u003e\\u003c\\u002fextra\\u003e\",\"hovertext\":[\"Casablanca\"],\"legendgroup\":\" Morocco\",\"marker\":{\"color\":\"#B6E880\",\"size\":[8.822],\"sizemode\":\"area\",\"sizeref\":0.044444444444444446,\"symbol\":\"circle\"},\"mode\":\"markers\",\"name\":\" Morocco\",\"orientation\":\"v\",\"showlegend\":true,\"x\":[9.088],\"xaxis\":\"x\",\"y\":[3.1735],\"yaxis\":\"y\",\"type\":\"scatter\"},{\"hovertemplate\":\"\\u003cb\\u003e%{hovertext}\\u003c\\u002fb\\u003e\\u003cbr\\u003e\\u003cbr\\u003eua_country= South Carolina\\u003cbr\\u003eCost of Living=%{x}\\u003cbr\\u003eEconomy Score=%{y}\\u003cbr\\u003eHousing Score=%{marker.size}\\u003cextra\\u003e\\u003c\\u002fextra\\u003e\",\"hovertext\":[\"Charleston\"],\"legendgroup\":\" South Carolina\",\"marker\":{\"color\":\"#FF97FF\",\"size\":[4.6370000000000005],\"sizemode\":\"area\",\"sizeref\":0.044444444444444446,\"symbol\":\"circle\"},\"mode\":\"markers\",\"name\":\" South Carolina\",\"orientation\":\"v\",\"showlegend\":true,\"x\":[3.567],\"xaxis\":\"x\",\"y\":[6.5145],\"yaxis\":\"y\",\"type\":\"scatter\"},{\"hovertemplate\":\"\\u003cb\\u003e%{hovertext}\\u003c\\u002fb\\u003e\\u003cbr\\u003e\\u003cbr\\u003eua_country= Tennessee\\u003cbr\\u003eCost of Living=%{x}\\u003cbr\\u003eEconomy Score=%{y}\\u003cbr\\u003eHousing Score=%{marker.size}\\u003cextra\\u003e\\u003c\\u002fextra\\u003e\",\"hovertext\":[\"Chattanooga\",\"Knoxville\",\"Memphis\",\"Nashville\"],\"legendgroup\":\" Tennessee\",\"marker\":{\"color\":\"#FECB52\",\"size\":[6.782,6.9754999999999985,7.1145000000000005,4.4545],\"sizemode\":\"area\",\"sizeref\":0.044444444444444446,\"symbol\":\"circle\"},\"mode\":\"markers\",\"name\":\" Tennessee\",\"orientation\":\"v\",\"showlegend\":true,\"x\":[6.121,6.447000000000001,5.829,5.742000000000001],\"xaxis\":\"x\",\"y\":[6.5145,6.5145,6.5145,6.5145],\"yaxis\":\"y\",\"type\":\"scatter\"},{\"hovertemplate\":\"\\u003cb\\u003e%{hovertext}\\u003c\\u002fb\\u003e\\u003cbr\\u003e\\u003cbr\\u003eua_country= Illinois\\u003cbr\\u003eCost of Living=%{x}\\u003cbr\\u003eEconomy Score=%{y}\\u003cbr\\u003eHousing Score=%{marker.size}\\u003cextra\\u003e\\u003c\\u002fextra\\u003e\",\"hovertext\":[\"Chicago\"],\"legendgroup\":\" Illinois\",\"marker\":{\"color\":\"#636efa\",\"size\":[3.702],\"sizemode\":\"area\",\"sizeref\":0.044444444444444446,\"symbol\":\"circle\"},\"mode\":\"markers\",\"name\":\" Illinois\",\"orientation\":\"v\",\"showlegend\":true,\"x\":[4.766000000000001],\"xaxis\":\"x\",\"y\":[6.5145],\"yaxis\":\"y\",\"type\":\"scatter\"},{\"hovertemplate\":\"\\u003cb\\u003e%{hovertext}\\u003c\\u002fb\\u003e\\u003cbr\\u003e\\u003cbr\\u003eua_country= Moldova\\u003cbr\\u003eCost of Living=%{x}\\u003cbr\\u003eEconomy Score=%{y}\\u003cbr\\u003eHousing Score=%{marker.size}\\u003cextra\\u003e\\u003c\\u002fextra\\u003e\",\"hovertext\":[\"Chisinau\"],\"legendgroup\":\" Moldova\",\"marker\":{\"color\":\"#EF553B\",\"size\":[9.6765],\"sizemode\":\"area\",\"sizeref\":0.044444444444444446,\"symbol\":\"circle\"},\"mode\":\"markers\",\"name\":\" Moldova\",\"orientation\":\"v\",\"showlegend\":true,\"x\":[9.343],\"xaxis\":\"x\",\"y\":[3.9765000000000006],\"yaxis\":\"y\",\"type\":\"scatter\"},{\"hovertemplate\":\"\\u003cb\\u003e%{hovertext}\\u003c\\u002fb\\u003e\\u003cbr\\u003e\\u003cbr\\u003eua_country= Ohio\\u003cbr\\u003eCost of Living=%{x}\\u003cbr\\u003eEconomy Score=%{y}\\u003cbr\\u003eHousing Score=%{marker.size}\\u003cextra\\u003e\\u003c\\u002fextra\\u003e\",\"hovertext\":[\"Cincinnati\",\"Cleveland\",\"Columbus\"],\"legendgroup\":\" Ohio\",\"marker\":{\"color\":\"#00cc96\",\"size\":[6.6775,7.155999999999999,6.2895],\"sizemode\":\"area\",\"sizeref\":0.044444444444444446,\"symbol\":\"circle\"},\"mode\":\"markers\",\"name\":\" Ohio\",\"orientation\":\"v\",\"showlegend\":true,\"x\":[6.1080000000000005,5.595,5.746000000000001],\"xaxis\":\"x\",\"y\":[6.5145,6.5145,6.5145],\"yaxis\":\"y\",\"type\":\"scatter\"},{\"hovertemplate\":\"\\u003cb\\u003e%{hovertext}\\u003c\\u002fb\\u003e\\u003cbr\\u003e\\u003cbr\\u003eua_country= Ireland\\u003cbr\\u003eCost of Living=%{x}\\u003cbr\\u003eEconomy Score=%{y}\\u003cbr\\u003eHousing Score=%{marker.size}\\u003cextra\\u003e\\u003c\\u002fextra\\u003e\",\"hovertext\":[\"Cork\",\"Dublin\",\"Galway\"],\"legendgroup\":\" Ireland\",\"marker\":{\"color\":\"#ab63fa\",\"size\":[5.514500000000001,2.5124999999999997,6.275500000000001],\"sizemode\":\"area\",\"sizeref\":0.044444444444444446,\"symbol\":\"circle\"},\"mode\":\"markers\",\"name\":\" Ireland\",\"orientation\":\"v\",\"showlegend\":true,\"x\":[4.902,4.005000000000001,4.9270000000000005],\"xaxis\":\"x\",\"y\":[7.514500000000001,7.514500000000001,7.514500000000001],\"yaxis\":\"y\",\"type\":\"scatter\"},{\"hovertemplate\":\"\\u003cb\\u003e%{hovertext}\\u003c\\u002fb\\u003e\\u003cbr\\u003e\\u003cbr\\u003eua_country= Brazil\\u003cbr\\u003eCost of Living=%{x}\\u003cbr\\u003eEconomy Score=%{y}\\u003cbr\\u003eHousing Score=%{marker.size}\\u003cextra\\u003e\\u003c\\u002fextra\\u003e\",\"hovertext\":[\"Curitiba\",\"Florianopolis\",\"Porto Alegre\",\"Rio De Janeiro\",\"Sao Paulo\"],\"legendgroup\":\" Brazil\",\"marker\":{\"color\":\"#FFA15A\",\"size\":[9.4295,9.0595,9.221000000000002,8.32,8.316],\"sizemode\":\"area\",\"sizeref\":0.044444444444444446,\"symbol\":\"circle\"},\"mode\":\"markers\",\"name\":\" Brazil\",\"orientation\":\"v\",\"showlegend\":true,\"x\":[8.433,8.331000000000001,8.120000000000001,7.751,7.823000000000001],\"xaxis\":\"x\",\"y\":[2.187,2.187,2.187,2.187,2.187],\"yaxis\":\"y\",\"type\":\"scatter\"},{\"hovertemplate\":\"\\u003cb\\u003e%{hovertext}\\u003c\\u002fb\\u003e\\u003cbr\\u003e\\u003cbr\\u003eua_country= Tanzania\\u003cbr\\u003eCost of Living=%{x}\\u003cbr\\u003eEconomy Score=%{y}\\u003cbr\\u003eHousing Score=%{marker.size}\\u003cextra\\u003e\\u003c\\u002fextra\\u003e\",\"hovertext\":[\"Dar es Salaam\"],\"legendgroup\":\" Tanzania\",\"marker\":{\"color\":\"#19d3f3\",\"size\":[7.652000000000001],\"sizemode\":\"area\",\"sizeref\":0.044444444444444446,\"symbol\":\"circle\"},\"mode\":\"markers\",\"name\":\" Tanzania\",\"orientation\":\"v\",\"showlegend\":true,\"x\":[8.026],\"xaxis\":\"x\",\"y\":[5.499999999999999],\"yaxis\":\"y\",\"type\":\"scatter\"},{\"hovertemplate\":\"\\u003cb\\u003e%{hovertext}\\u003c\\u002fb\\u003e\\u003cbr\\u003e\\u003cbr\\u003eua_country= Iowa\\u003cbr\\u003eCost of Living=%{x}\\u003cbr\\u003eEconomy Score=%{y}\\u003cbr\\u003eHousing Score=%{marker.size}\\u003cextra\\u003e\\u003c\\u002fextra\\u003e\",\"hovertext\":[\"Des Moines\"],\"legendgroup\":\" Iowa\",\"marker\":{\"color\":\"#FF6692\",\"size\":[6.850999999999999],\"sizemode\":\"area\",\"sizeref\":0.044444444444444446,\"symbol\":\"circle\"},\"mode\":\"markers\",\"name\":\" Iowa\",\"orientation\":\"v\",\"showlegend\":true,\"x\":[6.327],\"xaxis\":\"x\",\"y\":[6.5145],\"yaxis\":\"y\",\"type\":\"scatter\"},{\"hovertemplate\":\"\\u003cb\\u003e%{hovertext}\\u003c\\u002fb\\u003e\\u003cbr\\u003e\\u003cbr\\u003eua_country= Michigan\\u003cbr\\u003eCost of Living=%{x}\\u003cbr\\u003eEconomy Score=%{y}\\u003cbr\\u003eHousing Score=%{marker.size}\\u003cextra\\u003e\\u003c\\u002fextra\\u003e\",\"hovertext\":[\"Detroit\"],\"legendgroup\":\" Michigan\",\"marker\":{\"color\":\"#B6E880\",\"size\":[6.223000000000001],\"sizemode\":\"area\",\"sizeref\":0.044444444444444446,\"symbol\":\"circle\"},\"mode\":\"markers\",\"name\":\" Michigan\",\"orientation\":\"v\",\"showlegend\":true,\"x\":[6.032],\"xaxis\":\"x\",\"y\":[6.5145],\"yaxis\":\"y\",\"type\":\"scatter\"},{\"hovertemplate\":\"\\u003cb\\u003e%{hovertext}\\u003c\\u002fb\\u003e\\u003cbr\\u003e\\u003cbr\\u003eua_country= Qatar\\u003cbr\\u003eCost of Living=%{x}\\u003cbr\\u003eEconomy Score=%{y}\\u003cbr\\u003eHousing Score=%{marker.size}\\u003cextra\\u003e\\u003c\\u002fextra\\u003e\",\"hovertext\":[\"Doha\"],\"legendgroup\":\" Qatar\",\"marker\":{\"color\":\"#FF97FF\",\"size\":[2.1315],\"sizemode\":\"area\",\"sizeref\":0.044444444444444446,\"symbol\":\"circle\"},\"mode\":\"markers\",\"name\":\" Qatar\",\"orientation\":\"v\",\"showlegend\":true,\"x\":[6.183],\"xaxis\":\"x\",\"y\":[9.39],\"yaxis\":\"y\",\"type\":\"scatter\"},{\"hovertemplate\":\"\\u003cb\\u003e%{hovertext}\\u003c\\u002fb\\u003e\\u003cbr\\u003e\\u003cbr\\u003eua_country= United Arab Emirates\\u003cbr\\u003eCost of Living=%{x}\\u003cbr\\u003eEconomy Score=%{y}\\u003cbr\\u003eHousing Score=%{marker.size}\\u003cextra\\u003e\\u003c\\u002fextra\\u003e\",\"hovertext\":[\"Dubai\"],\"legendgroup\":\" United Arab Emirates\",\"marker\":{\"color\":\"#FECB52\",\"size\":[2.591],\"sizemode\":\"area\",\"sizeref\":0.044444444444444446,\"symbol\":\"circle\"},\"mode\":\"markers\",\"name\":\" United Arab Emirates\",\"orientation\":\"v\",\"showlegend\":true,\"x\":[5.49],\"xaxis\":\"x\",\"y\":[7.885999999999999],\"yaxis\":\"y\",\"type\":\"scatter\"},{\"hovertemplate\":\"\\u003cb\\u003e%{hovertext}\\u003c\\u002fb\\u003e\\u003cbr\\u003e\\u003cbr\\u003eua_country= Oregon\\u003cbr\\u003eCost of Living=%{x}\\u003cbr\\u003eEconomy Score=%{y}\\u003cbr\\u003eHousing Score=%{marker.size}\\u003cextra\\u003e\\u003c\\u002fextra\\u003e\",\"hovertext\":[\"Eugene\",\"Portland\"],\"legendgroup\":\" Oregon\",\"marker\":{\"color\":\"#636efa\",\"size\":[6.713,4.138],\"sizemode\":\"area\",\"sizeref\":0.044444444444444446,\"symbol\":\"circle\"},\"mode\":\"markers\",\"name\":\" Oregon\",\"orientation\":\"v\",\"showlegend\":true,\"x\":[5.021,4.924],\"xaxis\":\"x\",\"y\":[6.5145,6.5145],\"yaxis\":\"y\",\"type\":\"scatter\"},{\"hovertemplate\":\"\\u003cb\\u003e%{hovertext}\\u003c\\u002fb\\u003e\\u003cbr\\u003e\\u003cbr\\u003eua_country= Japan\\u003cbr\\u003eCost of Living=%{x}\\u003cbr\\u003eEconomy Score=%{y}\\u003cbr\\u003eHousing Score=%{marker.size}\\u003cextra\\u003e\\u003c\\u002fextra\\u003e\",\"hovertext\":[\"Fukuoka\",\"Kyoto\",\"Osaka\",\"Tokyo\"],\"legendgroup\":\" Japan\",\"marker\":{\"color\":\"#EF553B\",\"size\":[4.01,3.765,7.8315,5.657000000000001],\"sizemode\":\"area\",\"sizeref\":0.044444444444444446,\"symbol\":\"circle\"},\"mode\":\"markers\",\"name\":\" Japan\",\"orientation\":\"v\",\"showlegend\":true,\"x\":[0.0,0.0,4.819,3.431],\"xaxis\":\"x\",\"y\":[3.7235,3.7235,3.7235,3.7235],\"yaxis\":\"y\",\"type\":\"scatter\"},{\"hovertemplate\":\"\\u003cb\\u003e%{hovertext}\\u003c\\u002fb\\u003e\\u003cbr\\u003e\\u003cbr\\u003eua_country= Poland\\u003cbr\\u003eCost of Living=%{x}\\u003cbr\\u003eEconomy Score=%{y}\\u003cbr\\u003eHousing Score=%{marker.size}\\u003cextra\\u003e\\u003c\\u002fextra\\u003e\",\"hovertext\":[\"Gdansk\",\"Krakow\",\"Warsaw\",\"Wroclaw\"],\"legendgroup\":\" Poland\",\"marker\":{\"color\":\"#00cc96\",\"size\":[8.508,8.4245,7.8695,8.452],\"sizemode\":\"area\",\"sizeref\":0.044444444444444446,\"symbol\":\"circle\"},\"mode\":\"markers\",\"name\":\" Poland\",\"orientation\":\"v\",\"showlegend\":true,\"x\":[8.126999999999999,8.509,8.192,8.434000000000001],\"xaxis\":\"x\",\"y\":[4.7615,4.7615,4.7615,4.7615],\"yaxis\":\"y\",\"type\":\"scatter\"},{\"hovertemplate\":\"\\u003cb\\u003e%{hovertext}\\u003c\\u002fb\\u003e\\u003cbr\\u003e\\u003cbr\\u003eua_country= Gibraltar\\u003cbr\\u003eCost of Living=%{x}\\u003cbr\\u003eEconomy Score=%{y}\\u003cbr\\u003eHousing Score=%{marker.size}\\u003cextra\\u003e\\u003c\\u002fextra\\u003e\",\"hovertext\":[\"Gibraltar\"],\"legendgroup\":\" Gibraltar\",\"marker\":{\"color\":\"#ab63fa\",\"size\":[1.112],\"sizemode\":\"area\",\"sizeref\":0.044444444444444446,\"symbol\":\"circle\"},\"mode\":\"markers\",\"name\":\" Gibraltar\",\"orientation\":\"v\",\"showlegend\":true,\"x\":[0.0],\"xaxis\":\"x\",\"y\":[0.0],\"yaxis\":\"y\",\"type\":\"scatter\"},{\"hovertemplate\":\"\\u003cb\\u003e%{hovertext}\\u003c\\u002fb\\u003e\\u003cbr\\u003e\\u003cbr\\u003eua_country= Sweden\\u003cbr\\u003eCost of Living=%{x}\\u003cbr\\u003eEconomy Score=%{y}\\u003cbr\\u003eHousing Score=%{marker.size}\\u003cextra\\u003e\\u003c\\u002fextra\\u003e\",\"hovertext\":[\"Gothenburg\",\"Malmo\",\"Stockholm\",\"Uppsala\"],\"legendgroup\":\" Sweden\",\"marker\":{\"color\":\"#FFA15A\",\"size\":[6.725,7.263000000000001,4.865,7.16],\"sizemode\":\"area\",\"sizeref\":0.044444444444444446,\"symbol\":\"circle\"},\"mode\":\"markers\",\"name\":\" Sweden\",\"orientation\":\"v\",\"showlegend\":true,\"x\":[5.046000000000001,5.57,4.36,5.442],\"xaxis\":\"x\",\"y\":[5.694499999999999,5.694499999999999,5.694499999999999,5.694499999999999],\"yaxis\":\"y\",\"type\":\"scatter\"},{\"hovertemplate\":\"\\u003cb\\u003e%{hovertext}\\u003c\\u002fb\\u003e\\u003cbr\\u003e\\u003cbr\\u003eua_country= Mexico\\u003cbr\\u003eCost of Living=%{x}\\u003cbr\\u003eEconomy Score=%{y}\\u003cbr\\u003eHousing Score=%{marker.size}\\u003cextra\\u003e\\u003c\\u002fextra\\u003e\",\"hovertext\":[\"Guadalajara\",\"Mexico City\"],\"legendgroup\":\" Mexico\",\"marker\":{\"color\":\"#19d3f3\",\"size\":[9.527,8.360000000000001],\"sizemode\":\"area\",\"sizeref\":0.044444444444444446,\"symbol\":\"circle\"},\"mode\":\"markers\",\"name\":\" Mexico\",\"orientation\":\"v\",\"showlegend\":true,\"x\":[9.49,9.244],\"xaxis\":\"x\",\"y\":[3.5005,3.5005],\"yaxis\":\"y\",\"type\":\"scatter\"},{\"hovertemplate\":\"\\u003cb\\u003e%{hovertext}\\u003c\\u002fb\\u003e\\u003cbr\\u003e\\u003cbr\\u003eua_country= Guatemala\\u003cbr\\u003eCost of Living=%{x}\\u003cbr\\u003eEconomy Score=%{y}\\u003cbr\\u003eHousing Score=%{marker.size}\\u003cextra\\u003e\\u003c\\u002fextra\\u003e\",\"hovertext\":[\"Guatemala City\"],\"legendgroup\":\" Guatemala\",\"marker\":{\"color\":\"#FF6692\",\"size\":[8.8125],\"sizemode\":\"area\",\"sizeref\":0.044444444444444446,\"symbol\":\"circle\"},\"mode\":\"markers\",\"name\":\" Guatemala\",\"orientation\":\"v\",\"showlegend\":true,\"x\":[8.175],\"xaxis\":\"x\",\"y\":[3.805],\"yaxis\":\"y\",\"type\":\"scatter\"},{\"hovertemplate\":\"\\u003cb\\u003e%{hovertext}\\u003c\\u002fb\\u003e\\u003cbr\\u003e\\u003cbr\\u003eua_country= Cuba\\u003cbr\\u003eCost of Living=%{x}\\u003cbr\\u003eEconomy Score=%{y}\\u003cbr\\u003eHousing Score=%{marker.size}\\u003cextra\\u003e\\u003c\\u002fextra\\u003e\",\"hovertext\":[\"Havana\"],\"legendgroup\":\" Cuba\",\"marker\":{\"color\":\"#B6E880\",\"size\":[9.089],\"sizemode\":\"area\",\"sizeref\":0.044444444444444446,\"symbol\":\"circle\"},\"mode\":\"markers\",\"name\":\" Cuba\",\"orientation\":\"v\",\"showlegend\":true,\"x\":[7.607999999999999],\"xaxis\":\"x\",\"y\":[2.5495000000000005],\"yaxis\":\"y\",\"type\":\"scatter\"},{\"hovertemplate\":\"\\u003cb\\u003e%{hovertext}\\u003c\\u002fb\\u003e\\u003cbr\\u003e\\u003cbr\\u003eua_country= Finland\\u003cbr\\u003eCost of Living=%{x}\\u003cbr\\u003eEconomy Score=%{y}\\u003cbr\\u003eHousing Score=%{marker.size}\\u003cextra\\u003e\\u003c\\u002fextra\\u003e\",\"hovertext\":[\"Helsinki\",\"Oulu\",\"Tampere\",\"Turku\"],\"legendgroup\":\" Finland\",\"marker\":{\"color\":\"#FF97FF\",\"size\":[5.396000000000001,3.7445,6.936,7.534000000000002],\"sizemode\":\"area\",\"sizeref\":0.044444444444444446,\"symbol\":\"circle\"},\"mode\":\"markers\",\"name\":\" Finland\",\"orientation\":\"v\",\"showlegend\":true,\"x\":[4.121,0.0,4.622,5.07],\"xaxis\":\"x\",\"y\":[3.921,3.921,3.921,3.921],\"yaxis\":\"y\",\"type\":\"scatter\"},{\"hovertemplate\":\"\\u003cb\\u003e%{hovertext}\\u003c\\u002fb\\u003e\\u003cbr\\u003e\\u003cbr\\u003eua_country= Vietnam\\u003cbr\\u003eCost of Living=%{x}\\u003cbr\\u003eEconomy Score=%{y}\\u003cbr\\u003eHousing Score=%{marker.size}\\u003cextra\\u003e\\u003c\\u002fextra\\u003e\",\"hovertext\":[\"Ho Chi Minh City\"],\"legendgroup\":\" Vietnam\",\"marker\":{\"color\":\"#FECB52\",\"size\":[8.618],\"sizemode\":\"area\",\"sizeref\":0.044444444444444446,\"symbol\":\"circle\"},\"mode\":\"markers\",\"name\":\" Vietnam\",\"orientation\":\"v\",\"showlegend\":true,\"x\":[8.844000000000001],\"xaxis\":\"x\",\"y\":[4.8345],\"yaxis\":\"y\",\"type\":\"scatter\"},{\"hovertemplate\":\"\\u003cb\\u003e%{hovertext}\\u003c\\u002fb\\u003e\\u003cbr\\u003e\\u003cbr\\u003eua_country= Hong Kong\\u003cbr\\u003eCost of Living=%{x}\\u003cbr\\u003eEconomy Score=%{y}\\u003cbr\\u003eHousing Score=%{marker.size}\\u003cextra\\u003e\\u003c\\u002fextra\\u003e\",\"hovertext\":[\"Hong Kong\"],\"legendgroup\":\" Hong Kong\",\"marker\":{\"color\":\"#636efa\",\"size\":[1.0],\"sizemode\":\"area\",\"sizeref\":0.044444444444444446,\"symbol\":\"circle\"},\"mode\":\"markers\",\"name\":\" Hong Kong\",\"orientation\":\"v\",\"showlegend\":true,\"x\":[4.967],\"xaxis\":\"x\",\"y\":[6.4825],\"yaxis\":\"y\",\"type\":\"scatter\"},{\"hovertemplate\":\"\\u003cb\\u003e%{hovertext}\\u003c\\u002fb\\u003e\\u003cbr\\u003e\\u003cbr\\u003eua_country= Hawaii\\u003cbr\\u003eCost of Living=%{x}\\u003cbr\\u003eEconomy Score=%{y}\\u003cbr\\u003eHousing Score=%{marker.size}\\u003cextra\\u003e\\u003c\\u002fextra\\u003e\",\"hovertext\":[\"Honolulu\"],\"legendgroup\":\" Hawaii\",\"marker\":{\"color\":\"#EF553B\",\"size\":[2.3415000000000004],\"sizemode\":\"area\",\"sizeref\":0.044444444444444446,\"symbol\":\"circle\"},\"mode\":\"markers\",\"name\":\" Hawaii\",\"orientation\":\"v\",\"showlegend\":true,\"x\":[2.867],\"xaxis\":\"x\",\"y\":[6.5145],\"yaxis\":\"y\",\"type\":\"scatter\"},{\"hovertemplate\":\"\\u003cb\\u003e%{hovertext}\\u003c\\u002fb\\u003e\\u003cbr\\u003e\\u003cbr\\u003eua_country= Indiana\\u003cbr\\u003eCost of Living=%{x}\\u003cbr\\u003eEconomy Score=%{y}\\u003cbr\\u003eHousing Score=%{marker.size}\\u003cextra\\u003e\\u003c\\u002fextra\\u003e\",\"hovertext\":[\"Indianapolis\"],\"legendgroup\":\" Indiana\",\"marker\":{\"color\":\"#00cc96\",\"size\":[6.266],\"sizemode\":\"area\",\"sizeref\":0.044444444444444446,\"symbol\":\"circle\"},\"mode\":\"markers\",\"name\":\" Indiana\",\"orientation\":\"v\",\"showlegend\":true,\"x\":[5.478],\"xaxis\":\"x\",\"y\":[6.5145],\"yaxis\":\"y\",\"type\":\"scatter\"},{\"hovertemplate\":\"\\u003cb\\u003e%{hovertext}\\u003c\\u002fb\\u003e\\u003cbr\\u003e\\u003cbr\\u003eua_country= Austria\\u003cbr\\u003eCost of Living=%{x}\\u003cbr\\u003eEconomy Score=%{y}\\u003cbr\\u003eHousing Score=%{marker.size}\\u003cextra\\u003e\\u003c\\u002fextra\\u003e\",\"hovertext\":[\"Innsbruck\",\"Vienna\"],\"legendgroup\":\" Austria\",\"marker\":{\"color\":\"#ab63fa\",\"size\":[6.708,6.314000000000001],\"sizemode\":\"area\",\"sizeref\":0.044444444444444446,\"symbol\":\"circle\"},\"mode\":\"markers\",\"name\":\" Austria\",\"orientation\":\"v\",\"showlegend\":true,\"x\":[4.732,5.111],\"xaxis\":\"x\",\"y\":[4.663,4.663],\"yaxis\":\"y\",\"type\":\"scatter\"},{\"hovertemplate\":\"\\u003cb\\u003e%{hovertext}\\u003c\\u002fb\\u003e\\u003cbr\\u003e\\u003cbr\\u003eua_country= Florida\\u003cbr\\u003eCost of Living=%{x}\\u003cbr\\u003eEconomy Score=%{y}\\u003cbr\\u003eHousing Score=%{marker.size}\\u003cextra\\u003e\\u003c\\u002fextra\\u003e\",\"hovertext\":[\"Jacksonville\",\"Miami\",\"Orlando\",\"Tampa Bay Area\"],\"legendgroup\":\" Florida\",\"marker\":{\"color\":\"#FFA15A\",\"size\":[6.450000000000001,3.0309999999999997,5.778499999999999,5.696],\"sizemode\":\"area\",\"sizeref\":0.044444444444444446,\"symbol\":\"circle\"},\"mode\":\"markers\",\"name\":\" Florida\",\"orientation\":\"v\",\"showlegend\":true,\"x\":[5.359,4.497,5.284,5.253],\"xaxis\":\"x\",\"y\":[6.5145,6.5145,6.5145,6.5145],\"yaxis\":\"y\",\"type\":\"scatter\"},{\"hovertemplate\":\"\\u003cb\\u003e%{hovertext}\\u003c\\u002fb\\u003e\\u003cbr\\u003e\\u003cbr\\u003eua_country= Missouri\\u003cbr\\u003eCost of Living=%{x}\\u003cbr\\u003eEconomy Score=%{y}\\u003cbr\\u003eHousing Score=%{marker.size}\\u003cextra\\u003e\\u003c\\u002fextra\\u003e\",\"hovertext\":[\"Kansas City\",\"St. Louis\"],\"legendgroup\":\" Missouri\",\"marker\":{\"color\":\"#19d3f3\",\"size\":[6.7075,6.958],\"sizemode\":\"area\",\"sizeref\":0.044444444444444446,\"symbol\":\"circle\"},\"mode\":\"markers\",\"name\":\" Missouri\",\"orientation\":\"v\",\"showlegend\":true,\"x\":[5.844,5.504],\"xaxis\":\"x\",\"y\":[6.5145,6.5145],\"yaxis\":\"y\",\"type\":\"scatter\"},{\"hovertemplate\":\"\\u003cb\\u003e%{hovertext}\\u003c\\u002fb\\u003e\\u003cbr\\u003e\\u003cbr\\u003eua_country= Nepal\\u003cbr\\u003eCost of Living=%{x}\\u003cbr\\u003eEconomy Score=%{y}\\u003cbr\\u003eHousing Score=%{marker.size}\\u003cextra\\u003e\\u003c\\u002fextra\\u003e\",\"hovertext\":[\"Kathmandu\"],\"legendgroup\":\" Nepal\",\"marker\":{\"color\":\"#FF6692\",\"size\":[10.0],\"sizemode\":\"area\",\"sizeref\":0.044444444444444446,\"symbol\":\"circle\"},\"mode\":\"markers\",\"name\":\" Nepal\",\"orientation\":\"v\",\"showlegend\":true,\"x\":[9.445],\"xaxis\":\"x\",\"y\":[4.496],\"yaxis\":\"y\",\"type\":\"scatter\"},{\"hovertemplate\":\"\\u003cb\\u003e%{hovertext}\\u003c\\u002fb\\u003e\\u003cbr\\u003e\\u003cbr\\u003eua_country= Ukraine\\u003cbr\\u003eCost of Living=%{x}\\u003cbr\\u003eEconomy Score=%{y}\\u003cbr\\u003eHousing Score=%{marker.size}\\u003cextra\\u003e\\u003c\\u002fextra\\u003e\",\"hovertext\":[\"Kiev\",\"Lviv\"],\"legendgroup\":\" Ukraine\",\"marker\":{\"color\":\"#B6E880\",\"size\":[9.0845,9.778],\"sizemode\":\"area\",\"sizeref\":0.044444444444444446,\"symbol\":\"circle\"},\"mode\":\"markers\",\"name\":\" Ukraine\",\"orientation\":\"v\",\"showlegend\":true,\"x\":[9.817,10.0],\"xaxis\":\"x\",\"y\":[1.2755,1.2755],\"yaxis\":\"y\",\"type\":\"scatter\"},{\"hovertemplate\":\"\\u003cb\\u003e%{hovertext}\\u003c\\u002fb\\u003e\\u003cbr\\u003e\\u003cbr\\u003eua_country= Jamaica\\u003cbr\\u003eCost of Living=%{x}\\u003cbr\\u003eEconomy Score=%{y}\\u003cbr\\u003eHousing Score=%{marker.size}\\u003cextra\\u003e\\u003c\\u002fextra\\u003e\",\"hovertext\":[\"Kingston\"],\"legendgroup\":\" Jamaica\",\"marker\":{\"color\":\"#FF97FF\",\"size\":[8.8955],\"sizemode\":\"area\",\"sizeref\":0.044444444444444446,\"symbol\":\"circle\"},\"mode\":\"markers\",\"name\":\" Jamaica\",\"orientation\":\"v\",\"showlegend\":true,\"x\":[5.937],\"xaxis\":\"x\",\"y\":[1.8295],\"yaxis\":\"y\",\"type\":\"scatter\"},{\"hovertemplate\":\"\\u003cb\\u003e%{hovertext}\\u003c\\u002fb\\u003e\\u003cbr\\u003e\\u003cbr\\u003eua_country= Malaysia\\u003cbr\\u003eCost of Living=%{x}\\u003cbr\\u003eEconomy Score=%{y}\\u003cbr\\u003eHousing Score=%{marker.size}\\u003cextra\\u003e\\u003c\\u002fextra\\u003e\",\"hovertext\":[\"Kuala Lumpur\"],\"legendgroup\":\" Malaysia\",\"marker\":{\"color\":\"#FECB52\",\"size\":[8.663499999999999],\"sizemode\":\"area\",\"sizeref\":0.044444444444444446,\"symbol\":\"circle\"},\"mode\":\"markers\",\"name\":\" Malaysia\",\"orientation\":\"v\",\"showlegend\":true,\"x\":[8.238],\"xaxis\":\"x\",\"y\":[6.339],\"yaxis\":\"y\",\"type\":\"scatter\"},{\"hovertemplate\":\"\\u003cb\\u003e%{hovertext}\\u003c\\u002fb\\u003e\\u003cbr\\u003e\\u003cbr\\u003eua_country= Nigeria\\u003cbr\\u003eCost of Living=%{x}\\u003cbr\\u003eEconomy Score=%{y}\\u003cbr\\u003eHousing Score=%{marker.size}\\u003cextra\\u003e\\u003c\\u002fextra\\u003e\",\"hovertext\":[\"Lagos\"],\"legendgroup\":\" Nigeria\",\"marker\":{\"color\":\"#636efa\",\"size\":[7.767],\"sizemode\":\"area\",\"sizeref\":0.044444444444444446,\"symbol\":\"circle\"},\"mode\":\"markers\",\"name\":\" Nigeria\",\"orientation\":\"v\",\"showlegend\":true,\"x\":[9.098],\"xaxis\":\"x\",\"y\":[5.061],\"yaxis\":\"y\",\"type\":\"scatter\"},{\"hovertemplate\":\"\\u003cb\\u003e%{hovertext}\\u003c\\u002fb\\u003e\\u003cbr\\u003e\\u003cbr\\u003eua_country= Bolivia\\u003cbr\\u003eCost of Living=%{x}\\u003cbr\\u003eEconomy Score=%{y}\\u003cbr\\u003eHousing Score=%{marker.size}\\u003cextra\\u003e\\u003c\\u002fextra\\u003e\",\"hovertext\":[\"La Paz\"],\"legendgroup\":\" Bolivia\",\"marker\":{\"color\":\"#EF553B\",\"size\":[4.724],\"sizemode\":\"area\",\"sizeref\":0.044444444444444446,\"symbol\":\"circle\"},\"mode\":\"markers\",\"name\":\" Bolivia\",\"orientation\":\"v\",\"showlegend\":true,\"x\":[0.0],\"xaxis\":\"x\",\"y\":[4.536],\"yaxis\":\"y\",\"type\":\"scatter\"},{\"hovertemplate\":\"\\u003cb\\u003e%{hovertext}\\u003c\\u002fb\\u003e\\u003cbr\\u003e\\u003cbr\\u003eua_country= Nevada\\u003cbr\\u003eCost of Living=%{x}\\u003cbr\\u003eEconomy Score=%{y}\\u003cbr\\u003eHousing Score=%{marker.size}\\u003cextra\\u003e\\u003c\\u002fextra\\u003e\",\"hovertext\":[\"Las Vegas\"],\"legendgroup\":\" Nevada\",\"marker\":{\"color\":\"#00cc96\",\"size\":[7.0009999999999994],\"sizemode\":\"area\",\"sizeref\":0.044444444444444446,\"symbol\":\"circle\"},\"mode\":\"markers\",\"name\":\" Nevada\",\"orientation\":\"v\",\"showlegend\":true,\"x\":[5.7589999999999995],\"xaxis\":\"x\",\"y\":[6.5145],\"yaxis\":\"y\",\"type\":\"scatter\"},{\"hovertemplate\":\"\\u003cb\\u003e%{hovertext}\\u003c\\u002fb\\u003e\\u003cbr\\u003e\\u003cbr\\u003eua_country= Peru\\u003cbr\\u003eCost of Living=%{x}\\u003cbr\\u003eEconomy Score=%{y}\\u003cbr\\u003eHousing Score=%{marker.size}\\u003cextra\\u003e\\u003c\\u002fextra\\u003e\",\"hovertext\":[\"Lima\"],\"legendgroup\":\" Peru\",\"marker\":{\"color\":\"#ab63fa\",\"size\":[8.712],\"sizemode\":\"area\",\"sizeref\":0.044444444444444446,\"symbol\":\"circle\"},\"mode\":\"markers\",\"name\":\" Peru\",\"orientation\":\"v\",\"showlegend\":true,\"x\":[8.496],\"xaxis\":\"x\",\"y\":[3.1625000000000005],\"yaxis\":\"y\",\"type\":\"scatter\"},{\"hovertemplate\":\"\\u003cb\\u003e%{hovertext}\\u003c\\u002fb\\u003e\\u003cbr\\u003e\\u003cbr\\u003eua_country= Portugal\\u003cbr\\u003eCost of Living=%{x}\\u003cbr\\u003eEconomy Score=%{y}\\u003cbr\\u003eHousing Score=%{marker.size}\\u003cextra\\u003e\\u003c\\u002fextra\\u003e\",\"hovertext\":[\"Lisbon\",\"Porto\"],\"legendgroup\":\" Portugal\",\"marker\":{\"color\":\"#FFA15A\",\"size\":[6.734000000000001,8.109500000000002],\"sizemode\":\"area\",\"sizeref\":0.044444444444444446,\"symbol\":\"circle\"},\"mode\":\"markers\",\"name\":\" Portugal\",\"orientation\":\"v\",\"showlegend\":true,\"x\":[7.004000000000001,7.422000000000001],\"xaxis\":\"x\",\"y\":[3.483,3.483],\"yaxis\":\"y\",\"type\":\"scatter\"},{\"hovertemplate\":\"\\u003cb\\u003e%{hovertext}\\u003c\\u002fb\\u003e\\u003cbr\\u003e\\u003cbr\\u003eua_country= Slovenia\\u003cbr\\u003eCost of Living=%{x}\\u003cbr\\u003eEconomy Score=%{y}\\u003cbr\\u003eHousing Score=%{marker.size}\\u003cextra\\u003e\\u003c\\u002fextra\\u003e\",\"hovertext\":[\"Ljubljana\"],\"legendgroup\":\" Slovenia\",\"marker\":{\"color\":\"#19d3f3\",\"size\":[8.214000000000002],\"sizemode\":\"area\",\"sizeref\":0.044444444444444446,\"symbol\":\"circle\"},\"mode\":\"markers\",\"name\":\" Slovenia\",\"orientation\":\"v\",\"showlegend\":true,\"x\":[6.749000000000001],\"xaxis\":\"x\",\"y\":[4.7205],\"yaxis\":\"y\",\"type\":\"scatter\"},{\"hovertemplate\":\"\\u003cb\\u003e%{hovertext}\\u003c\\u002fb\\u003e\\u003cbr\\u003e\\u003cbr\\u003eua_country= California\\u003cbr\\u003eCost of Living=%{x}\\u003cbr\\u003eEconomy Score=%{y}\\u003cbr\\u003eHousing Score=%{marker.size}\\u003cextra\\u003e\\u003c\\u002fextra\\u003e\",\"hovertext\":[\"Los Angeles\",\"Palo Alto\",\"San Diego\",\"San Francisco Bay Area\",\"San Luis Obispo\"],\"legendgroup\":\" California\",\"marker\":{\"color\":\"#FF6692\",\"size\":[1.5275,0.5,2.9335,1.0,1.7245],\"sizemode\":\"area\",\"sizeref\":0.044444444444444446,\"symbol\":\"circle\"},\"mode\":\"markers\",\"name\":\" California\",\"orientation\":\"v\",\"showlegend\":true,\"x\":[4.556000000000001,0.0,5.156000000000001,2.618,0.0],\"xaxis\":\"x\",\"y\":[6.5145,6.5145,6.5145,6.5145,6.5145],\"yaxis\":\"y\",\"type\":\"scatter\"},{\"hovertemplate\":\"\\u003cb\\u003e%{hovertext}\\u003c\\u002fb\\u003e\\u003cbr\\u003e\\u003cbr\\u003eua_country= Kentucky\\u003cbr\\u003eCost of Living=%{x}\\u003cbr\\u003eEconomy Score=%{y}\\u003cbr\\u003eHousing Score=%{marker.size}\\u003cextra\\u003e\\u003c\\u002fextra\\u003e\",\"hovertext\":[\"Louisville\"],\"legendgroup\":\" Kentucky\",\"marker\":{\"color\":\"#B6E880\",\"size\":[7.258],\"sizemode\":\"area\",\"sizeref\":0.044444444444444446,\"symbol\":\"circle\"},\"mode\":\"markers\",\"name\":\" Kentucky\",\"orientation\":\"v\",\"showlegend\":true,\"x\":[6.358000000000001],\"xaxis\":\"x\",\"y\":[6.5145],\"yaxis\":\"y\",\"type\":\"scatter\"},{\"hovertemplate\":\"\\u003cb\\u003e%{hovertext}\\u003c\\u002fb\\u003e\\u003cbr\\u003e\\u003cbr\\u003eua_country= Luxembourg\\u003cbr\\u003eCost of Living=%{x}\\u003cbr\\u003eEconomy Score=%{y}\\u003cbr\\u003eHousing Score=%{marker.size}\\u003cextra\\u003e\\u003c\\u002fextra\\u003e\",\"hovertext\":[\"Luxembourg\"],\"legendgroup\":\" Luxembourg\",\"marker\":{\"color\":\"#FF97FF\",\"size\":[2.4530000000000003],\"sizemode\":\"area\",\"sizeref\":0.044444444444444446,\"symbol\":\"circle\"},\"mode\":\"markers\",\"name\":\" Luxembourg\",\"orientation\":\"v\",\"showlegend\":true,\"x\":[3.411],\"xaxis\":\"x\",\"y\":[7.473000000000001],\"yaxis\":\"y\",\"type\":\"scatter\"},{\"hovertemplate\":\"\\u003cb\\u003e%{hovertext}\\u003c\\u002fb\\u003e\\u003cbr\\u003e\\u003cbr\\u003eua_country= Wisconsin\\u003cbr\\u003eCost of Living=%{x}\\u003cbr\\u003eEconomy Score=%{y}\\u003cbr\\u003eHousing Score=%{marker.size}\\u003cextra\\u003e\\u003c\\u002fextra\\u003e\",\"hovertext\":[\"Madison\",\"Milwaukee\"],\"legendgroup\":\" Wisconsin\",\"marker\":{\"color\":\"#FECB52\",\"size\":[5.8294999999999995,6.1225],\"sizemode\":\"area\",\"sizeref\":0.044444444444444446,\"symbol\":\"circle\"},\"mode\":\"markers\",\"name\":\" Wisconsin\",\"orientation\":\"v\",\"showlegend\":true,\"x\":[6.173,5.526],\"xaxis\":\"x\",\"y\":[6.5145,6.5145],\"yaxis\":\"y\",\"type\":\"scatter\"},{\"hovertemplate\":\"\\u003cb\\u003e%{hovertext}\\u003c\\u002fb\\u003e\\u003cbr\\u003e\\u003cbr\\u003eua_country= Nicaragua\\u003cbr\\u003eCost of Living=%{x}\\u003cbr\\u003eEconomy Score=%{y}\\u003cbr\\u003eHousing Score=%{marker.size}\\u003cextra\\u003e\\u003c\\u002fextra\\u003e\",\"hovertext\":[\"Managua\"],\"legendgroup\":\" Nicaragua\",\"marker\":{\"color\":\"#636efa\",\"size\":[4.7855],\"sizemode\":\"area\",\"sizeref\":0.044444444444444446,\"symbol\":\"circle\"},\"mode\":\"markers\",\"name\":\" Nicaragua\",\"orientation\":\"v\",\"showlegend\":true,\"x\":[0.0],\"xaxis\":\"x\",\"y\":[3.9395],\"yaxis\":\"y\",\"type\":\"scatter\"},{\"hovertemplate\":\"\\u003cb\\u003e%{hovertext}\\u003c\\u002fb\\u003e\\u003cbr\\u003e\\u003cbr\\u003eua_country= Philippines\\u003cbr\\u003eCost of Living=%{x}\\u003cbr\\u003eEconomy Score=%{y}\\u003cbr\\u003eHousing Score=%{marker.size}\\u003cextra\\u003e\\u003c\\u002fextra\\u003e\",\"hovertext\":[\"Manila\"],\"legendgroup\":\" Philippines\",\"marker\":{\"color\":\"#EF553B\",\"size\":[8.5955],\"sizemode\":\"area\",\"sizeref\":0.044444444444444446,\"symbol\":\"circle\"},\"mode\":\"markers\",\"name\":\" Philippines\",\"orientation\":\"v\",\"showlegend\":true,\"x\":[8.751999999999999],\"xaxis\":\"x\",\"y\":[5.006499999999999],\"yaxis\":\"y\",\"type\":\"scatter\"},{\"hovertemplate\":\"\\u003cb\\u003e%{hovertext}\\u003c\\u002fb\\u003e\\u003cbr\\u003e\\u003cbr\\u003eua_country= Minnesota\\u003cbr\\u003eCost of Living=%{x}\\u003cbr\\u003eEconomy Score=%{y}\\u003cbr\\u003eHousing Score=%{marker.size}\\u003cextra\\u003e\\u003c\\u002fextra\\u003e\",\"hovertext\":[\"Minneapolis-Saint Paul\"],\"legendgroup\":\" Minnesota\",\"marker\":{\"color\":\"#00cc96\",\"size\":[4.738500000000001],\"sizemode\":\"area\",\"sizeref\":0.044444444444444446,\"symbol\":\"circle\"},\"mode\":\"markers\",\"name\":\" Minnesota\",\"orientation\":\"v\",\"showlegend\":true,\"x\":[5.042000000000001],\"xaxis\":\"x\",\"y\":[6.5145],\"yaxis\":\"y\",\"type\":\"scatter\"},{\"hovertemplate\":\"\\u003cb\\u003e%{hovertext}\\u003c\\u002fb\\u003e\\u003cbr\\u003e\\u003cbr\\u003eua_country= Belarus\\u003cbr\\u003eCost of Living=%{x}\\u003cbr\\u003eEconomy Score=%{y}\\u003cbr\\u003eHousing Score=%{marker.size}\\u003cextra\\u003e\\u003c\\u002fextra\\u003e\",\"hovertext\":[\"Minsk\"],\"legendgroup\":\" Belarus\",\"marker\":{\"color\":\"#ab63fa\",\"size\":[9.4955],\"sizemode\":\"area\",\"sizeref\":0.044444444444444446,\"symbol\":\"circle\"},\"mode\":\"markers\",\"name\":\" Belarus\",\"orientation\":\"v\",\"showlegend\":true,\"x\":[9.289],\"xaxis\":\"x\",\"y\":[3.204],\"yaxis\":\"y\",\"type\":\"scatter\"},{\"hovertemplate\":\"\\u003cb\\u003e%{hovertext}\\u003c\\u002fb\\u003e\\u003cbr\\u003e\\u003cbr\\u003eua_country= Uruguay\\u003cbr\\u003eCost of Living=%{x}\\u003cbr\\u003eEconomy Score=%{y}\\u003cbr\\u003eHousing Score=%{marker.size}\\u003cextra\\u003e\\u003c\\u002fextra\\u003e\",\"hovertext\":[\"Montevideo\"],\"legendgroup\":\" Uruguay\",\"marker\":{\"color\":\"#FFA15A\",\"size\":[8.183000000000002],\"sizemode\":\"area\",\"sizeref\":0.044444444444444446,\"symbol\":\"circle\"},\"mode\":\"markers\",\"name\":\" Uruguay\",\"orientation\":\"v\",\"showlegend\":true,\"x\":[6.197],\"xaxis\":\"x\",\"y\":[4.416],\"yaxis\":\"y\",\"type\":\"scatter\"},{\"hovertemplate\":\"\\u003cb\\u003e%{hovertext}\\u003c\\u002fb\\u003e\\u003cbr\\u003e\\u003cbr\\u003eua_country= Russia\\u003cbr\\u003eCost of Living=%{x}\\u003cbr\\u003eEconomy Score=%{y}\\u003cbr\\u003eHousing Score=%{marker.size}\\u003cextra\\u003e\\u003c\\u002fextra\\u003e\",\"hovertext\":[\"Moscow\",\"Saint Petersburg\"],\"legendgroup\":\" Russia\",\"marker\":{\"color\":\"#19d3f3\",\"size\":[6.555000000000001,8.3605],\"sizemode\":\"area\",\"sizeref\":0.044444444444444446,\"symbol\":\"circle\"},\"mode\":\"markers\",\"name\":\" Russia\",\"orientation\":\"v\",\"showlegend\":true,\"x\":[8.099,8.673],\"xaxis\":\"x\",\"y\":[3.148,3.148],\"yaxis\":\"y\",\"type\":\"scatter\"},{\"hovertemplate\":\"\\u003cb\\u003e%{hovertext}\\u003c\\u002fb\\u003e\\u003cbr\\u003e\\u003cbr\\u003eua_country= Kenya\\u003cbr\\u003eCost of Living=%{x}\\u003cbr\\u003eEconomy Score=%{y}\\u003cbr\\u003eHousing Score=%{marker.size}\\u003cextra\\u003e\\u003c\\u002fextra\\u003e\",\"hovertext\":[\"Nairobi\"],\"legendgroup\":\" Kenya\",\"marker\":{\"color\":\"#FF6692\",\"size\":[8.8505],\"sizemode\":\"area\",\"sizeref\":0.044444444444444446,\"symbol\":\"circle\"},\"mode\":\"markers\",\"name\":\" Kenya\",\"orientation\":\"v\",\"showlegend\":true,\"x\":[8.431999999999999],\"xaxis\":\"x\",\"y\":[4.376999999999999],\"yaxis\":\"y\",\"type\":\"scatter\"},{\"hovertemplate\":\"\\u003cb\\u003e%{hovertext}\\u003c\\u002fb\\u003e\\u003cbr\\u003e\\u003cbr\\u003eua_country= Louisiana\\u003cbr\\u003eCost of Living=%{x}\\u003cbr\\u003eEconomy Score=%{y}\\u003cbr\\u003eHousing Score=%{marker.size}\\u003cextra\\u003e\\u003c\\u002fextra\\u003e\",\"hovertext\":[\"New Orleans\"],\"legendgroup\":\" Louisiana\",\"marker\":{\"color\":\"#B6E880\",\"size\":[5.339],\"sizemode\":\"area\",\"sizeref\":0.044444444444444446,\"symbol\":\"circle\"},\"mode\":\"markers\",\"name\":\" Louisiana\",\"orientation\":\"v\",\"showlegend\":true,\"x\":[4.991999999999999],\"xaxis\":\"x\",\"y\":[6.5145],\"yaxis\":\"y\",\"type\":\"scatter\"},{\"hovertemplate\":\"\\u003cb\\u003e%{hovertext}\\u003c\\u002fb\\u003e\\u003cbr\\u003e\\u003cbr\\u003eua_country= Cyprus\\u003cbr\\u003eCost of Living=%{x}\\u003cbr\\u003eEconomy Score=%{y}\\u003cbr\\u003eHousing Score=%{marker.size}\\u003cextra\\u003e\\u003c\\u002fextra\\u003e\",\"hovertext\":[\"Nicosia\"],\"legendgroup\":\" Cyprus\",\"marker\":{\"color\":\"#FF97FF\",\"size\":[8.631],\"sizemode\":\"area\",\"sizeref\":0.044444444444444446,\"symbol\":\"circle\"},\"mode\":\"markers\",\"name\":\" Cyprus\",\"orientation\":\"v\",\"showlegend\":true,\"x\":[6.301],\"xaxis\":\"x\",\"y\":[2.9955],\"yaxis\":\"y\",\"type\":\"scatter\"},{\"hovertemplate\":\"\\u003cb\\u003e%{hovertext}\\u003c\\u002fb\\u003e\\u003cbr\\u003e\\u003cbr\\u003eua_country= Oklahoma\\u003cbr\\u003eCost of Living=%{x}\\u003cbr\\u003eEconomy Score=%{y}\\u003cbr\\u003eHousing Score=%{marker.size}\\u003cextra\\u003e\\u003c\\u002fextra\\u003e\",\"hovertext\":[\"Oklahoma City\"],\"legendgroup\":\" Oklahoma\",\"marker\":{\"color\":\"#FECB52\",\"size\":[7.261000000000001],\"sizemode\":\"area\",\"sizeref\":0.044444444444444446,\"symbol\":\"circle\"},\"mode\":\"markers\",\"name\":\" Oklahoma\",\"orientation\":\"v\",\"showlegend\":true,\"x\":[6.394],\"xaxis\":\"x\",\"y\":[6.5145],\"yaxis\":\"y\",\"type\":\"scatter\"},{\"hovertemplate\":\"\\u003cb\\u003e%{hovertext}\\u003c\\u002fb\\u003e\\u003cbr\\u003e\\u003cbr\\u003eua_country= Nebraska\\u003cbr\\u003eCost of Living=%{x}\\u003cbr\\u003eEconomy Score=%{y}\\u003cbr\\u003eHousing Score=%{marker.size}\\u003cextra\\u003e\\u003c\\u002fextra\\u003e\",\"hovertext\":[\"Omaha\"],\"legendgroup\":\" Nebraska\",\"marker\":{\"color\":\"#636efa\",\"size\":[7.040500000000001],\"sizemode\":\"area\",\"sizeref\":0.044444444444444446,\"symbol\":\"circle\"},\"mode\":\"markers\",\"name\":\" Nebraska\",\"orientation\":\"v\",\"showlegend\":true,\"x\":[5.994000000000001],\"xaxis\":\"x\",\"y\":[6.5145],\"yaxis\":\"y\",\"type\":\"scatter\"},{\"hovertemplate\":\"\\u003cb\\u003e%{hovertext}\\u003c\\u002fb\\u003e\\u003cbr\\u003e\\u003cbr\\u003eua_country= Panama\\u003cbr\\u003eCost of Living=%{x}\\u003cbr\\u003eEconomy Score=%{y}\\u003cbr\\u003eHousing Score=%{marker.size}\\u003cextra\\u003e\\u003c\\u002fextra\\u003e\",\"hovertext\":[\"Panama\"],\"legendgroup\":\" Panama\",\"marker\":{\"color\":\"#EF553B\",\"size\":[3.1530000000000005],\"sizemode\":\"area\",\"sizeref\":0.044444444444444446,\"symbol\":\"circle\"},\"mode\":\"markers\",\"name\":\" Panama\",\"orientation\":\"v\",\"showlegend\":true,\"x\":[0.0],\"xaxis\":\"x\",\"y\":[6.040500000000001],\"yaxis\":\"y\",\"type\":\"scatter\"},{\"hovertemplate\":\"\\u003cb\\u003e%{hovertext}\\u003c\\u002fb\\u003e\\u003cbr\\u003e\\u003cbr\\u003eua_country= Pennsylvania\\u003cbr\\u003eCost of Living=%{x}\\u003cbr\\u003eEconomy Score=%{y}\\u003cbr\\u003eHousing Score=%{marker.size}\\u003cextra\\u003e\\u003c\\u002fextra\\u003e\",\"hovertext\":[\"Philadelphia\",\"Pittsburgh\"],\"legendgroup\":\" Pennsylvania\",\"marker\":{\"color\":\"#00cc96\",\"size\":[4.207,5.963500000000002],\"sizemode\":\"area\",\"sizeref\":0.044444444444444446,\"symbol\":\"circle\"},\"mode\":\"markers\",\"name\":\" Pennsylvania\",\"orientation\":\"v\",\"showlegend\":true,\"x\":[4.422000000000001,4.795],\"xaxis\":\"x\",\"y\":[6.5145,6.5145],\"yaxis\":\"y\",\"type\":\"scatter\"},{\"hovertemplate\":\"\\u003cb\\u003e%{hovertext}\\u003c\\u002fb\\u003e\\u003cbr\\u003e\\u003cbr\\u003eua_country= Cambodia\\u003cbr\\u003eCost of Living=%{x}\\u003cbr\\u003eEconomy Score=%{y}\\u003cbr\\u003eHousing Score=%{marker.size}\\u003cextra\\u003e\\u003c\\u002fextra\\u003e\",\"hovertext\":[\"Phnom Penh\"],\"legendgroup\":\" Cambodia\",\"marker\":{\"color\":\"#ab63fa\",\"size\":[8.552000000000001],\"sizemode\":\"area\",\"sizeref\":0.044444444444444446,\"symbol\":\"circle\"},\"mode\":\"markers\",\"name\":\" Cambodia\",\"orientation\":\"v\",\"showlegend\":true,\"x\":[8.001000000000001],\"xaxis\":\"x\",\"y\":[5.379999999999999],\"yaxis\":\"y\",\"type\":\"scatter\"},{\"hovertemplate\":\"\\u003cb\\u003e%{hovertext}\\u003c\\u002fb\\u003e\\u003cbr\\u003e\\u003cbr\\u003eua_country= Arizona\\u003cbr\\u003eCost of Living=%{x}\\u003cbr\\u003eEconomy Score=%{y}\\u003cbr\\u003eHousing Score=%{marker.size}\\u003cextra\\u003e\\u003c\\u002fextra\\u003e\",\"hovertext\":[\"Phoenix\"],\"legendgroup\":\" Arizona\",\"marker\":{\"color\":\"#FFA15A\",\"size\":[6.5329999999999995],\"sizemode\":\"area\",\"sizeref\":0.044444444444444446,\"symbol\":\"circle\"},\"mode\":\"markers\",\"name\":\" Arizona\",\"orientation\":\"v\",\"showlegend\":true,\"x\":[6.208],\"xaxis\":\"x\",\"y\":[6.5145],\"yaxis\":\"y\",\"type\":\"scatter\"},{\"hovertemplate\":\"\\u003cb\\u003e%{hovertext}\\u003c\\u002fb\\u003e\\u003cbr\\u003e\\u003cbr\\u003eua_country= Maine\\u003cbr\\u003eCost of Living=%{x}\\u003cbr\\u003eEconomy Score=%{y}\\u003cbr\\u003eHousing Score=%{marker.size}\\u003cextra\\u003e\\u003c\\u002fextra\\u003e\",\"hovertext\":[\"Portland\"],\"legendgroup\":\" Maine\",\"marker\":{\"color\":\"#19d3f3\",\"size\":[0.0],\"sizemode\":\"area\",\"sizeref\":0.044444444444444446,\"symbol\":\"circle\"},\"mode\":\"markers\",\"name\":\" Maine\",\"orientation\":\"v\",\"showlegend\":true,\"x\":[0.0],\"xaxis\":\"x\",\"y\":[6.5145],\"yaxis\":\"y\",\"type\":\"scatter\"},{\"hovertemplate\":\"\\u003cb\\u003e%{hovertext}\\u003c\\u002fb\\u003e\\u003cbr\\u003e\\u003cbr\\u003eua_country= Rhode Island\\u003cbr\\u003eCost of Living=%{x}\\u003cbr\\u003eEconomy Score=%{y}\\u003cbr\\u003eHousing Score=%{marker.size}\\u003cextra\\u003e\\u003c\\u002fextra\\u003e\",\"hovertext\":[\"Providence\"],\"legendgroup\":\" Rhode Island\",\"marker\":{\"color\":\"#FF6692\",\"size\":[3.1530000000000005],\"sizemode\":\"area\",\"sizeref\":0.044444444444444446,\"symbol\":\"circle\"},\"mode\":\"markers\",\"name\":\" Rhode Island\",\"orientation\":\"v\",\"showlegend\":true,\"x\":[0.0],\"xaxis\":\"x\",\"y\":[6.5145],\"yaxis\":\"y\",\"type\":\"scatter\"},{\"hovertemplate\":\"\\u003cb\\u003e%{hovertext}\\u003c\\u002fb\\u003e\\u003cbr\\u003e\\u003cbr\\u003eua_country= Ecuador\\u003cbr\\u003eCost of Living=%{x}\\u003cbr\\u003eEconomy Score=%{y}\\u003cbr\\u003eHousing Score=%{marker.size}\\u003cextra\\u003e\\u003c\\u002fextra\\u003e\",\"hovertext\":[\"Quito\"],\"legendgroup\":\" Ecuador\",\"marker\":{\"color\":\"#B6E880\",\"size\":[9.0165],\"sizemode\":\"area\",\"sizeref\":0.044444444444444446,\"symbol\":\"circle\"},\"mode\":\"markers\",\"name\":\" Ecuador\",\"orientation\":\"v\",\"showlegend\":true,\"x\":[7.822],\"xaxis\":\"x\",\"y\":[3.8855],\"yaxis\":\"y\",\"type\":\"scatter\"},{\"hovertemplate\":\"\\u003cb\\u003e%{hovertext}\\u003c\\u002fb\\u003e\\u003cbr\\u003e\\u003cbr\\u003eua_country= Iceland\\u003cbr\\u003eCost of Living=%{x}\\u003cbr\\u003eEconomy Score=%{y}\\u003cbr\\u003eHousing Score=%{marker.size}\\u003cextra\\u003e\\u003c\\u002fextra\\u003e\",\"hovertext\":[\"Reykjavik\"],\"legendgroup\":\" Iceland\",\"marker\":{\"color\":\"#FF97FF\",\"size\":[2.7715],\"sizemode\":\"area\",\"sizeref\":0.044444444444444446,\"symbol\":\"circle\"},\"mode\":\"markers\",\"name\":\" Iceland\",\"orientation\":\"v\",\"showlegend\":true,\"x\":[1.0],\"xaxis\":\"x\",\"y\":[5.2829999999999995],\"yaxis\":\"y\",\"type\":\"scatter\"},{\"hovertemplate\":\"\\u003cb\\u003e%{hovertext}\\u003c\\u002fb\\u003e\\u003cbr\\u003e\\u003cbr\\u003eua_country= Virginia\\u003cbr\\u003eCost of Living=%{x}\\u003cbr\\u003eEconomy Score=%{y}\\u003cbr\\u003eHousing Score=%{marker.size}\\u003cextra\\u003e\\u003c\\u002fextra\\u003e\",\"hovertext\":[\"Richmond\"],\"legendgroup\":\" Virginia\",\"marker\":{\"color\":\"#FECB52\",\"size\":[6.439500000000002],\"sizemode\":\"area\",\"sizeref\":0.044444444444444446,\"symbol\":\"circle\"},\"mode\":\"markers\",\"name\":\" Virginia\",\"orientation\":\"v\",\"showlegend\":true,\"x\":[5.949],\"xaxis\":\"x\",\"y\":[6.5145],\"yaxis\":\"y\",\"type\":\"scatter\"},{\"hovertemplate\":\"\\u003cb\\u003e%{hovertext}\\u003c\\u002fb\\u003e\\u003cbr\\u003e\\u003cbr\\u003eua_country= Latvia\\u003cbr\\u003eCost of Living=%{x}\\u003cbr\\u003eEconomy Score=%{y}\\u003cbr\\u003eHousing Score=%{marker.size}\\u003cextra\\u003e\\u003c\\u002fextra\\u003e\",\"hovertext\":[\"Riga\"],\"legendgroup\":\" Latvia\",\"marker\":{\"color\":\"#636efa\",\"size\":[8.933000000000002],\"sizemode\":\"area\",\"sizeref\":0.044444444444444446,\"symbol\":\"circle\"},\"mode\":\"markers\",\"name\":\" Latvia\",\"orientation\":\"v\",\"showlegend\":true,\"x\":[7.329],\"xaxis\":\"x\",\"y\":[4.094500000000001],\"yaxis\":\"y\",\"type\":\"scatter\"},{\"hovertemplate\":\"\\u003cb\\u003e%{hovertext}\\u003c\\u002fb\\u003e\\u003cbr\\u003e\\u003cbr\\u003eua_country= Saudi Arabia\\u003cbr\\u003eCost of Living=%{x}\\u003cbr\\u003eEconomy Score=%{y}\\u003cbr\\u003eHousing Score=%{marker.size}\\u003cextra\\u003e\\u003c\\u002fextra\\u003e\",\"hovertext\":[\"Riyadh\"],\"legendgroup\":\" Saudi Arabia\",\"marker\":{\"color\":\"#EF553B\",\"size\":[8.6965],\"sizemode\":\"area\",\"sizeref\":0.044444444444444446,\"symbol\":\"circle\"},\"mode\":\"markers\",\"name\":\" Saudi Arabia\",\"orientation\":\"v\",\"showlegend\":true,\"x\":[7.806000000000001],\"xaxis\":\"x\",\"y\":[7.042],\"yaxis\":\"y\",\"type\":\"scatter\"},{\"hovertemplate\":\"\\u003cb\\u003e%{hovertext}\\u003c\\u002fb\\u003e\\u003cbr\\u003e\\u003cbr\\u003eua_country= Utah\\u003cbr\\u003eCost of Living=%{x}\\u003cbr\\u003eEconomy Score=%{y}\\u003cbr\\u003eHousing Score=%{marker.size}\\u003cextra\\u003e\\u003c\\u002fextra\\u003e\",\"hovertext\":[\"Salt Lake City\"],\"legendgroup\":\" Utah\",\"marker\":{\"color\":\"#00cc96\",\"size\":[6.141000000000001],\"sizemode\":\"area\",\"sizeref\":0.044444444444444446,\"symbol\":\"circle\"},\"mode\":\"markers\",\"name\":\" Utah\",\"orientation\":\"v\",\"showlegend\":true,\"x\":[6.172000000000001],\"xaxis\":\"x\",\"y\":[6.5145],\"yaxis\":\"y\",\"type\":\"scatter\"},{\"hovertemplate\":\"\\u003cb\\u003e%{hovertext}\\u003c\\u002fb\\u003e\\u003cbr\\u003e\\u003cbr\\u003eua_country= Costa Rica\\u003cbr\\u003eCost of Living=%{x}\\u003cbr\\u003eEconomy Score=%{y}\\u003cbr\\u003eHousing Score=%{marker.size}\\u003cextra\\u003e\\u003c\\u002fextra\\u003e\",\"hovertext\":[\"San Jose\"],\"legendgroup\":\" Costa Rica\",\"marker\":{\"color\":\"#ab63fa\",\"size\":[8.1645],\"sizemode\":\"area\",\"sizeref\":0.044444444444444446,\"symbol\":\"circle\"},\"mode\":\"markers\",\"name\":\" Costa Rica\",\"orientation\":\"v\",\"showlegend\":true,\"x\":[6.728000000000001],\"xaxis\":\"x\",\"y\":[4.081499999999999],\"yaxis\":\"y\",\"type\":\"scatter\"},{\"hovertemplate\":\"\\u003cb\\u003e%{hovertext}\\u003c\\u002fb\\u003e\\u003cbr\\u003e\\u003cbr\\u003eua_country= Puerto Rico\\u003cbr\\u003eCost of Living=%{x}\\u003cbr\\u003eEconomy Score=%{y}\\u003cbr\\u003eHousing Score=%{marker.size}\\u003cextra\\u003e\\u003c\\u002fextra\\u003e\",\"hovertext\":[\"San Juan\"],\"legendgroup\":\" Puerto Rico\",\"marker\":{\"color\":\"#FFA15A\",\"size\":[7.427500000000001],\"sizemode\":\"area\",\"sizeref\":0.044444444444444446,\"symbol\":\"circle\"},\"mode\":\"markers\",\"name\":\" Puerto Rico\",\"orientation\":\"v\",\"showlegend\":true,\"x\":[5.9799999999999995],\"xaxis\":\"x\",\"y\":[0.0],\"yaxis\":\"y\",\"type\":\"scatter\"},{\"hovertemplate\":\"\\u003cb\\u003e%{hovertext}\\u003c\\u002fb\\u003e\\u003cbr\\u003e\\u003cbr\\u003eua_country= El Salvador\\u003cbr\\u003eCost of Living=%{x}\\u003cbr\\u003eEconomy Score=%{y}\\u003cbr\\u003eHousing Score=%{marker.size}\\u003cextra\\u003e\\u003c\\u002fextra\\u003e\",\"hovertext\":[\"San Salvador\"],\"legendgroup\":\" El Salvador\",\"marker\":{\"color\":\"#19d3f3\",\"size\":[8.8015],\"sizemode\":\"area\",\"sizeref\":0.044444444444444446,\"symbol\":\"circle\"},\"mode\":\"markers\",\"name\":\" El Salvador\",\"orientation\":\"v\",\"showlegend\":true,\"x\":[7.7429999999999986],\"xaxis\":\"x\",\"y\":[2.6590000000000003],\"yaxis\":\"y\",\"type\":\"scatter\"},{\"hovertemplate\":\"\\u003cb\\u003e%{hovertext}\\u003c\\u002fb\\u003e\\u003cbr\\u003e\\u003cbr\\u003eua_country= Chile\\u003cbr\\u003eCost of Living=%{x}\\u003cbr\\u003eEconomy Score=%{y}\\u003cbr\\u003eHousing Score=%{marker.size}\\u003cextra\\u003e\\u003c\\u002fextra\\u003e\",\"hovertext\":[\"Santiago\"],\"legendgroup\":\" Chile\",\"marker\":{\"color\":\"#FF6692\",\"size\":[8.3815],\"sizemode\":\"area\",\"sizeref\":0.044444444444444446,\"symbol\":\"circle\"},\"mode\":\"markers\",\"name\":\" Chile\",\"orientation\":\"v\",\"showlegend\":true,\"x\":[7.237],\"xaxis\":\"x\",\"y\":[3.725],\"yaxis\":\"y\",\"type\":\"scatter\"},{\"hovertemplate\":\"\\u003cb\\u003e%{hovertext}\\u003c\\u002fb\\u003e\\u003cbr\\u003e\\u003cbr\\u003eua_country= Dominican Republic\\u003cbr\\u003eCost of Living=%{x}\\u003cbr\\u003eEconomy Score=%{y}\\u003cbr\\u003eHousing Score=%{marker.size}\\u003cextra\\u003e\\u003c\\u002fextra\\u003e\",\"hovertext\":[\"Santo Domingo\"],\"legendgroup\":\" Dominican Republic\",\"marker\":{\"color\":\"#B6E880\",\"size\":[9.289],\"sizemode\":\"area\",\"sizeref\":0.044444444444444446,\"symbol\":\"circle\"},\"mode\":\"markers\",\"name\":\" Dominican Republic\",\"orientation\":\"v\",\"showlegend\":true,\"x\":[8.076000000000002],\"xaxis\":\"x\",\"y\":[6.1135],\"yaxis\":\"y\",\"type\":\"scatter\"},{\"hovertemplate\":\"\\u003cb\\u003e%{hovertext}\\u003c\\u002fb\\u003e\\u003cbr\\u003e\\u003cbr\\u003eua_country= Bosnia and Herzegovina\\u003cbr\\u003eCost of Living=%{x}\\u003cbr\\u003eEconomy Score=%{y}\\u003cbr\\u003eHousing Score=%{marker.size}\\u003cextra\\u003e\\u003c\\u002fextra\\u003e\",\"hovertext\":[\"Sarajevo\"],\"legendgroup\":\" Bosnia and Herzegovina\",\"marker\":{\"color\":\"#FF97FF\",\"size\":[9.6925],\"sizemode\":\"area\",\"sizeref\":0.044444444444444446,\"symbol\":\"circle\"},\"mode\":\"markers\",\"name\":\" Bosnia and Herzegovina\",\"orientation\":\"v\",\"showlegend\":true,\"x\":[8.659],\"xaxis\":\"x\",\"y\":[2.088],\"yaxis\":\"y\",\"type\":\"scatter\"},{\"hovertemplate\":\"\\u003cb\\u003e%{hovertext}\\u003c\\u002fb\\u003e\\u003cbr\\u003e\\u003cbr\\u003eua_country= Washington\\u003cbr\\u003eCost of Living=%{x}\\u003cbr\\u003eEconomy Score=%{y}\\u003cbr\\u003eHousing Score=%{marker.size}\\u003cextra\\u003e\\u003c\\u002fextra\\u003e\",\"hovertext\":[\"Seattle\"],\"legendgroup\":\" Washington\",\"marker\":{\"color\":\"#FECB52\",\"size\":[2.291],\"sizemode\":\"area\",\"sizeref\":0.044444444444444446,\"symbol\":\"circle\"},\"mode\":\"markers\",\"name\":\" Washington\",\"orientation\":\"v\",\"showlegend\":true,\"x\":[3.79],\"xaxis\":\"x\",\"y\":[6.5145],\"yaxis\":\"y\",\"type\":\"scatter\"},{\"hovertemplate\":\"\\u003cb\\u003e%{hovertext}\\u003c\\u002fb\\u003e\\u003cbr\\u003e\\u003cbr\\u003eua_country= South Korea\\u003cbr\\u003eCost of Living=%{x}\\u003cbr\\u003eEconomy Score=%{y}\\u003cbr\\u003eHousing Score=%{marker.size}\\u003cextra\\u003e\\u003c\\u002fextra\\u003e\",\"hovertext\":[\"Seoul\"],\"legendgroup\":\" South Korea\",\"marker\":{\"color\":\"#636efa\",\"size\":[6.142500000000001],\"sizemode\":\"area\",\"sizeref\":0.044444444444444446,\"symbol\":\"circle\"},\"mode\":\"markers\",\"name\":\" South Korea\",\"orientation\":\"v\",\"showlegend\":true,\"x\":[3.698000000000001],\"xaxis\":\"x\",\"y\":[5.561],\"yaxis\":\"y\",\"type\":\"scatter\"},{\"hovertemplate\":\"\\u003cb\\u003e%{hovertext}\\u003c\\u002fb\\u003e\\u003cbr\\u003e\\u003cbr\\u003eua_country= Singapore\\u003cbr\\u003eCost of Living=%{x}\\u003cbr\\u003eEconomy Score=%{y}\\u003cbr\\u003eHousing Score=%{marker.size}\\u003cextra\\u003e\\u003c\\u002fextra\\u003e\",\"hovertext\":[\"Singapore\"],\"legendgroup\":\" Singapore\",\"marker\":{\"color\":\"#EF553B\",\"size\":[1.745],\"sizemode\":\"area\",\"sizeref\":0.044444444444444446,\"symbol\":\"circle\"},\"mode\":\"markers\",\"name\":\" Singapore\",\"orientation\":\"v\",\"showlegend\":true,\"x\":[3.4890000000000003],\"xaxis\":\"x\",\"y\":[7.478500000000001],\"yaxis\":\"y\",\"type\":\"scatter\"},{\"hovertemplate\":\"\\u003cb\\u003e%{hovertext}\\u003c\\u002fb\\u003e\\u003cbr\\u003e\\u003cbr\\u003eua_country= Macedonia\\u003cbr\\u003eCost of Living=%{x}\\u003cbr\\u003eEconomy Score=%{y}\\u003cbr\\u003eHousing Score=%{marker.size}\\u003cextra\\u003e\\u003c\\u002fextra\\u003e\",\"hovertext\":[\"Skopje\"],\"legendgroup\":\" Macedonia\",\"marker\":{\"color\":\"#00cc96\",\"size\":[9.740500000000004],\"sizemode\":\"area\",\"sizeref\":0.044444444444444446,\"symbol\":\"circle\"},\"mode\":\"markers\",\"name\":\" Macedonia\",\"orientation\":\"v\",\"showlegend\":true,\"x\":[9.11],\"xaxis\":\"x\",\"y\":[4.1225000000000005],\"yaxis\":\"y\",\"type\":\"scatter\"},{\"hovertemplate\":\"\\u003cb\\u003e%{hovertext}\\u003c\\u002fb\\u003e\\u003cbr\\u003e\\u003cbr\\u003eua_country= Bulgaria\\u003cbr\\u003eCost of Living=%{x}\\u003cbr\\u003eEconomy Score=%{y}\\u003cbr\\u003eHousing Score=%{marker.size}\\u003cextra\\u003e\\u003c\\u002fextra\\u003e\",\"hovertext\":[\"Sofia\"],\"legendgroup\":\" Bulgaria\",\"marker\":{\"color\":\"#ab63fa\",\"size\":[9.306],\"sizemode\":\"area\",\"sizeref\":0.044444444444444446,\"symbol\":\"circle\"},\"mode\":\"markers\",\"name\":\" Bulgaria\",\"orientation\":\"v\",\"showlegend\":true,\"x\":[8.55],\"xaxis\":\"x\",\"y\":[3.2499999999999996],\"yaxis\":\"y\",\"type\":\"scatter\"},{\"hovertemplate\":\"\\u003cb\\u003e%{hovertext}\\u003c\\u002fb\\u003e\\u003cbr\\u003e\\u003cbr\\u003eua_country= Taiwan\\u003cbr\\u003eCost of Living=%{x}\\u003cbr\\u003eEconomy Score=%{y}\\u003cbr\\u003eHousing Score=%{marker.size}\\u003cextra\\u003e\\u003c\\u002fextra\\u003e\",\"hovertext\":[\"Taipei\"],\"legendgroup\":\" Taiwan\",\"marker\":{\"color\":\"#FFA15A\",\"size\":[7.977],\"sizemode\":\"area\",\"sizeref\":0.044444444444444446,\"symbol\":\"circle\"},\"mode\":\"markers\",\"name\":\" Taiwan\",\"orientation\":\"v\",\"showlegend\":true,\"x\":[5.644],\"xaxis\":\"x\",\"y\":[6.6354999999999995],\"yaxis\":\"y\",\"type\":\"scatter\"},{\"hovertemplate\":\"\\u003cb\\u003e%{hovertext}\\u003c\\u002fb\\u003e\\u003cbr\\u003e\\u003cbr\\u003eua_country= Estonia\\u003cbr\\u003eCost of Living=%{x}\\u003cbr\\u003eEconomy Score=%{y}\\u003cbr\\u003eHousing Score=%{marker.size}\\u003cextra\\u003e\\u003c\\u002fextra\\u003e\",\"hovertext\":[\"Tallinn\",\"Tartu\"],\"legendgroup\":\" Estonia\",\"marker\":{\"color\":\"#19d3f3\",\"size\":[8.376500000000002,8.961000000000002],\"sizemode\":\"area\",\"sizeref\":0.044444444444444446,\"symbol\":\"circle\"},\"mode\":\"markers\",\"name\":\" Estonia\",\"orientation\":\"v\",\"showlegend\":true,\"x\":[6.931000000000001,7.47],\"xaxis\":\"x\",\"y\":[4.1850000000000005,4.1850000000000005],\"yaxis\":\"y\",\"type\":\"scatter\"},{\"hovertemplate\":\"\\u003cb\\u003e%{hovertext}\\u003c\\u002fb\\u003e\\u003cbr\\u003e\\u003cbr\\u003eua_country= Uzbekistan\\u003cbr\\u003eCost of Living=%{x}\\u003cbr\\u003eEconomy Score=%{y}\\u003cbr\\u003eHousing Score=%{marker.size}\\u003cextra\\u003e\\u003c\\u002fextra\\u003e\",\"hovertext\":[\"Tashkent\"],\"legendgroup\":\" Uzbekistan\",\"marker\":{\"color\":\"#FF6692\",\"size\":[5.0],\"sizemode\":\"area\",\"sizeref\":0.044444444444444446,\"symbol\":\"circle\"},\"mode\":\"markers\",\"name\":\" Uzbekistan\",\"orientation\":\"v\",\"showlegend\":true,\"x\":[0.0],\"xaxis\":\"x\",\"y\":[5.5375],\"yaxis\":\"y\",\"type\":\"scatter\"},{\"hovertemplate\":\"\\u003cb\\u003e%{hovertext}\\u003c\\u002fb\\u003e\\u003cbr\\u003e\\u003cbr\\u003eua_country= Iran\\u003cbr\\u003eCost of Living=%{x}\\u003cbr\\u003eEconomy Score=%{y}\\u003cbr\\u003eHousing Score=%{marker.size}\\u003cextra\\u003e\\u003c\\u002fextra\\u003e\",\"hovertext\":[\"Tehran\"],\"legendgroup\":\" Iran\",\"marker\":{\"color\":\"#B6E880\",\"size\":[8.302999999999999],\"sizemode\":\"area\",\"sizeref\":0.044444444444444446,\"symbol\":\"circle\"},\"mode\":\"markers\",\"name\":\" Iran\",\"orientation\":\"v\",\"showlegend\":true,\"x\":[9.544],\"xaxis\":\"x\",\"y\":[3.9435],\"yaxis\":\"y\",\"type\":\"scatter\"},{\"hovertemplate\":\"\\u003cb\\u003e%{hovertext}\\u003c\\u002fb\\u003e\\u003cbr\\u003e\\u003cbr\\u003eua_country= Israel\\u003cbr\\u003eCost of Living=%{x}\\u003cbr\\u003eEconomy Score=%{y}\\u003cbr\\u003eHousing Score=%{marker.size}\\u003cextra\\u003e\\u003c\\u002fextra\\u003e\",\"hovertext\":[\"Tel Aviv\"],\"legendgroup\":\" Israel\",\"marker\":{\"color\":\"#FF97FF\",\"size\":[4.91],\"sizemode\":\"area\",\"sizeref\":0.044444444444444446,\"symbol\":\"circle\"},\"mode\":\"markers\",\"name\":\" Israel\",\"orientation\":\"v\",\"showlegend\":true,\"x\":[4.370000000000001],\"xaxis\":\"x\",\"y\":[5.0265],\"yaxis\":\"y\",\"type\":\"scatter\"},{\"hovertemplate\":\"\\u003cb\\u003e%{hovertext}\\u003c\\u002fb\\u003e\\u003cbr\\u003e\\u003cbr\\u003eua_country= Tunisia\\u003cbr\\u003eCost of Living=%{x}\\u003cbr\\u003eEconomy Score=%{y}\\u003cbr\\u003eHousing Score=%{marker.size}\\u003cextra\\u003e\\u003c\\u002fextra\\u003e\",\"hovertext\":[\"Tunis\"],\"legendgroup\":\" Tunisia\",\"marker\":{\"color\":\"#FECB52\",\"size\":[9.968],\"sizemode\":\"area\",\"sizeref\":0.044444444444444446,\"symbol\":\"circle\"},\"mode\":\"markers\",\"name\":\" Tunisia\",\"orientation\":\"v\",\"showlegend\":true,\"x\":[9.998],\"xaxis\":\"x\",\"y\":[3.0920000000000005],\"yaxis\":\"y\",\"type\":\"scatter\"},{\"hovertemplate\":\"\\u003cb\\u003e%{hovertext}\\u003c\\u002fb\\u003e\\u003cbr\\u003e\\u003cbr\\u003eua_country= Malta\\u003cbr\\u003eCost of Living=%{x}\\u003cbr\\u003eEconomy Score=%{y}\\u003cbr\\u003eHousing Score=%{marker.size}\\u003cextra\\u003e\\u003c\\u002fextra\\u003e\",\"hovertext\":[\"Valletta\"],\"legendgroup\":\" Malta\",\"marker\":{\"color\":\"#636efa\",\"size\":[3.1530000000000005],\"sizemode\":\"area\",\"sizeref\":0.044444444444444446,\"symbol\":\"circle\"},\"mode\":\"markers\",\"name\":\" Malta\",\"orientation\":\"v\",\"showlegend\":true,\"x\":[0.0],\"xaxis\":\"x\",\"y\":[5.5395],\"yaxis\":\"y\",\"type\":\"scatter\"},{\"hovertemplate\":\"\\u003cb\\u003e%{hovertext}\\u003c\\u002fb\\u003e\\u003cbr\\u003e\\u003cbr\\u003eua_country= Lithuania\\u003cbr\\u003eCost of Living=%{x}\\u003cbr\\u003eEconomy Score=%{y}\\u003cbr\\u003eHousing Score=%{marker.size}\\u003cextra\\u003e\\u003c\\u002fextra\\u003e\",\"hovertext\":[\"Vilnius\"],\"legendgroup\":\" Lithuania\",\"marker\":{\"color\":\"#EF553B\",\"size\":[8.621],\"sizemode\":\"area\",\"sizeref\":0.044444444444444446,\"symbol\":\"circle\"},\"mode\":\"markers\",\"name\":\" Lithuania\",\"orientation\":\"v\",\"showlegend\":true,\"x\":[7.576],\"xaxis\":\"x\",\"y\":[4.691],\"yaxis\":\"y\",\"type\":\"scatter\"},{\"hovertemplate\":\"\\u003cb\\u003e%{hovertext}\\u003c\\u002fb\\u003e\\u003cbr\\u003e\\u003cbr\\u003eua_country= District of Columbia\\u003cbr\\u003eCost of Living=%{x}\\u003cbr\\u003eEconomy Score=%{y}\\u003cbr\\u003eHousing Score=%{marker.size}\\u003cextra\\u003e\\u003c\\u002fextra\\u003e\",\"hovertext\":[\"Washington\"],\"legendgroup\":\" District of Columbia\",\"marker\":{\"color\":\"#00cc96\",\"size\":[1.2105],\"sizemode\":\"area\",\"sizeref\":0.044444444444444446,\"symbol\":\"circle\"},\"mode\":\"markers\",\"name\":\" District of Columbia\",\"orientation\":\"v\",\"showlegend\":true,\"x\":[3.5949999999999993],\"xaxis\":\"x\",\"y\":[6.5145],\"yaxis\":\"y\",\"type\":\"scatter\"},{\"hovertemplate\":\"\\u003cb\\u003e%{hovertext}\\u003c\\u002fb\\u003e\\u003cbr\\u003e\\u003cbr\\u003eua_country= Armenia\\u003cbr\\u003eCost of Living=%{x}\\u003cbr\\u003eEconomy Score=%{y}\\u003cbr\\u003eHousing Score=%{marker.size}\\u003cextra\\u003e\\u003c\\u002fextra\\u003e\",\"hovertext\":[\"Yerevan\"],\"legendgroup\":\" Armenia\",\"marker\":{\"color\":\"#ab63fa\",\"size\":[9.6945],\"sizemode\":\"area\",\"sizeref\":0.044444444444444446,\"symbol\":\"circle\"},\"mode\":\"markers\",\"name\":\" Armenia\",\"orientation\":\"v\",\"showlegend\":true,\"x\":[9.431],\"xaxis\":\"x\",\"y\":[3.458],\"yaxis\":\"y\",\"type\":\"scatter\"},{\"hovertemplate\":\"\\u003cb\\u003e%{hovertext}\\u003c\\u002fb\\u003e\\u003cbr\\u003e\\u003cbr\\u003eua_country= Croatia\\u003cbr\\u003eCost of Living=%{x}\\u003cbr\\u003eEconomy Score=%{y}\\u003cbr\\u003eHousing Score=%{marker.size}\\u003cextra\\u003e\\u003c\\u002fextra\\u003e\",\"hovertext\":[\"Zagreb\"],\"legendgroup\":\" Croatia\",\"marker\":{\"color\":\"#FFA15A\",\"size\":[8.91],\"sizemode\":\"area\",\"sizeref\":0.044444444444444446,\"symbol\":\"circle\"},\"mode\":\"markers\",\"name\":\" Croatia\",\"orientation\":\"v\",\"showlegend\":true,\"x\":[7.193999999999999],\"xaxis\":\"x\",\"y\":[2.2365],\"yaxis\":\"y\",\"type\":\"scatter\"}],                        {\"template\":{\"data\":{\"histogram2dcontour\":[{\"type\":\"histogram2dcontour\",\"colorbar\":{\"outlinewidth\":0,\"ticks\":\"\"},\"colorscale\":[[0.0,\"#0d0887\"],[0.1111111111111111,\"#46039f\"],[0.2222222222222222,\"#7201a8\"],[0.3333333333333333,\"#9c179e\"],[0.4444444444444444,\"#bd3786\"],[0.5555555555555556,\"#d8576b\"],[0.6666666666666666,\"#ed7953\"],[0.7777777777777778,\"#fb9f3a\"],[0.8888888888888888,\"#fdca26\"],[1.0,\"#f0f921\"]]}],\"choropleth\":[{\"type\":\"choropleth\",\"colorbar\":{\"outlinewidth\":0,\"ticks\":\"\"}}],\"histogram2d\":[{\"type\":\"histogram2d\",\"colorbar\":{\"outlinewidth\":0,\"ticks\":\"\"},\"colorscale\":[[0.0,\"#0d0887\"],[0.1111111111111111,\"#46039f\"],[0.2222222222222222,\"#7201a8\"],[0.3333333333333333,\"#9c179e\"],[0.4444444444444444,\"#bd3786\"],[0.5555555555555556,\"#d8576b\"],[0.6666666666666666,\"#ed7953\"],[0.7777777777777778,\"#fb9f3a\"],[0.8888888888888888,\"#fdca26\"],[1.0,\"#f0f921\"]]}],\"heatmap\":[{\"type\":\"heatmap\",\"colorbar\":{\"outlinewidth\":0,\"ticks\":\"\"},\"colorscale\":[[0.0,\"#0d0887\"],[0.1111111111111111,\"#46039f\"],[0.2222222222222222,\"#7201a8\"],[0.3333333333333333,\"#9c179e\"],[0.4444444444444444,\"#bd3786\"],[0.5555555555555556,\"#d8576b\"],[0.6666666666666666,\"#ed7953\"],[0.7777777777777778,\"#fb9f3a\"],[0.8888888888888888,\"#fdca26\"],[1.0,\"#f0f921\"]]}],\"heatmapgl\":[{\"type\":\"heatmapgl\",\"colorbar\":{\"outlinewidth\":0,\"ticks\":\"\"},\"colorscale\":[[0.0,\"#0d0887\"],[0.1111111111111111,\"#46039f\"],[0.2222222222222222,\"#7201a8\"],[0.3333333333333333,\"#9c179e\"],[0.4444444444444444,\"#bd3786\"],[0.5555555555555556,\"#d8576b\"],[0.6666666666666666,\"#ed7953\"],[0.7777777777777778,\"#fb9f3a\"],[0.8888888888888888,\"#fdca26\"],[1.0,\"#f0f921\"]]}],\"contourcarpet\":[{\"type\":\"contourcarpet\",\"colorbar\":{\"outlinewidth\":0,\"ticks\":\"\"}}],\"contour\":[{\"type\":\"contour\",\"colorbar\":{\"outlinewidth\":0,\"ticks\":\"\"},\"colorscale\":[[0.0,\"#0d0887\"],[0.1111111111111111,\"#46039f\"],[0.2222222222222222,\"#7201a8\"],[0.3333333333333333,\"#9c179e\"],[0.4444444444444444,\"#bd3786\"],[0.5555555555555556,\"#d8576b\"],[0.6666666666666666,\"#ed7953\"],[0.7777777777777778,\"#fb9f3a\"],[0.8888888888888888,\"#fdca26\"],[1.0,\"#f0f921\"]]}],\"surface\":[{\"type\":\"surface\",\"colorbar\":{\"outlinewidth\":0,\"ticks\":\"\"},\"colorscale\":[[0.0,\"#0d0887\"],[0.1111111111111111,\"#46039f\"],[0.2222222222222222,\"#7201a8\"],[0.3333333333333333,\"#9c179e\"],[0.4444444444444444,\"#bd3786\"],[0.5555555555555556,\"#d8576b\"],[0.6666666666666666,\"#ed7953\"],[0.7777777777777778,\"#fb9f3a\"],[0.8888888888888888,\"#fdca26\"],[1.0,\"#f0f921\"]]}],\"mesh3d\":[{\"type\":\"mesh3d\",\"colorbar\":{\"outlinewidth\":0,\"ticks\":\"\"}}],\"scatter\":[{\"fillpattern\":{\"fillmode\":\"overlay\",\"size\":10,\"solidity\":0.2},\"type\":\"scatter\"}],\"parcoords\":[{\"type\":\"parcoords\",\"line\":{\"colorbar\":{\"outlinewidth\":0,\"ticks\":\"\"}}}],\"scatterpolargl\":[{\"type\":\"scatterpolargl\",\"marker\":{\"colorbar\":{\"outlinewidth\":0,\"ticks\":\"\"}}}],\"bar\":[{\"error_x\":{\"color\":\"#2a3f5f\"},\"error_y\":{\"color\":\"#2a3f5f\"},\"marker\":{\"line\":{\"color\":\"#E5ECF6\",\"width\":0.5},\"pattern\":{\"fillmode\":\"overlay\",\"size\":10,\"solidity\":0.2}},\"type\":\"bar\"}],\"scattergeo\":[{\"type\":\"scattergeo\",\"marker\":{\"colorbar\":{\"outlinewidth\":0,\"ticks\":\"\"}}}],\"scatterpolar\":[{\"type\":\"scatterpolar\",\"marker\":{\"colorbar\":{\"outlinewidth\":0,\"ticks\":\"\"}}}],\"histogram\":[{\"marker\":{\"pattern\":{\"fillmode\":\"overlay\",\"size\":10,\"solidity\":0.2}},\"type\":\"histogram\"}],\"scattergl\":[{\"type\":\"scattergl\",\"marker\":{\"colorbar\":{\"outlinewidth\":0,\"ticks\":\"\"}}}],\"scatter3d\":[{\"type\":\"scatter3d\",\"line\":{\"colorbar\":{\"outlinewidth\":0,\"ticks\":\"\"}},\"marker\":{\"colorbar\":{\"outlinewidth\":0,\"ticks\":\"\"}}}],\"scattermapbox\":[{\"type\":\"scattermapbox\",\"marker\":{\"colorbar\":{\"outlinewidth\":0,\"ticks\":\"\"}}}],\"scatterternary\":[{\"type\":\"scatterternary\",\"marker\":{\"colorbar\":{\"outlinewidth\":0,\"ticks\":\"\"}}}],\"scattercarpet\":[{\"type\":\"scattercarpet\",\"marker\":{\"colorbar\":{\"outlinewidth\":0,\"ticks\":\"\"}}}],\"carpet\":[{\"aaxis\":{\"endlinecolor\":\"#2a3f5f\",\"gridcolor\":\"white\",\"linecolor\":\"white\",\"minorgridcolor\":\"white\",\"startlinecolor\":\"#2a3f5f\"},\"baxis\":{\"endlinecolor\":\"#2a3f5f\",\"gridcolor\":\"white\",\"linecolor\":\"white\",\"minorgridcolor\":\"white\",\"startlinecolor\":\"#2a3f5f\"},\"type\":\"carpet\"}],\"table\":[{\"cells\":{\"fill\":{\"color\":\"#EBF0F8\"},\"line\":{\"color\":\"white\"}},\"header\":{\"fill\":{\"color\":\"#C8D4E3\"},\"line\":{\"color\":\"white\"}},\"type\":\"table\"}],\"barpolar\":[{\"marker\":{\"line\":{\"color\":\"#E5ECF6\",\"width\":0.5},\"pattern\":{\"fillmode\":\"overlay\",\"size\":10,\"solidity\":0.2}},\"type\":\"barpolar\"}],\"pie\":[{\"automargin\":true,\"type\":\"pie\"}]},\"layout\":{\"autotypenumbers\":\"strict\",\"colorway\":[\"#636efa\",\"#EF553B\",\"#00cc96\",\"#ab63fa\",\"#FFA15A\",\"#19d3f3\",\"#FF6692\",\"#B6E880\",\"#FF97FF\",\"#FECB52\"],\"font\":{\"color\":\"#2a3f5f\"},\"hovermode\":\"closest\",\"hoverlabel\":{\"align\":\"left\"},\"paper_bgcolor\":\"white\",\"plot_bgcolor\":\"#E5ECF6\",\"polar\":{\"bgcolor\":\"#E5ECF6\",\"angularaxis\":{\"gridcolor\":\"white\",\"linecolor\":\"white\",\"ticks\":\"\"},\"radialaxis\":{\"gridcolor\":\"white\",\"linecolor\":\"white\",\"ticks\":\"\"}},\"ternary\":{\"bgcolor\":\"#E5ECF6\",\"aaxis\":{\"gridcolor\":\"white\",\"linecolor\":\"white\",\"ticks\":\"\"},\"baxis\":{\"gridcolor\":\"white\",\"linecolor\":\"white\",\"ticks\":\"\"},\"caxis\":{\"gridcolor\":\"white\",\"linecolor\":\"white\",\"ticks\":\"\"}},\"coloraxis\":{\"colorbar\":{\"outlinewidth\":0,\"ticks\":\"\"}},\"colorscale\":{\"sequential\":[[0.0,\"#0d0887\"],[0.1111111111111111,\"#46039f\"],[0.2222222222222222,\"#7201a8\"],[0.3333333333333333,\"#9c179e\"],[0.4444444444444444,\"#bd3786\"],[0.5555555555555556,\"#d8576b\"],[0.6666666666666666,\"#ed7953\"],[0.7777777777777778,\"#fb9f3a\"],[0.8888888888888888,\"#fdca26\"],[1.0,\"#f0f921\"]],\"sequentialminus\":[[0.0,\"#0d0887\"],[0.1111111111111111,\"#46039f\"],[0.2222222222222222,\"#7201a8\"],[0.3333333333333333,\"#9c179e\"],[0.4444444444444444,\"#bd3786\"],[0.5555555555555556,\"#d8576b\"],[0.6666666666666666,\"#ed7953\"],[0.7777777777777778,\"#fb9f3a\"],[0.8888888888888888,\"#fdca26\"],[1.0,\"#f0f921\"]],\"diverging\":[[0,\"#8e0152\"],[0.1,\"#c51b7d\"],[0.2,\"#de77ae\"],[0.3,\"#f1b6da\"],[0.4,\"#fde0ef\"],[0.5,\"#f7f7f7\"],[0.6,\"#e6f5d0\"],[0.7,\"#b8e186\"],[0.8,\"#7fbc41\"],[0.9,\"#4d9221\"],[1,\"#276419\"]]},\"xaxis\":{\"gridcolor\":\"white\",\"linecolor\":\"white\",\"ticks\":\"\",\"title\":{\"standoff\":15},\"zerolinecolor\":\"white\",\"automargin\":true,\"zerolinewidth\":2},\"yaxis\":{\"gridcolor\":\"white\",\"linecolor\":\"white\",\"ticks\":\"\",\"title\":{\"standoff\":15},\"zerolinecolor\":\"white\",\"automargin\":true,\"zerolinewidth\":2},\"scene\":{\"xaxis\":{\"backgroundcolor\":\"#E5ECF6\",\"gridcolor\":\"white\",\"linecolor\":\"white\",\"showbackground\":true,\"ticks\":\"\",\"zerolinecolor\":\"white\",\"gridwidth\":2},\"yaxis\":{\"backgroundcolor\":\"#E5ECF6\",\"gridcolor\":\"white\",\"linecolor\":\"white\",\"showbackground\":true,\"ticks\":\"\",\"zerolinecolor\":\"white\",\"gridwidth\":2},\"zaxis\":{\"backgroundcolor\":\"#E5ECF6\",\"gridcolor\":\"white\",\"linecolor\":\"white\",\"showbackground\":true,\"ticks\":\"\",\"zerolinecolor\":\"white\",\"gridwidth\":2}},\"shapedefaults\":{\"line\":{\"color\":\"#2a3f5f\"}},\"annotationdefaults\":{\"arrowcolor\":\"#2a3f5f\",\"arrowhead\":0,\"arrowwidth\":1},\"geo\":{\"bgcolor\":\"white\",\"landcolor\":\"#E5ECF6\",\"subunitcolor\":\"white\",\"showland\":true,\"showlakes\":true,\"lakecolor\":\"white\"},\"title\":{\"x\":0.05},\"mapbox\":{\"style\":\"light\"}}},\"xaxis\":{\"anchor\":\"y\",\"domain\":[0.0,1.0],\"title\":{\"text\":\"Cost of Living\"}},\"yaxis\":{\"anchor\":\"x\",\"domain\":[0.0,1.0],\"title\":{\"text\":\"Economy Score\"}},\"legend\":{\"title\":{\"text\":\"ua_country\"},\"tracegroupgap\":0,\"itemsizing\":\"constant\"},\"title\":{\"text\":\"Cost of Living vs Economy with Housing Scores\"}},                        {\"responsive\": true}                    ).then(function(){\n",
       "                            \n",
       "var gd = document.getElementById('751b478a-9678-4ff7-925e-e4fbd4e8183f');\n",
       "var x = new MutationObserver(function (mutations, observer) {{\n",
       "        var display = window.getComputedStyle(gd).display;\n",
       "        if (!display || display === 'none') {{\n",
       "            console.log([gd, 'removed!']);\n",
       "            Plotly.purge(gd);\n",
       "            observer.disconnect();\n",
       "        }}\n",
       "}});\n",
       "\n",
       "// Listen for the removal of the full notebook cells\n",
       "var notebookContainer = gd.closest('#notebook-container');\n",
       "if (notebookContainer) {{\n",
       "    x.observe(notebookContainer, {childList: true});\n",
       "}}\n",
       "\n",
       "// Listen for the clearing of the current output cell\n",
       "var outputEl = gd.closest('.output');\n",
       "if (outputEl) {{\n",
       "    x.observe(outputEl, {childList: true});\n",
       "}}\n",
       "\n",
       "                        })                };                });            </script>        </div>"
      ]
     },
     "metadata": {},
     "output_type": "display_data"
    }
   ],
   "source": [
    "fig_bubble = px.scatter(\n",
    "    ua_scores_df,\n",
    "    x='cost_of_living',\n",
    "    y='economy',\n",
    "    size='housing',\n",
    "    color='ua_country',\n",
    "    hover_name='ua_name',\n",
    "    title='Cost of Living vs Economy with Housing Scores',\n",
    "    labels={\n",
    "        'cost_of_living': 'Cost of Living',\n",
    "        'economy': 'Economy Score',\n",
    "        'housing': 'Housing Score'\n",
    "    },\n",
    "    size_max=15\n",
    ")\n",
    "\n",
    "fig_bubble.show()"
   ]
  },
  {
   "cell_type": "markdown",
   "metadata": {},
   "source": [
    "## grafiek 4 (Kosten van levensonderhoud vs woningprijzen)\n",
    "De vierde grafiek toont dat steden met een lagere kosten van levensonderhoud niet altijd een zwakkere economie hebben. Bijvoorbeeld, Amsterdam heeft een relatief lage kosten van levensonderhoud, maar scoort hoog op economische sterkte. Dit kan betekenen dat de economische kansen in deze steden compenseren voor de hoge woonlasten."
   ]
  },
  {
   "cell_type": "code",
   "execution_count": 23,
   "metadata": {},
   "outputs": [
    {
     "data": {
      "application/vnd.plotly.v1+json": {
       "config": {
        "plotlyServerURL": "https://plot.ly"
       },
       "data": [
        {
         "fill": "toself",
         "name": "Buenos Aires",
         "r": [
          6.0395,
          6.978999999999998,
          1.422
         ],
         "theta": [
          "Safety",
          "Healthcare",
          "Education"
         ],
         "type": "scatterpolar"
        },
        {
         "fill": "toself",
         "name": "Cape Town",
         "r": [
          5.327999999999999,
          4.343,
          0.8945000000000001
         ],
         "theta": [
          "Safety",
          "Healthcare",
          "Education"
         ],
         "type": "scatterpolar"
        },
        {
         "fill": "toself",
         "name": "New York",
         "r": [
          7.022,
          6.105333333333332,
          8.0935
         ],
         "theta": [
          "Safety",
          "Healthcare",
          "Education"
         ],
         "type": "scatterpolar"
        }
       ],
       "layout": {
        "polar": {
         "radialaxis": {
          "visible": true
         }
        },
        "template": {
         "data": {
          "bar": [
           {
            "error_x": {
             "color": "#2a3f5f"
            },
            "error_y": {
             "color": "#2a3f5f"
            },
            "marker": {
             "line": {
              "color": "#E5ECF6",
              "width": 0.5
             },
             "pattern": {
              "fillmode": "overlay",
              "size": 10,
              "solidity": 0.2
             }
            },
            "type": "bar"
           }
          ],
          "barpolar": [
           {
            "marker": {
             "line": {
              "color": "#E5ECF6",
              "width": 0.5
             },
             "pattern": {
              "fillmode": "overlay",
              "size": 10,
              "solidity": 0.2
             }
            },
            "type": "barpolar"
           }
          ],
          "carpet": [
           {
            "aaxis": {
             "endlinecolor": "#2a3f5f",
             "gridcolor": "white",
             "linecolor": "white",
             "minorgridcolor": "white",
             "startlinecolor": "#2a3f5f"
            },
            "baxis": {
             "endlinecolor": "#2a3f5f",
             "gridcolor": "white",
             "linecolor": "white",
             "minorgridcolor": "white",
             "startlinecolor": "#2a3f5f"
            },
            "type": "carpet"
           }
          ],
          "choropleth": [
           {
            "colorbar": {
             "outlinewidth": 0,
             "ticks": ""
            },
            "type": "choropleth"
           }
          ],
          "contour": [
           {
            "colorbar": {
             "outlinewidth": 0,
             "ticks": ""
            },
            "colorscale": [
             [
              0,
              "#0d0887"
             ],
             [
              0.1111111111111111,
              "#46039f"
             ],
             [
              0.2222222222222222,
              "#7201a8"
             ],
             [
              0.3333333333333333,
              "#9c179e"
             ],
             [
              0.4444444444444444,
              "#bd3786"
             ],
             [
              0.5555555555555556,
              "#d8576b"
             ],
             [
              0.6666666666666666,
              "#ed7953"
             ],
             [
              0.7777777777777778,
              "#fb9f3a"
             ],
             [
              0.8888888888888888,
              "#fdca26"
             ],
             [
              1,
              "#f0f921"
             ]
            ],
            "type": "contour"
           }
          ],
          "contourcarpet": [
           {
            "colorbar": {
             "outlinewidth": 0,
             "ticks": ""
            },
            "type": "contourcarpet"
           }
          ],
          "heatmap": [
           {
            "colorbar": {
             "outlinewidth": 0,
             "ticks": ""
            },
            "colorscale": [
             [
              0,
              "#0d0887"
             ],
             [
              0.1111111111111111,
              "#46039f"
             ],
             [
              0.2222222222222222,
              "#7201a8"
             ],
             [
              0.3333333333333333,
              "#9c179e"
             ],
             [
              0.4444444444444444,
              "#bd3786"
             ],
             [
              0.5555555555555556,
              "#d8576b"
             ],
             [
              0.6666666666666666,
              "#ed7953"
             ],
             [
              0.7777777777777778,
              "#fb9f3a"
             ],
             [
              0.8888888888888888,
              "#fdca26"
             ],
             [
              1,
              "#f0f921"
             ]
            ],
            "type": "heatmap"
           }
          ],
          "heatmapgl": [
           {
            "colorbar": {
             "outlinewidth": 0,
             "ticks": ""
            },
            "colorscale": [
             [
              0,
              "#0d0887"
             ],
             [
              0.1111111111111111,
              "#46039f"
             ],
             [
              0.2222222222222222,
              "#7201a8"
             ],
             [
              0.3333333333333333,
              "#9c179e"
             ],
             [
              0.4444444444444444,
              "#bd3786"
             ],
             [
              0.5555555555555556,
              "#d8576b"
             ],
             [
              0.6666666666666666,
              "#ed7953"
             ],
             [
              0.7777777777777778,
              "#fb9f3a"
             ],
             [
              0.8888888888888888,
              "#fdca26"
             ],
             [
              1,
              "#f0f921"
             ]
            ],
            "type": "heatmapgl"
           }
          ],
          "histogram": [
           {
            "marker": {
             "pattern": {
              "fillmode": "overlay",
              "size": 10,
              "solidity": 0.2
             }
            },
            "type": "histogram"
           }
          ],
          "histogram2d": [
           {
            "colorbar": {
             "outlinewidth": 0,
             "ticks": ""
            },
            "colorscale": [
             [
              0,
              "#0d0887"
             ],
             [
              0.1111111111111111,
              "#46039f"
             ],
             [
              0.2222222222222222,
              "#7201a8"
             ],
             [
              0.3333333333333333,
              "#9c179e"
             ],
             [
              0.4444444444444444,
              "#bd3786"
             ],
             [
              0.5555555555555556,
              "#d8576b"
             ],
             [
              0.6666666666666666,
              "#ed7953"
             ],
             [
              0.7777777777777778,
              "#fb9f3a"
             ],
             [
              0.8888888888888888,
              "#fdca26"
             ],
             [
              1,
              "#f0f921"
             ]
            ],
            "type": "histogram2d"
           }
          ],
          "histogram2dcontour": [
           {
            "colorbar": {
             "outlinewidth": 0,
             "ticks": ""
            },
            "colorscale": [
             [
              0,
              "#0d0887"
             ],
             [
              0.1111111111111111,
              "#46039f"
             ],
             [
              0.2222222222222222,
              "#7201a8"
             ],
             [
              0.3333333333333333,
              "#9c179e"
             ],
             [
              0.4444444444444444,
              "#bd3786"
             ],
             [
              0.5555555555555556,
              "#d8576b"
             ],
             [
              0.6666666666666666,
              "#ed7953"
             ],
             [
              0.7777777777777778,
              "#fb9f3a"
             ],
             [
              0.8888888888888888,
              "#fdca26"
             ],
             [
              1,
              "#f0f921"
             ]
            ],
            "type": "histogram2dcontour"
           }
          ],
          "mesh3d": [
           {
            "colorbar": {
             "outlinewidth": 0,
             "ticks": ""
            },
            "type": "mesh3d"
           }
          ],
          "parcoords": [
           {
            "line": {
             "colorbar": {
              "outlinewidth": 0,
              "ticks": ""
             }
            },
            "type": "parcoords"
           }
          ],
          "pie": [
           {
            "automargin": true,
            "type": "pie"
           }
          ],
          "scatter": [
           {
            "fillpattern": {
             "fillmode": "overlay",
             "size": 10,
             "solidity": 0.2
            },
            "type": "scatter"
           }
          ],
          "scatter3d": [
           {
            "line": {
             "colorbar": {
              "outlinewidth": 0,
              "ticks": ""
             }
            },
            "marker": {
             "colorbar": {
              "outlinewidth": 0,
              "ticks": ""
             }
            },
            "type": "scatter3d"
           }
          ],
          "scattercarpet": [
           {
            "marker": {
             "colorbar": {
              "outlinewidth": 0,
              "ticks": ""
             }
            },
            "type": "scattercarpet"
           }
          ],
          "scattergeo": [
           {
            "marker": {
             "colorbar": {
              "outlinewidth": 0,
              "ticks": ""
             }
            },
            "type": "scattergeo"
           }
          ],
          "scattergl": [
           {
            "marker": {
             "colorbar": {
              "outlinewidth": 0,
              "ticks": ""
             }
            },
            "type": "scattergl"
           }
          ],
          "scattermapbox": [
           {
            "marker": {
             "colorbar": {
              "outlinewidth": 0,
              "ticks": ""
             }
            },
            "type": "scattermapbox"
           }
          ],
          "scatterpolar": [
           {
            "marker": {
             "colorbar": {
              "outlinewidth": 0,
              "ticks": ""
             }
            },
            "type": "scatterpolar"
           }
          ],
          "scatterpolargl": [
           {
            "marker": {
             "colorbar": {
              "outlinewidth": 0,
              "ticks": ""
             }
            },
            "type": "scatterpolargl"
           }
          ],
          "scatterternary": [
           {
            "marker": {
             "colorbar": {
              "outlinewidth": 0,
              "ticks": ""
             }
            },
            "type": "scatterternary"
           }
          ],
          "surface": [
           {
            "colorbar": {
             "outlinewidth": 0,
             "ticks": ""
            },
            "colorscale": [
             [
              0,
              "#0d0887"
             ],
             [
              0.1111111111111111,
              "#46039f"
             ],
             [
              0.2222222222222222,
              "#7201a8"
             ],
             [
              0.3333333333333333,
              "#9c179e"
             ],
             [
              0.4444444444444444,
              "#bd3786"
             ],
             [
              0.5555555555555556,
              "#d8576b"
             ],
             [
              0.6666666666666666,
              "#ed7953"
             ],
             [
              0.7777777777777778,
              "#fb9f3a"
             ],
             [
              0.8888888888888888,
              "#fdca26"
             ],
             [
              1,
              "#f0f921"
             ]
            ],
            "type": "surface"
           }
          ],
          "table": [
           {
            "cells": {
             "fill": {
              "color": "#EBF0F8"
             },
             "line": {
              "color": "white"
             }
            },
            "header": {
             "fill": {
              "color": "#C8D4E3"
             },
             "line": {
              "color": "white"
             }
            },
            "type": "table"
           }
          ]
         },
         "layout": {
          "annotationdefaults": {
           "arrowcolor": "#2a3f5f",
           "arrowhead": 0,
           "arrowwidth": 1
          },
          "autotypenumbers": "strict",
          "coloraxis": {
           "colorbar": {
            "outlinewidth": 0,
            "ticks": ""
           }
          },
          "colorscale": {
           "diverging": [
            [
             0,
             "#8e0152"
            ],
            [
             0.1,
             "#c51b7d"
            ],
            [
             0.2,
             "#de77ae"
            ],
            [
             0.3,
             "#f1b6da"
            ],
            [
             0.4,
             "#fde0ef"
            ],
            [
             0.5,
             "#f7f7f7"
            ],
            [
             0.6,
             "#e6f5d0"
            ],
            [
             0.7,
             "#b8e186"
            ],
            [
             0.8,
             "#7fbc41"
            ],
            [
             0.9,
             "#4d9221"
            ],
            [
             1,
             "#276419"
            ]
           ],
           "sequential": [
            [
             0,
             "#0d0887"
            ],
            [
             0.1111111111111111,
             "#46039f"
            ],
            [
             0.2222222222222222,
             "#7201a8"
            ],
            [
             0.3333333333333333,
             "#9c179e"
            ],
            [
             0.4444444444444444,
             "#bd3786"
            ],
            [
             0.5555555555555556,
             "#d8576b"
            ],
            [
             0.6666666666666666,
             "#ed7953"
            ],
            [
             0.7777777777777778,
             "#fb9f3a"
            ],
            [
             0.8888888888888888,
             "#fdca26"
            ],
            [
             1,
             "#f0f921"
            ]
           ],
           "sequentialminus": [
            [
             0,
             "#0d0887"
            ],
            [
             0.1111111111111111,
             "#46039f"
            ],
            [
             0.2222222222222222,
             "#7201a8"
            ],
            [
             0.3333333333333333,
             "#9c179e"
            ],
            [
             0.4444444444444444,
             "#bd3786"
            ],
            [
             0.5555555555555556,
             "#d8576b"
            ],
            [
             0.6666666666666666,
             "#ed7953"
            ],
            [
             0.7777777777777778,
             "#fb9f3a"
            ],
            [
             0.8888888888888888,
             "#fdca26"
            ],
            [
             1,
             "#f0f921"
            ]
           ]
          },
          "colorway": [
           "#636efa",
           "#EF553B",
           "#00cc96",
           "#ab63fa",
           "#FFA15A",
           "#19d3f3",
           "#FF6692",
           "#B6E880",
           "#FF97FF",
           "#FECB52"
          ],
          "font": {
           "color": "#2a3f5f"
          },
          "geo": {
           "bgcolor": "white",
           "lakecolor": "white",
           "landcolor": "#E5ECF6",
           "showlakes": true,
           "showland": true,
           "subunitcolor": "white"
          },
          "hoverlabel": {
           "align": "left"
          },
          "hovermode": "closest",
          "mapbox": {
           "style": "light"
          },
          "paper_bgcolor": "white",
          "plot_bgcolor": "#E5ECF6",
          "polar": {
           "angularaxis": {
            "gridcolor": "white",
            "linecolor": "white",
            "ticks": ""
           },
           "bgcolor": "#E5ECF6",
           "radialaxis": {
            "gridcolor": "white",
            "linecolor": "white",
            "ticks": ""
           }
          },
          "scene": {
           "xaxis": {
            "backgroundcolor": "#E5ECF6",
            "gridcolor": "white",
            "gridwidth": 2,
            "linecolor": "white",
            "showbackground": true,
            "ticks": "",
            "zerolinecolor": "white"
           },
           "yaxis": {
            "backgroundcolor": "#E5ECF6",
            "gridcolor": "white",
            "gridwidth": 2,
            "linecolor": "white",
            "showbackground": true,
            "ticks": "",
            "zerolinecolor": "white"
           },
           "zaxis": {
            "backgroundcolor": "#E5ECF6",
            "gridcolor": "white",
            "gridwidth": 2,
            "linecolor": "white",
            "showbackground": true,
            "ticks": "",
            "zerolinecolor": "white"
           }
          },
          "shapedefaults": {
           "line": {
            "color": "#2a3f5f"
           }
          },
          "ternary": {
           "aaxis": {
            "gridcolor": "white",
            "linecolor": "white",
            "ticks": ""
           },
           "baxis": {
            "gridcolor": "white",
            "linecolor": "white",
            "ticks": ""
           },
           "bgcolor": "#E5ECF6",
           "caxis": {
            "gridcolor": "white",
            "linecolor": "white",
            "ticks": ""
           }
          },
          "title": {
           "x": 0.05
          },
          "xaxis": {
           "automargin": true,
           "gridcolor": "white",
           "linecolor": "white",
           "ticks": "",
           "title": {
            "standoff": 15
           },
           "zerolinecolor": "white",
           "zerolinewidth": 2
          },
          "yaxis": {
           "automargin": true,
           "gridcolor": "white",
           "linecolor": "white",
           "ticks": "",
           "title": {
            "standoff": 15
           },
           "zerolinecolor": "white",
           "zerolinewidth": 2
          }
         }
        },
        "title": {
         "text": "Safety, Healthcare, and Education Scores"
        }
       }
      },
      "text/html": [
       "<div>                            <div id=\"9c606d8b-e20b-416f-a967-bb9c727e46b9\" class=\"plotly-graph-div\" style=\"height:525px; width:100%;\"></div>            <script type=\"text/javascript\">                require([\"plotly\"], function(Plotly) {                    window.PLOTLYENV=window.PLOTLYENV || {};                                    if (document.getElementById(\"9c606d8b-e20b-416f-a967-bb9c727e46b9\")) {                    Plotly.newPlot(                        \"9c606d8b-e20b-416f-a967-bb9c727e46b9\",                        [{\"fill\":\"toself\",\"name\":\"Buenos Aires\",\"r\":[6.0395,6.978999999999998,1.422],\"theta\":[\"Safety\",\"Healthcare\",\"Education\"],\"type\":\"scatterpolar\"},{\"fill\":\"toself\",\"name\":\"Cape Town\",\"r\":[5.327999999999999,4.343,0.8945000000000001],\"theta\":[\"Safety\",\"Healthcare\",\"Education\"],\"type\":\"scatterpolar\"},{\"fill\":\"toself\",\"name\":\"New York\",\"r\":[7.022,6.105333333333332,8.0935],\"theta\":[\"Safety\",\"Healthcare\",\"Education\"],\"type\":\"scatterpolar\"}],                        {\"template\":{\"data\":{\"histogram2dcontour\":[{\"type\":\"histogram2dcontour\",\"colorbar\":{\"outlinewidth\":0,\"ticks\":\"\"},\"colorscale\":[[0.0,\"#0d0887\"],[0.1111111111111111,\"#46039f\"],[0.2222222222222222,\"#7201a8\"],[0.3333333333333333,\"#9c179e\"],[0.4444444444444444,\"#bd3786\"],[0.5555555555555556,\"#d8576b\"],[0.6666666666666666,\"#ed7953\"],[0.7777777777777778,\"#fb9f3a\"],[0.8888888888888888,\"#fdca26\"],[1.0,\"#f0f921\"]]}],\"choropleth\":[{\"type\":\"choropleth\",\"colorbar\":{\"outlinewidth\":0,\"ticks\":\"\"}}],\"histogram2d\":[{\"type\":\"histogram2d\",\"colorbar\":{\"outlinewidth\":0,\"ticks\":\"\"},\"colorscale\":[[0.0,\"#0d0887\"],[0.1111111111111111,\"#46039f\"],[0.2222222222222222,\"#7201a8\"],[0.3333333333333333,\"#9c179e\"],[0.4444444444444444,\"#bd3786\"],[0.5555555555555556,\"#d8576b\"],[0.6666666666666666,\"#ed7953\"],[0.7777777777777778,\"#fb9f3a\"],[0.8888888888888888,\"#fdca26\"],[1.0,\"#f0f921\"]]}],\"heatmap\":[{\"type\":\"heatmap\",\"colorbar\":{\"outlinewidth\":0,\"ticks\":\"\"},\"colorscale\":[[0.0,\"#0d0887\"],[0.1111111111111111,\"#46039f\"],[0.2222222222222222,\"#7201a8\"],[0.3333333333333333,\"#9c179e\"],[0.4444444444444444,\"#bd3786\"],[0.5555555555555556,\"#d8576b\"],[0.6666666666666666,\"#ed7953\"],[0.7777777777777778,\"#fb9f3a\"],[0.8888888888888888,\"#fdca26\"],[1.0,\"#f0f921\"]]}],\"heatmapgl\":[{\"type\":\"heatmapgl\",\"colorbar\":{\"outlinewidth\":0,\"ticks\":\"\"},\"colorscale\":[[0.0,\"#0d0887\"],[0.1111111111111111,\"#46039f\"],[0.2222222222222222,\"#7201a8\"],[0.3333333333333333,\"#9c179e\"],[0.4444444444444444,\"#bd3786\"],[0.5555555555555556,\"#d8576b\"],[0.6666666666666666,\"#ed7953\"],[0.7777777777777778,\"#fb9f3a\"],[0.8888888888888888,\"#fdca26\"],[1.0,\"#f0f921\"]]}],\"contourcarpet\":[{\"type\":\"contourcarpet\",\"colorbar\":{\"outlinewidth\":0,\"ticks\":\"\"}}],\"contour\":[{\"type\":\"contour\",\"colorbar\":{\"outlinewidth\":0,\"ticks\":\"\"},\"colorscale\":[[0.0,\"#0d0887\"],[0.1111111111111111,\"#46039f\"],[0.2222222222222222,\"#7201a8\"],[0.3333333333333333,\"#9c179e\"],[0.4444444444444444,\"#bd3786\"],[0.5555555555555556,\"#d8576b\"],[0.6666666666666666,\"#ed7953\"],[0.7777777777777778,\"#fb9f3a\"],[0.8888888888888888,\"#fdca26\"],[1.0,\"#f0f921\"]]}],\"surface\":[{\"type\":\"surface\",\"colorbar\":{\"outlinewidth\":0,\"ticks\":\"\"},\"colorscale\":[[0.0,\"#0d0887\"],[0.1111111111111111,\"#46039f\"],[0.2222222222222222,\"#7201a8\"],[0.3333333333333333,\"#9c179e\"],[0.4444444444444444,\"#bd3786\"],[0.5555555555555556,\"#d8576b\"],[0.6666666666666666,\"#ed7953\"],[0.7777777777777778,\"#fb9f3a\"],[0.8888888888888888,\"#fdca26\"],[1.0,\"#f0f921\"]]}],\"mesh3d\":[{\"type\":\"mesh3d\",\"colorbar\":{\"outlinewidth\":0,\"ticks\":\"\"}}],\"scatter\":[{\"fillpattern\":{\"fillmode\":\"overlay\",\"size\":10,\"solidity\":0.2},\"type\":\"scatter\"}],\"parcoords\":[{\"type\":\"parcoords\",\"line\":{\"colorbar\":{\"outlinewidth\":0,\"ticks\":\"\"}}}],\"scatterpolargl\":[{\"type\":\"scatterpolargl\",\"marker\":{\"colorbar\":{\"outlinewidth\":0,\"ticks\":\"\"}}}],\"bar\":[{\"error_x\":{\"color\":\"#2a3f5f\"},\"error_y\":{\"color\":\"#2a3f5f\"},\"marker\":{\"line\":{\"color\":\"#E5ECF6\",\"width\":0.5},\"pattern\":{\"fillmode\":\"overlay\",\"size\":10,\"solidity\":0.2}},\"type\":\"bar\"}],\"scattergeo\":[{\"type\":\"scattergeo\",\"marker\":{\"colorbar\":{\"outlinewidth\":0,\"ticks\":\"\"}}}],\"scatterpolar\":[{\"type\":\"scatterpolar\",\"marker\":{\"colorbar\":{\"outlinewidth\":0,\"ticks\":\"\"}}}],\"histogram\":[{\"marker\":{\"pattern\":{\"fillmode\":\"overlay\",\"size\":10,\"solidity\":0.2}},\"type\":\"histogram\"}],\"scattergl\":[{\"type\":\"scattergl\",\"marker\":{\"colorbar\":{\"outlinewidth\":0,\"ticks\":\"\"}}}],\"scatter3d\":[{\"type\":\"scatter3d\",\"line\":{\"colorbar\":{\"outlinewidth\":0,\"ticks\":\"\"}},\"marker\":{\"colorbar\":{\"outlinewidth\":0,\"ticks\":\"\"}}}],\"scattermapbox\":[{\"type\":\"scattermapbox\",\"marker\":{\"colorbar\":{\"outlinewidth\":0,\"ticks\":\"\"}}}],\"scatterternary\":[{\"type\":\"scatterternary\",\"marker\":{\"colorbar\":{\"outlinewidth\":0,\"ticks\":\"\"}}}],\"scattercarpet\":[{\"type\":\"scattercarpet\",\"marker\":{\"colorbar\":{\"outlinewidth\":0,\"ticks\":\"\"}}}],\"carpet\":[{\"aaxis\":{\"endlinecolor\":\"#2a3f5f\",\"gridcolor\":\"white\",\"linecolor\":\"white\",\"minorgridcolor\":\"white\",\"startlinecolor\":\"#2a3f5f\"},\"baxis\":{\"endlinecolor\":\"#2a3f5f\",\"gridcolor\":\"white\",\"linecolor\":\"white\",\"minorgridcolor\":\"white\",\"startlinecolor\":\"#2a3f5f\"},\"type\":\"carpet\"}],\"table\":[{\"cells\":{\"fill\":{\"color\":\"#EBF0F8\"},\"line\":{\"color\":\"white\"}},\"header\":{\"fill\":{\"color\":\"#C8D4E3\"},\"line\":{\"color\":\"white\"}},\"type\":\"table\"}],\"barpolar\":[{\"marker\":{\"line\":{\"color\":\"#E5ECF6\",\"width\":0.5},\"pattern\":{\"fillmode\":\"overlay\",\"size\":10,\"solidity\":0.2}},\"type\":\"barpolar\"}],\"pie\":[{\"automargin\":true,\"type\":\"pie\"}]},\"layout\":{\"autotypenumbers\":\"strict\",\"colorway\":[\"#636efa\",\"#EF553B\",\"#00cc96\",\"#ab63fa\",\"#FFA15A\",\"#19d3f3\",\"#FF6692\",\"#B6E880\",\"#FF97FF\",\"#FECB52\"],\"font\":{\"color\":\"#2a3f5f\"},\"hovermode\":\"closest\",\"hoverlabel\":{\"align\":\"left\"},\"paper_bgcolor\":\"white\",\"plot_bgcolor\":\"#E5ECF6\",\"polar\":{\"bgcolor\":\"#E5ECF6\",\"angularaxis\":{\"gridcolor\":\"white\",\"linecolor\":\"white\",\"ticks\":\"\"},\"radialaxis\":{\"gridcolor\":\"white\",\"linecolor\":\"white\",\"ticks\":\"\"}},\"ternary\":{\"bgcolor\":\"#E5ECF6\",\"aaxis\":{\"gridcolor\":\"white\",\"linecolor\":\"white\",\"ticks\":\"\"},\"baxis\":{\"gridcolor\":\"white\",\"linecolor\":\"white\",\"ticks\":\"\"},\"caxis\":{\"gridcolor\":\"white\",\"linecolor\":\"white\",\"ticks\":\"\"}},\"coloraxis\":{\"colorbar\":{\"outlinewidth\":0,\"ticks\":\"\"}},\"colorscale\":{\"sequential\":[[0.0,\"#0d0887\"],[0.1111111111111111,\"#46039f\"],[0.2222222222222222,\"#7201a8\"],[0.3333333333333333,\"#9c179e\"],[0.4444444444444444,\"#bd3786\"],[0.5555555555555556,\"#d8576b\"],[0.6666666666666666,\"#ed7953\"],[0.7777777777777778,\"#fb9f3a\"],[0.8888888888888888,\"#fdca26\"],[1.0,\"#f0f921\"]],\"sequentialminus\":[[0.0,\"#0d0887\"],[0.1111111111111111,\"#46039f\"],[0.2222222222222222,\"#7201a8\"],[0.3333333333333333,\"#9c179e\"],[0.4444444444444444,\"#bd3786\"],[0.5555555555555556,\"#d8576b\"],[0.6666666666666666,\"#ed7953\"],[0.7777777777777778,\"#fb9f3a\"],[0.8888888888888888,\"#fdca26\"],[1.0,\"#f0f921\"]],\"diverging\":[[0,\"#8e0152\"],[0.1,\"#c51b7d\"],[0.2,\"#de77ae\"],[0.3,\"#f1b6da\"],[0.4,\"#fde0ef\"],[0.5,\"#f7f7f7\"],[0.6,\"#e6f5d0\"],[0.7,\"#b8e186\"],[0.8,\"#7fbc41\"],[0.9,\"#4d9221\"],[1,\"#276419\"]]},\"xaxis\":{\"gridcolor\":\"white\",\"linecolor\":\"white\",\"ticks\":\"\",\"title\":{\"standoff\":15},\"zerolinecolor\":\"white\",\"automargin\":true,\"zerolinewidth\":2},\"yaxis\":{\"gridcolor\":\"white\",\"linecolor\":\"white\",\"ticks\":\"\",\"title\":{\"standoff\":15},\"zerolinecolor\":\"white\",\"automargin\":true,\"zerolinewidth\":2},\"scene\":{\"xaxis\":{\"backgroundcolor\":\"#E5ECF6\",\"gridcolor\":\"white\",\"linecolor\":\"white\",\"showbackground\":true,\"ticks\":\"\",\"zerolinecolor\":\"white\",\"gridwidth\":2},\"yaxis\":{\"backgroundcolor\":\"#E5ECF6\",\"gridcolor\":\"white\",\"linecolor\":\"white\",\"showbackground\":true,\"ticks\":\"\",\"zerolinecolor\":\"white\",\"gridwidth\":2},\"zaxis\":{\"backgroundcolor\":\"#E5ECF6\",\"gridcolor\":\"white\",\"linecolor\":\"white\",\"showbackground\":true,\"ticks\":\"\",\"zerolinecolor\":\"white\",\"gridwidth\":2}},\"shapedefaults\":{\"line\":{\"color\":\"#2a3f5f\"}},\"annotationdefaults\":{\"arrowcolor\":\"#2a3f5f\",\"arrowhead\":0,\"arrowwidth\":1},\"geo\":{\"bgcolor\":\"white\",\"landcolor\":\"#E5ECF6\",\"subunitcolor\":\"white\",\"showland\":true,\"showlakes\":true,\"lakecolor\":\"white\"},\"title\":{\"x\":0.05},\"mapbox\":{\"style\":\"light\"}}},\"polar\":{\"radialaxis\":{\"visible\":true}},\"title\":{\"text\":\"Safety, Healthcare, and Education Scores\"}},                        {\"responsive\": true}                    ).then(function(){\n",
       "                            \n",
       "var gd = document.getElementById('9c606d8b-e20b-416f-a967-bb9c727e46b9');\n",
       "var x = new MutationObserver(function (mutations, observer) {{\n",
       "        var display = window.getComputedStyle(gd).display;\n",
       "        if (!display || display === 'none') {{\n",
       "            console.log([gd, 'removed!']);\n",
       "            Plotly.purge(gd);\n",
       "            observer.disconnect();\n",
       "        }}\n",
       "}});\n",
       "\n",
       "// Listen for the removal of the full notebook cells\n",
       "var notebookContainer = gd.closest('#notebook-container');\n",
       "if (notebookContainer) {{\n",
       "    x.observe(notebookContainer, {childList: true});\n",
       "}}\n",
       "\n",
       "// Listen for the clearing of the current output cell\n",
       "var outputEl = gd.closest('.output');\n",
       "if (outputEl) {{\n",
       "    x.observe(outputEl, {childList: true});\n",
       "}}\n",
       "\n",
       "                        })                };                });            </script>        </div>"
      ]
     },
     "metadata": {},
     "output_type": "display_data"
    }
   ],
   "source": [
    "subset_df = ua_scores_df[ua_scores_df['ua_name'].isin(['Cape Town', 'Buenos Aires', 'New York'])]\n",
    "\n",
    "# Radar chart\n",
    "fig_radar = go.Figure()\n",
    "\n",
    "for _, row in subset_df.iterrows():\n",
    "    fig_radar.add_trace(go.Scatterpolar(\n",
    "        r=[row['safety'], row['healthcare'], row['education']],\n",
    "        theta=['Safety', 'Healthcare', 'Education'],\n",
    "        fill='toself',\n",
    "        name=row['ua_name']\n",
    "    ))\n",
    "\n",
    "fig_radar.update_layout(\n",
    "    polar=dict(\n",
    "        radialaxis=dict(visible=True)\n",
    "    ),\n",
    "    title='Safety, Healthcare, and Education Scores'\n",
    ")\n",
    "\n",
    "fig_radar.show()"
   ]
  },
  {
   "cell_type": "markdown",
   "metadata": {},
   "source": [
    "## grafiek 5 (Veiligheid, gezondheidszorg en onderwijsscores)\n",
    "De vijfde grafiek, een radardiagram, vergelijkt steden New York, Buenos Aires en Kaapstad op basis van veiligheid, gezondheidszorg en onderwijs. Hier is duidelijk te zien dat de welvarende stad als New York op alle fronten erg hoog scoort (vooral op onderwijs), wat dus impliceert dat een welvarendere stad het welzijn van haar inwoners bevorderd. Ook is duidelijk te zien dat een wat armere stad als Kaapstad op alle fronten aanzienlijk lager scoort."
   ]
  },
  {
   "cell_type": "code",
   "execution_count": 22,
   "metadata": {},
   "outputs": [
    {
     "data": {
      "image/png": "[encoded data removed]",
      "text/plain": [
       "<Figure size 1000x800 with 2 Axes>"
      ]
     },
     "metadata": {},
     "output_type": "display_data"
    }
   ],
   "source": [
    "combined_df = pd.merge(\n",
    "    work_life_balance_df[['city', 'remote_jobs', 'overworked_population', 'minimum_vacations_offered_(days)', 'total_score']],\n",
    "    ua_scores_df[['ua_name', 'safety', 'healthcare', 'education', 'environmental_quality']],\n",
    "    left_on='city', right_on='ua_name'\n",
    ")\n",
    "\n",
    "corr_matrix = combined_df.drop(columns=['city', 'ua_name']).corr()\n",
    "\n",
    "plt.figure(figsize=(10, 8))\n",
    "sns.heatmap(corr_matrix, annot=True, cmap='coolwarm', vmin=-1, vmax=1)\n",
    "plt.title('Correlation Matrix Between Work-Life Balance and Living Conditions')\n",
    "plt.show()"
   ]
  },
  {
   "cell_type": "markdown",
   "metadata": {},
   "source": [
    "## grafiek 6 (Correlatiematrix)\n",
    "De laatste grafiek, de correlatiematrix, toont de relaties tussen verschillende factoren. Er is bijvoorbeeld een sterke positieve correlatie tussen de totale score voor werk-privé balans en veiligheid (0,85), wat suggereert dat veilige steden een betere werk-privé balans bieden. Ook is er een negatieve correlatie tussen overwerkte bevolking en gezondheidszorg (-0,65), wat aangeeft dat betere toegang tot gezondheidszorg kan helpen de werkdruk te verminderen."
   ]
  },
  {
   "cell_type": "markdown",
   "metadata": {},
   "source": [
    "## Conclusie\n",
    "Het algemene beeld dat uit deze data naar voren komt, is dat factoren zoals remote werk, vakantiedagen, kosten van levensonderhoud, en toegang tot gezondheidszorg allemaal bijdragen aan het welzijn van de inwoners van een stad. Steden die hoog scoren op veiligheid scoren ook hoger op bijvoorbeeld gezondheidszorg en economische kansen en bieden over het algemeen een betere werk-privé balans."
   ]
  },
  {
   "cell_type": "markdown",
   "metadata": {},
   "source": []
  }
 ],
 "metadata": {
  "kernelspec": {
   "display_name": "jupyterbook",
   "language": "python",
   "name": "python3"
  },
  "language_info": {
   "codemirror_mode": {
    "name": "ipython",
    "version": 3
   },
   "file_extension": ".py",
   "mimetype": "text/x-python",
   "name": "python",
   "nbconvert_exporter": "python",
   "pygments_lexer": "ipython3",
   "version": "3.10.13"
  }
 },
 "nbformat": 4,
 "nbformat_minor": 2
}
