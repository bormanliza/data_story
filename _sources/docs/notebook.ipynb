{
 "cells": [
  {
   "cell_type": "markdown",
   "metadata": {},
   "source": [
    "# Story\n"
   ]
  },
  {
   "cell_type": "code",
   "execution_count": 9,
   "metadata": {},
   "outputs": [],
   "source": [
    "import pandas as pd\n",
    "import matplotlib.pyplot as plt\n",
    "import plotly.express as px\n",
    "import plotly.graph_objects as go\n",
    "import seaborn as sns\n",
    "from geopy.geocoders import Nominatim\n",
    "import time"
   ]
  },
  {
   "cell_type": "code",
   "execution_count": 10,
   "metadata": {},
   "outputs": [
    {
     "data": {
      "text/plain": [
       "(   2022 2021        City      Country Remote Jobs Overworked Population  \\\n",
       " 0     1    2        Oslo       Norway      41.72%                11.20%   \n",
       " 1     2    -        Bern  Switzerland      44.86%                11.40%   \n",
       " 2     3    1    Helsinki      Finland      38.92%                12.70%   \n",
       " 3     4    3      Zurich  Switzerland      44.86%                11.90%   \n",
       " 4     5    5  Copenhagen      Denmark      41.42%                10.50%   \n",
       " \n",
       "    Minimum Vacations Offered (Days) Vacations Taken (Days)  Unemployment  \\\n",
       " 0                                25                     25          94.7   \n",
       " 1                                20                     25          99.8   \n",
       " 2                                25                     30          89.3   \n",
       " 3                                20                     25          99.2   \n",
       " 4                                25                     28          94.8   \n",
       " \n",
       "   Multiple Jobholders  ... Healthcare Access to Mental Healthcare  \\\n",
       " 0               9.10%  ...      100.0                        85.0   \n",
       " 1               7.60%  ...       99.6                        78.6   \n",
       " 2               6.30%  ...       96.7                        73.0   \n",
       " 3               7.60%  ...       99.2                        78.6   \n",
       " 4               7.60%  ...       94.8                        77.6   \n",
       " \n",
       "    Inclusivity & Tolerance  Affordability  Happiness, Culture & Leisure  \\\n",
       " 0                     93.2           59.4                          88.8   \n",
       " 1                     94.6           69.9                         100.0   \n",
       " 2                     93.9           65.0                          96.3   \n",
       " 3                     87.5           71.6                          91.5   \n",
       " 4                     95.2           65.3                          92.5   \n",
       " \n",
       "    City Safety  Outdoor Spaces  Air Quality  Wellness and Fitness  TOTAL SCORE  \n",
       " 0         86.5            95.6         97.5                  65.7       100.00  \n",
       " 1         91.8            87.1        100.0                  69.1        99.46  \n",
       " 2         94.9            86.0         97.0                  68.3        99.24  \n",
       " 3         92.8            84.0         96.2                  68.7        96.33  \n",
       " 4         95.7            75.5         95.1                  66.3        96.21  \n",
       " \n",
       " [5 rows x 24 columns],\n",
       "          City  Rank Sunshine hours(City) Cost of a bottle of water(City)  \\\n",
       " 0   Amsterdam     1                 1858                           £1.92   \n",
       " 1      Sydney     2                 2636                           £1.48   \n",
       " 2      Vienna     3                 1884                           £1.94   \n",
       " 3   Stockholm     4                 1821                           £1.72   \n",
       " 4  Copenhagen     5                 1630                           £2.19   \n",
       " \n",
       "   Obesity levels(Country)  Life expectancy(years) (Country)  \\\n",
       " 0                  20.40%                              81.2   \n",
       " 1                  29.00%                              82.1   \n",
       " 2                  20.10%                              81.0   \n",
       " 3                  20.60%                              81.8   \n",
       " 4                  19.70%                              79.8   \n",
       " \n",
       "   Pollution(Index score) (City) Annual avg. hours worked  \\\n",
       " 0                         30.93                     1434   \n",
       " 1                         26.86                     1712   \n",
       " 2                         17.33                     1501   \n",
       " 3                         19.63                     1452   \n",
       " 4                         21.24                     1380   \n",
       " \n",
       "    Happiness levels(Country)  Outdoor activities(City)  \\\n",
       " 0                       7.44                       422   \n",
       " 1                       7.22                       406   \n",
       " 2                       7.29                       132   \n",
       " 3                       7.35                       129   \n",
       " 4                       7.64                       154   \n",
       " \n",
       "    Number of take out places(City) Cost of a monthly gym membership(City)  \n",
       " 0                             1048                                 £34.90  \n",
       " 1                             1103                                 £41.66  \n",
       " 2                             1008                                 £25.74  \n",
       " 3                              598                                 £37.31  \n",
       " 4                              523                                 £32.53  ,\n",
       "    rank_2020         city       state  population_2020  population_2010  \\\n",
       " 0          1     New York    New York          8804190          8175133   \n",
       " 1          2  Los Angeles  California          3898747          3792621   \n",
       " 2          3      Chicago    Illinois          2746388          2695598   \n",
       " 3          4      Houston       Texas          2304580          2099451   \n",
       " 4          5      Phoenix     Arizona          1608139          1445632   \n",
       " \n",
       "    land_area_sqmi  density  one_adult_no_kids_living_wage  \\\n",
       " 0           300.5    29298                          20.00   \n",
       " 1           469.5     8304                          19.22   \n",
       " 2           227.7    12061                          16.08   \n",
       " 3           640.4     3599                          14.29   \n",
       " 4           518.0     3105                          15.41   \n",
       " \n",
       "    one_adult_one_kid_living_wage  one_adult_two_kids_living_wage  \\\n",
       " 0                          38.99                           49.18   \n",
       " 1                          41.55                           51.30   \n",
       " 2                          32.25                           40.20   \n",
       " 3                          29.09                           35.73   \n",
       " 4                          29.44                           35.40   \n",
       " \n",
       "    one_adult_three_kids_living_wage  \\\n",
       " 0                             64.30   \n",
       " 1                             67.56   \n",
       " 2                             51.69   \n",
       " 3                             46.02   \n",
       " 4                             46.01   \n",
       " \n",
       "    two_adults_one_working_no_kids_living_wage  \\\n",
       " 0                                       29.16   \n",
       " 1                                       31.01   \n",
       " 2                                       25.41   \n",
       " 3                                       22.88   \n",
       " 4                                       24.85   \n",
       " \n",
       "    two_adults_one_working_one_kid_living_wage  \\\n",
       " 0                                       34.35   \n",
       " 1                                       37.96   \n",
       " 2                                       29.73   \n",
       " 3                                       27.54   \n",
       " 4                                       29.25   \n",
       " \n",
       "    two_adults_one_working_two_kids_living_wage  \\\n",
       " 0                                        38.13   \n",
       " 1                                        41.94   \n",
       " 2                                        33.38   \n",
       " 3                                        30.93   \n",
       " 4                                        32.98   \n",
       " \n",
       "    two_adults_one_working_three_kids_living_wage  \\\n",
       " 0                                          42.42   \n",
       " 1                                          47.75   \n",
       " 2                                          35.93   \n",
       " 3                                          33.69   \n",
       " 4                                          36.95   \n",
       " \n",
       "    two_adults_both_working_no_kids_living_wage  \\\n",
       " 0                                        14.03   \n",
       " 1                                        14.62   \n",
       " 2                                        12.28   \n",
       " 3                                        11.14   \n",
       " 4                                        12.03   \n",
       " \n",
       "    two_adults_both_working_one_kid_living_wage  \\\n",
       " 0                                        20.95   \n",
       " 1                                        22.36   \n",
       " 2                                        17.52   \n",
       " 3                                        15.85   \n",
       " 4                                        16.21   \n",
       " \n",
       "    two_adults_both_working_two_kids_living_wage  \\\n",
       " 0                                         26.53   \n",
       " 1                                         27.73   \n",
       " 2                                         22.01   \n",
       " 3                                         19.63   \n",
       " 4                                         19.65   \n",
       " \n",
       "    two_adults_both_working_three_kids_living_wage  \n",
       " 0                                           32.40  \n",
       " 1                                           34.01  \n",
       " 2                                           25.94  \n",
       " 3                                           23.09  \n",
       " 4                                           23.23  ,\n",
       "    Unnamed: 0      UA_Name    UA_Country   UA_Continent  Housing  \\\n",
       " 0           0       Aarhus       Denmark         Europe   6.1315   \n",
       " 1           1     Adelaide     Australia        Oceania   6.3095   \n",
       " 2           2  Albuquerque    New Mexico  North America   7.2620   \n",
       " 3           3       Almaty    Kazakhstan           Asia   9.2820   \n",
       " 4           4    Amsterdam   Netherlands         Europe   3.0530   \n",
       " \n",
       "    Cost of Living  Startups  Venture Capital  Travel Connectivity  Commute  \\\n",
       " 0           4.015    2.8270            2.512               3.5360  6.31175   \n",
       " 1           4.692    3.1365            2.640               1.7765  5.33625   \n",
       " 2           6.059    3.7720            1.493               1.4555  5.05575   \n",
       " 3           9.333    2.4585            0.000               4.5920  5.87125   \n",
       " 4           3.824    7.9715            6.107               8.3245  6.11850   \n",
       " \n",
       "    ...  Safety  Healthcare  Education  Environmental Quality  Economy  \\\n",
       " 0  ...  9.6165    8.704333     5.3665                7.63300   4.8865   \n",
       " 1  ...  7.9260    7.936667     5.1420                8.33075   6.0695   \n",
       " 2  ...  1.3435    6.430000     4.1520                7.31950   6.5145   \n",
       " 3  ...  7.3090    4.545667     2.2830                3.85675   5.2690   \n",
       " 4  ...  8.5035    7.907333     6.1800                7.59725   5.0530   \n",
       " \n",
       "    Taxation  Internet Access  Leisure & Culture  Tolerance  Outdoors  \n",
       " 0    5.0680            8.373             3.1870     9.7385    4.1300  \n",
       " 1    4.5885            4.341             4.3285     7.8220    5.5310  \n",
       " 2    4.3460            5.396             4.8900     7.0285    3.5155  \n",
       " 3    8.5220            2.886             2.9370     6.5395    5.5000  \n",
       " 4    4.9550            4.523             8.8740     8.3680    5.3070  \n",
       " \n",
       " [5 rows x 21 columns])"
      ]
     },
     "execution_count": 10,
     "metadata": {},
     "output_type": "execute_result"
    }
   ],
   "source": [
    "work_life_balance_df = pd.read_csv('../data/Cities with the Best Work-Life Balance 2022.csv')\n",
    "healthy_lifestyle_df = pd.read_csv('../data/healthy_lifestyle_city_2021.csv')\n",
    "living_wage_df = pd.read_csv('../data/livingwage (2).csv')\n",
    "ua_scores_df = pd.read_csv('../data/uaScoresDataFrame.csv')\n",
    "train_df = pd.read_csv('../data/train.csv')\n",
    "cities_df = pd.read_csv('../data/worldcities.csv')\n",
    "\n",
    "# Display the first few rows of each dataframe to understand their structure\n",
    "(work_life_balance_df.head(), healthy_lifestyle_df.head(), living_wage_df.head(), ua_scores_df.head())"
   ]
  },
  {
   "cell_type": "code",
   "execution_count": 11,
   "metadata": {},
   "outputs": [
    {
     "data": {
      "text/html": [
       "<div>\n",
       "<style scoped>\n",
       "    .dataframe tbody tr th:only-of-type {\n",
       "        vertical-align: middle;\n",
       "    }\n",
       "\n",
       "    .dataframe tbody tr th {\n",
       "        vertical-align: top;\n",
       "    }\n",
       "\n",
       "    .dataframe thead th {\n",
       "        text-align: right;\n",
       "    }\n",
       "</style>\n",
       "<table border=\"1\" class=\"dataframe\">\n",
       "  <thead>\n",
       "    <tr style=\"text-align: right;\">\n",
       "      <th></th>\n",
       "      <th>rank_2022</th>\n",
       "      <th>rank_2021</th>\n",
       "      <th>city</th>\n",
       "      <th>country</th>\n",
       "      <th>remote_jobs</th>\n",
       "      <th>overworked_population</th>\n",
       "      <th>minimum_vacations_offered_(days)</th>\n",
       "      <th>vacations_taken_(days)</th>\n",
       "      <th>unemployment</th>\n",
       "      <th>multiple_jobholders_%</th>\n",
       "      <th>...</th>\n",
       "      <th>healthcare</th>\n",
       "      <th>access_to_mental_healthcare</th>\n",
       "      <th>inclusivity_&amp;_tolerance</th>\n",
       "      <th>affordability</th>\n",
       "      <th>happiness,_culture_&amp;_leisure</th>\n",
       "      <th>city_safety</th>\n",
       "      <th>outdoor_spaces</th>\n",
       "      <th>air_quality</th>\n",
       "      <th>wellness_and_fitness</th>\n",
       "      <th>total_score</th>\n",
       "    </tr>\n",
       "  </thead>\n",
       "  <tbody>\n",
       "    <tr>\n",
       "      <th>0</th>\n",
       "      <td>1</td>\n",
       "      <td>2</td>\n",
       "      <td>Oslo</td>\n",
       "      <td>Norway</td>\n",
       "      <td>0.4172</td>\n",
       "      <td>0.112</td>\n",
       "      <td>25</td>\n",
       "      <td>25</td>\n",
       "      <td>94.7</td>\n",
       "      <td>0.091</td>\n",
       "      <td>...</td>\n",
       "      <td>100.0</td>\n",
       "      <td>85.0</td>\n",
       "      <td>93.2</td>\n",
       "      <td>59.4</td>\n",
       "      <td>88.8</td>\n",
       "      <td>86.5</td>\n",
       "      <td>95.6</td>\n",
       "      <td>97.5</td>\n",
       "      <td>65.7</td>\n",
       "      <td>100.00</td>\n",
       "    </tr>\n",
       "    <tr>\n",
       "      <th>1</th>\n",
       "      <td>2</td>\n",
       "      <td>-</td>\n",
       "      <td>Bern</td>\n",
       "      <td>Switzerland</td>\n",
       "      <td>0.4486</td>\n",
       "      <td>0.114</td>\n",
       "      <td>20</td>\n",
       "      <td>25</td>\n",
       "      <td>99.8</td>\n",
       "      <td>0.076</td>\n",
       "      <td>...</td>\n",
       "      <td>99.6</td>\n",
       "      <td>78.6</td>\n",
       "      <td>94.6</td>\n",
       "      <td>69.9</td>\n",
       "      <td>100.0</td>\n",
       "      <td>91.8</td>\n",
       "      <td>87.1</td>\n",
       "      <td>100.0</td>\n",
       "      <td>69.1</td>\n",
       "      <td>99.46</td>\n",
       "    </tr>\n",
       "    <tr>\n",
       "      <th>2</th>\n",
       "      <td>3</td>\n",
       "      <td>1</td>\n",
       "      <td>Helsinki</td>\n",
       "      <td>Finland</td>\n",
       "      <td>0.3892</td>\n",
       "      <td>0.127</td>\n",
       "      <td>25</td>\n",
       "      <td>30</td>\n",
       "      <td>89.3</td>\n",
       "      <td>0.063</td>\n",
       "      <td>...</td>\n",
       "      <td>96.7</td>\n",
       "      <td>73.0</td>\n",
       "      <td>93.9</td>\n",
       "      <td>65.0</td>\n",
       "      <td>96.3</td>\n",
       "      <td>94.9</td>\n",
       "      <td>86.0</td>\n",
       "      <td>97.0</td>\n",
       "      <td>68.3</td>\n",
       "      <td>99.24</td>\n",
       "    </tr>\n",
       "    <tr>\n",
       "      <th>3</th>\n",
       "      <td>4</td>\n",
       "      <td>3</td>\n",
       "      <td>Zurich</td>\n",
       "      <td>Switzerland</td>\n",
       "      <td>0.4486</td>\n",
       "      <td>0.119</td>\n",
       "      <td>20</td>\n",
       "      <td>25</td>\n",
       "      <td>99.2</td>\n",
       "      <td>0.076</td>\n",
       "      <td>...</td>\n",
       "      <td>99.2</td>\n",
       "      <td>78.6</td>\n",
       "      <td>87.5</td>\n",
       "      <td>71.6</td>\n",
       "      <td>91.5</td>\n",
       "      <td>92.8</td>\n",
       "      <td>84.0</td>\n",
       "      <td>96.2</td>\n",
       "      <td>68.7</td>\n",
       "      <td>96.33</td>\n",
       "    </tr>\n",
       "    <tr>\n",
       "      <th>4</th>\n",
       "      <td>5</td>\n",
       "      <td>5</td>\n",
       "      <td>Copenhagen</td>\n",
       "      <td>Denmark</td>\n",
       "      <td>0.4142</td>\n",
       "      <td>0.105</td>\n",
       "      <td>25</td>\n",
       "      <td>28</td>\n",
       "      <td>94.8</td>\n",
       "      <td>0.076</td>\n",
       "      <td>...</td>\n",
       "      <td>94.8</td>\n",
       "      <td>77.6</td>\n",
       "      <td>95.2</td>\n",
       "      <td>65.3</td>\n",
       "      <td>92.5</td>\n",
       "      <td>95.7</td>\n",
       "      <td>75.5</td>\n",
       "      <td>95.1</td>\n",
       "      <td>66.3</td>\n",
       "      <td>96.21</td>\n",
       "    </tr>\n",
       "  </tbody>\n",
       "</table>\n",
       "<p>5 rows × 24 columns</p>\n",
       "</div>"
      ],
      "text/plain": [
       "   rank_2022 rank_2021        city      country  remote_jobs  \\\n",
       "0          1         2        Oslo       Norway       0.4172   \n",
       "1          2         -        Bern  Switzerland       0.4486   \n",
       "2          3         1    Helsinki      Finland       0.3892   \n",
       "3          4         3      Zurich  Switzerland       0.4486   \n",
       "4          5         5  Copenhagen      Denmark       0.4142   \n",
       "\n",
       "   overworked_population  minimum_vacations_offered_(days)  \\\n",
       "0                  0.112                                25   \n",
       "1                  0.114                                20   \n",
       "2                  0.127                                25   \n",
       "3                  0.119                                20   \n",
       "4                  0.105                                25   \n",
       "\n",
       "  vacations_taken_(days)  unemployment  multiple_jobholders_%  ... healthcare  \\\n",
       "0                     25          94.7                  0.091  ...      100.0   \n",
       "1                     25          99.8                  0.076  ...       99.6   \n",
       "2                     30          89.3                  0.063  ...       96.7   \n",
       "3                     25          99.2                  0.076  ...       99.2   \n",
       "4                     28          94.8                  0.076  ...       94.8   \n",
       "\n",
       "  access_to_mental_healthcare  inclusivity_&_tolerance  affordability  \\\n",
       "0                        85.0                     93.2           59.4   \n",
       "1                        78.6                     94.6           69.9   \n",
       "2                        73.0                     93.9           65.0   \n",
       "3                        78.6                     87.5           71.6   \n",
       "4                        77.6                     95.2           65.3   \n",
       "\n",
       "   happiness,_culture_&_leisure  city_safety  outdoor_spaces  air_quality  \\\n",
       "0                          88.8         86.5            95.6         97.5   \n",
       "1                         100.0         91.8            87.1        100.0   \n",
       "2                          96.3         94.9            86.0         97.0   \n",
       "3                          91.5         92.8            84.0         96.2   \n",
       "4                          92.5         95.7            75.5         95.1   \n",
       "\n",
       "   wellness_and_fitness  total_score  \n",
       "0                  65.7       100.00  \n",
       "1                  69.1        99.46  \n",
       "2                  68.3        99.24  \n",
       "3                  68.7        96.33  \n",
       "4                  66.3        96.21  \n",
       "\n",
       "[5 rows x 24 columns]"
      ]
     },
     "execution_count": 11,
     "metadata": {},
     "output_type": "execute_result"
    }
   ],
   "source": [
    "work_life_balance_df.columns = work_life_balance_df.columns.str.strip().str.replace(' ', '_').str.lower()\n",
    "work_life_balance_df = work_life_balance_df.rename(columns={'2022': 'rank_2022', '2021': 'rank_2021', 'multiple_jobholders': 'multiple_jobholders_%'})\n",
    "\n",
    "percentage_columns = ['remote_jobs', 'overworked_population', 'multiple_jobholders_%']\n",
    "for col in percentage_columns:\n",
    "    work_life_balance_df[col] = work_life_balance_df[col].str.rstrip('%').astype(float) / 100\n",
    "\n",
    "work_life_balance_df.head()"
   ]
  },
  {
   "cell_type": "code",
   "execution_count": 12,
   "metadata": {},
   "outputs": [
    {
     "data": {
      "text/html": [
       "<div>\n",
       "<style scoped>\n",
       "    .dataframe tbody tr th:only-of-type {\n",
       "        vertical-align: middle;\n",
       "    }\n",
       "\n",
       "    .dataframe tbody tr th {\n",
       "        vertical-align: top;\n",
       "    }\n",
       "\n",
       "    .dataframe thead th {\n",
       "        text-align: right;\n",
       "    }\n",
       "</style>\n",
       "<table border=\"1\" class=\"dataframe\">\n",
       "  <thead>\n",
       "    <tr style=\"text-align: right;\">\n",
       "      <th></th>\n",
       "      <th>rank_2020</th>\n",
       "      <th>city_name</th>\n",
       "      <th>state</th>\n",
       "      <th>population_2020</th>\n",
       "      <th>population_2010</th>\n",
       "      <th>land_area_sqmi</th>\n",
       "      <th>density</th>\n",
       "      <th>one_adult_no_kids_living_wage</th>\n",
       "      <th>one_adult_one_kid_living_wage</th>\n",
       "      <th>one_adult_two_kids_living_wage</th>\n",
       "      <th>one_adult_three_kids_living_wage</th>\n",
       "      <th>two_adults_one_working_no_kids_living_wage</th>\n",
       "      <th>two_adults_one_working_one_kid_living_wage</th>\n",
       "      <th>two_adults_one_working_two_kids_living_wage</th>\n",
       "      <th>two_adults_one_working_three_kids_living_wage</th>\n",
       "      <th>two_adults_both_working_no_kids_living_wage</th>\n",
       "      <th>two_adults_both_working_one_kid_living_wage</th>\n",
       "      <th>two_adults_both_working_two_kids_living_wage</th>\n",
       "      <th>two_adults_both_working_three_kids_living_wage</th>\n",
       "    </tr>\n",
       "  </thead>\n",
       "  <tbody>\n",
       "    <tr>\n",
       "      <th>0</th>\n",
       "      <td>1</td>\n",
       "      <td>New York</td>\n",
       "      <td>New York</td>\n",
       "      <td>8804190</td>\n",
       "      <td>8175133</td>\n",
       "      <td>300.5</td>\n",
       "      <td>29298</td>\n",
       "      <td>20.00</td>\n",
       "      <td>38.99</td>\n",
       "      <td>49.18</td>\n",
       "      <td>64.30</td>\n",
       "      <td>29.16</td>\n",
       "      <td>34.35</td>\n",
       "      <td>38.13</td>\n",
       "      <td>42.42</td>\n",
       "      <td>14.03</td>\n",
       "      <td>20.95</td>\n",
       "      <td>26.53</td>\n",
       "      <td>32.40</td>\n",
       "    </tr>\n",
       "    <tr>\n",
       "      <th>1</th>\n",
       "      <td>2</td>\n",
       "      <td>Los Angeles</td>\n",
       "      <td>California</td>\n",
       "      <td>3898747</td>\n",
       "      <td>3792621</td>\n",
       "      <td>469.5</td>\n",
       "      <td>8304</td>\n",
       "      <td>19.22</td>\n",
       "      <td>41.55</td>\n",
       "      <td>51.30</td>\n",
       "      <td>67.56</td>\n",
       "      <td>31.01</td>\n",
       "      <td>37.96</td>\n",
       "      <td>41.94</td>\n",
       "      <td>47.75</td>\n",
       "      <td>14.62</td>\n",
       "      <td>22.36</td>\n",
       "      <td>27.73</td>\n",
       "      <td>34.01</td>\n",
       "    </tr>\n",
       "    <tr>\n",
       "      <th>2</th>\n",
       "      <td>3</td>\n",
       "      <td>Chicago</td>\n",
       "      <td>Illinois</td>\n",
       "      <td>2746388</td>\n",
       "      <td>2695598</td>\n",
       "      <td>227.7</td>\n",
       "      <td>12061</td>\n",
       "      <td>16.08</td>\n",
       "      <td>32.25</td>\n",
       "      <td>40.20</td>\n",
       "      <td>51.69</td>\n",
       "      <td>25.41</td>\n",
       "      <td>29.73</td>\n",
       "      <td>33.38</td>\n",
       "      <td>35.93</td>\n",
       "      <td>12.28</td>\n",
       "      <td>17.52</td>\n",
       "      <td>22.01</td>\n",
       "      <td>25.94</td>\n",
       "    </tr>\n",
       "    <tr>\n",
       "      <th>3</th>\n",
       "      <td>4</td>\n",
       "      <td>Houston</td>\n",
       "      <td>Texas</td>\n",
       "      <td>2304580</td>\n",
       "      <td>2099451</td>\n",
       "      <td>640.4</td>\n",
       "      <td>3599</td>\n",
       "      <td>14.29</td>\n",
       "      <td>29.09</td>\n",
       "      <td>35.73</td>\n",
       "      <td>46.02</td>\n",
       "      <td>22.88</td>\n",
       "      <td>27.54</td>\n",
       "      <td>30.93</td>\n",
       "      <td>33.69</td>\n",
       "      <td>11.14</td>\n",
       "      <td>15.85</td>\n",
       "      <td>19.63</td>\n",
       "      <td>23.09</td>\n",
       "    </tr>\n",
       "    <tr>\n",
       "      <th>4</th>\n",
       "      <td>5</td>\n",
       "      <td>Phoenix</td>\n",
       "      <td>Arizona</td>\n",
       "      <td>1608139</td>\n",
       "      <td>1445632</td>\n",
       "      <td>518.0</td>\n",
       "      <td>3105</td>\n",
       "      <td>15.41</td>\n",
       "      <td>29.44</td>\n",
       "      <td>35.40</td>\n",
       "      <td>46.01</td>\n",
       "      <td>24.85</td>\n",
       "      <td>29.25</td>\n",
       "      <td>32.98</td>\n",
       "      <td>36.95</td>\n",
       "      <td>12.03</td>\n",
       "      <td>16.21</td>\n",
       "      <td>19.65</td>\n",
       "      <td>23.23</td>\n",
       "    </tr>\n",
       "  </tbody>\n",
       "</table>\n",
       "</div>"
      ],
      "text/plain": [
       "   rank_2020    city_name       state  population_2020  population_2010  \\\n",
       "0          1     New York    New York          8804190          8175133   \n",
       "1          2  Los Angeles  California          3898747          3792621   \n",
       "2          3      Chicago    Illinois          2746388          2695598   \n",
       "3          4      Houston       Texas          2304580          2099451   \n",
       "4          5      Phoenix     Arizona          1608139          1445632   \n",
       "\n",
       "   land_area_sqmi  density  one_adult_no_kids_living_wage  \\\n",
       "0           300.5    29298                          20.00   \n",
       "1           469.5     8304                          19.22   \n",
       "2           227.7    12061                          16.08   \n",
       "3           640.4     3599                          14.29   \n",
       "4           518.0     3105                          15.41   \n",
       "\n",
       "   one_adult_one_kid_living_wage  one_adult_two_kids_living_wage  \\\n",
       "0                          38.99                           49.18   \n",
       "1                          41.55                           51.30   \n",
       "2                          32.25                           40.20   \n",
       "3                          29.09                           35.73   \n",
       "4                          29.44                           35.40   \n",
       "\n",
       "   one_adult_three_kids_living_wage  \\\n",
       "0                             64.30   \n",
       "1                             67.56   \n",
       "2                             51.69   \n",
       "3                             46.02   \n",
       "4                             46.01   \n",
       "\n",
       "   two_adults_one_working_no_kids_living_wage  \\\n",
       "0                                       29.16   \n",
       "1                                       31.01   \n",
       "2                                       25.41   \n",
       "3                                       22.88   \n",
       "4                                       24.85   \n",
       "\n",
       "   two_adults_one_working_one_kid_living_wage  \\\n",
       "0                                       34.35   \n",
       "1                                       37.96   \n",
       "2                                       29.73   \n",
       "3                                       27.54   \n",
       "4                                       29.25   \n",
       "\n",
       "   two_adults_one_working_two_kids_living_wage  \\\n",
       "0                                        38.13   \n",
       "1                                        41.94   \n",
       "2                                        33.38   \n",
       "3                                        30.93   \n",
       "4                                        32.98   \n",
       "\n",
       "   two_adults_one_working_three_kids_living_wage  \\\n",
       "0                                          42.42   \n",
       "1                                          47.75   \n",
       "2                                          35.93   \n",
       "3                                          33.69   \n",
       "4                                          36.95   \n",
       "\n",
       "   two_adults_both_working_no_kids_living_wage  \\\n",
       "0                                        14.03   \n",
       "1                                        14.62   \n",
       "2                                        12.28   \n",
       "3                                        11.14   \n",
       "4                                        12.03   \n",
       "\n",
       "   two_adults_both_working_one_kid_living_wage  \\\n",
       "0                                        20.95   \n",
       "1                                        22.36   \n",
       "2                                        17.52   \n",
       "3                                        15.85   \n",
       "4                                        16.21   \n",
       "\n",
       "   two_adults_both_working_two_kids_living_wage  \\\n",
       "0                                         26.53   \n",
       "1                                         27.73   \n",
       "2                                         22.01   \n",
       "3                                         19.63   \n",
       "4                                         19.65   \n",
       "\n",
       "   two_adults_both_working_three_kids_living_wage  \n",
       "0                                           32.40  \n",
       "1                                           34.01  \n",
       "2                                           25.94  \n",
       "3                                           23.09  \n",
       "4                                           23.23  "
      ]
     },
     "execution_count": 12,
     "metadata": {},
     "output_type": "execute_result"
    }
   ],
   "source": [
    "# Clean and preprocess living wage data\n",
    "living_wage_df.columns = living_wage_df.columns.str.strip().str.replace(' ', '_').str.lower()\n",
    "\n",
    "# Ensure consistency in city and country names\n",
    "living_wage_df.rename(columns={'city': 'city_name', 'country': 'country_name'}, inplace=True)\n",
    "\n",
    "living_wage_df.head()"
   ]
  },
  {
   "cell_type": "code",
   "execution_count": 13,
   "metadata": {},
   "outputs": [
    {
     "data": {
      "text/html": [
       "<div>\n",
       "<style scoped>\n",
       "    .dataframe tbody tr th:only-of-type {\n",
       "        vertical-align: middle;\n",
       "    }\n",
       "\n",
       "    .dataframe tbody tr th {\n",
       "        vertical-align: top;\n",
       "    }\n",
       "\n",
       "    .dataframe thead th {\n",
       "        text-align: right;\n",
       "    }\n",
       "</style>\n",
       "<table border=\"1\" class=\"dataframe\">\n",
       "  <thead>\n",
       "    <tr style=\"text-align: right;\">\n",
       "      <th></th>\n",
       "      <th>unnamed:_0</th>\n",
       "      <th>ua_name</th>\n",
       "      <th>ua_country</th>\n",
       "      <th>ua_continent</th>\n",
       "      <th>housing</th>\n",
       "      <th>cost_of_living</th>\n",
       "      <th>startups</th>\n",
       "      <th>venture_capital</th>\n",
       "      <th>travel_connectivity</th>\n",
       "      <th>commute</th>\n",
       "      <th>...</th>\n",
       "      <th>safety</th>\n",
       "      <th>healthcare</th>\n",
       "      <th>education</th>\n",
       "      <th>environmental_quality</th>\n",
       "      <th>economy</th>\n",
       "      <th>taxation</th>\n",
       "      <th>internet_access</th>\n",
       "      <th>leisure_&amp;_culture</th>\n",
       "      <th>tolerance</th>\n",
       "      <th>outdoors</th>\n",
       "    </tr>\n",
       "  </thead>\n",
       "  <tbody>\n",
       "    <tr>\n",
       "      <th>0</th>\n",
       "      <td>0</td>\n",
       "      <td>Aarhus</td>\n",
       "      <td>Denmark</td>\n",
       "      <td>Europe</td>\n",
       "      <td>6.1315</td>\n",
       "      <td>4.015</td>\n",
       "      <td>2.8270</td>\n",
       "      <td>2.512</td>\n",
       "      <td>3.5360</td>\n",
       "      <td>6.31175</td>\n",
       "      <td>...</td>\n",
       "      <td>9.6165</td>\n",
       "      <td>8.704333</td>\n",
       "      <td>5.3665</td>\n",
       "      <td>7.63300</td>\n",
       "      <td>4.8865</td>\n",
       "      <td>5.0680</td>\n",
       "      <td>8.373</td>\n",
       "      <td>3.1870</td>\n",
       "      <td>9.7385</td>\n",
       "      <td>4.1300</td>\n",
       "    </tr>\n",
       "    <tr>\n",
       "      <th>1</th>\n",
       "      <td>1</td>\n",
       "      <td>Adelaide</td>\n",
       "      <td>Australia</td>\n",
       "      <td>Oceania</td>\n",
       "      <td>6.3095</td>\n",
       "      <td>4.692</td>\n",
       "      <td>3.1365</td>\n",
       "      <td>2.640</td>\n",
       "      <td>1.7765</td>\n",
       "      <td>5.33625</td>\n",
       "      <td>...</td>\n",
       "      <td>7.9260</td>\n",
       "      <td>7.936667</td>\n",
       "      <td>5.1420</td>\n",
       "      <td>8.33075</td>\n",
       "      <td>6.0695</td>\n",
       "      <td>4.5885</td>\n",
       "      <td>4.341</td>\n",
       "      <td>4.3285</td>\n",
       "      <td>7.8220</td>\n",
       "      <td>5.5310</td>\n",
       "    </tr>\n",
       "    <tr>\n",
       "      <th>2</th>\n",
       "      <td>2</td>\n",
       "      <td>Albuquerque</td>\n",
       "      <td>New Mexico</td>\n",
       "      <td>North America</td>\n",
       "      <td>7.2620</td>\n",
       "      <td>6.059</td>\n",
       "      <td>3.7720</td>\n",
       "      <td>1.493</td>\n",
       "      <td>1.4555</td>\n",
       "      <td>5.05575</td>\n",
       "      <td>...</td>\n",
       "      <td>1.3435</td>\n",
       "      <td>6.430000</td>\n",
       "      <td>4.1520</td>\n",
       "      <td>7.31950</td>\n",
       "      <td>6.5145</td>\n",
       "      <td>4.3460</td>\n",
       "      <td>5.396</td>\n",
       "      <td>4.8900</td>\n",
       "      <td>7.0285</td>\n",
       "      <td>3.5155</td>\n",
       "    </tr>\n",
       "    <tr>\n",
       "      <th>3</th>\n",
       "      <td>3</td>\n",
       "      <td>Almaty</td>\n",
       "      <td>Kazakhstan</td>\n",
       "      <td>Asia</td>\n",
       "      <td>9.2820</td>\n",
       "      <td>9.333</td>\n",
       "      <td>2.4585</td>\n",
       "      <td>0.000</td>\n",
       "      <td>4.5920</td>\n",
       "      <td>5.87125</td>\n",
       "      <td>...</td>\n",
       "      <td>7.3090</td>\n",
       "      <td>4.545667</td>\n",
       "      <td>2.2830</td>\n",
       "      <td>3.85675</td>\n",
       "      <td>5.2690</td>\n",
       "      <td>8.5220</td>\n",
       "      <td>2.886</td>\n",
       "      <td>2.9370</td>\n",
       "      <td>6.5395</td>\n",
       "      <td>5.5000</td>\n",
       "    </tr>\n",
       "    <tr>\n",
       "      <th>4</th>\n",
       "      <td>4</td>\n",
       "      <td>Amsterdam</td>\n",
       "      <td>Netherlands</td>\n",
       "      <td>Europe</td>\n",
       "      <td>3.0530</td>\n",
       "      <td>3.824</td>\n",
       "      <td>7.9715</td>\n",
       "      <td>6.107</td>\n",
       "      <td>8.3245</td>\n",
       "      <td>6.11850</td>\n",
       "      <td>...</td>\n",
       "      <td>8.5035</td>\n",
       "      <td>7.907333</td>\n",
       "      <td>6.1800</td>\n",
       "      <td>7.59725</td>\n",
       "      <td>5.0530</td>\n",
       "      <td>4.9550</td>\n",
       "      <td>4.523</td>\n",
       "      <td>8.8740</td>\n",
       "      <td>8.3680</td>\n",
       "      <td>5.3070</td>\n",
       "    </tr>\n",
       "  </tbody>\n",
       "</table>\n",
       "<p>5 rows × 21 columns</p>\n",
       "</div>"
      ],
      "text/plain": [
       "   unnamed:_0      ua_name    ua_country   ua_continent  housing  \\\n",
       "0           0       Aarhus       Denmark         Europe   6.1315   \n",
       "1           1     Adelaide     Australia        Oceania   6.3095   \n",
       "2           2  Albuquerque    New Mexico  North America   7.2620   \n",
       "3           3       Almaty    Kazakhstan           Asia   9.2820   \n",
       "4           4    Amsterdam   Netherlands         Europe   3.0530   \n",
       "\n",
       "   cost_of_living  startups  venture_capital  travel_connectivity  commute  \\\n",
       "0           4.015    2.8270            2.512               3.5360  6.31175   \n",
       "1           4.692    3.1365            2.640               1.7765  5.33625   \n",
       "2           6.059    3.7720            1.493               1.4555  5.05575   \n",
       "3           9.333    2.4585            0.000               4.5920  5.87125   \n",
       "4           3.824    7.9715            6.107               8.3245  6.11850   \n",
       "\n",
       "   ...  safety  healthcare  education  environmental_quality  economy  \\\n",
       "0  ...  9.6165    8.704333     5.3665                7.63300   4.8865   \n",
       "1  ...  7.9260    7.936667     5.1420                8.33075   6.0695   \n",
       "2  ...  1.3435    6.430000     4.1520                7.31950   6.5145   \n",
       "3  ...  7.3090    4.545667     2.2830                3.85675   5.2690   \n",
       "4  ...  8.5035    7.907333     6.1800                7.59725   5.0530   \n",
       "\n",
       "   taxation  internet_access  leisure_&_culture  tolerance  outdoors  \n",
       "0    5.0680            8.373             3.1870     9.7385    4.1300  \n",
       "1    4.5885            4.341             4.3285     7.8220    5.5310  \n",
       "2    4.3460            5.396             4.8900     7.0285    3.5155  \n",
       "3    8.5220            2.886             2.9370     6.5395    5.5000  \n",
       "4    4.9550            4.523             8.8740     8.3680    5.3070  \n",
       "\n",
       "[5 rows x 21 columns]"
      ]
     },
     "execution_count": 13,
     "metadata": {},
     "output_type": "execute_result"
    }
   ],
   "source": [
    "# Clean and preprocess UA Scores data\n",
    "ua_scores_df.columns = ua_scores_df.columns.str.strip().str.replace(' ', '_').str.lower()\n",
    "\n",
    "ua_scores_df.head()"
   ]
  },
  {
   "cell_type": "code",
   "execution_count": 14,
   "metadata": {},
   "outputs": [],
   "source": [
    "work_life_balance_df['vacations_taken_(days)'] = pd.to_numeric(work_life_balance_df['vacations_taken_(days)'], errors='coerce')\n",
    "work_life_balance_df['minimum_vacations_offered_(days)'] = pd.to_numeric(work_life_balance_df['minimum_vacations_offered_(days)'], errors='coerce')"
   ]
  },
  {
   "cell_type": "code",
   "execution_count": 15,
   "metadata": {},
   "outputs": [
    {
     "data": {
      "text/html": [
       "<div>\n",
       "<style scoped>\n",
       "    .dataframe tbody tr th:only-of-type {\n",
       "        vertical-align: middle;\n",
       "    }\n",
       "\n",
       "    .dataframe tbody tr th {\n",
       "        vertical-align: top;\n",
       "    }\n",
       "\n",
       "    .dataframe thead th {\n",
       "        text-align: right;\n",
       "    }\n",
       "</style>\n",
       "<table border=\"1\" class=\"dataframe\">\n",
       "  <thead>\n",
       "    <tr style=\"text-align: right;\">\n",
       "      <th></th>\n",
       "      <th>City</th>\n",
       "      <th>Month</th>\n",
       "      <th>Year</th>\n",
       "      <th>Decibel_Level</th>\n",
       "      <th>Traffic_Density</th>\n",
       "      <th>Green_Space_Area</th>\n",
       "      <th>Air_Quality_Index</th>\n",
       "      <th>Happiness_Score</th>\n",
       "      <th>Cost_of_Living_Index</th>\n",
       "      <th>Healthcare_Index</th>\n",
       "    </tr>\n",
       "  </thead>\n",
       "  <tbody>\n",
       "    <tr>\n",
       "      <th>0</th>\n",
       "      <td>New York</td>\n",
       "      <td>January</td>\n",
       "      <td>2024</td>\n",
       "      <td>70</td>\n",
       "      <td>High</td>\n",
       "      <td>35</td>\n",
       "      <td>40</td>\n",
       "      <td>6.5</td>\n",
       "      <td>100</td>\n",
       "      <td>80</td>\n",
       "    </tr>\n",
       "    <tr>\n",
       "      <th>1</th>\n",
       "      <td>Los Angeles</td>\n",
       "      <td>January</td>\n",
       "      <td>2024</td>\n",
       "      <td>65</td>\n",
       "      <td>Medium</td>\n",
       "      <td>40</td>\n",
       "      <td>50</td>\n",
       "      <td>6.8</td>\n",
       "      <td>90</td>\n",
       "      <td>75</td>\n",
       "    </tr>\n",
       "    <tr>\n",
       "      <th>2</th>\n",
       "      <td>Chicago</td>\n",
       "      <td>January</td>\n",
       "      <td>2024</td>\n",
       "      <td>60</td>\n",
       "      <td>Medium</td>\n",
       "      <td>30</td>\n",
       "      <td>55</td>\n",
       "      <td>7.0</td>\n",
       "      <td>85</td>\n",
       "      <td>70</td>\n",
       "    </tr>\n",
       "    <tr>\n",
       "      <th>3</th>\n",
       "      <td>London</td>\n",
       "      <td>January</td>\n",
       "      <td>2024</td>\n",
       "      <td>55</td>\n",
       "      <td>High</td>\n",
       "      <td>50</td>\n",
       "      <td>60</td>\n",
       "      <td>7.2</td>\n",
       "      <td>110</td>\n",
       "      <td>85</td>\n",
       "    </tr>\n",
       "    <tr>\n",
       "      <th>4</th>\n",
       "      <td>Paris</td>\n",
       "      <td>January</td>\n",
       "      <td>2024</td>\n",
       "      <td>60</td>\n",
       "      <td>High</td>\n",
       "      <td>45</td>\n",
       "      <td>65</td>\n",
       "      <td>6.9</td>\n",
       "      <td>95</td>\n",
       "      <td>80</td>\n",
       "    </tr>\n",
       "  </tbody>\n",
       "</table>\n",
       "</div>"
      ],
      "text/plain": [
       "          City    Month  Year  Decibel_Level Traffic_Density  \\\n",
       "0     New York  January  2024             70            High   \n",
       "1  Los Angeles  January  2024             65          Medium   \n",
       "2      Chicago  January  2024             60          Medium   \n",
       "3       London  January  2024             55            High   \n",
       "4        Paris  January  2024             60            High   \n",
       "\n",
       "   Green_Space_Area  Air_Quality_Index  Happiness_Score  Cost_of_Living_Index  \\\n",
       "0                35                 40              6.5                   100   \n",
       "1                40                 50              6.8                    90   \n",
       "2                30                 55              7.0                    85   \n",
       "3                50                 60              7.2                   110   \n",
       "4                45                 65              6.9                    95   \n",
       "\n",
       "   Healthcare_Index  \n",
       "0                80  \n",
       "1                75  \n",
       "2                70  \n",
       "3                85  \n",
       "4                80  "
      ]
     },
     "execution_count": 15,
     "metadata": {},
     "output_type": "execute_result"
    }
   ],
   "source": [
    "train_df.head()"
   ]
  },
  {
   "cell_type": "markdown",
   "metadata": {},
   "source": [
    "##### (Uit de data)\n",
    "\n",
    "Uit de tabel kunnen diverse indicatoren worden gehaald die samen een beeld geven van het welzijn van de bevolking in steden. Uit de gegevens blijkt dat steden zoals Oslo, Bern, Helsinki, Zurich en Kopenhagen hoger scoren op welvaart en welzijn. Deze steden hebben lage werkloosheid, goede toegang tot gezondheidszorg, inclusiviteit en tolerantie, en bieden veel buitenruimtes en goede luchtkwaliteit. Ze bieden ook voldoende vakantiedagen aan hun inwoners, wat bijdraagt aan een betere werk-leven balans. Over het algemeen hebben welvarende steden dus gunstige omstandigheden voor een hoog welzijn van hun bevolking.\n",
    "\n",
    "> Een laag werkloosheidspercentage (\"unemployment\") duidt vaak op een gezonde economie en goede werkgelegenheid, wat positief bijdraagt aan het welzijn. Hoge werkloosheid kan leiden tot financiële onzekerheid en stress..\n",
    "\n",
    "> De scores voor \"healthcare\" en \"access_to_mental_healthcare\" geven aan hoe goed de gezondheidszorgsystemen zijn en hoe gemakkelijk mensen toegang hebben tot geestelijke gezondheidszorg. Goede gezondheidszorg en toegang tot geestelijke gezondheidszorg zijn cruciaal voor het algehele welzijn.\n",
    "\n",
    "> De \"city_safety\" score geeft een indicatie van hoe veilig een stad is. Veiligheid is een fundamentele factor voor het welzijn van de bevolking, aangezien mensen zich veiliger en meer op hun gemak voelen in een veilige omgeving.\n"
   ]
  },
  {
   "cell_type": "code",
   "execution_count": 16,
   "metadata": {},
   "outputs": [
    {
     "data": {
      "application/vnd.plotly.v1+json": {
       "config": {
        "plotlyServerURL": "https://plot.ly"
       },
       "data": [
        {
         "alignmentgroup": "True",
         "hovertemplate": "city=%{x}<br>Remote Jobs (%)=%{y}<extra></extra>",
         "legendgroup": "",
         "marker": {
          "color": "#636efa",
          "pattern": {
           "shape": ""
          }
         },
         "name": "",
         "offsetgroup": "",
         "orientation": "v",
         "showlegend": false,
         "textposition": "auto",
         "type": "bar",
         "x": [
          "Oslo",
          "Bern",
          "Helsinki",
          "Zurich",
          "Copenhagen",
          "Geneva",
          "Ottawa",
          "Sydney",
          "Stuttgart",
          "Munich",
          "Stockholm",
          "Melbourne",
          "Amsterdam",
          "Tokyo",
          "Leipzig",
          "Vancouver",
          "Auckland",
          "Hamburg",
          "Toronto",
          "Frankfurt (am Main)",
          "Dusseldorf",
          "Berlin",
          "Bremen",
          "Liverpool",
          "Glasgow",
          "Cologne",
          "London",
          "Paris",
          "Graz",
          "Calgary",
          "Manchester",
          "Seattle",
          "Portland",
          "Vienna",
          "Minneapolis",
          "Salt Lake City",
          "Dublin",
          "Boston",
          "San Francisco",
          "Brussels",
          "Washington",
          "Madrid",
          "Omaha",
          "San Diego",
          "Singapore",
          "Denver",
          "Virginia Beach",
          "Raleigh",
          "Sacramento",
          "Barcelona",
          "Lisbon",
          "Des Moines",
          "Honolulu",
          "Budapest",
          "Colorado Springs",
          "Tampa",
          "Kansas City",
          "Charlotte",
          "New York",
          "Atlanta",
          "Milwaukee",
          "Austin",
          "Milan",
          "Pittsburgh",
          "Jacksonville",
          "Nashville",
          "Cincinnati",
          "Columbus",
          "Chicago",
          "Miami",
          "Baltimore",
          "Philadelphia",
          "Indianapolis",
          "Tucson",
          "Cleveland",
          "Oklahoma City",
          "Dallas",
          "Los Angeles",
          "Phoenix",
          "San Antonio",
          "Tulsa",
          "Wichita",
          "Louisville",
          "Detroit",
          "Albuquerque",
          "El Paso",
          "Houston",
          "Seoul",
          "Las Vegas",
          "New Orleans",
          "St. Louis",
          "Memphis",
          "Hong Kong",
          "Montevideo",
          "Buenos Aires",
          "Bangkok",
          "Sao Paulo",
          "Kuala Lumpur",
          "Dubai",
          "Cape Town"
         ],
         "xaxis": "x",
         "y": [
          0.4172,
          0.4486,
          0.3892,
          0.4486,
          0.4142,
          0.4486,
          0.37810000000000005,
          0.38789999999999997,
          0.36729999999999996,
          0.36729999999999996,
          0.442,
          0.38789999999999997,
          0.4155,
          0.3652,
          0.36729999999999996,
          0.37810000000000005,
          0.3625,
          0.36729999999999996,
          0.37810000000000005,
          0.36729999999999996,
          0.36729999999999996,
          0.36729999999999996,
          0.36729999999999996,
          0.435,
          0.435,
          0.36729999999999996,
          0.435,
          0.3774,
          0.3669,
          0.37810000000000005,
          0.435,
          0.4228,
          0.3849,
          0.3669,
          0.4114,
          0.4334,
          0.3871,
          0.4435,
          0.4476,
          0.42340000000000005,
          0.49770000000000003,
          0.3169,
          0.389,
          0.39520000000000005,
          0.5206000000000001,
          0.42579999999999996,
          0.3464,
          0.413,
          0.40340000000000004,
          0.3169,
          0.33159999999999995,
          0.4266,
          0.3543,
          0.30920000000000003,
          0.4031,
          0.3994,
          0.3948,
          0.3787,
          0.41960000000000003,
          0.4039,
          0.36479999999999996,
          0.4551,
          0.34990000000000004,
          0.3682,
          0.3661,
          0.3641,
          0.36200000000000004,
          0.3954,
          0.3918,
          0.36700000000000005,
          0.4155,
          0.4011,
          0.35960000000000003,
          0.3729,
          0.3131,
          0.3734,
          0.3969,
          0.3909,
          0.38880000000000003,
          0.3771,
          0.3513,
          0.3354,
          0.3301,
          0.3507,
          0.35719999999999996,
          0.3483,
          0.37329999999999997,
          0.37,
          0.3041,
          0.4157,
          0.3759,
          0.3181,
          0.40270000000000006,
          0.2729,
          0.2839,
          0.1684,
          0.2565,
          0.307,
          0.2889,
          0.2606
         ],
         "yaxis": "y"
        }
       ],
       "layout": {
        "barmode": "relative",
        "legend": {
         "tracegroupgap": 0
        },
        "template": {
         "data": {
          "bar": [
           {
            "error_x": {
             "color": "#2a3f5f"
            },
            "error_y": {
             "color": "#2a3f5f"
            },
            "marker": {
             "line": {
              "color": "#E5ECF6",
              "width": 0.5
             },
             "pattern": {
              "fillmode": "overlay",
              "size": 10,
              "solidity": 0.2
             }
            },
            "type": "bar"
           }
          ],
          "barpolar": [
           {
            "marker": {
             "line": {
              "color": "#E5ECF6",
              "width": 0.5
             },
             "pattern": {
              "fillmode": "overlay",
              "size": 10,
              "solidity": 0.2
             }
            },
            "type": "barpolar"
           }
          ],
          "carpet": [
           {
            "aaxis": {
             "endlinecolor": "#2a3f5f",
             "gridcolor": "white",
             "linecolor": "white",
             "minorgridcolor": "white",
             "startlinecolor": "#2a3f5f"
            },
            "baxis": {
             "endlinecolor": "#2a3f5f",
             "gridcolor": "white",
             "linecolor": "white",
             "minorgridcolor": "white",
             "startlinecolor": "#2a3f5f"
            },
            "type": "carpet"
           }
          ],
          "choropleth": [
           {
            "colorbar": {
             "outlinewidth": 0,
             "ticks": ""
            },
            "type": "choropleth"
           }
          ],
          "contour": [
           {
            "colorbar": {
             "outlinewidth": 0,
             "ticks": ""
            },
            "colorscale": [
             [
              0,
              "#0d0887"
             ],
             [
              0.1111111111111111,
              "#46039f"
             ],
             [
              0.2222222222222222,
              "#7201a8"
             ],
             [
              0.3333333333333333,
              "#9c179e"
             ],
             [
              0.4444444444444444,
              "#bd3786"
             ],
             [
              0.5555555555555556,
              "#d8576b"
             ],
             [
              0.6666666666666666,
              "#ed7953"
             ],
             [
              0.7777777777777778,
              "#fb9f3a"
             ],
             [
              0.8888888888888888,
              "#fdca26"
             ],
             [
              1,
              "#f0f921"
             ]
            ],
            "type": "contour"
           }
          ],
          "contourcarpet": [
           {
            "colorbar": {
             "outlinewidth": 0,
             "ticks": ""
            },
            "type": "contourcarpet"
           }
          ],
          "heatmap": [
           {
            "colorbar": {
             "outlinewidth": 0,
             "ticks": ""
            },
            "colorscale": [
             [
              0,
              "#0d0887"
             ],
             [
              0.1111111111111111,
              "#46039f"
             ],
             [
              0.2222222222222222,
              "#7201a8"
             ],
             [
              0.3333333333333333,
              "#9c179e"
             ],
             [
              0.4444444444444444,
              "#bd3786"
             ],
             [
              0.5555555555555556,
              "#d8576b"
             ],
             [
              0.6666666666666666,
              "#ed7953"
             ],
             [
              0.7777777777777778,
              "#fb9f3a"
             ],
             [
              0.8888888888888888,
              "#fdca26"
             ],
             [
              1,
              "#f0f921"
             ]
            ],
            "type": "heatmap"
           }
          ],
          "heatmapgl": [
           {
            "colorbar": {
             "outlinewidth": 0,
             "ticks": ""
            },
            "colorscale": [
             [
              0,
              "#0d0887"
             ],
             [
              0.1111111111111111,
              "#46039f"
             ],
             [
              0.2222222222222222,
              "#7201a8"
             ],
             [
              0.3333333333333333,
              "#9c179e"
             ],
             [
              0.4444444444444444,
              "#bd3786"
             ],
             [
              0.5555555555555556,
              "#d8576b"
             ],
             [
              0.6666666666666666,
              "#ed7953"
             ],
             [
              0.7777777777777778,
              "#fb9f3a"
             ],
             [
              0.8888888888888888,
              "#fdca26"
             ],
             [
              1,
              "#f0f921"
             ]
            ],
            "type": "heatmapgl"
           }
          ],
          "histogram": [
           {
            "marker": {
             "pattern": {
              "fillmode": "overlay",
              "size": 10,
              "solidity": 0.2
             }
            },
            "type": "histogram"
           }
          ],
          "histogram2d": [
           {
            "colorbar": {
             "outlinewidth": 0,
             "ticks": ""
            },
            "colorscale": [
             [
              0,
              "#0d0887"
             ],
             [
              0.1111111111111111,
              "#46039f"
             ],
             [
              0.2222222222222222,
              "#7201a8"
             ],
             [
              0.3333333333333333,
              "#9c179e"
             ],
             [
              0.4444444444444444,
              "#bd3786"
             ],
             [
              0.5555555555555556,
              "#d8576b"
             ],
             [
              0.6666666666666666,
              "#ed7953"
             ],
             [
              0.7777777777777778,
              "#fb9f3a"
             ],
             [
              0.8888888888888888,
              "#fdca26"
             ],
             [
              1,
              "#f0f921"
             ]
            ],
            "type": "histogram2d"
           }
          ],
          "histogram2dcontour": [
           {
            "colorbar": {
             "outlinewidth": 0,
             "ticks": ""
            },
            "colorscale": [
             [
              0,
              "#0d0887"
             ],
             [
              0.1111111111111111,
              "#46039f"
             ],
             [
              0.2222222222222222,
              "#7201a8"
             ],
             [
              0.3333333333333333,
              "#9c179e"
             ],
             [
              0.4444444444444444,
              "#bd3786"
             ],
             [
              0.5555555555555556,
              "#d8576b"
             ],
             [
              0.6666666666666666,
              "#ed7953"
             ],
             [
              0.7777777777777778,
              "#fb9f3a"
             ],
             [
              0.8888888888888888,
              "#fdca26"
             ],
             [
              1,
              "#f0f921"
             ]
            ],
            "type": "histogram2dcontour"
           }
          ],
          "mesh3d": [
           {
            "colorbar": {
             "outlinewidth": 0,
             "ticks": ""
            },
            "type": "mesh3d"
           }
          ],
          "parcoords": [
           {
            "line": {
             "colorbar": {
              "outlinewidth": 0,
              "ticks": ""
             }
            },
            "type": "parcoords"
           }
          ],
          "pie": [
           {
            "automargin": true,
            "type": "pie"
           }
          ],
          "scatter": [
           {
            "fillpattern": {
             "fillmode": "overlay",
             "size": 10,
             "solidity": 0.2
            },
            "type": "scatter"
           }
          ],
          "scatter3d": [
           {
            "line": {
             "colorbar": {
              "outlinewidth": 0,
              "ticks": ""
             }
            },
            "marker": {
             "colorbar": {
              "outlinewidth": 0,
              "ticks": ""
             }
            },
            "type": "scatter3d"
           }
          ],
          "scattercarpet": [
           {
            "marker": {
             "colorbar": {
              "outlinewidth": 0,
              "ticks": ""
             }
            },
            "type": "scattercarpet"
           }
          ],
          "scattergeo": [
           {
            "marker": {
             "colorbar": {
              "outlinewidth": 0,
              "ticks": ""
             }
            },
            "type": "scattergeo"
           }
          ],
          "scattergl": [
           {
            "marker": {
             "colorbar": {
              "outlinewidth": 0,
              "ticks": ""
             }
            },
            "type": "scattergl"
           }
          ],
          "scattermapbox": [
           {
            "marker": {
             "colorbar": {
              "outlinewidth": 0,
              "ticks": ""
             }
            },
            "type": "scattermapbox"
           }
          ],
          "scatterpolar": [
           {
            "marker": {
             "colorbar": {
              "outlinewidth": 0,
              "ticks": ""
             }
            },
            "type": "scatterpolar"
           }
          ],
          "scatterpolargl": [
           {
            "marker": {
             "colorbar": {
              "outlinewidth": 0,
              "ticks": ""
             }
            },
            "type": "scatterpolargl"
           }
          ],
          "scatterternary": [
           {
            "marker": {
             "colorbar": {
              "outlinewidth": 0,
              "ticks": ""
             }
            },
            "type": "scatterternary"
           }
          ],
          "surface": [
           {
            "colorbar": {
             "outlinewidth": 0,
             "ticks": ""
            },
            "colorscale": [
             [
              0,
              "#0d0887"
             ],
             [
              0.1111111111111111,
              "#46039f"
             ],
             [
              0.2222222222222222,
              "#7201a8"
             ],
             [
              0.3333333333333333,
              "#9c179e"
             ],
             [
              0.4444444444444444,
              "#bd3786"
             ],
             [
              0.5555555555555556,
              "#d8576b"
             ],
             [
              0.6666666666666666,
              "#ed7953"
             ],
             [
              0.7777777777777778,
              "#fb9f3a"
             ],
             [
              0.8888888888888888,
              "#fdca26"
             ],
             [
              1,
              "#f0f921"
             ]
            ],
            "type": "surface"
           }
          ],
          "table": [
           {
            "cells": {
             "fill": {
              "color": "#EBF0F8"
             },
             "line": {
              "color": "white"
             }
            },
            "header": {
             "fill": {
              "color": "#C8D4E3"
             },
             "line": {
              "color": "white"
             }
            },
            "type": "table"
           }
          ]
         },
         "layout": {
          "annotationdefaults": {
           "arrowcolor": "#2a3f5f",
           "arrowhead": 0,
           "arrowwidth": 1
          },
          "autotypenumbers": "strict",
          "coloraxis": {
           "colorbar": {
            "outlinewidth": 0,
            "ticks": ""
           }
          },
          "colorscale": {
           "diverging": [
            [
             0,
             "#8e0152"
            ],
            [
             0.1,
             "#c51b7d"
            ],
            [
             0.2,
             "#de77ae"
            ],
            [
             0.3,
             "#f1b6da"
            ],
            [
             0.4,
             "#fde0ef"
            ],
            [
             0.5,
             "#f7f7f7"
            ],
            [
             0.6,
             "#e6f5d0"
            ],
            [
             0.7,
             "#b8e186"
            ],
            [
             0.8,
             "#7fbc41"
            ],
            [
             0.9,
             "#4d9221"
            ],
            [
             1,
             "#276419"
            ]
           ],
           "sequential": [
            [
             0,
             "#0d0887"
            ],
            [
             0.1111111111111111,
             "#46039f"
            ],
            [
             0.2222222222222222,
             "#7201a8"
            ],
            [
             0.3333333333333333,
             "#9c179e"
            ],
            [
             0.4444444444444444,
             "#bd3786"
            ],
            [
             0.5555555555555556,
             "#d8576b"
            ],
            [
             0.6666666666666666,
             "#ed7953"
            ],
            [
             0.7777777777777778,
             "#fb9f3a"
            ],
            [
             0.8888888888888888,
             "#fdca26"
            ],
            [
             1,
             "#f0f921"
            ]
           ],
           "sequentialminus": [
            [
             0,
             "#0d0887"
            ],
            [
             0.1111111111111111,
             "#46039f"
            ],
            [
             0.2222222222222222,
             "#7201a8"
            ],
            [
             0.3333333333333333,
             "#9c179e"
            ],
            [
             0.4444444444444444,
             "#bd3786"
            ],
            [
             0.5555555555555556,
             "#d8576b"
            ],
            [
             0.6666666666666666,
             "#ed7953"
            ],
            [
             0.7777777777777778,
             "#fb9f3a"
            ],
            [
             0.8888888888888888,
             "#fdca26"
            ],
            [
             1,
             "#f0f921"
            ]
           ]
          },
          "colorway": [
           "#636efa",
           "#EF553B",
           "#00cc96",
           "#ab63fa",
           "#FFA15A",
           "#19d3f3",
           "#FF6692",
           "#B6E880",
           "#FF97FF",
           "#FECB52"
          ],
          "font": {
           "color": "#2a3f5f"
          },
          "geo": {
           "bgcolor": "white",
           "lakecolor": "white",
           "landcolor": "#E5ECF6",
           "showlakes": true,
           "showland": true,
           "subunitcolor": "white"
          },
          "hoverlabel": {
           "align": "left"
          },
          "hovermode": "closest",
          "mapbox": {
           "style": "light"
          },
          "paper_bgcolor": "white",
          "plot_bgcolor": "#E5ECF6",
          "polar": {
           "angularaxis": {
            "gridcolor": "white",
            "linecolor": "white",
            "ticks": ""
           },
           "bgcolor": "#E5ECF6",
           "radialaxis": {
            "gridcolor": "white",
            "linecolor": "white",
            "ticks": ""
           }
          },
          "scene": {
           "xaxis": {
            "backgroundcolor": "#E5ECF6",
            "gridcolor": "white",
            "gridwidth": 2,
            "linecolor": "white",
            "showbackground": true,
            "ticks": "",
            "zerolinecolor": "white"
           },
           "yaxis": {
            "backgroundcolor": "#E5ECF6",
            "gridcolor": "white",
            "gridwidth": 2,
            "linecolor": "white",
            "showbackground": true,
            "ticks": "",
            "zerolinecolor": "white"
           },
           "zaxis": {
            "backgroundcolor": "#E5ECF6",
            "gridcolor": "white",
            "gridwidth": 2,
            "linecolor": "white",
            "showbackground": true,
            "ticks": "",
            "zerolinecolor": "white"
           }
          },
          "shapedefaults": {
           "line": {
            "color": "#2a3f5f"
           }
          },
          "ternary": {
           "aaxis": {
            "gridcolor": "white",
            "linecolor": "white",
            "ticks": ""
           },
           "baxis": {
            "gridcolor": "white",
            "linecolor": "white",
            "ticks": ""
           },
           "bgcolor": "#E5ECF6",
           "caxis": {
            "gridcolor": "white",
            "linecolor": "white",
            "ticks": ""
           }
          },
          "title": {
           "x": 0.05
          },
          "xaxis": {
           "automargin": true,
           "gridcolor": "white",
           "linecolor": "white",
           "ticks": "",
           "title": {
            "standoff": 15
           },
           "zerolinecolor": "white",
           "zerolinewidth": 2
          },
          "yaxis": {
           "automargin": true,
           "gridcolor": "white",
           "linecolor": "white",
           "ticks": "",
           "title": {
            "standoff": 15
           },
           "zerolinecolor": "white",
           "zerolinewidth": 2
          }
         }
        },
        "title": {
         "text": "Percentage of Remote Jobs in Cities"
        },
        "xaxis": {
         "anchor": "y",
         "domain": [
          0,
          1
         ],
         "title": {
          "text": "city"
         }
        },
        "yaxis": {
         "anchor": "x",
         "domain": [
          0,
          1
         ],
         "title": {
          "text": "Remote Jobs (%)"
         }
        }
       }
      }
     },
     "metadata": {},
     "output_type": "display_data"
    },
    {
     "data": {
      "application/vnd.plotly.v1+json": {
       "config": {
        "plotlyServerURL": "https://plot.ly"
       },
       "data": [
        {
         "alignmentgroup": "True",
         "hovertemplate": "city=%{x}<br>Overworked Population (%)=%{y}<extra></extra>",
         "legendgroup": "",
         "marker": {
          "color": "#636efa",
          "pattern": {
           "shape": ""
          }
         },
         "name": "",
         "offsetgroup": "",
         "orientation": "v",
         "showlegend": false,
         "textposition": "auto",
         "type": "bar",
         "x": [
          "Oslo",
          "Bern",
          "Helsinki",
          "Zurich",
          "Copenhagen",
          "Geneva",
          "Ottawa",
          "Sydney",
          "Stuttgart",
          "Munich",
          "Stockholm",
          "Melbourne",
          "Amsterdam",
          "Tokyo",
          "Leipzig",
          "Vancouver",
          "Auckland",
          "Hamburg",
          "Toronto",
          "Frankfurt (am Main)",
          "Dusseldorf",
          "Berlin",
          "Bremen",
          "Liverpool",
          "Glasgow",
          "Cologne",
          "London",
          "Paris",
          "Graz",
          "Calgary",
          "Manchester",
          "Seattle",
          "Portland",
          "Vienna",
          "Minneapolis",
          "Salt Lake City",
          "Dublin",
          "Boston",
          "San Francisco",
          "Brussels",
          "Washington",
          "Madrid",
          "Omaha",
          "San Diego",
          "Singapore",
          "Denver",
          "Virginia Beach",
          "Raleigh",
          "Sacramento",
          "Barcelona",
          "Lisbon",
          "Des Moines",
          "Honolulu",
          "Budapest",
          "Colorado Springs",
          "Tampa",
          "Kansas City",
          "Charlotte",
          "New York",
          "Atlanta",
          "Milwaukee",
          "Austin",
          "Milan",
          "Pittsburgh",
          "Jacksonville",
          "Nashville",
          "Cincinnati",
          "Columbus",
          "Chicago",
          "Miami",
          "Baltimore",
          "Philadelphia",
          "Indianapolis",
          "Tucson",
          "Cleveland",
          "Oklahoma City",
          "Dallas",
          "Los Angeles",
          "Phoenix",
          "San Antonio",
          "Tulsa",
          "Wichita",
          "Louisville",
          "Detroit",
          "Albuquerque",
          "El Paso",
          "Houston",
          "Seoul",
          "Las Vegas",
          "New Orleans",
          "St. Louis",
          "Memphis",
          "Hong Kong",
          "Montevideo",
          "Buenos Aires",
          "Bangkok",
          "Sao Paulo",
          "Kuala Lumpur",
          "Dubai",
          "Cape Town"
         ],
         "xaxis": "x",
         "y": [
          0.11199999999999999,
          0.114,
          0.127,
          0.11900000000000001,
          0.105,
          0.11900000000000001,
          0.10099999999999999,
          0.09699999999999999,
          0.11699999999999999,
          0.11900000000000001,
          0.127,
          0.09699999999999999,
          0.086,
          0.154,
          0.125,
          0.10099999999999999,
          0.102,
          0.11699999999999999,
          0.10099999999999999,
          0.11599999999999999,
          0.115,
          0.12,
          0.10800000000000001,
          0.128,
          0.121,
          0.111,
          0.138,
          0.138,
          0.125,
          0.10099999999999999,
          0.129,
          0.131,
          0.125,
          0.125,
          0.13,
          0.133,
          0.127,
          0.12300000000000001,
          0.129,
          0.129,
          0.129,
          0.133,
          0.122,
          0.125,
          0.16899999999999998,
          0.124,
          0.11699999999999999,
          0.125,
          0.122,
          0.131,
          0.147,
          0.134,
          0.11800000000000001,
          0.14400000000000002,
          0.11900000000000001,
          0.125,
          0.11699999999999999,
          0.125,
          0.11900000000000001,
          0.126,
          0.121,
          0.135,
          0.132,
          0.12,
          0.125,
          0.135,
          0.124,
          0.127,
          0.125,
          0.13,
          0.12,
          0.125,
          0.132,
          0.113,
          0.124,
          0.124,
          0.138,
          0.128,
          0.133,
          0.13,
          0.132,
          0.127,
          0.13,
          0.125,
          0.11599999999999999,
          0.115,
          0.13699999999999998,
          0.139,
          0.125,
          0.133,
          0.128,
          0.132,
          0.179,
          0.163,
          0.08800000000000001,
          0.151,
          0.11800000000000001,
          0.171,
          0.23399999999999999,
          0.14800000000000002
         ],
         "yaxis": "y"
        }
       ],
       "layout": {
        "barmode": "relative",
        "legend": {
         "tracegroupgap": 0
        },
        "template": {
         "data": {
          "bar": [
           {
            "error_x": {
             "color": "#2a3f5f"
            },
            "error_y": {
             "color": "#2a3f5f"
            },
            "marker": {
             "line": {
              "color": "#E5ECF6",
              "width": 0.5
             },
             "pattern": {
              "fillmode": "overlay",
              "size": 10,
              "solidity": 0.2
             }
            },
            "type": "bar"
           }
          ],
          "barpolar": [
           {
            "marker": {
             "line": {
              "color": "#E5ECF6",
              "width": 0.5
             },
             "pattern": {
              "fillmode": "overlay",
              "size": 10,
              "solidity": 0.2
             }
            },
            "type": "barpolar"
           }
          ],
          "carpet": [
           {
            "aaxis": {
             "endlinecolor": "#2a3f5f",
             "gridcolor": "white",
             "linecolor": "white",
             "minorgridcolor": "white",
             "startlinecolor": "#2a3f5f"
            },
            "baxis": {
             "endlinecolor": "#2a3f5f",
             "gridcolor": "white",
             "linecolor": "white",
             "minorgridcolor": "white",
             "startlinecolor": "#2a3f5f"
            },
            "type": "carpet"
           }
          ],
          "choropleth": [
           {
            "colorbar": {
             "outlinewidth": 0,
             "ticks": ""
            },
            "type": "choropleth"
           }
          ],
          "contour": [
           {
            "colorbar": {
             "outlinewidth": 0,
             "ticks": ""
            },
            "colorscale": [
             [
              0,
              "#0d0887"
             ],
             [
              0.1111111111111111,
              "#46039f"
             ],
             [
              0.2222222222222222,
              "#7201a8"
             ],
             [
              0.3333333333333333,
              "#9c179e"
             ],
             [
              0.4444444444444444,
              "#bd3786"
             ],
             [
              0.5555555555555556,
              "#d8576b"
             ],
             [
              0.6666666666666666,
              "#ed7953"
             ],
             [
              0.7777777777777778,
              "#fb9f3a"
             ],
             [
              0.8888888888888888,
              "#fdca26"
             ],
             [
              1,
              "#f0f921"
             ]
            ],
            "type": "contour"
           }
          ],
          "contourcarpet": [
           {
            "colorbar": {
             "outlinewidth": 0,
             "ticks": ""
            },
            "type": "contourcarpet"
           }
          ],
          "heatmap": [
           {
            "colorbar": {
             "outlinewidth": 0,
             "ticks": ""
            },
            "colorscale": [
             [
              0,
              "#0d0887"
             ],
             [
              0.1111111111111111,
              "#46039f"
             ],
             [
              0.2222222222222222,
              "#7201a8"
             ],
             [
              0.3333333333333333,
              "#9c179e"
             ],
             [
              0.4444444444444444,
              "#bd3786"
             ],
             [
              0.5555555555555556,
              "#d8576b"
             ],
             [
              0.6666666666666666,
              "#ed7953"
             ],
             [
              0.7777777777777778,
              "#fb9f3a"
             ],
             [
              0.8888888888888888,
              "#fdca26"
             ],
             [
              1,
              "#f0f921"
             ]
            ],
            "type": "heatmap"
           }
          ],
          "heatmapgl": [
           {
            "colorbar": {
             "outlinewidth": 0,
             "ticks": ""
            },
            "colorscale": [
             [
              0,
              "#0d0887"
             ],
             [
              0.1111111111111111,
              "#46039f"
             ],
             [
              0.2222222222222222,
              "#7201a8"
             ],
             [
              0.3333333333333333,
              "#9c179e"
             ],
             [
              0.4444444444444444,
              "#bd3786"
             ],
             [
              0.5555555555555556,
              "#d8576b"
             ],
             [
              0.6666666666666666,
              "#ed7953"
             ],
             [
              0.7777777777777778,
              "#fb9f3a"
             ],
             [
              0.8888888888888888,
              "#fdca26"
             ],
             [
              1,
              "#f0f921"
             ]
            ],
            "type": "heatmapgl"
           }
          ],
          "histogram": [
           {
            "marker": {
             "pattern": {
              "fillmode": "overlay",
              "size": 10,
              "solidity": 0.2
             }
            },
            "type": "histogram"
           }
          ],
          "histogram2d": [
           {
            "colorbar": {
             "outlinewidth": 0,
             "ticks": ""
            },
            "colorscale": [
             [
              0,
              "#0d0887"
             ],
             [
              0.1111111111111111,
              "#46039f"
             ],
             [
              0.2222222222222222,
              "#7201a8"
             ],
             [
              0.3333333333333333,
              "#9c179e"
             ],
             [
              0.4444444444444444,
              "#bd3786"
             ],
             [
              0.5555555555555556,
              "#d8576b"
             ],
             [
              0.6666666666666666,
              "#ed7953"
             ],
             [
              0.7777777777777778,
              "#fb9f3a"
             ],
             [
              0.8888888888888888,
              "#fdca26"
             ],
             [
              1,
              "#f0f921"
             ]
            ],
            "type": "histogram2d"
           }
          ],
          "histogram2dcontour": [
           {
            "colorbar": {
             "outlinewidth": 0,
             "ticks": ""
            },
            "colorscale": [
             [
              0,
              "#0d0887"
             ],
             [
              0.1111111111111111,
              "#46039f"
             ],
             [
              0.2222222222222222,
              "#7201a8"
             ],
             [
              0.3333333333333333,
              "#9c179e"
             ],
             [
              0.4444444444444444,
              "#bd3786"
             ],
             [
              0.5555555555555556,
              "#d8576b"
             ],
             [
              0.6666666666666666,
              "#ed7953"
             ],
             [
              0.7777777777777778,
              "#fb9f3a"
             ],
             [
              0.8888888888888888,
              "#fdca26"
             ],
             [
              1,
              "#f0f921"
             ]
            ],
            "type": "histogram2dcontour"
           }
          ],
          "mesh3d": [
           {
            "colorbar": {
             "outlinewidth": 0,
             "ticks": ""
            },
            "type": "mesh3d"
           }
          ],
          "parcoords": [
           {
            "line": {
             "colorbar": {
              "outlinewidth": 0,
              "ticks": ""
             }
            },
            "type": "parcoords"
           }
          ],
          "pie": [
           {
            "automargin": true,
            "type": "pie"
           }
          ],
          "scatter": [
           {
            "fillpattern": {
             "fillmode": "overlay",
             "size": 10,
             "solidity": 0.2
            },
            "type": "scatter"
           }
          ],
          "scatter3d": [
           {
            "line": {
             "colorbar": {
              "outlinewidth": 0,
              "ticks": ""
             }
            },
            "marker": {
             "colorbar": {
              "outlinewidth": 0,
              "ticks": ""
             }
            },
            "type": "scatter3d"
           }
          ],
          "scattercarpet": [
           {
            "marker": {
             "colorbar": {
              "outlinewidth": 0,
              "ticks": ""
             }
            },
            "type": "scattercarpet"
           }
          ],
          "scattergeo": [
           {
            "marker": {
             "colorbar": {
              "outlinewidth": 0,
              "ticks": ""
             }
            },
            "type": "scattergeo"
           }
          ],
          "scattergl": [
           {
            "marker": {
             "colorbar": {
              "outlinewidth": 0,
              "ticks": ""
             }
            },
            "type": "scattergl"
           }
          ],
          "scattermapbox": [
           {
            "marker": {
             "colorbar": {
              "outlinewidth": 0,
              "ticks": ""
             }
            },
            "type": "scattermapbox"
           }
          ],
          "scatterpolar": [
           {
            "marker": {
             "colorbar": {
              "outlinewidth": 0,
              "ticks": ""
             }
            },
            "type": "scatterpolar"
           }
          ],
          "scatterpolargl": [
           {
            "marker": {
             "colorbar": {
              "outlinewidth": 0,
              "ticks": ""
             }
            },
            "type": "scatterpolargl"
           }
          ],
          "scatterternary": [
           {
            "marker": {
             "colorbar": {
              "outlinewidth": 0,
              "ticks": ""
             }
            },
            "type": "scatterternary"
           }
          ],
          "surface": [
           {
            "colorbar": {
             "outlinewidth": 0,
             "ticks": ""
            },
            "colorscale": [
             [
              0,
              "#0d0887"
             ],
             [
              0.1111111111111111,
              "#46039f"
             ],
             [
              0.2222222222222222,
              "#7201a8"
             ],
             [
              0.3333333333333333,
              "#9c179e"
             ],
             [
              0.4444444444444444,
              "#bd3786"
             ],
             [
              0.5555555555555556,
              "#d8576b"
             ],
             [
              0.6666666666666666,
              "#ed7953"
             ],
             [
              0.7777777777777778,
              "#fb9f3a"
             ],
             [
              0.8888888888888888,
              "#fdca26"
             ],
             [
              1,
              "#f0f921"
             ]
            ],
            "type": "surface"
           }
          ],
          "table": [
           {
            "cells": {
             "fill": {
              "color": "#EBF0F8"
             },
             "line": {
              "color": "white"
             }
            },
            "header": {
             "fill": {
              "color": "#C8D4E3"
             },
             "line": {
              "color": "white"
             }
            },
            "type": "table"
           }
          ]
         },
         "layout": {
          "annotationdefaults": {
           "arrowcolor": "#2a3f5f",
           "arrowhead": 0,
           "arrowwidth": 1
          },
          "autotypenumbers": "strict",
          "coloraxis": {
           "colorbar": {
            "outlinewidth": 0,
            "ticks": ""
           }
          },
          "colorscale": {
           "diverging": [
            [
             0,
             "#8e0152"
            ],
            [
             0.1,
             "#c51b7d"
            ],
            [
             0.2,
             "#de77ae"
            ],
            [
             0.3,
             "#f1b6da"
            ],
            [
             0.4,
             "#fde0ef"
            ],
            [
             0.5,
             "#f7f7f7"
            ],
            [
             0.6,
             "#e6f5d0"
            ],
            [
             0.7,
             "#b8e186"
            ],
            [
             0.8,
             "#7fbc41"
            ],
            [
             0.9,
             "#4d9221"
            ],
            [
             1,
             "#276419"
            ]
           ],
           "sequential": [
            [
             0,
             "#0d0887"
            ],
            [
             0.1111111111111111,
             "#46039f"
            ],
            [
             0.2222222222222222,
             "#7201a8"
            ],
            [
             0.3333333333333333,
             "#9c179e"
            ],
            [
             0.4444444444444444,
             "#bd3786"
            ],
            [
             0.5555555555555556,
             "#d8576b"
            ],
            [
             0.6666666666666666,
             "#ed7953"
            ],
            [
             0.7777777777777778,
             "#fb9f3a"
            ],
            [
             0.8888888888888888,
             "#fdca26"
            ],
            [
             1,
             "#f0f921"
            ]
           ],
           "sequentialminus": [
            [
             0,
             "#0d0887"
            ],
            [
             0.1111111111111111,
             "#46039f"
            ],
            [
             0.2222222222222222,
             "#7201a8"
            ],
            [
             0.3333333333333333,
             "#9c179e"
            ],
            [
             0.4444444444444444,
             "#bd3786"
            ],
            [
             0.5555555555555556,
             "#d8576b"
            ],
            [
             0.6666666666666666,
             "#ed7953"
            ],
            [
             0.7777777777777778,
             "#fb9f3a"
            ],
            [
             0.8888888888888888,
             "#fdca26"
            ],
            [
             1,
             "#f0f921"
            ]
           ]
          },
          "colorway": [
           "#636efa",
           "#EF553B",
           "#00cc96",
           "#ab63fa",
           "#FFA15A",
           "#19d3f3",
           "#FF6692",
           "#B6E880",
           "#FF97FF",
           "#FECB52"
          ],
          "font": {
           "color": "#2a3f5f"
          },
          "geo": {
           "bgcolor": "white",
           "lakecolor": "white",
           "landcolor": "#E5ECF6",
           "showlakes": true,
           "showland": true,
           "subunitcolor": "white"
          },
          "hoverlabel": {
           "align": "left"
          },
          "hovermode": "closest",
          "mapbox": {
           "style": "light"
          },
          "paper_bgcolor": "white",
          "plot_bgcolor": "#E5ECF6",
          "polar": {
           "angularaxis": {
            "gridcolor": "white",
            "linecolor": "white",
            "ticks": ""
           },
           "bgcolor": "#E5ECF6",
           "radialaxis": {
            "gridcolor": "white",
            "linecolor": "white",
            "ticks": ""
           }
          },
          "scene": {
           "xaxis": {
            "backgroundcolor": "#E5ECF6",
            "gridcolor": "white",
            "gridwidth": 2,
            "linecolor": "white",
            "showbackground": true,
            "ticks": "",
            "zerolinecolor": "white"
           },
           "yaxis": {
            "backgroundcolor": "#E5ECF6",
            "gridcolor": "white",
            "gridwidth": 2,
            "linecolor": "white",
            "showbackground": true,
            "ticks": "",
            "zerolinecolor": "white"
           },
           "zaxis": {
            "backgroundcolor": "#E5ECF6",
            "gridcolor": "white",
            "gridwidth": 2,
            "linecolor": "white",
            "showbackground": true,
            "ticks": "",
            "zerolinecolor": "white"
           }
          },
          "shapedefaults": {
           "line": {
            "color": "#2a3f5f"
           }
          },
          "ternary": {
           "aaxis": {
            "gridcolor": "white",
            "linecolor": "white",
            "ticks": ""
           },
           "baxis": {
            "gridcolor": "white",
            "linecolor": "white",
            "ticks": ""
           },
           "bgcolor": "#E5ECF6",
           "caxis": {
            "gridcolor": "white",
            "linecolor": "white",
            "ticks": ""
           }
          },
          "title": {
           "x": 0.05
          },
          "xaxis": {
           "automargin": true,
           "gridcolor": "white",
           "linecolor": "white",
           "ticks": "",
           "title": {
            "standoff": 15
           },
           "zerolinecolor": "white",
           "zerolinewidth": 2
          },
          "yaxis": {
           "automargin": true,
           "gridcolor": "white",
           "linecolor": "white",
           "ticks": "",
           "title": {
            "standoff": 15
           },
           "zerolinecolor": "white",
           "zerolinewidth": 2
          }
         }
        },
        "title": {
         "text": "Percentage of Overworked Population in Cities"
        },
        "xaxis": {
         "anchor": "y",
         "domain": [
          0,
          1
         ],
         "title": {
          "text": "city"
         }
        },
        "yaxis": {
         "anchor": "x",
         "domain": [
          0,
          1
         ],
         "title": {
          "text": "Overworked Population (%)"
         }
        }
       }
      }
     },
     "metadata": {},
     "output_type": "display_data"
    },
    {
     "data": {
      "application/vnd.plotly.v1+json": {
       "config": {
        "plotlyServerURL": "https://plot.ly"
       },
       "data": [
        {
         "alignmentgroup": "True",
         "hovertemplate": "Vacation Metric=minimum_vacations_offered_(days)<br>Days=%{x}<br>City=%{y}<extra></extra>",
         "legendgroup": "minimum_vacations_offered_(days)",
         "marker": {
          "color": "#636efa",
          "pattern": {
           "shape": ""
          }
         },
         "name": "minimum_vacations_offered_(days)",
         "offsetgroup": "minimum_vacations_offered_(days)",
         "orientation": "h",
         "showlegend": true,
         "textposition": "auto",
         "type": "bar",
         "x": [
          25,
          20,
          25,
          20,
          25,
          20,
          10,
          20,
          20,
          20,
          25,
          20,
          20,
          10,
          20,
          10,
          20,
          20,
          10,
          20,
          20,
          20,
          20,
          28,
          28,
          20,
          28,
          25,
          25,
          10,
          28,
          10,
          10,
          25,
          10,
          10,
          20,
          10,
          10,
          20,
          10,
          22,
          10,
          10,
          7,
          10,
          10,
          10,
          10,
          22,
          22,
          10,
          10,
          20,
          10,
          10,
          10,
          10,
          10,
          10,
          10,
          10,
          20,
          10,
          10,
          10,
          10,
          10,
          10,
          10,
          10,
          10,
          10,
          10,
          10,
          10,
          10,
          10,
          10,
          10,
          10,
          10,
          10,
          10,
          10,
          10,
          10,
          15,
          10,
          10,
          10,
          10,
          7,
          20,
          10,
          6,
          10,
          8,
          30,
          15
         ],
         "xaxis": "x",
         "y": [
          "Oslo",
          "Bern",
          "Helsinki",
          "Zurich",
          "Copenhagen",
          "Geneva",
          "Ottawa",
          "Sydney",
          "Stuttgart",
          "Munich",
          "Stockholm",
          "Melbourne",
          "Amsterdam",
          "Tokyo",
          "Leipzig",
          "Vancouver",
          "Auckland",
          "Hamburg",
          "Toronto",
          "Frankfurt (am Main)",
          "Dusseldorf",
          "Berlin",
          "Bremen",
          "Liverpool",
          "Glasgow",
          "Cologne",
          "London",
          "Paris",
          "Graz",
          "Calgary",
          "Manchester",
          "Seattle",
          "Portland",
          "Vienna",
          "Minneapolis",
          "Salt Lake City",
          "Dublin",
          "Boston",
          "San Francisco",
          "Brussels",
          "Washington",
          "Madrid",
          "Omaha",
          "San Diego",
          "Singapore",
          "Denver",
          "Virginia Beach",
          "Raleigh",
          "Sacramento",
          "Barcelona",
          "Lisbon",
          "Des Moines",
          "Honolulu",
          "Budapest",
          "Colorado Springs",
          "Tampa",
          "Kansas City",
          "Charlotte",
          "New York",
          "Atlanta",
          "Milwaukee",
          "Austin",
          "Milan",
          "Pittsburgh",
          "Jacksonville",
          "Nashville",
          "Cincinnati",
          "Columbus",
          "Chicago",
          "Miami",
          "Baltimore",
          "Philadelphia",
          "Indianapolis",
          "Tucson",
          "Cleveland",
          "Oklahoma City",
          "Dallas",
          "Los Angeles",
          "Phoenix",
          "San Antonio",
          "Tulsa",
          "Wichita",
          "Louisville",
          "Detroit",
          "Albuquerque",
          "El Paso",
          "Houston",
          "Seoul",
          "Las Vegas",
          "New Orleans",
          "St. Louis",
          "Memphis",
          "Hong Kong",
          "Montevideo",
          "Buenos Aires",
          "Bangkok",
          "Sao Paulo",
          "Kuala Lumpur",
          "Dubai",
          "Cape Town"
         ],
         "yaxis": "y"
        },
        {
         "alignmentgroup": "True",
         "hovertemplate": "Vacation Metric=vacations_taken_(days)<br>Days=%{x}<br>City=%{y}<extra></extra>",
         "legendgroup": "vacations_taken_(days)",
         "marker": {
          "color": "#EF553B",
          "pattern": {
           "shape": ""
          }
         },
         "name": "vacations_taken_(days)",
         "offsetgroup": "vacations_taken_(days)",
         "orientation": "h",
         "showlegend": true,
         "textposition": "auto",
         "type": "bar",
         "x": [
          25,
          25,
          30,
          25,
          28,
          25,
          16,
          14,
          26,
          26,
          25,
          14,
          24,
          25.5,
          26,
          16,
          13,
          26,
          16,
          26,
          26,
          26,
          26,
          21,
          21,
          26,
          21,
          27,
          25,
          16,
          21,
          8.9,
          8.6,
          25,
          9,
          8.5,
          21,
          9.2,
          8.3,
          24,
          8.1,
          30,
          8.9,
          8.3,
          12,
          8.7,
          9.1,
          9.1,
          8.3,
          30,
          null,
          8.9,
          8.5,
          24.1,
          8.7,
          9.1,
          8.8,
          9.1,
          11.4,
          8.7,
          9.2,
          8.5,
          21,
          9.2,
          9.1,
          8.3,
          9.4,
          9.4,
          10.7,
          9.2,
          8.4,
          9.2,
          8.8,
          9,
          9.4,
          8.3,
          8.5,
          7,
          9,
          8.5,
          8.3,
          8.9,
          9,
          9.1,
          8.1,
          8.5,
          8.5,
          14,
          8.4,
          8.9,
          8.8,
          8.3,
          12,
          null,
          15,
          10,
          30,
          12,
          27,
          null
         ],
         "xaxis": "x2",
         "y": [
          "Oslo",
          "Bern",
          "Helsinki",
          "Zurich",
          "Copenhagen",
          "Geneva",
          "Ottawa",
          "Sydney",
          "Stuttgart",
          "Munich",
          "Stockholm",
          "Melbourne",
          "Amsterdam",
          "Tokyo",
          "Leipzig",
          "Vancouver",
          "Auckland",
          "Hamburg",
          "Toronto",
          "Frankfurt (am Main)",
          "Dusseldorf",
          "Berlin",
          "Bremen",
          "Liverpool",
          "Glasgow",
          "Cologne",
          "London",
          "Paris",
          "Graz",
          "Calgary",
          "Manchester",
          "Seattle",
          "Portland",
          "Vienna",
          "Minneapolis",
          "Salt Lake City",
          "Dublin",
          "Boston",
          "San Francisco",
          "Brussels",
          "Washington",
          "Madrid",
          "Omaha",
          "San Diego",
          "Singapore",
          "Denver",
          "Virginia Beach",
          "Raleigh",
          "Sacramento",
          "Barcelona",
          "Lisbon",
          "Des Moines",
          "Honolulu",
          "Budapest",
          "Colorado Springs",
          "Tampa",
          "Kansas City",
          "Charlotte",
          "New York",
          "Atlanta",
          "Milwaukee",
          "Austin",
          "Milan",
          "Pittsburgh",
          "Jacksonville",
          "Nashville",
          "Cincinnati",
          "Columbus",
          "Chicago",
          "Miami",
          "Baltimore",
          "Philadelphia",
          "Indianapolis",
          "Tucson",
          "Cleveland",
          "Oklahoma City",
          "Dallas",
          "Los Angeles",
          "Phoenix",
          "San Antonio",
          "Tulsa",
          "Wichita",
          "Louisville",
          "Detroit",
          "Albuquerque",
          "El Paso",
          "Houston",
          "Seoul",
          "Las Vegas",
          "New Orleans",
          "St. Louis",
          "Memphis",
          "Hong Kong",
          "Montevideo",
          "Buenos Aires",
          "Bangkok",
          "Sao Paulo",
          "Kuala Lumpur",
          "Dubai",
          "Cape Town"
         ],
         "yaxis": "y2"
        }
       ],
       "layout": {
        "annotations": [
         {
          "font": {},
          "showarrow": false,
          "text": "Vacation Metric: Minimum Vacations Offered (days) vs Vacations Taken (days)",
          "x": 0.5,
          "xanchor": "center",
          "xref": "paper",
          "y": -0.12,
          "yanchor": "bottom",
          "yref": "paper"
         },
         {
          "font": {},
          "showarrow": false,
          "text": "Vacation Metric: Minimum Vacations Offered (days) vs Vacations Taken (days)",
          "x": 0.5,
          "xanchor": "center",
          "xref": "paper",
          "y": -0.12,
          "yanchor": "bottom",
          "yref": "paper"
         }
        ],
        "barmode": "relative",
        "height": 800,
        "legend": {
         "title": {
          "text": "Vacation Metric"
         },
         "tracegroupgap": 0
        },
        "margin": {
         "t": 150
        },
        "template": {
         "data": {
          "bar": [
           {
            "error_x": {
             "color": "#2a3f5f"
            },
            "error_y": {
             "color": "#2a3f5f"
            },
            "marker": {
             "line": {
              "color": "#E5ECF6",
              "width": 0.5
             },
             "pattern": {
              "fillmode": "overlay",
              "size": 10,
              "solidity": 0.2
             }
            },
            "type": "bar"
           }
          ],
          "barpolar": [
           {
            "marker": {
             "line": {
              "color": "#E5ECF6",
              "width": 0.5
             },
             "pattern": {
              "fillmode": "overlay",
              "size": 10,
              "solidity": 0.2
             }
            },
            "type": "barpolar"
           }
          ],
          "carpet": [
           {
            "aaxis": {
             "endlinecolor": "#2a3f5f",
             "gridcolor": "white",
             "linecolor": "white",
             "minorgridcolor": "white",
             "startlinecolor": "#2a3f5f"
            },
            "baxis": {
             "endlinecolor": "#2a3f5f",
             "gridcolor": "white",
             "linecolor": "white",
             "minorgridcolor": "white",
             "startlinecolor": "#2a3f5f"
            },
            "type": "carpet"
           }
          ],
          "choropleth": [
           {
            "colorbar": {
             "outlinewidth": 0,
             "ticks": ""
            },
            "type": "choropleth"
           }
          ],
          "contour": [
           {
            "colorbar": {
             "outlinewidth": 0,
             "ticks": ""
            },
            "colorscale": [
             [
              0,
              "#0d0887"
             ],
             [
              0.1111111111111111,
              "#46039f"
             ],
             [
              0.2222222222222222,
              "#7201a8"
             ],
             [
              0.3333333333333333,
              "#9c179e"
             ],
             [
              0.4444444444444444,
              "#bd3786"
             ],
             [
              0.5555555555555556,
              "#d8576b"
             ],
             [
              0.6666666666666666,
              "#ed7953"
             ],
             [
              0.7777777777777778,
              "#fb9f3a"
             ],
             [
              0.8888888888888888,
              "#fdca26"
             ],
             [
              1,
              "#f0f921"
             ]
            ],
            "type": "contour"
           }
          ],
          "contourcarpet": [
           {
            "colorbar": {
             "outlinewidth": 0,
             "ticks": ""
            },
            "type": "contourcarpet"
           }
          ],
          "heatmap": [
           {
            "colorbar": {
             "outlinewidth": 0,
             "ticks": ""
            },
            "colorscale": [
             [
              0,
              "#0d0887"
             ],
             [
              0.1111111111111111,
              "#46039f"
             ],
             [
              0.2222222222222222,
              "#7201a8"
             ],
             [
              0.3333333333333333,
              "#9c179e"
             ],
             [
              0.4444444444444444,
              "#bd3786"
             ],
             [
              0.5555555555555556,
              "#d8576b"
             ],
             [
              0.6666666666666666,
              "#ed7953"
             ],
             [
              0.7777777777777778,
              "#fb9f3a"
             ],
             [
              0.8888888888888888,
              "#fdca26"
             ],
             [
              1,
              "#f0f921"
             ]
            ],
            "type": "heatmap"
           }
          ],
          "heatmapgl": [
           {
            "colorbar": {
             "outlinewidth": 0,
             "ticks": ""
            },
            "colorscale": [
             [
              0,
              "#0d0887"
             ],
             [
              0.1111111111111111,
              "#46039f"
             ],
             [
              0.2222222222222222,
              "#7201a8"
             ],
             [
              0.3333333333333333,
              "#9c179e"
             ],
             [
              0.4444444444444444,
              "#bd3786"
             ],
             [
              0.5555555555555556,
              "#d8576b"
             ],
             [
              0.6666666666666666,
              "#ed7953"
             ],
             [
              0.7777777777777778,
              "#fb9f3a"
             ],
             [
              0.8888888888888888,
              "#fdca26"
             ],
             [
              1,
              "#f0f921"
             ]
            ],
            "type": "heatmapgl"
           }
          ],
          "histogram": [
           {
            "marker": {
             "pattern": {
              "fillmode": "overlay",
              "size": 10,
              "solidity": 0.2
             }
            },
            "type": "histogram"
           }
          ],
          "histogram2d": [
           {
            "colorbar": {
             "outlinewidth": 0,
             "ticks": ""
            },
            "colorscale": [
             [
              0,
              "#0d0887"
             ],
             [
              0.1111111111111111,
              "#46039f"
             ],
             [
              0.2222222222222222,
              "#7201a8"
             ],
             [
              0.3333333333333333,
              "#9c179e"
             ],
             [
              0.4444444444444444,
              "#bd3786"
             ],
             [
              0.5555555555555556,
              "#d8576b"
             ],
             [
              0.6666666666666666,
              "#ed7953"
             ],
             [
              0.7777777777777778,
              "#fb9f3a"
             ],
             [
              0.8888888888888888,
              "#fdca26"
             ],
             [
              1,
              "#f0f921"
             ]
            ],
            "type": "histogram2d"
           }
          ],
          "histogram2dcontour": [
           {
            "colorbar": {
             "outlinewidth": 0,
             "ticks": ""
            },
            "colorscale": [
             [
              0,
              "#0d0887"
             ],
             [
              0.1111111111111111,
              "#46039f"
             ],
             [
              0.2222222222222222,
              "#7201a8"
             ],
             [
              0.3333333333333333,
              "#9c179e"
             ],
             [
              0.4444444444444444,
              "#bd3786"
             ],
             [
              0.5555555555555556,
              "#d8576b"
             ],
             [
              0.6666666666666666,
              "#ed7953"
             ],
             [
              0.7777777777777778,
              "#fb9f3a"
             ],
             [
              0.8888888888888888,
              "#fdca26"
             ],
             [
              1,
              "#f0f921"
             ]
            ],
            "type": "histogram2dcontour"
           }
          ],
          "mesh3d": [
           {
            "colorbar": {
             "outlinewidth": 0,
             "ticks": ""
            },
            "type": "mesh3d"
           }
          ],
          "parcoords": [
           {
            "line": {
             "colorbar": {
              "outlinewidth": 0,
              "ticks": ""
             }
            },
            "type": "parcoords"
           }
          ],
          "pie": [
           {
            "automargin": true,
            "type": "pie"
           }
          ],
          "scatter": [
           {
            "fillpattern": {
             "fillmode": "overlay",
             "size": 10,
             "solidity": 0.2
            },
            "type": "scatter"
           }
          ],
          "scatter3d": [
           {
            "line": {
             "colorbar": {
              "outlinewidth": 0,
              "ticks": ""
             }
            },
            "marker": {
             "colorbar": {
              "outlinewidth": 0,
              "ticks": ""
             }
            },
            "type": "scatter3d"
           }
          ],
          "scattercarpet": [
           {
            "marker": {
             "colorbar": {
              "outlinewidth": 0,
              "ticks": ""
             }
            },
            "type": "scattercarpet"
           }
          ],
          "scattergeo": [
           {
            "marker": {
             "colorbar": {
              "outlinewidth": 0,
              "ticks": ""
             }
            },
            "type": "scattergeo"
           }
          ],
          "scattergl": [
           {
            "marker": {
             "colorbar": {
              "outlinewidth": 0,
              "ticks": ""
             }
            },
            "type": "scattergl"
           }
          ],
          "scattermapbox": [
           {
            "marker": {
             "colorbar": {
              "outlinewidth": 0,
              "ticks": ""
             }
            },
            "type": "scattermapbox"
           }
          ],
          "scatterpolar": [
           {
            "marker": {
             "colorbar": {
              "outlinewidth": 0,
              "ticks": ""
             }
            },
            "type": "scatterpolar"
           }
          ],
          "scatterpolargl": [
           {
            "marker": {
             "colorbar": {
              "outlinewidth": 0,
              "ticks": ""
             }
            },
            "type": "scatterpolargl"
           }
          ],
          "scatterternary": [
           {
            "marker": {
             "colorbar": {
              "outlinewidth": 0,
              "ticks": ""
             }
            },
            "type": "scatterternary"
           }
          ],
          "surface": [
           {
            "colorbar": {
             "outlinewidth": 0,
             "ticks": ""
            },
            "colorscale": [
             [
              0,
              "#0d0887"
             ],
             [
              0.1111111111111111,
              "#46039f"
             ],
             [
              0.2222222222222222,
              "#7201a8"
             ],
             [
              0.3333333333333333,
              "#9c179e"
             ],
             [
              0.4444444444444444,
              "#bd3786"
             ],
             [
              0.5555555555555556,
              "#d8576b"
             ],
             [
              0.6666666666666666,
              "#ed7953"
             ],
             [
              0.7777777777777778,
              "#fb9f3a"
             ],
             [
              0.8888888888888888,
              "#fdca26"
             ],
             [
              1,
              "#f0f921"
             ]
            ],
            "type": "surface"
           }
          ],
          "table": [
           {
            "cells": {
             "fill": {
              "color": "#EBF0F8"
             },
             "line": {
              "color": "white"
             }
            },
            "header": {
             "fill": {
              "color": "#C8D4E3"
             },
             "line": {
              "color": "white"
             }
            },
            "type": "table"
           }
          ]
         },
         "layout": {
          "annotationdefaults": {
           "arrowcolor": "#2a3f5f",
           "arrowhead": 0,
           "arrowwidth": 1
          },
          "autotypenumbers": "strict",
          "coloraxis": {
           "colorbar": {
            "outlinewidth": 0,
            "ticks": ""
           }
          },
          "colorscale": {
           "diverging": [
            [
             0,
             "#8e0152"
            ],
            [
             0.1,
             "#c51b7d"
            ],
            [
             0.2,
             "#de77ae"
            ],
            [
             0.3,
             "#f1b6da"
            ],
            [
             0.4,
             "#fde0ef"
            ],
            [
             0.5,
             "#f7f7f7"
            ],
            [
             0.6,
             "#e6f5d0"
            ],
            [
             0.7,
             "#b8e186"
            ],
            [
             0.8,
             "#7fbc41"
            ],
            [
             0.9,
             "#4d9221"
            ],
            [
             1,
             "#276419"
            ]
           ],
           "sequential": [
            [
             0,
             "#0d0887"
            ],
            [
             0.1111111111111111,
             "#46039f"
            ],
            [
             0.2222222222222222,
             "#7201a8"
            ],
            [
             0.3333333333333333,
             "#9c179e"
            ],
            [
             0.4444444444444444,
             "#bd3786"
            ],
            [
             0.5555555555555556,
             "#d8576b"
            ],
            [
             0.6666666666666666,
             "#ed7953"
            ],
            [
             0.7777777777777778,
             "#fb9f3a"
            ],
            [
             0.8888888888888888,
             "#fdca26"
            ],
            [
             1,
             "#f0f921"
            ]
           ],
           "sequentialminus": [
            [
             0,
             "#0d0887"
            ],
            [
             0.1111111111111111,
             "#46039f"
            ],
            [
             0.2222222222222222,
             "#7201a8"
            ],
            [
             0.3333333333333333,
             "#9c179e"
            ],
            [
             0.4444444444444444,
             "#bd3786"
            ],
            [
             0.5555555555555556,
             "#d8576b"
            ],
            [
             0.6666666666666666,
             "#ed7953"
            ],
            [
             0.7777777777777778,
             "#fb9f3a"
            ],
            [
             0.8888888888888888,
             "#fdca26"
            ],
            [
             1,
             "#f0f921"
            ]
           ]
          },
          "colorway": [
           "#636efa",
           "#EF553B",
           "#00cc96",
           "#ab63fa",
           "#FFA15A",
           "#19d3f3",
           "#FF6692",
           "#B6E880",
           "#FF97FF",
           "#FECB52"
          ],
          "font": {
           "color": "#2a3f5f"
          },
          "geo": {
           "bgcolor": "white",
           "lakecolor": "white",
           "landcolor": "#E5ECF6",
           "showlakes": true,
           "showland": true,
           "subunitcolor": "white"
          },
          "hoverlabel": {
           "align": "left"
          },
          "hovermode": "closest",
          "mapbox": {
           "style": "light"
          },
          "paper_bgcolor": "white",
          "plot_bgcolor": "#E5ECF6",
          "polar": {
           "angularaxis": {
            "gridcolor": "white",
            "linecolor": "white",
            "ticks": ""
           },
           "bgcolor": "#E5ECF6",
           "radialaxis": {
            "gridcolor": "white",
            "linecolor": "white",
            "ticks": ""
           }
          },
          "scene": {
           "xaxis": {
            "backgroundcolor": "#E5ECF6",
            "gridcolor": "white",
            "gridwidth": 2,
            "linecolor": "white",
            "showbackground": true,
            "ticks": "",
            "zerolinecolor": "white"
           },
           "yaxis": {
            "backgroundcolor": "#E5ECF6",
            "gridcolor": "white",
            "gridwidth": 2,
            "linecolor": "white",
            "showbackground": true,
            "ticks": "",
            "zerolinecolor": "white"
           },
           "zaxis": {
            "backgroundcolor": "#E5ECF6",
            "gridcolor": "white",
            "gridwidth": 2,
            "linecolor": "white",
            "showbackground": true,
            "ticks": "",
            "zerolinecolor": "white"
           }
          },
          "shapedefaults": {
           "line": {
            "color": "#2a3f5f"
           }
          },
          "ternary": {
           "aaxis": {
            "gridcolor": "white",
            "linecolor": "white",
            "ticks": ""
           },
           "baxis": {
            "gridcolor": "white",
            "linecolor": "white",
            "ticks": ""
           },
           "bgcolor": "#E5ECF6",
           "caxis": {
            "gridcolor": "white",
            "linecolor": "white",
            "ticks": ""
           }
          },
          "title": {
           "x": 0.05
          },
          "xaxis": {
           "automargin": true,
           "gridcolor": "white",
           "linecolor": "white",
           "ticks": "",
           "title": {
            "standoff": 15
           },
           "zerolinecolor": "white",
           "zerolinewidth": 2
          },
          "yaxis": {
           "automargin": true,
           "gridcolor": "white",
           "linecolor": "white",
           "ticks": "",
           "title": {
            "standoff": 15
           },
           "zerolinecolor": "white",
           "zerolinewidth": 2
          }
         }
        },
        "title": {
         "text": "Vacation Days Offered vs Taken in Cities",
         "x": 0.5,
         "xanchor": "center",
         "yanchor": "top"
        },
        "xaxis": {
         "anchor": "y",
         "domain": [
          0,
          0.49
         ],
         "title": {
          "text": "Days"
         }
        },
        "xaxis2": {
         "anchor": "y2",
         "domain": [
          0.51,
          1
         ],
         "matches": "x",
         "title": {
          "text": "Days"
         }
        },
        "yaxis": {
         "anchor": "x",
         "categoryorder": "total ascending",
         "domain": [
          0,
          1
         ],
         "title": {
          "text": "City"
         }
        },
        "yaxis2": {
         "anchor": "x2",
         "domain": [
          0,
          1
         ],
         "matches": "y",
         "showticklabels": false
        }
       }
      }
     },
     "metadata": {},
     "output_type": "display_data"
    }
   ],
   "source": [
    "# Bar chart for remote jobs percentage\n",
    "fig_remote_jobs = px.bar(\n",
    "    work_life_balance_df,\n",
    "    x='city',\n",
    "    y='remote_jobs',\n",
    "    title='Percentage of Remote Jobs in Cities',\n",
    "    labels={'remote_jobs': 'Remote Jobs (%)'}\n",
    ")\n",
    "fig_remote_jobs.show()\n",
    "\n",
    "# Bar chart for overworked population percentage\n",
    "fig_overworked_population = px.bar(\n",
    "    work_life_balance_df,\n",
    "    x='city',\n",
    "    y='overworked_population',\n",
    "    title='Percentage of Overworked Population in Cities',\n",
    "    labels={'overworked_population': 'Overworked Population (%)'}\n",
    ")\n",
    "fig_overworked_population.show()\n",
    "\n",
    "melted_df = work_life_balance_df.melt(\n",
    "    id_vars=['city'],\n",
    "    value_vars=['minimum_vacations_offered_(days)', 'vacations_taken_(days)'],\n",
    "    var_name='Vacation Metric',\n",
    "    value_name='Days'\n",
    ")\n",
    "\n",
    "# Faceted bar chart\n",
    "fig_vacations_facet = px.bar(\n",
    "    melted_df,\n",
    "    x='Days',\n",
    "    y='city',\n",
    "    color='Vacation Metric',\n",
    "    facet_col='Vacation Metric',\n",
    "    orientation='h',\n",
    "    title='Vacation Days Offered vs Taken in Cities',\n",
    "    height=800,\n",
    "    labels={'Days': 'Days', 'city': 'City'}\n",
    ")\n",
    "\n",
    "# Update layout to prevent overlapping titles\n",
    "fig_vacations_facet.update_layout(\n",
    "    title={\n",
    "        'text': 'Vacation Days Offered vs Taken in Cities',\n",
    "        'x': 0.5,\n",
    "        'xanchor': 'center',\n",
    "        'yanchor': 'top'\n",
    "    },\n",
    "    yaxis={'categoryorder': 'total ascending'},\n",
    "    margin={'t': 150},\n",
    "    annotations=[dict(x=0.5, y=-0.12, showarrow=False,\n",
    "                      text=\"Vacation Metric: Minimum Vacations Offered (days) vs Vacations Taken (days)\", \n",
    "                      xref=\"paper\", yref=\"paper\")]\n",
    ")\n",
    "\n",
    "# Update facet titles\n",
    "fig_vacations_facet.for_each_annotation(lambda a: a.update(text=a.text.split(\"=\")[-1]))\n",
    "\n",
    "fig_vacations_facet.show()"
   ]
  },
  {
   "cell_type": "markdown",
   "metadata": {},
   "source": [
    "### grafiek 1 en 2 (remote jobs en overwerktheid)\n",
    "\n",
    "Het welzijn van de bevolking wordt sterk beïnvloed door de hoeveelheid overwerkte mensen. Een samenleving die een gezonde werk-privébalans ondersteunt, bevordert niet alleen de fysieke en mentale gezondheid van haar burgers, maar draagt ook bij aan een hogere productiviteit, betere sociale cohesie en een sterker economisch welzijn. Het is daarom essentieel om werkdruk en werkuren te reguleren om het welzijn van de bevolking te bevorderen. Uit de eerste twee grafieken blijkt dat Oslo, Bern en Helsinki een hoog percentage remote-banen (werken van afstand) hebben, wat een positief effect kan hebben op de werk-privé balans. Echter, zelfs met een hoog percentage remote banen, hebben sommige steden zoals Helsinki een relatief hoog percentage overwerkte bevolking. Dit suggereert dat remote werk niet altijd leidt tot een betere werk-privé balans.\n"
   ]
  },
  {
   "cell_type": "markdown",
   "metadata": {},
   "source": [
    "### grafiek 3 (vakantiedagen aangeboden vs genomen)\n",
    "\n",
    "De derde grafiek laat het aantal aangeboden vakantiedagen tegenover het aantal genomen vakantiedagen zien. Het verschil tussen aangeboden en genomen vakantiedagen kan dus een waardevolle maatstaf zijn voor het welzijn van de bevolking. Het reflecteert niet alleen de individuele keuzes van werknemers, maar ook bredere organisatorische en culturele factoren die van invloed zijn op hun welzijn. Het bevorderen van het nemen van vakantiedagen kan bijdragen aan een gezondere en gelukkigere bevolking, wat uiteindelijk zowel werknemers als werkgevers ten goede komt.\n",
    "\n",
    "> In de meeste steden is het zo dat het aantal aangeboden vakantiedagen ook wordt genomen door de bevolking. In Helsinki is het zelfs zo dat werkenemers meer vakantiedagen nemen dan het minimum aangeboden aantal. Dit duidt erop dat een cultuur die vakantiedagen aanmoedigt, een positieve impact kan hebben op de werk-privé balans.\n"
   ]
  },
  {
   "cell_type": "code",
   "execution_count": 17,
   "metadata": {},
   "outputs": [
    {
     "data": {
      "application/vnd.plotly.v1+json": {
       "config": {
        "plotlyServerURL": "https://plot.ly"
       },
       "data": [
        {
         "hovertemplate": "<b>%{hovertext}</b><br><br>ua_country=Netherlands<br>healthcare=%{x}<br>safety=%{y}<br>Economy Score=%{marker.size}<extra></extra>",
         "hovertext": [
          "Amsterdam",
          "Eindhoven",
          "Rotterdam",
          "The Hague",
          "Utrecht"
         ],
         "legendgroup": "Netherlands",
         "marker": {
          "color": "#636efa",
          "size": [
           5.053000000000001,
           5.053000000000001,
           5.053000000000001,
           5.053000000000001,
           5.053000000000001
          ],
          "sizemode": "area",
          "sizeref": 0.03143777777777778,
          "symbol": "circle"
         },
         "mode": "markers",
         "name": "Netherlands",
         "orientation": "v",
         "showlegend": true,
         "type": "scatter",
         "x": [
          7.907333333333333,
          8.559333333333333,
          8.329,
          8.213999999999999,
          8.394
         ],
         "xaxis": "x",
         "y": [
          8.503500000000003,
          9.107,
          8.268,
          8.789000000000001,
          8.631
         ],
         "yaxis": "y"
        },
        {
         "hovertemplate": "<b>%{hovertext}</b><br><br>ua_country=Norway<br>healthcare=%{x}<br>safety=%{y}<br>Economy Score=%{marker.size}<extra></extra>",
         "hovertext": [
          "Bergen",
          "Oslo"
         ],
         "legendgroup": "Norway",
         "marker": {
          "color": "#EF553B",
          "size": [
           7.0735,
           7.0735
          ],
          "sizemode": "area",
          "sizeref": 0.03143777777777778,
          "symbol": "circle"
         },
         "mode": "markers",
         "name": "Norway",
         "orientation": "v",
         "showlegend": true,
         "type": "scatter",
         "x": [
          7.646666666666667,
          7.909999999999998
         ],
         "xaxis": "x",
         "y": [
          7.7075,
          7.1065000000000005
         ],
         "yaxis": "y"
        },
        {
         "hovertemplate": "<b>%{hovertext}</b><br><br>ua_country=Argentina<br>healthcare=%{x}<br>safety=%{y}<br>Economy Score=%{marker.size}<extra></extra>",
         "hovertext": [
          "Buenos Aires"
         ],
         "legendgroup": "Argentina",
         "marker": {
          "color": "#00cc96",
          "size": [
           2.884
          ],
          "sizemode": "area",
          "sizeref": 0.03143777777777778,
          "symbol": "circle"
         },
         "mode": "markers",
         "name": "Argentina",
         "orientation": "v",
         "showlegend": true,
         "type": "scatter",
         "x": [
          6.978999999999998
         ],
         "xaxis": "x",
         "y": [
          6.0395
         ],
         "yaxis": "y"
        },
        {
         "hovertemplate": "<b>%{hovertext}</b><br><br>ua_country=South Africa<br>healthcare=%{x}<br>safety=%{y}<br>Economy Score=%{marker.size}<extra></extra>",
         "hovertext": [
          "Cape Town",
          "Johannesburg"
         ],
         "legendgroup": "South Africa",
         "marker": {
          "color": "#ab63fa",
          "size": [
           2.7680000000000007,
           2.7680000000000007
          ],
          "sizemode": "area",
          "sizeref": 0.03143777777777778,
          "symbol": "circle"
         },
         "mode": "markers",
         "name": "South Africa",
         "orientation": "v",
         "showlegend": true,
         "type": "scatter",
         "x": [
          4.343,
          3.6486666666666663
         ],
         "xaxis": "x",
         "y": [
          5.327999999999999,
          5.165500000000001
         ],
         "yaxis": "y"
        },
        {
         "hovertemplate": "<b>%{hovertext}</b><br><br>ua_country=Sweden<br>healthcare=%{x}<br>safety=%{y}<br>Economy Score=%{marker.size}<extra></extra>",
         "hovertext": [
          "Gothenburg",
          "Malmo",
          "Stockholm",
          "Uppsala"
         ],
         "legendgroup": "Sweden",
         "marker": {
          "color": "#FFA15A",
          "size": [
           5.694499999999999,
           5.694499999999999,
           5.694499999999999,
           5.694499999999999
          ],
          "sizemode": "area",
          "sizeref": 0.03143777777777778,
          "symbol": "circle"
         },
         "mode": "markers",
         "name": "Sweden",
         "orientation": "v",
         "showlegend": true,
         "type": "scatter",
         "x": [
          8.101666666666667,
          8.215,
          8.039333333333332,
          8.152666666666665
         ],
         "xaxis": "x",
         "y": [
          7.296,
          6.598000000000001,
          6.8865,
          7.850000000000001
         ],
         "yaxis": "y"
        },
        {
         "hovertemplate": "<b>%{hovertext}</b><br><br>ua_country=Iran<br>healthcare=%{x}<br>safety=%{y}<br>Economy Score=%{marker.size}<extra></extra>",
         "hovertext": [
          "Tehran"
         ],
         "legendgroup": "Iran",
         "marker": {
          "color": "#19d3f3",
          "size": [
           3.9435
          ],
          "sizemode": "area",
          "sizeref": 0.03143777777777778,
          "symbol": "circle"
         },
         "mode": "markers",
         "name": "Iran",
         "orientation": "v",
         "showlegend": true,
         "type": "scatter",
         "x": [
          5.312333333333332
         ],
         "xaxis": "x",
         "y": [
          6.792999999999999
         ],
         "yaxis": "y"
        }
       ],
       "layout": {
        "legend": {
         "itemsizing": "constant",
         "title": {
          "text": "ua_country"
         },
         "tracegroupgap": 0
        },
        "template": {
         "data": {
          "bar": [
           {
            "error_x": {
             "color": "#2a3f5f"
            },
            "error_y": {
             "color": "#2a3f5f"
            },
            "marker": {
             "line": {
              "color": "#E5ECF6",
              "width": 0.5
             },
             "pattern": {
              "fillmode": "overlay",
              "size": 10,
              "solidity": 0.2
             }
            },
            "type": "bar"
           }
          ],
          "barpolar": [
           {
            "marker": {
             "line": {
              "color": "#E5ECF6",
              "width": 0.5
             },
             "pattern": {
              "fillmode": "overlay",
              "size": 10,
              "solidity": 0.2
             }
            },
            "type": "barpolar"
           }
          ],
          "carpet": [
           {
            "aaxis": {
             "endlinecolor": "#2a3f5f",
             "gridcolor": "white",
             "linecolor": "white",
             "minorgridcolor": "white",
             "startlinecolor": "#2a3f5f"
            },
            "baxis": {
             "endlinecolor": "#2a3f5f",
             "gridcolor": "white",
             "linecolor": "white",
             "minorgridcolor": "white",
             "startlinecolor": "#2a3f5f"
            },
            "type": "carpet"
           }
          ],
          "choropleth": [
           {
            "colorbar": {
             "outlinewidth": 0,
             "ticks": ""
            },
            "type": "choropleth"
           }
          ],
          "contour": [
           {
            "colorbar": {
             "outlinewidth": 0,
             "ticks": ""
            },
            "colorscale": [
             [
              0,
              "#0d0887"
             ],
             [
              0.1111111111111111,
              "#46039f"
             ],
             [
              0.2222222222222222,
              "#7201a8"
             ],
             [
              0.3333333333333333,
              "#9c179e"
             ],
             [
              0.4444444444444444,
              "#bd3786"
             ],
             [
              0.5555555555555556,
              "#d8576b"
             ],
             [
              0.6666666666666666,
              "#ed7953"
             ],
             [
              0.7777777777777778,
              "#fb9f3a"
             ],
             [
              0.8888888888888888,
              "#fdca26"
             ],
             [
              1,
              "#f0f921"
             ]
            ],
            "type": "contour"
           }
          ],
          "contourcarpet": [
           {
            "colorbar": {
             "outlinewidth": 0,
             "ticks": ""
            },
            "type": "contourcarpet"
           }
          ],
          "heatmap": [
           {
            "colorbar": {
             "outlinewidth": 0,
             "ticks": ""
            },
            "colorscale": [
             [
              0,
              "#0d0887"
             ],
             [
              0.1111111111111111,
              "#46039f"
             ],
             [
              0.2222222222222222,
              "#7201a8"
             ],
             [
              0.3333333333333333,
              "#9c179e"
             ],
             [
              0.4444444444444444,
              "#bd3786"
             ],
             [
              0.5555555555555556,
              "#d8576b"
             ],
             [
              0.6666666666666666,
              "#ed7953"
             ],
             [
              0.7777777777777778,
              "#fb9f3a"
             ],
             [
              0.8888888888888888,
              "#fdca26"
             ],
             [
              1,
              "#f0f921"
             ]
            ],
            "type": "heatmap"
           }
          ],
          "heatmapgl": [
           {
            "colorbar": {
             "outlinewidth": 0,
             "ticks": ""
            },
            "colorscale": [
             [
              0,
              "#0d0887"
             ],
             [
              0.1111111111111111,
              "#46039f"
             ],
             [
              0.2222222222222222,
              "#7201a8"
             ],
             [
              0.3333333333333333,
              "#9c179e"
             ],
             [
              0.4444444444444444,
              "#bd3786"
             ],
             [
              0.5555555555555556,
              "#d8576b"
             ],
             [
              0.6666666666666666,
              "#ed7953"
             ],
             [
              0.7777777777777778,
              "#fb9f3a"
             ],
             [
              0.8888888888888888,
              "#fdca26"
             ],
             [
              1,
              "#f0f921"
             ]
            ],
            "type": "heatmapgl"
           }
          ],
          "histogram": [
           {
            "marker": {
             "pattern": {
              "fillmode": "overlay",
              "size": 10,
              "solidity": 0.2
             }
            },
            "type": "histogram"
           }
          ],
          "histogram2d": [
           {
            "colorbar": {
             "outlinewidth": 0,
             "ticks": ""
            },
            "colorscale": [
             [
              0,
              "#0d0887"
             ],
             [
              0.1111111111111111,
              "#46039f"
             ],
             [
              0.2222222222222222,
              "#7201a8"
             ],
             [
              0.3333333333333333,
              "#9c179e"
             ],
             [
              0.4444444444444444,
              "#bd3786"
             ],
             [
              0.5555555555555556,
              "#d8576b"
             ],
             [
              0.6666666666666666,
              "#ed7953"
             ],
             [
              0.7777777777777778,
              "#fb9f3a"
             ],
             [
              0.8888888888888888,
              "#fdca26"
             ],
             [
              1,
              "#f0f921"
             ]
            ],
            "type": "histogram2d"
           }
          ],
          "histogram2dcontour": [
           {
            "colorbar": {
             "outlinewidth": 0,
             "ticks": ""
            },
            "colorscale": [
             [
              0,
              "#0d0887"
             ],
             [
              0.1111111111111111,
              "#46039f"
             ],
             [
              0.2222222222222222,
              "#7201a8"
             ],
             [
              0.3333333333333333,
              "#9c179e"
             ],
             [
              0.4444444444444444,
              "#bd3786"
             ],
             [
              0.5555555555555556,
              "#d8576b"
             ],
             [
              0.6666666666666666,
              "#ed7953"
             ],
             [
              0.7777777777777778,
              "#fb9f3a"
             ],
             [
              0.8888888888888888,
              "#fdca26"
             ],
             [
              1,
              "#f0f921"
             ]
            ],
            "type": "histogram2dcontour"
           }
          ],
          "mesh3d": [
           {
            "colorbar": {
             "outlinewidth": 0,
             "ticks": ""
            },
            "type": "mesh3d"
           }
          ],
          "parcoords": [
           {
            "line": {
             "colorbar": {
              "outlinewidth": 0,
              "ticks": ""
             }
            },
            "type": "parcoords"
           }
          ],
          "pie": [
           {
            "automargin": true,
            "type": "pie"
           }
          ],
          "scatter": [
           {
            "fillpattern": {
             "fillmode": "overlay",
             "size": 10,
             "solidity": 0.2
            },
            "type": "scatter"
           }
          ],
          "scatter3d": [
           {
            "line": {
             "colorbar": {
              "outlinewidth": 0,
              "ticks": ""
             }
            },
            "marker": {
             "colorbar": {
              "outlinewidth": 0,
              "ticks": ""
             }
            },
            "type": "scatter3d"
           }
          ],
          "scattercarpet": [
           {
            "marker": {
             "colorbar": {
              "outlinewidth": 0,
              "ticks": ""
             }
            },
            "type": "scattercarpet"
           }
          ],
          "scattergeo": [
           {
            "marker": {
             "colorbar": {
              "outlinewidth": 0,
              "ticks": ""
             }
            },
            "type": "scattergeo"
           }
          ],
          "scattergl": [
           {
            "marker": {
             "colorbar": {
              "outlinewidth": 0,
              "ticks": ""
             }
            },
            "type": "scattergl"
           }
          ],
          "scattermapbox": [
           {
            "marker": {
             "colorbar": {
              "outlinewidth": 0,
              "ticks": ""
             }
            },
            "type": "scattermapbox"
           }
          ],
          "scatterpolar": [
           {
            "marker": {
             "colorbar": {
              "outlinewidth": 0,
              "ticks": ""
             }
            },
            "type": "scatterpolar"
           }
          ],
          "scatterpolargl": [
           {
            "marker": {
             "colorbar": {
              "outlinewidth": 0,
              "ticks": ""
             }
            },
            "type": "scatterpolargl"
           }
          ],
          "scatterternary": [
           {
            "marker": {
             "colorbar": {
              "outlinewidth": 0,
              "ticks": ""
             }
            },
            "type": "scatterternary"
           }
          ],
          "surface": [
           {
            "colorbar": {
             "outlinewidth": 0,
             "ticks": ""
            },
            "colorscale": [
             [
              0,
              "#0d0887"
             ],
             [
              0.1111111111111111,
              "#46039f"
             ],
             [
              0.2222222222222222,
              "#7201a8"
             ],
             [
              0.3333333333333333,
              "#9c179e"
             ],
             [
              0.4444444444444444,
              "#bd3786"
             ],
             [
              0.5555555555555556,
              "#d8576b"
             ],
             [
              0.6666666666666666,
              "#ed7953"
             ],
             [
              0.7777777777777778,
              "#fb9f3a"
             ],
             [
              0.8888888888888888,
              "#fdca26"
             ],
             [
              1,
              "#f0f921"
             ]
            ],
            "type": "surface"
           }
          ],
          "table": [
           {
            "cells": {
             "fill": {
              "color": "#EBF0F8"
             },
             "line": {
              "color": "white"
             }
            },
            "header": {
             "fill": {
              "color": "#C8D4E3"
             },
             "line": {
              "color": "white"
             }
            },
            "type": "table"
           }
          ]
         },
         "layout": {
          "annotationdefaults": {
           "arrowcolor": "#2a3f5f",
           "arrowhead": 0,
           "arrowwidth": 1
          },
          "autotypenumbers": "strict",
          "coloraxis": {
           "colorbar": {
            "outlinewidth": 0,
            "ticks": ""
           }
          },
          "colorscale": {
           "diverging": [
            [
             0,
             "#8e0152"
            ],
            [
             0.1,
             "#c51b7d"
            ],
            [
             0.2,
             "#de77ae"
            ],
            [
             0.3,
             "#f1b6da"
            ],
            [
             0.4,
             "#fde0ef"
            ],
            [
             0.5,
             "#f7f7f7"
            ],
            [
             0.6,
             "#e6f5d0"
            ],
            [
             0.7,
             "#b8e186"
            ],
            [
             0.8,
             "#7fbc41"
            ],
            [
             0.9,
             "#4d9221"
            ],
            [
             1,
             "#276419"
            ]
           ],
           "sequential": [
            [
             0,
             "#0d0887"
            ],
            [
             0.1111111111111111,
             "#46039f"
            ],
            [
             0.2222222222222222,
             "#7201a8"
            ],
            [
             0.3333333333333333,
             "#9c179e"
            ],
            [
             0.4444444444444444,
             "#bd3786"
            ],
            [
             0.5555555555555556,
             "#d8576b"
            ],
            [
             0.6666666666666666,
             "#ed7953"
            ],
            [
             0.7777777777777778,
             "#fb9f3a"
            ],
            [
             0.8888888888888888,
             "#fdca26"
            ],
            [
             1,
             "#f0f921"
            ]
           ],
           "sequentialminus": [
            [
             0,
             "#0d0887"
            ],
            [
             0.1111111111111111,
             "#46039f"
            ],
            [
             0.2222222222222222,
             "#7201a8"
            ],
            [
             0.3333333333333333,
             "#9c179e"
            ],
            [
             0.4444444444444444,
             "#bd3786"
            ],
            [
             0.5555555555555556,
             "#d8576b"
            ],
            [
             0.6666666666666666,
             "#ed7953"
            ],
            [
             0.7777777777777778,
             "#fb9f3a"
            ],
            [
             0.8888888888888888,
             "#fdca26"
            ],
            [
             1,
             "#f0f921"
            ]
           ]
          },
          "colorway": [
           "#636efa",
           "#EF553B",
           "#00cc96",
           "#ab63fa",
           "#FFA15A",
           "#19d3f3",
           "#FF6692",
           "#B6E880",
           "#FF97FF",
           "#FECB52"
          ],
          "font": {
           "color": "#2a3f5f"
          },
          "geo": {
           "bgcolor": "white",
           "lakecolor": "white",
           "landcolor": "#E5ECF6",
           "showlakes": true,
           "showland": true,
           "subunitcolor": "white"
          },
          "hoverlabel": {
           "align": "left"
          },
          "hovermode": "closest",
          "mapbox": {
           "style": "light"
          },
          "paper_bgcolor": "white",
          "plot_bgcolor": "#E5ECF6",
          "polar": {
           "angularaxis": {
            "gridcolor": "white",
            "linecolor": "white",
            "ticks": ""
           },
           "bgcolor": "#E5ECF6",
           "radialaxis": {
            "gridcolor": "white",
            "linecolor": "white",
            "ticks": ""
           }
          },
          "scene": {
           "xaxis": {
            "backgroundcolor": "#E5ECF6",
            "gridcolor": "white",
            "gridwidth": 2,
            "linecolor": "white",
            "showbackground": true,
            "ticks": "",
            "zerolinecolor": "white"
           },
           "yaxis": {
            "backgroundcolor": "#E5ECF6",
            "gridcolor": "white",
            "gridwidth": 2,
            "linecolor": "white",
            "showbackground": true,
            "ticks": "",
            "zerolinecolor": "white"
           },
           "zaxis": {
            "backgroundcolor": "#E5ECF6",
            "gridcolor": "white",
            "gridwidth": 2,
            "linecolor": "white",
            "showbackground": true,
            "ticks": "",
            "zerolinecolor": "white"
           }
          },
          "shapedefaults": {
           "line": {
            "color": "#2a3f5f"
           }
          },
          "ternary": {
           "aaxis": {
            "gridcolor": "white",
            "linecolor": "white",
            "ticks": ""
           },
           "baxis": {
            "gridcolor": "white",
            "linecolor": "white",
            "ticks": ""
           },
           "bgcolor": "#E5ECF6",
           "caxis": {
            "gridcolor": "white",
            "linecolor": "white",
            "ticks": ""
           }
          },
          "title": {
           "x": 0.05
          },
          "xaxis": {
           "automargin": true,
           "gridcolor": "white",
           "linecolor": "white",
           "ticks": "",
           "title": {
            "standoff": 15
           },
           "zerolinecolor": "white",
           "zerolinewidth": 2
          },
          "yaxis": {
           "automargin": true,
           "gridcolor": "white",
           "linecolor": "white",
           "ticks": "",
           "title": {
            "standoff": 15
           },
           "zerolinecolor": "white",
           "zerolinewidth": 2
          }
         }
        },
        "title": {
         "text": "Safety, Healthcare, and Education Scores vs Economy"
        },
        "xaxis": {
         "anchor": "y",
         "domain": [
          0,
          1
         ],
         "title": {
          "text": "healthcare"
         }
        },
        "yaxis": {
         "anchor": "x",
         "domain": [
          0,
          1
         ],
         "title": {
          "text": "safety"
         }
        }
       }
      }
     },
     "metadata": {},
     "output_type": "display_data"
    }
   ],
   "source": [
    "ua_scores_df['ua_country'] = ua_scores_df['ua_country'].str.strip()\n",
    "\n",
    "countries = ['Netherlands', 'Sweden', 'Norway', 'Argentina', 'South Africa', 'Iran']\n",
    "\n",
    "subset_df_big = ua_scores_df[ua_scores_df['ua_country'].isin(countries)]\n",
    "\n",
    "fig_bubble = px.scatter(\n",
    "    subset_df_big,\n",
    "    x='healthcare',\n",
    "    y='safety',\n",
    "    size='economy',\n",
    "    color='ua_country',\n",
    "    hover_name='ua_name',\n",
    "    title='Safety, Healthcare, and Education Scores vs Economy',\n",
    "    labels={\n",
    "        'cost_of_living': 'Cost of Living',\n",
    "        'economy': 'Economy Score',\n",
    "        'housing': 'Housing Score'\n",
    "    },\n",
    "    size_max=15\n",
    ")\n",
    "\n",
    "fig_bubble.show()"
   ]
  },
  {
   "cell_type": "markdown",
   "metadata": {},
   "source": [
    "## grafiek 4 (Kosten van levensonderhoud vs woningprijzen)\n",
    "\n",
    "De vierde grafiek toont dat steden met een lagere kosten van levensonderhoud niet altijd een zwakkere economie hebben. Bijvoorbeeld, Amsterdam heeft een relatief lage kosten van levensonderhoud, maar scoort hoog op economische sterkte. Dit kan betekenen dat de economische kansen in deze steden compenseren voor de hoge woonlasten.\n"
   ]
  },
  {
   "cell_type": "code",
   "execution_count": 59,
   "metadata": {},
   "outputs": [
    {
     "data": {
      "application/vnd.plotly.v1+json": {
       "config": {
        "plotlyServerURL": "https://plot.ly"
       },
       "data": [
        {
         "fill": "toself",
         "name": "Amsterdam",
         "r": [
          8.503500000000003,
          7.907333333333333,
          6.18,
          5.053000000000001
         ],
         "theta": [
          "Safety",
          "Healthcare",
          "Education",
          "Economy"
         ],
         "type": "scatterpolar"
        },
        {
         "fill": "toself",
         "name": "Bucharest",
         "r": [
          8.985999999999999,
          6.075333333333333,
          2.4475,
          4.103
         ],
         "theta": [
          "Safety",
          "Healthcare",
          "Education",
          "Economy"
         ],
         "type": "scatterpolar"
        },
        {
         "fill": "toself",
         "name": "Riga",
         "r": [
          7.6255,
          5.710000000000001,
          4.090999999999999,
          4.094500000000001
         ],
         "theta": [
          "Safety",
          "Healthcare",
          "Education",
          "Economy"
         ],
         "type": "scatterpolar"
        }
       ],
       "layout": {
        "polar": {
         "radialaxis": {
          "visible": true
         }
        },
        "template": {
         "data": {
          "bar": [
           {
            "error_x": {
             "color": "#2a3f5f"
            },
            "error_y": {
             "color": "#2a3f5f"
            },
            "marker": {
             "line": {
              "color": "#E5ECF6",
              "width": 0.5
             },
             "pattern": {
              "fillmode": "overlay",
              "size": 10,
              "solidity": 0.2
             }
            },
            "type": "bar"
           }
          ],
          "barpolar": [
           {
            "marker": {
             "line": {
              "color": "#E5ECF6",
              "width": 0.5
             },
             "pattern": {
              "fillmode": "overlay",
              "size": 10,
              "solidity": 0.2
             }
            },
            "type": "barpolar"
           }
          ],
          "carpet": [
           {
            "aaxis": {
             "endlinecolor": "#2a3f5f",
             "gridcolor": "white",
             "linecolor": "white",
             "minorgridcolor": "white",
             "startlinecolor": "#2a3f5f"
            },
            "baxis": {
             "endlinecolor": "#2a3f5f",
             "gridcolor": "white",
             "linecolor": "white",
             "minorgridcolor": "white",
             "startlinecolor": "#2a3f5f"
            },
            "type": "carpet"
           }
          ],
          "choropleth": [
           {
            "colorbar": {
             "outlinewidth": 0,
             "ticks": ""
            },
            "type": "choropleth"
           }
          ],
          "contour": [
           {
            "colorbar": {
             "outlinewidth": 0,
             "ticks": ""
            },
            "colorscale": [
             [
              0,
              "#0d0887"
             ],
             [
              0.1111111111111111,
              "#46039f"
             ],
             [
              0.2222222222222222,
              "#7201a8"
             ],
             [
              0.3333333333333333,
              "#9c179e"
             ],
             [
              0.4444444444444444,
              "#bd3786"
             ],
             [
              0.5555555555555556,
              "#d8576b"
             ],
             [
              0.6666666666666666,
              "#ed7953"
             ],
             [
              0.7777777777777778,
              "#fb9f3a"
             ],
             [
              0.8888888888888888,
              "#fdca26"
             ],
             [
              1,
              "#f0f921"
             ]
            ],
            "type": "contour"
           }
          ],
          "contourcarpet": [
           {
            "colorbar": {
             "outlinewidth": 0,
             "ticks": ""
            },
            "type": "contourcarpet"
           }
          ],
          "heatmap": [
           {
            "colorbar": {
             "outlinewidth": 0,
             "ticks": ""
            },
            "colorscale": [
             [
              0,
              "#0d0887"
             ],
             [
              0.1111111111111111,
              "#46039f"
             ],
             [
              0.2222222222222222,
              "#7201a8"
             ],
             [
              0.3333333333333333,
              "#9c179e"
             ],
             [
              0.4444444444444444,
              "#bd3786"
             ],
             [
              0.5555555555555556,
              "#d8576b"
             ],
             [
              0.6666666666666666,
              "#ed7953"
             ],
             [
              0.7777777777777778,
              "#fb9f3a"
             ],
             [
              0.8888888888888888,
              "#fdca26"
             ],
             [
              1,
              "#f0f921"
             ]
            ],
            "type": "heatmap"
           }
          ],
          "heatmapgl": [
           {
            "colorbar": {
             "outlinewidth": 0,
             "ticks": ""
            },
            "colorscale": [
             [
              0,
              "#0d0887"
             ],
             [
              0.1111111111111111,
              "#46039f"
             ],
             [
              0.2222222222222222,
              "#7201a8"
             ],
             [
              0.3333333333333333,
              "#9c179e"
             ],
             [
              0.4444444444444444,
              "#bd3786"
             ],
             [
              0.5555555555555556,
              "#d8576b"
             ],
             [
              0.6666666666666666,
              "#ed7953"
             ],
             [
              0.7777777777777778,
              "#fb9f3a"
             ],
             [
              0.8888888888888888,
              "#fdca26"
             ],
             [
              1,
              "#f0f921"
             ]
            ],
            "type": "heatmapgl"
           }
          ],
          "histogram": [
           {
            "marker": {
             "pattern": {
              "fillmode": "overlay",
              "size": 10,
              "solidity": 0.2
             }
            },
            "type": "histogram"
           }
          ],
          "histogram2d": [
           {
            "colorbar": {
             "outlinewidth": 0,
             "ticks": ""
            },
            "colorscale": [
             [
              0,
              "#0d0887"
             ],
             [
              0.1111111111111111,
              "#46039f"
             ],
             [
              0.2222222222222222,
              "#7201a8"
             ],
             [
              0.3333333333333333,
              "#9c179e"
             ],
             [
              0.4444444444444444,
              "#bd3786"
             ],
             [
              0.5555555555555556,
              "#d8576b"
             ],
             [
              0.6666666666666666,
              "#ed7953"
             ],
             [
              0.7777777777777778,
              "#fb9f3a"
             ],
             [
              0.8888888888888888,
              "#fdca26"
             ],
             [
              1,
              "#f0f921"
             ]
            ],
            "type": "histogram2d"
           }
          ],
          "histogram2dcontour": [
           {
            "colorbar": {
             "outlinewidth": 0,
             "ticks": ""
            },
            "colorscale": [
             [
              0,
              "#0d0887"
             ],
             [
              0.1111111111111111,
              "#46039f"
             ],
             [
              0.2222222222222222,
              "#7201a8"
             ],
             [
              0.3333333333333333,
              "#9c179e"
             ],
             [
              0.4444444444444444,
              "#bd3786"
             ],
             [
              0.5555555555555556,
              "#d8576b"
             ],
             [
              0.6666666666666666,
              "#ed7953"
             ],
             [
              0.7777777777777778,
              "#fb9f3a"
             ],
             [
              0.8888888888888888,
              "#fdca26"
             ],
             [
              1,
              "#f0f921"
             ]
            ],
            "type": "histogram2dcontour"
           }
          ],
          "mesh3d": [
           {
            "colorbar": {
             "outlinewidth": 0,
             "ticks": ""
            },
            "type": "mesh3d"
           }
          ],
          "parcoords": [
           {
            "line": {
             "colorbar": {
              "outlinewidth": 0,
              "ticks": ""
             }
            },
            "type": "parcoords"
           }
          ],
          "pie": [
           {
            "automargin": true,
            "type": "pie"
           }
          ],
          "scatter": [
           {
            "fillpattern": {
             "fillmode": "overlay",
             "size": 10,
             "solidity": 0.2
            },
            "type": "scatter"
           }
          ],
          "scatter3d": [
           {
            "line": {
             "colorbar": {
              "outlinewidth": 0,
              "ticks": ""
             }
            },
            "marker": {
             "colorbar": {
              "outlinewidth": 0,
              "ticks": ""
             }
            },
            "type": "scatter3d"
           }
          ],
          "scattercarpet": [
           {
            "marker": {
             "colorbar": {
              "outlinewidth": 0,
              "ticks": ""
             }
            },
            "type": "scattercarpet"
           }
          ],
          "scattergeo": [
           {
            "marker": {
             "colorbar": {
              "outlinewidth": 0,
              "ticks": ""
             }
            },
            "type": "scattergeo"
           }
          ],
          "scattergl": [
           {
            "marker": {
             "colorbar": {
              "outlinewidth": 0,
              "ticks": ""
             }
            },
            "type": "scattergl"
           }
          ],
          "scattermapbox": [
           {
            "marker": {
             "colorbar": {
              "outlinewidth": 0,
              "ticks": ""
             }
            },
            "type": "scattermapbox"
           }
          ],
          "scatterpolar": [
           {
            "marker": {
             "colorbar": {
              "outlinewidth": 0,
              "ticks": ""
             }
            },
            "type": "scatterpolar"
           }
          ],
          "scatterpolargl": [
           {
            "marker": {
             "colorbar": {
              "outlinewidth": 0,
              "ticks": ""
             }
            },
            "type": "scatterpolargl"
           }
          ],
          "scatterternary": [
           {
            "marker": {
             "colorbar": {
              "outlinewidth": 0,
              "ticks": ""
             }
            },
            "type": "scatterternary"
           }
          ],
          "surface": [
           {
            "colorbar": {
             "outlinewidth": 0,
             "ticks": ""
            },
            "colorscale": [
             [
              0,
              "#0d0887"
             ],
             [
              0.1111111111111111,
              "#46039f"
             ],
             [
              0.2222222222222222,
              "#7201a8"
             ],
             [
              0.3333333333333333,
              "#9c179e"
             ],
             [
              0.4444444444444444,
              "#bd3786"
             ],
             [
              0.5555555555555556,
              "#d8576b"
             ],
             [
              0.6666666666666666,
              "#ed7953"
             ],
             [
              0.7777777777777778,
              "#fb9f3a"
             ],
             [
              0.8888888888888888,
              "#fdca26"
             ],
             [
              1,
              "#f0f921"
             ]
            ],
            "type": "surface"
           }
          ],
          "table": [
           {
            "cells": {
             "fill": {
              "color": "#EBF0F8"
             },
             "line": {
              "color": "white"
             }
            },
            "header": {
             "fill": {
              "color": "#C8D4E3"
             },
             "line": {
              "color": "white"
             }
            },
            "type": "table"
           }
          ]
         },
         "layout": {
          "annotationdefaults": {
           "arrowcolor": "#2a3f5f",
           "arrowhead": 0,
           "arrowwidth": 1
          },
          "autotypenumbers": "strict",
          "coloraxis": {
           "colorbar": {
            "outlinewidth": 0,
            "ticks": ""
           }
          },
          "colorscale": {
           "diverging": [
            [
             0,
             "#8e0152"
            ],
            [
             0.1,
             "#c51b7d"
            ],
            [
             0.2,
             "#de77ae"
            ],
            [
             0.3,
             "#f1b6da"
            ],
            [
             0.4,
             "#fde0ef"
            ],
            [
             0.5,
             "#f7f7f7"
            ],
            [
             0.6,
             "#e6f5d0"
            ],
            [
             0.7,
             "#b8e186"
            ],
            [
             0.8,
             "#7fbc41"
            ],
            [
             0.9,
             "#4d9221"
            ],
            [
             1,
             "#276419"
            ]
           ],
           "sequential": [
            [
             0,
             "#0d0887"
            ],
            [
             0.1111111111111111,
             "#46039f"
            ],
            [
             0.2222222222222222,
             "#7201a8"
            ],
            [
             0.3333333333333333,
             "#9c179e"
            ],
            [
             0.4444444444444444,
             "#bd3786"
            ],
            [
             0.5555555555555556,
             "#d8576b"
            ],
            [
             0.6666666666666666,
             "#ed7953"
            ],
            [
             0.7777777777777778,
             "#fb9f3a"
            ],
            [
             0.8888888888888888,
             "#fdca26"
            ],
            [
             1,
             "#f0f921"
            ]
           ],
           "sequentialminus": [
            [
             0,
             "#0d0887"
            ],
            [
             0.1111111111111111,
             "#46039f"
            ],
            [
             0.2222222222222222,
             "#7201a8"
            ],
            [
             0.3333333333333333,
             "#9c179e"
            ],
            [
             0.4444444444444444,
             "#bd3786"
            ],
            [
             0.5555555555555556,
             "#d8576b"
            ],
            [
             0.6666666666666666,
             "#ed7953"
            ],
            [
             0.7777777777777778,
             "#fb9f3a"
            ],
            [
             0.8888888888888888,
             "#fdca26"
            ],
            [
             1,
             "#f0f921"
            ]
           ]
          },
          "colorway": [
           "#636efa",
           "#EF553B",
           "#00cc96",
           "#ab63fa",
           "#FFA15A",
           "#19d3f3",
           "#FF6692",
           "#B6E880",
           "#FF97FF",
           "#FECB52"
          ],
          "font": {
           "color": "#2a3f5f"
          },
          "geo": {
           "bgcolor": "white",
           "lakecolor": "white",
           "landcolor": "#E5ECF6",
           "showlakes": true,
           "showland": true,
           "subunitcolor": "white"
          },
          "hoverlabel": {
           "align": "left"
          },
          "hovermode": "closest",
          "mapbox": {
           "style": "light"
          },
          "paper_bgcolor": "white",
          "plot_bgcolor": "#E5ECF6",
          "polar": {
           "angularaxis": {
            "gridcolor": "white",
            "linecolor": "white",
            "ticks": ""
           },
           "bgcolor": "#E5ECF6",
           "radialaxis": {
            "gridcolor": "white",
            "linecolor": "white",
            "ticks": ""
           }
          },
          "scene": {
           "xaxis": {
            "backgroundcolor": "#E5ECF6",
            "gridcolor": "white",
            "gridwidth": 2,
            "linecolor": "white",
            "showbackground": true,
            "ticks": "",
            "zerolinecolor": "white"
           },
           "yaxis": {
            "backgroundcolor": "#E5ECF6",
            "gridcolor": "white",
            "gridwidth": 2,
            "linecolor": "white",
            "showbackground": true,
            "ticks": "",
            "zerolinecolor": "white"
           },
           "zaxis": {
            "backgroundcolor": "#E5ECF6",
            "gridcolor": "white",
            "gridwidth": 2,
            "linecolor": "white",
            "showbackground": true,
            "ticks": "",
            "zerolinecolor": "white"
           }
          },
          "shapedefaults": {
           "line": {
            "color": "#2a3f5f"
           }
          },
          "ternary": {
           "aaxis": {
            "gridcolor": "white",
            "linecolor": "white",
            "ticks": ""
           },
           "baxis": {
            "gridcolor": "white",
            "linecolor": "white",
            "ticks": ""
           },
           "bgcolor": "#E5ECF6",
           "caxis": {
            "gridcolor": "white",
            "linecolor": "white",
            "ticks": ""
           }
          },
          "title": {
           "x": 0.05
          },
          "xaxis": {
           "automargin": true,
           "gridcolor": "white",
           "linecolor": "white",
           "ticks": "",
           "title": {
            "standoff": 15
           },
           "zerolinecolor": "white",
           "zerolinewidth": 2
          },
          "yaxis": {
           "automargin": true,
           "gridcolor": "white",
           "linecolor": "white",
           "ticks": "",
           "title": {
            "standoff": 15
           },
           "zerolinecolor": "white",
           "zerolinewidth": 2
          }
         }
        },
        "title": {
         "text": "Safety, Healthcare, and Education Scores vs Economy zoomed in"
        }
       }
      }
     },
     "metadata": {},
     "output_type": "display_data"
    }
   ],
   "source": [
    "subset_df = ua_scores_df[ua_scores_df['ua_name'].isin(['Bucharest', 'Riga', 'Amsterdam'])]\n",
    "\n",
    "# Radar chart\n",
    "fig_radar = go.Figure()\n",
    "\n",
    "for _, row in subset_df.iterrows():\n",
    "    fig_radar.add_trace(go.Scatterpolar(\n",
    "        r=[row['safety'], row['healthcare'], row['education'], row['economy']],\n",
    "        theta=['Safety', 'Healthcare', 'Education', 'Economy'],\n",
    "        fill='toself',\n",
    "        name=row['ua_name']\n",
    "    ))\n",
    "\n",
    "fig_radar.update_layout(\n",
    "    polar=dict(\n",
    "        radialaxis=dict(visible=True)\n",
    "    ),\n",
    "    title='Safety, Healthcare, and Education Scores vs Economy zoomed in'\n",
    ")\n",
    "\n",
    "fig_radar.show()"
   ]
  },
  {
   "cell_type": "markdown",
   "metadata": {},
   "source": [
    "## grafiek 5 (Veiligheid, gezondheidszorg en onderwijsscores)\n",
    "\n",
    "De vijfde grafiek, een radardiagram, vergelijkt steden Amsterdam, Buenos Aires en Kaapstad op basis van veiligheid, gezondheidszorg en onderwijs. Hier is duidelijk te zien dat de welvarende stad als Amsterdam op alle fronten erg hoog scoort (vooral op onderwijs), wat dus impliceert dat een welvarendere stad het welzijn van haar inwoners bevorderd. Ook is duidelijk te zien dat een wat armere stad als Kaapstad op alle fronten aanzienlijk lager scoort.\n"
   ]
  },
  {
   "cell_type": "code",
   "execution_count": 19,
   "metadata": {},
   "outputs": [
    {
     "data": {
      "image/png": "[encoded data removed]",
      "text/plain": [
       "<Figure size 1000x800 with 2 Axes>"
      ]
     },
     "metadata": {},
     "output_type": "display_data"
    }
   ],
   "source": [
    "combined_df = pd.merge(\n",
    "    work_life_balance_df[['city', 'remote_jobs', 'overworked_population', 'minimum_vacations_offered_(days)', 'total_score']],\n",
    "    ua_scores_df[['ua_name', 'safety', 'healthcare', 'education', 'environmental_quality']],\n",
    "    left_on='city', right_on='ua_name'\n",
    ")\n",
    "\n",
    "corr_matrix = combined_df.drop(columns=['city', 'ua_name']).corr()\n",
    "\n",
    "plt.figure(figsize=(10, 8))\n",
    "sns.heatmap(corr_matrix, annot=True, cmap='coolwarm', vmin=-1, vmax=1)\n",
    "plt.title('Correlation Matrix Between Work-Life Balance and Living Conditions')\n",
    "plt.show()"
   ]
  },
  {
   "cell_type": "markdown",
   "metadata": {},
   "source": [
    "## grafiek 6 (Correlatiematrix)\n",
    "\n",
    "De laatste grafiek, de correlatiematrix, toont de relaties tussen verschillende factoren. Er is bijvoorbeeld een sterke positieve correlatie tussen de totale score voor werk-privé balans en veiligheid (0,85), wat suggereert dat veilige steden een betere werk-privé balans bieden. Ook is er een negatieve correlatie tussen overwerkte bevolking en gezondheidszorg (-0,65), wat aangeeft dat betere toegang tot gezondheidszorg kan helpen de werkdruk te verminderen.\n"
   ]
  },
  {
   "cell_type": "markdown",
   "metadata": {},
   "source": [
    "## Conclusie\n",
    "\n",
    "Het algemene beeld dat uit deze data naar voren komt, is dat factoren zoals remote werk, vakantiedagen, kosten van levensonderhoud, en toegang tot gezondheidszorg allemaal bijdragen aan het welzijn van de inwoners van een stad. Steden die hoog scoren op veiligheid scoren ook hoger op bijvoorbeeld gezondheidszorg en economische kansen en bieden over het algemeen een betere werk-privé balans.\n"
   ]
  },
  {
   "cell_type": "code",
   "execution_count": 58,
   "metadata": {},
   "outputs": [
    {
     "data": {
      "application/vnd.plotly.v1+json": {
       "config": {
        "plotlyServerURL": "https://plot.ly"
       },
       "data": [
        {
         "customdata": [
          [
           30,
           6
          ],
          [
           35,
           6.5
          ],
          [
           35,
           5.2
          ],
          [
           15,
           4.5
          ],
          [
           40,
           5
          ],
          [
           20,
           5
          ],
          [
           40,
           6.8
          ],
          [
           5,
           2.5
          ],
          [
           40,
           6.1
          ],
          [
           10,
           3
          ],
          [
           20,
           3.5
          ],
          [
           50,
           6.5
          ],
          [
           15,
           4.5
          ],
          [
           20,
           4.5
          ],
          [
           30,
           5.8
          ],
          [
           45,
           6.8
          ],
          [
           45,
           6.9
          ],
          [
           25,
           5.8
          ],
          [
           15,
           4
          ],
          [
           10,
           3
          ],
          [
           30,
           7
          ],
          [
           50,
           7.2
          ],
          [
           25,
           4.2
          ],
          [
           15,
           3
          ],
          [
           25,
           5.5
          ],
          [
           30,
           5.8
          ],
          [
           25,
           4
          ],
          [
           35,
           5.5
          ],
          [
           5,
           2.8
          ],
          [
           55,
           7.1
          ],
          [
           45,
           7
          ],
          [
           65,
           7.7
          ],
          [
           60,
           7.8
          ],
          [
           15,
           3
          ],
          [
           60,
           7.9
          ],
          [
           55,
           7.5
          ],
          [
           40,
           6.7
          ],
          [
           45,
           6.2
          ],
          [
           60,
           7.6
          ],
          [
           20,
           3
          ],
          [
           70,
           7.8
          ],
          [
           70,
           8.2
          ],
          [
           35,
           6
          ],
          [
           30,
           5.5
          ],
          [
           70,
           7.9
          ],
          [
           40,
           6.7
          ],
          [
           25,
           4.5
          ],
          [
           45,
           6.8
          ],
          [
           35,
           5.5
          ],
          [
           60,
           7.7
          ],
          [
           10,
           2.5
          ],
          [
           25,
           5.2
          ],
          [
           35,
           6
          ],
          [
           80,
           8.1
          ],
          [
           30,
           5.8
          ],
          [
           80,
           8
          ],
          [
           35,
           6
          ],
          [
           50,
           7.3
          ],
          [
           65,
           7.8
          ],
          [
           90,
           8.4
          ],
          [
           30,
           5.5
          ],
          [
           75,
           8.3
          ],
          [
           55,
           7
          ],
          [
           75,
           7.9
          ],
          [
           25,
           5.5
          ],
          [
           25,
           4.5
          ],
          [
           85,
           8.5
          ],
          [
           20,
           3.5
          ],
          [
           15,
           4
          ],
          [
           80,
           8.1
          ],
          [
           75,
           8
          ],
          [
           10,
           3.5
          ],
          [
           25,
           5.5
          ],
          [
           110,
           8.2
          ],
          [
           65,
           7.7
          ],
          [
           25,
           6
          ],
          [
           85,
           8.2
          ],
          [
           50,
           7.2
          ],
          [
           25,
           6
          ],
          [
           110,
           8.2
          ],
          [
           30,
           5.8
          ],
          [
           45,
           6.2
          ],
          [
           185,
           7.8
          ],
          [
           115,
           8.3
          ],
          [
           90,
           8.3
          ],
          [
           25,
           5.5
          ],
          [
           185,
           7.8
          ],
          [
           95,
           8.4
          ],
          [
           135,
           8.2
          ],
          [
           125,
           8.5
          ],
          [
           25,
           6
          ],
          [
           100,
           8.5
          ],
          [
           105,
           8.6
          ],
          [
           140,
           8.3
          ],
          [
           280,
           4.8
          ],
          [
           35,
           5.5
          ],
          [
           60,
           7.7
          ],
          [
           145,
           8.4
          ],
          [
           25,
           5.5
          ],
          [
           30,
           5
          ],
          [
           25,
           6
          ],
          [
           35,
           5.5
          ],
          [
           110,
           8.2
          ],
          [
           110,
           8.2
          ],
          [
           60,
           7.9
          ],
          [
           25,
           4.2
          ],
          [
           80,
           8.1
          ],
          [
           110,
           8.2
          ],
          [
           40,
           6.7
          ],
          [
           55,
           7
          ],
          [
           120,
           8.4
          ],
          [
           25,
           5.5
          ],
          [
           130,
           8.1
          ],
          [
           110,
           8.2
          ],
          [
           55,
           7
          ],
          [
           60,
           7.8
          ],
          [
           50,
           7.2
          ],
          [
           25,
           6
          ],
          [
           90,
           8.3
          ],
          [
           40,
           6.7
          ],
          [
           40,
           6.7
          ],
          [
           45,
           6.2
          ],
          [
           45,
           6.2
          ],
          [
           45,
           6.9
          ],
          [
           30,
           5.8
          ],
          [
           160,
           8.2
          ],
          [
           75,
           7.9
          ],
          [
           55,
           7.5
          ],
          [
           55,
           7
          ],
          [
           70,
           8.2
          ],
          [
           45,
           6.2
          ],
          [
           30,
           5.5
          ],
          [
           185,
           7.8
          ],
          [
           185,
           7.8
          ],
          [
           185,
           7.8
          ],
          [
           50,
           7.2
          ],
          [
           25,
           5.5
          ],
          [
           185,
           7.8
          ],
          [
           165,
           8.3
          ],
          [
           25,
           5.5
          ],
          [
           45,
           6.9
          ],
          [
           45,
           6.2
          ],
          [
           100,
           8.5
          ],
          [
           55,
           7.5
          ],
          [
           45,
           6.9
          ],
          [
           35,
           5.5
          ],
          [
           70,
           8.2
          ],
          [
           80,
           8.1
          ],
          [
           20,
           3.5
          ],
          [
           110,
           8.2
          ],
          [
           45,
           6.9
          ],
          [
           110,
           8.2
          ],
          [
           55,
           7.5
          ],
          [
           80,
           8.1
          ],
          [
           25,
           5.5
          ],
          [
           110,
           8.2
          ],
          [
           300,
           3.8
          ],
          [
           25,
           5.5
          ],
          [
           70,
           7.8
          ],
          [
           290,
           4.2
          ],
          [
           95,
           8.4
          ],
          [
           70,
           7.8
          ],
          [
           110,
           8.2
          ],
          [
           20,
           3.5
          ],
          [
           25,
           5.5
          ],
          [
           70,
           8.2
          ],
          [
           45,
           6.9
          ]
         ],
         "hovertemplate": "<b>%{hovertext}</b><br><br>Green_Space_Area=%{customdata[0]}<br>lat=%{lat}<br>lng=%{lon}<br>Happiness_Score=%{marker.color}<extra></extra>",
         "hovertext": [
          "Tokyo",
          "New York",
          "Mexico City",
          "Mumbai",
          "São Paulo",
          "Shanghai",
          "Los Angeles",
          "Dhaka",
          "Buenos Aires",
          "Karachi",
          "Cairo",
          "Rio de Janeiro",
          "Beijing",
          "Manila",
          "Moscow",
          "Istanbul",
          "Paris",
          "Seoul",
          "Jakarta",
          "Jakarta",
          "Chicago",
          "London",
          "Lima",
          "Tehran",
          "Hong Kong",
          "Taipei",
          "Bangkok",
          "Santiago",
          "Ho Chi Minh City",
          "Toronto",
          "Singapore",
          "Barcelona",
          "Sydney",
          "Hanoi",
          "Melbourne",
          "Berlin",
          "Rome",
          "Athens",
          "Cape Town",
          "Caracas",
          "Lisbon",
          "Vienna",
          "Havana",
          "Santo Domingo",
          "Brisbane",
          "Warsaw",
          "Quito",
          "Budapest",
          "Santiago",
          "Perth",
          "Phnom Penh",
          "Kuala Lumpur",
          "Dubai",
          "Auckland",
          "Panama City",
          "Stockholm",
          "Sofia",
          "Prague",
          "Adelaide",
          "Helsinki",
          "Belgrade",
          "Copenhagen",
          "Dublin",
          "Amsterdam",
          "Kingston",
          "Kathmandu",
          "Oslo",
          "Islamabad",
          "Vientiane",
          "Wellington",
          "Canberra",
          "New Delhi",
          "Colombo",
          "Hamilton",
          "Barcelona",
          "San Juan",
          "Christchurch",
          "London",
          "San Juan",
          "Hamilton",
          "Panama City",
          "Athens",
          "Cambridge",
          "Tauranga",
          "Dunedin",
          "Kingston",
          "Cambridge",
          "Queenstown",
          "Lower Hutt",
          "Palmerston North",
          "San Juan",
          "Nelson",
          "Napier",
          "Napier",
          "Whangarei",
          "Santiago",
          "Perth",
          "Gisborne",
          "Kingston",
          "Bogota",
          "San Juan",
          "Santiago",
          "Hamilton",
          "Hamilton",
          "Melbourne",
          "Lima",
          "Wellington",
          "Hamilton",
          "Rome",
          "Dublin",
          "Rotorua",
          "Kingston",
          "New Plymouth",
          "Hamilton",
          "Dublin",
          "Sydney",
          "London",
          "San Juan",
          "Dunedin",
          "Warsaw",
          "Rome",
          "Athens",
          "Athens",
          "Paris",
          "Moscow",
          "Taupo",
          "Amsterdam",
          "Berlin",
          "Dublin",
          "Vienna",
          "Athens",
          "Belgrade",
          "Cambridge",
          "Cambridge",
          "Cambridge",
          "London",
          "Kingston",
          "Cambridge",
          "Tokoroa",
          "Kingston",
          "Paris",
          "Athens",
          "Nelson",
          "Berlin",
          "Paris",
          "Santiago",
          "Vienna",
          "Wellington",
          "Cairo",
          "Hamilton",
          "Paris",
          "Hamilton",
          "Berlin",
          "Wellington",
          "Kingston",
          "Hamilton",
          "Kerikeri",
          "Kingston",
          "Lisbon",
          "Kaitaia",
          "Queenstown",
          "Lisbon",
          "Hamilton",
          "Cairo",
          "Kingston",
          "Vienna",
          "Paris"
         ],
         "lat": [
          35.685,
          40.6943,
          19.4424,
          19.017,
          -23.5587,
          31.2165,
          34.1139,
          23.7231,
          -34.6025,
          24.87,
          30.05,
          -22.925,
          39.9289,
          14.6042,
          55.7522,
          41.105,
          48.8667,
          37.5663,
          -6.1744,
          -6.1744,
          41.8373,
          51.5,
          -12.048,
          35.6719,
          22.305,
          25.0358,
          13.75,
          -33.45,
          10.78,
          43.7,
          1.293,
          41.3833,
          -33.92,
          21.0333,
          -37.82,
          52.5218,
          41.896,
          37.9833,
          -33.92,
          10.501,
          38.7227,
          48.2,
          23.132,
          18.4701,
          -27.455,
          52.25,
          -0.215,
          47.5,
          19.5,
          -31.955,
          11.55,
          3.1667,
          25.23,
          -36.8481,
          8.968,
          59.3508,
          42.6833,
          50.0833,
          -34.935,
          60.1756,
          44.8186,
          55.6786,
          53.3331,
          52.35,
          17.9771,
          27.7167,
          59.9167,
          33.7,
          17.9667,
          -41.3,
          -35.283,
          28.6,
          6.932,
          43.25,
          10.1304,
          -31.55,
          -43.535,
          42.97,
          18.4037,
          -37.7783,
          30.1995,
          33.9508,
          52.2004,
          -37.6964,
          -45.8854,
          44.2337,
          42.3759,
          -31.8996,
          -41.2037,
          -40.3527,
          18.807,
          -41.2926,
          -39.49,
          -39.49,
          -35.7256,
          8.1004,
          56.4003,
          -38.6633,
          41.2652,
          40.8751,
          14.6,
          16.6881,
          55.7667,
          40.2046,
          28.1085,
          40.741,
          26.6464,
          39.3938,
          34.2662,
          37.7161,
          -38.1317,
          41.9295,
          -39.0556,
          32.2942,
          40.1112,
          46.0661,
          37.1209,
          26.1903,
          28.0329,
          41.2443,
          43.226,
          39.3269,
          34.7847,
          33.6689,
          46.7307,
          -38.693,
          42.942,
          41.6114,
          32.5359,
          38.8996,
          35.4573,
          45.7796,
          45.5612,
          -37.8894,
          40.0221,
          39.8936,
          -42.9911,
          38.5515,
          -38.2245,
          41.9862,
          38.2016,
          32.2041,
          49.4837,
          44.4869,
          36.2933,
          -14.1896,
          39.3238,
          40.7007,
          30.879,
          -37.7312,
          39.6148,
          42.6267,
          39.7915,
          37.2622,
          41.4738,
          46.2527,
          -35.2285,
          35.8713,
          40.7752,
          -35.1099,
          -42.0829,
          44.0265,
          34.1346,
          42.2965,
          42.9156,
          43.2344,
          44.2445
         ],
         "legendgroup": "",
         "lon": [
          139.7514,
          -73.9249,
          -99.131,
          72.857,
          -46.625,
          121.4365,
          -118.4068,
          90.4086,
          -58.3975,
          66.99,
          31.25,
          -43.225,
          116.3883,
          120.9822,
          37.6155,
          29.01,
          2.3333,
          126.9997,
          106.8294,
          106.8294,
          -87.6862,
          -0.1167,
          -77.0501,
          51.4243,
          114.185,
          121.5683,
          100.5166,
          -70.667,
          106.695,
          -79.42,
          103.8558,
          2.1834,
          151.1852,
          105.85,
          144.975,
          13.4015,
          12.4833,
          23.7333,
          18.435,
          -66.917,
          -9.1449,
          16.3666,
          -82.3642,
          -69.9001,
          153.0351,
          21,
          -78.5001,
          19.0833,
          -70.67,
          115.84,
          104.9166,
          101.7,
          55.28,
          174.763,
          -79.533,
          18.0973,
          23.3167,
          14.466,
          138.6,
          24.9341,
          20.468,
          12.5635,
          -6.2489,
          4.9166,
          -76.7674,
          85.3166,
          10.75,
          73.1666,
          102.6,
          174.7833,
          149.129,
          77.2,
          79.8578,
          -79.83,
          -64.72,
          -68.52,
          172.63,
          -81.25,
          -66.0636,
          175.2896,
          -85.6003,
          -83.3689,
          0.1166,
          176.1536,
          170.491,
          -76.4833,
          -71.1185,
          26.88,
          174.9123,
          175.6072,
          -71.229,
          173.2474,
          176.9265,
          176.9265,
          174.323,
          -80.9833,
          -3.47,
          178.0181,
          -75.8875,
          -74.0293,
          121.0333,
          121.5472,
          -4.0333,
          -74.6765,
          -80.6627,
          -84.1121,
          -80.2706,
          -84.5652,
          -85.1862,
          -121.8964,
          176.2483,
          -73.9968,
          174.0748,
          -64.7839,
          -83.1453,
          -60.18,
          -84.0804,
          -98.152,
          -82.7863,
          -85.8478,
          -75.491,
          -82.0987,
          -86.951,
          -95.5462,
          -116.9986,
          176.0771,
          -74.1907,
          -72.7758,
          -82.9279,
          -77.2597,
          -84.6045,
          -111.1751,
          -93.2283,
          175.4703,
          -81.5868,
          -83.4375,
          147.3084,
          -76.0787,
          175.8705,
          -70.7482,
          -84.2719,
          -95.8321,
          -117.2833,
          -71.2599,
          -88.3065,
          -75.74,
          -81.5383,
          -105.0057,
          -84.205,
          142.0234,
          -87.6905,
          -70.858,
          -74.9375,
          -97.4281,
          -71.5236,
          -114.1598,
          173.9507,
          -84.4959,
          -80.7628,
          173.2727,
          145.55,
          -70.09,
          -87.9755,
          -74.0205,
          -71.0665,
          -75.7777,
          -70.4883
         ],
         "marker": {
          "color": [
           6,
           6.5,
           5.2,
           4.5,
           5,
           5,
           6.8,
           2.5,
           6.1,
           3,
           3.5,
           6.5,
           4.5,
           4.5,
           5.8,
           6.8,
           6.9,
           5.8,
           4,
           3,
           7,
           7.2,
           4.2,
           3,
           5.5,
           5.8,
           4,
           5.5,
           2.8,
           7.1,
           7,
           7.7,
           7.8,
           3,
           7.9,
           7.5,
           6.7,
           6.2,
           7.6,
           3,
           7.8,
           8.2,
           6,
           5.5,
           7.9,
           6.7,
           4.5,
           6.8,
           5.5,
           7.7,
           2.5,
           5.2,
           6,
           8.1,
           5.8,
           8,
           6,
           7.3,
           7.8,
           8.4,
           5.5,
           8.3,
           7,
           7.9,
           5.5,
           4.5,
           8.5,
           3.5,
           4,
           8.1,
           8,
           3.5,
           5.5,
           8.2,
           7.7,
           6,
           8.2,
           7.2,
           6,
           8.2,
           5.8,
           6.2,
           7.8,
           8.3,
           8.3,
           5.5,
           7.8,
           8.4,
           8.2,
           8.5,
           6,
           8.5,
           8.6,
           8.3,
           4.8,
           5.5,
           7.7,
           8.4,
           5.5,
           5,
           6,
           5.5,
           8.2,
           8.2,
           7.9,
           4.2,
           8.1,
           8.2,
           6.7,
           7,
           8.4,
           5.5,
           8.1,
           8.2,
           7,
           7.8,
           7.2,
           6,
           8.3,
           6.7,
           6.7,
           6.2,
           6.2,
           6.9,
           5.8,
           8.2,
           7.9,
           7.5,
           7,
           8.2,
           6.2,
           5.5,
           7.8,
           7.8,
           7.8,
           7.2,
           5.5,
           7.8,
           8.3,
           5.5,
           6.9,
           6.2,
           8.5,
           7.5,
           6.9,
           5.5,
           8.2,
           8.1,
           3.5,
           8.2,
           6.9,
           8.2,
           7.5,
           8.1,
           5.5,
           8.2,
           3.8,
           5.5,
           7.8,
           4.2,
           8.4,
           7.8,
           8.2,
           3.5,
           5.5,
           8.2,
           6.9
          ],
          "coloraxis": "coloraxis",
          "size": [
           30,
           35,
           35,
           15,
           40,
           20,
           40,
           5,
           40,
           10,
           20,
           50,
           15,
           20,
           30,
           45,
           45,
           25,
           15,
           10,
           30,
           50,
           25,
           15,
           25,
           30,
           25,
           35,
           5,
           55,
           45,
           65,
           60,
           15,
           60,
           55,
           40,
           45,
           60,
           20,
           70,
           70,
           35,
           30,
           70,
           40,
           25,
           45,
           35,
           60,
           10,
           25,
           35,
           80,
           30,
           80,
           35,
           50,
           65,
           90,
           30,
           75,
           55,
           75,
           25,
           25,
           85,
           20,
           15,
           80,
           75,
           10,
           25,
           110,
           65,
           25,
           85,
           50,
           25,
           110,
           30,
           45,
           185,
           115,
           90,
           25,
           185,
           95,
           135,
           125,
           25,
           100,
           105,
           140,
           280,
           35,
           60,
           145,
           25,
           30,
           25,
           35,
           110,
           110,
           60,
           25,
           80,
           110,
           40,
           55,
           120,
           25,
           130,
           110,
           55,
           60,
           50,
           25,
           90,
           40,
           40,
           45,
           45,
           45,
           30,
           160,
           75,
           55,
           55,
           70,
           45,
           30,
           185,
           185,
           185,
           50,
           25,
           185,
           165,
           25,
           45,
           45,
           100,
           55,
           45,
           35,
           70,
           80,
           20,
           110,
           45,
           110,
           55,
           80,
           25,
           110,
           300,
           25,
           70,
           290,
           95,
           70,
           110,
           20,
           25,
           70,
           45
          ],
          "sizemode": "area",
          "sizeref": 0.75
         },
         "mode": "markers",
         "name": "",
         "showlegend": false,
         "subplot": "mapbox",
         "type": "scattermapbox"
        }
       ],
       "layout": {
        "coloraxis": {
         "colorbar": {
          "title": {
           "text": "Happiness_Score"
          }
         },
         "colorscale": [
          [
           0,
           "#440154"
          ],
          [
           0.1111111111111111,
           "#482878"
          ],
          [
           0.2222222222222222,
           "#3e4989"
          ],
          [
           0.3333333333333333,
           "#31688e"
          ],
          [
           0.4444444444444444,
           "#26828e"
          ],
          [
           0.5555555555555556,
           "#1f9e89"
          ],
          [
           0.6666666666666666,
           "#35b779"
          ],
          [
           0.7777777777777778,
           "#6ece58"
          ],
          [
           0.8888888888888888,
           "#b5de2b"
          ],
          [
           1,
           "#fde725"
          ]
         ]
        },
        "legend": {
         "itemsizing": "constant",
         "tracegroupgap": 0
        },
        "mapbox": {
         "center": {
          "lat": 6.14416551724138,
          "lon": 26.763699540229883
         },
         "domain": {
          "x": [
           0,
           1
          ],
          "y": [
           0,
           1
          ]
         },
         "style": "carto-positron",
         "zoom": 3
        },
        "margin": {
         "b": 0,
         "l": 0,
         "r": 0,
         "t": 0
        },
        "template": {
         "data": {
          "bar": [
           {
            "error_x": {
             "color": "#2a3f5f"
            },
            "error_y": {
             "color": "#2a3f5f"
            },
            "marker": {
             "line": {
              "color": "#E5ECF6",
              "width": 0.5
             },
             "pattern": {
              "fillmode": "overlay",
              "size": 10,
              "solidity": 0.2
             }
            },
            "type": "bar"
           }
          ],
          "barpolar": [
           {
            "marker": {
             "line": {
              "color": "#E5ECF6",
              "width": 0.5
             },
             "pattern": {
              "fillmode": "overlay",
              "size": 10,
              "solidity": 0.2
             }
            },
            "type": "barpolar"
           }
          ],
          "carpet": [
           {
            "aaxis": {
             "endlinecolor": "#2a3f5f",
             "gridcolor": "white",
             "linecolor": "white",
             "minorgridcolor": "white",
             "startlinecolor": "#2a3f5f"
            },
            "baxis": {
             "endlinecolor": "#2a3f5f",
             "gridcolor": "white",
             "linecolor": "white",
             "minorgridcolor": "white",
             "startlinecolor": "#2a3f5f"
            },
            "type": "carpet"
           }
          ],
          "choropleth": [
           {
            "colorbar": {
             "outlinewidth": 0,
             "ticks": ""
            },
            "type": "choropleth"
           }
          ],
          "contour": [
           {
            "colorbar": {
             "outlinewidth": 0,
             "ticks": ""
            },
            "colorscale": [
             [
              0,
              "#0d0887"
             ],
             [
              0.1111111111111111,
              "#46039f"
             ],
             [
              0.2222222222222222,
              "#7201a8"
             ],
             [
              0.3333333333333333,
              "#9c179e"
             ],
             [
              0.4444444444444444,
              "#bd3786"
             ],
             [
              0.5555555555555556,
              "#d8576b"
             ],
             [
              0.6666666666666666,
              "#ed7953"
             ],
             [
              0.7777777777777778,
              "#fb9f3a"
             ],
             [
              0.8888888888888888,
              "#fdca26"
             ],
             [
              1,
              "#f0f921"
             ]
            ],
            "type": "contour"
           }
          ],
          "contourcarpet": [
           {
            "colorbar": {
             "outlinewidth": 0,
             "ticks": ""
            },
            "type": "contourcarpet"
           }
          ],
          "heatmap": [
           {
            "colorbar": {
             "outlinewidth": 0,
             "ticks": ""
            },
            "colorscale": [
             [
              0,
              "#0d0887"
             ],
             [
              0.1111111111111111,
              "#46039f"
             ],
             [
              0.2222222222222222,
              "#7201a8"
             ],
             [
              0.3333333333333333,
              "#9c179e"
             ],
             [
              0.4444444444444444,
              "#bd3786"
             ],
             [
              0.5555555555555556,
              "#d8576b"
             ],
             [
              0.6666666666666666,
              "#ed7953"
             ],
             [
              0.7777777777777778,
              "#fb9f3a"
             ],
             [
              0.8888888888888888,
              "#fdca26"
             ],
             [
              1,
              "#f0f921"
             ]
            ],
            "type": "heatmap"
           }
          ],
          "heatmapgl": [
           {
            "colorbar": {
             "outlinewidth": 0,
             "ticks": ""
            },
            "colorscale": [
             [
              0,
              "#0d0887"
             ],
             [
              0.1111111111111111,
              "#46039f"
             ],
             [
              0.2222222222222222,
              "#7201a8"
             ],
             [
              0.3333333333333333,
              "#9c179e"
             ],
             [
              0.4444444444444444,
              "#bd3786"
             ],
             [
              0.5555555555555556,
              "#d8576b"
             ],
             [
              0.6666666666666666,
              "#ed7953"
             ],
             [
              0.7777777777777778,
              "#fb9f3a"
             ],
             [
              0.8888888888888888,
              "#fdca26"
             ],
             [
              1,
              "#f0f921"
             ]
            ],
            "type": "heatmapgl"
           }
          ],
          "histogram": [
           {
            "marker": {
             "pattern": {
              "fillmode": "overlay",
              "size": 10,
              "solidity": 0.2
             }
            },
            "type": "histogram"
           }
          ],
          "histogram2d": [
           {
            "colorbar": {
             "outlinewidth": 0,
             "ticks": ""
            },
            "colorscale": [
             [
              0,
              "#0d0887"
             ],
             [
              0.1111111111111111,
              "#46039f"
             ],
             [
              0.2222222222222222,
              "#7201a8"
             ],
             [
              0.3333333333333333,
              "#9c179e"
             ],
             [
              0.4444444444444444,
              "#bd3786"
             ],
             [
              0.5555555555555556,
              "#d8576b"
             ],
             [
              0.6666666666666666,
              "#ed7953"
             ],
             [
              0.7777777777777778,
              "#fb9f3a"
             ],
             [
              0.8888888888888888,
              "#fdca26"
             ],
             [
              1,
              "#f0f921"
             ]
            ],
            "type": "histogram2d"
           }
          ],
          "histogram2dcontour": [
           {
            "colorbar": {
             "outlinewidth": 0,
             "ticks": ""
            },
            "colorscale": [
             [
              0,
              "#0d0887"
             ],
             [
              0.1111111111111111,
              "#46039f"
             ],
             [
              0.2222222222222222,
              "#7201a8"
             ],
             [
              0.3333333333333333,
              "#9c179e"
             ],
             [
              0.4444444444444444,
              "#bd3786"
             ],
             [
              0.5555555555555556,
              "#d8576b"
             ],
             [
              0.6666666666666666,
              "#ed7953"
             ],
             [
              0.7777777777777778,
              "#fb9f3a"
             ],
             [
              0.8888888888888888,
              "#fdca26"
             ],
             [
              1,
              "#f0f921"
             ]
            ],
            "type": "histogram2dcontour"
           }
          ],
          "mesh3d": [
           {
            "colorbar": {
             "outlinewidth": 0,
             "ticks": ""
            },
            "type": "mesh3d"
           }
          ],
          "parcoords": [
           {
            "line": {
             "colorbar": {
              "outlinewidth": 0,
              "ticks": ""
             }
            },
            "type": "parcoords"
           }
          ],
          "pie": [
           {
            "automargin": true,
            "type": "pie"
           }
          ],
          "scatter": [
           {
            "fillpattern": {
             "fillmode": "overlay",
             "size": 10,
             "solidity": 0.2
            },
            "type": "scatter"
           }
          ],
          "scatter3d": [
           {
            "line": {
             "colorbar": {
              "outlinewidth": 0,
              "ticks": ""
             }
            },
            "marker": {
             "colorbar": {
              "outlinewidth": 0,
              "ticks": ""
             }
            },
            "type": "scatter3d"
           }
          ],
          "scattercarpet": [
           {
            "marker": {
             "colorbar": {
              "outlinewidth": 0,
              "ticks": ""
             }
            },
            "type": "scattercarpet"
           }
          ],
          "scattergeo": [
           {
            "marker": {
             "colorbar": {
              "outlinewidth": 0,
              "ticks": ""
             }
            },
            "type": "scattergeo"
           }
          ],
          "scattergl": [
           {
            "marker": {
             "colorbar": {
              "outlinewidth": 0,
              "ticks": ""
             }
            },
            "type": "scattergl"
           }
          ],
          "scattermapbox": [
           {
            "marker": {
             "colorbar": {
              "outlinewidth": 0,
              "ticks": ""
             }
            },
            "type": "scattermapbox"
           }
          ],
          "scatterpolar": [
           {
            "marker": {
             "colorbar": {
              "outlinewidth": 0,
              "ticks": ""
             }
            },
            "type": "scatterpolar"
           }
          ],
          "scatterpolargl": [
           {
            "marker": {
             "colorbar": {
              "outlinewidth": 0,
              "ticks": ""
             }
            },
            "type": "scatterpolargl"
           }
          ],
          "scatterternary": [
           {
            "marker": {
             "colorbar": {
              "outlinewidth": 0,
              "ticks": ""
             }
            },
            "type": "scatterternary"
           }
          ],
          "surface": [
           {
            "colorbar": {
             "outlinewidth": 0,
             "ticks": ""
            },
            "colorscale": [
             [
              0,
              "#0d0887"
             ],
             [
              0.1111111111111111,
              "#46039f"
             ],
             [
              0.2222222222222222,
              "#7201a8"
             ],
             [
              0.3333333333333333,
              "#9c179e"
             ],
             [
              0.4444444444444444,
              "#bd3786"
             ],
             [
              0.5555555555555556,
              "#d8576b"
             ],
             [
              0.6666666666666666,
              "#ed7953"
             ],
             [
              0.7777777777777778,
              "#fb9f3a"
             ],
             [
              0.8888888888888888,
              "#fdca26"
             ],
             [
              1,
              "#f0f921"
             ]
            ],
            "type": "surface"
           }
          ],
          "table": [
           {
            "cells": {
             "fill": {
              "color": "#EBF0F8"
             },
             "line": {
              "color": "white"
             }
            },
            "header": {
             "fill": {
              "color": "#C8D4E3"
             },
             "line": {
              "color": "white"
             }
            },
            "type": "table"
           }
          ]
         },
         "layout": {
          "annotationdefaults": {
           "arrowcolor": "#2a3f5f",
           "arrowhead": 0,
           "arrowwidth": 1
          },
          "autotypenumbers": "strict",
          "coloraxis": {
           "colorbar": {
            "outlinewidth": 0,
            "ticks": ""
           }
          },
          "colorscale": {
           "diverging": [
            [
             0,
             "#8e0152"
            ],
            [
             0.1,
             "#c51b7d"
            ],
            [
             0.2,
             "#de77ae"
            ],
            [
             0.3,
             "#f1b6da"
            ],
            [
             0.4,
             "#fde0ef"
            ],
            [
             0.5,
             "#f7f7f7"
            ],
            [
             0.6,
             "#e6f5d0"
            ],
            [
             0.7,
             "#b8e186"
            ],
            [
             0.8,
             "#7fbc41"
            ],
            [
             0.9,
             "#4d9221"
            ],
            [
             1,
             "#276419"
            ]
           ],
           "sequential": [
            [
             0,
             "#0d0887"
            ],
            [
             0.1111111111111111,
             "#46039f"
            ],
            [
             0.2222222222222222,
             "#7201a8"
            ],
            [
             0.3333333333333333,
             "#9c179e"
            ],
            [
             0.4444444444444444,
             "#bd3786"
            ],
            [
             0.5555555555555556,
             "#d8576b"
            ],
            [
             0.6666666666666666,
             "#ed7953"
            ],
            [
             0.7777777777777778,
             "#fb9f3a"
            ],
            [
             0.8888888888888888,
             "#fdca26"
            ],
            [
             1,
             "#f0f921"
            ]
           ],
           "sequentialminus": [
            [
             0,
             "#0d0887"
            ],
            [
             0.1111111111111111,
             "#46039f"
            ],
            [
             0.2222222222222222,
             "#7201a8"
            ],
            [
             0.3333333333333333,
             "#9c179e"
            ],
            [
             0.4444444444444444,
             "#bd3786"
            ],
            [
             0.5555555555555556,
             "#d8576b"
            ],
            [
             0.6666666666666666,
             "#ed7953"
            ],
            [
             0.7777777777777778,
             "#fb9f3a"
            ],
            [
             0.8888888888888888,
             "#fdca26"
            ],
            [
             1,
             "#f0f921"
            ]
           ]
          },
          "colorway": [
           "#636efa",
           "#EF553B",
           "#00cc96",
           "#ab63fa",
           "#FFA15A",
           "#19d3f3",
           "#FF6692",
           "#B6E880",
           "#FF97FF",
           "#FECB52"
          ],
          "font": {
           "color": "#2a3f5f"
          },
          "geo": {
           "bgcolor": "white",
           "lakecolor": "white",
           "landcolor": "#E5ECF6",
           "showlakes": true,
           "showland": true,
           "subunitcolor": "white"
          },
          "hoverlabel": {
           "align": "left"
          },
          "hovermode": "closest",
          "mapbox": {
           "style": "light"
          },
          "paper_bgcolor": "white",
          "plot_bgcolor": "#E5ECF6",
          "polar": {
           "angularaxis": {
            "gridcolor": "white",
            "linecolor": "white",
            "ticks": ""
           },
           "bgcolor": "#E5ECF6",
           "radialaxis": {
            "gridcolor": "white",
            "linecolor": "white",
            "ticks": ""
           }
          },
          "scene": {
           "xaxis": {
            "backgroundcolor": "#E5ECF6",
            "gridcolor": "white",
            "gridwidth": 2,
            "linecolor": "white",
            "showbackground": true,
            "ticks": "",
            "zerolinecolor": "white"
           },
           "yaxis": {
            "backgroundcolor": "#E5ECF6",
            "gridcolor": "white",
            "gridwidth": 2,
            "linecolor": "white",
            "showbackground": true,
            "ticks": "",
            "zerolinecolor": "white"
           },
           "zaxis": {
            "backgroundcolor": "#E5ECF6",
            "gridcolor": "white",
            "gridwidth": 2,
            "linecolor": "white",
            "showbackground": true,
            "ticks": "",
            "zerolinecolor": "white"
           }
          },
          "shapedefaults": {
           "line": {
            "color": "#2a3f5f"
           }
          },
          "ternary": {
           "aaxis": {
            "gridcolor": "white",
            "linecolor": "white",
            "ticks": ""
           },
           "baxis": {
            "gridcolor": "white",
            "linecolor": "white",
            "ticks": ""
           },
           "bgcolor": "#E5ECF6",
           "caxis": {
            "gridcolor": "white",
            "linecolor": "white",
            "ticks": ""
           }
          },
          "title": {
           "x": 0.05
          },
          "xaxis": {
           "automargin": true,
           "gridcolor": "white",
           "linecolor": "white",
           "ticks": "",
           "title": {
            "standoff": 15
           },
           "zerolinecolor": "white",
           "zerolinewidth": 2
          },
          "yaxis": {
           "automargin": true,
           "gridcolor": "white",
           "linecolor": "white",
           "ticks": "",
           "title": {
            "standoff": 15
           },
           "zerolinecolor": "white",
           "zerolinewidth": 2
          }
         }
        },
        "title": {
         "text": "Greenspace Area and Happiness Score by City"
        }
       }
      }
     },
     "metadata": {},
     "output_type": "display_data"
    }
   ],
   "source": [
    "renamed_train_df = train_df.rename(columns={'City': 'city'})\n",
    "\n",
    "merged_latlong_train = pd.merge(cities_df, renamed_train_df, on='city')\n",
    "\n",
    "# merged_latlong_train.head()\n",
    "\n",
    "df_to_use = merged_latlong_train.dropna(subset=['lat', 'lng', 'Green_Space_Area'])\n",
    "\n",
    "df_to_use['Happiness_Score'] = pd.to_numeric(df_to_use['Happiness_Score'])\n",
    "\n",
    "filtered_df_to_use = df_to_use[df_to_use['Happiness_Score'] > -10]\n",
    "\n",
    "fig_map = px.scatter_mapbox(\n",
    "    filtered_df_to_use,\n",
    "    lat='lat',\n",
    "    lon='lng',\n",
    "    hover_name='city',\n",
    "    hover_data={'Green_Space_Area': True, 'Happiness_Score': True},\n",
    "    size='Green_Space_Area',\n",
    "    color='Happiness_Score',\n",
    "    color_continuous_scale=px.colors.sequential.Viridis,\n",
    "    title='Greenspace Area and Happiness Score by City',\n",
    "    zoom=1  # Adjust the zoom level as needed\n",
    ")\n",
    "\n",
    "fig_map.update_layout(\n",
    "    mapbox_style=\"carto-positron\",  # You can choose different map styles here\n",
    "    mapbox_zoom=3,  # Adjust the initial zoom level of the map\n",
    "    mapbox_center={\"lat\": df_to_use['lat'].mean(), \"lon\": df_to_use['lng'].mean()},  # Center the map on the average location\n",
    "    margin={\"r\":0,\"t\":0,\"l\":0,\"b\":0}  # Adjust margins for layout\n",
    ")\n",
    "\n",
    "fig_map.show()"
   ]
  },
  {
   "cell_type": "code",
   "execution_count": 85,
   "metadata": {},
   "outputs": [
    {
     "data": {
      "application/vnd.plotly.v1+json": {
       "config": {
        "plotlyServerURL": "https://plot.ly"
       },
       "data": [
        {
         "marker": {
          "color": "blue"
         },
         "name": "Happiness Score",
         "offsetgroup": "1",
         "type": "bar",
         "x": [
          "London",
          "Paris",
          "Berlin",
          "Amsterdam",
          "Moscow",
          "Barcelona",
          "Lisbon",
          "Rome",
          "Athens",
          "Vienna",
          "Dublin",
          "Copenhagen",
          "Stockholm",
          "Oslo",
          "Helsinki",
          "Prague",
          "Budapest",
          "Warsaw",
          "Sofia",
          "Belgrade"
         ],
         "y": [
          7.2,
          6.9,
          7.5,
          7.9,
          5.8,
          7.7,
          7.8,
          6.7,
          6.2,
          8.2,
          7,
          8.3,
          8,
          8.5,
          8.4,
          7.3,
          6.8,
          6.7,
          6,
          5.5
         ],
         "yaxis": "y"
        },
        {
         "marker": {
          "color": "red"
         },
         "name": "Air Quality Index",
         "offsetgroup": "2",
         "type": "bar",
         "x": [
          "London",
          "Paris",
          "Berlin",
          "Amsterdam",
          "Moscow",
          "Barcelona",
          "Lisbon",
          "Rome",
          "Athens",
          "Vienna",
          "Dublin",
          "Copenhagen",
          "Stockholm",
          "Oslo",
          "Helsinki",
          "Prague",
          "Budapest",
          "Warsaw",
          "Sofia",
          "Belgrade"
         ],
         "y": [
          60,
          65,
          35,
          50,
          80,
          35,
          40,
          70,
          75,
          30,
          40,
          35,
          30,
          25,
          20,
          65,
          70,
          75,
          80,
          85
         ],
         "yaxis": "y2"
        }
       ],
       "layout": {
        "barmode": "group",
        "template": {
         "data": {
          "bar": [
           {
            "error_x": {
             "color": "#2a3f5f"
            },
            "error_y": {
             "color": "#2a3f5f"
            },
            "marker": {
             "line": {
              "color": "#E5ECF6",
              "width": 0.5
             },
             "pattern": {
              "fillmode": "overlay",
              "size": 10,
              "solidity": 0.2
             }
            },
            "type": "bar"
           }
          ],
          "barpolar": [
           {
            "marker": {
             "line": {
              "color": "#E5ECF6",
              "width": 0.5
             },
             "pattern": {
              "fillmode": "overlay",
              "size": 10,
              "solidity": 0.2
             }
            },
            "type": "barpolar"
           }
          ],
          "carpet": [
           {
            "aaxis": {
             "endlinecolor": "#2a3f5f",
             "gridcolor": "white",
             "linecolor": "white",
             "minorgridcolor": "white",
             "startlinecolor": "#2a3f5f"
            },
            "baxis": {
             "endlinecolor": "#2a3f5f",
             "gridcolor": "white",
             "linecolor": "white",
             "minorgridcolor": "white",
             "startlinecolor": "#2a3f5f"
            },
            "type": "carpet"
           }
          ],
          "choropleth": [
           {
            "colorbar": {
             "outlinewidth": 0,
             "ticks": ""
            },
            "type": "choropleth"
           }
          ],
          "contour": [
           {
            "colorbar": {
             "outlinewidth": 0,
             "ticks": ""
            },
            "colorscale": [
             [
              0,
              "#0d0887"
             ],
             [
              0.1111111111111111,
              "#46039f"
             ],
             [
              0.2222222222222222,
              "#7201a8"
             ],
             [
              0.3333333333333333,
              "#9c179e"
             ],
             [
              0.4444444444444444,
              "#bd3786"
             ],
             [
              0.5555555555555556,
              "#d8576b"
             ],
             [
              0.6666666666666666,
              "#ed7953"
             ],
             [
              0.7777777777777778,
              "#fb9f3a"
             ],
             [
              0.8888888888888888,
              "#fdca26"
             ],
             [
              1,
              "#f0f921"
             ]
            ],
            "type": "contour"
           }
          ],
          "contourcarpet": [
           {
            "colorbar": {
             "outlinewidth": 0,
             "ticks": ""
            },
            "type": "contourcarpet"
           }
          ],
          "heatmap": [
           {
            "colorbar": {
             "outlinewidth": 0,
             "ticks": ""
            },
            "colorscale": [
             [
              0,
              "#0d0887"
             ],
             [
              0.1111111111111111,
              "#46039f"
             ],
             [
              0.2222222222222222,
              "#7201a8"
             ],
             [
              0.3333333333333333,
              "#9c179e"
             ],
             [
              0.4444444444444444,
              "#bd3786"
             ],
             [
              0.5555555555555556,
              "#d8576b"
             ],
             [
              0.6666666666666666,
              "#ed7953"
             ],
             [
              0.7777777777777778,
              "#fb9f3a"
             ],
             [
              0.8888888888888888,
              "#fdca26"
             ],
             [
              1,
              "#f0f921"
             ]
            ],
            "type": "heatmap"
           }
          ],
          "heatmapgl": [
           {
            "colorbar": {
             "outlinewidth": 0,
             "ticks": ""
            },
            "colorscale": [
             [
              0,
              "#0d0887"
             ],
             [
              0.1111111111111111,
              "#46039f"
             ],
             [
              0.2222222222222222,
              "#7201a8"
             ],
             [
              0.3333333333333333,
              "#9c179e"
             ],
             [
              0.4444444444444444,
              "#bd3786"
             ],
             [
              0.5555555555555556,
              "#d8576b"
             ],
             [
              0.6666666666666666,
              "#ed7953"
             ],
             [
              0.7777777777777778,
              "#fb9f3a"
             ],
             [
              0.8888888888888888,
              "#fdca26"
             ],
             [
              1,
              "#f0f921"
             ]
            ],
            "type": "heatmapgl"
           }
          ],
          "histogram": [
           {
            "marker": {
             "pattern": {
              "fillmode": "overlay",
              "size": 10,
              "solidity": 0.2
             }
            },
            "type": "histogram"
           }
          ],
          "histogram2d": [
           {
            "colorbar": {
             "outlinewidth": 0,
             "ticks": ""
            },
            "colorscale": [
             [
              0,
              "#0d0887"
             ],
             [
              0.1111111111111111,
              "#46039f"
             ],
             [
              0.2222222222222222,
              "#7201a8"
             ],
             [
              0.3333333333333333,
              "#9c179e"
             ],
             [
              0.4444444444444444,
              "#bd3786"
             ],
             [
              0.5555555555555556,
              "#d8576b"
             ],
             [
              0.6666666666666666,
              "#ed7953"
             ],
             [
              0.7777777777777778,
              "#fb9f3a"
             ],
             [
              0.8888888888888888,
              "#fdca26"
             ],
             [
              1,
              "#f0f921"
             ]
            ],
            "type": "histogram2d"
           }
          ],
          "histogram2dcontour": [
           {
            "colorbar": {
             "outlinewidth": 0,
             "ticks": ""
            },
            "colorscale": [
             [
              0,
              "#0d0887"
             ],
             [
              0.1111111111111111,
              "#46039f"
             ],
             [
              0.2222222222222222,
              "#7201a8"
             ],
             [
              0.3333333333333333,
              "#9c179e"
             ],
             [
              0.4444444444444444,
              "#bd3786"
             ],
             [
              0.5555555555555556,
              "#d8576b"
             ],
             [
              0.6666666666666666,
              "#ed7953"
             ],
             [
              0.7777777777777778,
              "#fb9f3a"
             ],
             [
              0.8888888888888888,
              "#fdca26"
             ],
             [
              1,
              "#f0f921"
             ]
            ],
            "type": "histogram2dcontour"
           }
          ],
          "mesh3d": [
           {
            "colorbar": {
             "outlinewidth": 0,
             "ticks": ""
            },
            "type": "mesh3d"
           }
          ],
          "parcoords": [
           {
            "line": {
             "colorbar": {
              "outlinewidth": 0,
              "ticks": ""
             }
            },
            "type": "parcoords"
           }
          ],
          "pie": [
           {
            "automargin": true,
            "type": "pie"
           }
          ],
          "scatter": [
           {
            "fillpattern": {
             "fillmode": "overlay",
             "size": 10,
             "solidity": 0.2
            },
            "type": "scatter"
           }
          ],
          "scatter3d": [
           {
            "line": {
             "colorbar": {
              "outlinewidth": 0,
              "ticks": ""
             }
            },
            "marker": {
             "colorbar": {
              "outlinewidth": 0,
              "ticks": ""
             }
            },
            "type": "scatter3d"
           }
          ],
          "scattercarpet": [
           {
            "marker": {
             "colorbar": {
              "outlinewidth": 0,
              "ticks": ""
             }
            },
            "type": "scattercarpet"
           }
          ],
          "scattergeo": [
           {
            "marker": {
             "colorbar": {
              "outlinewidth": 0,
              "ticks": ""
             }
            },
            "type": "scattergeo"
           }
          ],
          "scattergl": [
           {
            "marker": {
             "colorbar": {
              "outlinewidth": 0,
              "ticks": ""
             }
            },
            "type": "scattergl"
           }
          ],
          "scattermapbox": [
           {
            "marker": {
             "colorbar": {
              "outlinewidth": 0,
              "ticks": ""
             }
            },
            "type": "scattermapbox"
           }
          ],
          "scatterpolar": [
           {
            "marker": {
             "colorbar": {
              "outlinewidth": 0,
              "ticks": ""
             }
            },
            "type": "scatterpolar"
           }
          ],
          "scatterpolargl": [
           {
            "marker": {
             "colorbar": {
              "outlinewidth": 0,
              "ticks": ""
             }
            },
            "type": "scatterpolargl"
           }
          ],
          "scatterternary": [
           {
            "marker": {
             "colorbar": {
              "outlinewidth": 0,
              "ticks": ""
             }
            },
            "type": "scatterternary"
           }
          ],
          "surface": [
           {
            "colorbar": {
             "outlinewidth": 0,
             "ticks": ""
            },
            "colorscale": [
             [
              0,
              "#0d0887"
             ],
             [
              0.1111111111111111,
              "#46039f"
             ],
             [
              0.2222222222222222,
              "#7201a8"
             ],
             [
              0.3333333333333333,
              "#9c179e"
             ],
             [
              0.4444444444444444,
              "#bd3786"
             ],
             [
              0.5555555555555556,
              "#d8576b"
             ],
             [
              0.6666666666666666,
              "#ed7953"
             ],
             [
              0.7777777777777778,
              "#fb9f3a"
             ],
             [
              0.8888888888888888,
              "#fdca26"
             ],
             [
              1,
              "#f0f921"
             ]
            ],
            "type": "surface"
           }
          ],
          "table": [
           {
            "cells": {
             "fill": {
              "color": "#EBF0F8"
             },
             "line": {
              "color": "white"
             }
            },
            "header": {
             "fill": {
              "color": "#C8D4E3"
             },
             "line": {
              "color": "white"
             }
            },
            "type": "table"
           }
          ]
         },
         "layout": {
          "annotationdefaults": {
           "arrowcolor": "#2a3f5f",
           "arrowhead": 0,
           "arrowwidth": 1
          },
          "autotypenumbers": "strict",
          "coloraxis": {
           "colorbar": {
            "outlinewidth": 0,
            "ticks": ""
           }
          },
          "colorscale": {
           "diverging": [
            [
             0,
             "#8e0152"
            ],
            [
             0.1,
             "#c51b7d"
            ],
            [
             0.2,
             "#de77ae"
            ],
            [
             0.3,
             "#f1b6da"
            ],
            [
             0.4,
             "#fde0ef"
            ],
            [
             0.5,
             "#f7f7f7"
            ],
            [
             0.6,
             "#e6f5d0"
            ],
            [
             0.7,
             "#b8e186"
            ],
            [
             0.8,
             "#7fbc41"
            ],
            [
             0.9,
             "#4d9221"
            ],
            [
             1,
             "#276419"
            ]
           ],
           "sequential": [
            [
             0,
             "#0d0887"
            ],
            [
             0.1111111111111111,
             "#46039f"
            ],
            [
             0.2222222222222222,
             "#7201a8"
            ],
            [
             0.3333333333333333,
             "#9c179e"
            ],
            [
             0.4444444444444444,
             "#bd3786"
            ],
            [
             0.5555555555555556,
             "#d8576b"
            ],
            [
             0.6666666666666666,
             "#ed7953"
            ],
            [
             0.7777777777777778,
             "#fb9f3a"
            ],
            [
             0.8888888888888888,
             "#fdca26"
            ],
            [
             1,
             "#f0f921"
            ]
           ],
           "sequentialminus": [
            [
             0,
             "#0d0887"
            ],
            [
             0.1111111111111111,
             "#46039f"
            ],
            [
             0.2222222222222222,
             "#7201a8"
            ],
            [
             0.3333333333333333,
             "#9c179e"
            ],
            [
             0.4444444444444444,
             "#bd3786"
            ],
            [
             0.5555555555555556,
             "#d8576b"
            ],
            [
             0.6666666666666666,
             "#ed7953"
            ],
            [
             0.7777777777777778,
             "#fb9f3a"
            ],
            [
             0.8888888888888888,
             "#fdca26"
            ],
            [
             1,
             "#f0f921"
            ]
           ]
          },
          "colorway": [
           "#636efa",
           "#EF553B",
           "#00cc96",
           "#ab63fa",
           "#FFA15A",
           "#19d3f3",
           "#FF6692",
           "#B6E880",
           "#FF97FF",
           "#FECB52"
          ],
          "font": {
           "color": "#2a3f5f"
          },
          "geo": {
           "bgcolor": "white",
           "lakecolor": "white",
           "landcolor": "#E5ECF6",
           "showlakes": true,
           "showland": true,
           "subunitcolor": "white"
          },
          "hoverlabel": {
           "align": "left"
          },
          "hovermode": "closest",
          "mapbox": {
           "style": "light"
          },
          "paper_bgcolor": "white",
          "plot_bgcolor": "#E5ECF6",
          "polar": {
           "angularaxis": {
            "gridcolor": "white",
            "linecolor": "white",
            "ticks": ""
           },
           "bgcolor": "#E5ECF6",
           "radialaxis": {
            "gridcolor": "white",
            "linecolor": "white",
            "ticks": ""
           }
          },
          "scene": {
           "xaxis": {
            "backgroundcolor": "#E5ECF6",
            "gridcolor": "white",
            "gridwidth": 2,
            "linecolor": "white",
            "showbackground": true,
            "ticks": "",
            "zerolinecolor": "white"
           },
           "yaxis": {
            "backgroundcolor": "#E5ECF6",
            "gridcolor": "white",
            "gridwidth": 2,
            "linecolor": "white",
            "showbackground": true,
            "ticks": "",
            "zerolinecolor": "white"
           },
           "zaxis": {
            "backgroundcolor": "#E5ECF6",
            "gridcolor": "white",
            "gridwidth": 2,
            "linecolor": "white",
            "showbackground": true,
            "ticks": "",
            "zerolinecolor": "white"
           }
          },
          "shapedefaults": {
           "line": {
            "color": "#2a3f5f"
           }
          },
          "ternary": {
           "aaxis": {
            "gridcolor": "white",
            "linecolor": "white",
            "ticks": ""
           },
           "baxis": {
            "gridcolor": "white",
            "linecolor": "white",
            "ticks": ""
           },
           "bgcolor": "#E5ECF6",
           "caxis": {
            "gridcolor": "white",
            "linecolor": "white",
            "ticks": ""
           }
          },
          "title": {
           "x": 0.05
          },
          "xaxis": {
           "automargin": true,
           "gridcolor": "white",
           "linecolor": "white",
           "ticks": "",
           "title": {
            "standoff": 15
           },
           "zerolinecolor": "white",
           "zerolinewidth": 2
          },
          "yaxis": {
           "automargin": true,
           "gridcolor": "white",
           "linecolor": "white",
           "ticks": "",
           "title": {
            "standoff": 15
           },
           "zerolinecolor": "white",
           "zerolinewidth": 2
          }
         }
        },
        "title": {
         "text": "Happiness Score and Air Quality Index by City"
        },
        "xaxis": {
         "title": {
          "text": "City"
         }
        },
        "yaxis": {
         "tickfont": {
          "color": "blue"
         },
         "title": {
          "font": {
           "color": "blue"
          },
          "text": "Happiness Score"
         }
        },
        "yaxis2": {
         "overlaying": "y",
         "showgrid": false,
         "side": "right",
         "tickfont": {
          "color": "red"
         },
         "title": {
          "font": {
           "color": "red"
          },
          "text": "Air Quality Index"
         }
        }
       }
      }
     },
     "metadata": {},
     "output_type": "display_data"
    }
   ],
   "source": [
    "european_cities = [\n",
    "    \"London\",\n",
    "    \"Paris\",\n",
    "    \"Berlin\",\n",
    "    \"Amsterdam\",\n",
    "    \"Barcelona\",\n",
    "    \"Lisbon\",\n",
    "    \"Rome\",\n",
    "    \"Athens\",\n",
    "    \"Vienna\",\n",
    "    \"Dublin\",\n",
    "    \"Copenhagen\",\n",
    "    \"Stockholm\",\n",
    "    \"Oslo\",\n",
    "    \"Helsinki\",\n",
    "    \"Prague\",\n",
    "    \"Budapest\",\n",
    "    \"Warsaw\",\n",
    "    \"Sofia\",\n",
    "    \"Belgrade\",\n",
    "    \"Moscow\"\n",
    "]\n",
    "train_europe_df = train_df[train_df['City'].isin(european_cities)]\n",
    "\n",
    "cities = train_europe_df['City']\n",
    "air_quality_index = train_europe_df['Air_Quality_Index']\n",
    "happiness_score = train_europe_df['Happiness_Score']\n",
    "\n",
    "# Create traces for the bar chart\n",
    "trace1 = go.Bar(\n",
    "    x=cities,\n",
    "    y=happiness_score,\n",
    "    name='Happiness Score',\n",
    "    yaxis='y1',\n",
    "    offsetgroup=1,\n",
    "    marker=dict(color='blue')\n",
    ")\n",
    "\n",
    "trace2 = go.Bar(\n",
    "    x=cities,\n",
    "    y=air_quality_index,\n",
    "    name='Air Quality Index',\n",
    "    yaxis='y2',\n",
    "    offsetgroup=2,\n",
    "    marker=dict(color='red')\n",
    ")\n",
    "\n",
    "# Create the layout with two y-axes\n",
    "layout = go.Layout(\n",
    "    title='Happiness Score and Air Quality Index by City',\n",
    "    yaxis=dict(\n",
    "        title='Happiness Score',\n",
    "        titlefont=dict(color='blue'),\n",
    "        tickfont=dict(color='blue')\n",
    "    ),\n",
    "    yaxis2=dict(\n",
    "        title='Air Quality Index',\n",
    "        titlefont=dict(color='red'),\n",
    "        tickfont=dict(color='red'),\n",
    "        overlaying='y',\n",
    "        side='right',\n",
    "        showgrid=False\n",
    "    ),\n",
    "    xaxis=dict(\n",
    "        title='City'\n",
    "    ),\n",
    "    barmode='group'\n",
    ")\n",
    "\n",
    "# Create the figure\n",
    "fig = go.Figure(data=[trace1, trace2], layout=layout)\n",
    "\n",
    "# Show the plot\n",
    "fig.show()\n"
   ]
  }
 ],
 "metadata": {
  "kernelspec": {
   "display_name": "jupyterbook",
   "language": "python",
   "name": "python3"
  },
  "language_info": {
   "codemirror_mode": {
    "name": "ipython",
    "version": 3
   },
   "file_extension": ".py",
   "mimetype": "text/x-python",
   "name": "python",
   "nbconvert_exporter": "python",
   "pygments_lexer": "ipython3",
   "version": "3.10.13"
  }
 },
 "nbformat": 4,
 "nbformat_minor": 2
}
