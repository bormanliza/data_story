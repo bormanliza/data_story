{
 "cells": [
  {
   "cell_type": "markdown",
   "metadata": {},
   "source": [
    "# Story\n"
   ]
  },
  {
   "cell_type": "code",
   "execution_count": 1,
   "metadata": {},
   "outputs": [],
   "source": [
    "%run set_theme.ipynb"
   ]
  },
  {
   "cell_type": "code",
   "execution_count": 2,
   "metadata": {},
   "outputs": [],
   "source": [
    "# @hidden_cell\n",
    "\n",
    "import pandas as pd\n",
    "import numpy as np\n",
    "import matplotlib.pyplot as plt\n",
    "import plotly.express as px\n",
    "import plotly.graph_objects as go\n",
    "from plotly.subplots import make_subplots\n",
    "import seaborn as sns\n",
    "import statsmodels.api as sm"
   ]
  },
  {
   "cell_type": "code",
   "execution_count": 3,
   "metadata": {},
   "outputs": [
    {
     "data": {
      "text/plain": [
       "(   2022 2021        City      Country Remote Jobs Overworked Population  \\\n",
       " 0     1    2        Oslo       Norway      41.72%                11.20%   \n",
       " 1     2    -        Bern  Switzerland      44.86%                11.40%   \n",
       " 2     3    1    Helsinki      Finland      38.92%                12.70%   \n",
       " 3     4    3      Zurich  Switzerland      44.86%                11.90%   \n",
       " 4     5    5  Copenhagen      Denmark      41.42%                10.50%   \n",
       " \n",
       "    Minimum Vacations Offered (Days) Vacations Taken (Days)  Unemployment  \\\n",
       " 0                                25                     25          94.7   \n",
       " 1                                20                     25          99.8   \n",
       " 2                                25                     30          89.3   \n",
       " 3                                20                     25          99.2   \n",
       " 4                                25                     28          94.8   \n",
       " \n",
       "   Multiple Jobholders  ... Healthcare Access to Mental Healthcare  \\\n",
       " 0               9.10%  ...      100.0                        85.0   \n",
       " 1               7.60%  ...       99.6                        78.6   \n",
       " 2               6.30%  ...       96.7                        73.0   \n",
       " 3               7.60%  ...       99.2                        78.6   \n",
       " 4               7.60%  ...       94.8                        77.6   \n",
       " \n",
       "    Inclusivity & Tolerance  Affordability  Happiness, Culture & Leisure  \\\n",
       " 0                     93.2           59.4                          88.8   \n",
       " 1                     94.6           69.9                         100.0   \n",
       " 2                     93.9           65.0                          96.3   \n",
       " 3                     87.5           71.6                          91.5   \n",
       " 4                     95.2           65.3                          92.5   \n",
       " \n",
       "    City Safety  Outdoor Spaces  Air Quality  Wellness and Fitness  TOTAL SCORE  \n",
       " 0         86.5            95.6         97.5                  65.7       100.00  \n",
       " 1         91.8            87.1        100.0                  69.1        99.46  \n",
       " 2         94.9            86.0         97.0                  68.3        99.24  \n",
       " 3         92.8            84.0         96.2                  68.7        96.33  \n",
       " 4         95.7            75.5         95.1                  66.3        96.21  \n",
       " \n",
       " [5 rows x 24 columns],\n",
       "          City  Rank Sunshine hours(City) Cost of a bottle of water(City)  \\\n",
       " 0   Amsterdam     1                 1858                           £1.92   \n",
       " 1      Sydney     2                 2636                           £1.48   \n",
       " 2      Vienna     3                 1884                           £1.94   \n",
       " 3   Stockholm     4                 1821                           £1.72   \n",
       " 4  Copenhagen     5                 1630                           £2.19   \n",
       " \n",
       "   Obesity levels(Country)  Life expectancy(years) (Country)  \\\n",
       " 0                  20.40%                              81.2   \n",
       " 1                  29.00%                              82.1   \n",
       " 2                  20.10%                              81.0   \n",
       " 3                  20.60%                              81.8   \n",
       " 4                  19.70%                              79.8   \n",
       " \n",
       "   Pollution(Index score) (City) Annual avg. hours worked  \\\n",
       " 0                         30.93                     1434   \n",
       " 1                         26.86                     1712   \n",
       " 2                         17.33                     1501   \n",
       " 3                         19.63                     1452   \n",
       " 4                         21.24                     1380   \n",
       " \n",
       "    Happiness levels(Country)  Outdoor activities(City)  \\\n",
       " 0                       7.44                       422   \n",
       " 1                       7.22                       406   \n",
       " 2                       7.29                       132   \n",
       " 3                       7.35                       129   \n",
       " 4                       7.64                       154   \n",
       " \n",
       "    Number of take out places(City) Cost of a monthly gym membership(City)  \n",
       " 0                             1048                                 £34.90  \n",
       " 1                             1103                                 £41.66  \n",
       " 2                             1008                                 £25.74  \n",
       " 3                              598                                 £37.31  \n",
       " 4                              523                                 £32.53  ,\n",
       "    rank_2020         city       state  population_2020  population_2010  \\\n",
       " 0          1     New York    New York          8804190          8175133   \n",
       " 1          2  Los Angeles  California          3898747          3792621   \n",
       " 2          3      Chicago    Illinois          2746388          2695598   \n",
       " 3          4      Houston       Texas          2304580          2099451   \n",
       " 4          5      Phoenix     Arizona          1608139          1445632   \n",
       " \n",
       "    land_area_sqmi  density  one_adult_no_kids_living_wage  \\\n",
       " 0           300.5    29298                          20.00   \n",
       " 1           469.5     8304                          19.22   \n",
       " 2           227.7    12061                          16.08   \n",
       " 3           640.4     3599                          14.29   \n",
       " 4           518.0     3105                          15.41   \n",
       " \n",
       "    one_adult_one_kid_living_wage  one_adult_two_kids_living_wage  \\\n",
       " 0                          38.99                           49.18   \n",
       " 1                          41.55                           51.30   \n",
       " 2                          32.25                           40.20   \n",
       " 3                          29.09                           35.73   \n",
       " 4                          29.44                           35.40   \n",
       " \n",
       "    one_adult_three_kids_living_wage  \\\n",
       " 0                             64.30   \n",
       " 1                             67.56   \n",
       " 2                             51.69   \n",
       " 3                             46.02   \n",
       " 4                             46.01   \n",
       " \n",
       "    two_adults_one_working_no_kids_living_wage  \\\n",
       " 0                                       29.16   \n",
       " 1                                       31.01   \n",
       " 2                                       25.41   \n",
       " 3                                       22.88   \n",
       " 4                                       24.85   \n",
       " \n",
       "    two_adults_one_working_one_kid_living_wage  \\\n",
       " 0                                       34.35   \n",
       " 1                                       37.96   \n",
       " 2                                       29.73   \n",
       " 3                                       27.54   \n",
       " 4                                       29.25   \n",
       " \n",
       "    two_adults_one_working_two_kids_living_wage  \\\n",
       " 0                                        38.13   \n",
       " 1                                        41.94   \n",
       " 2                                        33.38   \n",
       " 3                                        30.93   \n",
       " 4                                        32.98   \n",
       " \n",
       "    two_adults_one_working_three_kids_living_wage  \\\n",
       " 0                                          42.42   \n",
       " 1                                          47.75   \n",
       " 2                                          35.93   \n",
       " 3                                          33.69   \n",
       " 4                                          36.95   \n",
       " \n",
       "    two_adults_both_working_no_kids_living_wage  \\\n",
       " 0                                        14.03   \n",
       " 1                                        14.62   \n",
       " 2                                        12.28   \n",
       " 3                                        11.14   \n",
       " 4                                        12.03   \n",
       " \n",
       "    two_adults_both_working_one_kid_living_wage  \\\n",
       " 0                                        20.95   \n",
       " 1                                        22.36   \n",
       " 2                                        17.52   \n",
       " 3                                        15.85   \n",
       " 4                                        16.21   \n",
       " \n",
       "    two_adults_both_working_two_kids_living_wage  \\\n",
       " 0                                         26.53   \n",
       " 1                                         27.73   \n",
       " 2                                         22.01   \n",
       " 3                                         19.63   \n",
       " 4                                         19.65   \n",
       " \n",
       "    two_adults_both_working_three_kids_living_wage  \n",
       " 0                                           32.40  \n",
       " 1                                           34.01  \n",
       " 2                                           25.94  \n",
       " 3                                           23.09  \n",
       " 4                                           23.23  ,\n",
       "    Unnamed: 0      UA_Name    UA_Country   UA_Continent  Housing  \\\n",
       " 0           0       Aarhus       Denmark         Europe   6.1315   \n",
       " 1           1     Adelaide     Australia        Oceania   6.3095   \n",
       " 2           2  Albuquerque    New Mexico  North America   7.2620   \n",
       " 3           3       Almaty    Kazakhstan           Asia   9.2820   \n",
       " 4           4    Amsterdam   Netherlands         Europe   3.0530   \n",
       " \n",
       "    Cost of Living  Startups  Venture Capital  Travel Connectivity  Commute  \\\n",
       " 0           4.015    2.8270            2.512               3.5360  6.31175   \n",
       " 1           4.692    3.1365            2.640               1.7765  5.33625   \n",
       " 2           6.059    3.7720            1.493               1.4555  5.05575   \n",
       " 3           9.333    2.4585            0.000               4.5920  5.87125   \n",
       " 4           3.824    7.9715            6.107               8.3245  6.11850   \n",
       " \n",
       "    ...  Safety  Healthcare  Education  Environmental Quality  Economy  \\\n",
       " 0  ...  9.6165    8.704333     5.3665                7.63300   4.8865   \n",
       " 1  ...  7.9260    7.936667     5.1420                8.33075   6.0695   \n",
       " 2  ...  1.3435    6.430000     4.1520                7.31950   6.5145   \n",
       " 3  ...  7.3090    4.545667     2.2830                3.85675   5.2690   \n",
       " 4  ...  8.5035    7.907333     6.1800                7.59725   5.0530   \n",
       " \n",
       "    Taxation  Internet Access  Leisure & Culture  Tolerance  Outdoors  \n",
       " 0    5.0680            8.373             3.1870     9.7385    4.1300  \n",
       " 1    4.5885            4.341             4.3285     7.8220    5.5310  \n",
       " 2    4.3460            5.396             4.8900     7.0285    3.5155  \n",
       " 3    8.5220            2.886             2.9370     6.5395    5.5000  \n",
       " 4    4.9550            4.523             8.8740     8.3680    5.3070  \n",
       " \n",
       " [5 rows x 21 columns])"
      ]
     },
     "execution_count": 3,
     "metadata": {},
     "output_type": "execute_result"
    }
   ],
   "source": [
    "work_life_balance_df = pd.read_csv('../data/Cities with the Best Work-Life Balance 2022.csv')\n",
    "healthy_lifestyle_df = pd.read_csv('../data/healthy_lifestyle_city_2021.csv')\n",
    "living_wage_df = pd.read_csv('../data/livingwage (2).csv')\n",
    "ua_scores_df = pd.read_csv('../data/uaScoresDataFrame.csv')\n",
    "train_df = pd.read_csv('../data/train.csv')\n",
    "cities_df = pd.read_csv('../data/worldcities.csv')\n",
    "moving_best_cities_df = pd.read_csv('../data/Movinga_best_cities.csv')\n",
    "best_cities_df = pd.read_csv('../data/GreenCities-Data.csv')\n",
    "\n",
    "# Display the first few rows of each dataframe to understand their structure\n",
    "(work_life_balance_df.head(), healthy_lifestyle_df.head(), living_wage_df.head(), ua_scores_df.head())"
   ]
  },
  {
   "cell_type": "code",
   "execution_count": 4,
   "metadata": {},
   "outputs": [
    {
     "data": {
      "text/html": [
       "<div>\n",
       "<style scoped>\n",
       "    .dataframe tbody tr th:only-of-type {\n",
       "        vertical-align: middle;\n",
       "    }\n",
       "\n",
       "    .dataframe tbody tr th {\n",
       "        vertical-align: top;\n",
       "    }\n",
       "\n",
       "    .dataframe thead th {\n",
       "        text-align: right;\n",
       "    }\n",
       "</style>\n",
       "<table border=\"1\" class=\"dataframe\">\n",
       "  <thead>\n",
       "    <tr style=\"text-align: right;\">\n",
       "      <th></th>\n",
       "      <th>rank_2022</th>\n",
       "      <th>rank_2021</th>\n",
       "      <th>city</th>\n",
       "      <th>country</th>\n",
       "      <th>remote_jobs</th>\n",
       "      <th>overworked_population</th>\n",
       "      <th>minimum_vacations_offered_(days)</th>\n",
       "      <th>vacations_taken_(days)</th>\n",
       "      <th>unemployment</th>\n",
       "      <th>multiple_jobholders_%</th>\n",
       "      <th>...</th>\n",
       "      <th>healthcare</th>\n",
       "      <th>access_to_mental_healthcare</th>\n",
       "      <th>inclusivity_&amp;_tolerance</th>\n",
       "      <th>affordability</th>\n",
       "      <th>happiness,_culture_&amp;_leisure</th>\n",
       "      <th>city_safety</th>\n",
       "      <th>outdoor_spaces</th>\n",
       "      <th>air_quality</th>\n",
       "      <th>wellness_and_fitness</th>\n",
       "      <th>total_score</th>\n",
       "    </tr>\n",
       "  </thead>\n",
       "  <tbody>\n",
       "    <tr>\n",
       "      <th>0</th>\n",
       "      <td>1</td>\n",
       "      <td>2</td>\n",
       "      <td>Oslo</td>\n",
       "      <td>Norway</td>\n",
       "      <td>41.72%</td>\n",
       "      <td>11.20%</td>\n",
       "      <td>25</td>\n",
       "      <td>25</td>\n",
       "      <td>94.7</td>\n",
       "      <td>9.10%</td>\n",
       "      <td>...</td>\n",
       "      <td>100.0</td>\n",
       "      <td>85.0</td>\n",
       "      <td>93.2</td>\n",
       "      <td>59.4</td>\n",
       "      <td>88.8</td>\n",
       "      <td>86.5</td>\n",
       "      <td>95.6</td>\n",
       "      <td>97.5</td>\n",
       "      <td>65.7</td>\n",
       "      <td>100.00</td>\n",
       "    </tr>\n",
       "    <tr>\n",
       "      <th>1</th>\n",
       "      <td>2</td>\n",
       "      <td>-</td>\n",
       "      <td>Bern</td>\n",
       "      <td>Switzerland</td>\n",
       "      <td>44.86%</td>\n",
       "      <td>11.40%</td>\n",
       "      <td>20</td>\n",
       "      <td>25</td>\n",
       "      <td>99.8</td>\n",
       "      <td>7.60%</td>\n",
       "      <td>...</td>\n",
       "      <td>99.6</td>\n",
       "      <td>78.6</td>\n",
       "      <td>94.6</td>\n",
       "      <td>69.9</td>\n",
       "      <td>100.0</td>\n",
       "      <td>91.8</td>\n",
       "      <td>87.1</td>\n",
       "      <td>100.0</td>\n",
       "      <td>69.1</td>\n",
       "      <td>99.46</td>\n",
       "    </tr>\n",
       "    <tr>\n",
       "      <th>2</th>\n",
       "      <td>3</td>\n",
       "      <td>1</td>\n",
       "      <td>Helsinki</td>\n",
       "      <td>Finland</td>\n",
       "      <td>38.92%</td>\n",
       "      <td>12.70%</td>\n",
       "      <td>25</td>\n",
       "      <td>30</td>\n",
       "      <td>89.3</td>\n",
       "      <td>6.30%</td>\n",
       "      <td>...</td>\n",
       "      <td>96.7</td>\n",
       "      <td>73.0</td>\n",
       "      <td>93.9</td>\n",
       "      <td>65.0</td>\n",
       "      <td>96.3</td>\n",
       "      <td>94.9</td>\n",
       "      <td>86.0</td>\n",
       "      <td>97.0</td>\n",
       "      <td>68.3</td>\n",
       "      <td>99.24</td>\n",
       "    </tr>\n",
       "    <tr>\n",
       "      <th>3</th>\n",
       "      <td>4</td>\n",
       "      <td>3</td>\n",
       "      <td>Zurich</td>\n",
       "      <td>Switzerland</td>\n",
       "      <td>44.86%</td>\n",
       "      <td>11.90%</td>\n",
       "      <td>20</td>\n",
       "      <td>25</td>\n",
       "      <td>99.2</td>\n",
       "      <td>7.60%</td>\n",
       "      <td>...</td>\n",
       "      <td>99.2</td>\n",
       "      <td>78.6</td>\n",
       "      <td>87.5</td>\n",
       "      <td>71.6</td>\n",
       "      <td>91.5</td>\n",
       "      <td>92.8</td>\n",
       "      <td>84.0</td>\n",
       "      <td>96.2</td>\n",
       "      <td>68.7</td>\n",
       "      <td>96.33</td>\n",
       "    </tr>\n",
       "    <tr>\n",
       "      <th>4</th>\n",
       "      <td>5</td>\n",
       "      <td>5</td>\n",
       "      <td>Copenhagen</td>\n",
       "      <td>Denmark</td>\n",
       "      <td>41.42%</td>\n",
       "      <td>10.50%</td>\n",
       "      <td>25</td>\n",
       "      <td>28</td>\n",
       "      <td>94.8</td>\n",
       "      <td>7.60%</td>\n",
       "      <td>...</td>\n",
       "      <td>94.8</td>\n",
       "      <td>77.6</td>\n",
       "      <td>95.2</td>\n",
       "      <td>65.3</td>\n",
       "      <td>92.5</td>\n",
       "      <td>95.7</td>\n",
       "      <td>75.5</td>\n",
       "      <td>95.1</td>\n",
       "      <td>66.3</td>\n",
       "      <td>96.21</td>\n",
       "    </tr>\n",
       "  </tbody>\n",
       "</table>\n",
       "<p>5 rows × 24 columns</p>\n",
       "</div>"
      ],
      "text/plain": [
       "   rank_2022 rank_2021        city      country remote_jobs  \\\n",
       "0          1         2        Oslo       Norway      41.72%   \n",
       "1          2         -        Bern  Switzerland      44.86%   \n",
       "2          3         1    Helsinki      Finland      38.92%   \n",
       "3          4         3      Zurich  Switzerland      44.86%   \n",
       "4          5         5  Copenhagen      Denmark      41.42%   \n",
       "\n",
       "  overworked_population  minimum_vacations_offered_(days)  \\\n",
       "0                11.20%                                25   \n",
       "1                11.40%                                20   \n",
       "2                12.70%                                25   \n",
       "3                11.90%                                20   \n",
       "4                10.50%                                25   \n",
       "\n",
       "  vacations_taken_(days)  unemployment multiple_jobholders_%  ... healthcare  \\\n",
       "0                     25          94.7                 9.10%  ...      100.0   \n",
       "1                     25          99.8                 7.60%  ...       99.6   \n",
       "2                     30          89.3                 6.30%  ...       96.7   \n",
       "3                     25          99.2                 7.60%  ...       99.2   \n",
       "4                     28          94.8                 7.60%  ...       94.8   \n",
       "\n",
       "  access_to_mental_healthcare  inclusivity_&_tolerance  affordability  \\\n",
       "0                        85.0                     93.2           59.4   \n",
       "1                        78.6                     94.6           69.9   \n",
       "2                        73.0                     93.9           65.0   \n",
       "3                        78.6                     87.5           71.6   \n",
       "4                        77.6                     95.2           65.3   \n",
       "\n",
       "   happiness,_culture_&_leisure  city_safety  outdoor_spaces  air_quality  \\\n",
       "0                          88.8         86.5            95.6         97.5   \n",
       "1                         100.0         91.8            87.1        100.0   \n",
       "2                          96.3         94.9            86.0         97.0   \n",
       "3                          91.5         92.8            84.0         96.2   \n",
       "4                          92.5         95.7            75.5         95.1   \n",
       "\n",
       "   wellness_and_fitness  total_score  \n",
       "0                  65.7       100.00  \n",
       "1                  69.1        99.46  \n",
       "2                  68.3        99.24  \n",
       "3                  68.7        96.33  \n",
       "4                  66.3        96.21  \n",
       "\n",
       "[5 rows x 24 columns]"
      ]
     },
     "execution_count": 4,
     "metadata": {},
     "output_type": "execute_result"
    }
   ],
   "source": [
    "work_life_balance_df.columns = work_life_balance_df.columns.str.strip().str.replace(' ', '_').str.lower()\n",
    "work_life_balance_df = work_life_balance_df.rename(columns={'2022': 'rank_2022', '2021': 'rank_2021', 'multiple_jobholders': 'multiple_jobholders_%'})\n",
    "\n",
    "percentage_columns = ['remote_jobs', 'overworked_population', 'multiple_jobholders_%']\n",
    "\n",
    "work_life_balance_df.head()"
   ]
  },
  {
   "cell_type": "code",
   "execution_count": 5,
   "metadata": {},
   "outputs": [
    {
     "data": {
      "text/html": [
       "<div>\n",
       "<style scoped>\n",
       "    .dataframe tbody tr th:only-of-type {\n",
       "        vertical-align: middle;\n",
       "    }\n",
       "\n",
       "    .dataframe tbody tr th {\n",
       "        vertical-align: top;\n",
       "    }\n",
       "\n",
       "    .dataframe thead th {\n",
       "        text-align: right;\n",
       "    }\n",
       "</style>\n",
       "<table border=\"1\" class=\"dataframe\">\n",
       "  <thead>\n",
       "    <tr style=\"text-align: right;\">\n",
       "      <th></th>\n",
       "      <th>rank_2020</th>\n",
       "      <th>city_name</th>\n",
       "      <th>state</th>\n",
       "      <th>population_2020</th>\n",
       "      <th>population_2010</th>\n",
       "      <th>land_area_sqmi</th>\n",
       "      <th>density</th>\n",
       "      <th>one_adult_no_kids_living_wage</th>\n",
       "      <th>one_adult_one_kid_living_wage</th>\n",
       "      <th>one_adult_two_kids_living_wage</th>\n",
       "      <th>one_adult_three_kids_living_wage</th>\n",
       "      <th>two_adults_one_working_no_kids_living_wage</th>\n",
       "      <th>two_adults_one_working_one_kid_living_wage</th>\n",
       "      <th>two_adults_one_working_two_kids_living_wage</th>\n",
       "      <th>two_adults_one_working_three_kids_living_wage</th>\n",
       "      <th>two_adults_both_working_no_kids_living_wage</th>\n",
       "      <th>two_adults_both_working_one_kid_living_wage</th>\n",
       "      <th>two_adults_both_working_two_kids_living_wage</th>\n",
       "      <th>two_adults_both_working_three_kids_living_wage</th>\n",
       "    </tr>\n",
       "  </thead>\n",
       "  <tbody>\n",
       "    <tr>\n",
       "      <th>0</th>\n",
       "      <td>1</td>\n",
       "      <td>New York</td>\n",
       "      <td>New York</td>\n",
       "      <td>8804190</td>\n",
       "      <td>8175133</td>\n",
       "      <td>300.5</td>\n",
       "      <td>29298</td>\n",
       "      <td>20.00</td>\n",
       "      <td>38.99</td>\n",
       "      <td>49.18</td>\n",
       "      <td>64.30</td>\n",
       "      <td>29.16</td>\n",
       "      <td>34.35</td>\n",
       "      <td>38.13</td>\n",
       "      <td>42.42</td>\n",
       "      <td>14.03</td>\n",
       "      <td>20.95</td>\n",
       "      <td>26.53</td>\n",
       "      <td>32.40</td>\n",
       "    </tr>\n",
       "    <tr>\n",
       "      <th>1</th>\n",
       "      <td>2</td>\n",
       "      <td>Los Angeles</td>\n",
       "      <td>California</td>\n",
       "      <td>3898747</td>\n",
       "      <td>3792621</td>\n",
       "      <td>469.5</td>\n",
       "      <td>8304</td>\n",
       "      <td>19.22</td>\n",
       "      <td>41.55</td>\n",
       "      <td>51.30</td>\n",
       "      <td>67.56</td>\n",
       "      <td>31.01</td>\n",
       "      <td>37.96</td>\n",
       "      <td>41.94</td>\n",
       "      <td>47.75</td>\n",
       "      <td>14.62</td>\n",
       "      <td>22.36</td>\n",
       "      <td>27.73</td>\n",
       "      <td>34.01</td>\n",
       "    </tr>\n",
       "    <tr>\n",
       "      <th>2</th>\n",
       "      <td>3</td>\n",
       "      <td>Chicago</td>\n",
       "      <td>Illinois</td>\n",
       "      <td>2746388</td>\n",
       "      <td>2695598</td>\n",
       "      <td>227.7</td>\n",
       "      <td>12061</td>\n",
       "      <td>16.08</td>\n",
       "      <td>32.25</td>\n",
       "      <td>40.20</td>\n",
       "      <td>51.69</td>\n",
       "      <td>25.41</td>\n",
       "      <td>29.73</td>\n",
       "      <td>33.38</td>\n",
       "      <td>35.93</td>\n",
       "      <td>12.28</td>\n",
       "      <td>17.52</td>\n",
       "      <td>22.01</td>\n",
       "      <td>25.94</td>\n",
       "    </tr>\n",
       "    <tr>\n",
       "      <th>3</th>\n",
       "      <td>4</td>\n",
       "      <td>Houston</td>\n",
       "      <td>Texas</td>\n",
       "      <td>2304580</td>\n",
       "      <td>2099451</td>\n",
       "      <td>640.4</td>\n",
       "      <td>3599</td>\n",
       "      <td>14.29</td>\n",
       "      <td>29.09</td>\n",
       "      <td>35.73</td>\n",
       "      <td>46.02</td>\n",
       "      <td>22.88</td>\n",
       "      <td>27.54</td>\n",
       "      <td>30.93</td>\n",
       "      <td>33.69</td>\n",
       "      <td>11.14</td>\n",
       "      <td>15.85</td>\n",
       "      <td>19.63</td>\n",
       "      <td>23.09</td>\n",
       "    </tr>\n",
       "    <tr>\n",
       "      <th>4</th>\n",
       "      <td>5</td>\n",
       "      <td>Phoenix</td>\n",
       "      <td>Arizona</td>\n",
       "      <td>1608139</td>\n",
       "      <td>1445632</td>\n",
       "      <td>518.0</td>\n",
       "      <td>3105</td>\n",
       "      <td>15.41</td>\n",
       "      <td>29.44</td>\n",
       "      <td>35.40</td>\n",
       "      <td>46.01</td>\n",
       "      <td>24.85</td>\n",
       "      <td>29.25</td>\n",
       "      <td>32.98</td>\n",
       "      <td>36.95</td>\n",
       "      <td>12.03</td>\n",
       "      <td>16.21</td>\n",
       "      <td>19.65</td>\n",
       "      <td>23.23</td>\n",
       "    </tr>\n",
       "  </tbody>\n",
       "</table>\n",
       "</div>"
      ],
      "text/plain": [
       "   rank_2020    city_name       state  population_2020  population_2010  \\\n",
       "0          1     New York    New York          8804190          8175133   \n",
       "1          2  Los Angeles  California          3898747          3792621   \n",
       "2          3      Chicago    Illinois          2746388          2695598   \n",
       "3          4      Houston       Texas          2304580          2099451   \n",
       "4          5      Phoenix     Arizona          1608139          1445632   \n",
       "\n",
       "   land_area_sqmi  density  one_adult_no_kids_living_wage  \\\n",
       "0           300.5    29298                          20.00   \n",
       "1           469.5     8304                          19.22   \n",
       "2           227.7    12061                          16.08   \n",
       "3           640.4     3599                          14.29   \n",
       "4           518.0     3105                          15.41   \n",
       "\n",
       "   one_adult_one_kid_living_wage  one_adult_two_kids_living_wage  \\\n",
       "0                          38.99                           49.18   \n",
       "1                          41.55                           51.30   \n",
       "2                          32.25                           40.20   \n",
       "3                          29.09                           35.73   \n",
       "4                          29.44                           35.40   \n",
       "\n",
       "   one_adult_three_kids_living_wage  \\\n",
       "0                             64.30   \n",
       "1                             67.56   \n",
       "2                             51.69   \n",
       "3                             46.02   \n",
       "4                             46.01   \n",
       "\n",
       "   two_adults_one_working_no_kids_living_wage  \\\n",
       "0                                       29.16   \n",
       "1                                       31.01   \n",
       "2                                       25.41   \n",
       "3                                       22.88   \n",
       "4                                       24.85   \n",
       "\n",
       "   two_adults_one_working_one_kid_living_wage  \\\n",
       "0                                       34.35   \n",
       "1                                       37.96   \n",
       "2                                       29.73   \n",
       "3                                       27.54   \n",
       "4                                       29.25   \n",
       "\n",
       "   two_adults_one_working_two_kids_living_wage  \\\n",
       "0                                        38.13   \n",
       "1                                        41.94   \n",
       "2                                        33.38   \n",
       "3                                        30.93   \n",
       "4                                        32.98   \n",
       "\n",
       "   two_adults_one_working_three_kids_living_wage  \\\n",
       "0                                          42.42   \n",
       "1                                          47.75   \n",
       "2                                          35.93   \n",
       "3                                          33.69   \n",
       "4                                          36.95   \n",
       "\n",
       "   two_adults_both_working_no_kids_living_wage  \\\n",
       "0                                        14.03   \n",
       "1                                        14.62   \n",
       "2                                        12.28   \n",
       "3                                        11.14   \n",
       "4                                        12.03   \n",
       "\n",
       "   two_adults_both_working_one_kid_living_wage  \\\n",
       "0                                        20.95   \n",
       "1                                        22.36   \n",
       "2                                        17.52   \n",
       "3                                        15.85   \n",
       "4                                        16.21   \n",
       "\n",
       "   two_adults_both_working_two_kids_living_wage  \\\n",
       "0                                         26.53   \n",
       "1                                         27.73   \n",
       "2                                         22.01   \n",
       "3                                         19.63   \n",
       "4                                         19.65   \n",
       "\n",
       "   two_adults_both_working_three_kids_living_wage  \n",
       "0                                           32.40  \n",
       "1                                           34.01  \n",
       "2                                           25.94  \n",
       "3                                           23.09  \n",
       "4                                           23.23  "
      ]
     },
     "execution_count": 5,
     "metadata": {},
     "output_type": "execute_result"
    }
   ],
   "source": [
    "# Clean and preprocess living wage data\n",
    "living_wage_df.columns = living_wage_df.columns.str.strip().str.replace(' ', '_').str.lower()\n",
    "\n",
    "# Ensure consistency in city and country names\n",
    "living_wage_df.rename(columns={'city': 'city_name', 'country': 'country_name'}, inplace=True)\n",
    "\n",
    "living_wage_df.head()"
   ]
  },
  {
   "cell_type": "code",
   "execution_count": 6,
   "metadata": {},
   "outputs": [
    {
     "data": {
      "text/html": [
       "<div>\n",
       "<style scoped>\n",
       "    .dataframe tbody tr th:only-of-type {\n",
       "        vertical-align: middle;\n",
       "    }\n",
       "\n",
       "    .dataframe tbody tr th {\n",
       "        vertical-align: top;\n",
       "    }\n",
       "\n",
       "    .dataframe thead th {\n",
       "        text-align: right;\n",
       "    }\n",
       "</style>\n",
       "<table border=\"1\" class=\"dataframe\">\n",
       "  <thead>\n",
       "    <tr style=\"text-align: right;\">\n",
       "      <th></th>\n",
       "      <th>unnamed:_0</th>\n",
       "      <th>ua_name</th>\n",
       "      <th>ua_country</th>\n",
       "      <th>ua_continent</th>\n",
       "      <th>housing</th>\n",
       "      <th>cost_of_living</th>\n",
       "      <th>startups</th>\n",
       "      <th>venture_capital</th>\n",
       "      <th>travel_connectivity</th>\n",
       "      <th>commute</th>\n",
       "      <th>...</th>\n",
       "      <th>safety</th>\n",
       "      <th>healthcare</th>\n",
       "      <th>education</th>\n",
       "      <th>environmental_quality</th>\n",
       "      <th>economy</th>\n",
       "      <th>taxation</th>\n",
       "      <th>internet_access</th>\n",
       "      <th>leisure_&amp;_culture</th>\n",
       "      <th>tolerance</th>\n",
       "      <th>outdoors</th>\n",
       "    </tr>\n",
       "  </thead>\n",
       "  <tbody>\n",
       "    <tr>\n",
       "      <th>0</th>\n",
       "      <td>0</td>\n",
       "      <td>Aarhus</td>\n",
       "      <td>Denmark</td>\n",
       "      <td>Europe</td>\n",
       "      <td>6.1315</td>\n",
       "      <td>4.015</td>\n",
       "      <td>2.8270</td>\n",
       "      <td>2.512</td>\n",
       "      <td>3.5360</td>\n",
       "      <td>6.31175</td>\n",
       "      <td>...</td>\n",
       "      <td>9.6165</td>\n",
       "      <td>8.704333</td>\n",
       "      <td>5.3665</td>\n",
       "      <td>7.63300</td>\n",
       "      <td>4.8865</td>\n",
       "      <td>5.0680</td>\n",
       "      <td>8.373</td>\n",
       "      <td>3.1870</td>\n",
       "      <td>9.7385</td>\n",
       "      <td>4.1300</td>\n",
       "    </tr>\n",
       "    <tr>\n",
       "      <th>1</th>\n",
       "      <td>1</td>\n",
       "      <td>Adelaide</td>\n",
       "      <td>Australia</td>\n",
       "      <td>Oceania</td>\n",
       "      <td>6.3095</td>\n",
       "      <td>4.692</td>\n",
       "      <td>3.1365</td>\n",
       "      <td>2.640</td>\n",
       "      <td>1.7765</td>\n",
       "      <td>5.33625</td>\n",
       "      <td>...</td>\n",
       "      <td>7.9260</td>\n",
       "      <td>7.936667</td>\n",
       "      <td>5.1420</td>\n",
       "      <td>8.33075</td>\n",
       "      <td>6.0695</td>\n",
       "      <td>4.5885</td>\n",
       "      <td>4.341</td>\n",
       "      <td>4.3285</td>\n",
       "      <td>7.8220</td>\n",
       "      <td>5.5310</td>\n",
       "    </tr>\n",
       "    <tr>\n",
       "      <th>2</th>\n",
       "      <td>2</td>\n",
       "      <td>Albuquerque</td>\n",
       "      <td>New Mexico</td>\n",
       "      <td>North America</td>\n",
       "      <td>7.2620</td>\n",
       "      <td>6.059</td>\n",
       "      <td>3.7720</td>\n",
       "      <td>1.493</td>\n",
       "      <td>1.4555</td>\n",
       "      <td>5.05575</td>\n",
       "      <td>...</td>\n",
       "      <td>1.3435</td>\n",
       "      <td>6.430000</td>\n",
       "      <td>4.1520</td>\n",
       "      <td>7.31950</td>\n",
       "      <td>6.5145</td>\n",
       "      <td>4.3460</td>\n",
       "      <td>5.396</td>\n",
       "      <td>4.8900</td>\n",
       "      <td>7.0285</td>\n",
       "      <td>3.5155</td>\n",
       "    </tr>\n",
       "    <tr>\n",
       "      <th>3</th>\n",
       "      <td>3</td>\n",
       "      <td>Almaty</td>\n",
       "      <td>Kazakhstan</td>\n",
       "      <td>Asia</td>\n",
       "      <td>9.2820</td>\n",
       "      <td>9.333</td>\n",
       "      <td>2.4585</td>\n",
       "      <td>0.000</td>\n",
       "      <td>4.5920</td>\n",
       "      <td>5.87125</td>\n",
       "      <td>...</td>\n",
       "      <td>7.3090</td>\n",
       "      <td>4.545667</td>\n",
       "      <td>2.2830</td>\n",
       "      <td>3.85675</td>\n",
       "      <td>5.2690</td>\n",
       "      <td>8.5220</td>\n",
       "      <td>2.886</td>\n",
       "      <td>2.9370</td>\n",
       "      <td>6.5395</td>\n",
       "      <td>5.5000</td>\n",
       "    </tr>\n",
       "    <tr>\n",
       "      <th>4</th>\n",
       "      <td>4</td>\n",
       "      <td>Amsterdam</td>\n",
       "      <td>Netherlands</td>\n",
       "      <td>Europe</td>\n",
       "      <td>3.0530</td>\n",
       "      <td>3.824</td>\n",
       "      <td>7.9715</td>\n",
       "      <td>6.107</td>\n",
       "      <td>8.3245</td>\n",
       "      <td>6.11850</td>\n",
       "      <td>...</td>\n",
       "      <td>8.5035</td>\n",
       "      <td>7.907333</td>\n",
       "      <td>6.1800</td>\n",
       "      <td>7.59725</td>\n",
       "      <td>5.0530</td>\n",
       "      <td>4.9550</td>\n",
       "      <td>4.523</td>\n",
       "      <td>8.8740</td>\n",
       "      <td>8.3680</td>\n",
       "      <td>5.3070</td>\n",
       "    </tr>\n",
       "  </tbody>\n",
       "</table>\n",
       "<p>5 rows × 21 columns</p>\n",
       "</div>"
      ],
      "text/plain": [
       "   unnamed:_0      ua_name    ua_country   ua_continent  housing  \\\n",
       "0           0       Aarhus       Denmark         Europe   6.1315   \n",
       "1           1     Adelaide     Australia        Oceania   6.3095   \n",
       "2           2  Albuquerque    New Mexico  North America   7.2620   \n",
       "3           3       Almaty    Kazakhstan           Asia   9.2820   \n",
       "4           4    Amsterdam   Netherlands         Europe   3.0530   \n",
       "\n",
       "   cost_of_living  startups  venture_capital  travel_connectivity  commute  \\\n",
       "0           4.015    2.8270            2.512               3.5360  6.31175   \n",
       "1           4.692    3.1365            2.640               1.7765  5.33625   \n",
       "2           6.059    3.7720            1.493               1.4555  5.05575   \n",
       "3           9.333    2.4585            0.000               4.5920  5.87125   \n",
       "4           3.824    7.9715            6.107               8.3245  6.11850   \n",
       "\n",
       "   ...  safety  healthcare  education  environmental_quality  economy  \\\n",
       "0  ...  9.6165    8.704333     5.3665                7.63300   4.8865   \n",
       "1  ...  7.9260    7.936667     5.1420                8.33075   6.0695   \n",
       "2  ...  1.3435    6.430000     4.1520                7.31950   6.5145   \n",
       "3  ...  7.3090    4.545667     2.2830                3.85675   5.2690   \n",
       "4  ...  8.5035    7.907333     6.1800                7.59725   5.0530   \n",
       "\n",
       "   taxation  internet_access  leisure_&_culture  tolerance  outdoors  \n",
       "0    5.0680            8.373             3.1870     9.7385    4.1300  \n",
       "1    4.5885            4.341             4.3285     7.8220    5.5310  \n",
       "2    4.3460            5.396             4.8900     7.0285    3.5155  \n",
       "3    8.5220            2.886             2.9370     6.5395    5.5000  \n",
       "4    4.9550            4.523             8.8740     8.3680    5.3070  \n",
       "\n",
       "[5 rows x 21 columns]"
      ]
     },
     "execution_count": 6,
     "metadata": {},
     "output_type": "execute_result"
    }
   ],
   "source": [
    "# Clean and preprocess UA Scores data\n",
    "ua_scores_df.columns = ua_scores_df.columns.str.strip().str.replace(' ', '_').str.lower()\n",
    "\n",
    "ua_scores_df.head()"
   ]
  },
  {
   "cell_type": "code",
   "execution_count": 7,
   "metadata": {},
   "outputs": [],
   "source": [
    "work_life_balance_df['vacations_taken_(days)'] = pd.to_numeric(work_life_balance_df['vacations_taken_(days)'], errors='coerce')\n",
    "work_life_balance_df['minimum_vacations_offered_(days)'] = pd.to_numeric(work_life_balance_df['minimum_vacations_offered_(days)'], errors='coerce')"
   ]
  },
  {
   "cell_type": "code",
   "execution_count": 8,
   "metadata": {},
   "outputs": [
    {
     "data": {
      "text/html": [
       "<div>\n",
       "<style scoped>\n",
       "    .dataframe tbody tr th:only-of-type {\n",
       "        vertical-align: middle;\n",
       "    }\n",
       "\n",
       "    .dataframe tbody tr th {\n",
       "        vertical-align: top;\n",
       "    }\n",
       "\n",
       "    .dataframe thead th {\n",
       "        text-align: right;\n",
       "    }\n",
       "</style>\n",
       "<table border=\"1\" class=\"dataframe\">\n",
       "  <thead>\n",
       "    <tr style=\"text-align: right;\">\n",
       "      <th></th>\n",
       "      <th>City</th>\n",
       "      <th>Month</th>\n",
       "      <th>Year</th>\n",
       "      <th>Decibel_Level</th>\n",
       "      <th>Traffic_Density</th>\n",
       "      <th>Green_Space_Area</th>\n",
       "      <th>Air_Quality_Index</th>\n",
       "      <th>Happiness_Score</th>\n",
       "      <th>Cost_of_Living_Index</th>\n",
       "      <th>Healthcare_Index</th>\n",
       "    </tr>\n",
       "  </thead>\n",
       "  <tbody>\n",
       "    <tr>\n",
       "      <th>0</th>\n",
       "      <td>New York</td>\n",
       "      <td>January</td>\n",
       "      <td>2024</td>\n",
       "      <td>70</td>\n",
       "      <td>High</td>\n",
       "      <td>35</td>\n",
       "      <td>40</td>\n",
       "      <td>6.5</td>\n",
       "      <td>100</td>\n",
       "      <td>80</td>\n",
       "    </tr>\n",
       "    <tr>\n",
       "      <th>1</th>\n",
       "      <td>Los Angeles</td>\n",
       "      <td>January</td>\n",
       "      <td>2024</td>\n",
       "      <td>65</td>\n",
       "      <td>Medium</td>\n",
       "      <td>40</td>\n",
       "      <td>50</td>\n",
       "      <td>6.8</td>\n",
       "      <td>90</td>\n",
       "      <td>75</td>\n",
       "    </tr>\n",
       "    <tr>\n",
       "      <th>2</th>\n",
       "      <td>Chicago</td>\n",
       "      <td>January</td>\n",
       "      <td>2024</td>\n",
       "      <td>60</td>\n",
       "      <td>Medium</td>\n",
       "      <td>30</td>\n",
       "      <td>55</td>\n",
       "      <td>7.0</td>\n",
       "      <td>85</td>\n",
       "      <td>70</td>\n",
       "    </tr>\n",
       "    <tr>\n",
       "      <th>3</th>\n",
       "      <td>London</td>\n",
       "      <td>January</td>\n",
       "      <td>2024</td>\n",
       "      <td>55</td>\n",
       "      <td>High</td>\n",
       "      <td>50</td>\n",
       "      <td>60</td>\n",
       "      <td>7.2</td>\n",
       "      <td>110</td>\n",
       "      <td>85</td>\n",
       "    </tr>\n",
       "    <tr>\n",
       "      <th>4</th>\n",
       "      <td>Paris</td>\n",
       "      <td>January</td>\n",
       "      <td>2024</td>\n",
       "      <td>60</td>\n",
       "      <td>High</td>\n",
       "      <td>45</td>\n",
       "      <td>65</td>\n",
       "      <td>6.9</td>\n",
       "      <td>95</td>\n",
       "      <td>80</td>\n",
       "    </tr>\n",
       "  </tbody>\n",
       "</table>\n",
       "</div>"
      ],
      "text/plain": [
       "          City    Month  Year  Decibel_Level Traffic_Density  \\\n",
       "0     New York  January  2024             70            High   \n",
       "1  Los Angeles  January  2024             65          Medium   \n",
       "2      Chicago  January  2024             60          Medium   \n",
       "3       London  January  2024             55            High   \n",
       "4        Paris  January  2024             60            High   \n",
       "\n",
       "   Green_Space_Area  Air_Quality_Index  Happiness_Score  Cost_of_Living_Index  \\\n",
       "0                35                 40              6.5                   100   \n",
       "1                40                 50              6.8                    90   \n",
       "2                30                 55              7.0                    85   \n",
       "3                50                 60              7.2                   110   \n",
       "4                45                 65              6.9                    95   \n",
       "\n",
       "   Healthcare_Index  \n",
       "0                80  \n",
       "1                75  \n",
       "2                70  \n",
       "3                85  \n",
       "4                80  "
      ]
     },
     "execution_count": 8,
     "metadata": {},
     "output_type": "execute_result"
    }
   ],
   "source": [
    "train_df.head()"
   ]
  },
  {
   "cell_type": "code",
   "execution_count": 9,
   "metadata": {},
   "outputs": [],
   "source": [
    "european_cities = [\n",
    "    \"London\",\n",
    "    \"Paris\",\n",
    "    \"Berlin\",\n",
    "    \"Amsterdam\",\n",
    "    \"Barcelona\",\n",
    "    \"Lisbon\",\n",
    "    \"Rome\",\n",
    "    \"Athens\",\n",
    "    \"Vienna\",\n",
    "    \"Dublin\",\n",
    "    \"Copenhagen\",\n",
    "    \"Stockholm\",\n",
    "    \"Oslo\",\n",
    "    \"Helsinki\",\n",
    "    \"Prague\",\n",
    "    \"Budapest\",\n",
    "    \"Warsaw\",\n",
    "    \"Sofia\",\n",
    "    \"Belgrade\",\n",
    "]"
   ]
  },
  {
   "cell_type": "code",
   "execution_count": 10,
   "metadata": {},
   "outputs": [
    {
     "data": {
      "application/vnd.plotly.v1+json": {
       "config": {
        "plotlyServerURL": "https://plot.ly"
       },
       "data": [
        {
         "hovertemplate": "<b>%{hovertext}</b><br><br>Country=Netherlands<br>Healthcare=%{x}<br>Education=%{y}<br>Economy Score=%{marker.size}<extra></extra>",
         "hovertext": [
          "Amsterdam",
          "Eindhoven",
          "Rotterdam",
          "The Hague",
          "Utrecht"
         ],
         "legendgroup": "Netherlands",
         "marker": {
          "color": "#636efa",
          "size": [
           5.053000000000001,
           5.053000000000001,
           5.053000000000001,
           5.053000000000001,
           5.053000000000001
          ],
          "sizemode": "area",
          "sizeref": 0.0113176,
          "symbol": "circle"
         },
         "mode": "markers",
         "name": "Netherlands",
         "orientation": "v",
         "showlegend": true,
         "type": "scatter",
         "x": [
          7.907333333333333,
          8.559333333333333,
          8.329,
          8.213999999999999,
          8.394
         ],
         "xaxis": "x",
         "y": [
          6.18,
          5.0805,
          4.306500000000001,
          4.306500000000001,
          5.5915
         ],
         "yaxis": "y"
        },
        {
         "hovertemplate": "<b>%{hovertext}</b><br><br>Country=Serbia<br>Healthcare=%{x}<br>Education=%{y}<br>Economy Score=%{marker.size}<extra></extra>",
         "hovertext": [
          "Belgrade"
         ],
         "legendgroup": "Serbia",
         "marker": {
          "color": "#EF553B",
          "size": [
           1.638
          ],
          "sizemode": "area",
          "sizeref": 0.0113176,
          "symbol": "circle"
         },
         "mode": "markers",
         "name": "Serbia",
         "orientation": "v",
         "showlegend": true,
         "type": "scatter",
         "x": [
          6.0103333333333335
         ],
         "xaxis": "x",
         "y": [
          0.5
         ],
         "yaxis": "y"
        },
        {
         "hovertemplate": "<b>%{hovertext}</b><br><br>Country=Norway<br>Healthcare=%{x}<br>Education=%{y}<br>Economy Score=%{marker.size}<extra></extra>",
         "hovertext": [
          "Bergen",
          "Oslo"
         ],
         "legendgroup": "Norway",
         "marker": {
          "color": "#00cc96",
          "size": [
           7.0735,
           7.0735
          ],
          "sizemode": "area",
          "sizeref": 0.0113176,
          "symbol": "circle"
         },
         "mode": "markers",
         "name": "Norway",
         "orientation": "v",
         "showlegend": true,
         "type": "scatter",
         "x": [
          7.646666666666667,
          7.909999999999998
         ],
         "xaxis": "x",
         "y": [
          4.8395,
          5.144500000000001
         ],
         "yaxis": "y"
        },
        {
         "hovertemplate": "<b>%{hovertext}</b><br><br>Country=Slovakia<br>Healthcare=%{x}<br>Education=%{y}<br>Economy Score=%{marker.size}<extra></extra>",
         "hovertext": [
          "Bratislava"
         ],
         "legendgroup": "Slovakia",
         "marker": {
          "color": "#ab63fa",
          "size": [
           4.4705
          ],
          "sizemode": "area",
          "sizeref": 0.0113176,
          "symbol": "circle"
         },
         "mode": "markers",
         "name": "Slovakia",
         "orientation": "v",
         "showlegend": true,
         "type": "scatter",
         "x": [
          6.751999999999999
         ],
         "xaxis": "x",
         "y": [
          3.2975
         ],
         "yaxis": "y"
        },
        {
         "hovertemplate": "<b>%{hovertext}</b><br><br>Country=Sweden<br>Healthcare=%{x}<br>Education=%{y}<br>Economy Score=%{marker.size}<extra></extra>",
         "hovertext": [
          "Gothenburg",
          "Malmo",
          "Stockholm",
          "Uppsala"
         ],
         "legendgroup": "Sweden",
         "marker": {
          "color": "#FFA15A",
          "size": [
           5.694499999999999,
           5.694499999999999,
           5.694499999999999,
           5.694499999999999
          ],
          "sizemode": "area",
          "sizeref": 0.0113176,
          "symbol": "circle"
         },
         "mode": "markers",
         "name": "Sweden",
         "orientation": "v",
         "showlegend": true,
         "type": "scatter",
         "x": [
          8.101666666666667,
          8.215,
          8.039333333333332,
          8.152666666666665
         ],
         "xaxis": "x",
         "y": [
          4.7775,
          3.893,
          6.6675,
          5.2044999999999995
         ],
         "yaxis": "y"
        },
        {
         "hovertemplate": "<b>%{hovertext}</b><br><br>Country=Bulgaria<br>Healthcare=%{x}<br>Education=%{y}<br>Economy Score=%{marker.size}<extra></extra>",
         "hovertext": [
          "Sofia"
         ],
         "legendgroup": "Bulgaria",
         "marker": {
          "color": "#19d3f3",
          "size": [
           3.2499999999999996
          ],
          "sizemode": "area",
          "sizeref": 0.0113176,
          "symbol": "circle"
         },
         "mode": "markers",
         "name": "Bulgaria",
         "orientation": "v",
         "showlegend": true,
         "type": "scatter",
         "x": [
          5.586666666666666
         ],
         "xaxis": "x",
         "y": [
          2.0145
         ],
         "yaxis": "y"
        }
       ],
       "layout": {
        "annotations": [
         {
          "align": "left",
          "showarrow": false,
          "text": "The size of the bubble corresponds to the economy of that city.",
          "x": 0,
          "xanchor": "left",
          "xref": "paper",
          "y": -0.263,
          "yanchor": "bottom",
          "yref": "paper"
         }
        ],
        "legend": {
         "itemsizing": "constant",
         "title": {
          "text": "Country"
         },
         "tracegroupgap": 0
        },
        "template": {
         "data": {
          "bar": [
           {
            "error_x": {
             "color": "#2a3f5f"
            },
            "error_y": {
             "color": "#2a3f5f"
            },
            "marker": {
             "line": {
              "color": "#E5ECF6",
              "width": 0
             },
             "pattern": {
              "fillmode": "overlay",
              "size": 10,
              "solidity": 0.2
             }
            },
            "type": "bar"
           }
          ],
          "barpolar": [
           {
            "marker": {
             "line": {
              "color": "#E5ECF6",
              "width": 0.5
             },
             "pattern": {
              "fillmode": "overlay",
              "size": 10,
              "solidity": 0.2
             }
            },
            "type": "barpolar"
           }
          ],
          "carpet": [
           {
            "aaxis": {
             "endlinecolor": "#2a3f5f",
             "gridcolor": "white",
             "linecolor": "white",
             "minorgridcolor": "white",
             "startlinecolor": "#2a3f5f"
            },
            "baxis": {
             "endlinecolor": "#2a3f5f",
             "gridcolor": "white",
             "linecolor": "white",
             "minorgridcolor": "white",
             "startlinecolor": "#2a3f5f"
            },
            "type": "carpet"
           }
          ],
          "choropleth": [
           {
            "colorbar": {
             "outlinewidth": 0,
             "ticks": ""
            },
            "type": "choropleth"
           }
          ],
          "contour": [
           {
            "colorbar": {
             "outlinewidth": 0,
             "ticks": ""
            },
            "colorscale": [
             [
              0,
              "#0d0887"
             ],
             [
              0.1111111111111111,
              "#46039f"
             ],
             [
              0.2222222222222222,
              "#7201a8"
             ],
             [
              0.3333333333333333,
              "#9c179e"
             ],
             [
              0.4444444444444444,
              "#bd3786"
             ],
             [
              0.5555555555555556,
              "#d8576b"
             ],
             [
              0.6666666666666666,
              "#ed7953"
             ],
             [
              0.7777777777777778,
              "#fb9f3a"
             ],
             [
              0.8888888888888888,
              "#fdca26"
             ],
             [
              1,
              "#f0f921"
             ]
            ],
            "type": "contour"
           }
          ],
          "contourcarpet": [
           {
            "colorbar": {
             "outlinewidth": 0,
             "ticks": ""
            },
            "type": "contourcarpet"
           }
          ],
          "heatmap": [
           {
            "colorbar": {
             "outlinewidth": 0,
             "ticks": ""
            },
            "colorscale": [
             [
              0,
              "#0d0887"
             ],
             [
              0.1111111111111111,
              "#46039f"
             ],
             [
              0.2222222222222222,
              "#7201a8"
             ],
             [
              0.3333333333333333,
              "#9c179e"
             ],
             [
              0.4444444444444444,
              "#bd3786"
             ],
             [
              0.5555555555555556,
              "#d8576b"
             ],
             [
              0.6666666666666666,
              "#ed7953"
             ],
             [
              0.7777777777777778,
              "#fb9f3a"
             ],
             [
              0.8888888888888888,
              "#fdca26"
             ],
             [
              1,
              "#f0f921"
             ]
            ],
            "type": "heatmap"
           }
          ],
          "heatmapgl": [
           {
            "colorbar": {
             "outlinewidth": 0,
             "ticks": ""
            },
            "colorscale": [
             [
              0,
              "#0d0887"
             ],
             [
              0.1111111111111111,
              "#46039f"
             ],
             [
              0.2222222222222222,
              "#7201a8"
             ],
             [
              0.3333333333333333,
              "#9c179e"
             ],
             [
              0.4444444444444444,
              "#bd3786"
             ],
             [
              0.5555555555555556,
              "#d8576b"
             ],
             [
              0.6666666666666666,
              "#ed7953"
             ],
             [
              0.7777777777777778,
              "#fb9f3a"
             ],
             [
              0.8888888888888888,
              "#fdca26"
             ],
             [
              1,
              "#f0f921"
             ]
            ],
            "type": "heatmapgl"
           }
          ],
          "histogram": [
           {
            "marker": {
             "pattern": {
              "fillmode": "overlay",
              "size": 10,
              "solidity": 0.2
             }
            },
            "type": "histogram"
           }
          ],
          "histogram2d": [
           {
            "colorbar": {
             "outlinewidth": 0,
             "ticks": ""
            },
            "colorscale": [
             [
              0,
              "#0d0887"
             ],
             [
              0.1111111111111111,
              "#46039f"
             ],
             [
              0.2222222222222222,
              "#7201a8"
             ],
             [
              0.3333333333333333,
              "#9c179e"
             ],
             [
              0.4444444444444444,
              "#bd3786"
             ],
             [
              0.5555555555555556,
              "#d8576b"
             ],
             [
              0.6666666666666666,
              "#ed7953"
             ],
             [
              0.7777777777777778,
              "#fb9f3a"
             ],
             [
              0.8888888888888888,
              "#fdca26"
             ],
             [
              1,
              "#f0f921"
             ]
            ],
            "type": "histogram2d"
           }
          ],
          "histogram2dcontour": [
           {
            "colorbar": {
             "outlinewidth": 0,
             "ticks": ""
            },
            "colorscale": [
             [
              0,
              "#0d0887"
             ],
             [
              0.1111111111111111,
              "#46039f"
             ],
             [
              0.2222222222222222,
              "#7201a8"
             ],
             [
              0.3333333333333333,
              "#9c179e"
             ],
             [
              0.4444444444444444,
              "#bd3786"
             ],
             [
              0.5555555555555556,
              "#d8576b"
             ],
             [
              0.6666666666666666,
              "#ed7953"
             ],
             [
              0.7777777777777778,
              "#fb9f3a"
             ],
             [
              0.8888888888888888,
              "#fdca26"
             ],
             [
              1,
              "#f0f921"
             ]
            ],
            "type": "histogram2dcontour"
           }
          ],
          "mesh3d": [
           {
            "colorbar": {
             "outlinewidth": 0,
             "ticks": ""
            },
            "type": "mesh3d"
           }
          ],
          "parcoords": [
           {
            "line": {
             "colorbar": {
              "outlinewidth": 0,
              "ticks": ""
             }
            },
            "type": "parcoords"
           }
          ],
          "pie": [
           {
            "automargin": true,
            "type": "pie"
           }
          ],
          "scatter": [
           {
            "fillpattern": {
             "fillmode": "overlay",
             "size": 10,
             "solidity": 0.2
            },
            "type": "scatter"
           }
          ],
          "scatter3d": [
           {
            "line": {
             "colorbar": {
              "outlinewidth": 0,
              "ticks": ""
             }
            },
            "marker": {
             "colorbar": {
              "outlinewidth": 0,
              "ticks": ""
             }
            },
            "type": "scatter3d"
           }
          ],
          "scattercarpet": [
           {
            "marker": {
             "colorbar": {
              "outlinewidth": 0,
              "ticks": ""
             }
            },
            "type": "scattercarpet"
           }
          ],
          "scattergeo": [
           {
            "marker": {
             "colorbar": {
              "outlinewidth": 0,
              "ticks": ""
             }
            },
            "type": "scattergeo"
           }
          ],
          "scattergl": [
           {
            "marker": {
             "colorbar": {
              "outlinewidth": 0,
              "ticks": ""
             }
            },
            "type": "scattergl"
           }
          ],
          "scattermapbox": [
           {
            "marker": {
             "colorbar": {
              "outlinewidth": 0,
              "ticks": ""
             }
            },
            "type": "scattermapbox"
           }
          ],
          "scatterpolar": [
           {
            "marker": {
             "colorbar": {
              "outlinewidth": 0,
              "ticks": ""
             }
            },
            "type": "scatterpolar"
           }
          ],
          "scatterpolargl": [
           {
            "marker": {
             "colorbar": {
              "outlinewidth": 0,
              "ticks": ""
             }
            },
            "type": "scatterpolargl"
           }
          ],
          "scatterternary": [
           {
            "marker": {
             "colorbar": {
              "outlinewidth": 0,
              "ticks": ""
             }
            },
            "type": "scatterternary"
           }
          ],
          "surface": [
           {
            "colorbar": {
             "outlinewidth": 0,
             "ticks": ""
            },
            "colorscale": [
             [
              0,
              "#0d0887"
             ],
             [
              0.1111111111111111,
              "#46039f"
             ],
             [
              0.2222222222222222,
              "#7201a8"
             ],
             [
              0.3333333333333333,
              "#9c179e"
             ],
             [
              0.4444444444444444,
              "#bd3786"
             ],
             [
              0.5555555555555556,
              "#d8576b"
             ],
             [
              0.6666666666666666,
              "#ed7953"
             ],
             [
              0.7777777777777778,
              "#fb9f3a"
             ],
             [
              0.8888888888888888,
              "#fdca26"
             ],
             [
              1,
              "#f0f921"
             ]
            ],
            "type": "surface"
           }
          ],
          "table": [
           {
            "cells": {
             "fill": {
              "color": "#EBF0F8"
             },
             "line": {
              "color": "white"
             }
            },
            "header": {
             "fill": {
              "color": "#C8D4E3"
             },
             "line": {
              "color": "white"
             }
            },
            "type": "table"
           }
          ]
         },
         "layout": {
          "annotationdefaults": {
           "arrowcolor": "#2a3f5f",
           "arrowhead": 0,
           "arrowwidth": 1
          },
          "autotypenumbers": "strict",
          "coloraxis": {
           "colorbar": {
            "outlinewidth": 0,
            "ticks": ""
           }
          },
          "colorscale": {
           "diverging": [
            [
             0,
             "#8e0152"
            ],
            [
             0.1,
             "#c51b7d"
            ],
            [
             0.2,
             "#de77ae"
            ],
            [
             0.3,
             "#f1b6da"
            ],
            [
             0.4,
             "#fde0ef"
            ],
            [
             0.5,
             "#f7f7f7"
            ],
            [
             0.6,
             "#e6f5d0"
            ],
            [
             0.7,
             "#b8e186"
            ],
            [
             0.8,
             "#7fbc41"
            ],
            [
             0.9,
             "#4d9221"
            ],
            [
             1,
             "#276419"
            ]
           ],
           "sequential": [
            [
             0,
             "#0d0887"
            ],
            [
             0.1111111111111111,
             "#46039f"
            ],
            [
             0.2222222222222222,
             "#7201a8"
            ],
            [
             0.3333333333333333,
             "#9c179e"
            ],
            [
             0.4444444444444444,
             "#bd3786"
            ],
            [
             0.5555555555555556,
             "#d8576b"
            ],
            [
             0.6666666666666666,
             "#ed7953"
            ],
            [
             0.7777777777777778,
             "#fb9f3a"
            ],
            [
             0.8888888888888888,
             "#fdca26"
            ],
            [
             1,
             "#f0f921"
            ]
           ],
           "sequentialminus": [
            [
             0,
             "#0d0887"
            ],
            [
             0.1111111111111111,
             "#46039f"
            ],
            [
             0.2222222222222222,
             "#7201a8"
            ],
            [
             0.3333333333333333,
             "#9c179e"
            ],
            [
             0.4444444444444444,
             "#bd3786"
            ],
            [
             0.5555555555555556,
             "#d8576b"
            ],
            [
             0.6666666666666666,
             "#ed7953"
            ],
            [
             0.7777777777777778,
             "#fb9f3a"
            ],
            [
             0.8888888888888888,
             "#fdca26"
            ],
            [
             1,
             "#f0f921"
            ]
           ]
          },
          "colorway": [
           "#636efa",
           "#EF553B",
           "#00cc96",
           "#ab63fa",
           "#FFA15A",
           "#19d3f3",
           "#FF6692",
           "#B6E880",
           "#FF97FF",
           "#FECB52"
          ],
          "font": {
           "color": "#2a3f5f"
          },
          "geo": {
           "bgcolor": "white",
           "lakecolor": "white",
           "landcolor": "#E5ECF6",
           "showlakes": true,
           "showland": true,
           "subunitcolor": "white"
          },
          "hoverlabel": {
           "align": "left"
          },
          "hovermode": "closest",
          "mapbox": {
           "style": "light"
          },
          "paper_bgcolor": "#E0F7FA",
          "plot_bgcolor": "rgba(0, 0, 0, 0)",
          "polar": {
           "angularaxis": {
            "gridcolor": "white",
            "linecolor": "white",
            "ticks": ""
           },
           "bgcolor": "#E5ECF6",
           "radialaxis": {
            "gridcolor": "white",
            "linecolor": "white",
            "ticks": ""
           }
          },
          "scene": {
           "xaxis": {
            "backgroundcolor": "#E5ECF6",
            "gridcolor": "white",
            "gridwidth": 2,
            "linecolor": "white",
            "showbackground": true,
            "ticks": "",
            "zerolinecolor": "white"
           },
           "yaxis": {
            "backgroundcolor": "#E5ECF6",
            "gridcolor": "white",
            "gridwidth": 2,
            "linecolor": "white",
            "showbackground": true,
            "ticks": "",
            "zerolinecolor": "white"
           },
           "zaxis": {
            "backgroundcolor": "#E5ECF6",
            "gridcolor": "white",
            "gridwidth": 2,
            "linecolor": "white",
            "showbackground": true,
            "ticks": "",
            "zerolinecolor": "white"
           }
          },
          "shapedefaults": {
           "line": {
            "color": "#2a3f5f"
           }
          },
          "ternary": {
           "aaxis": {
            "gridcolor": "white",
            "linecolor": "white",
            "ticks": ""
           },
           "baxis": {
            "gridcolor": "white",
            "linecolor": "white",
            "ticks": ""
           },
           "bgcolor": "#E5ECF6",
           "caxis": {
            "gridcolor": "white",
            "linecolor": "white",
            "ticks": ""
           }
          },
          "title": {
           "x": 0.05
          },
          "xaxis": {
           "automargin": true,
           "gridcolor": "white",
           "linecolor": "white",
           "ticks": "",
           "title": {
            "standoff": 15
           },
           "zerolinecolor": "white",
           "zerolinewidth": 2
          },
          "yaxis": {
           "automargin": true,
           "gridcolor": "white",
           "linecolor": "white",
           "ticks": "",
           "title": {
            "standoff": 15
           },
           "zerolinecolor": "white",
           "zerolinewidth": 2
          }
         }
        },
        "title": {
         "text": "Healthcare and Education Scores vs Economy"
        },
        "xaxis": {
         "anchor": "y",
         "domain": [
          0,
          1
         ],
         "title": {
          "text": "Healthcare"
         }
        },
        "yaxis": {
         "anchor": "x",
         "domain": [
          0,
          1
         ],
         "title": {
          "text": "Education"
         }
        }
       }
      }
     },
     "metadata": {},
     "output_type": "display_data"
    }
   ],
   "source": [
    "# @hidden_cell\n",
    "ua_scores_df['ua_country'] = ua_scores_df['ua_country'].str.strip()\n",
    "\n",
    "countries = ['Netherlands', 'Sweden', 'Norway', 'Serbia', 'Bulgaria', 'Slovakia']\n",
    "\n",
    "subset_df_big = ua_scores_df[ua_scores_df['ua_country'].isin(countries)]\n",
    "\n",
    "fig_bubble = px.scatter(\n",
    "    subset_df_big,\n",
    "    x='healthcare',\n",
    "    y='education',\n",
    "    size='economy',\n",
    "    color='ua_country',\n",
    "    hover_name='ua_name',\n",
    "    title='Healthcare and Education Scores vs Economy',\n",
    "    labels={\n",
    "        'ua_country': 'Country',\n",
    "        'healthcare': 'Healthcare',\n",
    "        'education': 'Education',\n",
    "        'economy': 'Economy Score'\n",
    "    },\n",
    "    size_max=25\n",
    ")\n",
    "\n",
    "fig_bubble.update_layout(\n",
    "    xaxis_title='Healthcare',\n",
    "    yaxis_title='Education',\n",
    ")\n",
    "\n",
    "fig_bubble.add_annotation(\n",
    "                    x=0, y=-0.263,\n",
    "                    xref='paper',\n",
    "                    yref='paper',\n",
    "                    showarrow=False,\n",
    "                    xanchor='left',\n",
    "                    yanchor='bottom',\n",
    "                    align='left',\n",
    "                    text='The size of the bubble corresponds to the economy of that city.', \n",
    ")\n",
    "\n",
    "fig_bubble.show()"
   ]
  },
  {
   "cell_type": "code",
   "execution_count": 11,
   "metadata": {},
   "outputs": [
    {
     "data": {
      "application/vnd.plotly.v1+json": {
       "config": {
        "plotlyServerURL": "https://plot.ly"
       },
       "data": [
        {
         "fill": "toself",
         "name": "Amsterdam",
         "r": [
          7.907333333333333,
          6.18,
          5.053000000000001,
          7.9
         ],
         "theta": [
          "Healthcare",
          "Education",
          "Economy",
          "Happiness"
         ],
         "type": "scatterpolar"
        },
        {
         "fill": "toself",
         "name": "Sofia",
         "r": [
          5.586666666666666,
          2.0145,
          3.2499999999999996,
          6
         ],
         "theta": [
          "Healthcare",
          "Education",
          "Economy",
          "Happiness"
         ],
         "type": "scatterpolar"
        },
        {
         "fill": "toself",
         "name": "Belgrade",
         "r": [
          6.0103333333333335,
          0.5,
          1.638,
          5.5
         ],
         "theta": [
          "Healthcare",
          "Education",
          "Economy",
          "Happiness"
         ],
         "type": "scatterpolar"
        }
       ],
       "layout": {
        "polar": {
         "radialaxis": {
          "visible": true
         }
        },
        "template": {
         "data": {
          "bar": [
           {
            "error_x": {
             "color": "#2a3f5f"
            },
            "error_y": {
             "color": "#2a3f5f"
            },
            "marker": {
             "line": {
              "color": "#E5ECF6",
              "width": 0
             },
             "pattern": {
              "fillmode": "overlay",
              "size": 10,
              "solidity": 0.2
             }
            },
            "type": "bar"
           }
          ],
          "barpolar": [
           {
            "marker": {
             "line": {
              "color": "#E5ECF6",
              "width": 0.5
             },
             "pattern": {
              "fillmode": "overlay",
              "size": 10,
              "solidity": 0.2
             }
            },
            "type": "barpolar"
           }
          ],
          "carpet": [
           {
            "aaxis": {
             "endlinecolor": "#2a3f5f",
             "gridcolor": "white",
             "linecolor": "white",
             "minorgridcolor": "white",
             "startlinecolor": "#2a3f5f"
            },
            "baxis": {
             "endlinecolor": "#2a3f5f",
             "gridcolor": "white",
             "linecolor": "white",
             "minorgridcolor": "white",
             "startlinecolor": "#2a3f5f"
            },
            "type": "carpet"
           }
          ],
          "choropleth": [
           {
            "colorbar": {
             "outlinewidth": 0,
             "ticks": ""
            },
            "type": "choropleth"
           }
          ],
          "contour": [
           {
            "colorbar": {
             "outlinewidth": 0,
             "ticks": ""
            },
            "colorscale": [
             [
              0,
              "#0d0887"
             ],
             [
              0.1111111111111111,
              "#46039f"
             ],
             [
              0.2222222222222222,
              "#7201a8"
             ],
             [
              0.3333333333333333,
              "#9c179e"
             ],
             [
              0.4444444444444444,
              "#bd3786"
             ],
             [
              0.5555555555555556,
              "#d8576b"
             ],
             [
              0.6666666666666666,
              "#ed7953"
             ],
             [
              0.7777777777777778,
              "#fb9f3a"
             ],
             [
              0.8888888888888888,
              "#fdca26"
             ],
             [
              1,
              "#f0f921"
             ]
            ],
            "type": "contour"
           }
          ],
          "contourcarpet": [
           {
            "colorbar": {
             "outlinewidth": 0,
             "ticks": ""
            },
            "type": "contourcarpet"
           }
          ],
          "heatmap": [
           {
            "colorbar": {
             "outlinewidth": 0,
             "ticks": ""
            },
            "colorscale": [
             [
              0,
              "#0d0887"
             ],
             [
              0.1111111111111111,
              "#46039f"
             ],
             [
              0.2222222222222222,
              "#7201a8"
             ],
             [
              0.3333333333333333,
              "#9c179e"
             ],
             [
              0.4444444444444444,
              "#bd3786"
             ],
             [
              0.5555555555555556,
              "#d8576b"
             ],
             [
              0.6666666666666666,
              "#ed7953"
             ],
             [
              0.7777777777777778,
              "#fb9f3a"
             ],
             [
              0.8888888888888888,
              "#fdca26"
             ],
             [
              1,
              "#f0f921"
             ]
            ],
            "type": "heatmap"
           }
          ],
          "heatmapgl": [
           {
            "colorbar": {
             "outlinewidth": 0,
             "ticks": ""
            },
            "colorscale": [
             [
              0,
              "#0d0887"
             ],
             [
              0.1111111111111111,
              "#46039f"
             ],
             [
              0.2222222222222222,
              "#7201a8"
             ],
             [
              0.3333333333333333,
              "#9c179e"
             ],
             [
              0.4444444444444444,
              "#bd3786"
             ],
             [
              0.5555555555555556,
              "#d8576b"
             ],
             [
              0.6666666666666666,
              "#ed7953"
             ],
             [
              0.7777777777777778,
              "#fb9f3a"
             ],
             [
              0.8888888888888888,
              "#fdca26"
             ],
             [
              1,
              "#f0f921"
             ]
            ],
            "type": "heatmapgl"
           }
          ],
          "histogram": [
           {
            "marker": {
             "pattern": {
              "fillmode": "overlay",
              "size": 10,
              "solidity": 0.2
             }
            },
            "type": "histogram"
           }
          ],
          "histogram2d": [
           {
            "colorbar": {
             "outlinewidth": 0,
             "ticks": ""
            },
            "colorscale": [
             [
              0,
              "#0d0887"
             ],
             [
              0.1111111111111111,
              "#46039f"
             ],
             [
              0.2222222222222222,
              "#7201a8"
             ],
             [
              0.3333333333333333,
              "#9c179e"
             ],
             [
              0.4444444444444444,
              "#bd3786"
             ],
             [
              0.5555555555555556,
              "#d8576b"
             ],
             [
              0.6666666666666666,
              "#ed7953"
             ],
             [
              0.7777777777777778,
              "#fb9f3a"
             ],
             [
              0.8888888888888888,
              "#fdca26"
             ],
             [
              1,
              "#f0f921"
             ]
            ],
            "type": "histogram2d"
           }
          ],
          "histogram2dcontour": [
           {
            "colorbar": {
             "outlinewidth": 0,
             "ticks": ""
            },
            "colorscale": [
             [
              0,
              "#0d0887"
             ],
             [
              0.1111111111111111,
              "#46039f"
             ],
             [
              0.2222222222222222,
              "#7201a8"
             ],
             [
              0.3333333333333333,
              "#9c179e"
             ],
             [
              0.4444444444444444,
              "#bd3786"
             ],
             [
              0.5555555555555556,
              "#d8576b"
             ],
             [
              0.6666666666666666,
              "#ed7953"
             ],
             [
              0.7777777777777778,
              "#fb9f3a"
             ],
             [
              0.8888888888888888,
              "#fdca26"
             ],
             [
              1,
              "#f0f921"
             ]
            ],
            "type": "histogram2dcontour"
           }
          ],
          "mesh3d": [
           {
            "colorbar": {
             "outlinewidth": 0,
             "ticks": ""
            },
            "type": "mesh3d"
           }
          ],
          "parcoords": [
           {
            "line": {
             "colorbar": {
              "outlinewidth": 0,
              "ticks": ""
             }
            },
            "type": "parcoords"
           }
          ],
          "pie": [
           {
            "automargin": true,
            "type": "pie"
           }
          ],
          "scatter": [
           {
            "fillpattern": {
             "fillmode": "overlay",
             "size": 10,
             "solidity": 0.2
            },
            "type": "scatter"
           }
          ],
          "scatter3d": [
           {
            "line": {
             "colorbar": {
              "outlinewidth": 0,
              "ticks": ""
             }
            },
            "marker": {
             "colorbar": {
              "outlinewidth": 0,
              "ticks": ""
             }
            },
            "type": "scatter3d"
           }
          ],
          "scattercarpet": [
           {
            "marker": {
             "colorbar": {
              "outlinewidth": 0,
              "ticks": ""
             }
            },
            "type": "scattercarpet"
           }
          ],
          "scattergeo": [
           {
            "marker": {
             "colorbar": {
              "outlinewidth": 0,
              "ticks": ""
             }
            },
            "type": "scattergeo"
           }
          ],
          "scattergl": [
           {
            "marker": {
             "colorbar": {
              "outlinewidth": 0,
              "ticks": ""
             }
            },
            "type": "scattergl"
           }
          ],
          "scattermapbox": [
           {
            "marker": {
             "colorbar": {
              "outlinewidth": 0,
              "ticks": ""
             }
            },
            "type": "scattermapbox"
           }
          ],
          "scatterpolar": [
           {
            "marker": {
             "colorbar": {
              "outlinewidth": 0,
              "ticks": ""
             }
            },
            "type": "scatterpolar"
           }
          ],
          "scatterpolargl": [
           {
            "marker": {
             "colorbar": {
              "outlinewidth": 0,
              "ticks": ""
             }
            },
            "type": "scatterpolargl"
           }
          ],
          "scatterternary": [
           {
            "marker": {
             "colorbar": {
              "outlinewidth": 0,
              "ticks": ""
             }
            },
            "type": "scatterternary"
           }
          ],
          "surface": [
           {
            "colorbar": {
             "outlinewidth": 0,
             "ticks": ""
            },
            "colorscale": [
             [
              0,
              "#0d0887"
             ],
             [
              0.1111111111111111,
              "#46039f"
             ],
             [
              0.2222222222222222,
              "#7201a8"
             ],
             [
              0.3333333333333333,
              "#9c179e"
             ],
             [
              0.4444444444444444,
              "#bd3786"
             ],
             [
              0.5555555555555556,
              "#d8576b"
             ],
             [
              0.6666666666666666,
              "#ed7953"
             ],
             [
              0.7777777777777778,
              "#fb9f3a"
             ],
             [
              0.8888888888888888,
              "#fdca26"
             ],
             [
              1,
              "#f0f921"
             ]
            ],
            "type": "surface"
           }
          ],
          "table": [
           {
            "cells": {
             "fill": {
              "color": "#EBF0F8"
             },
             "line": {
              "color": "white"
             }
            },
            "header": {
             "fill": {
              "color": "#C8D4E3"
             },
             "line": {
              "color": "white"
             }
            },
            "type": "table"
           }
          ]
         },
         "layout": {
          "annotationdefaults": {
           "arrowcolor": "#2a3f5f",
           "arrowhead": 0,
           "arrowwidth": 1
          },
          "autotypenumbers": "strict",
          "coloraxis": {
           "colorbar": {
            "outlinewidth": 0,
            "ticks": ""
           }
          },
          "colorscale": {
           "diverging": [
            [
             0,
             "#8e0152"
            ],
            [
             0.1,
             "#c51b7d"
            ],
            [
             0.2,
             "#de77ae"
            ],
            [
             0.3,
             "#f1b6da"
            ],
            [
             0.4,
             "#fde0ef"
            ],
            [
             0.5,
             "#f7f7f7"
            ],
            [
             0.6,
             "#e6f5d0"
            ],
            [
             0.7,
             "#b8e186"
            ],
            [
             0.8,
             "#7fbc41"
            ],
            [
             0.9,
             "#4d9221"
            ],
            [
             1,
             "#276419"
            ]
           ],
           "sequential": [
            [
             0,
             "#0d0887"
            ],
            [
             0.1111111111111111,
             "#46039f"
            ],
            [
             0.2222222222222222,
             "#7201a8"
            ],
            [
             0.3333333333333333,
             "#9c179e"
            ],
            [
             0.4444444444444444,
             "#bd3786"
            ],
            [
             0.5555555555555556,
             "#d8576b"
            ],
            [
             0.6666666666666666,
             "#ed7953"
            ],
            [
             0.7777777777777778,
             "#fb9f3a"
            ],
            [
             0.8888888888888888,
             "#fdca26"
            ],
            [
             1,
             "#f0f921"
            ]
           ],
           "sequentialminus": [
            [
             0,
             "#0d0887"
            ],
            [
             0.1111111111111111,
             "#46039f"
            ],
            [
             0.2222222222222222,
             "#7201a8"
            ],
            [
             0.3333333333333333,
             "#9c179e"
            ],
            [
             0.4444444444444444,
             "#bd3786"
            ],
            [
             0.5555555555555556,
             "#d8576b"
            ],
            [
             0.6666666666666666,
             "#ed7953"
            ],
            [
             0.7777777777777778,
             "#fb9f3a"
            ],
            [
             0.8888888888888888,
             "#fdca26"
            ],
            [
             1,
             "#f0f921"
            ]
           ]
          },
          "colorway": [
           "#636efa",
           "#EF553B",
           "#00cc96",
           "#ab63fa",
           "#FFA15A",
           "#19d3f3",
           "#FF6692",
           "#B6E880",
           "#FF97FF",
           "#FECB52"
          ],
          "font": {
           "color": "#2a3f5f"
          },
          "geo": {
           "bgcolor": "white",
           "lakecolor": "white",
           "landcolor": "#E5ECF6",
           "showlakes": true,
           "showland": true,
           "subunitcolor": "white"
          },
          "hoverlabel": {
           "align": "left"
          },
          "hovermode": "closest",
          "mapbox": {
           "style": "light"
          },
          "paper_bgcolor": "#E0F7FA",
          "plot_bgcolor": "rgba(0, 0, 0, 0)",
          "polar": {
           "angularaxis": {
            "gridcolor": "white",
            "linecolor": "white",
            "ticks": ""
           },
           "bgcolor": "#E5ECF6",
           "radialaxis": {
            "gridcolor": "white",
            "linecolor": "white",
            "ticks": ""
           }
          },
          "scene": {
           "xaxis": {
            "backgroundcolor": "#E5ECF6",
            "gridcolor": "white",
            "gridwidth": 2,
            "linecolor": "white",
            "showbackground": true,
            "ticks": "",
            "zerolinecolor": "white"
           },
           "yaxis": {
            "backgroundcolor": "#E5ECF6",
            "gridcolor": "white",
            "gridwidth": 2,
            "linecolor": "white",
            "showbackground": true,
            "ticks": "",
            "zerolinecolor": "white"
           },
           "zaxis": {
            "backgroundcolor": "#E5ECF6",
            "gridcolor": "white",
            "gridwidth": 2,
            "linecolor": "white",
            "showbackground": true,
            "ticks": "",
            "zerolinecolor": "white"
           }
          },
          "shapedefaults": {
           "line": {
            "color": "#2a3f5f"
           }
          },
          "ternary": {
           "aaxis": {
            "gridcolor": "white",
            "linecolor": "white",
            "ticks": ""
           },
           "baxis": {
            "gridcolor": "white",
            "linecolor": "white",
            "ticks": ""
           },
           "bgcolor": "#E5ECF6",
           "caxis": {
            "gridcolor": "white",
            "linecolor": "white",
            "ticks": ""
           }
          },
          "title": {
           "x": 0.05
          },
          "xaxis": {
           "automargin": true,
           "gridcolor": "white",
           "linecolor": "white",
           "ticks": "",
           "title": {
            "standoff": 15
           },
           "zerolinecolor": "white",
           "zerolinewidth": 2
          },
          "yaxis": {
           "automargin": true,
           "gridcolor": "white",
           "linecolor": "white",
           "ticks": "",
           "title": {
            "standoff": 15
           },
           "zerolinecolor": "white",
           "zerolinewidth": 2
          }
         }
        },
        "title": {
         "text": "Safety, Healthcare, and Education Scores vs Economy zoomed in"
        }
       }
      }
     },
     "metadata": {},
     "output_type": "display_data"
    }
   ],
   "source": [
    "ua_renamed_df = ua_scores_df.rename(columns={'ua_name': 'City'})\n",
    "merged_ua_train_df = pd.merge(train_df, ua_renamed_df, on='City')\n",
    "\n",
    "subset_df = merged_ua_train_df[merged_ua_train_df['City'].isin(['Belgrade', 'Amsterdam', 'Sofia'])]\n",
    "\n",
    "subset_df.head()\n",
    "\n",
    "# subset_df_to_use['Happiness_Score'].head()\n",
    "\n",
    "# Radar chart\n",
    "fig_radar = go.Figure()\n",
    "\n",
    "for _, row in subset_df.iterrows():\n",
    "    fig_radar.add_trace(go.Scatterpolar(\n",
    "        r=[row['healthcare'], row['education'], row['economy'], row['Happiness_Score']],\n",
    "        theta=['Healthcare', 'Education', 'Economy', 'Happiness'],\n",
    "        fill='toself',\n",
    "        name=row['City']\n",
    "    ))\n",
    "\n",
    "fig_radar.update_layout(\n",
    "    polar=dict(\n",
    "        radialaxis=dict(visible=True)\n",
    "    ),\n",
    "    title='Safety, Healthcare, and Education Scores vs Economy zoomed in'\n",
    ")\n",
    "\n",
    "fig_radar.show()"
   ]
  },
  {
   "cell_type": "code",
   "execution_count": 17,
   "metadata": {},
   "outputs": [
    {
     "data": {
      "application/vnd.plotly.v1+json": {
       "config": {
        "plotlyServerURL": "https://plot.ly"
       },
       "data": [
        {
         "customdata": [
          [
           45,
           6.9
          ],
          [
           50,
           7.2
          ],
          [
           65,
           7.7
          ],
          [
           55,
           7.5
          ],
          [
           40,
           6.7
          ],
          [
           45,
           6.2
          ],
          [
           70,
           7.8
          ],
          [
           70,
           8.2
          ],
          [
           40,
           6.7
          ],
          [
           45,
           6.8
          ],
          [
           80,
           8
          ],
          [
           35,
           6
          ],
          [
           50,
           7.3
          ],
          [
           90,
           8.4
          ],
          [
           30,
           5.5
          ],
          [
           75,
           8.3
          ],
          [
           55,
           7
          ],
          [
           75,
           7.9
          ],
          [
           85,
           8.5
          ]
         ],
         "hovertemplate": "<b>%{hovertext}</b><br><br>Green_Space_Area=%{customdata[0]}<br>lat=%{lat}<br>lng=%{lon}<br>Happiness Score=%{marker.color}<extra></extra>",
         "hovertext": [
          "Paris",
          "London",
          "Barcelona",
          "Berlin",
          "Rome",
          "Athens",
          "Lisbon",
          "Vienna",
          "Warsaw",
          "Budapest",
          "Stockholm",
          "Sofia",
          "Prague",
          "Helsinki",
          "Belgrade",
          "Copenhagen",
          "Dublin",
          "Amsterdam",
          "Oslo"
         ],
         "lat": [
          48.8667,
          51.5,
          41.3833,
          52.5218,
          41.896,
          37.9833,
          38.7227,
          48.2,
          52.25,
          47.5,
          59.3508,
          42.6833,
          50.0833,
          60.1756,
          44.8186,
          55.6786,
          53.3331,
          52.35,
          59.9167
         ],
         "legendgroup": "",
         "lon": [
          2.3333,
          -0.1167,
          2.1834,
          13.4015,
          12.4833,
          23.7333,
          -9.1449,
          16.3666,
          21,
          19.0833,
          18.0973,
          23.3167,
          14.466,
          24.9341,
          20.468,
          12.5635,
          -6.2489,
          4.9166,
          10.75
         ],
         "marker": {
          "color": [
           6.9,
           7.2,
           7.7,
           7.5,
           6.7,
           6.2,
           7.8,
           8.2,
           6.7,
           6.8,
           8,
           6,
           7.3,
           8.4,
           5.5,
           8.3,
           7,
           7.9,
           8.5
          ],
          "coloraxis": "coloraxis",
          "size": [
           45,
           50,
           65,
           55,
           40,
           45,
           70,
           70,
           40,
           45,
           80,
           35,
           50,
           90,
           30,
           75,
           55,
           75,
           85
          ],
          "sizemode": "area",
          "sizeref": 0.225
         },
         "mode": "markers",
         "name": "",
         "showlegend": false,
         "subplot": "mapbox",
         "type": "scattermapbox"
        }
       ],
       "layout": {
        "annotations": [
         {
          "align": "left",
          "showarrow": false,
          "text": "The size of the bubble corresponds to the Greenspace area of that city",
          "x": 0,
          "xanchor": "left",
          "xref": "paper",
          "y": -0.1,
          "yanchor": "bottom",
          "yref": "paper"
         }
        ],
        "coloraxis": {
         "colorbar": {
          "title": {
           "text": "Happiness Score"
          }
         },
         "colorscale": [
          [
           0,
           "#0508b8"
          ],
          [
           0.08333333333333333,
           "#1910d8"
          ],
          [
           0.16666666666666666,
           "#3c19f0"
          ],
          [
           0.25,
           "#6b1cfb"
          ],
          [
           0.3333333333333333,
           "#981cfd"
          ],
          [
           0.4166666666666667,
           "#bf1cfd"
          ],
          [
           0.5,
           "#dd2bfd"
          ],
          [
           0.5833333333333334,
           "#f246fe"
          ],
          [
           0.6666666666666666,
           "#fc67fd"
          ],
          [
           0.75,
           "#fe88fc"
          ],
          [
           0.8333333333333334,
           "#fea5fd"
          ],
          [
           0.9166666666666666,
           "#febefe"
          ],
          [
           1,
           "#fec3fe"
          ]
         ]
        },
        "legend": {
         "itemsizing": "constant",
         "tracegroupgap": 0
        },
        "mapbox": {
         "center": {
          "lat": 49.4323052631579,
          "lon": 11.820336842105263
         },
         "domain": {
          "x": [
           0,
           1
          ],
          "y": [
           0,
           1
          ]
         },
         "style": "open-street-map",
         "zoom": 2.3
        },
        "margin": {
         "b": 40,
         "l": 10,
         "t": 40
        },
        "template": {
         "data": {
          "bar": [
           {
            "error_x": {
             "color": "#2a3f5f"
            },
            "error_y": {
             "color": "#2a3f5f"
            },
            "marker": {
             "line": {
              "color": "#E5ECF6",
              "width": 0
             },
             "pattern": {
              "fillmode": "overlay",
              "size": 10,
              "solidity": 0.2
             }
            },
            "type": "bar"
           }
          ],
          "barpolar": [
           {
            "marker": {
             "line": {
              "color": "#E5ECF6",
              "width": 0.5
             },
             "pattern": {
              "fillmode": "overlay",
              "size": 10,
              "solidity": 0.2
             }
            },
            "type": "barpolar"
           }
          ],
          "carpet": [
           {
            "aaxis": {
             "endlinecolor": "#2a3f5f",
             "gridcolor": "white",
             "linecolor": "white",
             "minorgridcolor": "white",
             "startlinecolor": "#2a3f5f"
            },
            "baxis": {
             "endlinecolor": "#2a3f5f",
             "gridcolor": "white",
             "linecolor": "white",
             "minorgridcolor": "white",
             "startlinecolor": "#2a3f5f"
            },
            "type": "carpet"
           }
          ],
          "choropleth": [
           {
            "colorbar": {
             "outlinewidth": 0,
             "ticks": ""
            },
            "type": "choropleth"
           }
          ],
          "contour": [
           {
            "colorbar": {
             "outlinewidth": 0,
             "ticks": ""
            },
            "colorscale": [
             [
              0,
              "#0d0887"
             ],
             [
              0.1111111111111111,
              "#46039f"
             ],
             [
              0.2222222222222222,
              "#7201a8"
             ],
             [
              0.3333333333333333,
              "#9c179e"
             ],
             [
              0.4444444444444444,
              "#bd3786"
             ],
             [
              0.5555555555555556,
              "#d8576b"
             ],
             [
              0.6666666666666666,
              "#ed7953"
             ],
             [
              0.7777777777777778,
              "#fb9f3a"
             ],
             [
              0.8888888888888888,
              "#fdca26"
             ],
             [
              1,
              "#f0f921"
             ]
            ],
            "type": "contour"
           }
          ],
          "contourcarpet": [
           {
            "colorbar": {
             "outlinewidth": 0,
             "ticks": ""
            },
            "type": "contourcarpet"
           }
          ],
          "heatmap": [
           {
            "colorbar": {
             "outlinewidth": 0,
             "ticks": ""
            },
            "colorscale": [
             [
              0,
              "#0d0887"
             ],
             [
              0.1111111111111111,
              "#46039f"
             ],
             [
              0.2222222222222222,
              "#7201a8"
             ],
             [
              0.3333333333333333,
              "#9c179e"
             ],
             [
              0.4444444444444444,
              "#bd3786"
             ],
             [
              0.5555555555555556,
              "#d8576b"
             ],
             [
              0.6666666666666666,
              "#ed7953"
             ],
             [
              0.7777777777777778,
              "#fb9f3a"
             ],
             [
              0.8888888888888888,
              "#fdca26"
             ],
             [
              1,
              "#f0f921"
             ]
            ],
            "type": "heatmap"
           }
          ],
          "heatmapgl": [
           {
            "colorbar": {
             "outlinewidth": 0,
             "ticks": ""
            },
            "colorscale": [
             [
              0,
              "#0d0887"
             ],
             [
              0.1111111111111111,
              "#46039f"
             ],
             [
              0.2222222222222222,
              "#7201a8"
             ],
             [
              0.3333333333333333,
              "#9c179e"
             ],
             [
              0.4444444444444444,
              "#bd3786"
             ],
             [
              0.5555555555555556,
              "#d8576b"
             ],
             [
              0.6666666666666666,
              "#ed7953"
             ],
             [
              0.7777777777777778,
              "#fb9f3a"
             ],
             [
              0.8888888888888888,
              "#fdca26"
             ],
             [
              1,
              "#f0f921"
             ]
            ],
            "type": "heatmapgl"
           }
          ],
          "histogram": [
           {
            "marker": {
             "pattern": {
              "fillmode": "overlay",
              "size": 10,
              "solidity": 0.2
             }
            },
            "type": "histogram"
           }
          ],
          "histogram2d": [
           {
            "colorbar": {
             "outlinewidth": 0,
             "ticks": ""
            },
            "colorscale": [
             [
              0,
              "#0d0887"
             ],
             [
              0.1111111111111111,
              "#46039f"
             ],
             [
              0.2222222222222222,
              "#7201a8"
             ],
             [
              0.3333333333333333,
              "#9c179e"
             ],
             [
              0.4444444444444444,
              "#bd3786"
             ],
             [
              0.5555555555555556,
              "#d8576b"
             ],
             [
              0.6666666666666666,
              "#ed7953"
             ],
             [
              0.7777777777777778,
              "#fb9f3a"
             ],
             [
              0.8888888888888888,
              "#fdca26"
             ],
             [
              1,
              "#f0f921"
             ]
            ],
            "type": "histogram2d"
           }
          ],
          "histogram2dcontour": [
           {
            "colorbar": {
             "outlinewidth": 0,
             "ticks": ""
            },
            "colorscale": [
             [
              0,
              "#0d0887"
             ],
             [
              0.1111111111111111,
              "#46039f"
             ],
             [
              0.2222222222222222,
              "#7201a8"
             ],
             [
              0.3333333333333333,
              "#9c179e"
             ],
             [
              0.4444444444444444,
              "#bd3786"
             ],
             [
              0.5555555555555556,
              "#d8576b"
             ],
             [
              0.6666666666666666,
              "#ed7953"
             ],
             [
              0.7777777777777778,
              "#fb9f3a"
             ],
             [
              0.8888888888888888,
              "#fdca26"
             ],
             [
              1,
              "#f0f921"
             ]
            ],
            "type": "histogram2dcontour"
           }
          ],
          "mesh3d": [
           {
            "colorbar": {
             "outlinewidth": 0,
             "ticks": ""
            },
            "type": "mesh3d"
           }
          ],
          "parcoords": [
           {
            "line": {
             "colorbar": {
              "outlinewidth": 0,
              "ticks": ""
             }
            },
            "type": "parcoords"
           }
          ],
          "pie": [
           {
            "automargin": true,
            "type": "pie"
           }
          ],
          "scatter": [
           {
            "fillpattern": {
             "fillmode": "overlay",
             "size": 10,
             "solidity": 0.2
            },
            "type": "scatter"
           }
          ],
          "scatter3d": [
           {
            "line": {
             "colorbar": {
              "outlinewidth": 0,
              "ticks": ""
             }
            },
            "marker": {
             "colorbar": {
              "outlinewidth": 0,
              "ticks": ""
             }
            },
            "type": "scatter3d"
           }
          ],
          "scattercarpet": [
           {
            "marker": {
             "colorbar": {
              "outlinewidth": 0,
              "ticks": ""
             }
            },
            "type": "scattercarpet"
           }
          ],
          "scattergeo": [
           {
            "marker": {
             "colorbar": {
              "outlinewidth": 0,
              "ticks": ""
             }
            },
            "type": "scattergeo"
           }
          ],
          "scattergl": [
           {
            "marker": {
             "colorbar": {
              "outlinewidth": 0,
              "ticks": ""
             }
            },
            "type": "scattergl"
           }
          ],
          "scattermapbox": [
           {
            "marker": {
             "colorbar": {
              "outlinewidth": 0,
              "ticks": ""
             }
            },
            "type": "scattermapbox"
           }
          ],
          "scatterpolar": [
           {
            "marker": {
             "colorbar": {
              "outlinewidth": 0,
              "ticks": ""
             }
            },
            "type": "scatterpolar"
           }
          ],
          "scatterpolargl": [
           {
            "marker": {
             "colorbar": {
              "outlinewidth": 0,
              "ticks": ""
             }
            },
            "type": "scatterpolargl"
           }
          ],
          "scatterternary": [
           {
            "marker": {
             "colorbar": {
              "outlinewidth": 0,
              "ticks": ""
             }
            },
            "type": "scatterternary"
           }
          ],
          "surface": [
           {
            "colorbar": {
             "outlinewidth": 0,
             "ticks": ""
            },
            "colorscale": [
             [
              0,
              "#0d0887"
             ],
             [
              0.1111111111111111,
              "#46039f"
             ],
             [
              0.2222222222222222,
              "#7201a8"
             ],
             [
              0.3333333333333333,
              "#9c179e"
             ],
             [
              0.4444444444444444,
              "#bd3786"
             ],
             [
              0.5555555555555556,
              "#d8576b"
             ],
             [
              0.6666666666666666,
              "#ed7953"
             ],
             [
              0.7777777777777778,
              "#fb9f3a"
             ],
             [
              0.8888888888888888,
              "#fdca26"
             ],
             [
              1,
              "#f0f921"
             ]
            ],
            "type": "surface"
           }
          ],
          "table": [
           {
            "cells": {
             "fill": {
              "color": "#EBF0F8"
             },
             "line": {
              "color": "white"
             }
            },
            "header": {
             "fill": {
              "color": "#C8D4E3"
             },
             "line": {
              "color": "white"
             }
            },
            "type": "table"
           }
          ]
         },
         "layout": {
          "annotationdefaults": {
           "arrowcolor": "#2a3f5f",
           "arrowhead": 0,
           "arrowwidth": 1
          },
          "autotypenumbers": "strict",
          "coloraxis": {
           "colorbar": {
            "outlinewidth": 0,
            "ticks": ""
           }
          },
          "colorscale": {
           "diverging": [
            [
             0,
             "#8e0152"
            ],
            [
             0.1,
             "#c51b7d"
            ],
            [
             0.2,
             "#de77ae"
            ],
            [
             0.3,
             "#f1b6da"
            ],
            [
             0.4,
             "#fde0ef"
            ],
            [
             0.5,
             "#f7f7f7"
            ],
            [
             0.6,
             "#e6f5d0"
            ],
            [
             0.7,
             "#b8e186"
            ],
            [
             0.8,
             "#7fbc41"
            ],
            [
             0.9,
             "#4d9221"
            ],
            [
             1,
             "#276419"
            ]
           ],
           "sequential": [
            [
             0,
             "#0d0887"
            ],
            [
             0.1111111111111111,
             "#46039f"
            ],
            [
             0.2222222222222222,
             "#7201a8"
            ],
            [
             0.3333333333333333,
             "#9c179e"
            ],
            [
             0.4444444444444444,
             "#bd3786"
            ],
            [
             0.5555555555555556,
             "#d8576b"
            ],
            [
             0.6666666666666666,
             "#ed7953"
            ],
            [
             0.7777777777777778,
             "#fb9f3a"
            ],
            [
             0.8888888888888888,
             "#fdca26"
            ],
            [
             1,
             "#f0f921"
            ]
           ],
           "sequentialminus": [
            [
             0,
             "#0d0887"
            ],
            [
             0.1111111111111111,
             "#46039f"
            ],
            [
             0.2222222222222222,
             "#7201a8"
            ],
            [
             0.3333333333333333,
             "#9c179e"
            ],
            [
             0.4444444444444444,
             "#bd3786"
            ],
            [
             0.5555555555555556,
             "#d8576b"
            ],
            [
             0.6666666666666666,
             "#ed7953"
            ],
            [
             0.7777777777777778,
             "#fb9f3a"
            ],
            [
             0.8888888888888888,
             "#fdca26"
            ],
            [
             1,
             "#f0f921"
            ]
           ]
          },
          "colorway": [
           "#636efa",
           "#EF553B",
           "#00cc96",
           "#ab63fa",
           "#FFA15A",
           "#19d3f3",
           "#FF6692",
           "#B6E880",
           "#FF97FF",
           "#FECB52"
          ],
          "font": {
           "color": "#2a3f5f"
          },
          "geo": {
           "bgcolor": "white",
           "lakecolor": "white",
           "landcolor": "#E5ECF6",
           "showlakes": true,
           "showland": true,
           "subunitcolor": "white"
          },
          "hoverlabel": {
           "align": "left"
          },
          "hovermode": "closest",
          "mapbox": {
           "style": "light"
          },
          "paper_bgcolor": "#E0F7FA",
          "plot_bgcolor": "rgba(0, 0, 0, 0)",
          "polar": {
           "angularaxis": {
            "gridcolor": "white",
            "linecolor": "white",
            "ticks": ""
           },
           "bgcolor": "#E5ECF6",
           "radialaxis": {
            "gridcolor": "white",
            "linecolor": "white",
            "ticks": ""
           }
          },
          "scene": {
           "xaxis": {
            "backgroundcolor": "#E5ECF6",
            "gridcolor": "white",
            "gridwidth": 2,
            "linecolor": "white",
            "showbackground": true,
            "ticks": "",
            "zerolinecolor": "white"
           },
           "yaxis": {
            "backgroundcolor": "#E5ECF6",
            "gridcolor": "white",
            "gridwidth": 2,
            "linecolor": "white",
            "showbackground": true,
            "ticks": "",
            "zerolinecolor": "white"
           },
           "zaxis": {
            "backgroundcolor": "#E5ECF6",
            "gridcolor": "white",
            "gridwidth": 2,
            "linecolor": "white",
            "showbackground": true,
            "ticks": "",
            "zerolinecolor": "white"
           }
          },
          "shapedefaults": {
           "line": {
            "color": "#2a3f5f"
           }
          },
          "ternary": {
           "aaxis": {
            "gridcolor": "white",
            "linecolor": "white",
            "ticks": ""
           },
           "baxis": {
            "gridcolor": "white",
            "linecolor": "white",
            "ticks": ""
           },
           "bgcolor": "#E5ECF6",
           "caxis": {
            "gridcolor": "white",
            "linecolor": "white",
            "ticks": ""
           }
          },
          "title": {
           "x": 0.05
          },
          "xaxis": {
           "automargin": true,
           "gridcolor": "white",
           "linecolor": "white",
           "ticks": "",
           "title": {
            "standoff": 15
           },
           "zerolinecolor": "white",
           "zerolinewidth": 2
          },
          "yaxis": {
           "automargin": true,
           "gridcolor": "white",
           "linecolor": "white",
           "ticks": "",
           "title": {
            "standoff": 15
           },
           "zerolinecolor": "white",
           "zerolinewidth": 2
          }
         }
        },
        "title": {
         "text": "Greenspace Area and Happiness Score by City"
        }
       }
      }
     },
     "metadata": {},
     "output_type": "display_data"
    }
   ],
   "source": [
    "renamed_train_df = train_df.rename(columns={'City': 'city'})\n",
    "\n",
    "merged_latlong_train = pd.merge(cities_df, renamed_train_df, on='city')\n",
    "\n",
    "df_to_use = merged_latlong_train.dropna(subset=['lat', 'lng', 'Green_Space_Area'])\n",
    "\n",
    "df_to_use['Happiness_Score'] = pd.to_numeric(df_to_use['Happiness_Score'])\n",
    "\n",
    "filtered_df_to_use = df_to_use[df_to_use['Happiness_Score'] > -10]\n",
    "filtered_df_to_use = filtered_df_to_use[filtered_df_to_use['city'].isin(european_cities)]\n",
    "filtered_df_to_use = filtered_df_to_use[filtered_df_to_use['lng'] > -10]\n",
    "\n",
    "fig_map = px.scatter_mapbox(\n",
    "    filtered_df_to_use,\n",
    "    lat='lat',\n",
    "    lon='lng',\n",
    "    hover_name='city',\n",
    "    hover_data={'Green_Space_Area': True, 'Happiness_Score': True},\n",
    "    size='Green_Space_Area',\n",
    "    color='Happiness_Score',\n",
    "    labels={'Happiness_Score': 'Happiness Score'},\n",
    "    color_continuous_scale=px.colors.sequential.Plotly3,\n",
    "    title='Greenspace Area and Happiness Score by City',\n",
    "    zoom=1,\n",
    "    \n",
    ")\n",
    "\n",
    "fig_map.update_layout(\n",
    "    mapbox_style=\"open-street-map\",\n",
    "    mapbox_zoom=2.3,\n",
    "    margin={\"t\":40, \"l\":10,\"b\":40}\n",
    ")\n",
    "\n",
    "fig_map.add_annotation(\n",
    "                    x=0, y=-0.1,\n",
    "                    xref='paper',\n",
    "                    yref='paper',\n",
    "                    showarrow=False,\n",
    "                    xanchor='left',\n",
    "                    yanchor='bottom',\n",
    "                    align='left',\n",
    "                    text='The size of the bubble corresponds to the Greenspace area of that city', \n",
    ")\n",
    "\n",
    "fig_map.show()"
   ]
  },
  {
   "cell_type": "code",
   "execution_count": 19,
   "metadata": {},
   "outputs": [
    {
     "data": {
      "application/vnd.plotly.v1+json": {
       "config": {
        "plotlyServerURL": "https://plot.ly"
       },
       "data": [
        {
         "marker": {
          "color": "#F280F7"
         },
         "name": "Happiness Score",
         "offsetgroup": "1",
         "type": "bar",
         "x": [
          "London",
          "Paris",
          "Berlin",
          "Amsterdam",
          "Barcelona",
          "Lisbon",
          "Rome",
          "Athens",
          "Vienna",
          "Dublin",
          "Copenhagen",
          "Stockholm",
          "Oslo",
          "Helsinki",
          "Prague",
          "Budapest",
          "Warsaw",
          "Sofia",
          "Belgrade"
         ],
         "y": [
          7.2,
          6.9,
          7.5,
          7.9,
          7.7,
          7.8,
          6.7,
          6.2,
          8.2,
          7,
          8.3,
          8,
          8.5,
          8.4,
          7.3,
          6.8,
          6.7,
          6,
          5.5
         ],
         "yaxis": "y"
        },
        {
         "marker": {
          "color": "#4c75eb"
         },
         "name": "Air Quality Index",
         "offsetgroup": "2",
         "type": "bar",
         "x": [
          "London",
          "Paris",
          "Berlin",
          "Amsterdam",
          "Barcelona",
          "Lisbon",
          "Rome",
          "Athens",
          "Vienna",
          "Dublin",
          "Copenhagen",
          "Stockholm",
          "Oslo",
          "Helsinki",
          "Prague",
          "Budapest",
          "Warsaw",
          "Sofia",
          "Belgrade"
         ],
         "y": [
          40,
          35,
          65,
          50,
          65,
          60,
          30,
          25,
          70,
          60,
          65,
          70,
          75,
          80,
          35,
          30,
          25,
          20,
          15
         ],
         "yaxis": "y2"
        }
       ],
       "layout": {
        "barmode": "group",
        "template": {
         "data": {
          "bar": [
           {
            "error_x": {
             "color": "#2a3f5f"
            },
            "error_y": {
             "color": "#2a3f5f"
            },
            "marker": {
             "line": {
              "color": "#E5ECF6",
              "width": 0
             },
             "pattern": {
              "fillmode": "overlay",
              "size": 10,
              "solidity": 0.2
             }
            },
            "type": "bar"
           }
          ],
          "barpolar": [
           {
            "marker": {
             "line": {
              "color": "#E5ECF6",
              "width": 0.5
             },
             "pattern": {
              "fillmode": "overlay",
              "size": 10,
              "solidity": 0.2
             }
            },
            "type": "barpolar"
           }
          ],
          "carpet": [
           {
            "aaxis": {
             "endlinecolor": "#2a3f5f",
             "gridcolor": "white",
             "linecolor": "white",
             "minorgridcolor": "white",
             "startlinecolor": "#2a3f5f"
            },
            "baxis": {
             "endlinecolor": "#2a3f5f",
             "gridcolor": "white",
             "linecolor": "white",
             "minorgridcolor": "white",
             "startlinecolor": "#2a3f5f"
            },
            "type": "carpet"
           }
          ],
          "choropleth": [
           {
            "colorbar": {
             "outlinewidth": 0,
             "ticks": ""
            },
            "type": "choropleth"
           }
          ],
          "contour": [
           {
            "colorbar": {
             "outlinewidth": 0,
             "ticks": ""
            },
            "colorscale": [
             [
              0,
              "#0d0887"
             ],
             [
              0.1111111111111111,
              "#46039f"
             ],
             [
              0.2222222222222222,
              "#7201a8"
             ],
             [
              0.3333333333333333,
              "#9c179e"
             ],
             [
              0.4444444444444444,
              "#bd3786"
             ],
             [
              0.5555555555555556,
              "#d8576b"
             ],
             [
              0.6666666666666666,
              "#ed7953"
             ],
             [
              0.7777777777777778,
              "#fb9f3a"
             ],
             [
              0.8888888888888888,
              "#fdca26"
             ],
             [
              1,
              "#f0f921"
             ]
            ],
            "type": "contour"
           }
          ],
          "contourcarpet": [
           {
            "colorbar": {
             "outlinewidth": 0,
             "ticks": ""
            },
            "type": "contourcarpet"
           }
          ],
          "heatmap": [
           {
            "colorbar": {
             "outlinewidth": 0,
             "ticks": ""
            },
            "colorscale": [
             [
              0,
              "#0d0887"
             ],
             [
              0.1111111111111111,
              "#46039f"
             ],
             [
              0.2222222222222222,
              "#7201a8"
             ],
             [
              0.3333333333333333,
              "#9c179e"
             ],
             [
              0.4444444444444444,
              "#bd3786"
             ],
             [
              0.5555555555555556,
              "#d8576b"
             ],
             [
              0.6666666666666666,
              "#ed7953"
             ],
             [
              0.7777777777777778,
              "#fb9f3a"
             ],
             [
              0.8888888888888888,
              "#fdca26"
             ],
             [
              1,
              "#f0f921"
             ]
            ],
            "type": "heatmap"
           }
          ],
          "heatmapgl": [
           {
            "colorbar": {
             "outlinewidth": 0,
             "ticks": ""
            },
            "colorscale": [
             [
              0,
              "#0d0887"
             ],
             [
              0.1111111111111111,
              "#46039f"
             ],
             [
              0.2222222222222222,
              "#7201a8"
             ],
             [
              0.3333333333333333,
              "#9c179e"
             ],
             [
              0.4444444444444444,
              "#bd3786"
             ],
             [
              0.5555555555555556,
              "#d8576b"
             ],
             [
              0.6666666666666666,
              "#ed7953"
             ],
             [
              0.7777777777777778,
              "#fb9f3a"
             ],
             [
              0.8888888888888888,
              "#fdca26"
             ],
             [
              1,
              "#f0f921"
             ]
            ],
            "type": "heatmapgl"
           }
          ],
          "histogram": [
           {
            "marker": {
             "pattern": {
              "fillmode": "overlay",
              "size": 10,
              "solidity": 0.2
             }
            },
            "type": "histogram"
           }
          ],
          "histogram2d": [
           {
            "colorbar": {
             "outlinewidth": 0,
             "ticks": ""
            },
            "colorscale": [
             [
              0,
              "#0d0887"
             ],
             [
              0.1111111111111111,
              "#46039f"
             ],
             [
              0.2222222222222222,
              "#7201a8"
             ],
             [
              0.3333333333333333,
              "#9c179e"
             ],
             [
              0.4444444444444444,
              "#bd3786"
             ],
             [
              0.5555555555555556,
              "#d8576b"
             ],
             [
              0.6666666666666666,
              "#ed7953"
             ],
             [
              0.7777777777777778,
              "#fb9f3a"
             ],
             [
              0.8888888888888888,
              "#fdca26"
             ],
             [
              1,
              "#f0f921"
             ]
            ],
            "type": "histogram2d"
           }
          ],
          "histogram2dcontour": [
           {
            "colorbar": {
             "outlinewidth": 0,
             "ticks": ""
            },
            "colorscale": [
             [
              0,
              "#0d0887"
             ],
             [
              0.1111111111111111,
              "#46039f"
             ],
             [
              0.2222222222222222,
              "#7201a8"
             ],
             [
              0.3333333333333333,
              "#9c179e"
             ],
             [
              0.4444444444444444,
              "#bd3786"
             ],
             [
              0.5555555555555556,
              "#d8576b"
             ],
             [
              0.6666666666666666,
              "#ed7953"
             ],
             [
              0.7777777777777778,
              "#fb9f3a"
             ],
             [
              0.8888888888888888,
              "#fdca26"
             ],
             [
              1,
              "#f0f921"
             ]
            ],
            "type": "histogram2dcontour"
           }
          ],
          "mesh3d": [
           {
            "colorbar": {
             "outlinewidth": 0,
             "ticks": ""
            },
            "type": "mesh3d"
           }
          ],
          "parcoords": [
           {
            "line": {
             "colorbar": {
              "outlinewidth": 0,
              "ticks": ""
             }
            },
            "type": "parcoords"
           }
          ],
          "pie": [
           {
            "automargin": true,
            "type": "pie"
           }
          ],
          "scatter": [
           {
            "fillpattern": {
             "fillmode": "overlay",
             "size": 10,
             "solidity": 0.2
            },
            "type": "scatter"
           }
          ],
          "scatter3d": [
           {
            "line": {
             "colorbar": {
              "outlinewidth": 0,
              "ticks": ""
             }
            },
            "marker": {
             "colorbar": {
              "outlinewidth": 0,
              "ticks": ""
             }
            },
            "type": "scatter3d"
           }
          ],
          "scattercarpet": [
           {
            "marker": {
             "colorbar": {
              "outlinewidth": 0,
              "ticks": ""
             }
            },
            "type": "scattercarpet"
           }
          ],
          "scattergeo": [
           {
            "marker": {
             "colorbar": {
              "outlinewidth": 0,
              "ticks": ""
             }
            },
            "type": "scattergeo"
           }
          ],
          "scattergl": [
           {
            "marker": {
             "colorbar": {
              "outlinewidth": 0,
              "ticks": ""
             }
            },
            "type": "scattergl"
           }
          ],
          "scattermapbox": [
           {
            "marker": {
             "colorbar": {
              "outlinewidth": 0,
              "ticks": ""
             }
            },
            "type": "scattermapbox"
           }
          ],
          "scatterpolar": [
           {
            "marker": {
             "colorbar": {
              "outlinewidth": 0,
              "ticks": ""
             }
            },
            "type": "scatterpolar"
           }
          ],
          "scatterpolargl": [
           {
            "marker": {
             "colorbar": {
              "outlinewidth": 0,
              "ticks": ""
             }
            },
            "type": "scatterpolargl"
           }
          ],
          "scatterternary": [
           {
            "marker": {
             "colorbar": {
              "outlinewidth": 0,
              "ticks": ""
             }
            },
            "type": "scatterternary"
           }
          ],
          "surface": [
           {
            "colorbar": {
             "outlinewidth": 0,
             "ticks": ""
            },
            "colorscale": [
             [
              0,
              "#0d0887"
             ],
             [
              0.1111111111111111,
              "#46039f"
             ],
             [
              0.2222222222222222,
              "#7201a8"
             ],
             [
              0.3333333333333333,
              "#9c179e"
             ],
             [
              0.4444444444444444,
              "#bd3786"
             ],
             [
              0.5555555555555556,
              "#d8576b"
             ],
             [
              0.6666666666666666,
              "#ed7953"
             ],
             [
              0.7777777777777778,
              "#fb9f3a"
             ],
             [
              0.8888888888888888,
              "#fdca26"
             ],
             [
              1,
              "#f0f921"
             ]
            ],
            "type": "surface"
           }
          ],
          "table": [
           {
            "cells": {
             "fill": {
              "color": "#EBF0F8"
             },
             "line": {
              "color": "white"
             }
            },
            "header": {
             "fill": {
              "color": "#C8D4E3"
             },
             "line": {
              "color": "white"
             }
            },
            "type": "table"
           }
          ]
         },
         "layout": {
          "annotationdefaults": {
           "arrowcolor": "#2a3f5f",
           "arrowhead": 0,
           "arrowwidth": 1
          },
          "autotypenumbers": "strict",
          "coloraxis": {
           "colorbar": {
            "outlinewidth": 0,
            "ticks": ""
           }
          },
          "colorscale": {
           "diverging": [
            [
             0,
             "#8e0152"
            ],
            [
             0.1,
             "#c51b7d"
            ],
            [
             0.2,
             "#de77ae"
            ],
            [
             0.3,
             "#f1b6da"
            ],
            [
             0.4,
             "#fde0ef"
            ],
            [
             0.5,
             "#f7f7f7"
            ],
            [
             0.6,
             "#e6f5d0"
            ],
            [
             0.7,
             "#b8e186"
            ],
            [
             0.8,
             "#7fbc41"
            ],
            [
             0.9,
             "#4d9221"
            ],
            [
             1,
             "#276419"
            ]
           ],
           "sequential": [
            [
             0,
             "#0d0887"
            ],
            [
             0.1111111111111111,
             "#46039f"
            ],
            [
             0.2222222222222222,
             "#7201a8"
            ],
            [
             0.3333333333333333,
             "#9c179e"
            ],
            [
             0.4444444444444444,
             "#bd3786"
            ],
            [
             0.5555555555555556,
             "#d8576b"
            ],
            [
             0.6666666666666666,
             "#ed7953"
            ],
            [
             0.7777777777777778,
             "#fb9f3a"
            ],
            [
             0.8888888888888888,
             "#fdca26"
            ],
            [
             1,
             "#f0f921"
            ]
           ],
           "sequentialminus": [
            [
             0,
             "#0d0887"
            ],
            [
             0.1111111111111111,
             "#46039f"
            ],
            [
             0.2222222222222222,
             "#7201a8"
            ],
            [
             0.3333333333333333,
             "#9c179e"
            ],
            [
             0.4444444444444444,
             "#bd3786"
            ],
            [
             0.5555555555555556,
             "#d8576b"
            ],
            [
             0.6666666666666666,
             "#ed7953"
            ],
            [
             0.7777777777777778,
             "#fb9f3a"
            ],
            [
             0.8888888888888888,
             "#fdca26"
            ],
            [
             1,
             "#f0f921"
            ]
           ]
          },
          "colorway": [
           "#636efa",
           "#EF553B",
           "#00cc96",
           "#ab63fa",
           "#FFA15A",
           "#19d3f3",
           "#FF6692",
           "#B6E880",
           "#FF97FF",
           "#FECB52"
          ],
          "font": {
           "color": "#2a3f5f"
          },
          "geo": {
           "bgcolor": "white",
           "lakecolor": "white",
           "landcolor": "#E5ECF6",
           "showlakes": true,
           "showland": true,
           "subunitcolor": "white"
          },
          "hoverlabel": {
           "align": "left"
          },
          "hovermode": "closest",
          "mapbox": {
           "style": "light"
          },
          "paper_bgcolor": "#E0F7FA",
          "plot_bgcolor": "rgba(0, 0, 0, 0)",
          "polar": {
           "angularaxis": {
            "gridcolor": "white",
            "linecolor": "white",
            "ticks": ""
           },
           "bgcolor": "#E5ECF6",
           "radialaxis": {
            "gridcolor": "white",
            "linecolor": "white",
            "ticks": ""
           }
          },
          "scene": {
           "xaxis": {
            "backgroundcolor": "#E5ECF6",
            "gridcolor": "white",
            "gridwidth": 2,
            "linecolor": "white",
            "showbackground": true,
            "ticks": "",
            "zerolinecolor": "white"
           },
           "yaxis": {
            "backgroundcolor": "#E5ECF6",
            "gridcolor": "white",
            "gridwidth": 2,
            "linecolor": "white",
            "showbackground": true,
            "ticks": "",
            "zerolinecolor": "white"
           },
           "zaxis": {
            "backgroundcolor": "#E5ECF6",
            "gridcolor": "white",
            "gridwidth": 2,
            "linecolor": "white",
            "showbackground": true,
            "ticks": "",
            "zerolinecolor": "white"
           }
          },
          "shapedefaults": {
           "line": {
            "color": "#2a3f5f"
           }
          },
          "ternary": {
           "aaxis": {
            "gridcolor": "white",
            "linecolor": "white",
            "ticks": ""
           },
           "baxis": {
            "gridcolor": "white",
            "linecolor": "white",
            "ticks": ""
           },
           "bgcolor": "#E5ECF6",
           "caxis": {
            "gridcolor": "white",
            "linecolor": "white",
            "ticks": ""
           }
          },
          "title": {
           "x": 0.05
          },
          "xaxis": {
           "automargin": true,
           "gridcolor": "white",
           "linecolor": "white",
           "ticks": "",
           "title": {
            "standoff": 15
           },
           "zerolinecolor": "white",
           "zerolinewidth": 2
          },
          "yaxis": {
           "automargin": true,
           "gridcolor": "white",
           "linecolor": "white",
           "ticks": "",
           "title": {
            "standoff": 15
           },
           "zerolinecolor": "white",
           "zerolinewidth": 2
          }
         }
        },
        "title": {
         "text": "Happiness Score and Air Quality Index by City"
        },
        "xaxis": {
         "title": {
          "text": "City"
         }
        },
        "yaxis": {
         "range": [
          2,
          8.5
         ],
         "tickfont": {
          "color": "#F280F7"
         },
         "title": {
          "font": {
           "color": "#F280F7"
          },
          "text": "Happiness Score"
         }
        },
        "yaxis2": {
         "overlaying": "y",
         "showgrid": false,
         "side": "right",
         "tickfont": {
          "color": "#4c75eb"
         },
         "title": {
          "font": {
           "color": "#4c75eb"
          },
          "text": "Air Quality Index"
         }
        }
       }
      }
     },
     "metadata": {},
     "output_type": "display_data"
    }
   ],
   "source": [
    "\n",
    "train_europe_df = train_df[train_df['City'].isin(european_cities)]\n",
    "\n",
    "cities = train_europe_df['City']\n",
    "air_quality_index = train_europe_df['Air_Quality_Index']\n",
    "happiness_score = train_europe_df['Happiness_Score']\n",
    "\n",
    "# Create traces for the bar chart\n",
    "trace1 = go.Bar(\n",
    "    x=cities,\n",
    "    y=happiness_score,\n",
    "    name='Happiness Score',\n",
    "    yaxis='y1',\n",
    "    offsetgroup=1,\n",
    "    marker=dict(color='#F280F7')\n",
    ")\n",
    "\n",
    "trace2 = go.Bar(\n",
    "    x=cities,\n",
    "    y=(100 - air_quality_index),\n",
    "    name='Air Quality Index',\n",
    "    yaxis='y2',\n",
    "    offsetgroup=2,\n",
    "    marker=dict(color='#4c75eb')\n",
    ")\n",
    "\n",
    "# Create the layout with two y-axes\n",
    "layout = go.Layout(\n",
    "    title='Happiness Score and Air Quality Index by City',\n",
    "    yaxis=dict(\n",
    "        title='Happiness Score',\n",
    "        titlefont=dict(color='#F280F7'),\n",
    "        tickfont=dict(color='#F280F7'),\n",
    "        range=[2, max(happiness_score)]\n",
    "    ),\n",
    "    yaxis2=dict(\n",
    "        title='Air Quality Index',\n",
    "        titlefont=dict(color='#4c75eb'),\n",
    "        tickfont=dict(color='#4c75eb'),\n",
    "        overlaying='y',\n",
    "        side='right',\n",
    "        showgrid=False,\n",
    "    ),\n",
    "    xaxis=dict(\n",
    "        title='City'\n",
    "    ),\n",
    "    barmode='group'\n",
    ")\n",
    "\n",
    "# Create the figure\n",
    "fig = go.Figure(data=[trace1, trace2], layout=layout)\n",
    "\n",
    "# Show the plot\n",
    "fig.show()\n"
   ]
  },
  {
   "cell_type": "code",
   "execution_count": 27,
   "metadata": {},
   "outputs": [
    {
     "data": {
      "application/vnd.plotly.v1+json": {
       "config": {
        "plotlyServerURL": "https://plot.ly"
       },
       "data": [
        {
         "hovertemplate": "<b>%{hovertext}</b><br><br>City=London<br>x=%{x}<br>Happiness_Score=%{y}<extra></extra>",
         "hovertext": [
          "London"
         ],
         "legendgroup": "London",
         "marker": {
          "color": "#636efa",
          "size": 15,
          "symbol": "circle"
         },
         "mode": "markers",
         "name": "London",
         "orientation": "v",
         "showlegend": true,
         "type": "scatter",
         "x": [
          77
         ],
         "xaxis": "x",
         "y": [
          7.2
         ],
         "yaxis": "y"
        },
        {
         "hovertemplate": "<b>%{hovertext}</b><br><br>City=Paris<br>x=%{x}<br>Happiness_Score=%{y}<extra></extra>",
         "hovertext": [
          "Paris"
         ],
         "legendgroup": "Paris",
         "marker": {
          "color": "#EF553B",
          "size": 15,
          "symbol": "circle"
         },
         "mode": "markers",
         "name": "Paris",
         "orientation": "v",
         "showlegend": true,
         "type": "scatter",
         "x": [
          71
         ],
         "xaxis": "x",
         "y": [
          6.9
         ],
         "yaxis": "y"
        },
        {
         "hovertemplate": "<b>%{hovertext}</b><br><br>City=Berlin<br>x=%{x}<br>Happiness_Score=%{y}<extra></extra>",
         "hovertext": [
          "Berlin"
         ],
         "legendgroup": "Berlin",
         "marker": {
          "color": "#00cc96",
          "size": 15,
          "symbol": "circle"
         },
         "mode": "markers",
         "name": "Berlin",
         "orientation": "v",
         "showlegend": true,
         "type": "scatter",
         "x": [
          48
         ],
         "xaxis": "x",
         "y": [
          7.5
         ],
         "yaxis": "y"
        },
        {
         "hovertemplate": "<b>%{hovertext}</b><br><br>City=Amsterdam<br>x=%{x}<br>Happiness_Score=%{y}<extra></extra>",
         "hovertext": [
          "Amsterdam"
         ],
         "legendgroup": "Amsterdam",
         "marker": {
          "color": "#ab63fa",
          "size": 15,
          "symbol": "circle"
         },
         "mode": "markers",
         "name": "Amsterdam",
         "orientation": "v",
         "showlegend": true,
         "type": "scatter",
         "x": [
          64
         ],
         "xaxis": "x",
         "y": [
          7.9
         ],
         "yaxis": "y"
        },
        {
         "hovertemplate": "<b>%{hovertext}</b><br><br>City=Barcelona<br>x=%{x}<br>Happiness_Score=%{y}<extra></extra>",
         "hovertext": [
          "Barcelona"
         ],
         "legendgroup": "Barcelona",
         "marker": {
          "color": "#FFA15A",
          "size": 15,
          "symbol": "circle"
         },
         "mode": "markers",
         "name": "Barcelona",
         "orientation": "v",
         "showlegend": true,
         "type": "scatter",
         "x": [
          37
         ],
         "xaxis": "x",
         "y": [
          7.7
         ],
         "yaxis": "y"
        },
        {
         "hovertemplate": "<b>%{hovertext}</b><br><br>City=Lisbon<br>x=%{x}<br>Happiness_Score=%{y}<extra></extra>",
         "hovertext": [
          "Lisbon"
         ],
         "legendgroup": "Lisbon",
         "marker": {
          "color": "#19d3f3",
          "size": 15,
          "symbol": "circle"
         },
         "mode": "markers",
         "name": "Lisbon",
         "orientation": "v",
         "showlegend": true,
         "type": "scatter",
         "x": [
          19
         ],
         "xaxis": "x",
         "y": [
          7.8
         ],
         "yaxis": "y"
        },
        {
         "hovertemplate": "<b>%{hovertext}</b><br><br>City=Rome<br>x=%{x}<br>Happiness_Score=%{y}<extra></extra>",
         "hovertext": [
          "Rome"
         ],
         "legendgroup": "Rome",
         "marker": {
          "color": "#FF6692",
          "size": 15,
          "symbol": "circle"
         },
         "mode": "markers",
         "name": "Rome",
         "orientation": "v",
         "showlegend": true,
         "type": "scatter",
         "x": [
          31
         ],
         "xaxis": "x",
         "y": [
          6.7
         ],
         "yaxis": "y"
        },
        {
         "hovertemplate": "<b>%{hovertext}</b><br><br>City=Athens<br>x=%{x}<br>Happiness_Score=%{y}<extra></extra>",
         "hovertext": [
          "Athens"
         ],
         "legendgroup": "Athens",
         "marker": {
          "color": "#B6E880",
          "size": 15,
          "symbol": "circle"
         },
         "mode": "markers",
         "name": "Athens",
         "orientation": "v",
         "showlegend": true,
         "type": "scatter",
         "x": [
          8
         ],
         "xaxis": "x",
         "y": [
          6.2
         ],
         "yaxis": "y"
        },
        {
         "hovertemplate": "<b>%{hovertext}</b><br><br>City=Vienna<br>x=%{x}<br>Happiness_Score=%{y}<extra></extra>",
         "hovertext": [
          "Vienna"
         ],
         "legendgroup": "Vienna",
         "marker": {
          "color": "#FF97FF",
          "size": 15,
          "symbol": "circle"
         },
         "mode": "markers",
         "name": "Vienna",
         "orientation": "v",
         "showlegend": true,
         "type": "scatter",
         "x": [
          66
         ],
         "xaxis": "x",
         "y": [
          8.2
         ],
         "yaxis": "y"
        },
        {
         "hovertemplate": "<b>%{hovertext}</b><br><br>City=Dublin<br>x=%{x}<br>Happiness_Score=%{y}<extra></extra>",
         "hovertext": [
          "Dublin"
         ],
         "legendgroup": "Dublin",
         "marker": {
          "color": "#FECB52",
          "size": 15,
          "symbol": "circle"
         },
         "mode": "markers",
         "name": "Dublin",
         "orientation": "v",
         "showlegend": true,
         "type": "scatter",
         "x": [
          41
         ],
         "xaxis": "x",
         "y": [
          7
         ],
         "yaxis": "y"
        },
        {
         "hovertemplate": "<b>%{hovertext}</b><br><br>City=Copenhagen<br>x=%{x}<br>Happiness_Score=%{y}<extra></extra>",
         "hovertext": [
          "Copenhagen"
         ],
         "legendgroup": "Copenhagen",
         "marker": {
          "color": "#636efa",
          "size": 15,
          "symbol": "circle"
         },
         "mode": "markers",
         "name": "Copenhagen",
         "orientation": "v",
         "showlegend": true,
         "type": "scatter",
         "x": [
          63
         ],
         "xaxis": "x",
         "y": [
          8.3
         ],
         "yaxis": "y"
        },
        {
         "hovertemplate": "<b>%{hovertext}</b><br><br>City=Stockholm<br>x=%{x}<br>Happiness_Score=%{y}<extra></extra>",
         "hovertext": [
          "Stockholm"
         ],
         "legendgroup": "Stockholm",
         "marker": {
          "color": "#EF553B",
          "size": 15,
          "symbol": "circle"
         },
         "mode": "markers",
         "name": "Stockholm",
         "orientation": "v",
         "showlegend": true,
         "type": "scatter",
         "x": [
          70
         ],
         "xaxis": "x",
         "y": [
          8
         ],
         "yaxis": "y"
        },
        {
         "hovertemplate": "<b>%{hovertext}</b><br><br>City=Prague<br>x=%{x}<br>Happiness_Score=%{y}<extra></extra>",
         "hovertext": [
          "Prague"
         ],
         "legendgroup": "Prague",
         "marker": {
          "color": "#00cc96",
          "size": 15,
          "symbol": "circle"
         },
         "mode": "markers",
         "name": "Prague",
         "orientation": "v",
         "showlegend": true,
         "type": "scatter",
         "x": [
          73
         ],
         "xaxis": "x",
         "y": [
          7.3
         ],
         "yaxis": "y"
        },
        {
         "hovertemplate": "<b>%{hovertext}</b><br><br>City=Warsaw<br>x=%{x}<br>Happiness_Score=%{y}<extra></extra>",
         "hovertext": [
          "Warsaw"
         ],
         "legendgroup": "Warsaw",
         "marker": {
          "color": "#ab63fa",
          "size": 15,
          "symbol": "circle"
         },
         "mode": "markers",
         "name": "Warsaw",
         "orientation": "v",
         "showlegend": true,
         "type": "scatter",
         "x": [
          44
         ],
         "xaxis": "x",
         "y": [
          6.7
         ],
         "yaxis": "y"
        },
        {
         "line": {
          "color": "#4c75eb"
         },
         "marker": {
          "size": 15
         },
         "mode": "lines",
         "name": "Trendline",
         "type": "scatter",
         "x": [
          77,
          71,
          48,
          64,
          37,
          19,
          31,
          8,
          66,
          41,
          63,
          70,
          73,
          44
         ],
         "y": [
          7.731401408450703,
          7.652063380281688,
          7.347934272300466,
          7.559502347417838,
          7.2024812206572735,
          6.964467136150231,
          7.123143192488259,
          6.819014084507038,
          7.585948356807509,
          7.255373239436617,
          7.546279342723002,
          7.638840375586852,
          7.678509389671359,
          7.295042253521124
         ]
        }
       ],
       "layout": {
        "legend": {
         "title": {
          "text": "City"
         },
         "tracegroupgap": 0
        },
        "template": {
         "data": {
          "bar": [
           {
            "error_x": {
             "color": "#2a3f5f"
            },
            "error_y": {
             "color": "#2a3f5f"
            },
            "marker": {
             "line": {
              "color": "#E5ECF6",
              "width": 0
             },
             "pattern": {
              "fillmode": "overlay",
              "size": 10,
              "solidity": 0.2
             }
            },
            "type": "bar"
           }
          ],
          "barpolar": [
           {
            "marker": {
             "line": {
              "color": "#E5ECF6",
              "width": 0.5
             },
             "pattern": {
              "fillmode": "overlay",
              "size": 10,
              "solidity": 0.2
             }
            },
            "type": "barpolar"
           }
          ],
          "carpet": [
           {
            "aaxis": {
             "endlinecolor": "#2a3f5f",
             "gridcolor": "white",
             "linecolor": "white",
             "minorgridcolor": "white",
             "startlinecolor": "#2a3f5f"
            },
            "baxis": {
             "endlinecolor": "#2a3f5f",
             "gridcolor": "white",
             "linecolor": "white",
             "minorgridcolor": "white",
             "startlinecolor": "#2a3f5f"
            },
            "type": "carpet"
           }
          ],
          "choropleth": [
           {
            "colorbar": {
             "outlinewidth": 0,
             "ticks": ""
            },
            "type": "choropleth"
           }
          ],
          "contour": [
           {
            "colorbar": {
             "outlinewidth": 0,
             "ticks": ""
            },
            "colorscale": [
             [
              0,
              "#0d0887"
             ],
             [
              0.1111111111111111,
              "#46039f"
             ],
             [
              0.2222222222222222,
              "#7201a8"
             ],
             [
              0.3333333333333333,
              "#9c179e"
             ],
             [
              0.4444444444444444,
              "#bd3786"
             ],
             [
              0.5555555555555556,
              "#d8576b"
             ],
             [
              0.6666666666666666,
              "#ed7953"
             ],
             [
              0.7777777777777778,
              "#fb9f3a"
             ],
             [
              0.8888888888888888,
              "#fdca26"
             ],
             [
              1,
              "#f0f921"
             ]
            ],
            "type": "contour"
           }
          ],
          "contourcarpet": [
           {
            "colorbar": {
             "outlinewidth": 0,
             "ticks": ""
            },
            "type": "contourcarpet"
           }
          ],
          "heatmap": [
           {
            "colorbar": {
             "outlinewidth": 0,
             "ticks": ""
            },
            "colorscale": [
             [
              0,
              "#0d0887"
             ],
             [
              0.1111111111111111,
              "#46039f"
             ],
             [
              0.2222222222222222,
              "#7201a8"
             ],
             [
              0.3333333333333333,
              "#9c179e"
             ],
             [
              0.4444444444444444,
              "#bd3786"
             ],
             [
              0.5555555555555556,
              "#d8576b"
             ],
             [
              0.6666666666666666,
              "#ed7953"
             ],
             [
              0.7777777777777778,
              "#fb9f3a"
             ],
             [
              0.8888888888888888,
              "#fdca26"
             ],
             [
              1,
              "#f0f921"
             ]
            ],
            "type": "heatmap"
           }
          ],
          "heatmapgl": [
           {
            "colorbar": {
             "outlinewidth": 0,
             "ticks": ""
            },
            "colorscale": [
             [
              0,
              "#0d0887"
             ],
             [
              0.1111111111111111,
              "#46039f"
             ],
             [
              0.2222222222222222,
              "#7201a8"
             ],
             [
              0.3333333333333333,
              "#9c179e"
             ],
             [
              0.4444444444444444,
              "#bd3786"
             ],
             [
              0.5555555555555556,
              "#d8576b"
             ],
             [
              0.6666666666666666,
              "#ed7953"
             ],
             [
              0.7777777777777778,
              "#fb9f3a"
             ],
             [
              0.8888888888888888,
              "#fdca26"
             ],
             [
              1,
              "#f0f921"
             ]
            ],
            "type": "heatmapgl"
           }
          ],
          "histogram": [
           {
            "marker": {
             "pattern": {
              "fillmode": "overlay",
              "size": 10,
              "solidity": 0.2
             }
            },
            "type": "histogram"
           }
          ],
          "histogram2d": [
           {
            "colorbar": {
             "outlinewidth": 0,
             "ticks": ""
            },
            "colorscale": [
             [
              0,
              "#0d0887"
             ],
             [
              0.1111111111111111,
              "#46039f"
             ],
             [
              0.2222222222222222,
              "#7201a8"
             ],
             [
              0.3333333333333333,
              "#9c179e"
             ],
             [
              0.4444444444444444,
              "#bd3786"
             ],
             [
              0.5555555555555556,
              "#d8576b"
             ],
             [
              0.6666666666666666,
              "#ed7953"
             ],
             [
              0.7777777777777778,
              "#fb9f3a"
             ],
             [
              0.8888888888888888,
              "#fdca26"
             ],
             [
              1,
              "#f0f921"
             ]
            ],
            "type": "histogram2d"
           }
          ],
          "histogram2dcontour": [
           {
            "colorbar": {
             "outlinewidth": 0,
             "ticks": ""
            },
            "colorscale": [
             [
              0,
              "#0d0887"
             ],
             [
              0.1111111111111111,
              "#46039f"
             ],
             [
              0.2222222222222222,
              "#7201a8"
             ],
             [
              0.3333333333333333,
              "#9c179e"
             ],
             [
              0.4444444444444444,
              "#bd3786"
             ],
             [
              0.5555555555555556,
              "#d8576b"
             ],
             [
              0.6666666666666666,
              "#ed7953"
             ],
             [
              0.7777777777777778,
              "#fb9f3a"
             ],
             [
              0.8888888888888888,
              "#fdca26"
             ],
             [
              1,
              "#f0f921"
             ]
            ],
            "type": "histogram2dcontour"
           }
          ],
          "mesh3d": [
           {
            "colorbar": {
             "outlinewidth": 0,
             "ticks": ""
            },
            "type": "mesh3d"
           }
          ],
          "parcoords": [
           {
            "line": {
             "colorbar": {
              "outlinewidth": 0,
              "ticks": ""
             }
            },
            "type": "parcoords"
           }
          ],
          "pie": [
           {
            "automargin": true,
            "type": "pie"
           }
          ],
          "scatter": [
           {
            "fillpattern": {
             "fillmode": "overlay",
             "size": 10,
             "solidity": 0.2
            },
            "type": "scatter"
           }
          ],
          "scatter3d": [
           {
            "line": {
             "colorbar": {
              "outlinewidth": 0,
              "ticks": ""
             }
            },
            "marker": {
             "colorbar": {
              "outlinewidth": 0,
              "ticks": ""
             }
            },
            "type": "scatter3d"
           }
          ],
          "scattercarpet": [
           {
            "marker": {
             "colorbar": {
              "outlinewidth": 0,
              "ticks": ""
             }
            },
            "type": "scattercarpet"
           }
          ],
          "scattergeo": [
           {
            "marker": {
             "colorbar": {
              "outlinewidth": 0,
              "ticks": ""
             }
            },
            "type": "scattergeo"
           }
          ],
          "scattergl": [
           {
            "marker": {
             "colorbar": {
              "outlinewidth": 0,
              "ticks": ""
             }
            },
            "type": "scattergl"
           }
          ],
          "scattermapbox": [
           {
            "marker": {
             "colorbar": {
              "outlinewidth": 0,
              "ticks": ""
             }
            },
            "type": "scattermapbox"
           }
          ],
          "scatterpolar": [
           {
            "marker": {
             "colorbar": {
              "outlinewidth": 0,
              "ticks": ""
             }
            },
            "type": "scatterpolar"
           }
          ],
          "scatterpolargl": [
           {
            "marker": {
             "colorbar": {
              "outlinewidth": 0,
              "ticks": ""
             }
            },
            "type": "scatterpolargl"
           }
          ],
          "scatterternary": [
           {
            "marker": {
             "colorbar": {
              "outlinewidth": 0,
              "ticks": ""
             }
            },
            "type": "scatterternary"
           }
          ],
          "surface": [
           {
            "colorbar": {
             "outlinewidth": 0,
             "ticks": ""
            },
            "colorscale": [
             [
              0,
              "#0d0887"
             ],
             [
              0.1111111111111111,
              "#46039f"
             ],
             [
              0.2222222222222222,
              "#7201a8"
             ],
             [
              0.3333333333333333,
              "#9c179e"
             ],
             [
              0.4444444444444444,
              "#bd3786"
             ],
             [
              0.5555555555555556,
              "#d8576b"
             ],
             [
              0.6666666666666666,
              "#ed7953"
             ],
             [
              0.7777777777777778,
              "#fb9f3a"
             ],
             [
              0.8888888888888888,
              "#fdca26"
             ],
             [
              1,
              "#f0f921"
             ]
            ],
            "type": "surface"
           }
          ],
          "table": [
           {
            "cells": {
             "fill": {
              "color": "#EBF0F8"
             },
             "line": {
              "color": "white"
             }
            },
            "header": {
             "fill": {
              "color": "#C8D4E3"
             },
             "line": {
              "color": "white"
             }
            },
            "type": "table"
           }
          ]
         },
         "layout": {
          "annotationdefaults": {
           "arrowcolor": "#2a3f5f",
           "arrowhead": 0,
           "arrowwidth": 1
          },
          "autotypenumbers": "strict",
          "coloraxis": {
           "colorbar": {
            "outlinewidth": 0,
            "ticks": ""
           }
          },
          "colorscale": {
           "diverging": [
            [
             0,
             "#8e0152"
            ],
            [
             0.1,
             "#c51b7d"
            ],
            [
             0.2,
             "#de77ae"
            ],
            [
             0.3,
             "#f1b6da"
            ],
            [
             0.4,
             "#fde0ef"
            ],
            [
             0.5,
             "#f7f7f7"
            ],
            [
             0.6,
             "#e6f5d0"
            ],
            [
             0.7,
             "#b8e186"
            ],
            [
             0.8,
             "#7fbc41"
            ],
            [
             0.9,
             "#4d9221"
            ],
            [
             1,
             "#276419"
            ]
           ],
           "sequential": [
            [
             0,
             "#0d0887"
            ],
            [
             0.1111111111111111,
             "#46039f"
            ],
            [
             0.2222222222222222,
             "#7201a8"
            ],
            [
             0.3333333333333333,
             "#9c179e"
            ],
            [
             0.4444444444444444,
             "#bd3786"
            ],
            [
             0.5555555555555556,
             "#d8576b"
            ],
            [
             0.6666666666666666,
             "#ed7953"
            ],
            [
             0.7777777777777778,
             "#fb9f3a"
            ],
            [
             0.8888888888888888,
             "#fdca26"
            ],
            [
             1,
             "#f0f921"
            ]
           ],
           "sequentialminus": [
            [
             0,
             "#0d0887"
            ],
            [
             0.1111111111111111,
             "#46039f"
            ],
            [
             0.2222222222222222,
             "#7201a8"
            ],
            [
             0.3333333333333333,
             "#9c179e"
            ],
            [
             0.4444444444444444,
             "#bd3786"
            ],
            [
             0.5555555555555556,
             "#d8576b"
            ],
            [
             0.6666666666666666,
             "#ed7953"
            ],
            [
             0.7777777777777778,
             "#fb9f3a"
            ],
            [
             0.8888888888888888,
             "#fdca26"
            ],
            [
             1,
             "#f0f921"
            ]
           ]
          },
          "colorway": [
           "#636efa",
           "#EF553B",
           "#00cc96",
           "#ab63fa",
           "#FFA15A",
           "#19d3f3",
           "#FF6692",
           "#B6E880",
           "#FF97FF",
           "#FECB52"
          ],
          "font": {
           "color": "#2a3f5f"
          },
          "geo": {
           "bgcolor": "white",
           "lakecolor": "white",
           "landcolor": "#E5ECF6",
           "showlakes": true,
           "showland": true,
           "subunitcolor": "white"
          },
          "hoverlabel": {
           "align": "left"
          },
          "hovermode": "closest",
          "mapbox": {
           "style": "light"
          },
          "paper_bgcolor": "#E0F7FA",
          "plot_bgcolor": "rgba(0, 0, 0, 0)",
          "polar": {
           "angularaxis": {
            "gridcolor": "white",
            "linecolor": "white",
            "ticks": ""
           },
           "bgcolor": "#E5ECF6",
           "radialaxis": {
            "gridcolor": "white",
            "linecolor": "white",
            "ticks": ""
           }
          },
          "scene": {
           "xaxis": {
            "backgroundcolor": "#E5ECF6",
            "gridcolor": "white",
            "gridwidth": 2,
            "linecolor": "white",
            "showbackground": true,
            "ticks": "",
            "zerolinecolor": "white"
           },
           "yaxis": {
            "backgroundcolor": "#E5ECF6",
            "gridcolor": "white",
            "gridwidth": 2,
            "linecolor": "white",
            "showbackground": true,
            "ticks": "",
            "zerolinecolor": "white"
           },
           "zaxis": {
            "backgroundcolor": "#E5ECF6",
            "gridcolor": "white",
            "gridwidth": 2,
            "linecolor": "white",
            "showbackground": true,
            "ticks": "",
            "zerolinecolor": "white"
           }
          },
          "shapedefaults": {
           "line": {
            "color": "#2a3f5f"
           }
          },
          "ternary": {
           "aaxis": {
            "gridcolor": "white",
            "linecolor": "white",
            "ticks": ""
           },
           "baxis": {
            "gridcolor": "white",
            "linecolor": "white",
            "ticks": ""
           },
           "bgcolor": "#E5ECF6",
           "caxis": {
            "gridcolor": "white",
            "linecolor": "white",
            "ticks": ""
           }
          },
          "title": {
           "x": 0.05
          },
          "xaxis": {
           "automargin": true,
           "gridcolor": "white",
           "linecolor": "white",
           "ticks": "",
           "title": {
            "standoff": 15
           },
           "zerolinecolor": "white",
           "zerolinewidth": 2
          },
          "yaxis": {
           "automargin": true,
           "gridcolor": "white",
           "linecolor": "white",
           "ticks": "",
           "title": {
            "standoff": 15
           },
           "zerolinecolor": "white",
           "zerolinewidth": 2
          }
         }
        },
        "title": {
         "text": "Profit in comparison to Happiness"
        },
        "xaxis": {
         "anchor": "y",
         "domain": [
          0,
          1
         ],
         "title": {
          "text": "Profit"
         }
        },
        "yaxis": {
         "anchor": "x",
         "domain": [
          0,
          1
         ],
         "title": {
          "text": "Happiness Score"
         }
        }
       }
      }
     },
     "metadata": {},
     "output_type": "display_data"
    }
   ],
   "source": [
    "merged_best_train_df = pd.merge(renamed_train_df, best_cities_df, on='city')\n",
    "\n",
    "best_train_filtered_df = merged_best_train_df[merged_best_train_df['city'].isin(european_cities)]\n",
    "\n",
    "best_train_filtered_df.head()\n",
    "\n",
    "profit = best_train_filtered_df['Profit']\n",
    "happiness_score = best_train_filtered_df['Happiness_Score']\n",
    "\n",
    "# Fit the regression line using statsmodels\n",
    "X = sm.add_constant(80 - profit)  # Adding a constant for the intercept\n",
    "model = sm.OLS(happiness_score, X).fit()\n",
    "trendline = model.predict(X)\n",
    "\n",
    "# Create scatter plot with different colors for each city\n",
    "scatter_plot = px.scatter(\n",
    "    best_train_filtered_df,\n",
    "    x=(80 - profit),\n",
    "    y='Happiness_Score',\n",
    "    color='city',\n",
    "    hover_name='city',\n",
    "    labels={'city': 'City'},\n",
    "    title='Profit in comparison to Happiness',\n",
    ")\n",
    "\n",
    "# Add the regression line to the scatter plot\n",
    "scatter_plot.add_trace(\n",
    "    go.Scatter(\n",
    "        x=(80 - profit),\n",
    "        y=trendline,\n",
    "        mode='lines',\n",
    "        name='Trendline',\n",
    "        line=dict(color='#4c75eb')\n",
    "    )\n",
    ")\n",
    "\n",
    "scatter_plot.update_traces(marker=dict(size=15))\n",
    "\n",
    "scatter_plot.update_layout(\n",
    "    xaxis_title='Profit',\n",
    "    yaxis_title='Happiness Score'\n",
    ")\n",
    "\n",
    "scatter_plot.show()"
   ]
  },
  {
   "cell_type": "code",
   "execution_count": null,
   "metadata": {},
   "outputs": [],
   "source": []
  },
  {
   "cell_type": "code",
   "execution_count": 33,
   "metadata": {},
   "outputs": [
    {
     "name": "stderr",
     "output_type": "stream",
     "text": [
      "/var/folders/ct/jf_08df550xfjwz0vgn47cz80000gn/T/ipykernel_80437/1747076211.py:9: SettingWithCopyWarning:\n",
      "\n",
      "\n",
      "A value is trying to be set on a copy of a slice from a DataFrame\n",
      "\n",
      "See the caveats in the documentation: https://pandas.pydata.org/pandas-docs/stable/user_guide/indexing.html#returning-a-view-versus-a-copy\n",
      "\n"
     ]
    },
    {
     "data": {
      "image/png": "[encoded data removed]",
      "text/plain": [
       "<Figure size 1800x800 with 2 Axes>"
      ]
     },
     "metadata": {},
     "output_type": "display_data"
    }
   ],
   "source": [
    "merged_train_healthy_lifestyle_df = pd.merge(train_df, healthy_lifestyle_df, on='City')\n",
    "\n",
    "merged_train_healthy_lifestyle_filtered_df = merged_train_healthy_lifestyle_df[merged_train_healthy_lifestyle_df['City'].isin(european_cities)]\n",
    "\n",
    "fig, axes = plt.subplots(ncols=2, sharey=True, figsize=(18, 8))\n",
    "\n",
    "sns.set_theme(rc={'axes.facecolor': '#E0F7FA', 'figure.facecolor': '#E0F7FA'})\n",
    "\n",
    "merged_train_healthy_lifestyle_filtered_df.sort_values(by='Pollution(Index score) (City)', ascending=False, inplace=True)\n",
    "\n",
    "sns.barplot(x=pd.to_numeric(merged_train_healthy_lifestyle_filtered_df['Pollution(Index score) (City)']), y='City', data=merged_train_healthy_lifestyle_filtered_df, ax=axes[0], color='gray')\n",
    "sns.barplot(x=pd.to_numeric(merged_train_healthy_lifestyle_filtered_df['Happiness_Score']), y='City', data=merged_train_healthy_lifestyle_filtered_df, ax=axes[1], color='gray')\n",
    "\n",
    "axes[0].set(title='Pollution')\n",
    "axes[0].set_xlabel('Pollution Index Score')\n",
    "axes[1].set(title='Happiness')\n",
    "axes[1].set_xlabel('Happiness Score')\n",
    "\n",
    "axes[0].invert_xaxis()\n",
    "axes[0].yaxis.tick_right()\n",
    "\n",
    "axes[1].yaxis.tick_left()\n",
    "\n",
    "axes[1].set_xlim(5, 9)\n",
    "axes[1].set_xticks(range(5, 10, 1))\n",
    "\n",
    "fig.tight_layout()\n",
    "fig.subplots_adjust(wspace=0.13)\n",
    "\n",
    "fig.set_facecolor('#E0F7FA')\n",
    "\n",
    "plt.show()"
   ]
  }
 ],
 "metadata": {
  "kernelspec": {
   "display_name": "jupyterbook",
   "language": "python",
   "name": "python3"
  },
  "language_info": {
   "codemirror_mode": {
    "name": "ipython",
    "version": 3
   },
   "file_extension": ".py",
   "mimetype": "text/x-python",
   "name": "python",
   "nbconvert_exporter": "python",
   "pygments_lexer": "ipython3",
   "version": "3.10.13"
  }
 },
 "nbformat": 4,
 "nbformat_minor": 2
}
