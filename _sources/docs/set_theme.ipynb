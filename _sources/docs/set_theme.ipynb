{
 "cells": [
  {
   "cell_type": "code",
   "execution_count": 4,
   "metadata": {},
   "outputs": [],
   "source": [
    "import plotly.io as pio\n",
    "\n",
    "if 'custom' not in pio.templates:\n",
    "\tbackground = '#E0F7FA'\n",
    "\ttransparent = 'rgba(0, 0, 0, 0)'\n",
    "\n",
    "\tpio.templates['custom'] = pio.templates['plotly']\n",
    "\n",
    "\tpio.templates['custom'].update({\n",
    "\t\t\t'data': {\n",
    "\t\t\t\t\t'bar': [\n",
    "\t\t\t\t\t\t\t{\n",
    "\t\t\t\t\t\t\t\t\t'marker': {\n",
    "\t\t\t\t\t\t\t\t\t\t\t'line': {'width': 0},\n",
    "\t\t\t\t\t\t\t\t\t}\n",
    "\t\t\t\t\t\t\t}\n",
    "\t\t\t\t\t]\n",
    "\t\t\t},\n",
    "\t\t\t'layout': {\n",
    "\t\t\t\t\t'paper_bgcolor': background,\n",
    "\t\t\t\t\t'plot_bgcolor': transparent\n",
    "\t\t\t}\n",
    "\t})\n",
    "\n",
    "\tpio.templates.default = 'custom'\n"
   ]
  }
 ],
 "metadata": {
  "kernelspec": {
   "display_name": "jupyterbook",
   "language": "python",
   "name": "python3"
  },
  "language_info": {
   "codemirror_mode": {
    "name": "ipython",
    "version": 3
   },
   "file_extension": ".py",
   "mimetype": "text/x-python",
   "name": "python",
   "nbconvert_exporter": "python",
   "pygments_lexer": "ipython3",
   "version": "3.10.13"
  }
 },
 "nbformat": 4,
 "nbformat_minor": 2
}
