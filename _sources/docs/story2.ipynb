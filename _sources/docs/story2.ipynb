{
 "cells": [
  {
   "cell_type": "markdown",
   "metadata": {
    "tags": [
     "remove_input"
    ]
   },
   "source": [
    "# Story from environmental perspective"
   ]
  },
  {
   "cell_type": "code",
   "execution_count": 13,
   "metadata": {
    "tags": [
     "remove_input"
    ]
   },
   "outputs": [],
   "source": [
    "%run set_theme.ipynb"
   ]
  },
  {
   "cell_type": "code",
   "execution_count": 14,
   "metadata": {
    "tags": [
     "remove_input"
    ]
   },
   "outputs": [],
   "source": [
    "import pandas as pd\n",
    "import matplotlib.pyplot as plt\n",
    "import plotly.graph_objects as go\n",
    "import plotly.express as px\n",
    "import seaborn as sns\n",
    "\n",
    "pd.set_option('mode.chained_assignment', None)"
   ]
  },
  {
   "cell_type": "code",
   "execution_count": 15,
   "metadata": {
    "tags": [
     "remove_input"
    ]
   },
   "outputs": [],
   "source": [
    "train_df = pd.read_csv('../data/train.csv')\n",
    "cities_df = pd.read_csv('../data/worldcities.csv')\n",
    "healthy_lifestyle_df = pd.read_csv('../data/healthy_lifestyle_city_2021.csv')"
   ]
  },
  {
   "cell_type": "code",
   "execution_count": 16,
   "metadata": {
    "tags": [
     "remove_input"
    ]
   },
   "outputs": [],
   "source": [
    "european_cities = [\n",
    "    \"London\",\n",
    "    \"Paris\",\n",
    "    \"Berlin\",\n",
    "    \"Amsterdam\",\n",
    "    \"Barcelona\",\n",
    "    \"Lisbon\",\n",
    "    \"Rome\",\n",
    "    \"Athens\",\n",
    "    \"Vienna\",\n",
    "    \"Dublin\",\n",
    "    \"Copenhagen\",\n",
    "    \"Stockholm\",\n",
    "    \"Oslo\",\n",
    "    \"Helsinki\",\n",
    "    \"Prague\",\n",
    "    \"Budapest\",\n",
    "    \"Warsaw\",\n",
    "    \"Sofia\",\n",
    "    \"Belgrade\",\n",
    "]"
   ]
  },
  {
   "cell_type": "markdown",
   "metadata": {
    "tags": [
     "remove_input"
    ]
   },
   "source": [
    "## Clean cities\n",
    "\n",
    "The environmental quality of a city also tends to be a great factor when it comes to the overall well-being of its inhabitants. Wealthier cities are more likely to investment in green spaces, clean air, and waste management to improve the physical environment, leading to better health and a more pleasant living experience. For instance, well-maintained parks and recreational areas provide residents with spaces to exercise, relax, and connect with nature, which are crucial for mental well-being. \n",
    "The extent of greenspace within a city is a clear and measurable indicator of its commitment to sustainability. Cities that prioritize and invest in greenspaces demonstrate a dedication to environmental stewardship, public health, and long-term resilience, ensuring a high quality of life for their residents and future generations. Therefore we took this as an indicator, to counter the happiness scores of the European cities."
   ]
  },
  {
   "cell_type": "code",
   "execution_count": 17,
   "metadata": {
    "tags": [
     "remove_input"
    ]
   },
   "outputs": [
    {
     "data": {
      "application/vnd.plotly.v1+json": {
       "config": {
        "plotlyServerURL": "https://plot.ly"
       },
       "data": [
        {
         "customdata": [
          [
           45,
           6.9
          ],
          [
           50,
           7.2
          ],
          [
           65,
           7.7
          ],
          [
           55,
           7.5
          ],
          [
           40,
           6.7
          ],
          [
           45,
           6.2
          ],
          [
           70,
           7.8
          ],
          [
           70,
           8.2
          ],
          [
           40,
           6.7
          ],
          [
           45,
           6.8
          ],
          [
           80,
           8
          ],
          [
           35,
           6
          ],
          [
           50,
           7.3
          ],
          [
           90,
           8.4
          ],
          [
           30,
           5.5
          ],
          [
           75,
           8.3
          ],
          [
           55,
           7
          ],
          [
           75,
           7.9
          ],
          [
           85,
           8.5
          ]
         ],
         "hovertemplate": "<b>%{hovertext}</b><br><br>Green_Space_Area=%{customdata[0]}<br>lat=%{lat}<br>lng=%{lon}<br>Happiness Score=%{marker.color}<extra></extra>",
         "hovertext": [
          "Paris",
          "London",
          "Barcelona",
          "Berlin",
          "Rome",
          "Athens",
          "Lisbon",
          "Vienna",
          "Warsaw",
          "Budapest",
          "Stockholm",
          "Sofia",
          "Prague",
          "Helsinki",
          "Belgrade",
          "Copenhagen",
          "Dublin",
          "Amsterdam",
          "Oslo"
         ],
         "lat": [
          48.8667,
          51.5,
          41.3833,
          52.5218,
          41.896,
          37.9833,
          38.7227,
          48.2,
          52.25,
          47.5,
          59.3508,
          42.6833,
          50.0833,
          60.1756,
          44.8186,
          55.6786,
          53.3331,
          52.35,
          59.9167
         ],
         "legendgroup": "",
         "lon": [
          2.3333,
          -0.1167,
          2.1834,
          13.4015,
          12.4833,
          23.7333,
          -9.1449,
          16.3666,
          21,
          19.0833,
          18.0973,
          23.3167,
          14.466,
          24.9341,
          20.468,
          12.5635,
          -6.2489,
          4.9166,
          10.75
         ],
         "marker": {
          "color": [
           6.9,
           7.2,
           7.7,
           7.5,
           6.7,
           6.2,
           7.8,
           8.2,
           6.7,
           6.8,
           8,
           6,
           7.3,
           8.4,
           5.5,
           8.3,
           7,
           7.9,
           8.5
          ],
          "coloraxis": "coloraxis",
          "size": [
           45,
           50,
           65,
           55,
           40,
           45,
           70,
           70,
           40,
           45,
           80,
           35,
           50,
           90,
           30,
           75,
           55,
           75,
           85
          ],
          "sizemode": "area",
          "sizeref": 0.225
         },
         "mode": "markers",
         "name": "",
         "showlegend": false,
         "subplot": "mapbox",
         "type": "scattermapbox"
        }
       ],
       "layout": {
        "annotations": [
         {
          "align": "left",
          "showarrow": false,
          "text": "The size of the bubble corresponds to the Greenspace area of that city",
          "x": 0,
          "xanchor": "left",
          "xref": "paper",
          "y": -0.07,
          "yanchor": "bottom",
          "yref": "paper"
         }
        ],
        "coloraxis": {
         "colorbar": {
          "title": {
           "text": "Happiness Score"
          }
         },
         "colorscale": [
          [
           0,
           "#0508b8"
          ],
          [
           0.08333333333333333,
           "#1910d8"
          ],
          [
           0.16666666666666666,
           "#3c19f0"
          ],
          [
           0.25,
           "#6b1cfb"
          ],
          [
           0.3333333333333333,
           "#981cfd"
          ],
          [
           0.4166666666666667,
           "#bf1cfd"
          ],
          [
           0.5,
           "#dd2bfd"
          ],
          [
           0.5833333333333334,
           "#f246fe"
          ],
          [
           0.6666666666666666,
           "#fc67fd"
          ],
          [
           0.75,
           "#fe88fc"
          ],
          [
           0.8333333333333334,
           "#fea5fd"
          ],
          [
           0.9166666666666666,
           "#febefe"
          ],
          [
           1,
           "#fec3fe"
          ]
         ]
        },
        "legend": {
         "itemsizing": "constant",
         "tracegroupgap": 0
        },
        "mapbox": {
         "center": {
          "lat": 49.4323052631579,
          "lon": 11.820336842105263
         },
         "domain": {
          "x": [
           0,
           1
          ],
          "y": [
           0,
           1
          ]
         },
         "style": "open-street-map",
         "zoom": 2.3
        },
        "margin": {
         "b": 40,
         "l": 10,
         "t": 40
        },
        "template": {
         "data": {
          "bar": [
           {
            "error_x": {
             "color": "#2a3f5f"
            },
            "error_y": {
             "color": "#2a3f5f"
            },
            "marker": {
             "line": {
              "color": "#E5ECF6",
              "width": 0
             },
             "pattern": {
              "fillmode": "overlay",
              "size": 10,
              "solidity": 0.2
             }
            },
            "type": "bar"
           }
          ],
          "barpolar": [
           {
            "marker": {
             "line": {
              "color": "#E5ECF6",
              "width": 0.5
             },
             "pattern": {
              "fillmode": "overlay",
              "size": 10,
              "solidity": 0.2
             }
            },
            "type": "barpolar"
           }
          ],
          "carpet": [
           {
            "aaxis": {
             "endlinecolor": "#2a3f5f",
             "gridcolor": "white",
             "linecolor": "white",
             "minorgridcolor": "white",
             "startlinecolor": "#2a3f5f"
            },
            "baxis": {
             "endlinecolor": "#2a3f5f",
             "gridcolor": "white",
             "linecolor": "white",
             "minorgridcolor": "white",
             "startlinecolor": "#2a3f5f"
            },
            "type": "carpet"
           }
          ],
          "choropleth": [
           {
            "colorbar": {
             "outlinewidth": 0,
             "ticks": ""
            },
            "type": "choropleth"
           }
          ],
          "contour": [
           {
            "colorbar": {
             "outlinewidth": 0,
             "ticks": ""
            },
            "colorscale": [
             [
              0,
              "#0d0887"
             ],
             [
              0.1111111111111111,
              "#46039f"
             ],
             [
              0.2222222222222222,
              "#7201a8"
             ],
             [
              0.3333333333333333,
              "#9c179e"
             ],
             [
              0.4444444444444444,
              "#bd3786"
             ],
             [
              0.5555555555555556,
              "#d8576b"
             ],
             [
              0.6666666666666666,
              "#ed7953"
             ],
             [
              0.7777777777777778,
              "#fb9f3a"
             ],
             [
              0.8888888888888888,
              "#fdca26"
             ],
             [
              1,
              "#f0f921"
             ]
            ],
            "type": "contour"
           }
          ],
          "contourcarpet": [
           {
            "colorbar": {
             "outlinewidth": 0,
             "ticks": ""
            },
            "type": "contourcarpet"
           }
          ],
          "heatmap": [
           {
            "colorbar": {
             "outlinewidth": 0,
             "ticks": ""
            },
            "colorscale": [
             [
              0,
              "#0d0887"
             ],
             [
              0.1111111111111111,
              "#46039f"
             ],
             [
              0.2222222222222222,
              "#7201a8"
             ],
             [
              0.3333333333333333,
              "#9c179e"
             ],
             [
              0.4444444444444444,
              "#bd3786"
             ],
             [
              0.5555555555555556,
              "#d8576b"
             ],
             [
              0.6666666666666666,
              "#ed7953"
             ],
             [
              0.7777777777777778,
              "#fb9f3a"
             ],
             [
              0.8888888888888888,
              "#fdca26"
             ],
             [
              1,
              "#f0f921"
             ]
            ],
            "type": "heatmap"
           }
          ],
          "heatmapgl": [
           {
            "colorbar": {
             "outlinewidth": 0,
             "ticks": ""
            },
            "colorscale": [
             [
              0,
              "#0d0887"
             ],
             [
              0.1111111111111111,
              "#46039f"
             ],
             [
              0.2222222222222222,
              "#7201a8"
             ],
             [
              0.3333333333333333,
              "#9c179e"
             ],
             [
              0.4444444444444444,
              "#bd3786"
             ],
             [
              0.5555555555555556,
              "#d8576b"
             ],
             [
              0.6666666666666666,
              "#ed7953"
             ],
             [
              0.7777777777777778,
              "#fb9f3a"
             ],
             [
              0.8888888888888888,
              "#fdca26"
             ],
             [
              1,
              "#f0f921"
             ]
            ],
            "type": "heatmapgl"
           }
          ],
          "histogram": [
           {
            "marker": {
             "pattern": {
              "fillmode": "overlay",
              "size": 10,
              "solidity": 0.2
             }
            },
            "type": "histogram"
           }
          ],
          "histogram2d": [
           {
            "colorbar": {
             "outlinewidth": 0,
             "ticks": ""
            },
            "colorscale": [
             [
              0,
              "#0d0887"
             ],
             [
              0.1111111111111111,
              "#46039f"
             ],
             [
              0.2222222222222222,
              "#7201a8"
             ],
             [
              0.3333333333333333,
              "#9c179e"
             ],
             [
              0.4444444444444444,
              "#bd3786"
             ],
             [
              0.5555555555555556,
              "#d8576b"
             ],
             [
              0.6666666666666666,
              "#ed7953"
             ],
             [
              0.7777777777777778,
              "#fb9f3a"
             ],
             [
              0.8888888888888888,
              "#fdca26"
             ],
             [
              1,
              "#f0f921"
             ]
            ],
            "type": "histogram2d"
           }
          ],
          "histogram2dcontour": [
           {
            "colorbar": {
             "outlinewidth": 0,
             "ticks": ""
            },
            "colorscale": [
             [
              0,
              "#0d0887"
             ],
             [
              0.1111111111111111,
              "#46039f"
             ],
             [
              0.2222222222222222,
              "#7201a8"
             ],
             [
              0.3333333333333333,
              "#9c179e"
             ],
             [
              0.4444444444444444,
              "#bd3786"
             ],
             [
              0.5555555555555556,
              "#d8576b"
             ],
             [
              0.6666666666666666,
              "#ed7953"
             ],
             [
              0.7777777777777778,
              "#fb9f3a"
             ],
             [
              0.8888888888888888,
              "#fdca26"
             ],
             [
              1,
              "#f0f921"
             ]
            ],
            "type": "histogram2dcontour"
           }
          ],
          "mesh3d": [
           {
            "colorbar": {
             "outlinewidth": 0,
             "ticks": ""
            },
            "type": "mesh3d"
           }
          ],
          "parcoords": [
           {
            "line": {
             "colorbar": {
              "outlinewidth": 0,
              "ticks": ""
             }
            },
            "type": "parcoords"
           }
          ],
          "pie": [
           {
            "automargin": true,
            "type": "pie"
           }
          ],
          "scatter": [
           {
            "fillpattern": {
             "fillmode": "overlay",
             "size": 10,
             "solidity": 0.2
            },
            "type": "scatter"
           }
          ],
          "scatter3d": [
           {
            "line": {
             "colorbar": {
              "outlinewidth": 0,
              "ticks": ""
             }
            },
            "marker": {
             "colorbar": {
              "outlinewidth": 0,
              "ticks": ""
             }
            },
            "type": "scatter3d"
           }
          ],
          "scattercarpet": [
           {
            "marker": {
             "colorbar": {
              "outlinewidth": 0,
              "ticks": ""
             }
            },
            "type": "scattercarpet"
           }
          ],
          "scattergeo": [
           {
            "marker": {
             "colorbar": {
              "outlinewidth": 0,
              "ticks": ""
             }
            },
            "type": "scattergeo"
           }
          ],
          "scattergl": [
           {
            "marker": {
             "colorbar": {
              "outlinewidth": 0,
              "ticks": ""
             }
            },
            "type": "scattergl"
           }
          ],
          "scattermapbox": [
           {
            "marker": {
             "colorbar": {
              "outlinewidth": 0,
              "ticks": ""
             }
            },
            "type": "scattermapbox"
           }
          ],
          "scatterpolar": [
           {
            "marker": {
             "colorbar": {
              "outlinewidth": 0,
              "ticks": ""
             }
            },
            "type": "scatterpolar"
           }
          ],
          "scatterpolargl": [
           {
            "marker": {
             "colorbar": {
              "outlinewidth": 0,
              "ticks": ""
             }
            },
            "type": "scatterpolargl"
           }
          ],
          "scatterternary": [
           {
            "marker": {
             "colorbar": {
              "outlinewidth": 0,
              "ticks": ""
             }
            },
            "type": "scatterternary"
           }
          ],
          "surface": [
           {
            "colorbar": {
             "outlinewidth": 0,
             "ticks": ""
            },
            "colorscale": [
             [
              0,
              "#0d0887"
             ],
             [
              0.1111111111111111,
              "#46039f"
             ],
             [
              0.2222222222222222,
              "#7201a8"
             ],
             [
              0.3333333333333333,
              "#9c179e"
             ],
             [
              0.4444444444444444,
              "#bd3786"
             ],
             [
              0.5555555555555556,
              "#d8576b"
             ],
             [
              0.6666666666666666,
              "#ed7953"
             ],
             [
              0.7777777777777778,
              "#fb9f3a"
             ],
             [
              0.8888888888888888,
              "#fdca26"
             ],
             [
              1,
              "#f0f921"
             ]
            ],
            "type": "surface"
           }
          ],
          "table": [
           {
            "cells": {
             "fill": {
              "color": "#EBF0F8"
             },
             "line": {
              "color": "white"
             }
            },
            "header": {
             "fill": {
              "color": "#C8D4E3"
             },
             "line": {
              "color": "white"
             }
            },
            "type": "table"
           }
          ]
         },
         "layout": {
          "annotationdefaults": {
           "arrowcolor": "#2a3f5f",
           "arrowhead": 0,
           "arrowwidth": 1
          },
          "autotypenumbers": "strict",
          "coloraxis": {
           "colorbar": {
            "outlinewidth": 0,
            "ticks": ""
           }
          },
          "colorscale": {
           "diverging": [
            [
             0,
             "#8e0152"
            ],
            [
             0.1,
             "#c51b7d"
            ],
            [
             0.2,
             "#de77ae"
            ],
            [
             0.3,
             "#f1b6da"
            ],
            [
             0.4,
             "#fde0ef"
            ],
            [
             0.5,
             "#f7f7f7"
            ],
            [
             0.6,
             "#e6f5d0"
            ],
            [
             0.7,
             "#b8e186"
            ],
            [
             0.8,
             "#7fbc41"
            ],
            [
             0.9,
             "#4d9221"
            ],
            [
             1,
             "#276419"
            ]
           ],
           "sequential": [
            [
             0,
             "#0d0887"
            ],
            [
             0.1111111111111111,
             "#46039f"
            ],
            [
             0.2222222222222222,
             "#7201a8"
            ],
            [
             0.3333333333333333,
             "#9c179e"
            ],
            [
             0.4444444444444444,
             "#bd3786"
            ],
            [
             0.5555555555555556,
             "#d8576b"
            ],
            [
             0.6666666666666666,
             "#ed7953"
            ],
            [
             0.7777777777777778,
             "#fb9f3a"
            ],
            [
             0.8888888888888888,
             "#fdca26"
            ],
            [
             1,
             "#f0f921"
            ]
           ],
           "sequentialminus": [
            [
             0,
             "#0d0887"
            ],
            [
             0.1111111111111111,
             "#46039f"
            ],
            [
             0.2222222222222222,
             "#7201a8"
            ],
            [
             0.3333333333333333,
             "#9c179e"
            ],
            [
             0.4444444444444444,
             "#bd3786"
            ],
            [
             0.5555555555555556,
             "#d8576b"
            ],
            [
             0.6666666666666666,
             "#ed7953"
            ],
            [
             0.7777777777777778,
             "#fb9f3a"
            ],
            [
             0.8888888888888888,
             "#fdca26"
            ],
            [
             1,
             "#f0f921"
            ]
           ]
          },
          "colorway": [
           "#636efa",
           "#EF553B",
           "#00cc96",
           "#ab63fa",
           "#FFA15A",
           "#19d3f3",
           "#FF6692",
           "#B6E880",
           "#FF97FF",
           "#FECB52"
          ],
          "font": {
           "color": "#2a3f5f"
          },
          "geo": {
           "bgcolor": "white",
           "lakecolor": "white",
           "landcolor": "#E5ECF6",
           "showlakes": true,
           "showland": true,
           "subunitcolor": "white"
          },
          "hoverlabel": {
           "align": "left"
          },
          "hovermode": "closest",
          "mapbox": {
           "style": "light"
          },
          "paper_bgcolor": "#E0F7FA",
          "plot_bgcolor": "rgba(0, 0, 0, 0)",
          "polar": {
           "angularaxis": {
            "gridcolor": "white",
            "linecolor": "white",
            "ticks": ""
           },
           "bgcolor": "#E5ECF6",
           "radialaxis": {
            "gridcolor": "white",
            "linecolor": "white",
            "ticks": ""
           }
          },
          "scene": {
           "xaxis": {
            "backgroundcolor": "#E5ECF6",
            "gridcolor": "white",
            "gridwidth": 2,
            "linecolor": "white",
            "showbackground": true,
            "ticks": "",
            "zerolinecolor": "white"
           },
           "yaxis": {
            "backgroundcolor": "#E5ECF6",
            "gridcolor": "white",
            "gridwidth": 2,
            "linecolor": "white",
            "showbackground": true,
            "ticks": "",
            "zerolinecolor": "white"
           },
           "zaxis": {
            "backgroundcolor": "#E5ECF6",
            "gridcolor": "white",
            "gridwidth": 2,
            "linecolor": "white",
            "showbackground": true,
            "ticks": "",
            "zerolinecolor": "white"
           }
          },
          "shapedefaults": {
           "line": {
            "color": "#2a3f5f"
           }
          },
          "ternary": {
           "aaxis": {
            "gridcolor": "white",
            "linecolor": "white",
            "ticks": ""
           },
           "baxis": {
            "gridcolor": "white",
            "linecolor": "white",
            "ticks": ""
           },
           "bgcolor": "#E5ECF6",
           "caxis": {
            "gridcolor": "white",
            "linecolor": "white",
            "ticks": ""
           }
          },
          "title": {
           "x": 0.05
          },
          "xaxis": {
           "automargin": true,
           "gridcolor": "white",
           "linecolor": "white",
           "ticks": "",
           "title": {
            "standoff": 15
           },
           "zerolinecolor": "white",
           "zerolinewidth": 2
          },
          "yaxis": {
           "automargin": true,
           "gridcolor": "white",
           "linecolor": "white",
           "ticks": "",
           "title": {
            "standoff": 15
           },
           "zerolinecolor": "white",
           "zerolinewidth": 2
          }
         }
        },
        "title": {
         "text": "Greenspace Area and Happiness Score by City"
        }
       }
      }
     },
     "metadata": {},
     "output_type": "display_data"
    }
   ],
   "source": [
    "renamed_train_df = train_df.rename(columns={'City': 'city'})\n",
    "\n",
    "merged_latlong_train = pd.merge(cities_df, renamed_train_df, on='city')\n",
    "\n",
    "df_to_use = merged_latlong_train.dropna(subset=['lat', 'lng', 'Green_Space_Area'])\n",
    "\n",
    "df_to_use['Happiness_Score'] = pd.to_numeric(df_to_use['Happiness_Score'])\n",
    "\n",
    "filtered_df_to_use = df_to_use[df_to_use['Happiness_Score'] > -10]\n",
    "filtered_df_to_use = filtered_df_to_use[filtered_df_to_use['city'].isin(european_cities)]\n",
    "filtered_df_to_use = filtered_df_to_use[filtered_df_to_use['lng'] > -10]\n",
    "\n",
    "fig_map = px.scatter_mapbox(\n",
    "    filtered_df_to_use,\n",
    "    lat='lat',\n",
    "    lon='lng',\n",
    "    hover_name='city',\n",
    "    hover_data={'Green_Space_Area': True, 'Happiness_Score': True},\n",
    "    size='Green_Space_Area',\n",
    "    color='Happiness_Score',\n",
    "    labels={'Happiness_Score': 'Happiness Score'},\n",
    "    color_continuous_scale=px.colors.sequential.Plotly3,\n",
    "    title='Greenspace Area and Happiness Score by City',\n",
    "    zoom=1,\n",
    "    \n",
    ")\n",
    "\n",
    "fig_map.update_layout(\n",
    "    mapbox_style=\"open-street-map\",\n",
    "    mapbox_zoom=2.3,\n",
    "    margin={\"t\":40, \"l\":10,\"b\":40}\n",
    ")\n",
    "\n",
    "fig_map.add_annotation(\n",
    "                    x=0, y=-0.07,\n",
    "                    xref='paper',\n",
    "                    yref='paper',\n",
    "                    showarrow=False,\n",
    "                    xanchor='left',\n",
    "                    yanchor='bottom',\n",
    "                    align='left',\n",
    "                    text='The size of the bubble corresponds to the Greenspace area of that city', \n",
    ")\n",
    "\n",
    "fig_map.show()"
   ]
  },
  {
   "cell_type": "markdown",
   "metadata": {
    "tags": [
     "remove_input"
    ]
   },
   "source": [
    "In the graph above you can clearly see a correlation between higher happiness scores and greater access to greenspaces. Cities like Copenhagen, Stockholm, Oslo, and Helsinki, known for abundant greenspaces (displayed by the sizes of the dots), display pink dots and score between 8 to 8.5. This suggests that greenspaces contribute positively to residents' well-being. This correlation underscores the importance of integrating greenspaces into urban planning to enhance the overall quality of life in cities in Europe. It highlights the role of environmental policy in promoting happier urban environments where residents can thrive."
   ]
  },
  {
   "cell_type": "markdown",
   "metadata": {
    "tags": [
     "remove_input"
    ]
   },
   "source": [
    "In environmentally friendly countries, air quality tends to be higher due to several factors. These countries implement strict environmental regulations that control emissions from industrial activities, vehicles, and other pollution sources, reducing the levels of harmful pollutants in the air. The usage of clean energy sources such as wind, solar, and hydroelectric power minimizes reliance on fossil fuels, thereby lowering emissions of pollutants. Additionally, sustainable transportation options, including electric vehicles, public transportation, cycling, and walking, are promoted, reducing the number of traditional gasoline and diesel vehicles on the road. For these reasons, we chose to include air quality in our data story."
   ]
  },
  {
   "cell_type": "code",
   "execution_count": 18,
   "metadata": {
    "tags": [
     "remove_input"
    ]
   },
   "outputs": [
    {
     "data": {
      "application/vnd.plotly.v1+json": {
       "config": {
        "plotlyServerURL": "https://plot.ly"
       },
       "data": [
        {
         "marker": {
          "color": "#F280F7"
         },
         "name": "Happiness Score",
         "offsetgroup": "1",
         "type": "bar",
         "x": [
          "London",
          "Paris",
          "Berlin",
          "Amsterdam",
          "Barcelona",
          "Lisbon",
          "Rome",
          "Athens",
          "Vienna",
          "Dublin",
          "Copenhagen",
          "Stockholm",
          "Oslo",
          "Helsinki",
          "Prague",
          "Budapest",
          "Warsaw",
          "Sofia",
          "Belgrade"
         ],
         "y": [
          7.2,
          6.9,
          7.5,
          7.9,
          7.7,
          7.8,
          6.7,
          6.2,
          8.2,
          7,
          8.3,
          8,
          8.5,
          8.4,
          7.3,
          6.8,
          6.7,
          6,
          5.5
         ],
         "yaxis": "y"
        },
        {
         "marker": {
          "color": "#4c75eb"
         },
         "name": "Air Quality Index",
         "offsetgroup": "2",
         "type": "bar",
         "x": [
          "London",
          "Paris",
          "Berlin",
          "Amsterdam",
          "Barcelona",
          "Lisbon",
          "Rome",
          "Athens",
          "Vienna",
          "Dublin",
          "Copenhagen",
          "Stockholm",
          "Oslo",
          "Helsinki",
          "Prague",
          "Budapest",
          "Warsaw",
          "Sofia",
          "Belgrade"
         ],
         "y": [
          40,
          35,
          65,
          50,
          65,
          60,
          30,
          25,
          70,
          60,
          65,
          70,
          75,
          80,
          35,
          30,
          25,
          20,
          15
         ],
         "yaxis": "y2"
        }
       ],
       "layout": {
        "barmode": "group",
        "template": {
         "data": {
          "bar": [
           {
            "error_x": {
             "color": "#2a3f5f"
            },
            "error_y": {
             "color": "#2a3f5f"
            },
            "marker": {
             "line": {
              "color": "#E5ECF6",
              "width": 0
             },
             "pattern": {
              "fillmode": "overlay",
              "size": 10,
              "solidity": 0.2
             }
            },
            "type": "bar"
           }
          ],
          "barpolar": [
           {
            "marker": {
             "line": {
              "color": "#E5ECF6",
              "width": 0.5
             },
             "pattern": {
              "fillmode": "overlay",
              "size": 10,
              "solidity": 0.2
             }
            },
            "type": "barpolar"
           }
          ],
          "carpet": [
           {
            "aaxis": {
             "endlinecolor": "#2a3f5f",
             "gridcolor": "white",
             "linecolor": "white",
             "minorgridcolor": "white",
             "startlinecolor": "#2a3f5f"
            },
            "baxis": {
             "endlinecolor": "#2a3f5f",
             "gridcolor": "white",
             "linecolor": "white",
             "minorgridcolor": "white",
             "startlinecolor": "#2a3f5f"
            },
            "type": "carpet"
           }
          ],
          "choropleth": [
           {
            "colorbar": {
             "outlinewidth": 0,
             "ticks": ""
            },
            "type": "choropleth"
           }
          ],
          "contour": [
           {
            "colorbar": {
             "outlinewidth": 0,
             "ticks": ""
            },
            "colorscale": [
             [
              0,
              "#0d0887"
             ],
             [
              0.1111111111111111,
              "#46039f"
             ],
             [
              0.2222222222222222,
              "#7201a8"
             ],
             [
              0.3333333333333333,
              "#9c179e"
             ],
             [
              0.4444444444444444,
              "#bd3786"
             ],
             [
              0.5555555555555556,
              "#d8576b"
             ],
             [
              0.6666666666666666,
              "#ed7953"
             ],
             [
              0.7777777777777778,
              "#fb9f3a"
             ],
             [
              0.8888888888888888,
              "#fdca26"
             ],
             [
              1,
              "#f0f921"
             ]
            ],
            "type": "contour"
           }
          ],
          "contourcarpet": [
           {
            "colorbar": {
             "outlinewidth": 0,
             "ticks": ""
            },
            "type": "contourcarpet"
           }
          ],
          "heatmap": [
           {
            "colorbar": {
             "outlinewidth": 0,
             "ticks": ""
            },
            "colorscale": [
             [
              0,
              "#0d0887"
             ],
             [
              0.1111111111111111,
              "#46039f"
             ],
             [
              0.2222222222222222,
              "#7201a8"
             ],
             [
              0.3333333333333333,
              "#9c179e"
             ],
             [
              0.4444444444444444,
              "#bd3786"
             ],
             [
              0.5555555555555556,
              "#d8576b"
             ],
             [
              0.6666666666666666,
              "#ed7953"
             ],
             [
              0.7777777777777778,
              "#fb9f3a"
             ],
             [
              0.8888888888888888,
              "#fdca26"
             ],
             [
              1,
              "#f0f921"
             ]
            ],
            "type": "heatmap"
           }
          ],
          "heatmapgl": [
           {
            "colorbar": {
             "outlinewidth": 0,
             "ticks": ""
            },
            "colorscale": [
             [
              0,
              "#0d0887"
             ],
             [
              0.1111111111111111,
              "#46039f"
             ],
             [
              0.2222222222222222,
              "#7201a8"
             ],
             [
              0.3333333333333333,
              "#9c179e"
             ],
             [
              0.4444444444444444,
              "#bd3786"
             ],
             [
              0.5555555555555556,
              "#d8576b"
             ],
             [
              0.6666666666666666,
              "#ed7953"
             ],
             [
              0.7777777777777778,
              "#fb9f3a"
             ],
             [
              0.8888888888888888,
              "#fdca26"
             ],
             [
              1,
              "#f0f921"
             ]
            ],
            "type": "heatmapgl"
           }
          ],
          "histogram": [
           {
            "marker": {
             "pattern": {
              "fillmode": "overlay",
              "size": 10,
              "solidity": 0.2
             }
            },
            "type": "histogram"
           }
          ],
          "histogram2d": [
           {
            "colorbar": {
             "outlinewidth": 0,
             "ticks": ""
            },
            "colorscale": [
             [
              0,
              "#0d0887"
             ],
             [
              0.1111111111111111,
              "#46039f"
             ],
             [
              0.2222222222222222,
              "#7201a8"
             ],
             [
              0.3333333333333333,
              "#9c179e"
             ],
             [
              0.4444444444444444,
              "#bd3786"
             ],
             [
              0.5555555555555556,
              "#d8576b"
             ],
             [
              0.6666666666666666,
              "#ed7953"
             ],
             [
              0.7777777777777778,
              "#fb9f3a"
             ],
             [
              0.8888888888888888,
              "#fdca26"
             ],
             [
              1,
              "#f0f921"
             ]
            ],
            "type": "histogram2d"
           }
          ],
          "histogram2dcontour": [
           {
            "colorbar": {
             "outlinewidth": 0,
             "ticks": ""
            },
            "colorscale": [
             [
              0,
              "#0d0887"
             ],
             [
              0.1111111111111111,
              "#46039f"
             ],
             [
              0.2222222222222222,
              "#7201a8"
             ],
             [
              0.3333333333333333,
              "#9c179e"
             ],
             [
              0.4444444444444444,
              "#bd3786"
             ],
             [
              0.5555555555555556,
              "#d8576b"
             ],
             [
              0.6666666666666666,
              "#ed7953"
             ],
             [
              0.7777777777777778,
              "#fb9f3a"
             ],
             [
              0.8888888888888888,
              "#fdca26"
             ],
             [
              1,
              "#f0f921"
             ]
            ],
            "type": "histogram2dcontour"
           }
          ],
          "mesh3d": [
           {
            "colorbar": {
             "outlinewidth": 0,
             "ticks": ""
            },
            "type": "mesh3d"
           }
          ],
          "parcoords": [
           {
            "line": {
             "colorbar": {
              "outlinewidth": 0,
              "ticks": ""
             }
            },
            "type": "parcoords"
           }
          ],
          "pie": [
           {
            "automargin": true,
            "type": "pie"
           }
          ],
          "scatter": [
           {
            "fillpattern": {
             "fillmode": "overlay",
             "size": 10,
             "solidity": 0.2
            },
            "type": "scatter"
           }
          ],
          "scatter3d": [
           {
            "line": {
             "colorbar": {
              "outlinewidth": 0,
              "ticks": ""
             }
            },
            "marker": {
             "colorbar": {
              "outlinewidth": 0,
              "ticks": ""
             }
            },
            "type": "scatter3d"
           }
          ],
          "scattercarpet": [
           {
            "marker": {
             "colorbar": {
              "outlinewidth": 0,
              "ticks": ""
             }
            },
            "type": "scattercarpet"
           }
          ],
          "scattergeo": [
           {
            "marker": {
             "colorbar": {
              "outlinewidth": 0,
              "ticks": ""
             }
            },
            "type": "scattergeo"
           }
          ],
          "scattergl": [
           {
            "marker": {
             "colorbar": {
              "outlinewidth": 0,
              "ticks": ""
             }
            },
            "type": "scattergl"
           }
          ],
          "scattermapbox": [
           {
            "marker": {
             "colorbar": {
              "outlinewidth": 0,
              "ticks": ""
             }
            },
            "type": "scattermapbox"
           }
          ],
          "scatterpolar": [
           {
            "marker": {
             "colorbar": {
              "outlinewidth": 0,
              "ticks": ""
             }
            },
            "type": "scatterpolar"
           }
          ],
          "scatterpolargl": [
           {
            "marker": {
             "colorbar": {
              "outlinewidth": 0,
              "ticks": ""
             }
            },
            "type": "scatterpolargl"
           }
          ],
          "scatterternary": [
           {
            "marker": {
             "colorbar": {
              "outlinewidth": 0,
              "ticks": ""
             }
            },
            "type": "scatterternary"
           }
          ],
          "surface": [
           {
            "colorbar": {
             "outlinewidth": 0,
             "ticks": ""
            },
            "colorscale": [
             [
              0,
              "#0d0887"
             ],
             [
              0.1111111111111111,
              "#46039f"
             ],
             [
              0.2222222222222222,
              "#7201a8"
             ],
             [
              0.3333333333333333,
              "#9c179e"
             ],
             [
              0.4444444444444444,
              "#bd3786"
             ],
             [
              0.5555555555555556,
              "#d8576b"
             ],
             [
              0.6666666666666666,
              "#ed7953"
             ],
             [
              0.7777777777777778,
              "#fb9f3a"
             ],
             [
              0.8888888888888888,
              "#fdca26"
             ],
             [
              1,
              "#f0f921"
             ]
            ],
            "type": "surface"
           }
          ],
          "table": [
           {
            "cells": {
             "fill": {
              "color": "#EBF0F8"
             },
             "line": {
              "color": "white"
             }
            },
            "header": {
             "fill": {
              "color": "#C8D4E3"
             },
             "line": {
              "color": "white"
             }
            },
            "type": "table"
           }
          ]
         },
         "layout": {
          "annotationdefaults": {
           "arrowcolor": "#2a3f5f",
           "arrowhead": 0,
           "arrowwidth": 1
          },
          "autotypenumbers": "strict",
          "coloraxis": {
           "colorbar": {
            "outlinewidth": 0,
            "ticks": ""
           }
          },
          "colorscale": {
           "diverging": [
            [
             0,
             "#8e0152"
            ],
            [
             0.1,
             "#c51b7d"
            ],
            [
             0.2,
             "#de77ae"
            ],
            [
             0.3,
             "#f1b6da"
            ],
            [
             0.4,
             "#fde0ef"
            ],
            [
             0.5,
             "#f7f7f7"
            ],
            [
             0.6,
             "#e6f5d0"
            ],
            [
             0.7,
             "#b8e186"
            ],
            [
             0.8,
             "#7fbc41"
            ],
            [
             0.9,
             "#4d9221"
            ],
            [
             1,
             "#276419"
            ]
           ],
           "sequential": [
            [
             0,
             "#0d0887"
            ],
            [
             0.1111111111111111,
             "#46039f"
            ],
            [
             0.2222222222222222,
             "#7201a8"
            ],
            [
             0.3333333333333333,
             "#9c179e"
            ],
            [
             0.4444444444444444,
             "#bd3786"
            ],
            [
             0.5555555555555556,
             "#d8576b"
            ],
            [
             0.6666666666666666,
             "#ed7953"
            ],
            [
             0.7777777777777778,
             "#fb9f3a"
            ],
            [
             0.8888888888888888,
             "#fdca26"
            ],
            [
             1,
             "#f0f921"
            ]
           ],
           "sequentialminus": [
            [
             0,
             "#0d0887"
            ],
            [
             0.1111111111111111,
             "#46039f"
            ],
            [
             0.2222222222222222,
             "#7201a8"
            ],
            [
             0.3333333333333333,
             "#9c179e"
            ],
            [
             0.4444444444444444,
             "#bd3786"
            ],
            [
             0.5555555555555556,
             "#d8576b"
            ],
            [
             0.6666666666666666,
             "#ed7953"
            ],
            [
             0.7777777777777778,
             "#fb9f3a"
            ],
            [
             0.8888888888888888,
             "#fdca26"
            ],
            [
             1,
             "#f0f921"
            ]
           ]
          },
          "colorway": [
           "#636efa",
           "#EF553B",
           "#00cc96",
           "#ab63fa",
           "#FFA15A",
           "#19d3f3",
           "#FF6692",
           "#B6E880",
           "#FF97FF",
           "#FECB52"
          ],
          "font": {
           "color": "#2a3f5f"
          },
          "geo": {
           "bgcolor": "white",
           "lakecolor": "white",
           "landcolor": "#E5ECF6",
           "showlakes": true,
           "showland": true,
           "subunitcolor": "white"
          },
          "hoverlabel": {
           "align": "left"
          },
          "hovermode": "closest",
          "mapbox": {
           "style": "light"
          },
          "paper_bgcolor": "#E0F7FA",
          "plot_bgcolor": "rgba(0, 0, 0, 0)",
          "polar": {
           "angularaxis": {
            "gridcolor": "white",
            "linecolor": "white",
            "ticks": ""
           },
           "bgcolor": "#E5ECF6",
           "radialaxis": {
            "gridcolor": "white",
            "linecolor": "white",
            "ticks": ""
           }
          },
          "scene": {
           "xaxis": {
            "backgroundcolor": "#E5ECF6",
            "gridcolor": "white",
            "gridwidth": 2,
            "linecolor": "white",
            "showbackground": true,
            "ticks": "",
            "zerolinecolor": "white"
           },
           "yaxis": {
            "backgroundcolor": "#E5ECF6",
            "gridcolor": "white",
            "gridwidth": 2,
            "linecolor": "white",
            "showbackground": true,
            "ticks": "",
            "zerolinecolor": "white"
           },
           "zaxis": {
            "backgroundcolor": "#E5ECF6",
            "gridcolor": "white",
            "gridwidth": 2,
            "linecolor": "white",
            "showbackground": true,
            "ticks": "",
            "zerolinecolor": "white"
           }
          },
          "shapedefaults": {
           "line": {
            "color": "#2a3f5f"
           }
          },
          "ternary": {
           "aaxis": {
            "gridcolor": "white",
            "linecolor": "white",
            "ticks": ""
           },
           "baxis": {
            "gridcolor": "white",
            "linecolor": "white",
            "ticks": ""
           },
           "bgcolor": "#E5ECF6",
           "caxis": {
            "gridcolor": "white",
            "linecolor": "white",
            "ticks": ""
           }
          },
          "title": {
           "x": 0.05
          },
          "xaxis": {
           "automargin": true,
           "gridcolor": "white",
           "linecolor": "white",
           "ticks": "",
           "title": {
            "standoff": 15
           },
           "zerolinecolor": "white",
           "zerolinewidth": 2
          },
          "yaxis": {
           "automargin": true,
           "gridcolor": "white",
           "linecolor": "white",
           "ticks": "",
           "title": {
            "standoff": 15
           },
           "zerolinecolor": "white",
           "zerolinewidth": 2
          }
         }
        },
        "title": {
         "text": "Happiness Score and Air Quality Index by City"
        },
        "xaxis": {
         "title": {
          "text": "City"
         }
        },
        "yaxis": {
         "range": [
          2,
          8.5
         ],
         "tickfont": {
          "color": "#F280F7"
         },
         "title": {
          "font": {
           "color": "#F280F7"
          },
          "text": "Happiness Score"
         }
        },
        "yaxis2": {
         "overlaying": "y",
         "showgrid": false,
         "side": "right",
         "tickfont": {
          "color": "#4c75eb"
         },
         "title": {
          "font": {
           "color": "#4c75eb"
          },
          "text": "Air Quality Index"
         }
        }
       }
      }
     },
     "metadata": {},
     "output_type": "display_data"
    }
   ],
   "source": [
    "train_europe_df = train_df[train_df['City'].isin(european_cities)]\n",
    "\n",
    "cities = train_europe_df['City']\n",
    "air_quality_index = train_europe_df['Air_Quality_Index']\n",
    "happiness_score = train_europe_df['Happiness_Score']\n",
    "\n",
    "# Create traces for the bar chart\n",
    "trace1 = go.Bar(\n",
    "    x=cities,\n",
    "    y=happiness_score,\n",
    "    name='Happiness Score',\n",
    "    yaxis='y1',\n",
    "    offsetgroup=1,\n",
    "    marker=dict(color='#F280F7')\n",
    ")\n",
    "\n",
    "trace2 = go.Bar(\n",
    "    x=cities,\n",
    "    y=(100 - air_quality_index),\n",
    "    name='Air Quality Index',\n",
    "    yaxis='y2',\n",
    "    offsetgroup=2,\n",
    "    marker=dict(color='#4c75eb')\n",
    ")\n",
    "\n",
    "# Create the layout with two y-axes\n",
    "layout = go.Layout(\n",
    "    title='Happiness Score and Air Quality Index by City',\n",
    "    yaxis=dict(\n",
    "        title='Happiness Score',\n",
    "        titlefont=dict(color='#F280F7'),\n",
    "        tickfont=dict(color='#F280F7'),\n",
    "        range=[2, max(happiness_score)]\n",
    "    ),\n",
    "    yaxis2=dict(\n",
    "        title='Air Quality Index',\n",
    "        titlefont=dict(color='#4c75eb'),\n",
    "        tickfont=dict(color='#4c75eb'),\n",
    "        overlaying='y',\n",
    "        side='right',\n",
    "        showgrid=False,\n",
    "    ),\n",
    "    xaxis=dict(\n",
    "        title='City'\n",
    "    ),\n",
    "    barmode='group'\n",
    ")\n",
    "\n",
    "# Create the figure\n",
    "fig = go.Figure(data=[trace1, trace2], layout=layout)\n",
    "\n",
    "# Show the plot\n",
    "fig.show()"
   ]
  },
  {
   "cell_type": "markdown",
   "metadata": {
    "tags": [
     "remove_input"
    ]
   },
   "source": [
    "People in cities that have better air quality tend to be a lot happier, as can be seen in the given graph. The correlation between high air quality and elevated happiness levels suggests that living in a clean, healthy environment significantly contributes to overall well-being. The positive impact of high air quality extends beyond physical health to mental well-being and overall life satisfaction. Clean air reduces the risk of contracting health problems including cardiovascular diseases. This contributes to a higher quality of life and increased happiness."
   ]
  },
  {
   "cell_type": "code",
   "execution_count": 20,
   "metadata": {
    "tags": [
     "remove_input"
    ]
   },
   "outputs": [
    {
     "name": "stderr",
     "output_type": "stream",
     "text": [
      "/var/folders/ct/jf_08df550xfjwz0vgn47cz80000gn/T/ipykernel_18737/1391338323.py:9: SettingWithCopyWarning:\n",
      "\n",
      "\n",
      "A value is trying to be set on a copy of a slice from a DataFrame\n",
      "\n",
      "See the caveats in the documentation: https://pandas.pydata.org/pandas-docs/stable/user_guide/indexing.html#returning-a-view-versus-a-copy\n",
      "\n"
     ]
    },
    {
     "data": {
      "image/png": "[encoded data removed]",
      "text/plain": [
       "<Figure size 1800x800 with 2 Axes>"
      ]
     },
     "metadata": {},
     "output_type": "display_data"
    }
   ],
   "source": [
    "merged_train_healthy_lifestyle_df = pd.merge(train_df, healthy_lifestyle_df, on='City')\n",
    "\n",
    "merged_train_healthy_lifestyle_filtered_df = merged_train_healthy_lifestyle_df[merged_train_healthy_lifestyle_df['City'].isin(european_cities)]\n",
    "\n",
    "fig, axes = plt.subplots(ncols=2, sharey=True, figsize=(18, 8))\n",
    "\n",
    "sns.set_theme(rc={'axes.facecolor': '#E0F7FA', 'figure.facecolor': '#E0F7FA'})\n",
    "\n",
    "merged_train_healthy_lifestyle_filtered_df.sort_values(by='Pollution(Index score) (City)', ascending=False, inplace=True)\n",
    "\n",
    "sns.barplot(x=pd.to_numeric(merged_train_healthy_lifestyle_filtered_df['Pollution(Index score) (City)']), y='City', data=merged_train_healthy_lifestyle_filtered_df, ax=axes[0], color='#4c75eb')\n",
    "sns.barplot(x=pd.to_numeric(merged_train_healthy_lifestyle_filtered_df['Happiness_Score']), y='City', data=merged_train_healthy_lifestyle_filtered_df, ax=axes[1], color='#F280F7')\n",
    "\n",
    "axes[0].set(title='Pollution')\n",
    "axes[0].set_xlabel('Pollution Index Score')\n",
    "axes[1].set(title='Happiness')\n",
    "axes[1].set_xlabel('Happiness Score')\n",
    "\n",
    "axes[0].invert_xaxis()\n",
    "axes[0].yaxis.tick_right()\n",
    "\n",
    "axes[1].yaxis.tick_left()\n",
    "\n",
    "axes[1].set_xlim(5, 9)\n",
    "axes[1].set_xticks(range(5, 10, 1))\n",
    "\n",
    "fig.tight_layout()\n",
    "fig.subplots_adjust(wspace=0.13)\n",
    "\n",
    "fig.set_facecolor('#E0F7FA')\n",
    "\n",
    "plt.show()"
   ]
  },
  {
   "cell_type": "markdown",
   "metadata": {
    "tags": [
     "remove_input"
    ]
   },
   "source": [
    "## Summary\n",
    "Cities today are located at the core of quality of life. The two most central influences that this study explored are economic factors and the sustainability of cities. We conducted detailed data analyses for a number of conflicting factors related to the well-being of urban residents. Graphs on safety vs. economic conditions, healthcare vs. economic conditions, education scores vs. economic conditions. Furthermore, we probe how pollution goes with happiness, and green space area vs. happiness provided standards within these complex relationships.\n",
    "Our results show that well-being is economically linked to income levels and the availability of jobs, but sustainability features—like air quality and green spaces—are very prominent. There are, however, significant discrepancies between cities that point out potentials for improvements that will require targeted policies. Further research effort is needed with enlarged data sets to understand comprehensively the dynamics of these drivers and how to set up strategies for improving livability in cities and fostering sustainable development.\n",
    "\n",
    "## References\n",
    "1. Xu, J., Liu, N., Polemiti, E., Garcia-Mondragon, L., Tang, J., Liu, X., Lett, T., Yu, L., Nöthen, M. M., Feng, J., Yu, C., Marquand, A., Schumann, G., Walter, H., Heinz, A., Ralser, M., Twardziok, S., Vaidya, N., Serin, E., . . . Ogoh, G. (2023). Effects of urban living environments on mental health in adults. Nature Medicine, 29(6), 1456–1467. https://doi.org/10.1038/s41591-023-02365-w\n",
    "\n",
    "2. Livingston, V., Jackson-Nevels, B., & Reddy, V. V. (2022). Social, cultural, and economic determinants of Well-Being. Encyclopedia, 2(3), 1183–1199. https://doi.org/10.3390/encyclopedia2030079   \n",
    "\t\t\t\t\t\t\t\t\t\t\t\t\t\t\t\t\t\t \n",
    "3. City Happiness Index - 2024. (2024, January 22). Kaggle. https://www.kaggle.com/datasets/emirhanai/city-happiness-index-2024\n"
   ]
  }
 ],
 "metadata": {
  "kernelspec": {
   "display_name": "jupyterbook",
   "language": "python",
   "name": "python3"
  },
  "language_info": {
   "codemirror_mode": {
    "name": "ipython",
    "version": 3
   },
   "file_extension": ".py",
   "mimetype": "text/x-python",
   "name": "python",
   "nbconvert_exporter": "python",
   "pygments_lexer": "ipython3",
   "version": "3.10.13"
  }
 },
 "nbformat": 4,
 "nbformat_minor": 2
}
